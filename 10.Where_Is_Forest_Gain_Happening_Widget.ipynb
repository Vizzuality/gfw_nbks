{
 "cells": [
  {
   "cell_type": "markdown",
   "metadata": {},
   "source": [
    "# \"Where is Forest Gain Happening?\" Widget\n",
    "\n",
    "This widget is a mix of a donut chart and a ranked list, similar to the previous extent ranking widget. It shows tree cover gain by admin region. On hover the pie chart segments display the gain, in ha, for that region.\n",
    "\n",
    "The donut chart should display data for the top few admin regions, and group the rest together as 'Other Districts'.\n",
    "\n",
    "Displayed data, ordered by DESC area(ha). \n",
    "\n",
    "1. Admin-2 or -1 name\n",
    "2. % of total extent\n",
    "3. Area of extent (ha)\n",
    "\n",
    "User Variables:\n",
    "\n",
    "1. Hanson extent ('Gadm28'), IFL2013, Plantations or Intact forest\n",
    "2. Admin-0 and -1 region"
   ]
  },
  {
   "cell_type": "code",
   "execution_count": 1,
   "metadata": {
    "ExecuteTime": {
     "end_time": "2017-12-18T15:11:17.673011Z",
     "start_time": "2017-12-18T15:11:16.497985Z"
    },
    "collapsed": true
   },
   "outputs": [],
   "source": [
    "#Import Global Metadata etc\n",
    "\n",
    "%run '0.Importable_Globals.ipynb'"
   ]
  },
  {
   "cell_type": "code",
   "execution_count": 2,
   "metadata": {
    "ExecuteTime": {
     "end_time": "2017-12-18T17:06:31.656979Z",
     "start_time": "2017-12-18T17:06:31.648271Z"
    },
    "collapsed": true
   },
   "outputs": [],
   "source": [
    "# VARIABLES\n",
    "\n",
    "location = 'All Region'   # 'plantations', 'ifl_2013', or 'primary_forests'... here 'gadm28'=default\n",
    "threshold = 0             # 0,10,15,20,25,30,50,75,100 \n",
    "adm0 = 'GBR'\n",
    "adm1 = 1            # To rank admin 1 areas, set to None\n",
    "                      # To rank admin 2 areas, specify an admin 1 level\n",
    "extent_year = 2000 #Extent data (2000 or 2010)\n",
    "\n",
    "tags = [\"forest_change\"]\n",
    "selectable_polynames = ['gadm28',\n",
    "                        'mining',\n",
    "                        'plantations']\n"
   ]
  },
  {
   "cell_type": "code",
   "execution_count": 3,
   "metadata": {
    "ExecuteTime": {
     "end_time": "2017-12-18T17:06:32.629366Z",
     "start_time": "2017-12-18T17:06:32.571269Z"
    },
    "collapsed": true
   },
   "outputs": [],
   "source": [
    "# get admin 1 or 2 level human-readable name info as needed:\n",
    "adm1_to_name = None\n",
    "adm2_to_name = None\n",
    "\n",
    "if adm1:\n",
    "    \n",
    "    tmp = get_admin2_json(iso=adm0, adm1=adm1)\n",
    "    adm2_to_name ={}\n",
    "    for row in tmp:\n",
    "        adm2_to_name[row.get('adm2')] = row.get('name')\n",
    "\n",
    "tmp = get_admin1_json(iso=adm0)\n",
    "adm1_to_name={}\n",
    "for row in tmp:\n",
    "    adm1_to_name[row.get('adm1')] = row.get('name') "
   ]
  },
  {
   "cell_type": "code",
   "execution_count": 4,
   "metadata": {
    "ExecuteTime": {
     "end_time": "2017-12-18T17:06:33.523868Z",
     "start_time": "2017-12-18T17:06:33.508046Z"
    },
    "collapsed": true
   },
   "outputs": [],
   "source": [
    "# Returns json object containing admin-codes, total area and extent (both in ha)\n",
    "# If adm1 is not specified, it returns the total values for each adm1 region\n",
    "# Else, returns the adm2 values within that adm1 region\n",
    "# You may also specify a polyname (intersecting area) e.g. 'extent and % of plantations only'\n",
    "# By default polyname is 'gadm28' (all forest extent)\n",
    "\n",
    "def multiregion_gain_queries(adm0, adm1=None, p_name='gadm28', threshold=30):\n",
    "    if adm0 and not adm1:\n",
    "        print('Request for adm1 areas')\n",
    "        sql = (\"SELECT adm1 as region, sum(area_gain) as gain, sum(area_gadm28) as total \"\n",
    "               f\"FROM {ds} \"\n",
    "               f\"WHERE iso = '{adm0}' \"\n",
    "               f\"AND thresh = {threshold} \"\n",
    "               f\"AND polyname = '{p_name}' \"\n",
    "               f\"GROUP BY adm1 \"\n",
    "               f\"ORDER BY adm1\")\n",
    "    elif adm0 and adm1:\n",
    "        print('Request for adm2 areas')\n",
    "        sql = (\"SELECT adm2 as region, area_gain as gain, area_gadm28 as total \"\n",
    "                f\"FROM {ds} \"\n",
    "                f\"WHERE iso = '{adm0}' \"\n",
    "                f\"AND thresh = {threshold} \"\n",
    "                f\"AND polyname = '{p_name}' \"\n",
    "                f\"AND adm1 = '{adm1}' \")\n",
    "    return sql"
   ]
  },
  {
   "cell_type": "code",
   "execution_count": 5,
   "metadata": {
    "ExecuteTime": {
     "end_time": "2017-12-18T17:06:34.042450Z",
     "start_time": "2017-12-18T17:06:34.031048Z"
    },
    "collapsed": true
   },
   "outputs": [],
   "source": [
    "# Takes the data from the above api call and generates a list containing the relevant data: \n",
    "# Admin-Code, Forest Extent Area, Percentage of Admin region\n",
    "# NOTE that 'area_percent' is the forest extent area relative to teh area of its admin-region.\n",
    "\n",
    "def data_output(data, adm1=None):\n",
    "    \n",
    "    output = []\n",
    "    for d in range(0, len(data)):\n",
    "        tmp_ = {\n",
    "\n",
    "            'region': data[d]['region'],\n",
    "            'area_gain_percent': (100*data[d]['gain']/data[d]['total']),\n",
    "            'area_gain_ha': data[d]['gain']\n",
    "\n",
    "        }\n",
    "        output.append(tmp_)\n",
    "\n",
    "    return output"
   ]
  },
  {
   "cell_type": "code",
   "execution_count": 6,
   "metadata": {
    "ExecuteTime": {
     "end_time": "2017-12-18T17:06:34.619918Z",
     "start_time": "2017-12-18T17:06:34.592193Z"
    }
   },
   "outputs": [
    {
     "name": "stdout",
     "output_type": "stream",
     "text": [
      "Request for adm2 areas\n",
      "https://production-api.globalforestwatch.org/v1/query/499682b1-3174-493f-ba1a-368b4636708e?sql=SELECT+adm2+as+region%2C+area_gain+as+gain%2C+area_gadm28+as+total+FROM+499682b1-3174-493f-ba1a-368b4636708e+WHERE+iso+%3D+%27GBR%27+AND+thresh+%3D+0+AND+polyname+%3D+%27gadm28%27+AND+adm1+%3D+%271%27+\n",
      "Status: 200\n"
     ]
    },
    {
     "data": {
      "text/plain": [
       "[{'_id': 'AWB6gnoshRfkUZCTinkq',\n",
       "  'gain': 1494.37911434,\n",
       "  'region': 83,\n",
       "  'total': 319038.138828},\n",
       " {'_id': 'AWB6gnoshRfkUZCTinkt',\n",
       "  'gain': 1103.33419015,\n",
       "  'region': 86,\n",
       "  'total': 164255.162317},\n",
       " {'_id': 'AWB6gnoshRfkUZCTinkv',\n",
       "  'gain': 1.06005759146,\n",
       "  'region': 88,\n",
       "  'total': 6566.15341402}]"
      ]
     },
     "execution_count": 6,
     "metadata": {},
     "output_type": "execute_result"
    }
   ],
   "source": [
    "# Example sql and returned data\n",
    "\n",
    "\n",
    "url = f\"https://production-api.globalforestwatch.org/v1/query/{ds}\"\n",
    "sql = multiregion_gain_queries(adm0, adm1, polynames[location], threshold)\n",
    "\n",
    "\n",
    "properties = {\"sql\": sql}\n",
    "r = requests.get(url, params = properties)\n",
    "print(r.url)\n",
    "print(f'Status: {r.status_code}')\n",
    "\n",
    "data = r.json()['data']\n",
    "\n",
    "data[0:3]"
   ]
  },
  {
   "cell_type": "code",
   "execution_count": 7,
   "metadata": {
    "ExecuteTime": {
     "end_time": "2017-12-18T17:06:35.166833Z",
     "start_time": "2017-12-18T17:06:35.158182Z"
    }
   },
   "outputs": [
    {
     "data": {
      "text/plain": [
       "[{'area_gain_ha': 1494.37911434,\n",
       "  'area_gain_percent': 0.468401401735123,\n",
       "  'region': 83},\n",
       " {'area_gain_ha': 1103.33419015,\n",
       "  'area_gain_percent': 0.6717196431370898,\n",
       "  'region': 86},\n",
       " {'area_gain_ha': 1.06005759146,\n",
       "  'area_gain_percent': 0.016144270848082426,\n",
       "  'region': 88}]"
      ]
     },
     "execution_count": 7,
     "metadata": {},
     "output_type": "execute_result"
    }
   ],
   "source": [
    "# After generating list return wanted metrics\n",
    "# (NOTE! This is not sorted.)\n",
    "\n",
    "gain_json = data_output(data, adm1)\n",
    "gain_json[0:3]\n"
   ]
  },
  {
   "cell_type": "code",
   "execution_count": 8,
   "metadata": {
    "ExecuteTime": {
     "end_time": "2017-12-18T17:06:35.827627Z",
     "start_time": "2017-12-18T17:06:35.817403Z"
    }
   },
   "outputs": [
    {
     "data": {
      "text/plain": [
       "[{'area_gain_ha': 10347.3066765,\n",
       "  'area_gain_percent': 2.045651543674968,\n",
       "  'region': 71},\n",
       " {'area_gain_ha': 5224.37817512,\n",
       "  'area_gain_percent': 0.7620487396510351,\n",
       "  'region': 18},\n",
       " {'area_gain_ha': 5154.67946192,\n",
       "  'area_gain_percent': 0.6467029508515596,\n",
       "  'region': 69}]"
      ]
     },
     "execution_count": 8,
     "metadata": {},
     "output_type": "execute_result"
    }
   ],
   "source": [
    "#Sort regions by area of loss (DESC)\n",
    "\n",
    "newlist = sorted(gain_json, key=lambda k: k['area_gain_ha'], reverse=True) \n",
    "newlist[0:3]\n"
   ]
  },
  {
   "cell_type": "code",
   "execution_count": 9,
   "metadata": {
    "ExecuteTime": {
     "end_time": "2017-12-18T17:06:36.854938Z",
     "start_time": "2017-12-18T17:06:36.543823Z"
    }
   },
   "outputs": [
    {
     "data": {
      "image/png": "[encoded data removed]",
      "text/plain": [
       "<matplotlib.figure.Figure at 0x1091db198>"
      ]
     },
     "metadata": {},
     "output_type": "display_data"
    }
   ],
   "source": [
    "# Example donut chart \n",
    "# NOTE - THE COLOURS ARE NOT NECESSARILY THOSE NEEDED FOR PRODUCTION\n",
    "  \n",
    "limit = 0\n",
    "sizes = []\n",
    "labels = [] \n",
    "\n",
    "for r in range(0,10):\n",
    "    \n",
    "    try:\n",
    "        if adm1:\n",
    "            labels.append(adm2_to_name[newlist[r].get('region')])\n",
    "        elif adm0:\n",
    "            labels.append(adm1_to_name[newlist[r].get('region')])\n",
    "        sizes.append(newlist[r].get('area_gain_ha'))\n",
    "        \n",
    "    except:\n",
    "        break\n",
    "    limit += 1\n",
    "      \n",
    "other_regions=0\n",
    "\n",
    "for rows in range(limit+1,len(newlist)):\n",
    "    other_regions += newlist[rows].get('area_gain_ha')\n",
    "\n",
    "if other_regions != 0:\n",
    "    labels.append('Other regions')\n",
    "    sizes.append(other_regions)\n",
    "            \n",
    "if adm1:\n",
    "    title = adm1_to_name[adm1]\n",
    "elif adm0:\n",
    "    title = iso_to_countries[adm0]\n",
    "\n",
    "fig1, ax1 = plt.subplots()\n",
    "ax1.pie(sizes, labels=labels, autopct='%1.1f%%',\n",
    "        shadow=False, startangle=90, colors=['#0da330', '#69ef88','green','grey'])\n",
    "ax1.axis('equal')\n",
    "centre_circle = plt.Circle((0,0),0.75,color='black', fc='white',linewidth=0.5)\n",
    "fig1 = plt.gcf()\n",
    "fig1.gca().add_artist(centre_circle)\n",
    "plt.title(f'Forest Gain in {title}')\n",
    "plt.show()"
   ]
  },
  {
   "cell_type": "markdown",
   "metadata": {},
   "source": [
    "<a id='s14'></a>\n",
    "### Dynamic Sentence for \"Where is forest gain Located?\" Widget\n",
    "\n",
    "1. Returns the no of regions responsible for >50% of the regions tree cover extent (adm1)\n",
    "     - or, the extent (%) that the top 10% of regions are responsible for (adm2)\n",
    "2. Max and Min extent (%) in that region\n",
    "3. Average extent (%) that each region contributes to the total"
   ]
  },
  {
   "cell_type": "code",
   "execution_count": 10,
   "metadata": {
    "ExecuteTime": {
     "end_time": "2017-12-18T17:06:39.805286Z",
     "start_time": "2017-12-18T17:06:39.800625Z"
    },
    "collapsed": true
   },
   "outputs": [],
   "source": [
    "#Calculate total three cover loss at this threshold\n",
    "total = 0\n",
    "\n",
    "for i in range(0,len(gain_json)):\n",
    "    total += newlist[i]['area_gain_ha']"
   ]
  },
  {
   "cell_type": "code",
   "execution_count": 11,
   "metadata": {
    "ExecuteTime": {
     "end_time": "2017-12-18T17:06:40.368956Z",
     "start_time": "2017-12-18T17:06:40.352997Z"
    }
   },
   "outputs": [
    {
     "data": {
      "text/plain": [
       "[15.831588269839779, 7.993404160164861, 7.886763720790806]"
      ]
     },
     "execution_count": 11,
     "metadata": {},
     "output_type": "execute_result"
    }
   ],
   "source": [
    "# Calculate % extent for the sub-region (relative to total extent) Also filters out incorrect/duplicated data\n",
    "\n",
    "correct_list = []\n",
    "for i in range(0,len(gain_json)):\n",
    "    if(i != 0 and newlist[i]['region'] != newlist[i-1]['region']):\n",
    "        correct_list.append(100*newlist[i]['area_gain_ha']/total)\n",
    "    elif i == 0:\n",
    "        correct_list.append(100*newlist[i]['area_gain_ha']/total)\n",
    "correct_list[0:3]"
   ]
  },
  {
   "cell_type": "code",
   "execution_count": 12,
   "metadata": {
    "ExecuteTime": {
     "end_time": "2017-12-18T17:06:41.093968Z",
     "start_time": "2017-12-18T17:06:41.087826Z"
    },
    "collapsed": true
   },
   "outputs": [],
   "source": [
    "#Calculate the mean extent\n",
    "\n",
    "mean=0\n",
    "for i in range(0, len(correct_list)):\n",
    "    \n",
    "    mean += correct_list[i]\n",
    "    \n",
    "mean = mean/len(correct_list)"
   ]
  },
  {
   "cell_type": "code",
   "execution_count": 13,
   "metadata": {
    "ExecuteTime": {
     "end_time": "2017-12-18T17:06:41.781354Z",
     "start_time": "2017-12-18T17:06:41.767078Z"
    },
    "collapsed": true
   },
   "outputs": [],
   "source": [
    "# Percentile calcs: work out how many regions are responsible for >50% loss\n",
    "# x is no. of adm regions.\n",
    "tenth_percentile = int(len(correct_list)/10)\n",
    "if adm1:\n",
    "    top_ten_index = tenth_percentile\n",
    "    total = np.sum(correct_list[0: top_ten_index+1])\n",
    "     \n",
    "accumulated_percent = 0\n",
    "for n, item in enumerate(correct_list):\n",
    "    accumulated_percent += item\n",
    "    if accumulated_percent >= 50:\n",
    "        lower_fity_percentile_regions = n +1\n",
    "        break"
   ]
  },
  {
   "cell_type": "code",
   "execution_count": 14,
   "metadata": {
    "ExecuteTime": {
     "end_time": "2017-12-18T17:06:42.412635Z",
     "start_time": "2017-12-18T17:06:42.401745Z"
    }
   },
   "outputs": [
    {
     "data": {
      "text/plain": [
       "{'avg': 0.892857142857143, 'max': 15.831588269839779, 'min': 0.0}"
      ]
     },
     "execution_count": 14,
     "metadata": {},
     "output_type": "execute_result"
    }
   ],
   "source": [
    "#Extent Stats\n",
    "gain_stats = { 'max': correct_list[0], 'min': correct_list[len(correct_list)-1], 'avg': mean}\n",
    "gain_stats"
   ]
  },
  {
   "cell_type": "code",
   "execution_count": 15,
   "metadata": {
    "ExecuteTime": {
     "end_time": "2017-12-18T17:06:43.644667Z",
     "start_time": "2017-12-18T17:06:43.575344Z"
    }
   },
   "outputs": [
    {
     "name": "stdout",
     "output_type": "stream",
     "text": [
      "The top 11 sub-regions were responsible for 60% of England's regional tree cover gain. Northumberland experienced the largest relative treecover gain in England at 16%, compared to an average of 0.9%. "
     ]
    }
   ],
   "source": [
    "#Dynamic sentence. For adm2.\n",
    "\n",
    "if adm1:\n",
    "    if len(correct_list) > 10:\n",
    "        print(f\"The top {tenth_percentile} sub-regions were responsible for \", end=\"\")\n",
    "        print(f\"{total:,.0f}% of {adm1_to_name[adm1]}'s \", end=\"\")\n",
    "\n",
    "        if location == 'All Region':\n",
    "            print(f\"regional tree cover gain. \", end=\"\")\n",
    "        elif (location == 'Mining' or 'Mining in Intact Forest Landscapes' or 'Mining in Plantation Areas'):\n",
    "             print(f\"treecover gain in areas with {location.lower()}. \", end=\"\")\n",
    "        else:\n",
    "            print(f\"tree cover gain found in {location.lower()}. \", end=\"\")\n",
    "   \n",
    "    print(f\"{adm2_to_name[newlist[0].get('region')]} experienced the largest relative treecover gain \", end=\"\")\n",
    "    print(f\"in {adm1_to_name[adm1]} at {gain_stats['max']:,.0f}%, compared to an average \", end=\"\")\n",
    "    print(f\"of {gain_stats['avg']:,.1f}%. \", end=\"\")\n",
    "    \n",
    "    \n",
    "else:\n",
    "    \n",
    "#Dynamic sentence. For adm1.\n",
    "    if len(correct_list) > 10:\n",
    "        print(f\"In {iso_to_countries[adm0]}, {lower_fity_percentile_regions} \", end=\"\")\n",
    "        print(f\"regions represent more than half ({accumulated_percent:,.0f}%) \",end=\"\")\n",
    "        print(f\"of all tree cover gain \", end=\"\")\n",
    "        if location == 'All Region':\n",
    "            print(f\"country-wide. \", end=\"\")\n",
    "        elif (location == 'Mining' or 'Mining in Intact Forest Landscapes' or 'Mining in Plantation Areas'):\n",
    "            print(f\"in areas with {location.lower()}. \", end=\"\")\n",
    "        else:\n",
    "            print(f\"found in {location.lower()}. \", end=\"\")\n",
    "            \n",
    "    print(f\"{adm1_to_name[newlist[0].get('region')]} has the largest relative tree cover gain \", end=\"\")\n",
    "    print(f\"in {iso_to_countries[adm0]} at {gain_stats['max']:,.0f}%, compared to an average \", end=\"\")\n",
    "    print(f\"of {gain_stats['avg']:,.1f}%. \", end=\"\")"
   ]
  }
 ],
 "metadata": {
  "anaconda-cloud": {},
  "kernelspec": {
   "display_name": "Python 3",
   "language": "python",
   "name": "python3"
  },
  "language_info": {
   "codemirror_mode": {
    "name": "ipython",
    "version": 3
   },
   "file_extension": ".py",
   "mimetype": "text/x-python",
   "name": "python",
   "nbconvert_exporter": "python",
   "pygments_lexer": "ipython3",
   "version": "3.6.2"
  },
  "toc": {
   "nav_menu": {},
   "number_sections": true,
   "sideBar": true,
   "skip_h1_title": false,
   "toc_cell": false,
   "toc_position": {},
   "toc_section_display": "block",
   "toc_window_display": false
  }
 },
 "nbformat": 4,
 "nbformat_minor": 2
}
