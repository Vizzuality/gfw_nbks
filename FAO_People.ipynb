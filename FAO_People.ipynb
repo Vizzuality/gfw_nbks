{
 "cells": [
  {
   "cell_type": "markdown",
   "metadata": {},
   "source": [
    "# FAO Economic and Employment Stats\n",
    "\n",
    "Two widgets for the 'People' tab.\n",
    "\n",
    "- No of people employed full time (```forempl``` x 1000)\n",
    "- ...of which are female (```femempl``` x 1000)\n",
    "\n",
    "- Net USD generate by forest ({```usdrev``` - ```usdexp```} x 1000)\n",
    "- GDP in USD in 2012 (```gdpusd2012``` x 1000) **NOTE: GDP in year=9999**\n",
    "\n",
    "- Total Population (```totpop1000``` x 1000)\n",
    "\n"
   ]
  },
  {
   "cell_type": "code",
   "execution_count": 2,
   "metadata": {
    "collapsed": true
   },
   "outputs": [],
   "source": [
    "#Import Global Metadata etc\n",
    "\n",
    "%run '0.Importable_Globals.ipynb'"
   ]
  },
  {
   "cell_type": "code",
   "execution_count": 4,
   "metadata": {},
   "outputs": [
    {
     "name": "stdout",
     "output_type": "stream",
     "text": [
      "https://wri-01.carto.com/api/v2/sql?q=SELECT+fao.country%2C+fao.forempl%2C+fao.femempl%2C+fao.usdrev%2C+fao.usdexp%2C+fao.gdpusd2012%2C+fao.totpop1000%2C+fao.year+FROM+table_7_economics_livelihood+as+fao+WHERE+fao.year+%3D+2000+or+fao.year+%3D+2005+or+fao.year+%3D+2010+or+fao.year+%3D+9999 \n",
      "\n",
      "[{'country': 'COK',\n",
      "  'femempl': None,\n",
      "  'forempl': None,\n",
      "  'gdpusd2012': '-9999',\n",
      "  'totpop1000': None,\n",
      "  'usdexp': '',\n",
      "  'usdrev': None,\n",
      "  'year': 9999},\n",
      " {'country': 'KGZ',\n",
      "  'femempl': None,\n",
      "  'forempl': None,\n",
      "  'gdpusd2012': '6474843799',\n",
      "  'totpop1000': None,\n",
      "  'usdexp': '',\n",
      "  'usdrev': None,\n",
      "  'year': 9999},\n",
      " {'country': 'NAM',\n",
      "  'femempl': None,\n",
      "  'forempl': None,\n",
      "  'gdpusd2012': '',\n",
      "  'totpop1000': None,\n",
      "  'usdexp': '',\n",
      "  'usdrev': None,\n",
      "  'year': 9999}]\n"
     ]
    }
   ],
   "source": [
    "# First, get the FAO data from a carto table\n",
    "\n",
    "sql = (\"SELECT fao.country, fao.forempl, fao.femempl, fao.usdrev, fao.usdexp, \"\n",
    "        \"fao.gdpusd2012, fao.totpop1000, fao.year \"\n",
    "        \"FROM table_7_economics_livelihood as fao \"\n",
    "       \"WHERE fao.year = 2000 or fao.year = 2005 or fao.year = 2010 or fao.year = 9999\"\n",
    "        )\n",
    "\n",
    "account = 'wri-01'\n",
    "urlCarto = \"https://{0}.carto.com/api/v2/sql\".format(account)\n",
    "\n",
    "sql = {\"q\": sql}\n",
    "r = requests.get(urlCarto, params=sql)\n",
    "print(r.url,'\\n')\n",
    "pprint(r.json().get('rows')[0:3])\n",
    "\n",
    "try:\n",
    "    fao_data = r.json().get('rows')\n",
    "except:\n",
    "    fao_data = None"
   ]
  },
  {
   "cell_type": "markdown",
   "metadata": {},
   "source": [
    "# Widget 1: \"Forestry Sector Employment\"\n",
    "\n",
    "Display a pie chart showing the number of male and female employees employed in the Forestry Sector in a given year as well as a dynamic entence.\n",
    "\n",
    "On hover the segments of the pie chart should show the number of male or female employees as well as the % of the total.\n",
    "\n",
    "**If no data for female employees - DO NOT SHOW pie chart!**\n",
    "\n",
    "User Variables:\n",
    "\n",
    "- adm0 (see whitelist below, not available for all countries)\n",
    "- year (2000, 2005, 2010)\n",
    "\n",
    "### NOTE\n",
    "\n",
    "Both widgets will use the same requests since it is easier to request all the relevent data in one go."
   ]
  },
  {
   "cell_type": "code",
   "execution_count": 6,
   "metadata": {},
   "outputs": [
    {
     "name": "stdout",
     "output_type": "stream",
     "text": [
      "https://wri-01.carto.com/api/v2/sql?q=SELECT+fao.country%2C+fao.forempl%2C+fao.femempl%2C+fao.usdrev%2C+fao.usdexp%2C+fao.gdpusd2012%2C+fao.year+FROM+table_7_economics_livelihood+as+fao+WHERE+fao.year+%3D+2000+or+fao.year+%3D+2005+or+fao.year+%3D+2010+or+fao.year+%3D+9999 \n",
      "\n"
     ]
    },
    {
     "data": {
      "text/plain": [
       "[{'country': 'COK',\n",
       "  'femempl': None,\n",
       "  'forempl': None,\n",
       "  'gdpusd2012': '-9999',\n",
       "  'usdexp': '',\n",
       "  'usdrev': None,\n",
       "  'year': 9999},\n",
       " {'country': 'KGZ',\n",
       "  'femempl': None,\n",
       "  'forempl': None,\n",
       "  'gdpusd2012': '6474843799',\n",
       "  'usdexp': '',\n",
       "  'usdrev': None,\n",
       "  'year': 9999},\n",
       " {'country': 'NAM',\n",
       "  'femempl': None,\n",
       "  'forempl': None,\n",
       "  'gdpusd2012': '',\n",
       "  'usdexp': '',\n",
       "  'usdrev': None,\n",
       "  'year': 9999}]"
      ]
     },
     "execution_count": 6,
     "metadata": {},
     "output_type": "execute_result"
    }
   ],
   "source": [
    "# First, get ALL data from the FAO data from a carto table\n",
    "\n",
    "sql = (\"SELECT fao.country, fao.forempl, fao.femempl, fao.usdrev, fao.usdexp, \"\n",
    "        \"fao.gdpusd2012, fao.year \"\n",
    "        \"FROM table_7_economics_livelihood as fao \"\n",
    "       \"WHERE fao.year = 2000 or fao.year = 2005 or fao.year = 2010 or fao.year = 9999\"\n",
    "        )\n",
    "\n",
    "account = 'wri-01'\n",
    "urlCarto = \"https://{0}.carto.com/api/v2/sql\".format(account)\n",
    "\n",
    "sql = {\"q\": sql}\n",
    "r = requests.get(urlCarto, params=sql)\n",
    "print(r.url,'\\n')\n",
    "\n",
    "try:\n",
    "    fao_data = r.json().get('rows')\n",
    "except:\n",
    "    fao_data = None\n",
    "    \n",
    "fao_data[0:3]"
   ]
  },
  {
   "cell_type": "code",
   "execution_count": 7,
   "metadata": {},
   "outputs": [
    {
     "data": {
      "text/plain": [
       "['COK', 'KGZ', 'NAM']"
      ]
     },
     "execution_count": 7,
     "metadata": {},
     "output_type": "execute_result"
    }
   ],
   "source": [
    "# Build a whitelist for this widget (not all countries have data!)\n",
    "\n",
    "empl_whitelist = []\n",
    "for d in fao_data:\n",
    "    if d.get('iso') not in empl_whitelist:\n",
    "        empl_whitelist.append(d.get('country'))\n",
    "            \n",
    "empl_whitelist[0:3]"
   ]
  },
  {
   "cell_type": "code",
   "execution_count": 8,
   "metadata": {
    "collapsed": true
   },
   "outputs": [],
   "source": [
    "adm0 = 'GBR'\n",
    "year = 2010 #2000, 2005, 2010"
   ]
  },
  {
   "cell_type": "code",
   "execution_count": 9,
   "metadata": {},
   "outputs": [
    {
     "data": {
      "text/plain": [
       "[{'country': 'GBR',\n",
       "  'femempl': 1.2,\n",
       "  'forempl': 15.8,\n",
       "  'gdpusd2012': '',\n",
       "  'usdexp': '374',\n",
       "  'usdrev': 188,\n",
       "  'year': 2000},\n",
       " {'country': 'GBR',\n",
       "  'femempl': 1.3,\n",
       "  'forempl': 13.7,\n",
       "  'gdpusd2012': '',\n",
       "  'usdexp': '496',\n",
       "  'usdrev': 235,\n",
       "  'year': 2005},\n",
       " {'country': 'GBR',\n",
       "  'femempl': 1.8,\n",
       "  'forempl': 19.8,\n",
       "  'gdpusd2012': '',\n",
       "  'usdexp': '507',\n",
       "  'usdrev': 263,\n",
       "  'year': 2010},\n",
       " {'country': 'GBR',\n",
       "  'femempl': None,\n",
       "  'forempl': None,\n",
       "  'gdpusd2012': '2.48E+12',\n",
       "  'usdexp': '',\n",
       "  'usdrev': None,\n",
       "  'year': 9999}]"
      ]
     },
     "execution_count": 9,
     "metadata": {},
     "output_type": "execute_result"
    }
   ],
   "source": [
    "# Retrieve data for relevent country by filtering by iso\n",
    "\n",
    "iso_filter = list(filter(lambda x: x.get('country') == adm0, fao_data))\n",
    "iso_filter"
   ]
  },
  {
   "cell_type": "code",
   "execution_count": 10,
   "metadata": {},
   "outputs": [
    {
     "data": {
      "text/plain": [
       "[{'female': 1200.0, 'male': 14600.000000000002, 'year': 2000},\n",
       " {'female': 1300.0, 'male': 12399.999999999998, 'year': 2005},\n",
       " {'female': 1800.0, 'male': 18000.0, 'year': 2010}]"
      ]
     },
     "execution_count": 10,
     "metadata": {},
     "output_type": "execute_result"
    }
   ],
   "source": [
    "# Sanitise data. May have empty fields, and scales numbers by 1000\n",
    "\n",
    "empl_data = []\n",
    "for d in iso_filter:\n",
    "    if d.get('year') != 9999:\n",
    "        try:\n",
    "            empl_data.append({\n",
    "\n",
    "                'male': (d.get('forempl') - d.get('femempl'))*1000,\n",
    "                'female': d.get('femempl')*1000,\n",
    "                'year': d.get('year')\n",
    "\n",
    "            })\n",
    "        except:\n",
    "            empl_data.append({\n",
    "\n",
    "                'male': d.get('forempl'),\n",
    "                'female': None,\n",
    "                'year': d.get('year')\n",
    "\n",
    "            })        \n",
    "empl_data\n",
    "    "
   ]
  },
  {
   "cell_type": "code",
   "execution_count": 11,
   "metadata": {
    "collapsed": true
   },
   "outputs": [],
   "source": [
    "# Create a list for male and female data respectively for the user selected year\n",
    "\n",
    "for i in empl_data:\n",
    "    if i.get('year') == year:\n",
    "        male_data = i.get('male')\n",
    "        female_data = i.get('female')\n"
   ]
  },
  {
   "cell_type": "code",
   "execution_count": 12,
   "metadata": {},
   "outputs": [
    {
     "data": {
      "image/png": "[encoded data removed]",
      "text/plain": [
       "<matplotlib.figure.Figure at 0x1129a40b8>"
      ]
     },
     "metadata": {},
     "output_type": "display_data"
    }
   ],
   "source": [
    "if female_data:\n",
    "    labels = ['Male', 'Female']\n",
    "    data = [male_data, female_data]\n",
    "    colors = ['lightblue', 'pink']\n",
    "\n",
    "    fig1, ax1 = plt.subplots()\n",
    "    ax1.pie(data, labels=labels, autopct='%1.1f%%',\n",
    "            shadow=False, startangle=90, colors=colors)\n",
    "    ax1.axis('equal')\n",
    "    centre_circle = plt.Circle((0,0),0.75,color='black', fc='white',linewidth=0.5)\n",
    "    fig1 = plt.gcf()\n",
    "    fig1.gca().add_artist(centre_circle)\n",
    "    plt.title(f'Forestry Employment by Gender in {adm0}')\n",
    "    plt.show()\n",
    "    \n",
    "else: \n",
    "    print(f'No data for {adm0} in {year}')"
   ]
  },
  {
   "cell_type": "code",
   "execution_count": 13,
   "metadata": {},
   "outputs": [
    {
     "name": "stdout",
     "output_type": "stream",
     "text": [
      "According to the FAO there were 19800.0 people employed in United Kingdom's Forestry sector in 2010, of which 1800.0 were female."
     ]
    }
   ],
   "source": [
    "if female_data:\n",
    "\n",
    "    print(f\"According to the FAO there were {male_data + female_data} people employed in {iso_to_countries[adm0]}'s \", end=\"\")\n",
    "    print(f\"Forestry sector in {year}, of which {female_data} were female.\", end=\"\")\n",
    "    \n",
    "else:\n",
    "    \n",
    "    print(f\"According to the FAO there were {male_data} people employed in {iso_to_countries[adm0]}'s \", end=\"\")\n",
    "    print(f\"Forestry sector in {year}.\", end=\"\")"
   ]
  },
  {
   "cell_type": "markdown",
   "metadata": {},
   "source": [
    "# Widget 2: \"Economic Impact of X's Forestry Sector\"\n",
    "\n",
    "Displays a bar chart and ranked list (side by side) as well as a dynamic sentence.\n",
    "\n",
    "The bar chart will display revenue and expenditure bars side-by-side, and display 'contribution relative to GDP' on hover.\n",
    "\n",
    "The ranked list will show countries with similar contributions (and sort by net or % as described below)\n",
    "\n",
    "User Variables:\n",
    "\n",
    "- adm0 (see whitelist)\n",
    "- year (2000, 2005, 2010)\n",
    "- net contribution in USD or as a % of the country's GDP\n",
    "\n",
    "Maths:\n",
    "\n",
    "```\n",
    "[net contribution (USD) = (revenue - expenditure)\\*1000]\n",
    "\n",
    "[net contribution (%) = 100\\*(revenue - expenditure)\\*1000/GDP]\n",
    "```\n",
    "\n",
    "\n",
    "### NOTE\n",
    "\n",
    "Both widgets will use the same requests since it is easier to request all the relevent data in one go."
   ]
  },
  {
   "cell_type": "code",
   "execution_count": 14,
   "metadata": {},
   "outputs": [
    {
     "name": "stdout",
     "output_type": "stream",
     "text": [
      "https://wri-01.carto.com/api/v2/sql?q=SELECT+fao.country%2C+fao.forempl%2C+fao.femempl%2C+fao.usdrev%2C+fao.usdexp%2C+fao.gdpusd2012%2C+fao.year+FROM+table_7_economics_livelihood+as+fao+WHERE+fao.year+%3D+2000+or+fao.year+%3D+2005+or+fao.year+%3D+2010+or+fao.year+%3D+9999 \n",
      "\n"
     ]
    },
    {
     "data": {
      "text/plain": [
       "[{'country': 'COK',\n",
       "  'femempl': None,\n",
       "  'forempl': None,\n",
       "  'gdpusd2012': '-9999',\n",
       "  'usdexp': '',\n",
       "  'usdrev': None,\n",
       "  'year': 9999},\n",
       " {'country': 'KGZ',\n",
       "  'femempl': None,\n",
       "  'forempl': None,\n",
       "  'gdpusd2012': '6474843799',\n",
       "  'usdexp': '',\n",
       "  'usdrev': None,\n",
       "  'year': 9999},\n",
       " {'country': 'NAM',\n",
       "  'femempl': None,\n",
       "  'forempl': None,\n",
       "  'gdpusd2012': '',\n",
       "  'usdexp': '',\n",
       "  'usdrev': None,\n",
       "  'year': 9999}]"
      ]
     },
     "execution_count": 14,
     "metadata": {},
     "output_type": "execute_result"
    }
   ],
   "source": [
    "# First, get ALL data from the FAO data from a carto table\n",
    "\n",
    "sql = (\"SELECT fao.country, fao.forempl, fao.femempl, fao.usdrev, fao.usdexp, \"\n",
    "        \"fao.gdpusd2012, fao.year \"\n",
    "        \"FROM table_7_economics_livelihood as fao \"\n",
    "       \"WHERE fao.year = 2000 or fao.year = 2005 or fao.year = 2010 or fao.year = 9999\"\n",
    "        )\n",
    "\n",
    "account = 'wri-01'\n",
    "urlCarto = \"https://{0}.carto.com/api/v2/sql\".format(account)\n",
    "\n",
    "sql = {\"q\": sql}\n",
    "r = requests.get(urlCarto, params=sql)\n",
    "print(r.url,'\\n')\n",
    "\n",
    "try:\n",
    "    fao_data = r.json().get('rows')\n",
    "except:\n",
    "    fao_data = None\n",
    "    \n",
    "fao_data[0:3]"
   ]
  },
  {
   "cell_type": "code",
   "execution_count": 16,
   "metadata": {},
   "outputs": [
    {
     "data": {
      "text/plain": [
       "[{'exp': 7673000,\n",
       "  'gdp': 114000000000.0,\n",
       "  'iso': 'AGO',\n",
       "  'net_perc': -0.005814912280701755,\n",
       "  'net_usd': -6629000,\n",
       "  'rev': 1044000,\n",
       "  'year': 2000},\n",
       " {'exp': 63000,\n",
       "  'gdp': 114000000000.0,\n",
       "  'iso': 'AGO',\n",
       "  'net_perc': 4.12280701754386e-05,\n",
       "  'net_usd': 47000,\n",
       "  'rev': 110000,\n",
       "  'year': 2005},\n",
       " {'exp': 588000,\n",
       "  'gdp': 114000000000.0,\n",
       "  'iso': 'AGO',\n",
       "  'net_perc': -0.0004254385964912281,\n",
       "  'net_usd': -485000,\n",
       "  'rev': 103000,\n",
       "  'year': 2010}]"
      ]
     },
     "execution_count": 16,
     "metadata": {},
     "output_type": "execute_result"
    }
   ],
   "source": [
    "#Sanitise data. Note that some revenue, expenditure, and GDP \n",
    "# values from the table may come back as None, 0 or empty strings...\n",
    "#Hence we have to acount for all of these!\n",
    "\n",
    "econ_data = []\n",
    "gdp = []\n",
    "\n",
    "#Get GDP of each country (found in element with 'year' = 9999)\n",
    "for d in fao_data:\n",
    "    if d.get('gdpusd2012') and d.get('gdpusd2012') != '-9999' and d.get('year') == 9999:\n",
    "        gdp.append({\n",
    "            \n",
    "            'gdp': float(d.get('gdpusd2012')),\n",
    "            'iso': d.get('country')\n",
    "        })\n",
    "    \n",
    "#Build data structure\n",
    "for d in fao_data:\n",
    "    if d.get('year') != 9999:\n",
    "        \n",
    "        for g in gdp:\n",
    "            if g.get('iso') == d.get('country'):\n",
    "                tmp_gdp = g.get('gdp')\n",
    "                break\n",
    "        \n",
    "        if d.get('usdrev') and d.get('usdrev') != '' and d.get('usdexp') and d.get('usdexp') != '':\n",
    "            net = (d.get('usdrev') - int(d.get('usdexp')))*1000\n",
    "            \n",
    "            econ_data.append({\n",
    "\n",
    "                'iso': d.get('country'),\n",
    "                'rev': d.get('usdrev')*1000,\n",
    "                'exp': int(d.get('usdexp'))*1000,\n",
    "                'net_usd': net,\n",
    "                'gdp': tmp_gdp,\n",
    "                'net_perc': 100*net/tmp_gdp,\n",
    "                'year': d.get('year')\n",
    "\n",
    "            })\n",
    "                \n",
    "econ_data[0:3]"
   ]
  },
  {
   "cell_type": "markdown",
   "metadata": {},
   "source": [
    "### Get available Countries and Build Whitelist"
   ]
  },
  {
   "cell_type": "code",
   "execution_count": 17,
   "metadata": {},
   "outputs": [
    {
     "data": {
      "text/plain": [
       "['AGO', 'ALB', 'ARG']"
      ]
     },
     "execution_count": 17,
     "metadata": {},
     "output_type": "execute_result"
    }
   ],
   "source": [
    "# Build whitelist of countries with the data we want to analyse\n",
    "\n",
    "econ_whitelist = []\n",
    "for e in econ_data:\n",
    "    if e.get('iso') not in econ_whitelist:\n",
    "        econ_whitelist.append(e.get('iso'))\n",
    "            \n",
    "econ_whitelist[0:3]"
   ]
  },
  {
   "cell_type": "markdown",
   "metadata": {},
   "source": [
    "# Do Ranking (*using functional python!*)"
   ]
  },
  {
   "cell_type": "code",
   "execution_count": 18,
   "metadata": {
    "collapsed": true
   },
   "outputs": [],
   "source": [
    "adm0 = 'BRA'\n",
    "year = 2010 #2000, 2005, 2010"
   ]
  },
  {
   "cell_type": "code",
   "execution_count": 20,
   "metadata": {},
   "outputs": [
    {
     "data": {
      "text/plain": [
       "[{'exp': 588000,\n",
       "  'gdp': 114000000000.0,\n",
       "  'iso': 'AGO',\n",
       "  'net_perc': -0.0004254385964912281,\n",
       "  'net_usd': -485000,\n",
       "  'rev': 103000,\n",
       "  'year': 2010},\n",
       " {'exp': 31821255000,\n",
       "  'gdp': 477000000000.0,\n",
       "  'iso': 'ARG',\n",
       "  'net_perc': -3.727295178197065,\n",
       "  'net_usd': -17779198000,\n",
       "  'rev': 14042057000,\n",
       "  'year': 2010},\n",
       " {'exp': 3024000,\n",
       "  'gdp': 9950522733.0,\n",
       "  'iso': 'ARM',\n",
       "  'net_perc': -0.020099446568441905,\n",
       "  'net_usd': -2000000,\n",
       "  'rev': 1024000,\n",
       "  'year': 2010}]"
      ]
     },
     "execution_count": 20,
     "metadata": {},
     "output_type": "execute_result"
    }
   ],
   "source": [
    "#Filter the data for year of interest\n",
    "# NOTE: IF year equals 2010 ignore Lebanon (LBN) - mistake in data!\n",
    "\n",
    "if year == 2010:\n",
    "    in_year = list(filter(lambda x: x.get('year') == year and x.get('iso') != 'LBN', econ_data))\n",
    "else:\n",
    "    in_year = list(filter(lambda x: x.get('year') == year, econ_data))\n",
    "\n",
    "in_year[0:3]"
   ]
  },
  {
   "cell_type": "markdown",
   "metadata": {},
   "source": [
    "### Net Revenue in USD"
   ]
  },
  {
   "cell_type": "code",
   "execution_count": 22,
   "metadata": {},
   "outputs": [
    {
     "data": {
      "text/plain": [
       "[{'exp': 214487000,\n",
       "  'gdp': 524000000000.0,\n",
       "  'iso': 'SWE',\n",
       "  'net_perc': 0.7471068702290077,\n",
       "  'net_usd': 3914840000,\n",
       "  'rev': 4129327000,\n",
       "  'year': 2010},\n",
       " {'exp': 163693000,\n",
       "  'gdp': 2250000000000.0,\n",
       "  'iso': 'BRA',\n",
       "  'net_perc': 0.1536871111111111,\n",
       "  'net_usd': 3457960000,\n",
       "  'rev': 3621653000,\n",
       "  'year': 2010},\n",
       " {'exp': 507204000,\n",
       "  'gdp': 789000000000.0,\n",
       "  'iso': 'TUR',\n",
       "  'net_perc': 0.06791977186311787,\n",
       "  'net_usd': 535887000,\n",
       "  'rev': 1043091000,\n",
       "  'year': 2010}]"
      ]
     },
     "execution_count": 22,
     "metadata": {},
     "output_type": "execute_result"
    }
   ],
   "source": [
    "# Order by net revenue ('net_usd')\n",
    "\n",
    "rank_list_net = sorted(in_year, key=lambda k: k['net_usd'], reverse=True) \n",
    "rank_list_net[0:3]"
   ]
  },
  {
   "cell_type": "code",
   "execution_count": 23,
   "metadata": {},
   "outputs": [
    {
     "name": "stdout",
     "output_type": "stream",
     "text": [
      "RANK = 2\n"
     ]
    },
    {
     "data": {
      "text/plain": [
       "[{'exp': 214487000,\n",
       "  'gdp': 524000000000.0,\n",
       "  'iso': 'SWE',\n",
       "  'net_perc': 0.7471068702290077,\n",
       "  'net_usd': 3914840000,\n",
       "  'rev': 4129327000,\n",
       "  'year': 2010},\n",
       " {'exp': 163693000,\n",
       "  'gdp': 2250000000000.0,\n",
       "  'iso': 'BRA',\n",
       "  'net_perc': 0.1536871111111111,\n",
       "  'net_usd': 3457960000,\n",
       "  'rev': 3621653000,\n",
       "  'year': 2010},\n",
       " {'exp': 507204000,\n",
       "  'gdp': 789000000000.0,\n",
       "  'iso': 'TUR',\n",
       "  'net_perc': 0.06791977186311787,\n",
       "  'net_usd': 535887000,\n",
       "  'rev': 1043091000,\n",
       "  'year': 2010},\n",
       " {'exp': 5715000,\n",
       "  'gdp': 18377083881.0,\n",
       "  'iso': 'GAB',\n",
       "  'net_perc': 1.9930093499691308,\n",
       "  'net_usd': 366257000,\n",
       "  'rev': 371972000,\n",
       "  'year': 2010},\n",
       " {'exp': 243085000,\n",
       "  'gdp': 247000000000.0,\n",
       "  'iso': 'FIN',\n",
       "  'net_perc': 0.14180445344129555,\n",
       "  'net_usd': 350257000,\n",
       "  'rev': 593342000,\n",
       "  'year': 2010}]"
      ]
     },
     "execution_count": 23,
     "metadata": {},
     "output_type": "execute_result"
    }
   ],
   "source": [
    "# Get country's rank and print adjacent values ('net_usd' and 'iso' in this case)\n",
    "\n",
    "rank = 1\n",
    "for i in rank_list_net:\n",
    "    if i.get('iso') == adm0:\n",
    "        print('RANK =', rank)\n",
    "        break\n",
    "    else:\n",
    "        rank += 1\n",
    "\n",
    "if rank == 1:\n",
    "    bottom_bound = -1\n",
    "    upper_bound = 4\n",
    "elif rank == 2:\n",
    "    bottom_bound = 2\n",
    "    upper_bound = 3    \n",
    "elif rank == len(rank_list_net):\n",
    "    bottom_bound = 5\n",
    "    upper_bound = -1   \n",
    "elif rank == len(rank_list_net)-1:\n",
    "    bottom_bound = 4\n",
    "    upper_bound = 0 \n",
    "else:\n",
    "    bottom_bound = 3\n",
    "    upper_bound = 2 \n",
    "    \n",
    "rank_list_net[rank-bottom_bound:rank+upper_bound]"
   ]
  },
  {
   "cell_type": "markdown",
   "metadata": {},
   "source": [
    "### Net Revenue as a percentage of Nations GDP"
   ]
  },
  {
   "cell_type": "code",
   "execution_count": 24,
   "metadata": {},
   "outputs": [
    {
     "data": {
      "text/plain": [
       "[{'exp': 5715000,\n",
       "  'gdp': 18377083881.0,\n",
       "  'iso': 'GAB',\n",
       "  'net_perc': 1.9930093499691308,\n",
       "  'net_usd': 366257000,\n",
       "  'rev': 371972000,\n",
       "  'year': 2010},\n",
       " {'exp': 9929000,\n",
       "  'gdp': 15653921367.0,\n",
       "  'iso': 'PNG',\n",
       "  'net_perc': 1.6836739742133393,\n",
       "  'net_usd': 263561000,\n",
       "  'rev': 273490000,\n",
       "  'year': 2010},\n",
       " {'exp': 262000,\n",
       "  'gdp': 471575497.3,\n",
       "  'iso': 'TON',\n",
       "  'net_perc': 1.0570947872698135,\n",
       "  'net_usd': 4985000,\n",
       "  'rev': 5247000,\n",
       "  'year': 2010}]"
      ]
     },
     "execution_count": 24,
     "metadata": {},
     "output_type": "execute_result"
    }
   ],
   "source": [
    "# Order by net revenue per GDP ('net_perc')\n",
    "\n",
    "rank_list_perc = sorted(in_year, key=lambda k: k['net_perc'], reverse=True) \n",
    "rank_list_perc[0:3]"
   ]
  },
  {
   "cell_type": "code",
   "execution_count": 25,
   "metadata": {},
   "outputs": [
    {
     "name": "stdout",
     "output_type": "stream",
     "text": [
      "RANK = 6\n"
     ]
    },
    {
     "data": {
      "text/plain": [
       "[{'exp': 214487000,\n",
       "  'gdp': 524000000000.0,\n",
       "  'iso': 'SWE',\n",
       "  'net_perc': 0.7471068702290077,\n",
       "  'net_usd': 3914840000,\n",
       "  'rev': 4129327000,\n",
       "  'year': 2010},\n",
       " {'exp': 17558000,\n",
       "  'gdp': 28372577697.0,\n",
       "  'iso': 'LVA',\n",
       "  'net_perc': 0.2656156264855994,\n",
       "  'net_usd': 75362000,\n",
       "  'rev': 92920000,\n",
       "  'year': 2010},\n",
       " {'exp': 163693000,\n",
       "  'gdp': 2250000000000.0,\n",
       "  'iso': 'BRA',\n",
       "  'net_perc': 0.1536871111111111,\n",
       "  'net_usd': 3457960000,\n",
       "  'rev': 3621653000,\n",
       "  'year': 2010},\n",
       " {'exp': 243085000,\n",
       "  'gdp': 247000000000.0,\n",
       "  'iso': 'FIN',\n",
       "  'net_perc': 0.14180445344129555,\n",
       "  'net_usd': 350257000,\n",
       "  'rev': 593342000,\n",
       "  'year': 2010},\n",
       " {'exp': 9745000,\n",
       "  'gdp': 42343521966.0,\n",
       "  'iso': 'LTU',\n",
       "  'net_perc': 0.0997649653090267,\n",
       "  'net_usd': 42244000,\n",
       "  'rev': 51989000,\n",
       "  'year': 2010}]"
      ]
     },
     "execution_count": 25,
     "metadata": {},
     "output_type": "execute_result"
    }
   ],
   "source": [
    "# Get country's rank and print adjacent values ('net_perc' and 'iso' in this case)\n",
    "\n",
    "rank = 1\n",
    "for i in rank_list_perc:\n",
    "    if i.get('iso') == adm0:\n",
    "        print('RANK =',rank)\n",
    "        break\n",
    "    else:\n",
    "        rank += 1\n",
    "\n",
    "if rank == 1:\n",
    "    bottom_bound = -1\n",
    "    upper_bound = 4\n",
    "elif rank == 2:\n",
    "    bottom_bound = 2\n",
    "    upper_bound = 3    \n",
    "elif rank == len(rank_list_perc):\n",
    "    bottom_bound = 5\n",
    "    upper_bound = -1   \n",
    "elif rank == len(rank_list_perc)-1:\n",
    "    bottom_bound = 4\n",
    "    upper_bound = 0 \n",
    "else:\n",
    "    bottom_bound = 3\n",
    "    upper_bound = 2 \n",
    "    \n",
    "rank_list_perc[rank-bottom_bound:rank+upper_bound]"
   ]
  },
  {
   "cell_type": "markdown",
   "metadata": {},
   "source": [
    "# Graph and Dynamic Sentence"
   ]
  },
  {
   "cell_type": "code",
   "execution_count": 26,
   "metadata": {},
   "outputs": [
    {
     "data": {
      "text/plain": [
       "[{'exp': 163693000,\n",
       "  'gdp': 2250000000000.0,\n",
       "  'iso': 'BRA',\n",
       "  'net_perc': 0.1536871111111111,\n",
       "  'net_usd': 3457960000,\n",
       "  'rev': 3621653000,\n",
       "  'year': 2010}]"
      ]
     },
     "execution_count": 26,
     "metadata": {},
     "output_type": "execute_result"
    }
   ],
   "source": [
    "# Get data for iso and year of interest\n",
    "\n",
    "iso_and_year = list(filter(lambda x: x.get('year') == year and x.get('iso') == adm0, econ_data))\n",
    "iso_and_year[0:3]"
   ]
  },
  {
   "cell_type": "code",
   "execution_count": 27,
   "metadata": {
    "scrolled": true
   },
   "outputs": [
    {
     "data": {
      "image/png": "[encoded data removed]",
      "text/plain": [
       "<matplotlib.figure.Figure at 0x1129f5e10>"
      ]
     },
     "metadata": {},
     "output_type": "display_data"
    }
   ],
   "source": [
    "# Graph\n",
    "\n",
    "bars = ['Revenue', 'Expenditure'] \n",
    "colors = ['blue','red']\n",
    "width = 0.35\n",
    "fig, ax = plt.subplots()\n",
    "rects1 = ax.bar(bars, [iso_and_year[0].get('rev'), iso_and_year[0].get('exp')], color=colors)\n",
    "\n",
    "# add some text for labels, title and axes ticks\n",
    "ax.set_ylabel('USD')\n",
    "ax.set_title(f'Forestry Revenue vs Expenditure for {adm0} in {year}')\n",
    "plt.show()"
   ]
  },
  {
   "cell_type": "code",
   "execution_count": 28,
   "metadata": {},
   "outputs": [
    {
     "name": "stdout",
     "output_type": "stream",
     "text": [
      "According to the FAO the forestry sector contributed a net 3.45796 billion USD to the economy in 2010, which is approximately 0.1536871111111111% of Brazil's GDP."
     ]
    }
   ],
   "source": [
    "# Dynamic Sentence\n",
    "\n",
    "print(f\"According to the FAO the forestry sector contributed a net \", end=\"\")\n",
    "print(f\"{iso_and_year[0].get('net_usd')/1e9} billion USD to the economy in {year}, \", end=\"\")\n",
    "print(f\"which is approximately {iso_and_year[0].get('net_perc')}% of {iso_to_countries[adm0]}'s GDP.\", end=\"\")\n"
   ]
  },
  {
   "cell_type": "code",
   "execution_count": null,
   "metadata": {
    "collapsed": true
   },
   "outputs": [],
   "source": []
  }
 ],
 "metadata": {
  "kernelspec": {
   "display_name": "Python 3",
   "language": "python",
   "name": "python3"
  },
  "language_info": {
   "codemirror_mode": {
    "name": "ipython",
    "version": 3
   },
   "file_extension": ".py",
   "mimetype": "text/x-python",
   "name": "python",
   "nbconvert_exporter": "python",
   "pygments_lexer": "ipython3",
   "version": "3.6.2"
  }
 },
 "nbformat": 4,
 "nbformat_minor": 2
}
