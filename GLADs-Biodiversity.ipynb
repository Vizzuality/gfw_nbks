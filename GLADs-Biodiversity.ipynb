{
 "cells": [
  {
   "cell_type": "markdown",
   "metadata": {},
   "source": [
    "# GLADs Intersecting AOIs"
   ]
  },
  {
   "cell_type": "code",
   "execution_count": 1,
   "metadata": {
    "collapsed": true
   },
   "outputs": [],
   "source": [
    "#Import Global Metadata etc\n",
    "\n",
    "%run '0.Importable_Globals.ipynb'"
   ]
  },
  {
   "cell_type": "code",
   "execution_count": 2,
   "metadata": {
    "collapsed": true
   },
   "outputs": [],
   "source": [
    "from datetime import date\n",
    "from datetime import timedelta\n",
    "import datetime"
   ]
  },
  {
   "cell_type": "markdown",
   "metadata": {},
   "source": [
    "# Standard Rank Approach\n",
    "\n",
    "Allows users to rank regions withing an iso, or adm1, by the amount of GLAD alerts that have occured in a given time frame.\n",
    "\n",
    "e.g. https://production-api.globalforestwatch.org/query/b6c75127-85c1-42fa-81a4-088d313797bc?sql=SELECT%20*%20FROM%20data%20%20WHERE%20polyname%20=%20%27wdpa%27%20LIMIT%2010\n",
    "\n",
    "See: https://basecamp.com/3063126/projects/10727890/todos/344440348\n",
    "\n",
    "and: https://basecamp.com/3063126/projects/10727890/todos/344440348#comment_605072039\n",
    "\n",
    "polynames: \n",
    "\n",
    "- 'gadm28'\n",
    "- 'ifl_2013'\n",
    "- 'wdpa'\n",
    "- 'kba'\n",
    "- 'aze'\n",
    "- TCLs (tiger conservation landscapes) not sure...\n",
    "\n",
    "Rank by:\n",
    "\n",
    "- area of GLADs within region (ha)\n",
    "- area of GLADs as a persentage of total extent"
   ]
  },
  {
   "cell_type": "code",
   "execution_count": 3,
   "metadata": {
    "collapsed": true
   },
   "outputs": [],
   "source": [
    "adm0 = 'BRA'\n",
    "adm1 = None\n",
    "polyname = 'gadm28'\n",
    "threshold = 30     #hard code\n",
    "extent_year = 2010 #hard coded since all glads data is post-2010\n",
    "window = 12        #allow 4,12,26,52\n",
    "\n",
    "sortBy = 'area_perc'\n",
    "\n",
    "tags = [\"forest_change\", \"Biodiversity\"] #replaces current tree cover loss widget in summary\n",
    "\n",
    "selectable_polynames = ['gadm28', 'kba', 'ifl_2013', 'wdpa', 'aze', 'tcl']"
   ]
  },
  {
   "cell_type": "code",
   "execution_count": 4,
   "metadata": {
    "collapsed": true
   },
   "outputs": [],
   "source": [
    "areaId_to_name = None\n",
    "if adm1:\n",
    "    tmp = get_admin2_json(iso=adm0, adm1=adm1)\n",
    "    areaId_to_name ={}\n",
    "    for row in tmp:\n",
    "        areaId_to_name[row.get('adm2')] = row.get('name')\n",
    "if iso and not adm1:\n",
    "    tmp = get_admin1_json(iso=adm0)\n",
    "    areaId_to_name={}\n",
    "    for row in tmp:\n",
    "        areaId_to_name[row.get('adm1')] = row.get('name') "
   ]
  },
  {
   "cell_type": "code",
   "execution_count": 5,
   "metadata": {
    "collapsed": true
   },
   "outputs": [],
   "source": [
    "def glads_queries_by_poly(iso, adm1=None, polyname='gadm28'):\n",
    "    #POLYNAME = gadm28, wdpa...\n",
    "    # Return count for now (in case we change our mind). But do not include on prod\n",
    "        url = f'https://production-api.globalforestwatch.org/query/b6c75127-85c1-42fa-81a4-088d313797bc?sql='\n",
    "        if adm1:\n",
    "            print(f'Requesting adm2 alerts')\n",
    "            sql = f\"\"\"  SELECT iso, adm1, adm2, alert_count as count, alert_date as date, area_ha, polyname \n",
    "                        FROM data \n",
    "                        WHERE iso = '{iso}'\n",
    "                        AND adm1 = {adm1}\n",
    "                        AND polyname = '{polyname}'\"\"\"  \n",
    "        elif iso:\n",
    "            print(f'Requesting adm1 alerts')\n",
    "            sql = f\"\"\"  SELECT iso, adm1, adm2, alert_count as count, alert_date as date, area_ha, polyname\n",
    "                        FROM data \n",
    "                        WHERE iso = '{iso}'\n",
    "                        AND polyname = '{polyname}'\"\"\"\n",
    "        \n",
    "        r = requests.get(url+sql)\n",
    "        print(r.url)\n",
    "\n",
    "        return r.json().get('data',None)#.get('attributes', None).get('value', None)\n"
   ]
  },
  {
   "cell_type": "code",
   "execution_count": 6,
   "metadata": {
    "collapsed": true
   },
   "outputs": [],
   "source": [
    "# Returns json object containing admin-codes, total area and extent (both in ha)\n",
    "# If adm1 is not specified, it returns the total values for each adm1 region\n",
    "# Else, returns the adm2 values within that adm1 region\n",
    "# You may also specify a polyname (intersecting area) e.g. 'extent and % of plantations only'\n",
    "# By default polyname is 'gadm28' (all forest extent)\n",
    "\n",
    "def multiregion_extent_queries(adm0, adm1=None, year='area_extent_2000', p_name='gadm28', threshold=30):\n",
    "    if adm0 and not adm1:\n",
    "        print('Request for adm1 areas')\n",
    "        sql = (f\"SELECT adm1 as region, sum({year}) as extent, sum(area_gadm28) as total \"\n",
    "               f\"FROM {ds} \"\n",
    "               f\"WHERE iso = '{adm0}' \"\n",
    "                f\"AND thresh = {threshold} \"\n",
    "               f\"AND polyname = '{p_name}' \"\n",
    "               f\"GROUP BY adm1 \"\n",
    "               f\"ORDER BY adm1\")\n",
    "    elif adm0 and adm1:\n",
    "        print('Request for adm2 areas')\n",
    "        sql = (f\"SELECT adm2 as region, {year} as extent, area_gadm28 as total \"\n",
    "                f\"FROM {ds} \"\n",
    "                f\"WHERE iso = '{adm0}' \"\n",
    "                f\"AND thresh = {threshold} \"\n",
    "                f\"AND polyname = '{p_name}' \"\n",
    "                f\"AND adm1 = '{adm1}' \")\n",
    "    return sql"
   ]
  },
  {
   "cell_type": "code",
   "execution_count": 7,
   "metadata": {
    "collapsed": true
   },
   "outputs": [],
   "source": [
    "def sumByAdm(data, adm1=None, window=4, sortBy='area_ha'):\n",
    "    \"\"\"Filters away dates outside of the past {window} weeks and then groups by adm\"\"\"\n",
    "    if adm1:\n",
    "        admin = 'adm2'\n",
    "    else:\n",
    "        admin = 'adm1'\n",
    "        \n",
    "    today = date.today()\n",
    "\n",
    "    start = today.strftime('%Y/%m/%d')\n",
    "    end = (today - timedelta(weeks=window-1)).strftime('%Y/%m/%d')\n",
    "    \n",
    "    tmp = []\n",
    "    for d in data:\n",
    "        if d.get(admin) not in tmp:\n",
    "            tmp.append(d.get(admin))\n",
    "\n",
    "    adm_list = []\n",
    "    for adm in tmp:   \n",
    "        adm_filter = list(filter(lambda x: (x.get(admin) == adm and x.get('date') >= end), data))\n",
    "        total_area = total_count = 0\n",
    "        ext = list(filter(lambda x: x.get('region') == adm, extent_data))[0].get('extent')\n",
    "        for a in adm_filter:\n",
    "            total_count += a.get('count')\n",
    "            total_area += a.get('area_ha')\n",
    "        \n",
    "        adm_list.append({'adm': areaId_to_name[adm], \n",
    "                         'area_ha': total_area, \n",
    "                         'area_perc': 100 * total_area / ext\n",
    "#                          'count': total_count,\n",
    "#                          'count_per_ha': 100 * total_count / ext\n",
    "                        })\n",
    "\n",
    "    ranked_list = sorted(adm_list, key=lambda k: k[sortBy], reverse=True)\n",
    "    \n",
    "    return ranked_list"
   ]
  },
  {
   "cell_type": "code",
   "execution_count": 8,
   "metadata": {},
   "outputs": [
    {
     "name": "stdout",
     "output_type": "stream",
     "text": [
      "Request for adm1 areas\n",
      "https://production-api.globalforestwatch.org/v1/query/499682b1-3174-493f-ba1a-368b4636708e?sql=SELECT+adm1+as+region%2C+sum%28area_extent%29+as+extent%2C+sum%28area_gadm28%29+as+total+FROM+499682b1-3174-493f-ba1a-368b4636708e+WHERE+iso+%3D+%27BRA%27+AND+thresh+%3D+30+AND+polyname+%3D+%27gadm28%27+GROUP+BY+adm1+ORDER+BY+adm1\n",
      "Status: 200\n",
      "Requesting adm1 alerts\n",
      "https://production-api.globalforestwatch.org/query/b6c75127-85c1-42fa-81a4-088d313797bc?sql=%20%20SELECT%20iso,%20adm1,%20adm2,%20alert_count%20as%20count,%20alert_date%20as%20date,%20area_ha,%20polyname%0A%20%20%20%20%20%20%20%20%20%20%20%20%20%20%20%20%20%20%20%20%20%20%20%20FROM%20data%20%0A%20%20%20%20%20%20%20%20%20%20%20%20%20%20%20%20%20%20%20%20%20%20%20%20WHERE%20iso%20=%20'BRA'%0A%20%20%20%20%20%20%20%20%20%20%20%20%20%20%20%20%20%20%20%20%20%20%20%20AND%20polyname%20=%20'gadm28'\n"
     ]
    },
    {
     "data": {
      "text/plain": [
       "[{'_id': 'AWIlMG9k8Jqrt1rpGePg',\n",
       "  'adm1': 14,\n",
       "  'adm2': 2461,\n",
       "  'area_ha': 1.53172214532,\n",
       "  'count': 20,\n",
       "  'date': '2018/03/03',\n",
       "  'iso': 'BRA',\n",
       "  'polyname': 'gadm28'},\n",
       " {'_id': 'AWIlMIFj8Jqrt1rpGgXJ',\n",
       "  'adm1': 11,\n",
       "  'adm2': 1407,\n",
       "  'area_ha': 246.28751342,\n",
       "  'count': 3410,\n",
       "  'date': '2018/03/03',\n",
       "  'iso': 'BRA',\n",
       "  'polyname': 'gadm28'},\n",
       " {'_id': 'AWIlMM0R8Jqrt1rpG2Z8',\n",
       "  'adm1': 27,\n",
       "  'adm2': 5444,\n",
       "  'area_ha': 0.0758085900157,\n",
       "  'count': 1,\n",
       "  'date': '2018/03/03',\n",
       "  'iso': 'BRA',\n",
       "  'polyname': 'gadm28'},\n",
       " {'_id': 'AWIlMN8y8Jqrt1rpG7uP',\n",
       "  'adm1': 10,\n",
       "  'adm2': 1122,\n",
       "  'area_ha': 0.383378617496,\n",
       "  'count': 5,\n",
       "  'date': '2018/03/03',\n",
       "  'iso': 'BRA',\n",
       "  'polyname': 'gadm28'},\n",
       " {'_id': 'AWIlMO_k8Jqrt1rpG_Id',\n",
       "  'adm1': 27,\n",
       "  'adm2': 5379,\n",
       "  'area_ha': 2.58370015416,\n",
       "  'count': 34,\n",
       "  'date': '2018/03/03',\n",
       "  'iso': 'BRA',\n",
       "  'polyname': 'gadm28'}]"
      ]
     },
     "execution_count": 8,
     "metadata": {},
     "output_type": "execute_result"
    }
   ],
   "source": [
    "# Example sql and returned data\n",
    "\n",
    "\n",
    "url = f\"https://production-api.globalforestwatch.org/v1/query/{ds}\"\n",
    "sql = multiregion_extent_queries(adm0, adm1, extent_year_dict[extent_year], polyname, threshold)\n",
    "\n",
    "\n",
    "properties = {\"sql\": sql}\n",
    "r = requests.get(url, params = properties)\n",
    "print(r.url)\n",
    "print(f'Status: {r.status_code}')\n",
    "\n",
    "\n",
    "\n",
    "extent_data = r.json()['data']\n",
    "glad_data = glads_queries_by_poly(iso=adm0, adm1=adm1, polyname=polyname)\n",
    "\n",
    "sorted(glad_data, key=lambda k: k['date'], reverse=True)[0:5]"
   ]
  },
  {
   "cell_type": "code",
   "execution_count": 9,
   "metadata": {},
   "outputs": [],
   "source": [
    "#Append ranking number using a list comprehension\n",
    "ranked_data = [{'adm': x.get('adm'),\n",
    "                'area_ha': x.get('area_ha'),\n",
    "                'area_perc': x.get('area_perc'),\n",
    "#                 'count': x.get('count'),\n",
    "#                 'count_per_ha': x.get('count_per_ha'),\n",
    "                'rank': i+1} for i,x in enumerate(sumByAdm(data=glad_data, adm1=adm1, window=window, sortBy=sortBy))]"
   ]
  },
  {
   "cell_type": "code",
   "execution_count": 10,
   "metadata": {},
   "outputs": [
    {
     "data": {
      "text/plain": [
       "[{'adm': 'Mato Grosso do Sul',\n",
       "  'area_ha': 494.6655611971297,\n",
       "  'area_perc': 0.006574800588670704,\n",
       "  'rank': 1},\n",
       " {'adm': 'Rio de Janeiro',\n",
       "  'area_ha': 36.6372323529772,\n",
       "  'area_perc': 0.002535577132552932,\n",
       "  'rank': 2},\n",
       " {'adm': 'Bahia',\n",
       "  'area_ha': 97.0283263590139,\n",
       "  'area_perc': 0.0007045063011993706,\n",
       "  'rank': 3},\n",
       " {'adm': 'Espírito Santo',\n",
       "  'area_ha': 2.6996537054198,\n",
       "  'area_perc': 0.00017626575391323882,\n",
       "  'rank': 4},\n",
       " {'adm': 'Goiás',\n",
       "  'area_ha': 5.2101882098229995,\n",
       "  'area_perc': 8.81555638761906e-05,\n",
       "  'rank': 5}]"
      ]
     },
     "execution_count": 10,
     "metadata": {},
     "output_type": "execute_result"
    }
   ],
   "source": [
    "ranked_data[0:5]"
   ]
  },
  {
   "cell_type": "markdown",
   "metadata": {},
   "source": [
    "# Dynamic Sentence"
   ]
  },
  {
   "cell_type": "code",
   "execution_count": 11,
   "metadata": {
    "scrolled": true
   },
   "outputs": [
    {
     "name": "stdout",
     "output_type": "stream",
     "text": [
      "In the last month 494.6655611971297 ha of GLAD alerts were detected in Mato Grosso do Sul, equivalent to a 0.006574800588670704% loss relative to 2010 tree cover extent."
     ]
    }
   ],
   "source": [
    "phrase_dict = {\n",
    "    'gadm28': 'in',\n",
    "    'wdpa': 'in protected areas within',\n",
    "    'aze': 'in Alliance for Zero Extinction sites within',\n",
    "    'ifl_2013': 'in intact forests within',\n",
    "    'tcl': 'in tiger conservation landscapes within',\n",
    "    'kba': 'in key biodiversity areas within'\n",
    "}\n",
    "    \n",
    "if window == 4:\n",
    "    timeframe = 'month'\n",
    "elif window == 12:\n",
    "    timeframe = '3 months'\n",
    "elif window == 26:\n",
    "    timeframe = '6 months'\n",
    "elif window == 52:\n",
    "    timeframe = 'year'\n",
    "\n",
    "print(f\"In the last {timeframe} \",end=\"\")\n",
    "print(f\"{ranked_data[0].get('area_ha')} ha of GLAD alerts were detected {phrase_dict[polyname]} \",end=\"\")\n",
    "print(f\"{ranked_data[0].get('adm')}, \",end=\"\")\n",
    "print(f\"equivalent to a {ranked_data[0].get('area_perc')}% loss \",end=\"\")\n",
    "print(f\"relative to 2010 tree cover extent.\",end=\"\")"
   ]
  },
  {
   "cell_type": "code",
   "execution_count": null,
   "metadata": {
    "collapsed": true
   },
   "outputs": [],
   "source": []
  },
  {
   "cell_type": "code",
   "execution_count": null,
   "metadata": {
    "collapsed": true
   },
   "outputs": [],
   "source": []
  },
  {
   "cell_type": "code",
   "execution_count": null,
   "metadata": {
    "collapsed": true
   },
   "outputs": [],
   "source": []
  },
  {
   "cell_type": "code",
   "execution_count": null,
   "metadata": {
    "collapsed": true
   },
   "outputs": [],
   "source": []
  },
  {
   "cell_type": "markdown",
   "metadata": {},
   "source": [
    "# Experimental - DO NOT IMPLEMENT!\n",
    "\n",
    "Could be interesting to plot counts vs time for the last X weeks for the top 5 admin regions experiencing the largest number of glad alerts."
   ]
  },
  {
   "cell_type": "code",
   "execution_count": 12,
   "metadata": {
    "collapsed": true
   },
   "outputs": [],
   "source": [
    "def glads_queries_by_poly(iso, adm1=None, polyname='gadm28'):\n",
    "    #POLYNAME = gadm28, wdpa...\n",
    "        url = f'https://production-api.globalforestwatch.org/query/b6c75127-85c1-42fa-81a4-088d313797bc?sql='\n",
    "        if adm1:\n",
    "            print(f'Requesting adm2 alerts')\n",
    "            sql = f\"\"\"  SELECT iso, adm1, adm2, alert_count as count, alert_date as date, area_ha, polyname \n",
    "                        FROM data \n",
    "                        WHERE iso = '{iso}'\n",
    "                        AND adm1 = {adm1}\n",
    "                        AND polyname = '{polyname}'\"\"\"  \n",
    "        elif iso:\n",
    "            print(f'Requesting adm1 alerts')\n",
    "            sql = f\"\"\"  SELECT iso, adm1, adm2, alert_count as count, alert_date as date, area_ha, polyname\n",
    "                        FROM data \n",
    "                        WHERE iso = '{iso}'\n",
    "                        AND polyname = '{polyname}'\"\"\"\n",
    "        \n",
    "        r = requests.get(url+sql)\n",
    "        print(r.url)\n",
    "\n",
    "        return r.json().get('data',None)#.get('attributes', None).get('value', None)\n"
   ]
  },
  {
   "cell_type": "code",
   "execution_count": 13,
   "metadata": {
    "collapsed": true
   },
   "outputs": [],
   "source": [
    "def cleanData(test_data):\n",
    "    \n",
    "    for d in test_data:\n",
    "        year = int(d.get('date')[0:4])\n",
    "        week = int(d.get('date')[5:7])\n",
    "        day = int(d.get('date')[8:10])\n",
    "\n",
    "        date = datetime.date(year,week,day)\n",
    "\n",
    "        d['j_year'] = date.isocalendar()[0]\n",
    "        d['j_week'] = date.isocalendar()[1]\n",
    "    return test_data"
   ]
  },
  {
   "cell_type": "code",
   "execution_count": 14,
   "metadata": {
    "collapsed": true
   },
   "outputs": [],
   "source": [
    "def aggWeekAll(test_data):\n",
    "    tmp = {}\n",
    "    for d in test_data:\n",
    "        tmp_date = f\"{d.get('j_year')}-{d.get('j_week')}\"\n",
    "        if not tmp.get(tmp_date):\n",
    "            tmp[tmp_date] = {}\n",
    "            tmp[tmp_date]['count'] = 0\n",
    "            tmp[tmp_date]['area_ha'] = 0\n",
    "            tmp[tmp_date]['j_week'] = d.get('j_week')\n",
    "            tmp[tmp_date]['j_year'] = d.get('j_year')\n",
    "\n",
    "        tmp[tmp_date]['count'] += d.get('count')\n",
    "        tmp[tmp_date]['area_ha'] += d.get('area_ha')\n",
    "\n",
    "    tmp_list = []\n",
    "    for k,v in tmp.items():\n",
    "        tmp_list.append(v)\n",
    "\n",
    "    return sorted(tmp_list, key=lambda k: (k['j_year'], k['j_week']), reverse=True)"
   ]
  },
  {
   "cell_type": "code",
   "execution_count": 15,
   "metadata": {
    "collapsed": true
   },
   "outputs": [],
   "source": [
    "def groupByAdm(test_data, admin='adm1'):\n",
    "    \n",
    "    tmp = []\n",
    "    for d in test_data:\n",
    "        if d.get('adm1') not in tmp:\n",
    "            tmp.append(d.get('adm1'))\n",
    "\n",
    "    adm_list = []\n",
    "    for adm in tmp:   \n",
    "        adm_filter = list(filter(lambda x: x.get(admin) == adm, test_data))\n",
    "        adm_filter = sorted(adm_filter, key=lambda k: (k['j_year'], k['j_week']), reverse=True)\n",
    "        ##fill zeroes\n",
    "        adm_list.append({'adm': adm, 'data': adm_filter})\n",
    "\n",
    "    return adm_list"
   ]
  },
  {
   "cell_type": "code",
   "execution_count": 16,
   "metadata": {
    "collapsed": true
   },
   "outputs": [],
   "source": [
    "def buildData(test_data):\n",
    "\n",
    "    rank_data = []\n",
    "    for d in test_data:\n",
    "        data = aggWeekAll(d.get('data'))\n",
    "        tc = 0\n",
    "        ta = 0\n",
    "        for el in d.get('data'):\n",
    "            ta += el.get('area_ha')\n",
    "            tc += el.get('count')\n",
    "            \n",
    "        rank_data.append({'adm': d.get('adm'),'data': data, 'total_count': tc, 'area_ha': ta})\n",
    "\n",
    "    return sorted(rank_data, key=lambda k: k['area_ha'], reverse=True)[0:5]"
   ]
  },
  {
   "cell_type": "code",
   "execution_count": 21,
   "metadata": {
    "scrolled": true
   },
   "outputs": [
    {
     "name": "stdout",
     "output_type": "stream",
     "text": [
      "Requesting adm1 alerts\n",
      "https://production-api.globalforestwatch.org/query/b6c75127-85c1-42fa-81a4-088d313797bc?sql=%20%20SELECT%20iso,%20adm1,%20adm2,%20alert_count%20as%20count,%20alert_date%20as%20date,%20area_ha,%20polyname%0A%20%20%20%20%20%20%20%20%20%20%20%20%20%20%20%20%20%20%20%20%20%20%20%20FROM%20data%20%0A%20%20%20%20%20%20%20%20%20%20%20%20%20%20%20%20%20%20%20%20%20%20%20%20WHERE%20iso%20=%20'BRA'%0A%20%20%20%20%20%20%20%20%20%20%20%20%20%20%20%20%20%20%20%20%20%20%20%20AND%20polyname%20=%20'gadm28'\n"
     ]
    }
   ],
   "source": [
    "test_data = buildData(groupByAdm(cleanData(glads_queries_by_poly(iso='BRA', adm1=None, polyname='gadm28'))))"
   ]
  },
  {
   "cell_type": "code",
   "execution_count": 23,
   "metadata": {},
   "outputs": [
    {
     "data": {
      "image/png": "[encoded data removed]",
      "text/plain": [
       "<matplotlib.figure.Figure at 0x139aaf160>"
      ]
     },
     "metadata": {},
     "output_type": "display_data"
    }
   ],
   "source": [
    "x_val = []\n",
    "\n",
    "y1 = []\n",
    "y2 = []\n",
    "y3 = []\n",
    "y4 = []\n",
    "y5 = []\n",
    "\n",
    "for i in range(0, 26):\n",
    "    y1.append(test_data[0].get('data')[i].get('count'))\n",
    "    y2.append(test_data[1].get('data')[i].get('count'))\n",
    "    y3.append(test_data[2].get('data')[i].get('count'))\n",
    "    y4.append(test_data[3].get('data')[i].get('count'))\n",
    "    y5.append(test_data[4].get('data')[i].get('count'))\n",
    "    x_val.append(i)\n",
    "\n",
    "plt.figure(figsize=(20,10))\n",
    "\n",
    "plt.plot(x_val, y1, 'r-', color='red')  # week in question=RED\n",
    "plt.plot(x_val, y2, 'r-', color='blue')  # mean=BLACK\n",
    "plt.plot(x_val, y3, 'r-',color='black')  # mean=BLACK\n",
    "plt.plot(x_val, y4, 'r-',color='yellow')  # mean=BLACK\n",
    "plt.plot(x_val, y5, 'r-',color='green')  # mean=BLACK\n",
    "\n",
    "\n",
    "ax = plt.gca()\n",
    "\n",
    "ax.set_xlabel('weeks')\n",
    "ax.set_ylabel('counts')\n",
    "\n",
    "plt.show()    \n"
   ]
  },
  {
   "cell_type": "code",
   "execution_count": null,
   "metadata": {
    "collapsed": true
   },
   "outputs": [],
   "source": [
    "# Problem. Need to Fill zeroes. Again."
   ]
  },
  {
   "cell_type": "code",
   "execution_count": null,
   "metadata": {
    "collapsed": true
   },
   "outputs": [],
   "source": []
  }
 ],
 "metadata": {
  "kernelspec": {
   "display_name": "Python 3",
   "language": "python",
   "name": "python3"
  },
  "language_info": {
   "codemirror_mode": {
    "name": "ipython",
    "version": 3
   },
   "file_extension": ".py",
   "mimetype": "text/x-python",
   "name": "python",
   "nbconvert_exporter": "python",
   "pygments_lexer": "ipython3",
   "version": "3.6.2"
  }
 },
 "nbformat": 4,
 "nbformat_minor": 2
}
