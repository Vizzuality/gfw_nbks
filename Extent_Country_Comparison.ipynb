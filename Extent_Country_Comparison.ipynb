{
 "cells": [
  {
   "cell_type": "markdown",
   "metadata": {},
   "source": [
    "# \"Tree cover Extent in X?\" Widget \n",
    "\n",
    "Adds a country comparison ranked list to the current widget. This might be merged with the current [widget](https://goo.gl/gG5mWk) to make a double widget - or be a stand alone one... waiting to hear!\n",
    "\n",
    "Data:\n",
    "\n",
    "1. adm-0 (adm1 and 2 = None are hardcoded)\n",
    "3. extent\n",
    "3. gadm28 area\n",
    "\n",
    "User Variables:\n",
    "\n",
    "1. extent year\n",
    "2. unit (ha/relative %)\n",
    "3. locations (all)\n",
    "4. canopy threshold\n",
    "\n",
    "\n",
    "## Note for the Front-End\n",
    "\n",
    "Here I have used a new query `all_extent` to retrieve the area and extent of each country as a list...\n",
    "however, I suspect the same data can be scraped from the existing `extent` query in the front end by selecting adm0 as `None`."
   ]
  },
  {
   "cell_type": "code",
   "execution_count": 3,
   "metadata": {
    "collapsed": true
   },
   "outputs": [],
   "source": [
    "#Import Global Metadata etc\n",
    "\n",
    "%run '0.Importable_Globals.ipynb'"
   ]
  },
  {
   "cell_type": "code",
   "execution_count": 4,
   "metadata": {
    "collapsed": true
   },
   "outputs": [],
   "source": [
    "# Variables\n",
    "adm0 = 'BRA'\n",
    "adm1 = None\n",
    "adm2 = None\n",
    "\n",
    "extent_year = 2000     # extent data 2000 or 2010\n",
    "location = \"All Region\"\n",
    "thresh = 30\n",
    "\n",
    "url = f\"https://production-api.globalforestwatch.org/v1/query/{ds}\"\n",
    "\n",
    "\n",
    "tags = [\"summary\", \"land_cover\"] #replaces current tree cover loss widget in summary\n",
    "\n",
    "selectable_polynames = ['gadm28', 'primary_forest', 'ifl_2013', 'wdpa', 'primary_forest__wdpa',\n",
    "                        'mining', 'ifl_2013__wdpa', 'primary_forest__mining', 'ifl_2013__mining',\n",
    "                        'plantations', 'plantations__mining']"
   ]
  },
  {
   "cell_type": "code",
   "execution_count": 21,
   "metadata": {
    "collapsed": true
   },
   "outputs": [],
   "source": [
    "def all_extent(p_name, adm0, extent_year=2000, threshold=30):\n",
    "    print(f'Request for extent')\n",
    "    sql = (f\"SELECT polyname, \"\n",
    "           f\"SUM({extent_year}) as value, \"\n",
    "           f\"SUM(area_gadm28) as total_area, \"\n",
    "           f\"FROM data \"\n",
    "           f\"WHERE polyname = '{p_name}' \"\n",
    "           f\"AND thresh= {threshold} \"\n",
    "           f\"GROUP BY polyname, iso\")\n",
    "    return sql\n"
   ]
  },
  {
   "cell_type": "code",
   "execution_count": 33,
   "metadata": {},
   "outputs": [
    {
     "name": "stdout",
     "output_type": "stream",
     "text": [
      "Request for extent\n",
      "https://production-api.globalforestwatch.org/v1/query/499682b1-3174-493f-ba1a-368b4636708e?sql=SELECT+polyname%2C+SUM%28area_extent_2000%29+as+value%2C+SUM%28area_gadm28%29+as+total_area%2C+FROM+data+WHERE+polyname+%3D+%27gadm28%27+AND+thresh%3D+30+GROUP+BY+polyname%2C+iso\n",
      "Status: 200\n"
     ]
    },
    {
     "data": {
      "text/plain": [
       "[{'iso': 'BRA',\n",
       "  'polyname': 'gadm28',\n",
       "  'total_area': 850033236.0111084,\n",
       "  'value': 519187505.155631},\n",
       " {'iso': 'USA',\n",
       "  'polyname': 'gadm28',\n",
       "  'total_area': 931559466.0361328,\n",
       "  'value': 279340822.8477372},\n",
       " {'iso': 'ROU',\n",
       "  'polyname': 'gadm28',\n",
       "  'total_area': 23833860.149253845,\n",
       "  'value': 7915160.704204235},\n",
       " {'iso': 'RUS',\n",
       "  'polyname': 'gadm28',\n",
       "  'total_area': 1672238939.6393886,\n",
       "  'value': 760475347.7894046},\n",
       " {'iso': 'MEX',\n",
       "  'polyname': 'gadm28',\n",
       "  'total_area': 195202320.32836914,\n",
       "  'value': 53185271.23384352}]"
      ]
     },
     "execution_count": 33,
     "metadata": {},
     "output_type": "execute_result"
    }
   ],
   "source": [
    "# Query for Extent and Area\n",
    "\n",
    "url = f\"https://production-api.globalforestwatch.org/v1/query/{ds}\"\n",
    "extent_sql = all_extent(p_name=polynames[location], adm0=adm0, extent_year=extent_year_dict[extent_year], threshold=thresh)\n",
    "\n",
    "properties = {\"sql\": extent_sql}\n",
    "rl = requests.get(url, params = properties)\n",
    "print(rl.url)\n",
    "print(f'Status: {rl.status_code}')\n",
    "\n",
    "extent_data = rl.json()['data']\n",
    "\n",
    "#Example data structure\n",
    "extent_data[0:5]"
   ]
  },
  {
   "cell_type": "markdown",
   "metadata": {},
   "source": [
    "# Ranking\n",
    "\n",
    "Rank the countries according to extent (ha) or extent relative to size of country (%)\n",
    "\n",
    "i.e. ```relative extent = 100 x (extent / gadm28_area)```"
   ]
  },
  {
   "cell_type": "code",
   "execution_count": 23,
   "metadata": {},
   "outputs": [
    {
     "data": {
      "text/plain": [
       "[{'extent': 519187505.155631, 'iso': 'BRA', 'rel_extent': 61.07849471768727},\n",
       " {'extent': 279340822.8477372, 'iso': 'USA', 'rel_extent': 29.986365125605655},\n",
       " {'extent': 7915160.704204235, 'iso': 'ROU', 'rel_extent': 33.209730419820524},\n",
       " {'extent': 760475347.7894046, 'iso': 'RUS', 'rel_extent': 45.4764764629508},\n",
       " {'extent': 53185271.23384352, 'iso': 'MEX', 'rel_extent': 27.2462290122245}]"
      ]
     },
     "execution_count": 23,
     "metadata": {},
     "output_type": "execute_result"
    }
   ],
   "source": [
    "\"\"\"First clean the data and calculate the loss relative the extent in the user selected year.\n",
    "Note: if no loss data, set to zero.\"\"\"\n",
    "\n",
    "cleaned_data = list(map(lambda x: {\n",
    "    \n",
    "    'iso': x.get('iso'),\n",
    "    'extent': x.get('value',0),\n",
    "    'rel_extent': 100*x.get('value',0)/x.get('total_area',1)\n",
    "    }, extent_data))\n",
    "\n",
    "cleaned_data[0:5]"
   ]
  },
  {
   "cell_type": "code",
   "execution_count": 24,
   "metadata": {},
   "outputs": [
    {
     "data": {
      "text/plain": [
       "{'extent': 519187505.155631, 'iso': 'BRA', 'rel_extent': 61.07849471768727}"
      ]
     },
     "execution_count": 24,
     "metadata": {},
     "output_type": "execute_result"
    }
   ],
   "source": [
    "#Retrieve the country we're interested in\n",
    "country_data = list(filter(lambda x: x.get('iso') == adm0, cleaned_data))[0]\n",
    "country_data"
   ]
  },
  {
   "cell_type": "markdown",
   "metadata": {},
   "source": [
    "### Sort by extent (ha)"
   ]
  },
  {
   "cell_type": "code",
   "execution_count": 25,
   "metadata": {},
   "outputs": [
    {
     "data": {
      "text/plain": [
       "[{'extent': 760475347.7894046, 'iso': 'RUS', 'rel_extent': 45.4764764629508},\n",
       " {'extent': 519187505.155631, 'iso': 'BRA', 'rel_extent': 61.07849471768727},\n",
       " {'extent': 417979643.29624414, 'iso': 'CAN', 'rel_extent': 42.35883770031754}]"
      ]
     },
     "execution_count": 25,
     "metadata": {},
     "output_type": "execute_result"
    }
   ],
   "source": [
    "loss_rank_list = sorted(cleaned_data, key=lambda k: k.get('extent'), reverse=True) \n",
    "loss_rank_list[0:3]"
   ]
  },
  {
   "cell_type": "code",
   "execution_count": 26,
   "metadata": {},
   "outputs": [
    {
     "name": "stdout",
     "output_type": "stream",
     "text": [
      "RANK = 2\n"
     ]
    },
    {
     "data": {
      "text/plain": [
       "[{'extent': 760475347.7894046, 'iso': 'RUS', 'rel_extent': 45.4764764629508},\n",
       " {'extent': 519187505.155631, 'iso': 'BRA', 'rel_extent': 61.07849471768727},\n",
       " {'extent': 417979643.29624414, 'iso': 'CAN', 'rel_extent': 42.35883770031754},\n",
       " {'extent': 279340822.8477372, 'iso': 'USA', 'rel_extent': 29.986365125605655},\n",
       " {'extent': 199224308.03852844, 'iso': 'COD', 'rel_extent': 85.57011233842077}]"
      ]
     },
     "execution_count": 26,
     "metadata": {},
     "output_type": "execute_result"
    }
   ],
   "source": [
    "# Get country's rank and print adjacent values ('net_usd' and 'iso' in this case)\n",
    "\n",
    "rank = 1\n",
    "for i in loss_rank_list:\n",
    "    if i.get('iso') == adm0:\n",
    "        print('RANK =', rank)\n",
    "        break\n",
    "    else:\n",
    "        rank += 1\n",
    "\n",
    "if rank == 1:\n",
    "    bottom_bound = -1\n",
    "    upper_bound = 4\n",
    "elif rank == 2:\n",
    "    bottom_bound = 2\n",
    "    upper_bound = 3    \n",
    "elif rank == len(loss_rank_list):\n",
    "    bottom_bound = 5\n",
    "    upper_bound = -1   \n",
    "elif rank == len(loss_rank_list)-1:\n",
    "    bottom_bound = 4\n",
    "    upper_bound = 0 \n",
    "else:\n",
    "    bottom_bound = 3\n",
    "    upper_bound = 2 \n",
    "    \n",
    "loss_rank_list[rank-bottom_bound:rank+upper_bound]"
   ]
  },
  {
   "cell_type": "markdown",
   "metadata": {},
   "source": [
    "### Sort by Relative extent (%)\n",
    "\n",
    "i.e. the extent relative to size of country"
   ]
  },
  {
   "cell_type": "code",
   "execution_count": 27,
   "metadata": {},
   "outputs": [
    {
     "data": {
      "text/plain": [
       "[{'extent': 2654594.891357422, 'iso': 'GNQ', 'rel_extent': 98.54297073194343},\n",
       " {'extent': 8162751.48828125, 'iso': 'GUF', 'rel_extent': 97.99109834278252},\n",
       " {'extent': 9384713.318237305, 'iso': 'LBR', 'rel_extent': 97.84091262153397}]"
      ]
     },
     "execution_count": 27,
     "metadata": {},
     "output_type": "execute_result"
    }
   ],
   "source": [
    "rel_rank_list = sorted(cleaned_data, key=lambda k: k.get('rel_extent'), reverse=True) \n",
    "rel_rank_list[0:3]"
   ]
  },
  {
   "cell_type": "code",
   "execution_count": 28,
   "metadata": {},
   "outputs": [
    {
     "name": "stdout",
     "output_type": "stream",
     "text": [
      "RANK = 50\n"
     ]
    },
    {
     "data": {
      "text/plain": [
       "[{'extent': 56532371.68322315, 'iso': 'VEN', 'rel_extent': 61.981795343763785},\n",
       " {'extent': 27883713.37854004, 'iso': 'SWE', 'rel_extent': 61.95729882774149},\n",
       " {'extent': 519187505.155631, 'iso': 'BRA', 'rel_extent': 61.07849471768727},\n",
       " {'extent': 24296427.336868286, 'iso': 'PRY', 'rel_extent': 60.81288106060947},\n",
       " {'extent': 78067722.18915814, 'iso': 'PER', 'rel_extent': 60.64206722835451}]"
      ]
     },
     "execution_count": 28,
     "metadata": {},
     "output_type": "execute_result"
    }
   ],
   "source": [
    "# Get country's rank and print adjacent values ('net_usd' and 'iso' in this case)\n",
    "\n",
    "rank = 1\n",
    "for i in rel_rank_list:\n",
    "    if i.get('iso') == adm0:\n",
    "        print('RANK =', rank)\n",
    "        break\n",
    "    else:\n",
    "        rank += 1\n",
    "\n",
    "if rank == 1:\n",
    "    bottom_bound = -1\n",
    "    upper_bound = 4\n",
    "elif rank == 2:\n",
    "    bottom_bound = 2\n",
    "    upper_bound = 3    \n",
    "elif rank == len(rel_rank_list):\n",
    "    bottom_bound = 5\n",
    "    upper_bound = -1   \n",
    "elif rank == len(rel_rank_list)-1:\n",
    "    bottom_bound = 4\n",
    "    upper_bound = 0 \n",
    "else:\n",
    "    bottom_bound = 3\n",
    "    upper_bound = 2 \n",
    "    \n",
    "rel_rank_list[rank-bottom_bound:rank+upper_bound]"
   ]
  },
  {
   "cell_type": "markdown",
   "metadata": {},
   "source": [
    "# Dynamic Sentence"
   ]
  },
  {
   "cell_type": "code",
   "execution_count": 32,
   "metadata": {},
   "outputs": [
    {
     "name": "stdout",
     "output_type": "stream",
     "text": [
      "As of 2000 Brazil had 519187505.155631ha of tree cover region-wide, equivalent to 61.07849471768727% of the country."
     ]
    }
   ],
   "source": [
    "if location == 'All Region':\n",
    "    location_phrase = 'region-wide'\n",
    "else:\n",
    "    location_phrase = 'in ' + location.lower()\n",
    "\n",
    "print(f\"As of {extent_year} {iso_to_countries[adm0]} had \",end=\"\")\n",
    "print(f\"{country_data.get('extent')}ha of tree cover {location_phrase}, \",end=\"\")\n",
    "print(f\"equivalent to {country_data.get('rel_extent')}% of the country.\",end=\"\")"
   ]
  },
  {
   "cell_type": "code",
   "execution_count": null,
   "metadata": {
    "collapsed": true
   },
   "outputs": [],
   "source": []
  }
 ],
 "metadata": {
  "kernelspec": {
   "display_name": "Python 3",
   "language": "python",
   "name": "python3"
  },
  "language_info": {
   "codemirror_mode": {
    "name": "ipython",
    "version": 3
   },
   "file_extension": ".py",
   "mimetype": "text/x-python",
   "name": "python",
   "nbconvert_exporter": "python",
   "pygments_lexer": "ipython3",
   "version": "3.6.2"
  }
 },
 "nbformat": 4,
 "nbformat_minor": 2
}
