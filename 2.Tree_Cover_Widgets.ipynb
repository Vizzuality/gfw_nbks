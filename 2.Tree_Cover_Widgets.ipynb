{
 "cells": [
  {
   "cell_type": "markdown",
   "metadata": {},
   "source": [
    "# 2. Tree cover widget\n",
    "\n",
    "The default view for the tree cover widget should be for 'All Region'.\n",
    "We provide a mapping between the text to select in the Location drop-down and the dataset IDs that need to be called in conjunction with a specific selection.\n",
    "\n",
    "\n",
    "For the default  \"All Region\" location, we will need to show 3 slices in the donut chart:\n",
    "    * Tree plantations\n",
    "    * Natural forest (tree cover 2010 - tree plantations)\n",
    "    * Non-forest (total area - tree cover 2010)\n",
    "\n",
    "We show how to calculate this below.\n",
    "\n",
    "**BUT**\n",
    "\n",
    "If other Locations are selected, (e.g. Protected Areas), we need a different donut chart. One with less data (only tree cover, and non-forest).\n",
    "\n",
    "    * Tree cover \n",
    "    * Non-forest\n",
    "\n",
    "\n",
    "\n",
    "*Notes: below this line are extra notes not needed for Front-end dev*\n",
    "\n",
    "- adm0 = BRA, adm1 = 4  is Amazonas\n",
    "- adm0 = BRA, adm1 = 4, adm2 = 141 is Amaturá  (many forests)\n",
    "- adm0 = BRA, adm1 = 12, adm2 = 1434 is Mato Grosso, Cáceres\n",
    "- adm0 = BRA, adm1 = 14, adm2 = 2404 is Para, Altamira \n",
    "- adm0 = BRA, adm1 = 16, adm2 = 3135 - largest area of plantations (Turning this on seems to reveal a bug)\n"
   ]
  },
  {
   "cell_type": "code",
   "execution_count": 1,
   "metadata": {
    "collapsed": true
   },
   "outputs": [],
   "source": [
    "#Import Global Metadata etc\n",
    "\n",
    "%run '0.Importable_Globals.ipynb'"
   ]
  },
  {
   "cell_type": "code",
   "execution_count": 2,
   "metadata": {
    "ExecuteTime": {
     "end_time": "2017-12-18T15:11:17.989474Z",
     "start_time": "2017-12-18T15:11:17.979049Z"
    },
    "collapsed": true
   },
   "outputs": [],
   "source": [
    "# VARIABLES FOR TREE COVER WIDGET\n",
    "ds = '499682b1-3174-493f-ba1a-368b4636708e'\n",
    "url = f\"https://production-api.globalforestwatch.org/v1/query/{ds}\"\n",
    "adm0 = 'BRA'\n",
    "threshold = 30\n",
    "adm1 = None\n",
    "adm2 = None\n",
    "location = 'All Region'\n",
    "extent_year = 2000 #2000 or 2010\n",
    "\n",
    "tags = [\"land_cover\", \"conservation\", \"people\", \"land_use\"]\n",
    "selectable_polynames = ['gadm28',  \"mining\", \"wdpa\", 'landmark']"
   ]
  },
  {
   "cell_type": "code",
   "execution_count": 3,
   "metadata": {
    "ExecuteTime": {
     "end_time": "2017-12-18T15:11:18.014238Z",
     "start_time": "2017-12-18T15:11:17.992763Z"
    },
    "collapsed": true
   },
   "outputs": [],
   "source": [
    "def extent_queries(p_name, year, adm0, adm1=None, adm2 = None, threshold=30):\n",
    "    if adm2:\n",
    "        print('Request for adm2 area')\n",
    "        sql = (f\"SELECT SUM({year}) as value, \"\n",
    "               f\"SUM(area_gadm28) as total_area \"\n",
    "               f\"FROM data \"\n",
    "               f\"WHERE iso = '{adm0}' \"\n",
    "               f\"AND adm1 = {adm1} \"\n",
    "               f\"AND adm2 = {adm2} \"\n",
    "               \"AND thresh = {threshold} \"\n",
    "               f\"AND polyname = '{p_name}'\")\n",
    "        return sql\n",
    "    elif adm1:\n",
    "        print('Request for  adm1 area')\n",
    "        sql = (f\"SELECT SUM({year}) as value, \"\n",
    "               f\"SUM(area_gadm28) as total_area \"\n",
    "               f\"FROM data \"\n",
    "               f\"WHERE iso = '{adm0}' \"\n",
    "               f\"AND adm1 = {adm1} \"\n",
    "               f\"AND thresh = {threshold} \"\n",
    "               f\"AND polyname = '{p_name}'\")\n",
    "        return sql\n",
    "    elif adm0:\n",
    "        print('Request for  adm0 area')\n",
    "        sql = (f\"SELECT SUM({year}) as value, \"\n",
    "               f\"SUM(area_gadm28) as total_area \"\n",
    "               f\"FROM data \"\n",
    "               f\"WHERE iso = '{adm0}' \"\n",
    "               f\"AND thresh = {threshold} \"\n",
    "               f\"AND polyname = '{p_name}'\")\n",
    "        return sql"
   ]
  },
  {
   "cell_type": "code",
   "execution_count": 4,
   "metadata": {
    "ExecuteTime": {
     "end_time": "2017-12-18T15:11:18.036279Z",
     "start_time": "2017-12-18T15:11:18.017543Z"
    }
   },
   "outputs": [
    {
     "name": "stdout",
     "output_type": "stream",
     "text": [
      "None\n"
     ]
    }
   ],
   "source": [
    "# get a human readable {id: name} json for either admin 1 or 2 level as needed:\n",
    "\n",
    "areaId_to_name = None\n",
    "if adm2:\n",
    "    tmp = get_admin2_json(iso=adm0, adm1=adm1)\n",
    "    areaId_to_name ={}\n",
    "    for row in tmp:\n",
    "        areaId_to_name[row.get('adm2')] = row.get('name')\n",
    "if adm1 and not adm2:\n",
    "    tmp = get_admin1_json(iso=adm0)\n",
    "    areaId_to_name={}\n",
    "    for row in tmp:\n",
    "        areaId_to_name[row.get('adm1')] = row.get('name') \n",
    "        \n",
    "print(areaId_to_name)"
   ]
  },
  {
   "cell_type": "code",
   "execution_count": 5,
   "metadata": {
    "ExecuteTime": {
     "end_time": "2017-12-18T16:58:23.515393Z",
     "start_time": "2017-12-18T16:58:23.314544Z"
    }
   },
   "outputs": [
    {
     "name": "stdout",
     "output_type": "stream",
     "text": [
      "Request for  adm0 area\n",
      "https://production-api.globalforestwatch.org/v1/query/499682b1-3174-493f-ba1a-368b4636708e?sql=SELECT+SUM%28area_extent_2000%29+as+value%2C+SUM%28area_gadm28%29+as+total_area+FROM+data+WHERE+iso+%3D+%27BRA%27+AND+thresh+%3D+30+AND+polyname+%3D+%27gadm28%27\n",
      "Status: 200\n",
      "{'data': [{'total_area': 850033236.0091553, 'value': 519187505.155631}],\n",
      " 'meta': {'cloneUrl': {'body': {'dataset': {'application': ['your', 'apps'],\n",
      "                                            'datasetUrl': '/v1/query/499682b1-3174-493f-ba1a-368b4636708e?sql=SELECT%20SUM%28area_extent_2000%29%20as%20value%2C%20SUM%28area_gadm28%29%20as%20total_area%20FROM%20data%20WHERE%20iso%20%3D%20%27BRA%27%20AND%20thresh%20%3D%2030%20AND%20polyname%20%3D%20%27gadm28%27'}},\n",
      "                       'http_method': 'POST',\n",
      "                       'url': '/v1/dataset/499682b1-3174-493f-ba1a-368b4636708e/clone'}}}\n",
      "\n",
      "BRA None None Gadm28 Tree cover extent = 519187505.155631 ha\n",
      "total area = 850033236.0091553 ha\n"
     ]
    }
   ],
   "source": [
    "# Get location extent and area\n",
    "\n",
    "url = f\"https://production-api.globalforestwatch.org/v1/query/{ds}\"\n",
    "\n",
    "sql = extent_queries(p_name=polynames[location], year=extent_year_dict[extent_year],\n",
    "                     adm0=adm0, adm1=adm1, adm2=adm2, threshold=threshold)\n",
    "r = requests.get(url, params = {\"sql\": sql})\n",
    "\n",
    "print(r.url)\n",
    "print(f'Status: {r.status_code}')\n",
    "pprint(r.json())\n",
    "\n",
    "try:\n",
    "    tree_cover_extent_2010 = r.json().get('data')[0].get('value')\n",
    "except:\n",
    "    tree_cover_extent_2010 = 0.0\n",
    "print(f\"\\n{adm0} {adm1} {adm2} Gadm28 Tree cover extent = {tree_cover_extent_2010} ha\")\n",
    "\n",
    "try:\n",
    "    total_area = r.json().get('data')[0].get('total_area')\n",
    "except:\n",
    "    total_area = None\n",
    "print(f\"total area = {total_area} ha\")"
   ]
  },
  {
   "cell_type": "markdown",
   "metadata": {},
   "source": [
    "** Gather PLANTATION data also if needed  **"
   ]
  },
  {
   "cell_type": "code",
   "execution_count": 6,
   "metadata": {
    "ExecuteTime": {
     "end_time": "2017-12-18T16:58:29.574163Z",
     "start_time": "2017-12-18T16:58:29.535505Z"
    }
   },
   "outputs": [
    {
     "name": "stdout",
     "output_type": "stream",
     "text": [
      "Request for  adm0 area\n",
      "https://production-api.globalforestwatch.org/v1/query/499682b1-3174-493f-ba1a-368b4636708e?sql=SELECT+SUM%28area_extent_2000%29+as+value%2C+SUM%28area_gadm28%29+as+total_area+FROM+data+WHERE+iso+%3D+%27BRA%27+AND+thresh+%3D+30+AND+polyname+%3D+%27plantations%27\n",
      "Status: 200\n",
      "{'data': [{'total_area': 660671465.5681152, 'value': 4660023.699318573}],\n",
      " 'meta': {'cloneUrl': {'body': {'dataset': {'application': ['your', 'apps'],\n",
      "                                            'datasetUrl': '/v1/query/499682b1-3174-493f-ba1a-368b4636708e?sql=SELECT%20SUM%28area_extent_2000%29%20as%20value%2C%20SUM%28area_gadm28%29%20as%20total_area%20FROM%20data%20WHERE%20iso%20%3D%20%27BRA%27%20AND%20thresh%20%3D%2030%20AND%20polyname%20%3D%20%27plantations%27'}},\n",
      "                       'http_method': 'POST',\n",
      "                       'url': '/v1/dataset/499682b1-3174-493f-ba1a-368b4636708e/clone'}}}\n",
      "\n",
      "BRA None None plantation area = 4660023.699318573 ha\n"
     ]
    }
   ],
   "source": [
    "# For some locations we will also need to retrieve an area for plantations\n",
    "# This is the area of UMD forest cover intersecting tree plantations at admin2 level\n",
    "\n",
    "if location in ['All Region']:\n",
    "    sql = extent_queries(p_name=polynames['Plantations'], year=extent_year_dict[extent_year], adm0=adm0,\n",
    "                         adm1=adm1, adm2=adm2, threshold=threshold)\n",
    "    r = requests.get(url, params = {\"sql\": sql})\n",
    "\n",
    "    print(r.url)\n",
    "    print(f'Status: {r.status_code}')\n",
    "    pprint(r.json())\n",
    "\n",
    "    try:\n",
    "        plantations = r.json().get('data')[0].get('value')\n",
    "    except:\n",
    "        plantations = 0.0\n",
    "    print(f\"\\n{adm0} {adm1} {adm2} plantation area = {plantations} ha\")\n",
    "else:\n",
    "    print(f\"No plantation data for '{location}'\")\n",
    "    plantations = None"
   ]
  },
  {
   "cell_type": "code",
   "execution_count": 7,
   "metadata": {
    "ExecuteTime": {
     "end_time": "2017-12-18T16:58:33.558576Z",
     "start_time": "2017-12-18T16:58:33.550949Z"
    }
   },
   "outputs": [
    {
     "name": "stdout",
     "output_type": "stream",
     "text": [
      "plantations=4.66002e+06, tree cover=5.19188e+08, area=8.50033e+08\n"
     ]
    }
   ],
   "source": [
    "#  Note if plantations are 0 - this situation should be considered the same as if plantation data \n",
    "# were not to be included. I.e. if plantation = 0 then \n",
    "\n",
    "if location in ['All Region']:\n",
    "    print(f\"plantations={plantations:g}, tree cover={tree_cover_extent_2010:g}, area={total_area:g}\")\n",
    "else:\n",
    "    print(f\"tree cover={tree_cover_extent_2010:g}, area={total_area:g}\")"
   ]
  },
  {
   "cell_type": "code",
   "execution_count": 8,
   "metadata": {
    "ExecuteTime": {
     "end_time": "2017-12-18T16:58:35.170649Z",
     "start_time": "2017-12-18T16:58:34.867812Z"
    }
   },
   "outputs": [
    {
     "data": {
      "image/png": "[encoded data removed]",
      "text/plain": [
       "<matplotlib.figure.Figure at 0x10fbaa710>"
      ]
     },
     "metadata": {},
     "output_type": "display_data"
    }
   ],
   "source": [
    "# Pie chart, where the slices will be ordered and plotted counter-clockwise:\n",
    "if adm0 and not adm1 and not adm2:\n",
    "    dynamic_sentence = (f\"Tree cover for {location.lower()} of {iso_to_countries[adm0]}, \"\n",
    "                        f\"with tree canopy of \\u2265{threshold}%\")\n",
    "if adm0 and adm1 and not adm2: \n",
    "    dynamic_sentence = (f\"Tree cover for {location.lower()} of {areaId_to_name[adm1]}, \"\n",
    "                        f\"with tree canopy of \\u2265{threshold}%\")\n",
    "if adm0 and adm1 and adm2:\n",
    "    dynamic_sentence = (f\"Tree cover for {location.lower()} of {areaId_to_name[adm2]}, \"\n",
    "                        f\"with tree canopy of \\u2265{threshold}%\")\n",
    "\n",
    "\n",
    "if location in ['All Region']: \n",
    "    labels = ['Tree plantations', 'Natural Forest', 'Non-forest']\n",
    "    sizes = [plantations, tree_cover_extent_2010 - plantations, total_area - tree_cover_extent_2010]\n",
    "    colors = ['orange','green','#E2CF96']\n",
    "else: \n",
    "    labels = ['Tree cover', 'Non-forest']\n",
    "    sizes = [tree_cover_extent_2010, total_area - tree_cover_extent_2010]\n",
    "    colors = ['green','grey']\n",
    "    \n",
    "fig1, ax1 = plt.subplots()\n",
    "ax1.pie(sizes, labels=labels, autopct='%1.1f%%',\n",
    "        shadow=False, startangle=90, colors=colors)\n",
    "ax1.axis('equal')\n",
    "centre_circle = plt.Circle((0,0),0.75,color='black', fc='white',linewidth=0.5)\n",
    "fig1 = plt.gcf()\n",
    "fig1.gca().add_artist(centre_circle)\n",
    "plt.suptitle('Tree cover extent')\n",
    "plt.title(dynamic_sentence)\n",
    "plt.show()"
   ]
  },
  {
   "cell_type": "code",
   "execution_count": 9,
   "metadata": {},
   "outputs": [
    {
     "name": "stdout",
     "output_type": "stream",
     "text": [
      "Brazil is mainly tree covered, considering tree cover extent in 2000 where tree canopy is greater than 30%.\n"
     ]
    }
   ],
   "source": [
    "if location == 'All Region':\n",
    "\n",
    "    if adm2:\n",
    "        print(f\"{areaId_to_name[adm2]} is \", end=\"\")\n",
    "    elif adm1: \n",
    "        print(f\"{areaId_to_name[adm1]} is \", end=\"\")\n",
    "    elif adm0:\n",
    "        print(f\"{iso_to_countries[adm0]} is \", end=\"\")\n",
    "\n",
    "elif location == 'Mining':\n",
    "    \n",
    "    if adm2:\n",
    "        print(f\"{location} areas in {areaId_to_name[adm2]} are \", end=\"\")\n",
    "    elif adm1: \n",
    "        print(f\"{location} areas in {areaId_to_name[adm1]} are \", end=\"\")\n",
    "    elif adm0:\n",
    "        print(f\"{location} areas in {iso_to_countries[adm0]} are \", end=\"\")\n",
    "        \n",
    "else:\n",
    "    \n",
    "    if adm2:\n",
    "        print(f\"{location} in {areaId_to_name[adm2]} are \", end=\"\")\n",
    "    elif adm1: \n",
    "        print(f\"{location} in {areaId_to_name[adm1]} are \", end=\"\")\n",
    "    elif adm0:\n",
    "        print(f\"{location} in {iso_to_countries[adm0]} are \", end=\"\")\n",
    "\n",
    "print(f\"mainly \", end=\"\")\n",
    "\n",
    "if tree_cover_extent_2010/total_area > 0.5:\n",
    "    print(f\"tree covered, considering tree cover extent \", end=\"\")\n",
    "else:\n",
    "     print(f\"non-forest, considering tree cover extent \", end=\"\")\n",
    "print(f\"in {extent_year} where tree canopy is greater than {threshold}%.\")"
   ]
  },
  {
   "cell_type": "markdown",
   "metadata": {},
   "source": [
    "# Tree cover widget (IFL ver.)\n",
    "\n",
    "The default view for the tree cover widget should be for 'All region'.\n",
    "We provide a mapping between the text to select in the Location drop-down and the dataset IDs that need to be called in conjunction with a specific selection.\n",
    "\n",
    "                'Intact Forest Landscapes':'ifl_2013',\n",
    "\n",
    "## INTACT FOREST LAYER EXTENT \n",
    "\n",
    "If plantation country:\n",
    "\n",
    "  * Intact Forest = ifl_2013 extent\n",
    "  * Degraded Forest = gadm28 extent - ifl_2013 extent - plantations extent\n",
    "  * Plantations = plantations extent\n",
    "  * Non-Forest = gadm28 area - gadm28 extent\n",
    "\n",
    "If not plantation country:\n",
    "\n",
    "* Intact Forest = ifl_2013 extent\n",
    "* Other Tree Cover = gadm28 extent - ifl_2013 extent\n",
    "* Non-Forest = gadm28 area - gadm28 extent\n",
    "\n",
    "#### Refine Location options:\n",
    "\n",
    "The dropdown 'Refine Location within' menu should expose the following options:\n",
    "\n",
    "* All Intact Forests (2013)  (default)\n",
    "* Mining in Intact Forests\n",
    "* Protected Areas in Intact Forests\n",
    "* Indigenous lands in Intact Forests  (landmark data)\n",
    "\n",
    "IMPORTANT: if a user selects one of the location refined areas, then all the queries\n",
    "need to update. E.g. if a user had selected \"Mining in Intact Forests\" then the\n",
    "donut data should be calculated as follows:\n",
    "\n",
    "* Intact Forest = ifl_2013__mining extent\n",
    "* Degraded Forest = mining extent - ifl_2013_mining extent - plantations_mining extent\n",
    "* Plantations = plantations__mining extent\n",
    "* Non-Forest = mining poly_area - mining extent"
   ]
  },
  {
   "cell_type": "code",
   "execution_count": 10,
   "metadata": {
    "collapsed": true
   },
   "outputs": [],
   "source": [
    "# VARIABLES FOR TREE COVER WIDGET\n",
    "ds = '499682b1-3174-493f-ba1a-368b4636708e'\n",
    "url = f\"https://production-api.globalforestwatch.org/v1/query/{ds}\"\n",
    "adm0 = 'BRA'\n",
    "threshold = 30\n",
    "adm1 = None\n",
    "adm2 = None\n",
    "location = 'Intact Forest Landscapes'\n",
    "extent_year = 2000\n",
    "\n",
    "tags = [\"land_cover\"]\n",
    "selectable_polynames = ['ifl_2013', 'ifl_2013__mining','ifl_2013__wdpa']"
   ]
  },
  {
   "cell_type": "code",
   "execution_count": 11,
   "metadata": {
    "collapsed": true
   },
   "outputs": [],
   "source": [
    "# get a human readable {id: name} json for either admin 1 or 2 level as needed:\n",
    "\n",
    "areaId_to_name = None\n",
    "if adm2:\n",
    "    tmp = get_admin2_json(iso=adm0, adm1=adm1)\n",
    "    areaId_to_name ={}\n",
    "    for row in tmp:\n",
    "        areaId_to_name[row.get('adm2')] = row.get('name')\n",
    "if adm1 and not adm2:\n",
    "    tmp = get_admin1_json(iso=adm0)\n",
    "    areaId_to_name={}\n",
    "    for row in tmp:\n",
    "        areaId_to_name[row.get('adm1')] = row.get('name') "
   ]
  },
  {
   "cell_type": "code",
   "execution_count": 12,
   "metadata": {},
   "outputs": [
    {
     "name": "stdout",
     "output_type": "stream",
     "text": [
      "Request for  adm0 area\n",
      "https://production-api.globalforestwatch.org/v1/query/499682b1-3174-493f-ba1a-368b4636708e?sql=SELECT+SUM%28area_extent_2000%29+as+value%2C+SUM%28area_gadm28%29+as+total_area+FROM+data+WHERE+iso+%3D+%27BRA%27+AND+thresh+%3D+30+AND+polyname+%3D+%27ifl_2013%27\n",
      "Status: 200\n",
      "{'data': [{'total_area': 381399518.46484375, 'value': 229520380.42967987}],\n",
      " 'meta': {'cloneUrl': {'body': {'dataset': {'application': ['your', 'apps'],\n",
      "                                            'datasetUrl': '/v1/query/499682b1-3174-493f-ba1a-368b4636708e?sql=SELECT%20SUM%28area_extent_2000%29%20as%20value%2C%20SUM%28area_gadm28%29%20as%20total_area%20FROM%20data%20WHERE%20iso%20%3D%20%27BRA%27%20AND%20thresh%20%3D%2030%20AND%20polyname%20%3D%20%27ifl_2013%27'}},\n",
      "                       'http_method': 'POST',\n",
      "                       'url': '/v1/dataset/499682b1-3174-493f-ba1a-368b4636708e/clone'}}}\n",
      "\n",
      "BRA None None plantation area = 229520380.42967987 ha\n"
     ]
    }
   ],
   "source": [
    "# Get Intact Forest Landscapes extent and  region area\n",
    "\n",
    "if location in ['Intact Forest Landscapes',\n",
    "                'Protected Areas in Intact Forest Landscapes',\n",
    "                'Mining in Intact Forest Landscapes']:\n",
    "    sql = extent_queries(p_name=polynames['Intact Forest Landscapes'], year=extent_year_dict[extent_year],\n",
    "                         adm0=adm0, adm1=adm1, adm2=adm2, threshold=threshold)\n",
    "    r = requests.get(url, params = {\"sql\": sql})\n",
    "\n",
    "    print(r.url)\n",
    "    print(f'Status: {r.status_code}')\n",
    "    pprint(r.json())\n",
    "\n",
    "    try:\n",
    "        intact_forest = r.json().get('data')[0].get('value')\n",
    "    except:\n",
    "        intact_forest = 0.0\n",
    "    print(f\"\\n{adm0} {adm1} {adm2} plantation area = {intact_forest} ha\")\n",
    "else:\n",
    "    print(f\"No data, for '{intact_forest}'\")\n",
    "\n",
    "    intact_forest = None"
   ]
  },
  {
   "cell_type": "code",
   "execution_count": 13,
   "metadata": {},
   "outputs": [
    {
     "name": "stdout",
     "output_type": "stream",
     "text": [
      "Request for  adm0 area\n",
      "https://production-api.globalforestwatch.org/v1/query/499682b1-3174-493f-ba1a-368b4636708e?sql=SELECT+SUM%28area_extent_2000%29+as+value%2C+SUM%28area_gadm28%29+as+total_area+FROM+data+WHERE+iso+%3D+%27BRA%27+AND+thresh+%3D+30+AND+polyname+%3D+%27gadm28%27\n",
      "Status: 200\n",
      "{'data': [{'total_area': 850033236.0091553, 'value': 519187505.155631}],\n",
      " 'meta': {'cloneUrl': {'body': {'dataset': {'application': ['your', 'apps'],\n",
      "                                            'datasetUrl': '/v1/query/499682b1-3174-493f-ba1a-368b4636708e?sql=SELECT%20SUM%28area_extent_2000%29%20as%20value%2C%20SUM%28area_gadm28%29%20as%20total_area%20FROM%20data%20WHERE%20iso%20%3D%20%27BRA%27%20AND%20thresh%20%3D%2030%20AND%20polyname%20%3D%20%27gadm28%27'}},\n",
      "                       'http_method': 'POST',\n",
      "                       'url': '/v1/dataset/499682b1-3174-493f-ba1a-368b4636708e/clone'}}}\n",
      "\n",
      "BRA None None Gadm28 Tree cover extent = 519187505.155631 ha\n",
      "total area = 850033236.0091553 ha\n"
     ]
    }
   ],
   "source": [
    "# Get specific extent and area values for intersections (mining in intact forest etc)\n",
    "url = f\"https://production-api.globalforestwatch.org/v1/query/{ds}\"\n",
    "\n",
    "if location in ['Intact Forest Landscapes']:\n",
    "    poly = polynames['All Region']\n",
    "elif location in ['Protected Areas in Intact Forest Landscapes']:\n",
    "    poly = polynames['Protected Areas']\n",
    "elif location in ['Mining in Intact Forest Landscapes']:\n",
    "    poly = polynames['Mining']\n",
    "    \n",
    "sql = extent_queries(p_name=poly, year=extent_year_dict[extent_year], adm0=adm0, adm1=adm1, adm2=adm2, threshold=threshold)\n",
    "r = requests.get(url, params = {\"sql\": sql})\n",
    "\n",
    "print(r.url)\n",
    "print(f'Status: {r.status_code}')\n",
    "pprint(r.json())\n",
    "\n",
    "try:\n",
    "    tree_cover_extent_2010 = r.json().get('data')[0].get('value')\n",
    "except:\n",
    "    tree_cover_extent_2010 = 0.0\n",
    "print(f\"\\n{adm0} {adm1} {adm2} Gadm28 Tree cover extent = {tree_cover_extent_2010} ha\")\n",
    "\n",
    "try:\n",
    "    total_area = r.json().get('data')[0].get('total_area')\n",
    "except:\n",
    "    total_area = None\n",
    "print(f\"total area = {total_area} ha\")"
   ]
  },
  {
   "cell_type": "code",
   "execution_count": 14,
   "metadata": {},
   "outputs": [
    {
     "name": "stdout",
     "output_type": "stream",
     "text": [
      "Request for  adm0 area\n",
      "https://production-api.globalforestwatch.org/v1/query/499682b1-3174-493f-ba1a-368b4636708e?sql=SELECT+SUM%28area_extent_2000%29+as+value%2C+SUM%28area_gadm28%29+as+total_area+FROM+data+WHERE+iso+%3D+%27BRA%27+AND+thresh+%3D+30+AND+polyname+%3D+%27plantations%27\n",
      "Status: 200\n",
      "{'data': [{'total_area': 660671465.5681152, 'value': 4660023.699318573}],\n",
      " 'meta': {'cloneUrl': {'body': {'dataset': {'application': ['your', 'apps'],\n",
      "                                            'datasetUrl': '/v1/query/499682b1-3174-493f-ba1a-368b4636708e?sql=SELECT%20SUM%28area_extent_2000%29%20as%20value%2C%20SUM%28area_gadm28%29%20as%20total_area%20FROM%20data%20WHERE%20iso%20%3D%20%27BRA%27%20AND%20thresh%20%3D%2030%20AND%20polyname%20%3D%20%27plantations%27'}},\n",
      "                       'http_method': 'POST',\n",
      "                       'url': '/v1/dataset/499682b1-3174-493f-ba1a-368b4636708e/clone'}}}\n",
      "\n",
      "BRA None None plantation area = 4660023.699318573 ha\n"
     ]
    }
   ],
   "source": [
    "# For some locations we will also need to retrieve an area for plantations\n",
    "# If user is interested on subregion (i.e mining) then get plantations within that subregion\n",
    "\n",
    "if adm0 in polyname_config.get('plantations'):\n",
    "    if location in ['Protected Areas in Intact Forest Landscapes']:\n",
    "        plantations_poly = polynames['Protected areas in Plantations']\n",
    "    elif location in ['Mining in Intact Forest Landscapes']:\n",
    "        plantations_poly = polynames['Mining in Plantation Areas']\n",
    "    else:\n",
    "        plantations_poly = polynames['Plantations']\n",
    "        \n",
    "    sql = extent_queries(p_name=plantations_poly, year=extent_year_dict[extent_year],\n",
    "                         adm0=adm0, adm1=adm1, adm2=adm2, threshold=threshold)\n",
    "    r = requests.get(url, params = {\"sql\": sql})\n",
    "\n",
    "    print(r.url)\n",
    "    print(f'Status: {r.status_code}')\n",
    "    pprint(r.json())\n",
    "\n",
    "    try:\n",
    "        plantations = r.json().get('data')[0].get('value')\n",
    "    except:\n",
    "        plantations = 0.0\n",
    "    print(f\"\\n{adm0} {adm1} {adm2} plantation area = {plantations} ha\")\n",
    "else:\n",
    "    print(f\"No plantation data for '{location}'\")\n",
    "    plantations = None"
   ]
  },
  {
   "cell_type": "code",
   "execution_count": 15,
   "metadata": {},
   "outputs": [
    {
     "data": {
      "image/png": "[encoded data removed]",
      "text/plain": [
       "<matplotlib.figure.Figure at 0x10fcb4080>"
      ]
     },
     "metadata": {},
     "output_type": "display_data"
    }
   ],
   "source": [
    "# Pie chart, where the slices will be ordered and plotted counter-clockwise:\n",
    "if adm0 and not adm1 and not adm2:\n",
    "    dynamic_sentence = (f\"Tree cover for {location.lower()} of {iso_to_countries[adm0]}, \"\n",
    "                        f\"with tree canopy of \\u2265{threshold}%\")\n",
    "if adm0 and adm1 and not adm2: \n",
    "    dynamic_sentence = (f\"Tree cover for {location.lower()} of {areaId_to_name[adm1]}, \"\n",
    "                        f\"with tree canopy of \\u2265{threshold}%\")\n",
    "if adm0 and adm1 and adm2:\n",
    "    dynamic_sentence = (f\"Tree cover for {location.lower()} of {areaId_to_name[adm2]}, \"\n",
    "                        f\"with tree canopy of \\u2265{threshold}%\")\n",
    "\n",
    "if location in ['Protected Areas in Intact Forest Landscapes', 'Mining in Intact Forest Landscapes']:\n",
    "        labels = ['Intact Forest', 'Degraded Forest', 'Non-forest']\n",
    "        sizes = [intact_forest, total_area - intact_forest, total_area - tree_cover_extent_2010]\n",
    "        colors = ['green', 'yellow','#E2CF96']\n",
    "        \n",
    "        if adm0 in polyname_config.get('plantations') and plantations != 0:\n",
    "            \n",
    "            labels.append('Plantations')\n",
    "            sizes.append(plantations)\n",
    "            colors.append('orange')\n",
    "            sizes[1] = sizes[1] - plantations\n",
    "\n",
    "elif location in ['Intact Forest Landscapes']: \n",
    "    labels = ['Intact Forest', 'Degraded Forest', 'Non-forest']\n",
    "    sizes = [intact_forest, tree_cover_extent_2010 - intact_forest, total_area - tree_cover_extent_2010]\n",
    "    colors = ['green', 'yellow','#E2CF96']\n",
    "    \n",
    "    if adm0 in polyname_config.get('plantations') and plantations != 0:\n",
    "\n",
    "        labels.append('Plantations')\n",
    "        sizes.append(plantations)\n",
    "        colors.append('orange')\n",
    "        sizes[1] = sizes[1] - plantations\n",
    "\n",
    "\n",
    "fig1, ax1 = plt.subplots()\n",
    "ax1.pie(sizes, labels=labels, autopct='%1.1f%%',\n",
    "        shadow=False, startangle=90, colors=colors)\n",
    "ax1.axis('equal')\n",
    "centre_circle = plt.Circle((0,0),0.75,color='black', fc='white',linewidth=0.5)\n",
    "fig1 = plt.gcf()\n",
    "fig1.gca().add_artist(centre_circle)\n",
    "plt.suptitle('Tree cover extent')\n",
    "plt.title(dynamic_sentence)\n",
    "plt.show()"
   ]
  },
  {
   "cell_type": "code",
   "execution_count": 16,
   "metadata": {},
   "outputs": [
    {
     "name": "stdout",
     "output_type": "stream",
     "text": [
      "Within Intact Forest Landscapes in Brazil the majority of tree cover is found in degraded forests, considering tree cover extent in 2000 where tree canopy is greater than 30%.\n"
     ]
    }
   ],
   "source": [
    "if adm0 not in polyname_config.get('plantations'):\n",
    "    plantations = 0\n",
    "\n",
    "if location == 'Mining in Intact Forest Landscapes':\n",
    "    if adm2:\n",
    "        print(f\"Within areas of {location} in {areaId_to_name[adm2]} \", end=\"\")\n",
    "    elif adm1: \n",
    "        print(f\"Within areas of {location} in {areaId_to_name[adm1]} \", end=\"\")\n",
    "    elif adm0:\n",
    "        print(f\"Within areas of {location} in {iso_to_countries[adm0]} \", end=\"\")\n",
    "        \n",
    "else:\n",
    "    if adm2:\n",
    "        print(f\"Within {location} in {areaId_to_name[adm2]} \", end=\"\")\n",
    "    elif adm1: \n",
    "        print(f\"Within {location} in {areaId_to_name[adm1]} \", end=\"\")\n",
    "    elif adm0:\n",
    "        print(f\"Within {location} in {iso_to_countries[adm0]} \", end=\"\")\n",
    "\n",
    "if intact_forest/tree_cover_extent_2010 > 0.5:\n",
    "    print(f\"the majority of tree cover is found in areas with {location.lower()}, \", end=\"\")\n",
    "elif (tree_cover_extent_2010 - intact_forest - plantations)/tree_cover_extent_2010 > 0.5:\n",
    "    print(f\"the majority of tree cover is found in degraded forests, \", end=\"\")\n",
    "else:\n",
    "    print(f\"the majority of tree cover is found in plantations, \", end=\"\")\n",
    "print(f\"considering tree cover extent in {extent_year} where tree canopy is greater than {threshold}%.\")\n"
   ]
  },
  {
   "cell_type": "markdown",
   "metadata": {},
   "source": [
    "# Tree cover widget (Primary Forests ver.)\n",
    "\n",
    "The default view for the tree cover widget should be for 'All region'.\n",
    "We provide a mapping between the text to select in the Location drop-down and the dataset IDs that need to be called in conjunction with a specific selection.\n",
    "\n",
    "If plantation country:\n",
    "\n",
    "* Primary Forest = primary_forest extent\n",
    "* Secondary Forest = gadm28 extent - primary_forest extent - plantations extent\n",
    "* Plantations = plantations extent\n",
    "* Non-Forest = gadm28 area - gadm28 extent\n",
    "\n",
    "If not plantation country:\n",
    "\n",
    "* Primary Forest = primary_forest extent\n",
    "* Other Tree Cover = gadm28 extent - primary_forest extent\n",
    "* Non-Forest = gadm28 area - gadm28 extent\n",
    "\n",
    "#### Refine Location Options:\n",
    "\n",
    "The dropdown 'Refine Location within' menu should expose the following options:\n",
    "\n",
    "* All Primary Forests (default)\n",
    "* Mining areas in Primary Forests\n",
    "* Protected areas in Primary Forests\n",
    "* Indigenous lands in Primary Forests (landmark data)\n",
    "\n",
    "\n"
   ]
  },
  {
   "cell_type": "code",
   "execution_count": 17,
   "metadata": {
    "collapsed": true
   },
   "outputs": [],
   "source": [
    "# VARIABLES FOR TREE COVER WIDGET\n",
    "ds = '499682b1-3174-493f-ba1a-368b4636708e'\n",
    "url = f\"https://production-api.globalforestwatch.org/v1/query/{ds}\"\n",
    "adm0 = 'BRA'\n",
    "threshold = 30\n",
    "adm1 = None\n",
    "adm2 = None\n",
    "location = 'Primary Forests'\n",
    "year = 2000\n",
    "\n",
    "tags = [\"land_cover\"]\n",
    "selectable_polynames = ['gadm28', 'primary_forest', 'primary_forest__mining', \n",
    "                        'primary_forest__wdpa','primary_forest__landmark']"
   ]
  },
  {
   "cell_type": "code",
   "execution_count": 18,
   "metadata": {
    "collapsed": true
   },
   "outputs": [],
   "source": [
    "# get a human readable {id: name} json for either admin 1 or 2 level as needed:\n",
    "\n",
    "areaId_to_name = None\n",
    "if adm2:\n",
    "    tmp = get_admin2_json(iso=adm0, adm1=adm1)\n",
    "    areaId_to_name ={}\n",
    "    for row in tmp:\n",
    "        areaId_to_name[row.get('adm2')] = row.get('name')\n",
    "if adm1 and not adm2:\n",
    "    tmp = get_admin1_json(iso=adm0)\n",
    "    areaId_to_name={}\n",
    "    for row in tmp:\n",
    "        areaId_to_name[row.get('adm1')] = row.get('name') "
   ]
  },
  {
   "cell_type": "code",
   "execution_count": 19,
   "metadata": {},
   "outputs": [
    {
     "name": "stdout",
     "output_type": "stream",
     "text": [
      "Request for  adm0 area\n",
      "https://production-api.globalforestwatch.org/v1/query/499682b1-3174-493f-ba1a-368b4636708e?sql=SELECT+SUM%28area_extent_2000%29+as+value%2C+SUM%28area_gadm28%29+as+total_area+FROM+data+WHERE+iso+%3D+%27BRA%27+AND+thresh+%3D+30+AND+polyname+%3D+%27gadm28%27\n",
      "Status: 200\n",
      "{'data': [{'total_area': 850033236.0091553, 'value': 519187505.155631}],\n",
      " 'meta': {'cloneUrl': {'body': {'dataset': {'application': ['your', 'apps'],\n",
      "                                            'datasetUrl': '/v1/query/499682b1-3174-493f-ba1a-368b4636708e?sql=SELECT%20SUM%28area_extent_2000%29%20as%20value%2C%20SUM%28area_gadm28%29%20as%20total_area%20FROM%20data%20WHERE%20iso%20%3D%20%27BRA%27%20AND%20thresh%20%3D%2030%20AND%20polyname%20%3D%20%27gadm28%27'}},\n",
      "                       'http_method': 'POST',\n",
      "                       'url': '/v1/dataset/499682b1-3174-493f-ba1a-368b4636708e/clone'}}}\n",
      "\n",
      "BRA None None Gadm28 Tree cover extent = 519187505.155631 ha\n",
      "total area = 850033236.0091553 ha\n"
     ]
    }
   ],
   "source": [
    "# Get extent and area of region\n",
    "url = f\"https://production-api.globalforestwatch.org/v1/query/{ds}\"\n",
    "\n",
    "if location in ['Primary Forests']:\n",
    "    poly = polynames['All Region']\n",
    "elif location in ['Protected Areas in Primary Forests']:\n",
    "    poly = polynames['Protected Areas']\n",
    "elif location in ['Mining in Primary Forests']:\n",
    "    poly = polynames['Mining']\n",
    "elif location in ['Indigenous Lands in Primary Forests']:\n",
    "    poly = polynames['Indigenous Lands']\n",
    "    \n",
    "sql = extent_queries(p_name=poly, year=extent_year_dict[extent_year],\n",
    "                     adm0=adm0, adm1=adm1, adm2=adm2, threshold=threshold)\n",
    "r = requests.get(url, params = {\"sql\": sql})\n",
    "\n",
    "print(r.url)\n",
    "print(f'Status: {r.status_code}')\n",
    "pprint(r.json())\n",
    "\n",
    "try:\n",
    "    tree_cover_extent_2010 = r.json().get('data')[0].get('value')\n",
    "except:\n",
    "    tree_cover_extent_2010 = 0.0\n",
    "print(f\"\\n{adm0} {adm1} {adm2} Gadm28 Tree cover extent = {tree_cover_extent_2010} ha\")\n",
    "\n",
    "try:\n",
    "    total_area = r.json().get('data')[0].get('total_area')\n",
    "except:\n",
    "    total_area = None\n",
    "print(f\"total area = {total_area} ha\")"
   ]
  },
  {
   "cell_type": "code",
   "execution_count": 20,
   "metadata": {},
   "outputs": [
    {
     "name": "stdout",
     "output_type": "stream",
     "text": [
      "Request for  adm0 area\n",
      "https://production-api.globalforestwatch.org/v1/query/499682b1-3174-493f-ba1a-368b4636708e?sql=SELECT+SUM%28area_extent_2000%29+as+value%2C+SUM%28area_gadm28%29+as+total_area+FROM+data+WHERE+iso+%3D+%27BRA%27+AND+thresh+%3D+30+AND+polyname+%3D+%27primary_forest%27\n",
      "Status: 200\n",
      "{'data': [{'total_area': 577934483.182251, 'value': 343232410.75174}],\n",
      " 'meta': {'cloneUrl': {'body': {'dataset': {'application': ['your', 'apps'],\n",
      "                                            'datasetUrl': '/v1/query/499682b1-3174-493f-ba1a-368b4636708e?sql=SELECT%20SUM%28area_extent_2000%29%20as%20value%2C%20SUM%28area_gadm28%29%20as%20total_area%20FROM%20data%20WHERE%20iso%20%3D%20%27BRA%27%20AND%20thresh%20%3D%2030%20AND%20polyname%20%3D%20%27primary_forest%27'}},\n",
      "                       'http_method': 'POST',\n",
      "                       'url': '/v1/dataset/499682b1-3174-493f-ba1a-368b4636708e/clone'}}}\n",
      "\n",
      "BRA None None plantation area = 343232410.75174 ha\n"
     ]
    }
   ],
   "source": [
    "# get primary forests extent and area\n",
    "\n",
    "if location in ['Primary Forests', 'Mining in Primary Forests',\n",
    "                'Protected Areas in Primary Forests','Indigenous Lands in Primary Forests']:\n",
    "    sql = extent_queries(p_name=polynames['Primary Forests'], year=extent_year_dict[extent_year],\n",
    "                         adm0=adm0, adm1=adm1, adm2=adm2, threshold=threshold)\n",
    "    r = requests.get(url, params = {\"sql\": sql})\n",
    "\n",
    "    print(r.url)\n",
    "    print(f'Status: {r.status_code}')\n",
    "    pprint(r.json())\n",
    "\n",
    "    try:\n",
    "        primary_forest = r.json().get('data')[0].get('value')\n",
    "    except:\n",
    "        primary_forest = 0.0\n",
    "    print(f\"\\n{adm0} {adm1} {adm2} plantation area = {primary_forest} ha\")\n",
    "else:\n",
    "    print(f\"No data, for '{primary_forest}'\")\n",
    "    primary_forest = None"
   ]
  },
  {
   "cell_type": "code",
   "execution_count": 21,
   "metadata": {},
   "outputs": [
    {
     "name": "stdout",
     "output_type": "stream",
     "text": [
      "Request for  adm0 area\n",
      "https://production-api.globalforestwatch.org/v1/query/499682b1-3174-493f-ba1a-368b4636708e?sql=SELECT+SUM%28area_extent_2000%29+as+value%2C+SUM%28area_gadm28%29+as+total_area+FROM+data+WHERE+iso+%3D+%27BRA%27+AND+thresh+%3D+30+AND+polyname+%3D+%27plantations%27\n",
      "Status: 200\n",
      "{'data': [{'total_area': 660671465.5681152, 'value': 4660023.699318573}],\n",
      " 'meta': {'cloneUrl': {'body': {'dataset': {'application': ['your', 'apps'],\n",
      "                                            'datasetUrl': '/v1/query/499682b1-3174-493f-ba1a-368b4636708e?sql=SELECT%20SUM%28area_extent_2000%29%20as%20value%2C%20SUM%28area_gadm28%29%20as%20total_area%20FROM%20data%20WHERE%20iso%20%3D%20%27BRA%27%20AND%20thresh%20%3D%2030%20AND%20polyname%20%3D%20%27plantations%27'}},\n",
      "                       'http_method': 'POST',\n",
      "                       'url': '/v1/dataset/499682b1-3174-493f-ba1a-368b4636708e/clone'}}}\n",
      "\n",
      "BRA None None plantation area = 4660023.699318573 ha\n"
     ]
    }
   ],
   "source": [
    "# Get plantation extent within the region\n",
    "\n",
    "if adm0 in polyname_config.get('plantations'):\n",
    "    if location in ['Protected Areas in Primary Forests']:\n",
    "        plantations_poly = polynames['Protected areas in Plantations']\n",
    "    elif location in ['Indigenous Lands in Primary Forests']:\n",
    "        plantations_poly = polynames['Indigenous Lands in Plantations']\n",
    "    elif location in ['Mining in Primary Forests']:\n",
    "        plantations_poly = polynames['Mining in Plantation Areas']\n",
    "    else:\n",
    "        plantations_poly = polynames['Plantations']\n",
    "        \n",
    "    sql = extent_queries(p_name=plantations_poly, year=extent_year_dict[extent_year], \n",
    "                         adm0=adm0, adm1=adm1, adm2=adm2, threshold=threshold)\n",
    "    r = requests.get(url, params = {\"sql\": sql})\n",
    "\n",
    "    print(r.url)\n",
    "    print(f'Status: {r.status_code}')\n",
    "    pprint(r.json())\n",
    "\n",
    "    try:\n",
    "        plantations = r.json().get('data')[0].get('value')\n",
    "    except:\n",
    "        plantations = 0.0\n",
    "    print(f\"\\n{adm0} {adm1} {adm2} plantation area = {plantations} ha\")\n",
    "else:\n",
    "    print(f\"No plantation data for '{location}'\")\n",
    "    plantations = None"
   ]
  },
  {
   "cell_type": "code",
   "execution_count": 22,
   "metadata": {},
   "outputs": [
    {
     "data": {
      "image/png": "[encoded data removed]",
      "text/plain": [
       "<matplotlib.figure.Figure at 0x10fb9a048>"
      ]
     },
     "metadata": {},
     "output_type": "display_data"
    }
   ],
   "source": [
    "# Pie chart, where the slices will be ordered and plotted counter-clockwise:\n",
    "if adm0 and not adm1 and not adm2:\n",
    "    dynamic_sentence = (f\"Tree cover for {location.lower()} of {iso_to_countries[adm0]}, \"\n",
    "                        f\"with tree canopy of \\u2265{threshold}%\")\n",
    "if adm0 and adm1 and not adm2: \n",
    "    dynamic_sentence = (f\"Tree cover for {location.lower()} of {areaId_to_name[adm1]}, \"\n",
    "                        f\"with tree canopy of \\u2265{threshold}%\")\n",
    "if adm0 and adm1 and adm2:\n",
    "    dynamic_sentence = (f\"Tree cover for {location.lower()} of {areaId_to_name[adm2]}, \"\n",
    "                        f\"with tree canopy of \\u2265{threshold}%\")\n",
    "\n",
    "if location in ['Mining in Primary Forests',\n",
    "                'Protected Areas in Primary Forests','Indigenous Lands in Primary Forests']:\n",
    "        labels = ['Primary Forest', 'Other Forest', 'Non-forest']\n",
    "        sizes = [primary_forest, total_area - primary_forest, total_area - super_location]\n",
    "        colors = ['green', 'yellow','#E2CF96']\n",
    "        \n",
    "        if adm0 in polyname_config.get('plantations') and plantations != 0:\n",
    "            \n",
    "            labels.append('Plantations')\n",
    "            sizes.append(plantations)\n",
    "            colors.append('orange')\n",
    "            sizes[1] = sizes[1] - plantations\n",
    "\n",
    "elif location in ['Primary Forests']: \n",
    "    labels = ['Primary Forest', 'Other Forest', 'Non-forest']\n",
    "    sizes = [primary_forest, tree_cover_extent_2010 - primary_forest, total_area - tree_cover_extent_2010]\n",
    "    colors = ['green', 'yellow','#E2CF96']\n",
    "    \n",
    "    if adm0 in polyname_config.get('plantations') and plantations != 0:\n",
    "\n",
    "        labels.append('Plantations')\n",
    "        sizes.append(plantations)\n",
    "        colors.append('orange')\n",
    "        sizes[1] = sizes[1] - plantations\n",
    "    \n",
    "fig1, ax1 = plt.subplots()\n",
    "ax1.pie(sizes, labels=labels, autopct='%1.1f%%',\n",
    "        shadow=False, startangle=90, colors=colors)\n",
    "ax1.axis('equal')\n",
    "centre_circle = plt.Circle((0,0),0.75,color='black', fc='white',linewidth=0.5)\n",
    "fig1 = plt.gcf()\n",
    "fig1.gca().add_artist(centre_circle)\n",
    "plt.suptitle('Tree cover extent')\n",
    "plt.title(dynamic_sentence)\n",
    "plt.show()"
   ]
  },
  {
   "cell_type": "code",
   "execution_count": 23,
   "metadata": {},
   "outputs": [
    {
     "name": "stdout",
     "output_type": "stream",
     "text": [
      "Within Primary Forests in Brazil the majority of tree cover is found in areas with primary forests, considering tree cover extent in 2000 where tree canopy is greater than 30%.\n"
     ]
    }
   ],
   "source": [
    "if adm0 not in polyname_config.get('plantations'):\n",
    "    plantations = 0\n",
    "\n",
    "if location == 'Mining in Primary Forests':\n",
    "    if adm2:\n",
    "        print(f\"In areas of {location} within {areaId_to_name[adm2]} \", end=\"\")\n",
    "    elif adm1: \n",
    "        print(f\"In areas of {location} within {areaId_to_name[adm1]} \", end=\"\")\n",
    "    elif adm0:\n",
    "        print(f\"In areas of {location} within {iso_to_countries[adm0]} \", end=\"\")\n",
    "        \n",
    "else:\n",
    "    if adm2:\n",
    "        print(f\"Within {location} in {areaId_to_name[adm2]} \", end=\"\")\n",
    "    elif adm1: \n",
    "        print(f\"Within {location} in {areaId_to_name[adm1]} \", end=\"\")\n",
    "    elif adm0:\n",
    "        print(f\"Within {location} in {iso_to_countries[adm0]} \", end=\"\")\n",
    "\n",
    "if primary_forest/tree_cover_extent_2010 > 0.5:\n",
    "    print(f\"the majority of tree cover is found in areas with {location.lower()}, \", end=\"\")\n",
    "elif (tree_cover_extent_2010 - primary_forest - plantations)/tree_cover_extent_2010 > 0.5:\n",
    "    print(f\"the majority of tree cover is found in other forests, \", end=\"\")\n",
    "else:\n",
    "    print(f\"the majority of tree cover is found in plantations, \", end=\"\")\n",
    "    \n",
    "print(f\"considering tree cover extent in {extent_year} where tree canopy is greater than {threshold}%.\")\n"
   ]
  },
  {
   "cell_type": "code",
   "execution_count": null,
   "metadata": {
    "collapsed": true
   },
   "outputs": [],
   "source": []
  }
 ],
 "metadata": {
  "anaconda-cloud": {},
  "kernelspec": {
   "display_name": "Python 3",
   "language": "python",
   "name": "python3"
  },
  "language_info": {
   "codemirror_mode": {
    "name": "ipython",
    "version": 3
   },
   "file_extension": ".py",
   "mimetype": "text/x-python",
   "name": "python",
   "nbconvert_exporter": "python",
   "pygments_lexer": "ipython3",
   "version": "3.6.2"
  },
  "toc": {
   "nav_menu": {},
   "number_sections": true,
   "sideBar": true,
   "skip_h1_title": false,
   "toc_cell": false,
   "toc_position": {},
   "toc_section_display": "block",
   "toc_window_display": false
  }
 },
 "nbformat": 4,
 "nbformat_minor": 2
}
