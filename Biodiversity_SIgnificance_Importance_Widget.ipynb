{
 "cells": [
  {
   "cell_type": "markdown",
   "metadata": {},
   "source": [
    "# \"Global Biodiversity\" Widget\n",
    "\n",
    "This widget is a horizontally oriented histogram, breaking sub regions into buckets of 'Very High' to 'Very Low' Intactness or Significance.\n",
    "\n",
    "Due to the heavily qualitative nature of the data we are unable to quote any numerical values, nor make direct comparisons between subregions.\n",
    "\n",
    "In the face of that the histogram will only display the percentage of subregions that fall into each bucket as a percentage.\n",
    "\n",
    "Along side the histogram \n",
    "\n",
    "User Variables:\n",
    "\n",
    "1. Global, Admin-0 and -1, -2\n",
    "2. number of subregions or %\n",
    "3. Biodiversity Intactness or Significance\n",
    "\n",
    "On click:\n",
    "\n",
    "When a user clicks on a bar the dynamic sentence should change to reflect the value of the bar.\n",
    "\n",
    "Tabs: ['Conservation']\n",
    "\n",
    "## Visualisation\n",
    "\n",
    "Roughly speaking, the widget should have a horizontal bar chart and an alphabetic list of sub regions.\n",
    "\n",
    "See [here](https://basecamp.com/3063126/projects/10727890/todos/350432223?enlarge=342718317#attachment_342718317) for a rough mock-up of the design.\n",
    "\n",
    "### Global\n",
    "\n",
    "At the global level the widget should take each country (iso) and calculate it's average significance or intactness (value / area).\n",
    "\n",
    "Then calculate percentiles of these values in order to define boundaries for categorisation.\n",
    "\n",
    "It should then categorise the countries by that average value in to the following: *High, Medium-high, Medium Medium-low, Low*.\n",
    "\n",
    "Each bar is then the number of countries within that category.\n",
    "\n",
    "There should also be click-interaction for each bar in the chart. Clicking on a category will display an alphabetical list of the countries that belong to that category.\n",
    "\n",
    "\n",
    "### Country\n",
    "\n",
    "The same process as the above except for the Admin 1 regions within the selected country.\n",
    "\n",
    "### Admin 1\n",
    "\n",
    "The same process again except for the Admin 2 regions within the selected Admin 1.\n",
    "\n",
    "### Admin 2\n",
    "\n",
    "Same as above, but instead, the sentence should make a statement about that area's level of significance or intactness. "
   ]
  },
  {
   "cell_type": "code",
   "execution_count": 3,
   "metadata": {},
   "outputs": [],
   "source": [
    "import os\n",
    "import ee\n",
    "import json\n",
    "import requests\n",
    "import requests_cache\n",
    "from pprint import pprint\n",
    "import pandas as pd\n",
    "import matplotlib.pyplot as plt\n",
    "import numpy as np\n",
    "import math\n",
    "import statistics as stats\n",
    "\n",
    "ee.Initialize()"
   ]
  },
  {
   "cell_type": "code",
   "execution_count": 4,
   "metadata": {},
   "outputs": [],
   "source": [
    "#Import Global Metadata etc\n",
    "\n",
    "%run '0.Importable_Globals.ipynb'"
   ]
  },
  {
   "cell_type": "code",
   "execution_count": 120,
   "metadata": {},
   "outputs": [
    {
     "name": "stdout",
     "output_type": "stream",
     "text": [
      "https://wri-01.carto.com/api/v2/sql?q=SELECT+iso%2C+adm1%2C+adm2%2C+area%2C+significance_total+AS+sig%2C+intactness_total+AS+int+FROM+global_biodiversity_table+ \n",
      "\n"
     ]
    },
    {
     "data": {
      "text/plain": [
       "{'adm1': -9999,\n",
       " 'adm2': -9999,\n",
       " 'area': 183049541.454811,\n",
       " 'int': 0,\n",
       " 'iso': 'ABW',\n",
       " 'sig': 1133.3954330893}"
      ]
     },
     "execution_count": 120,
     "metadata": {},
     "output_type": "execute_result"
    }
   ],
   "source": [
    "# Fetch all data\n",
    "\n",
    "sql = (f\"SELECT iso, adm1, adm2, area, \"\n",
    "       \"significance_total AS sig, intactness_total AS int \"\n",
    "       f\"FROM global_biodiversity_table \")\n",
    "\n",
    "account = 'wri-01'\n",
    "urlCarto = \"https://{0}.carto.com/api/v2/sql\".format(account)\n",
    "\n",
    "sql = {\"q\": sql}\n",
    "r = requests.get(urlCarto, params=sql)\n",
    "print(r.url,'\\n')\n",
    "data = r.json().get('rows')\n",
    "\n",
    "data[0]"
   ]
  },
  {
   "cell_type": "markdown",
   "metadata": {},
   "source": [
    "# Investigating the nature of the data (Data only)"
   ]
  },
  {
   "cell_type": "code",
   "execution_count": 121,
   "metadata": {},
   "outputs": [],
   "source": [
    "# Order all data and convert to numpy arrays in order to calculate basic stats\n",
    "\n",
    "intArr = [-d.get('int')/d.get('area') for d in data if d.get('int')]\n",
    "sigArr = [math.log(d.get('sig')/d.get('area'),10) for d in data if d.get('sig')]\n",
    "\n",
    "sortedInt = sorted(intArr)\n",
    "sortedSig = sorted(sigArr)\n",
    "\n",
    "ints = np.array(sortedInt)\n",
    "sigs = np.array(sortedSig)\n",
    "\n",
    "int_mean = np.mean(ints)\n",
    "sig_mean = np.mean(sigs)\n",
    "\n",
    "int_std = np.std(ints)\n",
    "sig_std = np.std(sigs)\n",
    "\n",
    "int_min = min(ints)\n",
    "sig_min = min(sigs)\n",
    "\n",
    "int_max = max(ints)\n",
    "sig_max = max(sigs)\n"
   ]
  },
  {
   "cell_type": "code",
   "execution_count": 122,
   "metadata": {
    "scrolled": true
   },
   "outputs": [
    {
     "data": {
      "text/plain": [
       "(0.023439332979430089,\n",
       " 0.017629686502920489,\n",
       " -0.0027923426001414116,\n",
       " 0.19504151806359632,\n",
       " 37308)"
      ]
     },
     "execution_count": 122,
     "metadata": {},
     "output_type": "execute_result"
    }
   ],
   "source": [
    "int_mean, int_std, int_min, int_max, len(ints)"
   ]
  },
  {
   "cell_type": "code",
   "execution_count": 123,
   "metadata": {},
   "outputs": [
    {
     "data": {
      "text/plain": [
       "(-3.4206488577788128,\n",
       " 1.3163185874963046,\n",
       " -11.869027490667406,\n",
       " 0.86734698613034711,\n",
       " 43982)"
      ]
     },
     "execution_count": 123,
     "metadata": {},
     "output_type": "execute_result"
    }
   ],
   "source": [
    "sig_mean, sig_std, sig_min, sig_max, len(sigs)"
   ]
  },
  {
   "cell_type": "markdown",
   "metadata": {},
   "source": [
    "### Nature of the data"
   ]
  },
  {
   "cell_type": "code",
   "execution_count": 124,
   "metadata": {},
   "outputs": [],
   "source": [
    "binwidth = int_std/2"
   ]
  },
  {
   "cell_type": "code",
   "execution_count": 125,
   "metadata": {},
   "outputs": [
    {
     "data": {
      "text/plain": [
       "(array([  6.93800000e+03,   7.29100000e+03,   6.16100000e+03,\n",
       "          5.69700000e+03,   4.84900000e+03,   4.13700000e+03,\n",
       "          1.37100000e+03,   3.80000000e+02,   1.82000000e+02,\n",
       "          1.23000000e+02,   6.10000000e+01,   4.90000000e+01,\n",
       "          3.40000000e+01,   1.60000000e+01,   6.00000000e+00,\n",
       "          6.00000000e+00,   1.00000000e+00,   1.00000000e+00,\n",
       "          1.00000000e+00,   0.00000000e+00,   3.00000000e+00,\n",
       "          0.00000000e+00,   1.00000000e+00]),\n",
       " array([-0.00279234,  0.0060225 ,  0.01483734,  0.02365219,  0.03246703,\n",
       "         0.04128187,  0.05009672,  0.05891156,  0.0677264 ,  0.07654125,\n",
       "         0.08535609,  0.09417093,  0.10298578,  0.11180062,  0.12061546,\n",
       "         0.12943031,  0.13824515,  0.14705999,  0.15587484,  0.16468968,\n",
       "         0.17350452,  0.18231937,  0.19113421,  0.19994905]),\n",
       " <a list of 23 Patch objects>)"
      ]
     },
     "execution_count": 125,
     "metadata": {},
     "output_type": "execute_result"
    },
    {
     "data": {
      "image/png": "[encoded data removed]",
      "text/plain": [
       "<matplotlib.figure.Figure at 0x1189d1be0>"
      ]
     },
     "metadata": {},
     "output_type": "display_data"
    }
   ],
   "source": [
    "plt.hist(ints, bins=np.arange(min(ints), max(ints) + binwidth, binwidth))"
   ]
  },
  {
   "cell_type": "code",
   "execution_count": 126,
   "metadata": {},
   "outputs": [],
   "source": [
    "binwidth = sig_std"
   ]
  },
  {
   "cell_type": "code",
   "execution_count": 127,
   "metadata": {},
   "outputs": [
    {
     "data": {
      "text/plain": [
       "(array([  1.70000000e+01,   1.32000000e+02,   3.75000000e+02,\n",
       "          8.37000000e+02,   2.09900000e+03,   7.22200000e+03,\n",
       "          2.06460000e+04,   1.20660000e+04,   5.82000000e+02,\n",
       "          6.00000000e+00]),\n",
       " array([-11.86902749, -10.5527089 ,  -9.23639032,  -7.92007173,\n",
       "         -6.60375314,  -5.28743455,  -3.97111597,  -2.65479738,\n",
       "         -1.33847879,  -0.0221602 ,   1.29415838]),\n",
       " <a list of 10 Patch objects>)"
      ]
     },
     "execution_count": 127,
     "metadata": {},
     "output_type": "execute_result"
    },
    {
     "data": {
      "image/png": "[encoded data removed]",
      "text/plain": [
       "<matplotlib.figure.Figure at 0x1189d1da0>"
      ]
     },
     "metadata": {},
     "output_type": "display_data"
    }
   ],
   "source": [
    "plt.hist(sigs, bins=np.arange(min(sigs), max(sigs) + binwidth, binwidth))"
   ]
  },
  {
   "cell_type": "markdown",
   "metadata": {},
   "source": [
    "# NOTE\n",
    "\n",
    "- log(significance) seems to be normally distributed with a spike of low-significance regions\n",
    "- intactness is more Maxwell-Boltzmann and has a long tail in the high-end values...\n",
    "- Instead of using standard deviations as bounds, use percentiles."
   ]
  },
  {
   "cell_type": "markdown",
   "metadata": {},
   "source": [
    "# Calculate Percentile\n",
    "\n",
    "This will be hard coded, no front end-dev required for this section."
   ]
  },
  {
   "cell_type": "code",
   "execution_count": 128,
   "metadata": {},
   "outputs": [],
   "source": [
    "# Calculate percentile values (somewhat arbitrary and can be tweaked)\n",
    "percentiles = [10, 25, 75, 90]"
   ]
  },
  {
   "cell_type": "code",
   "execution_count": 156,
   "metadata": {},
   "outputs": [],
   "source": [
    "int_perc = [int_min]\n",
    "sig_perc = [sig_min]\n",
    "for p in percentiles:\n",
    "    int_perc.append(np.percentile(ints, p))\n",
    "    sig_perc.append(np.percentile(sigs, p))\n",
    "    \n",
    "int_perc.append(int_max)\n",
    "sig_perc.append(sig_max)"
   ]
  },
  {
   "cell_type": "code",
   "execution_count": 157,
   "metadata": {},
   "outputs": [
    {
     "data": {
      "text/plain": [
       "([0.0023439494272740318,\n",
       "  0.0088213556813699599,\n",
       "  0.035956818360068268,\n",
       "  0.046790924545302641],\n",
       " [-4.9806691925864799,\n",
       "  -3.9414584687798917,\n",
       "  -2.5291295947066255,\n",
       "  -1.9973631770277802])"
      ]
     },
     "execution_count": 157,
     "metadata": {},
     "output_type": "execute_result"
    }
   ],
   "source": [
    "# Percentile values for intacteness and significance\n",
    "int_perc[1:-1], sig_perc[1:-1]"
   ]
  },
  {
   "cell_type": "code",
   "execution_count": 158,
   "metadata": {},
   "outputs": [
    {
     "data": {
      "text/plain": [
       "(array([  3731.,   5596.,  18654.,   5596.,   3731.]),\n",
       " array([-0.00279234,  0.00234395,  0.00882136,  0.03595682,  0.04679092,\n",
       "         0.19504152]),\n",
       " <a list of 5 Patch objects>)"
      ]
     },
     "execution_count": 158,
     "metadata": {},
     "output_type": "execute_result"
    },
    {
     "data": {
      "image/png": "[encoded data removed]",
      "text/plain": [
       "<matplotlib.figure.Figure at 0x10ed8b550>"
      ]
     },
     "metadata": {},
     "output_type": "display_data"
    }
   ],
   "source": [
    "plt.hist(ints, bins=int_perc)"
   ]
  },
  {
   "cell_type": "code",
   "execution_count": 159,
   "metadata": {},
   "outputs": [
    {
     "data": {
      "text/plain": [
       "(array([  4399.,   6597.,  21990.,   6597.,   4399.]),\n",
       " array([-11.86902749,  -4.98066919,  -3.94145847,  -2.52912959,\n",
       "         -1.99736318,   0.86734699]),\n",
       " <a list of 5 Patch objects>)"
      ]
     },
     "execution_count": 159,
     "metadata": {},
     "output_type": "execute_result"
    },
    {
     "data": {
      "image/png": "[encoded data removed]",
      "text/plain": [
       "<matplotlib.figure.Figure at 0x119140080>"
      ]
     },
     "metadata": {},
     "output_type": "display_data"
    }
   ],
   "source": [
    "plt.hist(sigs, bins=sig_perc)"
   ]
  },
  {
   "cell_type": "markdown",
   "metadata": {},
   "source": [
    "- Get a list of sub regions' in and sig values\n",
    "- build a distribution\n",
    "- pick bounds\n",
    "- bucket into 'V. High', 'High', 'Normal', 'Low', 'V. Low'"
   ]
  },
  {
   "cell_type": "markdown",
   "metadata": {},
   "source": [
    "# Example Widget\n",
    "\n",
    "### To do\n",
    "\n",
    "1. Get data from fetch\n",
    "1. calculate percentiles\n",
    "2. create buckets from these\n",
    "3. count number in each bucket\n",
    "4. calc percentage\n",
    "\n",
    "\n",
    "HARD-CODED PERCENTILE BREAKS:\n",
    "\n",
    "| metric | 10th percentile | 25th percentile | 75th percentile | 90th percentile | \n",
    "|--------|-----------------|-----------------|-----------------|-----------------|\n",
    "| intactness | 0.002343949 | 0.008821356     | 0.03595682      | 0.04679092      |\n",
    "| significance| -4.980669  |-3.941458        |-2.529130        |-1.997363        |\n"
   ]
  },
  {
   "cell_type": "code",
   "execution_count": 173,
   "metadata": {},
   "outputs": [],
   "source": [
    "# Make the query and return data\n",
    "def biodiversity_query(adm0=None, adm1=None):\n",
    "    \"\"\"Fetches total area, intactness and significance values for each region.\"\"\"\n",
    "                 \n",
    "    if not adm0 and not adm1:\n",
    "        print('Request for Global areas')\n",
    "        sql = (f\"SELECT iso AS location, sum(area) as area, \"\n",
    "               \"sum(significance_total) AS sig, sum(intactness_total) AS int \"\n",
    "               f\"FROM global_biodiversity_table \"\n",
    "               \"GROUP BY iso\")\n",
    "        \n",
    "    elif adm0 and not adm1:\n",
    "        print('Request for country areas')\n",
    "        sql = (f\"SELECT iso, adm1 AS location, sum(area) as area, \"\n",
    "               \"sum(significance_total) AS sig, sum(intactness_total) AS int \"\n",
    "               f\"FROM global_biodiversity_table \"\n",
    "               f\"WHERE iso = '{adm0}' \"\n",
    "               \"GROUP BY iso, adm1\")\n",
    "        \n",
    "    elif admin0 and adm1:\n",
    "        print('Request adm1 areas')\n",
    "        sql = (f\"SELECT iso, adm1, adm2 AS location, sum(area) as area, \"\n",
    "               \"sum(significance_total) AS sig, sum(intactness_total) AS int \"\n",
    "               f\"FROM global_biodiversity_table \"\n",
    "               f\"WHERE iso = '{adm0}' \"\n",
    "               f\"AND adm1 = {adm1}\"\n",
    "               \"GROUP BY iso, adm1, adm2\")\n",
    "    \n",
    "    account = 'wri-01'\n",
    "    urlCarto = \"https://{0}.carto.com/api/v2/sql\".format(account)\n",
    "\n",
    "    sql = {\"q\": sql}\n",
    "    r = requests.get(urlCarto, params=sql)\n",
    "    print(r.url,'\\n')\n",
    "    data = r.json().get('rows')\n",
    "    \n",
    "    return data"
   ]
  },
  {
   "cell_type": "code",
   "execution_count": 117,
   "metadata": {},
   "outputs": [
    {
     "name": "stdout",
     "output_type": "stream",
     "text": [
      "Request for Global areas\n",
      "https://wri-01.carto.com/api/v2/sql?q=SELECT+iso%2C+sum%28area%29+as+area%2C+sum%28significance_total%29+AS+sig%2C+sum%28intactness_total%29+AS+int+FROM+global_biodiversity_table+GROUP+BY+iso \n",
      "\n"
     ]
    }
   ],
   "source": [
    "# EXAMPLE: Global Level Case, Brazil\n",
    "\n",
    "adm0 = None\n",
    "adm1 = None\n",
    "data = biodiversity_query(adm0=adm0, adm1=adm1)\n",
    "\n",
    "\n",
    "# Query should return a data list where each element has the keys:\n",
    "\n",
    "\n",
    "# {\n",
    "#     \"iso\": \"BRA\",\n",
    "#     \"adm1\": 14,\n",
    "#     \"adm2\": None,\n",
    "#     \"area\": 1266378688960.87,\n",
    "#     \"sig\": 1818786398.88914,\n",
    "#     \"int\": -891244028.230333\n",
    "# }\n",
    "\n",
    "# (see below)\n"
   ]
  },
  {
   "cell_type": "code",
   "execution_count": 69,
   "metadata": {},
   "outputs": [
    {
     "data": {
      "text/plain": [
       "[{'area': 22111665731.4525,\n",
       "  'int': -43091664.7444239,\n",
       "  'iso': 'BLZ',\n",
       "  'sig': 186736529.119748},\n",
       " {'area': 140281129471.352,\n",
       "  'int': -4773897473.97335,\n",
       "  'iso': 'BGD',\n",
       "  'sig': 117727281.708589},\n",
       " {'area': 7860417202.66774, 'int': 0, 'iso': 'ATF', 'sig': 86.335124714994}]"
      ]
     },
     "execution_count": 69,
     "metadata": {},
     "output_type": "execute_result"
    }
   ],
   "source": [
    "\"\"\"NOTE significance is exponential and ranges from 0 to 1.73e9\n",
    "        intactness is linear and ranges from 0.37e9 to -3.17e9\"\"\"\n",
    "\n",
    "data[0:3]"
   ]
  },
  {
   "cell_type": "code",
   "execution_count": 82,
   "metadata": {},
   "outputs": [
    {
     "data": {
      "text/plain": [
       "[0.00015267099387302624,\n",
       " 0.0024074785194902158,\n",
       " 0.022754608585611132,\n",
       " 0.034339105523731803]"
      ]
     },
     "execution_count": 82,
     "metadata": {},
     "output_type": "execute_result"
    }
   ],
   "source": [
    "# Get percentile bounds for Intactness (this will be hardcoded)\n",
    "int_perc[1:-1]"
   ]
  },
  {
   "cell_type": "code",
   "execution_count": 83,
   "metadata": {},
   "outputs": [
    {
     "data": {
      "text/plain": [
       "[-5.2646716264414586,\n",
       " -3.7595154633661956,\n",
       " -2.2457416116059994,\n",
       " -1.3721143303681893]"
      ]
     },
     "execution_count": 83,
     "metadata": {},
     "output_type": "execute_result"
    }
   ],
   "source": [
    "# Get percentile bounds for Significance (this will be hardcoded)\n",
    "sig_perc[1:-1]"
   ]
  },
  {
   "cell_type": "code",
   "execution_count": 84,
   "metadata": {},
   "outputs": [],
   "source": [
    "def getLocalStats(data, metric='int'):\n",
    "    \"\"\" Calculates mean of data for a given metric.\n",
    "        In the front end we would do both Intactness and Significance at the same time.\n",
    "    \"\"\"\n",
    "    if metric == 'int':\n",
    "        values = [-d.get('int')/d.get('area') for d in data if d.get('int')]\n",
    "    elif metric == 'sig':\n",
    "        values = [math.log(d.get('sig')/d.get('area'),10) for d in data if d.get('sig')]\n",
    "    \n",
    "    mean = np.mean(values)\n",
    "#     std = np.std(values)\n",
    "    \n",
    "    return {'mean': mean, 'std': std}"
   ]
  },
  {
   "cell_type": "code",
   "execution_count": 203,
   "metadata": {},
   "outputs": [],
   "source": [
    "def getHistogram(data):\n",
    "    \"\"\"\n",
    "        Create the histogram using the sefined percentiles.\n",
    "        Note that Intactness and SIgnificance percentile values are different.\n",
    "    \"\"\"\n",
    "    \n",
    "    metrics = ['int', 'sig']\n",
    "    tmp = {}\n",
    "\n",
    "    # For Intactness and Significance, count the number of loctaions\n",
    "    # which fall into a given category\n",
    "    for metric in metrics:\n",
    "        \n",
    "        categories = {\n",
    "\n",
    "            'very high': {'counts': 0, 'percent': 0, 'locations': []},\n",
    "            'high': {'counts': 0, 'percent': 0, 'locations': []},\n",
    "            'normal': {'counts': 0, 'percent': 0, 'locations': []},\n",
    "            'low': {'counts': 0, 'percent': 0, 'locations': []},\n",
    "            'very low': {'counts': 0, 'percent': 0, 'locations': []}\n",
    "\n",
    "        }\n",
    "        \n",
    "        # Run through each element of data and bin the value based on the percentiles.\n",
    "        for d in data:\n",
    "            if metric == 'int':\n",
    "                value = -d.get(metric)/d.get('area')\n",
    "                percentile = int_perc[1:-1]\n",
    "                \n",
    "            elif metric == 'sig' and d.get('sig'):\n",
    "                value = math.log(d.get(metric)/d.get('area'))\n",
    "                percentile = sig_perc[1:-1]\n",
    "\n",
    "            if (value > percentile[3]):\n",
    "                tmp_c = categories.get('very high').get('counts')\n",
    "                categories['very high']['counts'] = tmp_c + 1\n",
    "                \n",
    "                categories['very high']['locations'].append(d.get('location'))\n",
    "                \n",
    "            elif (value > percentile[2]) and (value <= percentile[3]):\n",
    "                tmp_c = categories.get('very high').get('counts')\n",
    "                categories['high']['counts'] = tmp_c + 1\n",
    "                \n",
    "                categories['high']['locations'].append(d.get('location'))\n",
    "                \n",
    "            elif (value > percentile[1]) and (value <= percentile[2]):\n",
    "                tmp_c = categories.get('normal').get('counts')\n",
    "                categories['normal']['counts'] = tmp_c + 1\n",
    "                \n",
    "                categories['normal']['locations'].append(d.get('location'))\n",
    "                \n",
    "            elif (value > percentile[0]) and (value <= percentile[1]):\n",
    "                tmp_c = categories.get('low').get('counts')\n",
    "                categories['low']['counts'] = tmp_c + 1\n",
    "                \n",
    "                categories['low']['locations'].append(d.get('location'))\n",
    "                \n",
    "            elif (value <= percentile[0]):\n",
    "                tmp_c = categories.get('very low').get('counts')\n",
    "                categories['very low']['counts'] = tmp_c + 1\n",
    "                \n",
    "                categories['very low']['locations'].append(d.get('location'))\n",
    "        \n",
    "        #  the total of locations.\n",
    "        total = len(data)\n",
    "        \n",
    "        # Calclate the percentage.\n",
    "        for k,v in categories.items():\n",
    "            tmp_val = v.get('counts')\n",
    "            categories[k]['percent'] = round(100 * tmp_val / total, 1) \n",
    "        \n",
    "        tmp[metric] = categories\n",
    "    \n",
    "    return tmp\n"
   ]
  },
  {
   "cell_type": "code",
   "execution_count": 212,
   "metadata": {},
   "outputs": [
    {
     "name": "stdout",
     "output_type": "stream",
     "text": [
      "Request for country areas\n",
      "https://wri-01.carto.com/api/v2/sql?q=SELECT+iso%2C+adm1+AS+location%2C+sum%28area%29+as+area%2C+sum%28significance_total%29+AS+sig%2C+sum%28intactness_total%29+AS+int+FROM+global_biodiversity_table+WHERE+iso+%3D+%27AUS%27+GROUP+BY+iso%2C+adm1 \n",
      "\n",
      "{'int': {'high': {'counts': 0, 'locations': [], 'percent': 0.0},\n",
      "         'low': {'counts': 4, 'locations': [5, 11, 9, 8], 'percent': 36.4},\n",
      "         'normal': {'counts': 2, 'locations': [10, 2], 'percent': 18.2},\n",
      "         'very high': {'counts': 0, 'locations': [], 'percent': 0.0},\n",
      "         'very low': {'counts': 5,\n",
      "                      'locations': [3, 7, 4, 1, 6],\n",
      "                      'percent': 45.5}},\n",
      " 'sig': {'high': {'counts': 0, 'locations': [], 'percent': 0.0},\n",
      "         'low': {'counts': 2, 'locations': [4, 1], 'percent': 18.2},\n",
      "         'normal': {'counts': 0, 'locations': [], 'percent': 0.0},\n",
      "         'very high': {'counts': 0, 'locations': [], 'percent': 0.0},\n",
      "         'very low': {'counts': 9,\n",
      "                      'locations': [5, 11, 10, 2, 3, 9, 7, 6, 8],\n",
      "                      'percent': 81.8}}}\n"
     ]
    }
   ],
   "source": [
    "# Country Level example: Australia\n",
    "\n",
    "adm0 = 'AUS'\n",
    "adm1 = None\n",
    "metric = 'Intactness'\n",
    "\n",
    "#Get raw data\n",
    "widgetData = biodiversity_query(adm0=adm0, adm1=adm1)\n",
    "\n",
    "pprint(getHistogram(widgetData))\n",
    "\n",
    "# Note that the list of regions are stored in the location key for each category."
   ]
  },
  {
   "cell_type": "markdown",
   "metadata": {},
   "source": [
    "# Dynamic Sentence\n",
    "\n",
    "The widget also requires a dynamic sentence which depends on user selected settings."
   ]
  },
  {
   "cell_type": "code",
   "execution_count": 237,
   "metadata": {},
   "outputs": [],
   "source": [
    "def getSentence(hist, selected, unit, metric): \n",
    "        \n",
    "    if(metric == 'int'):\n",
    "        label = 'intacteness'\n",
    "    elif(metric == 'sig'):\n",
    "        label = 'signficance'\n",
    "\n",
    "    # Get location names from config\n",
    "    areaId_to_name = None\n",
    "    if adm2:\n",
    "        tmp = get_admin2_json(iso=adm0, adm1=adm1)\n",
    "        areaId_to_name ={}\n",
    "        for row in tmp:\n",
    "            areaId_to_name[row.get('adm2')] = row.get('name')\n",
    "    if adm1 and not adm2:\n",
    "        tmp = get_admin1_json(iso=adm0)\n",
    "        areaId_to_name={}\n",
    "        for row in tmp:\n",
    "            areaId_to_name[row.get('adm1')] = row.get('name')\n",
    "\n",
    "    # Create correct phase for location\n",
    "    if not adm0 and  not adm1 and not adm2:\n",
    "        title = (\"countries globally\")\n",
    "    if adm0 and not adm1 and not adm2:\n",
    "        title = (f\"regions in {iso_to_countries[adm0]}\")\n",
    "    if adm0 and adm1 and not adm2: \n",
    "        title = (f\"subregions in {areaId_to_name[adm1]}\")\n",
    "        \n",
    "    \n",
    "\n",
    "    if(unit == 'percent'):\n",
    "        if hist[metric][selected][unit] == 0:\n",
    "            value = '0'\n",
    "        \n",
    "        print(\"\")\n",
    "        print(f\"Around {value}% of {title} have a \",end=\"\")\n",
    "        print(f\"{selected} degree of biodiversity {label} on average.\", end=\"\")\n",
    "        \n",
    "    else:\n",
    "        if hist[metric][selected][unit] == 0:\n",
    "            value = 'no'\n",
    "            \n",
    "        print(\"\")\n",
    "        print(f\"There are {value} {title} with a \",end=\"\")\n",
    "        print(f\"{selected} degree of biodiversity {label} on average.\", end=\"\")\n",
    "\n"
   ]
  },
  {
   "cell_type": "markdown",
   "metadata": {},
   "source": [
    "# Examples"
   ]
  },
  {
   "cell_type": "code",
   "execution_count": 225,
   "metadata": {},
   "outputs": [],
   "source": [
    "categories = ['very high', 'very high', 'normal', 'low', 'very low']"
   ]
  },
  {
   "cell_type": "code",
   "execution_count": 226,
   "metadata": {},
   "outputs": [
    {
     "name": "stdout",
     "output_type": "stream",
     "text": [
      "Request for country areas\n",
      "https://wri-01.carto.com/api/v2/sql?q=SELECT+iso%2C+adm1+AS+location%2C+sum%28area%29+as+area%2C+sum%28significance_total%29+AS+sig%2C+sum%28intactness_total%29+AS+int+FROM+global_biodiversity_table+WHERE+iso+%3D+%27IDN%27+GROUP+BY+iso%2C+adm1 \n",
      "\n",
      "\n",
      "Around 27.3% of regions in Indonesia have a normal degree of biodiversity intacteness on average."
     ]
    }
   ],
   "source": [
    "adm0 = 'IDN'\n",
    "adm1 = None\n",
    "metric = 'int'\n",
    "unit = 'percent'\n",
    "category = categories[2]\n",
    "\n",
    "data = biodiversity_query(adm0=adm0, adm1=adm1)\n",
    "hist = getHistogram(data)\n",
    "getSentence(hist, category, unit, metric)\n"
   ]
  },
  {
   "cell_type": "code",
   "execution_count": 234,
   "metadata": {},
   "outputs": [
    {
     "name": "stdout",
     "output_type": "stream",
     "text": [
      "Request for country areas\n",
      "https://wri-01.carto.com/api/v2/sql?q=SELECT+iso%2C+adm1+AS+location%2C+sum%28area%29+as+area%2C+sum%28significance_total%29+AS+sig%2C+sum%28intactness_total%29+AS+int+FROM+global_biodiversity_table+WHERE+iso+%3D+%27COD%27+GROUP+BY+iso%2C+adm1 \n",
      "\n",
      "\n",
      "There are 21 regions in Democratic Republic of the Congo with a very low degree of biodiversity intacteness on average."
     ]
    }
   ],
   "source": [
    "adm0 = 'COD'\n",
    "adm1 = None\n",
    "metric = 'int'\n",
    "unit = 'counts'\n",
    "category = categories[4]\n",
    "\n",
    "data = biodiversity_query(adm0=adm0, adm1=adm1)\n",
    "hist = getHistogram(data)\n",
    "getSentence(hist, category, unit, metric)"
   ]
  },
  {
   "cell_type": "code",
   "execution_count": 231,
   "metadata": {},
   "outputs": [
    {
     "name": "stdout",
     "output_type": "stream",
     "text": [
      "Request for country areas\n",
      "https://wri-01.carto.com/api/v2/sql?q=SELECT+iso%2C+adm1+AS+location%2C+sum%28area%29+as+area%2C+sum%28significance_total%29+AS+sig%2C+sum%28intactness_total%29+AS+int+FROM+global_biodiversity_table+WHERE+iso+%3D+%27AUS%27+GROUP+BY+iso%2C+adm1 \n",
      "\n",
      "\n",
      "Around 18.2% of regions in Australia have a low degree of biodiversity signficance on average."
     ]
    }
   ],
   "source": [
    "adm0 = 'AUS'\n",
    "adm1 = None\n",
    "metric = 'sig'\n",
    "unit = 'percent'\n",
    "category = categories[3]\n",
    "\n",
    "data = biodiversity_query(adm0=adm0, adm1=adm1)\n",
    "hist = getHistogram(data)\n",
    "getSentence(hist, category, unit ,metric)"
   ]
  },
  {
   "cell_type": "code",
   "execution_count": 222,
   "metadata": {},
   "outputs": [
    {
     "name": "stdout",
     "output_type": "stream",
     "text": [
      "Request for Global areas\n",
      "https://wri-01.carto.com/api/v2/sql?q=SELECT+iso+AS+location%2C+sum%28area%29+as+area%2C+sum%28significance_total%29+AS+sig%2C+sum%28intactness_total%29+AS+int+FROM+global_biodiversity_table+GROUP+BY+iso \n",
      "\n",
      "\n",
      "There are 19 countries globally with a low degree of biodiversity signficance on average."
     ]
    }
   ],
   "source": [
    "adm0 = None\n",
    "adm1 = None\n",
    "metric = 'sig'\n",
    "unit = 'counts'\n",
    "category = categories[0]\n",
    "\n",
    "data = biodiversity_query(adm0=adm0, adm1=adm1)\n",
    "hist = getHistogram(data)\n",
    "getSentence(hist, category, unit, metric)"
   ]
  },
  {
   "cell_type": "code",
   "execution_count": 238,
   "metadata": {},
   "outputs": [
    {
     "name": "stdout",
     "output_type": "stream",
     "text": [
      "Request for Global areas\n",
      "https://wri-01.carto.com/api/v2/sql?q=SELECT+iso+AS+location%2C+sum%28area%29+as+area%2C+sum%28significance_total%29+AS+sig%2C+sum%28intactness_total%29+AS+int+FROM+global_biodiversity_table+GROUP+BY+iso \n",
      "\n",
      "\n",
      "Globally, there are no countries with a very high degree of biodiversity intacteness on average."
     ]
    }
   ],
   "source": [
    "adm0 = None\n",
    "adm1 = None\n",
    "metric = 'int'\n",
    "unit = 'counts'\n",
    "category = categories[0]\n",
    "\n",
    "\n",
    "data = biodiversity_query(adm0=adm0, adm1=adm1)\n",
    "hist = getHistogram(data)\n",
    "getSentence(hist, category, unit, metric)"
   ]
  },
  {
   "cell_type": "code",
   "execution_count": null,
   "metadata": {},
   "outputs": [],
   "source": []
  }
 ],
 "metadata": {
  "kernelspec": {
   "display_name": "Python 3",
   "language": "python",
   "name": "python3"
  },
  "language_info": {
   "codemirror_mode": {
    "name": "ipython",
    "version": 3
   },
   "file_extension": ".py",
   "mimetype": "text/x-python",
   "name": "python",
   "nbconvert_exporter": "python",
   "pygments_lexer": "ipython3",
   "version": "3.6.2"
  }
 },
 "nbformat": 4,
 "nbformat_minor": 2
}
