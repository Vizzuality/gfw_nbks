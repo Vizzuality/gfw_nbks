{
 "cells": [
  {
   "cell_type": "markdown",
   "metadata": {},
   "source": [
    "# \"Global Biodiversity\" Widget\n",
    "\n",
    "This widget is a horizontally oriented histogram, breaking sub regions into buckets of 'Very High' to 'Very Low' Intactness or Significance.\n",
    "\n",
    "Due to the heavily qualitative nature of the data we are unable to quote any numerical values, nor make direct comparisons between subregions.\n",
    "\n",
    "In the face of that the histogram will only display the percentage of subregions that fall into each bucket as a percentage.\n",
    "\n",
    "Along side the histogram \n",
    "\n",
    "User Variables:\n",
    "\n",
    "1. Admin-0, -1 and -2 region\n",
    "2. number of subregions or %\n",
    "3. Biodiversity Intactness or Significance\n",
    "\n",
    "On Hover:\n",
    "\n",
    "When a user hovers on a bar the dynamic sentence should change to reflect the value of the bar.\n",
    "\n",
    "Tabs: ['Conservation']"
   ]
  },
  {
   "cell_type": "code",
   "execution_count": 153,
   "metadata": {},
   "outputs": [],
   "source": [
    "import os\n",
    "import ee\n",
    "import json\n",
    "import requests\n",
    "import requests_cache\n",
    "from pprint import pprint\n",
    "import pandas as pd\n",
    "import matplotlib.pyplot as plt\n",
    "import numpy as np\n",
    "import math\n",
    "import statistics as stats\n",
    "\n",
    "ee.Initialize()"
   ]
  },
  {
   "cell_type": "code",
   "execution_count": 2,
   "metadata": {},
   "outputs": [],
   "source": [
    "#Import Global Metadata etc\n",
    "\n",
    "%run '0.Importable_Globals.ipynb'"
   ]
  },
  {
   "cell_type": "code",
   "execution_count": 62,
   "metadata": {},
   "outputs": [],
   "source": [
    "# Make the query and return data\n",
    "def biodiversity_query(adm0=None, adm1=None):\n",
    "    \"\"\"Fetches subregions within an adm1, adm0, or if none are selected, all data (global)\"\"\"\n",
    "             \n",
    "    if adm1:\n",
    "        print('Request for adm2 areas')\n",
    "        sql = (f\"SELECT iso, adm1, adm2, significance AS sig, intactness AS int \"\n",
    "               f\"FROM global_biodiversity_table \"\n",
    "               f\"WHERE iso = '{adm0}' \"\n",
    "               f\"AND adm1 = {adm1} \")\n",
    "               \n",
    "    elif adm0:\n",
    "        print('Request for  adm1 areas')\n",
    "        sql = (f\"SELECT iso, adm1, adm2, significance AS sig, intactness AS int \"\n",
    "               f\"FROM global_biodiversity_table \"\n",
    "               f\"WHERE iso = '{adm0}' \")\n",
    "        \n",
    "    else:\n",
    "        print('Request adm0 areas')\n",
    "        sql = (f\"SELECT iso, adm1, adm2, significance AS sig, intactness AS int \"\n",
    "               f\"FROM global_biodiversity_table \")\n",
    "    \n",
    "    account = 'wri-01'\n",
    "    urlCarto = \"https://{0}.carto.com/api/v2/sql\".format(account)\n",
    "\n",
    "    sql = {\"q\": sql}\n",
    "    r = requests.get(urlCarto, params=sql)\n",
    "    print(r.url,'\\n')\n",
    "    # pprint(r.json())\n",
    "    data = r.json().get('rows')\n",
    "    \n",
    "    return data"
   ]
  },
  {
   "cell_type": "code",
   "execution_count": 388,
   "metadata": {},
   "outputs": [
    {
     "name": "stdout",
     "output_type": "stream",
     "text": [
      "Request adm0 areas\n",
      "https://wri-01.carto.com/api/v2/sql?q=SELECT+iso%2C+adm1%2C+adm2%2C+significance+AS+sig%2C+intactness+AS+int+FROM+global_biodiversity_table+ \n",
      "\n"
     ]
    }
   ],
   "source": [
    "adm0 = None\n",
    "adm1 = None\n",
    "\n",
    "data = biodiversity_query(adm0=adm0, adm1=adm1)"
   ]
  },
  {
   "cell_type": "code",
   "execution_count": 389,
   "metadata": {},
   "outputs": [
    {
     "data": {
      "text/plain": [
       "[{'adm1': 17,\n",
       "  'adm2': 181,\n",
       "  'int': -27.6040841675594,\n",
       "  'iso': 'AFG',\n",
       "  'sig': 5.77854612866165},\n",
       " {'adm1': 18,\n",
       "  'adm2': 185,\n",
       "  'int': -20.5403704321043,\n",
       "  'iso': 'AFG',\n",
       "  'sig': 7.92993286262219},\n",
       " {'adm1': 18,\n",
       "  'adm2': 186,\n",
       "  'int': -17.3960070816717,\n",
       "  'iso': 'AFG',\n",
       "  'sig': 8.23205527801386}]"
      ]
     },
     "execution_count": 389,
     "metadata": {},
     "output_type": "execute_result"
    }
   ],
   "source": [
    "\"\"\"NOTE significance is exponential and ranges from 0 - 190,000\n",
    "        intactness is linear and ranges from -100 - 0\"\"\"\n",
    "\n",
    "data[0:3]"
   ]
  },
  {
   "cell_type": "markdown",
   "metadata": {},
   "source": [
    "# Get Global Stats"
   ]
  },
  {
   "cell_type": "code",
   "execution_count": 399,
   "metadata": {},
   "outputs": [],
   "source": [
    "# Order all data and convert to numpy arrays in order to calculate basic stats\n",
    "\n",
    "ints = np.array(sorted([-d.get('int') for d in data if d.get('int')]))\n",
    "sigs = np.array(sorted([math.log(d.get('sig'),10) for d in data if d.get('sig')]))\n",
    "\n",
    "int_mean = np.mean(ints)\n",
    "sig_mean = np.mean(sigs)\n",
    "\n",
    "int_std = np.std(ints)\n",
    "sig_std = np.std(sigs)\n",
    "\n",
    "int_min = min(ints)\n",
    "sig_min = min(sigs)\n",
    "\n",
    "int_max = max(ints)\n",
    "sig_max = max(sigs)\n"
   ]
  },
  {
   "cell_type": "code",
   "execution_count": 400,
   "metadata": {
    "scrolled": true
   },
   "outputs": [
    {
     "data": {
      "text/plain": [
       "(18.897645087752558,\n",
       " 12.128387190174664,\n",
       " -2.5228746192525899,\n",
       " 96.036230908615806,\n",
       " 36768)"
      ]
     },
     "execution_count": 400,
     "metadata": {},
     "output_type": "execute_result"
    }
   ],
   "source": [
    "int_mean, int_std, int_min, int_max, len(ints)"
   ]
  },
  {
   "cell_type": "code",
   "execution_count": 401,
   "metadata": {},
   "outputs": [
    {
     "data": {
      "text/plain": [
       "(0.41021976041473202,\n",
       " 0.70436747388513654,\n",
       " -3.2025173933252411,\n",
       " 5.270138891140876,\n",
       " 36760)"
      ]
     },
     "execution_count": 401,
     "metadata": {},
     "output_type": "execute_result"
    }
   ],
   "source": [
    "sig_mean, sig_std, sig_min, sig_max, len(sigs)"
   ]
  },
  {
   "cell_type": "markdown",
   "metadata": {},
   "source": [
    "### Nature of the data"
   ]
  },
  {
   "cell_type": "code",
   "execution_count": 384,
   "metadata": {},
   "outputs": [],
   "source": [
    "binwidth = int_std"
   ]
  },
  {
   "cell_type": "code",
   "execution_count": 385,
   "metadata": {},
   "outputs": [
    {
     "data": {
      "text/plain": [
       "(array([  9.21400000e+03,   1.23990000e+04,   1.23480000e+04,\n",
       "          2.10800000e+03,   3.78000000e+02,   1.70000000e+02,\n",
       "          1.00000000e+02,   4.40000000e+01,   7.00000000e+00]),\n",
       " array([  -2.52287462,    9.60551257,   21.73389976,   33.86228695,\n",
       "          45.99067414,   58.11906133,   70.24744852,   82.37583571,\n",
       "          94.5042229 ,  106.63261009]),\n",
       " <a list of 9 Patch objects>)"
      ]
     },
     "execution_count": 385,
     "metadata": {},
     "output_type": "execute_result"
    },
    {
     "data": {
      "image/png": "[encoded data removed]",
      "text/plain": [
       "<matplotlib.figure.Figure at 0x11b31ef60>"
      ]
     },
     "metadata": {},
     "output_type": "display_data"
    }
   ],
   "source": [
    "plt.hist(ints, bins=np.arange(min(ints), max(ints) + binwidth, binwidth))"
   ]
  },
  {
   "cell_type": "code",
   "execution_count": 386,
   "metadata": {},
   "outputs": [],
   "source": [
    "binwidth = sig_std"
   ]
  },
  {
   "cell_type": "code",
   "execution_count": 387,
   "metadata": {},
   "outputs": [
    {
     "data": {
      "text/plain": [
       "(array([  4.00000000e+00,   5.00000000e+00,   6.70000000e+01,\n",
       "          6.56300000e+03,   1.01390000e+04,   1.19680000e+04,\n",
       "          7.14100000e+03,   7.80000000e+02,   6.00000000e+01,\n",
       "          1.60000000e+01,   9.00000000e+00,   6.00000000e+00,\n",
       "          2.00000000e+00]),\n",
       " array([-3.20251739, -2.49814992, -1.79378245, -1.08941497, -0.3850475 ,\n",
       "         0.31931998,  1.02368745,  1.72805492,  2.4324224 ,  3.13678987,\n",
       "         3.84115735,  4.54552482,  5.24989229,  5.95425977]),\n",
       " <a list of 13 Patch objects>)"
      ]
     },
     "execution_count": 387,
     "metadata": {},
     "output_type": "execute_result"
    },
    {
     "data": {
      "image/png": "[encoded data removed]",
      "text/plain": [
       "<matplotlib.figure.Figure at 0x11b384b70>"
      ]
     },
     "metadata": {},
     "output_type": "display_data"
    }
   ],
   "source": [
    "plt.hist(sigs, bins=np.arange(min(sigs), max(sigs) + binwidth, binwidth))"
   ]
  },
  {
   "cell_type": "markdown",
   "metadata": {},
   "source": [
    "# NOTE\n",
    "\n",
    "- log(significance) seems to be normally distributed with a spike of low-significance regions\n",
    "- intactness is more Maxwell-Boltzmann and has a long tail in the high-end values...\n",
    "- INstead of using standard deviations as bounds, use percentiles."
   ]
  },
  {
   "cell_type": "code",
   "execution_count": 404,
   "metadata": {},
   "outputs": [],
   "source": [
    "# Calculate percentile values (somewhat arbitrary and can be tweaked)\n",
    "percentiles = [10, 25, 75, 90]"
   ]
  },
  {
   "cell_type": "code",
   "execution_count": 418,
   "metadata": {},
   "outputs": [],
   "source": [
    "int_perc = [int_min]\n",
    "sig_perc = [sig_min]\n",
    "for p in percentiles:\n",
    "    int_perc.append(np.percentile(ints, p))\n",
    "    sig_perc.append(np.percentile(sigs, p))\n",
    "    \n",
    "int_perc.append(int_max)\n",
    "sig_perc.append(sig_max)"
   ]
  },
  {
   "cell_type": "code",
   "execution_count": 433,
   "metadata": {},
   "outputs": [
    {
     "data": {
      "text/plain": [
       "([3.6686100914356303,\n",
       "  9.5852329379163734,\n",
       "  27.086613061427002,\n",
       "  32.347276748870719],\n",
       " [-0.48104541095525222,\n",
       "  -0.24919865048658987,\n",
       "  0.95137403227202666,\n",
       "  1.3016004088266795])"
      ]
     },
     "execution_count": 433,
     "metadata": {},
     "output_type": "execute_result"
    }
   ],
   "source": [
    "# Percentile values for intacteness and significance\n",
    "int_perc[1:-1], sig_perc[1:-1]"
   ]
  },
  {
   "cell_type": "code",
   "execution_count": 430,
   "metadata": {},
   "outputs": [
    {
     "data": {
      "text/plain": [
       "(array([  3677.,   5515.,  18384.,   5515.,   3677.]),\n",
       " array([ -2.52287462,   3.66861009,   9.58523294,  27.08661306,\n",
       "         32.34727675,  96.03623091]),\n",
       " <a list of 5 Patch objects>)"
      ]
     },
     "execution_count": 430,
     "metadata": {},
     "output_type": "execute_result"
    },
    {
     "data": {
      "image/png": "[encoded data removed]",
      "text/plain": [
       "<matplotlib.figure.Figure at 0x11eead390>"
      ]
     },
     "metadata": {},
     "output_type": "display_data"
    }
   ],
   "source": [
    "plt.hist(ints, bins=int_perc)"
   ]
  },
  {
   "cell_type": "code",
   "execution_count": 427,
   "metadata": {},
   "outputs": [
    {
     "data": {
      "text/plain": [
       "(array([  3676.,   5514.,  18380.,   5514.,   3676.]),\n",
       " array([-3.20251739, -0.48104541, -0.24919865,  0.95137403,  1.30160041,\n",
       "         5.27013889]),\n",
       " <a list of 5 Patch objects>)"
      ]
     },
     "execution_count": 427,
     "metadata": {},
     "output_type": "execute_result"
    },
    {
     "data": {
      "image/png": "[encoded data removed]",
      "text/plain": [
       "<matplotlib.figure.Figure at 0x121cc1208>"
      ]
     },
     "metadata": {},
     "output_type": "display_data"
    }
   ],
   "source": [
    "plt.hist(sigs, bins=sig_perc)"
   ]
  },
  {
   "cell_type": "markdown",
   "metadata": {},
   "source": [
    "- Get a list of sub regions' in and sig values\n",
    "- build a distribution\n",
    "- pick bounds\n",
    "- bucket into 'V. High', 'High', 'Normal', 'Low', 'V. Low'"
   ]
  },
  {
   "cell_type": "markdown",
   "metadata": {},
   "source": [
    "# Widget\n",
    "\n",
    "### To do\n",
    "\n",
    "1. Get mean and std\n",
    "2. create buckets from these\n",
    "3. count number in each bucket\n",
    "4. calc percentage\n"
   ]
  },
  {
   "cell_type": "code",
   "execution_count": 434,
   "metadata": {},
   "outputs": [
    {
     "data": {
      "text/plain": [
       "[3.6686100914356303,\n",
       " 9.5852329379163734,\n",
       " 27.086613061427002,\n",
       " 32.347276748870719]"
      ]
     },
     "execution_count": 434,
     "metadata": {},
     "output_type": "execute_result"
    }
   ],
   "source": [
    "int_perc[1:-1]"
   ]
  },
  {
   "cell_type": "code",
   "execution_count": 435,
   "metadata": {},
   "outputs": [
    {
     "data": {
      "text/plain": [
       "[-0.48104541095525222,\n",
       " -0.24919865048658987,\n",
       " 0.95137403227202666,\n",
       " 1.3016004088266795]"
      ]
     },
     "execution_count": 435,
     "metadata": {},
     "output_type": "execute_result"
    }
   ],
   "source": [
    "sig_perc[1:-1]"
   ]
  },
  {
   "cell_type": "code",
   "execution_count": 296,
   "metadata": {},
   "outputs": [],
   "source": [
    "def getLocalStats(data, metric='int'):\n",
    "    if metric == 'int':\n",
    "        values = [-d.get('int') for d in data if d.get('int')]\n",
    "    elif metric == 'sig':\n",
    "        values = [math.log(d.get('sig'),10) for d in data if d.get('sig')]\n",
    "    \n",
    "    mean = np.mean(values)\n",
    "    std = np.std(values)\n",
    "    \n",
    "    return {'mean': mean, 'std': std}"
   ]
  },
  {
   "cell_type": "code",
   "execution_count": 436,
   "metadata": {},
   "outputs": [],
   "source": [
    "def getHistogram(data):\n",
    "    \n",
    "    metrics = ['int', 'sig']\n",
    "    tmp = {} \n",
    "\n",
    "    for metric in metrics:\n",
    "        \n",
    "        counts = {\n",
    "\n",
    "            'very high': 0,\n",
    "            'high': 0,\n",
    "            'normal': 0,\n",
    "            'low': 0,\n",
    "            'very low': 0\n",
    "\n",
    "        }\n",
    "        \n",
    "        for d in data:\n",
    "            if metric == 'int':\n",
    "                value = -d.get(metric)\n",
    "                percentile = [3.6686100914356303, 9.5852329379163734, \n",
    "                              27.086613061427002, 32.347276748870719]\n",
    "            elif metric == 'sig' and d.get('sig'):\n",
    "                value = math.log(d.get('sig'))\n",
    "                percentile = [-0.48104541095525222, -0.24919865048658987, \n",
    "                              0.95137403227202666, 1.3016004088266795]\n",
    "\n",
    "            if (value > percentile[3]):\n",
    "                counts['very high'] += 1\n",
    "            elif (value > percentile[2]) and (value <= percentile[3]):\n",
    "                counts['high'] += 1\n",
    "            elif (value > percentile[1]) and (value <= percentile[2]):\n",
    "                counts['normal'] += 1\n",
    "            elif (value > percentile[0]) and (value <= percentile[1]):\n",
    "                counts['low'] += 1\n",
    "            elif (value <= percentile[0]):\n",
    "                counts['very low'] += 1\n",
    "\n",
    "        total = sum(counts.values())\n",
    "    \n",
    "        tmp[metric] = {k: round(100 * v / total, 2) for k,v in counts.items()}\n",
    "    \n",
    "    return tmp\n"
   ]
  },
  {
   "cell_type": "code",
   "execution_count": 437,
   "metadata": {},
   "outputs": [
    {
     "data": {
      "text/plain": [
       "{'int': {'high': 15.0,\n",
       "  'low': 15.0,\n",
       "  'normal': 50.0,\n",
       "  'very high': 10.0,\n",
       "  'very low': 10.0},\n",
       " 'sig': {'high': 5.94,\n",
       "  'low': 3.3,\n",
       "  'normal': 20.32,\n",
       "  'very high': 44.1,\n",
       "  'very low': 26.34}}"
      ]
     },
     "execution_count": 437,
     "metadata": {},
     "output_type": "execute_result"
    }
   ],
   "source": [
    "getHistogram(data)"
   ]
  },
  {
   "cell_type": "markdown",
   "metadata": {},
   "source": [
    "# Dynamic Sentence"
   ]
  },
  {
   "cell_type": "code",
   "execution_count": 447,
   "metadata": {},
   "outputs": [],
   "source": [
    "def getSentence(hist, selected, metric): \n",
    "    \n",
    "    pprint(hist)\n",
    "    \n",
    "    if(metric == 'int'):\n",
    "        label = 'intacteness'\n",
    "    elif(metric == 'sig'):\n",
    "        label = 'signficance'\n",
    "\n",
    "    areaId_to_name = None\n",
    "    if adm2:\n",
    "        tmp = get_admin2_json(iso=adm0, adm1=adm1)\n",
    "        areaId_to_name ={}\n",
    "        for row in tmp:\n",
    "            areaId_to_name[row.get('adm2')] = row.get('name')\n",
    "    if adm1 and not adm2:\n",
    "        tmp = get_admin1_json(iso=adm0)\n",
    "        areaId_to_name={}\n",
    "        for row in tmp:\n",
    "            areaId_to_name[row.get('adm1')] = row.get('name')\n",
    "\n",
    "    if not adm0 and  not adm1 and not adm2:\n",
    "        title = (\"countries globally\")\n",
    "    if adm0 and not adm1 and not adm2:\n",
    "        title = (f\"regions in{iso_to_countries[adm0]}\")\n",
    "    if adm0 and adm1 and not adm2: \n",
    "        title = (f\"subregions in {areaId_to_name[adm1]}\")\n",
    "\n",
    "    print(\"\")\n",
    "    print(f\"Around {hist[metric][selected]}% of {title} have a \",end=\"\")\n",
    "    print(f\"{selected} degree of biodiversity {label} on average.\", end=\"\")\n"
   ]
  },
  {
   "cell_type": "markdown",
   "metadata": {},
   "source": [
    "# Examples"
   ]
  },
  {
   "cell_type": "code",
   "execution_count": 454,
   "metadata": {},
   "outputs": [
    {
     "name": "stdout",
     "output_type": "stream",
     "text": [
      "Request for  adm1 areas\n",
      "https://wri-01.carto.com/api/v2/sql?q=SELECT+iso%2C+adm1%2C+adm2%2C+significance+AS+sig%2C+intactness+AS+int+FROM+global_biodiversity_table+WHERE+iso+%3D+%27IDN%27+ \n",
      "\n",
      "{'int': {'high': 5.9,\n",
      "         'low': 21.77,\n",
      "         'normal': 25.4,\n",
      "         'very high': 16.55,\n",
      "         'very low': 30.39},\n",
      " 'sig': {'high': 6.58,\n",
      "         'low': 0.0,\n",
      "         'normal': 0.91,\n",
      "         'very high': 92.52,\n",
      "         'very low': 0.0}}\n",
      "\n",
      "Around 16.55% of regions inIndonesia have a very high degree of biodiversity intacteness on average."
     ]
    }
   ],
   "source": [
    "adm0 = 'IDN'\n",
    "adm1 = None\n",
    "\n",
    "data = biodiversity_query(adm0=adm0, adm1=adm1)\n",
    "hist = getHistogram(data)\n",
    "getSentence(hist, 'very high','int')"
   ]
  },
  {
   "cell_type": "code",
   "execution_count": 455,
   "metadata": {},
   "outputs": [
    {
     "name": "stdout",
     "output_type": "stream",
     "text": [
      "Request for adm2 areas\n",
      "https://wri-01.carto.com/api/v2/sql?q=SELECT+iso%2C+adm1%2C+adm2%2C+significance+AS+sig%2C+intactness+AS+int+FROM+global_biodiversity_table+WHERE+iso+%3D+%27BRA%27+AND+adm1+%3D+1+ \n",
      "\n",
      "{'int': {'high': 0.0,\n",
      "         'low': 27.27,\n",
      "         'normal': 0.0,\n",
      "         'very high': 0.0,\n",
      "         'very low': 72.73},\n",
      " 'sig': {'high': 31.82,\n",
      "         'low': 0.0,\n",
      "         'normal': 54.55,\n",
      "         'very high': 13.64,\n",
      "         'very low': 0.0}}\n",
      "\n",
      "Around 0.0% of subregions in Acre have a low degree of biodiversity signficance on average."
     ]
    }
   ],
   "source": [
    "adm0 = 'BRA'\n",
    "adm1 = 1\n",
    "\n",
    "data = biodiversity_query(adm0=adm0, adm1=adm1)\n",
    "hist = getHistogram(data)\n",
    "getSentence(hist, 'low','sig')"
   ]
  },
  {
   "cell_type": "code",
   "execution_count": 457,
   "metadata": {},
   "outputs": [
    {
     "name": "stdout",
     "output_type": "stream",
     "text": [
      "Request for adm2 areas\n",
      "https://wri-01.carto.com/api/v2/sql?q=SELECT+iso%2C+adm1%2C+adm2%2C+significance+AS+sig%2C+intactness+AS+int+FROM+global_biodiversity_table+WHERE+iso+%3D+%27ESP%27+AND+adm1+%3D+14+ \n",
      "\n",
      "{'int': {'high': 50.0,\n",
      "         'low': 0.0,\n",
      "         'normal': 50.0,\n",
      "         'very high': 0.0,\n",
      "         'very low': 0.0},\n",
      " 'sig': {'high': 0.0,\n",
      "         'low': 0.0,\n",
      "         'normal': 0.0,\n",
      "         'very high': 100.0,\n",
      "         'very low': 0.0}}\n",
      "\n",
      "Around 50.0% of subregions in Islas Canarias have a high degree of biodiversity intacteness on average."
     ]
    }
   ],
   "source": [
    "adm0 = 'ESP'\n",
    "adm1 = 14\n",
    "\n",
    "data = biodiversity_query(adm0=adm0, adm1=adm1)\n",
    "hist = getHistogram(data)\n",
    "getSentence(hist, 'high','int')"
   ]
  },
  {
   "cell_type": "code",
   "execution_count": null,
   "metadata": {},
   "outputs": [],
   "source": []
  }
 ],
 "metadata": {
  "kernelspec": {
   "display_name": "Python 3",
   "language": "python",
   "name": "python3"
  },
  "language_info": {
   "codemirror_mode": {
    "name": "ipython",
    "version": 3
   },
   "file_extension": ".py",
   "mimetype": "text/x-python",
   "name": "python",
   "nbconvert_exporter": "python",
   "pygments_lexer": "ipython3",
   "version": "3.6.2"
  }
 },
 "nbformat": 4,
 "nbformat_minor": 2
}
