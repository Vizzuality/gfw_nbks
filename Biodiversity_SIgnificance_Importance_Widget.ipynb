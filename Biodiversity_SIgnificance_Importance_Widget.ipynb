{
 "cells": [
  {
   "cell_type": "markdown",
   "metadata": {},
   "source": [
    "# \"Global Biodiversity\" Widget\n",
    "\n",
    "This widget is a horizontally oriented histogram, breaking sub regions into buckets of 'Very High' to 'Very Low' Intactness or Significance.\n",
    "\n",
    "Due to the heavily qualitative nature of the data we are unable to quote any numerical values, nor make direct comparisons between subregions.\n",
    "\n",
    "In the face of that the histogram will only display the percentage of subregions that fall into each bucket as a percentage.\n",
    "\n",
    "Along side the histogram \n",
    "\n",
    "User Variables:\n",
    "\n",
    "1. Admin-0, -1 and -2 region\n",
    "2. number of subregions or %\n",
    "3. Biodiversity Intactness or Significance\n",
    "\n",
    "On Hover:\n",
    "\n",
    "When a user hovers on a bar the dynamic sentence should change to reflect the value of the bar.\n",
    "\n",
    "Tabs: ['Conservation']"
   ]
  },
  {
   "cell_type": "markdown",
   "metadata": {},
   "source": [
    "# Note\n",
    "\n",
    "A few issues:\n",
    "\n",
    "- data is non-central (Intactness has a long tail and fignificance is exponential)\n",
    "- size and number of many buckets (5 or 7? 1 sigma?)\n",
    "- Should mean and std be global or locally calculated?"
   ]
  },
  {
   "cell_type": "code",
   "execution_count": 153,
   "metadata": {},
   "outputs": [],
   "source": [
    "import os\n",
    "import ee\n",
    "import json\n",
    "import requests\n",
    "import requests_cache\n",
    "from pprint import pprint\n",
    "import pandas as pd\n",
    "import matplotlib.pyplot as plt\n",
    "import numpy as np\n",
    "import math\n",
    "import statistics as stats\n",
    "\n",
    "ee.Initialize()"
   ]
  },
  {
   "cell_type": "code",
   "execution_count": 2,
   "metadata": {},
   "outputs": [],
   "source": [
    "#Import Global Metadata etc\n",
    "\n",
    "%run '0.Importable_Globals.ipynb'"
   ]
  },
  {
   "cell_type": "code",
   "execution_count": 62,
   "metadata": {},
   "outputs": [],
   "source": [
    "# Make the query and return data\n",
    "def biodiversity_query(adm0=None, adm1=None):\n",
    "             \n",
    "    if adm1:\n",
    "        print('Request for adm2 areas')\n",
    "        sql = (f\"SELECT iso, adm1, adm2, significance AS sig, intactness AS int \"\n",
    "               f\"FROM global_biodiversity_table \"\n",
    "               f\"WHERE iso = '{adm0}' \"\n",
    "               f\"AND adm1 = {adm1} \")\n",
    "               \n",
    "    elif adm0:\n",
    "        print('Request for  adm1 areas')\n",
    "        sql = (f\"SELECT iso, adm1, adm2, significance AS sig, intactness AS int \"\n",
    "               f\"FROM global_biodiversity_table \"\n",
    "               f\"WHERE iso = '{adm0}' \")\n",
    "        \n",
    "    else:\n",
    "        print('Request adm0 areas')\n",
    "        sql = (f\"SELECT iso, adm1, adm2, significance AS sig, intactness AS int \"\n",
    "               f\"FROM global_biodiversity_table \")\n",
    "    \n",
    "    account = 'wri-01'\n",
    "    urlCarto = \"https://{0}.carto.com/api/v2/sql\".format(account)\n",
    "\n",
    "    sql = {\"q\": sql}\n",
    "    r = requests.get(urlCarto, params=sql)\n",
    "    print(r.url,'\\n')\n",
    "    # pprint(r.json())\n",
    "    data = r.json().get('rows')\n",
    "    \n",
    "    return data"
   ]
  },
  {
   "cell_type": "code",
   "execution_count": 388,
   "metadata": {},
   "outputs": [
    {
     "name": "stdout",
     "output_type": "stream",
     "text": [
      "Request adm0 areas\n",
      "https://wri-01.carto.com/api/v2/sql?q=SELECT+iso%2C+adm1%2C+adm2%2C+significance+AS+sig%2C+intactness+AS+int+FROM+global_biodiversity_table+ \n",
      "\n"
     ]
    }
   ],
   "source": [
    "adm0 = None\n",
    "adm1 = None\n",
    "\n",
    "data = biodiversity_query(adm0=adm0, adm1=adm1)"
   ]
  },
  {
   "cell_type": "code",
   "execution_count": 389,
   "metadata": {},
   "outputs": [
    {
     "data": {
      "text/plain": [
       "[{'adm1': 17,\n",
       "  'adm2': 181,\n",
       "  'int': -27.6040841675594,\n",
       "  'iso': 'AFG',\n",
       "  'sig': 5.77854612866165},\n",
       " {'adm1': 18,\n",
       "  'adm2': 185,\n",
       "  'int': -20.5403704321043,\n",
       "  'iso': 'AFG',\n",
       "  'sig': 7.92993286262219},\n",
       " {'adm1': 18,\n",
       "  'adm2': 186,\n",
       "  'int': -17.3960070816717,\n",
       "  'iso': 'AFG',\n",
       "  'sig': 8.23205527801386}]"
      ]
     },
     "execution_count": 389,
     "metadata": {},
     "output_type": "execute_result"
    }
   ],
   "source": [
    "\"\"\"NOTE significance is exponential and ranges from 0 - 190,000\n",
    "        intactness is linear and ranges from -100 - 0\"\"\"\n",
    "\n",
    "data[0:3]"
   ]
  },
  {
   "cell_type": "markdown",
   "metadata": {},
   "source": [
    "# Get Global Stats"
   ]
  },
  {
   "cell_type": "code",
   "execution_count": 391,
   "metadata": {},
   "outputs": [],
   "source": [
    "ints = [-d.get('int') for d in data if d.get('int')]\n",
    "sigs = [math.log(d.get('sig'),10) for d in data if d.get('sig')]\n",
    "\n",
    "\n",
    "int_mean = np.mean(ints)\n",
    "sig_mean = np.mean(sigs)\n",
    "\n",
    "int_std = np.std(ints)\n",
    "sig_std = np.std(sigs)\n",
    "\n",
    "int_min = min(ints)\n",
    "sig_min = min(sigs)\n",
    "\n",
    "int_max = max(ints)\n",
    "sig_max = max(sigs)\n"
   ]
  },
  {
   "cell_type": "code",
   "execution_count": 392,
   "metadata": {
    "scrolled": true
   },
   "outputs": [
    {
     "data": {
      "text/plain": [
       "(18.897645087752558,\n",
       " 12.128387190174665,\n",
       " -2.52287461925259,\n",
       " 96.0362309086158,\n",
       " 36768)"
      ]
     },
     "execution_count": 392,
     "metadata": {},
     "output_type": "execute_result"
    }
   ],
   "source": [
    "int_mean, int_std, int_min, int_max, len(ints)"
   ]
  },
  {
   "cell_type": "code",
   "execution_count": 393,
   "metadata": {},
   "outputs": [
    {
     "data": {
      "text/plain": [
       "(0.41021976041473202,\n",
       " 0.70436747388513643,\n",
       " -3.202517393325241,\n",
       " 5.270138891140876,\n",
       " 36760)"
      ]
     },
     "execution_count": 393,
     "metadata": {},
     "output_type": "execute_result"
    }
   ],
   "source": [
    "sig_mean, sig_std, sig_min, sig_max, len(sigs)"
   ]
  },
  {
   "cell_type": "markdown",
   "metadata": {},
   "source": [
    "- Get a list of sub regions' in and sig values\n",
    "- build a distribution\n",
    "- pick bounds\n",
    "- bucket into 'V. High', 'High', 'Normal', 'Low', 'V. Low'"
   ]
  },
  {
   "cell_type": "code",
   "execution_count": 384,
   "metadata": {},
   "outputs": [],
   "source": [
    "binwidth = int_std"
   ]
  },
  {
   "cell_type": "code",
   "execution_count": 385,
   "metadata": {},
   "outputs": [
    {
     "data": {
      "text/plain": [
       "(array([  9.21400000e+03,   1.23990000e+04,   1.23480000e+04,\n",
       "          2.10800000e+03,   3.78000000e+02,   1.70000000e+02,\n",
       "          1.00000000e+02,   4.40000000e+01,   7.00000000e+00]),\n",
       " array([  -2.52287462,    9.60551257,   21.73389976,   33.86228695,\n",
       "          45.99067414,   58.11906133,   70.24744852,   82.37583571,\n",
       "          94.5042229 ,  106.63261009]),\n",
       " <a list of 9 Patch objects>)"
      ]
     },
     "execution_count": 385,
     "metadata": {},
     "output_type": "execute_result"
    },
    {
     "data": {
      "image/png": "[encoded data removed]",
      "text/plain": [
       "<matplotlib.figure.Figure at 0x11b31ef60>"
      ]
     },
     "metadata": {},
     "output_type": "display_data"
    }
   ],
   "source": [
    "plt.hist(ints, bins=np.arange(min(ints), max(ints) + binwidth, binwidth))"
   ]
  },
  {
   "cell_type": "code",
   "execution_count": 386,
   "metadata": {},
   "outputs": [],
   "source": [
    "binwidth = sig_std"
   ]
  },
  {
   "cell_type": "code",
   "execution_count": 387,
   "metadata": {},
   "outputs": [
    {
     "data": {
      "text/plain": [
       "(array([  4.00000000e+00,   5.00000000e+00,   6.70000000e+01,\n",
       "          6.56300000e+03,   1.01390000e+04,   1.19680000e+04,\n",
       "          7.14100000e+03,   7.80000000e+02,   6.00000000e+01,\n",
       "          1.60000000e+01,   9.00000000e+00,   6.00000000e+00,\n",
       "          2.00000000e+00]),\n",
       " array([-3.20251739, -2.49814992, -1.79378245, -1.08941497, -0.3850475 ,\n",
       "         0.31931998,  1.02368745,  1.72805492,  2.4324224 ,  3.13678987,\n",
       "         3.84115735,  4.54552482,  5.24989229,  5.95425977]),\n",
       " <a list of 13 Patch objects>)"
      ]
     },
     "execution_count": 387,
     "metadata": {},
     "output_type": "execute_result"
    },
    {
     "data": {
      "image/png": "[encoded data removed]",
      "text/plain": [
       "<matplotlib.figure.Figure at 0x11b384b70>"
      ]
     },
     "metadata": {},
     "output_type": "display_data"
    }
   ],
   "source": [
    "plt.hist(sigs, bins=np.arange(min(sigs), max(sigs) + binwidth, binwidth))"
   ]
  },
  {
   "cell_type": "markdown",
   "metadata": {},
   "source": [
    "# NOTE\n",
    "\n",
    "- log(significance) seems to be normally distributed with a spike of low-significance regions\n",
    "- intactness is more Maxwell-Boltzmann (poisson stats), again taking a log normalises a little..."
   ]
  },
  {
   "cell_type": "markdown",
   "metadata": {},
   "source": [
    "# Widget\n",
    "\n",
    "Users can select\n",
    "\n",
    "### To do\n",
    "\n",
    "1. Get mean and std\n",
    "2. create buckets from these\n",
    "3. count number in each bucket\n",
    "4. calc percentage\n"
   ]
  },
  {
   "cell_type": "code",
   "execution_count": 296,
   "metadata": {},
   "outputs": [],
   "source": [
    "def getLocalStats(data, metric='int'):\n",
    "    if metric == 'int':\n",
    "        values = [-d.get('int') for d in data if d.get('int')]\n",
    "    elif metric == 'sig':\n",
    "        values = [math.log(d.get('sig'),10) for d in data if d.get('sig')]\n",
    "    \n",
    "    mean = np.mean(values)\n",
    "    std = np.std(values)\n",
    "    \n",
    "    return {'mean': mean, 'std': std}"
   ]
  },
  {
   "cell_type": "code",
   "execution_count": 367,
   "metadata": {},
   "outputs": [],
   "source": [
    "def getHistogram(data):\n",
    "    \n",
    "    metrics = ['int', 'sig']\n",
    "    tmp = {} \n",
    "\n",
    "    for metric in metrics:\n",
    "        \n",
    "        counts = {\n",
    "\n",
    "            'extremely high': 0,\n",
    "            'very high': 0,\n",
    "            'high': 0,\n",
    "            'normal': 0,\n",
    "            'low': 0,\n",
    "            'very low': 0,\n",
    "            'extremely low': 0\n",
    "\n",
    "        }\n",
    "        \n",
    "        mean = getLocalStats(data, metric).get('mean')\n",
    "        std = getLocalStats(data, metric).get('std')\n",
    "        \n",
    "        for d in data:\n",
    "            if metric == 'int':\n",
    "                value = -d.get(metric)\n",
    "            elif metric == 'sig' and d.get('sig'):\n",
    "                value = math.log(d.get('sig'))\n",
    "\n",
    "            if (value > mean + 3*std):\n",
    "                counts['extremely high'] += 1\n",
    "            elif (value >= mean + 2*std) and (value < mean + 3*std):\n",
    "                counts['very high'] += 1\n",
    "            elif (value >= mean + 1*std) and (value < mean + 2*std):\n",
    "                counts['high'] += 1\n",
    "            elif (value >= mean - 1*std) and (value < mean + 1*std):\n",
    "                counts['normal'] += 1\n",
    "            elif (value >= mean - 2*std) and (value < mean - 1*std):\n",
    "                counts['low'] += 1\n",
    "            elif (value >= mean - 3*std) and (value < mean - 2*std):\n",
    "                counts['very low'] += 1\n",
    "            elif (value > mean - 3*std):\n",
    "                counts['extremely low'] += 1\n",
    "\n",
    "        total = sum(counts.values())\n",
    "    \n",
    "        tmp[metric] = {k: round(100 * v / total, 2) for k,v in counts.items()}\n",
    "    \n",
    "    return tmp\n"
   ]
  },
  {
   "cell_type": "code",
   "execution_count": 368,
   "metadata": {},
   "outputs": [
    {
     "data": {
      "text/plain": [
       "{'int': {'extremely high': 1.02,\n",
       "  'extremely low': 0.0,\n",
       "  'high': 11.19,\n",
       "  'low': 17.82,\n",
       "  'normal': 68.64,\n",
       "  'very high': 1.33,\n",
       "  'very low': 0.0},\n",
       " 'sig': {'extremely high': 18.98,\n",
       "  'extremely low': 0.0,\n",
       "  'high': 15.15,\n",
       "  'low': 15.23,\n",
       "  'normal': 24.07,\n",
       "  'very high': 13.8,\n",
       "  'very low': 12.76}}"
      ]
     },
     "execution_count": 368,
     "metadata": {},
     "output_type": "execute_result"
    }
   ],
   "source": [
    "getHistogram(data)"
   ]
  },
  {
   "cell_type": "markdown",
   "metadata": {},
   "source": [
    "# Dynamic Sentence"
   ]
  },
  {
   "cell_type": "code",
   "execution_count": 373,
   "metadata": {},
   "outputs": [],
   "source": [
    "def getSentence(hist, selected, metric): \n",
    "    \n",
    "    pprint(hist)\n",
    "    \n",
    "    if(metric == 'int'):\n",
    "        label = 'intacteness'\n",
    "    elif(metric == 'sig'):\n",
    "        label = 'signficance'\n",
    "\n",
    "    areaId_to_name = None\n",
    "    if adm2:\n",
    "        tmp = get_admin2_json(iso=adm0, adm1=adm1)\n",
    "        areaId_to_name ={}\n",
    "        for row in tmp:\n",
    "            areaId_to_name[row.get('adm2')] = row.get('name')\n",
    "    if adm1 and not adm2:\n",
    "        tmp = get_admin1_json(iso=adm0)\n",
    "        areaId_to_name={}\n",
    "        for row in tmp:\n",
    "            areaId_to_name[row.get('adm1')] = row.get('name')\n",
    "\n",
    "    if not adm0 and  not adm1 and not adm2:\n",
    "        title = (\"countries globally\")\n",
    "    if adm0 and not adm1 and not adm2:\n",
    "        title = (f\"regions in{iso_to_countries[adm0]}\")\n",
    "    if adm0 and adm1 and not adm2: \n",
    "        title = (f\"subregions in {areaId_to_name[adm1]}\")\n",
    "\n",
    "    print(\"\")\n",
    "    print(f\"Around {hist[metric][selected]}% of {title} have a {selected} degree of biodiversity {label} on average.\", end=\"\")\n"
   ]
  },
  {
   "cell_type": "markdown",
   "metadata": {},
   "source": [
    "# Examples"
   ]
  },
  {
   "cell_type": "code",
   "execution_count": 376,
   "metadata": {},
   "outputs": [
    {
     "name": "stdout",
     "output_type": "stream",
     "text": [
      "Request adm0 areas\n",
      "https://wri-01.carto.com/api/v2/sql?q=SELECT+iso%2C+adm1%2C+adm2%2C+significance+AS+sig%2C+intactness+AS+int+FROM+global_biodiversity_table+ \n",
      "\n"
     ]
    }
   ],
   "source": [
    "adm0 = None #GLOBAL\n",
    "adm1 = None\n",
    "\n",
    "data = biodiversity_query(adm0=adm0, adm1=adm1)\n",
    "hist = getHistogram(data)"
   ]
  },
  {
   "cell_type": "code",
   "execution_count": 377,
   "metadata": {},
   "outputs": [
    {
     "name": "stdout",
     "output_type": "stream",
     "text": [
      "{'int': {'extremely high': 1.02,\n",
      "         'extremely low': 0.0,\n",
      "         'high': 11.19,\n",
      "         'low': 17.82,\n",
      "         'normal': 68.64,\n",
      "         'very high': 1.33,\n",
      "         'very low': 0.0},\n",
      " 'sig': {'extremely high': 18.98,\n",
      "         'extremely low': 0.0,\n",
      "         'high': 15.15,\n",
      "         'low': 15.23,\n",
      "         'normal': 24.07,\n",
      "         'very high': 13.8,\n",
      "         'very low': 12.76}}\n",
      "\n",
      "Around 1.33% of countries globally have a very high degree of biodiversity intacteness on average."
     ]
    }
   ],
   "source": [
    "getSentence(hist, 'very high','int')"
   ]
  },
  {
   "cell_type": "code",
   "execution_count": 379,
   "metadata": {},
   "outputs": [
    {
     "name": "stdout",
     "output_type": "stream",
     "text": [
      "{'int': {'extremely high': 1.02,\n",
      "         'extremely low': 0.0,\n",
      "         'high': 11.19,\n",
      "         'low': 17.82,\n",
      "         'normal': 68.64,\n",
      "         'very high': 1.33,\n",
      "         'very low': 0.0},\n",
      " 'sig': {'extremely high': 18.98,\n",
      "         'extremely low': 0.0,\n",
      "         'high': 15.15,\n",
      "         'low': 15.23,\n",
      "         'normal': 24.07,\n",
      "         'very high': 13.8,\n",
      "         'very low': 12.76}}\n",
      "\n",
      "Around 24.07% of countries globally have a normal degree of biodiversity signficance on average."
     ]
    }
   ],
   "source": [
    "getSentence(hist, 'normal','sig')"
   ]
  },
  {
   "cell_type": "code",
   "execution_count": null,
   "metadata": {},
   "outputs": [],
   "source": []
  },
  {
   "cell_type": "code",
   "execution_count": null,
   "metadata": {},
   "outputs": [],
   "source": []
  },
  {
   "cell_type": "code",
   "execution_count": null,
   "metadata": {},
   "outputs": [],
   "source": []
  }
 ],
 "metadata": {
  "kernelspec": {
   "display_name": "Python 3",
   "language": "python",
   "name": "python3"
  },
  "language_info": {
   "codemirror_mode": {
    "name": "ipython",
    "version": 3
   },
   "file_extension": ".py",
   "mimetype": "text/x-python",
   "name": "python",
   "nbconvert_exporter": "python",
   "pygments_lexer": "ipython3",
   "version": "3.6.2"
  }
 },
 "nbformat": 4,
 "nbformat_minor": 2
}
