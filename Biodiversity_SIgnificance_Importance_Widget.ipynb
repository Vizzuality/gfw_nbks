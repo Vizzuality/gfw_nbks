{
 "cells": [
  {
   "cell_type": "markdown",
   "metadata": {},
   "source": [
    "# \"Global Biodiversity\" Widget\n",
    "\n",
    "This widget is a horizontally oriented histogram, breaking sub regions into buckets of 'Very High' to 'Very Low' Intactness or Significance.\n",
    "\n",
    "Due to the heavily qualitative nature of the data we are unable to quote any numerical values, nor make direct comparisons between subregions.\n",
    "\n",
    "In the face of that the histogram will only display the percentage of subregions that fall into each bucket as a percentage.\n",
    "\n",
    "Along side the histogram \n",
    "\n",
    "User Variables:\n",
    "\n",
    "1. Admin-0, -1 and -2 region\n",
    "2. number of subregions or %\n",
    "3. Biodiversity Intactness or Significance\n",
    "\n",
    "On Hover:\n",
    "\n",
    "When a user hovers on a bar the dynamic sentence should change to reflect the value of the bar.\n",
    "\n",
    "Tabs: ['Conservation']"
   ]
  },
  {
   "cell_type": "code",
   "execution_count": 1,
   "metadata": {},
   "outputs": [],
   "source": [
    "import os\n",
    "import ee\n",
    "import json\n",
    "import requests\n",
    "import requests_cache\n",
    "from pprint import pprint\n",
    "import pandas as pd\n",
    "import matplotlib.pyplot as plt\n",
    "import numpy as np\n",
    "import math\n",
    "import statistics as stats\n",
    "\n",
    "ee.Initialize()"
   ]
  },
  {
   "cell_type": "code",
   "execution_count": 2,
   "metadata": {},
   "outputs": [],
   "source": [
    "#Import Global Metadata etc\n",
    "\n",
    "%run '0.Importable_Globals.ipynb'"
   ]
  },
  {
   "cell_type": "code",
   "execution_count": 53,
   "metadata": {},
   "outputs": [],
   "source": [
    "# Make the query and return data\n",
    "def biodiversity_query(adm0=None):\n",
    "    \"\"\"Fetches subregions within an adm1, adm0, or if none are selected, all data (global)\"\"\"\n",
    "                  \n",
    "    if adm0:\n",
    "        print('Request for  adm1 areas')\n",
    "        sql = (f\"SELECT iso, adm1, sum(area) as area, \"\n",
    "               \"sum(significance_total) AS sig, sum(intactness_total) AS int \"\n",
    "               f\"FROM global_biodiversity_table \"\n",
    "               f\"WHERE iso = '{adm0}' \"\n",
    "               \"GROUP BY iso, adm1\")\n",
    "        \n",
    "    else:\n",
    "        print('Request adm0 areas')\n",
    "        sql = (f\"SELECT iso, sum(area) as area, \"\n",
    "               \"sum(significance_total) AS sig, sum(intactness_total) AS int \"\n",
    "               f\"FROM global_biodiversity_table \"\n",
    "               \"GROUP BY iso\")\n",
    "    \n",
    "    account = 'wri-01'\n",
    "    urlCarto = \"https://{0}.carto.com/api/v2/sql\".format(account)\n",
    "\n",
    "    sql = {\"q\": sql}\n",
    "    r = requests.get(urlCarto, params=sql)\n",
    "    print(r.url,'\\n')\n",
    "    # pprint(r.json())\n",
    "    data = r.json().get('rows')\n",
    "    \n",
    "    return data"
   ]
  },
  {
   "cell_type": "code",
   "execution_count": 56,
   "metadata": {},
   "outputs": [
    {
     "name": "stdout",
     "output_type": "stream",
     "text": [
      "Request adm0 areas\n",
      "https://wri-01.carto.com/api/v2/sql?q=SELECT+iso%2C+sum%28area%29+as+area%2C+sum%28significance_total%29+AS+sig%2C+sum%28intactness_total%29+AS+int+FROM+global_biodiversity_table+GROUP+BY+iso \n",
      "\n"
     ]
    }
   ],
   "source": [
    "adm0 = None\n",
    "\n",
    "data = biodiversity_query(adm0=adm0)"
   ]
  },
  {
   "cell_type": "code",
   "execution_count": 57,
   "metadata": {},
   "outputs": [
    {
     "data": {
      "text/plain": [
       "[{'area': 22111665731.4525,\n",
       "  'int': -43091664.7444239,\n",
       "  'iso': 'BLZ',\n",
       "  'sig': 186736529.119748},\n",
       " {'area': 140281129471.352,\n",
       "  'int': -4773897473.97335,\n",
       "  'iso': 'BGD',\n",
       "  'sig': 117727281.708589},\n",
       " {'area': 7860417202.66774, 'int': 0, 'iso': 'ATF', 'sig': 86.335124714994}]"
      ]
     },
     "execution_count": 57,
     "metadata": {},
     "output_type": "execute_result"
    }
   ],
   "source": [
    "\"\"\"NOTE significance is exponential and ranges from 0 to 1.73e9\n",
    "        intactness is linear and ranges from 0.37e9 to -3.17e9\"\"\"\n",
    "\n",
    "data[0:3]"
   ]
  },
  {
   "cell_type": "markdown",
   "metadata": {},
   "source": [
    "# Get Global Stats"
   ]
  },
  {
   "cell_type": "code",
   "execution_count": 78,
   "metadata": {},
   "outputs": [],
   "source": [
    "# Order all data and convert to numpy arrays in order to calculate basic stats\n",
    "\n",
    "ints = np.array(sorted([-d.get('int')/d.get('area') for d in data if d.get('int')]))\n",
    "sigs = np.array(sorted([math.log(d.get('sig')/d.get('area'),10) for d in data if d.get('sig')]))\n",
    "\n",
    "int_mean = np.mean(ints)\n",
    "sig_mean = np.mean(sigs)\n",
    "\n",
    "int_std = np.std(ints)\n",
    "sig_std = np.std(sigs)\n",
    "\n",
    "int_min = min(ints)\n",
    "sig_min = min(sigs)\n",
    "\n",
    "int_max = max(ints)\n",
    "sig_max = max(sigs)\n"
   ]
  },
  {
   "cell_type": "code",
   "execution_count": 79,
   "metadata": {
    "scrolled": true
   },
   "outputs": [
    {
     "data": {
      "text/plain": [
       "(0.013554878351228036,\n",
       " 0.013541971465133173,\n",
       " -0.0014040467121138754,\n",
       " 0.052339550895002786,\n",
       " 191)"
      ]
     },
     "execution_count": 79,
     "metadata": {},
     "output_type": "execute_result"
    }
   ],
   "source": [
    "int_mean, int_std, int_min, int_max, len(ints)"
   ]
  },
  {
   "cell_type": "code",
   "execution_count": 80,
   "metadata": {},
   "outputs": [
    {
     "data": {
      "text/plain": [
       "(-3.2689822231225887,\n",
       " 1.7958513415646264,\n",
       " -12.41119405534762,\n",
       " 0.02518224073583945,\n",
       " 218)"
      ]
     },
     "execution_count": 80,
     "metadata": {},
     "output_type": "execute_result"
    }
   ],
   "source": [
    "sig_mean, sig_std, sig_min, sig_max, len(sigs)"
   ]
  },
  {
   "cell_type": "markdown",
   "metadata": {},
   "source": [
    "### Nature of the data"
   ]
  },
  {
   "cell_type": "code",
   "execution_count": 85,
   "metadata": {},
   "outputs": [],
   "source": [
    "binwidth = int_std/2"
   ]
  },
  {
   "cell_type": "code",
   "execution_count": 86,
   "metadata": {},
   "outputs": [
    {
     "data": {
      "text/plain": [
       "(array([ 81.,  28.,  25.,  15.,  14.,  19.,   6.,   3.]),\n",
       " array([-0.00140405,  0.00536694,  0.01213792,  0.01890891,  0.0256799 ,\n",
       "         0.03245088,  0.03922187,  0.04599285,  0.05276384]),\n",
       " <a list of 8 Patch objects>)"
      ]
     },
     "execution_count": 86,
     "metadata": {},
     "output_type": "execute_result"
    },
    {
     "data": {
      "image/png": "[encoded data removed]",
      "text/plain": [
       "<matplotlib.figure.Figure at 0x118c45c88>"
      ]
     },
     "metadata": {},
     "output_type": "display_data"
    }
   ],
   "source": [
    "plt.hist(ints, bins=np.arange(min(ints), max(ints) + binwidth, binwidth))"
   ]
  },
  {
   "cell_type": "code",
   "execution_count": 87,
   "metadata": {},
   "outputs": [],
   "source": [
    "binwidth = sig_std/2"
   ]
  },
  {
   "cell_type": "code",
   "execution_count": 88,
   "metadata": {},
   "outputs": [
    {
     "data": {
      "text/plain": [
       "(array([  1.,   2.,   1.,   1.,   2.,   1.,   4.,  11.,  10.,  48.,  63.,\n",
       "         47.,  21.,   6.]),\n",
       " array([-12.41119406, -11.51326838, -10.61534271,  -9.71741704,\n",
       "         -8.81949137,  -7.9215657 ,  -7.02364003,  -6.12571436,\n",
       "         -5.22778869,  -4.32986302,  -3.43193735,  -2.53401168,\n",
       "         -1.63608601,  -0.73816034,   0.15976534]),\n",
       " <a list of 14 Patch objects>)"
      ]
     },
     "execution_count": 88,
     "metadata": {},
     "output_type": "execute_result"
    },
    {
     "data": {
      "image/png": "[encoded data removed]",
      "text/plain": [
       "<matplotlib.figure.Figure at 0x1191dbba8>"
      ]
     },
     "metadata": {},
     "output_type": "display_data"
    }
   ],
   "source": [
    "plt.hist(sigs, bins=np.arange(min(sigs), max(sigs) + binwidth, binwidth))"
   ]
  },
  {
   "cell_type": "markdown",
   "metadata": {},
   "source": [
    "# NOTE\n",
    "\n",
    "- log(significance) seems to be normally distributed with a spike of low-significance regions\n",
    "- intactness is more Maxwell-Boltzmann and has a long tail in the high-end values...\n",
    "- INstead of using standard deviations as bounds, use percentiles."
   ]
  },
  {
   "cell_type": "code",
   "execution_count": 89,
   "metadata": {},
   "outputs": [],
   "source": [
    "# Calculate percentile values (somewhat arbitrary and can be tweaked)\n",
    "percentiles = [10, 25, 75, 90]"
   ]
  },
  {
   "cell_type": "code",
   "execution_count": 90,
   "metadata": {},
   "outputs": [],
   "source": [
    "int_perc = [int_min]\n",
    "sig_perc = [sig_min]\n",
    "for p in percentiles:\n",
    "    int_perc.append(np.percentile(ints, p))\n",
    "    sig_perc.append(np.percentile(sigs, p))\n",
    "    \n",
    "int_perc.append(int_max)\n",
    "sig_perc.append(sig_max)"
   ]
  },
  {
   "cell_type": "code",
   "execution_count": 91,
   "metadata": {},
   "outputs": [
    {
     "data": {
      "text/plain": [
       "([0.00015267099387302624,\n",
       "  0.0024074785194902158,\n",
       "  0.022754608585611132,\n",
       "  0.034339105523731803],\n",
       " [-5.2646716264414586,\n",
       "  -3.7595154633661956,\n",
       "  -2.2457416116059994,\n",
       "  -1.3721143303681893])"
      ]
     },
     "execution_count": 91,
     "metadata": {},
     "output_type": "execute_result"
    }
   ],
   "source": [
    "# Percentile values for intacteness and significance\n",
    "int_perc[1:-1], sig_perc[1:-1]"
   ]
  },
  {
   "cell_type": "code",
   "execution_count": 92,
   "metadata": {},
   "outputs": [
    {
     "data": {
      "text/plain": [
       "(array([ 19.,  29.,  95.,  28.,  20.]),\n",
       " array([-0.00140405,  0.00015267,  0.00240748,  0.02275461,  0.03433911,\n",
       "         0.05233955]),\n",
       " <a list of 5 Patch objects>)"
      ]
     },
     "execution_count": 92,
     "metadata": {},
     "output_type": "execute_result"
    },
    {
     "data": {
      "image/png": "[encoded data removed]",
      "text/plain": [
       "<matplotlib.figure.Figure at 0x1170bdc88>"
      ]
     },
     "metadata": {},
     "output_type": "display_data"
    }
   ],
   "source": [
    "plt.hist(ints, bins=int_perc)"
   ]
  },
  {
   "cell_type": "code",
   "execution_count": 93,
   "metadata": {},
   "outputs": [
    {
     "data": {
      "text/plain": [
       "(array([  22.,   33.,  108.,   33.,   22.]),\n",
       " array([-12.41119406,  -5.26467163,  -3.75951546,  -2.24574161,\n",
       "         -1.37211433,   0.02518224]),\n",
       " <a list of 5 Patch objects>)"
      ]
     },
     "execution_count": 93,
     "metadata": {},
     "output_type": "execute_result"
    },
    {
     "data": {
      "image/png": "[encoded data removed]",
      "text/plain": [
       "<matplotlib.figure.Figure at 0x11882da20>"
      ]
     },
     "metadata": {},
     "output_type": "display_data"
    }
   ],
   "source": [
    "plt.hist(sigs, bins=sig_perc)"
   ]
  },
  {
   "cell_type": "markdown",
   "metadata": {},
   "source": [
    "- Get a list of sub regions' in and sig values\n",
    "- build a distribution\n",
    "- pick bounds\n",
    "- bucket into 'V. High', 'High', 'Normal', 'Low', 'V. Low'"
   ]
  },
  {
   "cell_type": "markdown",
   "metadata": {},
   "source": [
    "# Widget\n",
    "\n",
    "### To do\n",
    "\n",
    "1. Get mean and std\n",
    "2. create buckets from these\n",
    "3. count number in each bucket\n",
    "4. calc percentage\n"
   ]
  },
  {
   "cell_type": "code",
   "execution_count": 94,
   "metadata": {},
   "outputs": [
    {
     "data": {
      "text/plain": [
       "[0.00015267099387302624,\n",
       " 0.0024074785194902158,\n",
       " 0.022754608585611132,\n",
       " 0.034339105523731803]"
      ]
     },
     "execution_count": 94,
     "metadata": {},
     "output_type": "execute_result"
    }
   ],
   "source": [
    "int_perc[1:-1]"
   ]
  },
  {
   "cell_type": "code",
   "execution_count": 95,
   "metadata": {},
   "outputs": [
    {
     "data": {
      "text/plain": [
       "[-5.2646716264414586,\n",
       " -3.7595154633661956,\n",
       " -2.2457416116059994,\n",
       " -1.3721143303681893]"
      ]
     },
     "execution_count": 95,
     "metadata": {},
     "output_type": "execute_result"
    }
   ],
   "source": [
    "sig_perc[1:-1]"
   ]
  },
  {
   "cell_type": "code",
   "execution_count": 116,
   "metadata": {},
   "outputs": [],
   "source": [
    "def getLocalStats(data, metric='int'):\n",
    "    if metric == 'int':\n",
    "        values = [-d.get('int')/d.get('area') for d in data if d.get('int')]\n",
    "    elif metric == 'sig':\n",
    "        values = [math.log(d.get('sig')/d.get('area'),10) for d in data if d.get('sig')]\n",
    "    \n",
    "    mean = np.mean(values)\n",
    "    std = np.std(values)\n",
    "    \n",
    "    return {'mean': mean, 'std': std}"
   ]
  },
  {
   "cell_type": "code",
   "execution_count": 109,
   "metadata": {},
   "outputs": [],
   "source": [
    "def getHistogram(data):\n",
    "    \n",
    "    metrics = ['int', 'sig']\n",
    "    tmp = {} \n",
    "\n",
    "    for metric in metrics:\n",
    "        \n",
    "        counts = {\n",
    "\n",
    "            'very high': 0,\n",
    "            'high': 0,\n",
    "            'normal': 0,\n",
    "            'low': 0,\n",
    "            'very low': 0\n",
    "\n",
    "        }\n",
    "        \n",
    "        for d in data:\n",
    "            if metric == 'int':\n",
    "                value = -d.get(metric)\n",
    "                percentile = int_perc[1:-1]\n",
    "            elif metric == 'sig' and d.get('sig'):\n",
    "                value = math.log(d.get('sig'))\n",
    "                percentile = sig_perc[1:-1]\n",
    "\n",
    "            if (value > percentile[3]):\n",
    "                counts['very high'] += 1\n",
    "            elif (value > percentile[2]) and (value <= percentile[3]):\n",
    "                counts['high'] += 1\n",
    "            elif (value > percentile[1]) and (value <= percentile[2]):\n",
    "                counts['normal'] += 1\n",
    "            elif (value > percentile[0]) and (value <= percentile[1]):\n",
    "                counts['low'] += 1\n",
    "            elif (value <= percentile[0]):\n",
    "                counts['very low'] += 1\n",
    "\n",
    "        total = sum(counts.values())\n",
    "    \n",
    "        tmp[metric] = {k: round(100 * v / total, 2) for k,v in counts.items()}\n",
    "    \n",
    "    return tmp\n"
   ]
  },
  {
   "cell_type": "code",
   "execution_count": 110,
   "metadata": {},
   "outputs": [
    {
     "data": {
      "text/plain": [
       "{'int': {'high': 0.0,\n",
       "  'low': 0.0,\n",
       "  'normal': 0.0,\n",
       "  'very high': 100.0,\n",
       "  'very low': 0.0},\n",
       " 'sig': {'high': 0.0,\n",
       "  'low': 0.0,\n",
       "  'normal': 0.0,\n",
       "  'very high': 100.0,\n",
       "  'very low': 0.0}}"
      ]
     },
     "execution_count": 110,
     "metadata": {},
     "output_type": "execute_result"
    }
   ],
   "source": [
    "getHistogram(data)"
   ]
  },
  {
   "cell_type": "markdown",
   "metadata": {},
   "source": [
    "# Dynamic Sentence"
   ]
  },
  {
   "cell_type": "code",
   "execution_count": 111,
   "metadata": {},
   "outputs": [],
   "source": [
    "def getSentence(hist, selected, metric): \n",
    "    \n",
    "    pprint(hist)\n",
    "    \n",
    "    if(metric == 'int'):\n",
    "        label = 'intacteness'\n",
    "    elif(metric == 'sig'):\n",
    "        label = 'signficance'\n",
    "\n",
    "    areaId_to_name = None\n",
    "    if adm2:\n",
    "        tmp = get_admin2_json(iso=adm0, adm1=adm1)\n",
    "        areaId_to_name ={}\n",
    "        for row in tmp:\n",
    "            areaId_to_name[row.get('adm2')] = row.get('name')\n",
    "    if adm1 and not adm2:\n",
    "        tmp = get_admin1_json(iso=adm0)\n",
    "        areaId_to_name={}\n",
    "        for row in tmp:\n",
    "            areaId_to_name[row.get('adm1')] = row.get('name')\n",
    "\n",
    "    if not adm0 and  not adm1 and not adm2:\n",
    "        title = (\"countries globally\")\n",
    "    if adm0 and not adm1 and not adm2:\n",
    "        title = (f\"regions in {iso_to_countries[adm0]}\")\n",
    "    if adm0 and adm1 and not adm2: \n",
    "        title = (f\"subregions in {areaId_to_name[adm1]}\")\n",
    "\n",
    "    print(\"\")\n",
    "    print(f\"Around {hist[metric][selected]}% of {title} have a \",end=\"\")\n",
    "    print(f\"{selected} degree of biodiversity {label} on average.\", end=\"\")\n"
   ]
  },
  {
   "cell_type": "markdown",
   "metadata": {},
   "source": [
    "# Examples"
   ]
  },
  {
   "cell_type": "code",
   "execution_count": 112,
   "metadata": {},
   "outputs": [
    {
     "name": "stdout",
     "output_type": "stream",
     "text": [
      "Request for  adm1 areas\n",
      "https://wri-01.carto.com/api/v2/sql?q=SELECT+iso%2C+adm1%2C+sum%28area%29+as+area%2C+sum%28significance_total%29+AS+sig%2C+sum%28intactness_total%29+AS+int+FROM+global_biodiversity_table+WHERE+iso+%3D+%27IDN%27+GROUP+BY+iso%2C+adm1 \n",
      "\n",
      "{'int': {'high': 0.0,\n",
      "         'low': 0.0,\n",
      "         'normal': 0.0,\n",
      "         'very high': 88.24,\n",
      "         'very low': 11.76},\n",
      " 'sig': {'high': 0.0,\n",
      "         'low': 0.0,\n",
      "         'normal': 0.0,\n",
      "         'very high': 100.0,\n",
      "         'very low': 0.0}}\n",
      "\n",
      "Around 88.24% of regions in Indonesia have a very high degree of biodiversity intacteness on average."
     ]
    }
   ],
   "source": [
    "adm0 = 'IDN'\n",
    "\n",
    "data = biodiversity_query(adm0=adm0)\n",
    "hist = getHistogram(data)\n",
    "getSentence(hist, 'very high','int')"
   ]
  },
  {
   "cell_type": "code",
   "execution_count": 113,
   "metadata": {},
   "outputs": [
    {
     "name": "stdout",
     "output_type": "stream",
     "text": [
      "Request for  adm1 areas\n",
      "https://wri-01.carto.com/api/v2/sql?q=SELECT+iso%2C+adm1%2C+sum%28area%29+as+area%2C+sum%28significance_total%29+AS+sig%2C+sum%28intactness_total%29+AS+int+FROM+global_biodiversity_table+WHERE+iso+%3D+%27BRA%27+GROUP+BY+iso%2C+adm1 \n",
      "\n",
      "{'int': {'high': 0.0,\n",
      "         'low': 0.0,\n",
      "         'normal': 0.0,\n",
      "         'very high': 81.48,\n",
      "         'very low': 18.52},\n",
      " 'sig': {'high': 0.0,\n",
      "         'low': 0.0,\n",
      "         'normal': 0.0,\n",
      "         'very high': 100.0,\n",
      "         'very low': 0.0}}\n",
      "\n",
      "Around 0.0% of regions in Brazil have a low degree of biodiversity signficance on average."
     ]
    }
   ],
   "source": [
    "adm0 = 'BRA'\n",
    "\n",
    "data = biodiversity_query(adm0=adm0)\n",
    "hist = getHistogram(data)\n",
    "getSentence(hist, 'low','sig')"
   ]
  },
  {
   "cell_type": "code",
   "execution_count": 114,
   "metadata": {},
   "outputs": [
    {
     "name": "stdout",
     "output_type": "stream",
     "text": [
      "Request for  adm1 areas\n",
      "https://wri-01.carto.com/api/v2/sql?q=SELECT+iso%2C+adm1%2C+sum%28area%29+as+area%2C+sum%28significance_total%29+AS+sig%2C+sum%28intactness_total%29+AS+int+FROM+global_biodiversity_table+WHERE+iso+%3D+%27GBR%27+GROUP+BY+iso%2C+adm1 \n",
      "\n",
      "{'int': {'high': 0.0,\n",
      "         'low': 0.0,\n",
      "         'normal': 0.0,\n",
      "         'very high': 100.0,\n",
      "         'very low': 0.0},\n",
      " 'sig': {'high': 0.0,\n",
      "         'low': 0.0,\n",
      "         'normal': 0.0,\n",
      "         'very high': 100.0,\n",
      "         'very low': 0.0}}\n",
      "\n",
      "Around 0.0% of regions in United Kingdom have a low degree of biodiversity signficance on average."
     ]
    }
   ],
   "source": [
    "adm0 = 'GBR'\n",
    "\n",
    "data = biodiversity_query(adm0=adm0)\n",
    "hist = getHistogram(data)\n",
    "getSentence(hist, 'low','sig')"
   ]
  },
  {
   "cell_type": "code",
   "execution_count": 115,
   "metadata": {},
   "outputs": [
    {
     "name": "stdout",
     "output_type": "stream",
     "text": [
      "Request adm0 areas\n",
      "https://wri-01.carto.com/api/v2/sql?q=SELECT+iso%2C+sum%28area%29+as+area%2C+sum%28significance_total%29+AS+sig%2C+sum%28intactness_total%29+AS+int+FROM+global_biodiversity_table+GROUP+BY+iso \n",
      "\n",
      "{'int': {'high': 0.0,\n",
      "         'low': 0.0,\n",
      "         'normal': 0.0,\n",
      "         'very high': 81.17,\n",
      "         'very low': 18.83},\n",
      " 'sig': {'high': 0.45,\n",
      "         'low': 0.0,\n",
      "         'normal': 0.0,\n",
      "         'very high': 99.55,\n",
      "         'very low': 0.0}}\n",
      "\n",
      "Around 0.0% of countries globally have a high degree of biodiversity intacteness on average."
     ]
    }
   ],
   "source": [
    "adm0 = None\n",
    "\n",
    "data = biodiversity_query(adm0=adm0)\n",
    "hist = getHistogram(data)\n",
    "getSentence(hist, 'high','int')"
   ]
  },
  {
   "cell_type": "code",
   "execution_count": null,
   "metadata": {},
   "outputs": [],
   "source": []
  }
 ],
 "metadata": {
  "kernelspec": {
   "display_name": "Python 3",
   "language": "python",
   "name": "python3"
  },
  "language_info": {
   "codemirror_mode": {
    "name": "ipython",
    "version": 3
   },
   "file_extension": ".py",
   "mimetype": "text/x-python",
   "name": "python",
   "nbconvert_exporter": "python",
   "pygments_lexer": "ipython3",
   "version": "3.6.2"
  }
 },
 "nbformat": 4,
 "nbformat_minor": 2
}
