{
 "cells": [
  {
   "cell_type": "code",
   "execution_count": 1,
   "metadata": {
    "collapsed": true
   },
   "outputs": [],
   "source": [
    "import os\n",
    "import ee\n",
    "import json\n",
    "import requests\n",
    "import requests_cache\n",
    "from pprint import pprint\n",
    "import pandas as pd\n",
    "import matplotlib.pyplot as plt\n",
    "import numpy as np\n",
    "\n",
    "ee.Initialize()"
   ]
  },
  {
   "cell_type": "code",
   "execution_count": 2,
   "metadata": {
    "collapsed": true
   },
   "outputs": [],
   "source": [
    "### CARTO TABLE NAME: bra_biomas_land_classification_test "
   ]
  },
  {
   "cell_type": "code",
   "execution_count": 3,
   "metadata": {
    "collapsed": true
   },
   "outputs": [],
   "source": [
    "class_dict = {\n",
    "    \n",
    "    '3': 'Forest Formations',\n",
    "    '4': 'Savannah',\n",
    "    '5': 'Mangrove',\n",
    "    '9': 'Planted Forest',\n",
    "    '11': 'Non-Forest Wetlands',\n",
    "    '12': 'Grassland',\n",
    "    '13': 'Other Non-forest Vegetation',\n",
    "    '15': 'Pasture',\n",
    "    '18': 'Agriculture',\n",
    "    '21': 'Pasture or Agriculture',\n",
    "    '23': 'Beaches or Dunes',\n",
    "    '24': 'Urban Infrastructure',\n",
    "    '25': 'Other Non-vegetated Area',\n",
    "    '26': 'Water Bodies',\n",
    "    '27': 'Unobserved',   \n",
    "    '1': 'Unknown',\n",
    "    '2': 'Unknown',\n",
    "    '10': 'Unknown',\n",
    "    '14': 'Unknown',\n",
    "    '22': 'Unknown',\n",
    " #------------------------#   \n",
    "    '6': 'Unknown',\n",
    "    '7': 'Unknown',\n",
    "    '8': 'Unknown',\n",
    "    '16': 'Unknown',\n",
    "    '17': 'Unknown',\n",
    "    '19': 'Unknown',\n",
    "    '20': 'Unknown'\n",
    "    \n",
    "}"
   ]
  },
  {
   "cell_type": "code",
   "execution_count": 4,
   "metadata": {
    "collapsed": true
   },
   "outputs": [],
   "source": [
    "def classification_year_queries(adm0='BRA', adm1=None, adm2 = None):\n",
    "    if adm2:\n",
    "        print('Request for adm2 area')\n",
    "        sql = (f\"SELECT class2000, class2001, class2002, class2003, class2004, class2005, class2006, class2007, \"\n",
    "               \"class2008, class2009, class2010, class2011, class2012, class2013, class2014, class2015, class2016 \"\n",
    "               f\"FROM bra_biomas_land_classification_test \"\n",
    "               f\"WHERE iso = '{adm0}' \"\n",
    "               f\"AND adm1 = {adm1} \"\n",
    "               f\"AND adm2 = {adm2} \")\n",
    "        return sql\n",
    "               \n",
    "    elif adm1:\n",
    "        print('Request for  adm1 area')\n",
    "        sql = (f\"SELECT class2000, class2001, class2002, class2003, class2004, class2005, class2006, class2007, \"\n",
    "               \"class2008, class2009, class2010, class2011, class2012, class2013, class2014, class2015, class2016 \"\n",
    "               f\"FROM bra_biomas_land_classification_test \"\n",
    "               f\"WHERE iso = '{adm0}' \"\n",
    "               f\"AND adm1 = {adm1} \")\n",
    "        return sql\n",
    "               \n",
    "    elif adm0:\n",
    "        print('Request for  adm0 area')\n",
    "        sql = (f\"SELECT class2000, class2001, class2002, class2003, class2004, class2005, class2006, class2007, \"\n",
    "               \"class2008, class2009, class2010, class2011, class2012, class2013, class2014, class2015, class2016 \"\n",
    "               f\"FROM bra_biomas_land_classification_test \"\n",
    "               f\"WHERE iso = '{adm0}' \")\n",
    "        return sql"
   ]
  },
  {
   "cell_type": "code",
   "execution_count": 5,
   "metadata": {
    "collapsed": true
   },
   "outputs": [],
   "source": [
    "def str_to_dict(string):\n",
    "    tmp_str = string.replace(\"'\", '\"')\n",
    "    tmp_obj = json.loads(tmp_str)\n",
    "    return tmp_obj"
   ]
  },
  {
   "cell_type": "code",
   "execution_count": 6,
   "metadata": {
    "collapsed": true
   },
   "outputs": [],
   "source": [
    "def cleanData(data):\n",
    "    tmp_list = []\n",
    "    for d in data:\n",
    "        tmp = {}\n",
    "        for k, v in d.items():\n",
    "            tmp[k] = str_to_dict(v)\n",
    "        tmp_list.append(tmp)\n",
    "    return tmp_list"
   ]
  },
  {
   "cell_type": "code",
   "execution_count": 7,
   "metadata": {
    "collapsed": true
   },
   "outputs": [],
   "source": [
    "def buildTotal(data):\n",
    "    years = {}\n",
    "    for k in data[0].keys():\n",
    "        years[k] = {}\n",
    "\n",
    "    for d in data:\n",
    "        for k,v in d.items():\n",
    "            for y in years.keys():\n",
    "                if y == k:\n",
    "                    for d in v:\n",
    "                        c_name = class_dict[d.get('classification')]\n",
    "                        area = d.get('area')\n",
    "                        if not years.get(k).get(c_name):\n",
    "                            years.get(k)[c_name] = 0\n",
    "                        years.get(k)[c_name] += area\n",
    "    return_list = []                    \n",
    "    for k,v in years.items():\n",
    "        return_list.append({'year': k, 'data': v})\n",
    "        \n",
    "    return return_list"
   ]
  },
  {
   "cell_type": "code",
   "execution_count": 8,
   "metadata": {
    "collapsed": true
   },
   "outputs": [],
   "source": [
    "def getData(data):\n",
    "    return_list = []\n",
    "    for d in data:\n",
    "        total = 0\n",
    "        tmp_list = []\n",
    "        for k,v in d.get('data').items():\n",
    "            total += v\n",
    "\n",
    "        for k,v in d.get('data').items():\n",
    "            tmp_list.append({'name': k, 'area_m2': v, 'area_%':100*v/total})\n",
    "        return_list.append({'year': d.get('year'), 'data': sorted(tmp_list, key=lambda k: k['name'])})\n",
    "\n",
    "    return return_list"
   ]
  },
  {
   "cell_type": "code",
   "execution_count": 69,
   "metadata": {
    "collapsed": true
   },
   "outputs": [],
   "source": [
    "def insertZeroes(data):\n",
    "    return data"
   ]
  },
  {
   "cell_type": "code",
   "execution_count": 87,
   "metadata": {},
   "outputs": [],
   "source": [
    "def makePlot(adm1, adm2=None):\n",
    "    \n",
    "    account = 'wri-01'\n",
    "    urlCarto = \"https://{0}.carto.com/api/v2/sql\".format(account)\n",
    "\n",
    "    sql = classification_year_queries('BRA',adm1,adm2)\n",
    "    sql = {\"q\": sql}\n",
    "    r = requests.get(urlCarto, params=sql)\n",
    "    print(r.url,'\\n')\n",
    "    # pprint(r.json())\n",
    "    raw = r.json().get('rows')\n",
    "    data = getData(buildTotal(cleanData(r.json().get('rows')))) \n",
    "# create data structure\n",
    "    x_data = list(range(2000,2017))\n",
    "    y_data = []\n",
    "\n",
    "    N = len(data[0].get('data'))\n",
    "    for i in range(0,N):\n",
    "        tmp = []\n",
    "        for d in data:\n",
    "            tmp.append(d.get('data')[i].get('area_m2')/1e6)\n",
    "        y_data.append(tmp)\n",
    "\n",
    "    labels = []\n",
    "    for d in data[0].get('data'):\n",
    "        labels.append(d.get('name'))\n",
    "\n",
    "    plt.figure(figsize=(20,10))\n",
    "\n",
    "    plt.stackplot(x_data,y_data, labels=labels)\n",
    "    plt.legend(loc='lower left')\n",
    "\n",
    "    plt.show()"
   ]
  },
  {
   "cell_type": "code",
   "execution_count": 102,
   "metadata": {},
   "outputs": [
    {
     "name": "stdout",
     "output_type": "stream",
     "text": [
      "Request for  adm1 area\n",
      "https://wri-01.carto.com/api/v2/sql?q=SELECT+class2000%2C+class2001%2C+class2002%2C+class2003%2C+class2004%2C+class2005%2C+class2006%2C+class2007%2C+class2008%2C+class2009%2C+class2010%2C+class2011%2C+class2012%2C+class2013%2C+class2014%2C+class2015%2C+class2016+FROM+bra_biomas_land_classification_test+WHERE+iso+%3D+%27BRA%27+AND+adm1+%3D+11+ \n",
      "\n"
     ]
    }
   ],
   "source": [
    "account = 'wri-01'\n",
    "urlCarto = \"https://{0}.carto.com/api/v2/sql\".format(account)\n",
    "\n",
    "sql = classification_year_queries('BRA',11,None)\n",
    "sql = {\"q\": sql}\n",
    "r = requests.get(urlCarto, params=sql)\n",
    "print(r.url,'\\n')\n",
    "# pprint(r.json())\n",
    "raw = r.json().get('rows')\n",
    "data = getData(buildTotal(cleanData(r.json().get('rows')))) "
   ]
  },
  {
   "cell_type": "code",
   "execution_count": 103,
   "metadata": {
    "scrolled": false
   },
   "outputs": [
    {
     "name": "stdout",
     "output_type": "stream",
     "text": [
      "Request for  adm1 area\n",
      "https://wri-01.carto.com/api/v2/sql?q=SELECT+class2000%2C+class2001%2C+class2002%2C+class2003%2C+class2004%2C+class2005%2C+class2006%2C+class2007%2C+class2008%2C+class2009%2C+class2010%2C+class2011%2C+class2012%2C+class2013%2C+class2014%2C+class2015%2C+class2016+FROM+bra_biomas_land_classification_test+WHERE+iso+%3D+%27BRA%27+AND+adm1+%3D+1+ \n",
      "\n"
     ]
    },
    {
     "data": {
      "image/png": "[encoded data removed]",
      "text/plain": [
       "<matplotlib.figure.Figure at 0x10f10ce48>"
      ]
     },
     "metadata": {},
     "output_type": "display_data"
    }
   ],
   "source": [
    "makePlot(1)"
   ]
  },
  {
   "cell_type": "code",
   "execution_count": null,
   "metadata": {
    "collapsed": true
   },
   "outputs": [],
   "source": []
  }
 ],
 "metadata": {
  "kernelspec": {
   "display_name": "Python 3",
   "language": "python",
   "name": "python3"
  },
  "language_info": {
   "codemirror_mode": {
    "name": "ipython",
    "version": 3
   },
   "file_extension": ".py",
   "mimetype": "text/x-python",
   "name": "python",
   "nbconvert_exporter": "python",
   "pygments_lexer": "ipython3",
   "version": "3.6.2"
  }
 },
 "nbformat": 4,
 "nbformat_minor": 2
}
