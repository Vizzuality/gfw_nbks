{
 "cells": [
  {
   "cell_type": "code",
   "execution_count": 2,
   "metadata": {
    "collapsed": true
   },
   "outputs": [],
   "source": [
    "import os\n",
    "import ee\n",
    "import json\n",
    "import requests\n",
    "import requests_cache\n",
    "from pprint import pprint\n",
    "import pandas as pd\n",
    "\n",
    "ee.Initialize()"
   ]
  },
  {
   "cell_type": "code",
   "execution_count": 6,
   "metadata": {
    "collapsed": true
   },
   "outputs": [],
   "source": [
    "im = ee.Image('projects/mapbiomas-workspace/public/collection2_3/mapbiomas_collection23_integration_v1')"
   ]
  },
  {
   "cell_type": "code",
   "execution_count": 2,
   "metadata": {
    "collapsed": true
   },
   "outputs": [],
   "source": [
    "with open('geoms.txt') as json_data:\n",
    "    d = json.load(json_data)"
   ]
  },
  {
   "cell_type": "code",
   "execution_count": 3,
   "metadata": {},
   "outputs": [
    {
     "data": {
      "text/plain": [
       "{'adm1': 1,\n",
       " 'adm2': 1,\n",
       " 'area_m2': 1595772660.2059546,\n",
       " 'geom': {'coordinates': [[[[-67.105857849121, -9.68811035156244],\n",
       "     [-67.0598373413086, -9.70665073394775],\n",
       "     [-66.8064727783203, -9.81451988220209],\n",
       "     [-66.6200332641602, -9.89403915405273],\n",
       "     [-66.588752746582, -9.90319633483881],\n",
       "     [-66.6233291625975, -9.92320919036865],\n",
       "     [-66.624137878418, -9.92368125915527],\n",
       "     [-66.6226501464843, -9.93111991882324],\n",
       "     [-66.6231842041016, -9.93480110168457],\n",
       "     [-66.6239166259766, -9.93502902984613],\n",
       "     [-66.629638671875, -9.93681144714355],\n",
       "     [-66.6305618286132, -9.93710994720459],\n",
       "     [-66.6338577270508, -9.93819904327381],\n",
       "     [-66.6382827758788, -9.95214080810547],\n",
       "     [-66.6506805419921, -9.94551086425776],\n",
       "     [-66.6510696411132, -9.94303989410395],\n",
       "     [-66.6551971435547, -9.94840145111084],\n",
       "     [-66.6661300659179, -9.95224952697754],\n",
       "     [-66.6703033447266, -9.96024131774897],\n",
       "     [-66.6768264770507, -9.95738983154297],\n",
       "     [-66.676643371582, -9.96292972564697],\n",
       "     [-66.6764602661133, -9.96821117401123],\n",
       "     [-66.6957931518554, -9.96775054931641],\n",
       "     [-66.6959609985351, -9.96775054931641],\n",
       "     [-66.6957931518554, -9.96822929382319],\n",
       "     [-66.6947402954101, -9.97136974334717],\n",
       "     [-66.6957931518554, -9.97173881530762],\n",
       "     [-66.7156295776367, -9.97884082794189],\n",
       "     [-66.7181625366211, -9.97463989257812],\n",
       "     [-66.7204360961914, -9.97708129882807],\n",
       "     [-66.7226486206055, -9.9794397354126],\n",
       "     [-66.7229385375977, -9.97974967956543],\n",
       "     [-66.720832824707, -9.98348999023438],\n",
       "     [-66.7272109985352, -9.98194122314447],\n",
       "     [-66.7303771972656, -9.98538017272949],\n",
       "     [-66.7347106933593, -9.9883308410644],\n",
       "     [-66.7347412109375, -9.9886302947998],\n",
       "     [-66.7417831420898, -9.99684238433832],\n",
       "     [-66.7502212524414, -9.99507999420166],\n",
       "     [-66.7518157958984, -9.99566078186035],\n",
       "     [-66.7563095092773, -10.0004701614379],\n",
       "     [-66.7613372802734, -10.0002098083496],\n",
       "     [-66.7644729614257, -10.0019512176514],\n",
       "     [-66.7646408081054, -10.0020990371704],\n",
       "     [-66.7646408081054, -10.0065603256226],\n",
       "     [-66.7715301513671, -10.0106391906738],\n",
       "     [-66.7731094360352, -10.0115814208984],\n",
       "     [-66.7727966308594, -10.015230178833],\n",
       "     [-66.772331237793, -10.020920753479],\n",
       "     [-66.7800827026367, -10.0174608230591],\n",
       "     [-66.7907028198242, -10.022211074829],\n",
       "     [-66.7928009033203, -10.0272588729858],\n",
       "     [-66.8052825927734, -10.0364599227905],\n",
       "     [-66.8069992065429, -10.0377197265624],\n",
       "     [-66.8059692382812, -10.039080619812],\n",
       "     [-66.8026962280273, -10.043360710144],\n",
       "     [-66.8078689575195, -10.048539161682],\n",
       "     [-66.8173980712889, -10.0514793395996],\n",
       "     [-66.8204727172852, -10.0553932189941],\n",
       "     [-66.8235397338867, -10.0593013763428],\n",
       "     [-66.8362808227538, -10.0628290176391],\n",
       "     [-66.8352966308593, -10.0677909851074],\n",
       "     [-66.8405075073242, -10.0714311599731],\n",
       "     [-66.8387832641602, -10.0834712982178],\n",
       "     [-66.8521499633789, -10.0869016647338],\n",
       "     [-66.8526306152344, -10.0812397003173],\n",
       "     [-66.853759765625, -10.0815086364746],\n",
       "     [-66.8625335693359, -10.0836095809937],\n",
       "     [-66.8669509887695, -10.0846700668335],\n",
       "     [-66.8691101074219, -10.0834207534789],\n",
       "     [-66.8727569580078, -10.0833206176757],\n",
       "     [-66.8747177124022, -10.0821399688721],\n",
       "     [-66.8749923706054, -10.0824003219604],\n",
       "     [-66.8758163452148, -10.0832214355468],\n",
       "     [-66.8750991821288, -10.0851306915283],\n",
       "     [-66.8749694824218, -10.0854701995848],\n",
       "     [-66.873062133789, -10.0905599594116],\n",
       "     [-66.8712310791016, -10.0954103469849],\n",
       "     [-66.8735427856445, -10.1009798049926],\n",
       "     [-66.8807373046875, -10.0972309112549],\n",
       "     [-66.8838729858397, -10.1081886291503],\n",
       "     [-66.8878479003906, -10.099479675293],\n",
       "     [-66.8884506225585, -10.1055812835693],\n",
       "     [-66.8885726928711, -10.1069602966308],\n",
       "     [-66.8893203735352, -10.1146593093872],\n",
       "     [-66.892692565918, -10.1125755310058],\n",
       "     [-66.8960723876953, -10.1104907989502],\n",
       "     [-66.8968963623047, -10.1109075546265],\n",
       "     [-66.8977279663086, -10.1113290786743],\n",
       "     [-66.899040222168, -10.1119899749756],\n",
       "     [-66.8981399536132, -10.1159505844116],\n",
       "     [-66.8975601196289, -10.1184606552123],\n",
       "     [-66.9014205932616, -10.1245393753051],\n",
       "     [-66.9015731811523, -10.1247854232787],\n",
       "     [-66.9120788574218, -10.1142807006836],\n",
       "     [-66.9200973510742, -10.1104907989502],\n",
       "     [-66.9294662475586, -10.112250328064],\n",
       "     [-66.9448165893555, -10.1016407012939],\n",
       "     [-66.959602355957, -10.0974197387695],\n",
       "     [-66.9786911010742, -10.0982789993286],\n",
       "     [-66.9869308471679, -10.0891313552856],\n",
       "     [-67.000617980957, -10.0874280929565],\n",
       "     [-67.0192260742188, -10.0926704406737],\n",
       "     [-67.0442199707031, -10.0934591293335],\n",
       "     [-67.0574417114257, -10.1067390441895],\n",
       "     [-67.160270690918, -10.105658531189],\n",
       "     [-67.1608428955078, -9.98259925842285],\n",
       "     [-67.1518402099609, -9.97895717620844],\n",
       "     [-67.1382827758788, -9.97346878051758],\n",
       "     [-67.1191635131836, -9.9671688079834],\n",
       "     [-67.1031188964843, -9.96187973022461],\n",
       "     [-67.0898895263672, -9.90007209777826],\n",
       "     [-67.0829696655273, -9.86775112152094],\n",
       "     [-67.0803451538086, -9.86248874664307],\n",
       "     [-67.0783462524414, -9.85848045349115],\n",
       "     [-67.0725402832031, -9.85086345672602],\n",
       "     [-67.0644607543945, -9.84026908874506],\n",
       "     [-67.0660858154296, -9.82924842834473],\n",
       "     [-67.0700073242187, -9.80272102355957],\n",
       "     [-67.0795135498047, -9.79898738861078],\n",
       "     [-67.0825576782227, -9.79779052734369],\n",
       "     [-67.1019973754883, -9.75629043579096],\n",
       "     [-67.1238861083984, -9.73965930938721],\n",
       "     [-67.1260757446288, -9.72875118255615],\n",
       "     [-67.1265792846679, -9.72623062133789],\n",
       "     [-67.1259002685546, -9.72471046447754],\n",
       "     [-67.1233367919921, -9.71896934509272],\n",
       "     [-67.1124267578125, -9.71396923065186],\n",
       "     [-67.1110534667969, -9.69894027709961],\n",
       "     [-67.110740661621, -9.69549942016602],\n",
       "     [-67.105857849121, -9.68811035156244]]]],\n",
       "  'type': 'MultiPolygon'},\n",
       " 'iso': 'BRA'}"
      ]
     },
     "execution_count": 3,
     "metadata": {},
     "output_type": "execute_result"
    }
   ],
   "source": [
    "d[0]"
   ]
  },
  {
   "cell_type": "code",
   "execution_count": 4,
   "metadata": {
    "collapsed": true
   },
   "outputs": [],
   "source": [
    "def getAreaByPixels(image, geom):\n",
    "    dict = image.reduceRegion(reducer=ee.Reducer.frequencyHistogram(),\n",
    "                              geometry=geom, scale=30, maxPixels=1e12,bestEffort=True)\n",
    "    data = image.set(dict).getInfo()\n",
    "    total_pixels = 0\n",
    "    \n",
    "    for key, value in data.get('properties').get('classification_2016').items():\n",
    "        total_pixels += value\n",
    "    \n",
    "    tmp = []\n",
    "    for year in range(2000,2017):\n",
    "        breakdown = []\n",
    "        for key, value in data.get('properties').get(f'classification_{year}').items():\n",
    "            breakdown.append({\n",
    "\n",
    "                'classification': key,\n",
    "                'area_%': 100*value/total_pixels,\n",
    "                'area': value*30*30\n",
    "            })\n",
    "        breakdown = sorted(breakdown, key=lambda k: k.get('area'), reverse=True) \n",
    "        tmp.append({'classification_year': year, 'data': breakdown})\n",
    "    \n",
    "    return tmp"
   ]
  },
  {
   "cell_type": "code",
   "execution_count": 28,
   "metadata": {},
   "outputs": [
    {
     "name": "stdout",
     "output_type": "stream",
     "text": [
      "done!\n",
      "CPU times: user 7.72 s, sys: 601 ms, total: 8.32 s\n",
      "Wall time: 34min 59s\n"
     ]
    }
   ],
   "source": [
    "%%time\n",
    "# classification_data = []\n",
    "for data in d[4894:]:\n",
    "    tmp = {\n",
    "        'iso': 'BRA',\n",
    "        'adm1': data.get('adm1'),\n",
    "        'adm2': data.get('adm2'),\n",
    "#         'total_area_m2': data.get('area_m2'),\n",
    "#         'geom': data.get('geom'),\n",
    "        'classification': getAreaByPixels(im, data.get('geom'))\n",
    "    }\n",
    "    classification_data.append(tmp)\n",
    "    \n",
    "print('done!')"
   ]
  },
  {
   "cell_type": "code",
   "execution_count": 29,
   "metadata": {},
   "outputs": [
    {
     "data": {
      "text/plain": [
       "5501"
      ]
     },
     "execution_count": 29,
     "metadata": {},
     "output_type": "execute_result"
    }
   ],
   "source": [
    "len(classification_data) #5502 when complete!"
   ]
  },
  {
   "cell_type": "code",
   "execution_count": 30,
   "metadata": {},
   "outputs": [
    {
     "name": "stdout",
     "output_type": "stream",
     "text": [
      "done\n"
     ]
    }
   ],
   "source": [
    "with open('classification_data.txt', 'w') as file:\n",
    "    json.dump(classification_data, file)\n",
    "print('done')"
   ]
  },
  {
   "cell_type": "code",
   "execution_count": 3,
   "metadata": {},
   "outputs": [],
   "source": [
    "with open('classification_data.txt') as json_data:\n",
    "    tmp_data = json.load(json_data)"
   ]
  },
  {
   "cell_type": "code",
   "execution_count": 4,
   "metadata": {},
   "outputs": [
    {
     "name": "stdout",
     "output_type": "stream",
     "text": [
      "done\n"
     ]
    }
   ],
   "source": [
    "carto_export = []\n",
    "carto_export.append(['iso', 'adm1', 'adm2',\n",
    "                     'class2000', 'class2001','class2002','class2003','class2004','class2005', \n",
    "                     'class2006','class2007','class2008','class2009','class2010','class2011', \n",
    "                     'class2012','class2013','class2014','class2015','class2016'])\n",
    "for d in tmp_data:\n",
    "    tmp = []\n",
    "    tmp.append(d.get('iso')) #iso\n",
    "    tmp.append(d.get('adm1')) #adm1\n",
    "    tmp.append(d.get('adm2')) #adm2\n",
    "#     tmp.append(d.get('geom')) #geom\n",
    "#     tmp.append(d.get('total_area_m2')) #total_area\n",
    "    for c in d.get('classification'):\n",
    "        tmp.append(c.get('data'))\n",
    "    \n",
    "    carto_export.append(tmp)\n",
    "\n",
    "print('done')"
   ]
  },
  {
   "cell_type": "code",
   "execution_count": 5,
   "metadata": {},
   "outputs": [
    {
     "data": {
      "text/plain": [
       "5502"
      ]
     },
     "execution_count": 5,
     "metadata": {},
     "output_type": "execute_result"
    }
   ],
   "source": [
    "len(carto_export) #len 5502 if complete"
   ]
  },
  {
   "cell_type": "code",
   "execution_count": 8,
   "metadata": {
    "collapsed": true
   },
   "outputs": [],
   "source": [
    "my_df = pd.DataFrame(carto_export)\n",
    "my_df.to_csv('carto_export.csv', index=False, header=False)"
   ]
  },
  {
   "cell_type": "code",
   "execution_count": null,
   "metadata": {},
   "outputs": [],
   "source": []
  },
  {
   "cell_type": "code",
   "execution_count": null,
   "metadata": {
    "collapsed": true
   },
   "outputs": [],
   "source": []
  },
  {
   "cell_type": "code",
   "execution_count": null,
   "metadata": {
    "collapsed": true
   },
   "outputs": [],
   "source": []
  },
  {
   "cell_type": "code",
   "execution_count": null,
   "metadata": {
    "collapsed": true
   },
   "outputs": [],
   "source": []
  },
  {
   "cell_type": "code",
   "execution_count": null,
   "metadata": {
    "collapsed": true
   },
   "outputs": [],
   "source": []
  },
  {
   "cell_type": "code",
   "execution_count": null,
   "metadata": {
    "collapsed": true
   },
   "outputs": [],
   "source": []
  },
  {
   "cell_type": "code",
   "execution_count": null,
   "metadata": {
    "collapsed": true
   },
   "outputs": [],
   "source": []
  },
  {
   "cell_type": "code",
   "execution_count": null,
   "metadata": {
    "collapsed": true
   },
   "outputs": [],
   "source": []
  },
  {
   "cell_type": "code",
   "execution_count": null,
   "metadata": {
    "collapsed": true
   },
   "outputs": [],
   "source": []
  }
 ],
 "metadata": {
  "kernelspec": {
   "display_name": "Python 3",
   "language": "python",
   "name": "python3"
  },
  "language_info": {
   "codemirror_mode": {
    "name": "ipython",
    "version": 3
   },
   "file_extension": ".py",
   "mimetype": "text/x-python",
   "name": "python",
   "nbconvert_exporter": "python",
   "pygments_lexer": "ipython3",
   "version": "3.6.2"
  }
 },
 "nbformat": 4,
 "nbformat_minor": 2
}
