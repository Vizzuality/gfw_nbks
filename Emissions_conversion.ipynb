{
 "cells": [
  {
   "cell_type": "markdown",
   "metadata": {},
   "source": [
    "# Emissions units\n",
    "\n",
    "We need to convert the values returned from Charlie's table, which are called `emissions`. In the table these data are actually above ground biomass (units tons). For the country page site we want to display them in most instances as co2 emissions (tons). To do that we need to apply the conversion below.\n",
    "\n",
    "\n",
    "[BC Discussion](https://basecamp.com/3063126/projects/10727890/todos/338189111#comment_591986621)"
   ]
  },
  {
   "cell_type": "code",
   "execution_count": 7,
   "metadata": {},
   "outputs": [],
   "source": [
    "#Import Global Metadata etc\n",
    "\n",
    "%run '0.Importable_Globals.ipynb'"
   ]
  },
  {
   "cell_type": "code",
   "execution_count": 2,
   "metadata": {},
   "outputs": [],
   "source": [
    "emissions = 7355734.60097"
   ]
  },
  {
   "cell_type": "code",
   "execution_count": 8,
   "metadata": {},
   "outputs": [],
   "source": [
    "def abg_to_co2(abg):\n",
    "    \"\"\"Convert above ground biomass in tons into carbon emissions in tons\n",
    "        n.b. above ground biomass is the value labeled 'emissions' in Charlie's table\n",
    "    \"\"\"\n",
    "    return (abg + (0.489 * (abg ** 0.89))) *0.47\n"
   ]
  },
  {
   "cell_type": "code",
   "execution_count": 9,
   "metadata": {},
   "outputs": [
    {
     "data": {
      "text/plain": [
       "3754159.3296786468"
      ]
     },
     "execution_count": 9,
     "metadata": {},
     "output_type": "execute_result"
    }
   ],
   "source": [
    "abg_to_co2(emissions)"
   ]
  },
  {
   "cell_type": "code",
   "execution_count": null,
   "metadata": {},
   "outputs": [],
   "source": []
  }
 ],
 "metadata": {
  "kernelspec": {
   "display_name": "Python 3",
   "language": "python",
   "name": "python3"
  },
  "language_info": {
   "codemirror_mode": {
    "name": "ipython",
    "version": 3
   },
   "file_extension": ".py",
   "mimetype": "text/x-python",
   "name": "python",
   "nbconvert_exporter": "python",
   "pygments_lexer": "ipython3",
   "version": "3.6.4"
  }
 },
 "nbformat": 4,
 "nbformat_minor": 2
}
