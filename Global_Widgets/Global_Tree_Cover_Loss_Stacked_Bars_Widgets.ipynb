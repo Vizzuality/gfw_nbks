{
 "cells": [
  {
   "cell_type": "markdown",
   "metadata": {},
   "source": [
    "<a id='s3'></a>\n",
    "## TREE COVER LOSS WIDGET \n",
    "\n",
    "The UMD/Hansen Tree cover loss widget should be a bar chart, with time as the x-axis, and loss (ha) as the y-axis, on hover it should show the year, ha loss, and % loss relative to 2000 tree cover extent *for the data table of interest*.\n",
    "\n",
    "** Notes ** \n",
    "\n",
    "* Loss data tables have loss units in both area (ha) and emissions (t co2/ha). The emissions units will only be used in the loss widget to add contextual info to the dynamic sentence.\n",
    "\n",
    "* It is probably best to always request the full time period of data from the table, and then subset it client-side, as we will always need to know the last year of loss to construct the dynamic sentence.\n",
    "\n",
    "* In settings, the users should be able to change the data sources, when they do you will need to query different data tables both for calculating loss and extent (to calculate relative loss):\n",
    "    - All region (default) view: gadm28 table\n",
    "    - all other data tables currently created should be selectable too\n",
    "    \n",
    "*more info - not needed for front-end devs*\n",
    "- for refrence in testing adm0 = BRA, adm1 = 12, adm2 = 1434 is Mato Grosso, Cáceres\n",
    "\n",
    "\n",
    "** WHen plantations are selected the user should see a stacked bar chart  from 2013 onwards **\n",
    "More details of this to follow below.\n"
   ]
  },
  {
   "cell_type": "markdown",
   "metadata": {},
   "source": [
    "# Global Loss\n",
    "\n",
    "Stacked bars from top 5 countries + rest.\n",
    "\n",
    "Note, the top 5 countries are selected by looking at the countries with the most deforestation in the user selected year range (which means, for example, that the \\#1 country may not always have the most loss in a given year)"
   ]
  },
  {
   "cell_type": "code",
   "execution_count": 1,
   "metadata": {
    "ExecuteTime": {
     "end_time": "2017-12-18T15:11:17.673011Z",
     "start_time": "2017-12-18T15:11:16.497985Z"
    }
   },
   "outputs": [],
   "source": [
    "#Import Global Metadata etc\n",
    "\n",
    "%run '0.Importable_Globals.ipynb'"
   ]
  },
  {
   "cell_type": "code",
   "execution_count": 4,
   "metadata": {},
   "outputs": [],
   "source": [
    "def global_extent_queries(p_name, year, adm0, adm1=None, adm2 = None, threshold=30):\n",
    "    if adm2:\n",
    "        print('Request for adm2 area')\n",
    "        sql = (f\"SELECT SUM({year}) as value, \"\n",
    "               f\"SUM(area_gadm28) as total_area \"\n",
    "               f\"FROM data \"\n",
    "               f\"WHERE iso = '{adm0}' \"\n",
    "               f\"AND adm1 = {adm1} \"\n",
    "               f\"AND adm2 = {adm2} \"\n",
    "               \"AND thresh = {threshold} \"\n",
    "               f\"AND polyname = '{p_name}'\")\n",
    "        return sql\n",
    "    elif adm1:\n",
    "        print('Request for  adm1 area')\n",
    "        sql = (f\"SELECT SUM({year}) as value, \"\n",
    "               f\"SUM(area_gadm28) as total_area \"\n",
    "               f\"FROM data \"\n",
    "               f\"WHERE iso = '{adm0}' \"\n",
    "               f\"AND adm1 = {adm1} \"\n",
    "               f\"AND thresh = {threshold} \"\n",
    "               f\"AND polyname = '{p_name}'\")\n",
    "        return sql\n",
    "    if adm0:\n",
    "        print('Request for  adm0 area')\n",
    "        sql = (f\"SELECT SUM({year}) as value, \"\n",
    "               f\"SUM(area_gadm28) as total_area \"\n",
    "               f\"FROM data \"\n",
    "               f\"WHERE iso = '{adm0}' \"\n",
    "               f\"AND thresh = {threshold} \"\n",
    "               f\"AND polyname = '{p_name}'\")\n",
    "    else:\n",
    "        print('Request for Global area')\n",
    "        sql = (f\"SELECT SUM({year}) as value, \"\n",
    "               f\"SUM(area_gadm28) as total_area \"\n",
    "               f\"FROM data \"\n",
    "               f\"WHERE thresh = {threshold} \"\n",
    "               f\"AND polyname = '{p_name}'\")\n",
    "        return sql"
   ]
  },
  {
   "cell_type": "code",
   "execution_count": 13,
   "metadata": {},
   "outputs": [],
   "source": [
    "def global_loss_queries(p_name, adm0, adm1=None, adm2=None, threshold=30):\n",
    "    if adm2:\n",
    "        print(f'Request for adm2 area')\n",
    "        sql = (f\"SELECT polyname, year_data.year as year, \"\n",
    "               f\"SUM(year_data.area_loss) as area, \"\n",
    "               f\"SUM(year_data.emissions) as emissions \"\n",
    "               f\"FROM data \"\n",
    "               f\"WHERE polyname = '{p_name}' \"\n",
    "               f\"AND iso = '{adm0}' \"\n",
    "               f\"AND adm1 = {adm1} \"\n",
    "               f\"AND adm2 = {adm2} \"\n",
    "               f\"AND thresh= {threshold} \"\n",
    "               f\"GROUP BY polyname, iso, nested(year_data.year)\")\n",
    "        return sql\n",
    "    elif adm1:\n",
    "        print('Request for  adm1 area')\n",
    "        sql = (f\"SELECT polyname, year_data.year as year, \"\n",
    "               f\"SUM(year_data.area_loss) as area, \"\n",
    "               f\"SUM(year_data.emissions) as emissions \"\n",
    "               f\"FROM data \"\n",
    "               f\"WHERE polyname = '{p_name}' \"\n",
    "               f\"AND iso = '{adm0}' \"\n",
    "               f\"AND adm1 = {adm1} \"\n",
    "               f\"AND thresh= {threshold} \"\n",
    "               f\"GROUP BY polyname, iso, nested(year_data.year)\")\n",
    "        return sql\n",
    "    elif adm0:\n",
    "        print('Request for  adm0 area')\n",
    "        sql = (f\"SELECT polyname, year_data.year as year, \"\n",
    "               f\"SUM(year_data.area_loss) as area, \"\n",
    "               f\"SUM(year_data.emissions) as emissions \"\n",
    "               f\"FROM data \"\n",
    "               f\"WHERE polyname = '{p_name}' \" \n",
    "               f\"AND iso = '{adm0}' \"\n",
    "               f\"AND thresh= {threshold} \"\n",
    "               f\"GROUP BY polyname, iso, nested(year_data.year)\")\n",
    "    else:\n",
    "        print('Request for  Global area')\n",
    "        sql = (f\"SELECT polyname, year_data.year as year, \"\n",
    "               f\"SUM(year_data.area_loss) as area, \"\n",
    "               f\"SUM(year_data.emissions) as emissions \"\n",
    "               f\"FROM data \"\n",
    "               f\"WHERE polyname = '{p_name}' \" \n",
    "               f\"AND thresh= {threshold} \"\n",
    "               f\"GROUP BY polyname, iso, nested(year_data.year)\")\n",
    "\n",
    "        return sql\n",
    "\n"
   ]
  },
  {
   "cell_type": "code",
   "execution_count": 122,
   "metadata": {},
   "outputs": [],
   "source": [
    "# Variables\n",
    "\n",
    "adm0 = None\n",
    "adm1 = None\n",
    "adm2 = None\n",
    "\n",
    "threshold=30\n",
    "extent_year = 2000     #extent data (2000 hardcoded)\n",
    "\n",
    "start=2002\n",
    "end=2012\n",
    "location = \"All Region\"\n",
    "\n",
    "tags = [\"forest_change\", \"land_cover\", \"conservation\", \"people\", \"land_use\"]\n",
    "selectable_polynames = ['gadm28',\n",
    "                        'bra_biomes',\n",
    "                        'mining',\n",
    "                        'wdpa',\n",
    "                        'primary_forest',\n",
    "                        'ifl_2013']"
   ]
  },
  {
   "cell_type": "code",
   "execution_count": 176,
   "metadata": {},
   "outputs": [
    {
     "name": "stdout",
     "output_type": "stream",
     "text": [
      "Request for Global area\n",
      "SELECT SUM(area_extent_2000) as value, SUM(area_gadm28) as total_area FROM data WHERE thresh = 30 AND polyname = 'gadm28'\n",
      "https://production-api.globalforestwatch.org/v1/query/499682b1-3174-493f-ba1a-368b4636708e?sql=SELECT+SUM%28area_extent_2000%29+as+value%2C+SUM%28area_gadm28%29+as+total_area+FROM+data+WHERE+thresh+%3D+30+AND+polyname+%3D+%27gadm28%27\n",
      "Status: 200\n",
      "{'data': [{'total_area': 12882338532.03318, 'value': 3992819698.666184}],\n",
      " 'meta': {'cloneUrl': {'body': {'dataset': {'application': ['your', 'apps'],\n",
      "                                            'datasetUrl': '/v1/query/499682b1-3174-493f-ba1a-368b4636708e?sql=SELECT%20SUM%28area_extent_2000%29%20as%20value%2C%20SUM%28area_gadm28%29%20as%20total_area%20FROM%20data%20WHERE%20thresh%20%3D%2030%20AND%20polyname%20%3D%20%27gadm28%27'}},\n",
      "                       'http_method': 'POST',\n",
      "                       'url': '/v1/dataset/499682b1-3174-493f-ba1a-368b4636708e/clone'}}}\n"
     ]
    }
   ],
   "source": [
    "# First, get the extent of tree cover over your area of interest (to work out relative loss)\n",
    "sql = global_extent_queries(p_name=polynames[location], year=extent_year_dict[extent_year],\n",
    "                     adm0=adm0, adm1=adm1, adm2=adm2, threshold=threshold)    \n",
    "print(sql) # loss query\n",
    "properties = {\"sql\": sql}\n",
    "r = requests.get(url, params = properties)\n",
    "print(r.url)\n",
    "print(f'Status: {r.status_code}')\n",
    "pprint(r.json())\n",
    "\n",
    "y2000extent = r.json().get('data')[0].get('value')"
   ]
  },
  {
   "cell_type": "code",
   "execution_count": 124,
   "metadata": {},
   "outputs": [
    {
     "name": "stdout",
     "output_type": "stream",
     "text": [
      "None\n",
      "Request for  Global area\n",
      "SELECT polyname, year_data.year as year, SUM(year_data.area_loss) as area, SUM(year_data.emissions) as emissions FROM data WHERE polyname = 'gadm28' AND thresh= 30 GROUP BY polyname, iso, nested(year_data.year)\n",
      "https://production-api.globalforestwatch.org/v1/query/499682b1-3174-493f-ba1a-368b4636708e?sql=SELECT+polyname%2C+year_data.year+as+year%2C+SUM%28year_data.area_loss%29+as+area%2C+SUM%28year_data.emissions%29+as+emissions+FROM+data+WHERE+polyname+%3D+%27gadm28%27+AND+thresh%3D+30+GROUP+BY+polyname%2C+iso%2C+nested%28year_data.year%29\n",
      "Status: 200\n"
     ]
    }
   ],
   "source": [
    "#ds = '499682b1-3174-493f-ba1a-368b4636708e'\n",
    "url = f\"https://production-api.globalforestwatch.org/v1/query/{ds}\"\n",
    "\n",
    "print(adm0)\n",
    "\n",
    "# Next, get the loss data grouped by year\n",
    "sql = global_loss_queries(p_name=polynames[location], adm0=adm0, \n",
    "                   adm1=adm1, adm2=adm2, threshold=threshold)  \n",
    "\n",
    "print(sql) # loss query\n",
    "properties = {\"sql\": sql}\n",
    "r = requests.get(url, params = properties)\n",
    "print(r.url)\n",
    "print(f'Status: {r.status_code}')\n",
    "loss_data = r.json().get('data')"
   ]
  },
  {
   "cell_type": "code",
   "execution_count": 181,
   "metadata": {},
   "outputs": [],
   "source": [
    "total_loss = sum([d.get('area',0) for d in loss_data if d.get('year') >= start and d.get('year') <= end])"
   ]
  },
  {
   "cell_type": "code",
   "execution_count": 191,
   "metadata": {},
   "outputs": [
    {
     "data": {
      "text/plain": [
       "[{'area': 2746361.4890696183,\n",
       "  'emissions': 451665397.0006001,\n",
       "  'iso': 'BRA',\n",
       "  'polyname': 'gadm28',\n",
       "  'year': 2001},\n",
       " {'area': 3507049.430043675,\n",
       "  'emissions': 599107237.3975263,\n",
       "  'iso': 'BRA',\n",
       "  'polyname': 'gadm28',\n",
       "  'year': 2002},\n",
       " {'area': 3248526.7289099023,\n",
       "  'emissions': 540574861.4785872,\n",
       "  'iso': 'BRA',\n",
       "  'polyname': 'gadm28',\n",
       "  'year': 2003}]"
      ]
     },
     "execution_count": 191,
     "metadata": {},
     "output_type": "execute_result"
    }
   ],
   "source": [
    "loss_data[0:3]"
   ]
  },
  {
   "cell_type": "code",
   "execution_count": 192,
   "metadata": {},
   "outputs": [],
   "source": [
    "isos = {}\n",
    "\n",
    "for d in loss_data:\n",
    "    if d.get('iso') not in isos:\n",
    "        isos[d.get('iso')] = 0\n",
    "    if d.get('year') >= start and d.get('year') <= end:\n",
    "        isos[d.get('iso')] += d.get('area', 0)\n",
    "    "
   ]
  },
  {
   "cell_type": "code",
   "execution_count": 193,
   "metadata": {},
   "outputs": [],
   "source": [
    "## Everything else falls into 'other' data in stacked bars\n",
    "top_losses = sorted(isos.items(), key=lambda x: x[1], reverse=True)[0:5]"
   ]
  },
  {
   "cell_type": "code",
   "execution_count": 194,
   "metadata": {},
   "outputs": [
    {
     "data": {
      "text/plain": [
       "['BRA', 'RUS', 'CAN', 'USA', 'IDN']"
      ]
     },
     "execution_count": 194,
     "metadata": {},
     "output_type": "execute_result"
    }
   ],
   "source": [
    "top_isos = [i[0] for i in top_losses]\n",
    "top_isos"
   ]
  },
  {
   "cell_type": "code",
   "execution_count": 195,
   "metadata": {},
   "outputs": [],
   "source": [
    "other_loss = list(filter(lambda x: x.get('iso') not in top_loss_isos, loss_data))"
   ]
  },
  {
   "cell_type": "code",
   "execution_count": 196,
   "metadata": {},
   "outputs": [],
   "source": [
    "returned_data = []\n",
    "for iso in top_isos:\n",
    "    data = list(filter(lambda x: x.get('iso') == iso, loss_data))\n",
    "    d = {}\n",
    "    for row in data:\n",
    "        tmp_yr = float(row.get('year'))\n",
    "        if tmp_yr >= start and tmp_yr <= end:\n",
    "            try:\n",
    "                tmp_area = float(row.get('area'))\n",
    "            except:\n",
    "                tmp_area = None\n",
    "\n",
    "            try:\n",
    "                tmp_area_pcnt = (tmp_area / y2000extent) * 100\n",
    "            except:\n",
    "                tmp_area_pcnt = None\n",
    "\n",
    "            try:\n",
    "                tmp_emiss = float(row.get('emissions'))\n",
    "            except:\n",
    "                tmp_emiss = None\n",
    "\n",
    "            d[int(tmp_yr)] = {'area_ha': tmp_area,\n",
    "                                  'area_%': tmp_area_pcnt,\n",
    "                                  'emissions': tmp_emiss,\n",
    "                              'iso': iso\n",
    "                                   }\n",
    "    returned_data.append(d)"
   ]
  },
  {
   "cell_type": "code",
   "execution_count": 197,
   "metadata": {},
   "outputs": [
    {
     "data": {
      "text/plain": [
       "[{2002: {'area_%': 0.08783390422600894,\n",
       "   'area_ha': 3507049.430043675,\n",
       "   'emissions': 599107237.3975263,\n",
       "   'iso': 'BRA'},\n",
       "  2003: {'area_%': 0.08135921414120163,\n",
       "   'area_ha': 3248526.7289099023,\n",
       "   'emissions': 540574861.4785872,\n",
       "   'iso': 'BRA'},\n",
       "  2004: {'area_%': 0.0963923013734369,\n",
       "   'area_ha': 3848770.7972362638,\n",
       "   'emissions': 676408980.2036796,\n",
       "   'iso': 'BRA'},\n",
       "  2005: {'area_%': 0.0873208153074127,\n",
       "   'area_ha': 3486562.714630291,\n",
       "   'emissions': 644553412.0320137,\n",
       "   'iso': 'BRA'},\n",
       "  2006: {'area_%': 0.07204945093361238,\n",
       "   'area_ha': 2876804.669658102,\n",
       "   'emissions': 513807720.2924354,\n",
       "   'iso': 'BRA'},\n",
       "  2007: {'area_%': 0.06566337678131799,\n",
       "   'area_ha': 2621820.242933862,\n",
       "   'emissions': 437504684.6362488,\n",
       "   'iso': 'BRA'},\n",
       "  2008: {'area_%': 0.06121759510166215,\n",
       "   'area_ha': 2444308.1962688714,\n",
       "   'emissions': 421136841.3216598,\n",
       "   'iso': 'BRA'},\n",
       "  2009: {'area_%': 0.0455292593146639,\n",
       "   'area_ha': 1817901.2345727086,\n",
       "   'emissions': 309401955.17921805,\n",
       "   'iso': 'BRA'},\n",
       "  2010: {'area_%': 0.06734329067632912,\n",
       "   'area_ha': 2688896.1758544967,\n",
       "   'emissions': 455313700.8952615,\n",
       "   'iso': 'BRA'},\n",
       "  2011: {'area_%': 0.0481705620261778,\n",
       "   'area_ha': 1923363.68953944,\n",
       "   'emissions': 323015090.3335359,\n",
       "   'iso': 'BRA'},\n",
       "  2012: {'area_%': 0.07309704317148137,\n",
       "   'area_ha': 2918633.138893433,\n",
       "   'emissions': 464007720.51890945,\n",
       "   'iso': 'BRA'}},\n",
       " {2002: {'area_%': 0.06760575985586305,\n",
       "   'area_ha': 2699376.096957855,\n",
       "   'emissions': 224616824.6297289,\n",
       "   'iso': 'RUS'},\n",
       "  2003: {'area_%': 0.07585587814977868,\n",
       "   'area_ha': 3028788.4453605805,\n",
       "   'emissions': 264957008.67515182,\n",
       "   'iso': 'RUS'},\n",
       "  2004: {'area_%': 0.0881513926824299,\n",
       "   'area_ha': 3519726.171672642,\n",
       "   'emissions': 355699541.0900626,\n",
       "   'iso': 'RUS'},\n",
       "  2005: {'area_%': 0.039794401403647685,\n",
       "   'area_ha': 1588918.6982111372,\n",
       "   'emissions': 185505011.06725132,\n",
       "   'iso': 'RUS'},\n",
       "  2006: {'area_%': 0.05591069175081401,\n",
       "   'area_ha': 2232413.1138870306,\n",
       "   'emissions': 231427741.06575823,\n",
       "   'iso': 'RUS'},\n",
       "  2007: {'area_%': 0.058540780510710155,\n",
       "   'area_ha': 2337427.8159845695,\n",
       "   'emissions': 281934665.57623196,\n",
       "   'iso': 'RUS'},\n",
       "  2008: {'area_%': 0.07630591994508107,\n",
       "   'area_ha': 3046757.802815646,\n",
       "   'emissions': 319052951.5957968,\n",
       "   'iso': 'RUS'},\n",
       "  2009: {'area_%': 0.05284761654325353,\n",
       "   'area_ha': 2110110.043614596,\n",
       "   'emissions': 224536200.14334714,\n",
       "   'iso': 'RUS'},\n",
       "  2010: {'area_%': 0.04654411122522498,\n",
       "   'area_ha': 1858422.4415698815,\n",
       "   'emissions': 213560080.74204528,\n",
       "   'iso': 'RUS'},\n",
       "  2011: {'area_%': 0.07562531588247233,\n",
       "   'area_ha': 3019582.509733882,\n",
       "   'emissions': 310198677.343894,\n",
       "   'iso': 'RUS'},\n",
       "  2012: {'area_%': 0.1349959274577549,\n",
       "   'area_ha': 5390143.983930349,\n",
       "   'emissions': 529168983.0141645,\n",
       "   'iso': 'RUS'}},\n",
       " {2002: {'area_%': 0.058022720553452894,\n",
       "   'area_ha': 2316742.6159603,\n",
       "   'emissions': 171033560.9200592,\n",
       "   'iso': 'CAN'},\n",
       "  2003: {'area_%': 0.040253957404985094,\n",
       "   'area_ha': 1607267.9407589398,\n",
       "   'emissions': 128221185.76105261,\n",
       "   'iso': 'CAN'},\n",
       "  2004: {'area_%': 0.06778172824769144,\n",
       "   'area_ha': 2706402.1975702047,\n",
       "   'emissions': 212857050.8552475,\n",
       "   'iso': 'CAN'},\n",
       "  2005: {'area_%': 0.07315037769649613,\n",
       "   'area_ha': 2920762.690314412,\n",
       "   'emissions': 219390328.34300232,\n",
       "   'iso': 'CAN'},\n",
       "  2006: {'area_%': 0.06026117364989747,\n",
       "   'area_ha': 2406120.0121405423,\n",
       "   'emissions': 195285046.3149109,\n",
       "   'iso': 'CAN'},\n",
       "  2007: {'area_%': 0.053040642788354304,\n",
       "   'area_ha': 2117817.233552575,\n",
       "   'emissions': 177542622.64224243,\n",
       "   'iso': 'CAN'},\n",
       "  2008: {'area_%': 0.048811273126779416,\n",
       "   'area_ha': 1948946.1285758018,\n",
       "   'emissions': 151947363.0011139,\n",
       "   'iso': 'CAN'},\n",
       "  2009: {'area_%': 0.03882814921009119,\n",
       "   'area_ha': 1550337.9902880192,\n",
       "   'emissions': 129593407.18838501,\n",
       "   'iso': 'CAN'},\n",
       "  2010: {'area_%': 0.05271418077687274,\n",
       "   'area_ha': 2104782.1940494776,\n",
       "   'emissions': 164984937.14822388,\n",
       "   'iso': 'CAN'},\n",
       "  2011: {'area_%': 0.05411315197083592,\n",
       "   'area_ha': 2160640.591460705,\n",
       "   'emissions': 166801117.15076637,\n",
       "   'iso': 'CAN'},\n",
       "  2012: {'area_%': 0.06375094464506124,\n",
       "   'area_ha': 2545460.2758737803,\n",
       "   'emissions': 198358041.2876053,\n",
       "   'iso': 'CAN'}},\n",
       " {2002: {'area_%': 0.05105225604708609,\n",
       "   'area_ha': 2038424.5360615514,\n",
       "   'emissions': 325628907.22109437,\n",
       "   'iso': 'USA'},\n",
       "  2003: {'area_%': 0.04130838262094555,\n",
       "   'area_ha': 1649369.2384895124,\n",
       "   'emissions': 255291908.5365312,\n",
       "   'iso': 'USA'},\n",
       "  2004: {'area_%': 0.06877913271705662,\n",
       "   'area_ha': 2746226.7596983947,\n",
       "   'emissions': 371623537.6846231,\n",
       "   'iso': 'USA'},\n",
       "  2005: {'area_%': 0.06740917249956416,\n",
       "   'area_ha': 2691526.7182704657,\n",
       "   'emissions': 340473307.6961762,\n",
       "   'iso': 'USA'},\n",
       "  2006: {'area_%': 0.06526320579644401,\n",
       "   'area_ha': 2605842.137021467,\n",
       "   'emissions': 349179190.1304176,\n",
       "   'iso': 'USA'},\n",
       "  2007: {'area_%': 0.06098727564928866,\n",
       "   'area_ha': 2435111.9558046423,\n",
       "   'emissions': 367979166.19921184,\n",
       "   'iso': 'USA'},\n",
       "  2008: {'area_%': 0.05544220688704081,\n",
       "   'area_ha': 2213707.357961025,\n",
       "   'emissions': 383238432.6980722,\n",
       "   'iso': 'USA'},\n",
       "  2009: {'area_%': 0.0402966616681754,\n",
       "   'area_ha': 1608973.0449917726,\n",
       "   'emissions': 256091774.6408943,\n",
       "   'iso': 'USA'},\n",
       "  2010: {'area_%': 0.05428852856939078,\n",
       "   'area_ha': 2167643.062834654,\n",
       "   'emissions': 288420227.8993566,\n",
       "   'iso': 'USA'},\n",
       "  2011: {'area_%': 0.041666699955659574,\n",
       "   'area_ha': 1663676.2036137097,\n",
       "   'emissions': 253788316.5198772,\n",
       "   'iso': 'USA'},\n",
       "  2012: {'area_%': 0.04918980529881182,\n",
       "   'area_ha': 1964060.2357065007,\n",
       "   'emissions': 299801507.5404242,\n",
       "   'iso': 'USA'}},\n",
       " {2002: {'area_%': 0.02146186886100997,\n",
       "   'area_ha': 856933.7275843099,\n",
       "   'emissions': 184494976.22592783,\n",
       "   'iso': 'IDN'},\n",
       "  2003: {'area_%': 0.013659559805353595,\n",
       "   'area_ha': 545401.5946592465,\n",
       "   'emissions': 119782878.14021063,\n",
       "   'iso': 'IDN'},\n",
       "  2004: {'area_%': 0.03232126767156119,\n",
       "   'area_ha': 1290529.9424487203,\n",
       "   'emissions': 274962951.7405286,\n",
       "   'iso': 'IDN'},\n",
       "  2005: {'area_%': 0.02965339660847861,\n",
       "   'area_ha': 1184006.661106944,\n",
       "   'emissions': 250096947.38640928,\n",
       "   'iso': 'IDN'},\n",
       "  2006: {'area_%': 0.03593760227083733,\n",
       "   'area_ha': 1434923.6626982987,\n",
       "   'emissions': 293374552.2490616,\n",
       "   'iso': 'IDN'},\n",
       "  2007: {'area_%': 0.03478336514965311,\n",
       "   'area_ha': 1388837.0555543378,\n",
       "   'emissions': 274360807.8101578,\n",
       "   'iso': 'IDN'},\n",
       "  2008: {'area_%': 0.034992556217197456,\n",
       "   'area_ha': 1397189.6777070984,\n",
       "   'emissions': 287483287.0273895,\n",
       "   'iso': 'IDN'},\n",
       "  2009: {'area_%': 0.04875150535598149,\n",
       "   'area_ha': 1946559.7092499286,\n",
       "   'emissions': 397049411.2732191,\n",
       "   'iso': 'IDN'},\n",
       "  2010: {'area_%': 0.032074111672966886,\n",
       "   'area_ha': 1280661.4490504116,\n",
       "   'emissions': 270722303.4031763,\n",
       "   'iso': 'IDN'},\n",
       "  2011: {'area_%': 0.03868858801913939,\n",
       "   'area_ha': 1544765.5635640025,\n",
       "   'emissions': 323778253.7274604,\n",
       "   'iso': 'IDN'},\n",
       "  2012: {'area_%': 0.056656290415975155,\n",
       "   'area_ha': 2262183.5242625773,\n",
       "   'emissions': 463537040.5219288,\n",
       "   'iso': 'IDN'}}]"
      ]
     },
     "execution_count": 197,
     "metadata": {},
     "output_type": "execute_result"
    }
   ],
   "source": [
    "returned_data"
   ]
  },
  {
   "cell_type": "code",
   "execution_count": 198,
   "metadata": {},
   "outputs": [],
   "source": [
    "other = {}\n",
    "for year in range(start, end+1):\n",
    "    data = list(filter(lambda x: x.get('year') == year, other_loss))\n",
    "    \n",
    "    total_area = 0\n",
    "    total_emissions = 0\n",
    "    \n",
    "    for d in data:\n",
    "        total_area += d.get('area', 0)\n",
    "        total_emissions += d.get('emissions', 0)\n",
    "    \n",
    "    other[year] = {'area_ha': total_area,\n",
    "               'area_%': 100 * total_area / y2000extent,\n",
    "               'emissions': total_emissions,\n",
    "                'iso': 'OTH'\n",
    "               }\n",
    "    \n",
    "returned_data.append(other)"
   ]
  },
  {
   "cell_type": "code",
   "execution_count": 200,
   "metadata": {},
   "outputs": [
    {
     "data": {
      "text/plain": [
       "11"
      ]
     },
     "execution_count": 200,
     "metadata": {},
     "output_type": "execute_result"
    }
   ],
   "source": [
    "vizz_data=[]\n",
    "for data in returned_data:\n",
    "    loss = []\n",
    "    for val in data.values():\n",
    "        if val.get('area_ha'):\n",
    "            loss.append(val.get('area_ha')/1e6) # in Mha\n",
    "        else:\n",
    "            loss.append(0)\n",
    "    vizz_data.append(loss)\n",
    "    \n",
    "len(vizz_data[5])"
   ]
  },
  {
   "cell_type": "code",
   "execution_count": 201,
   "metadata": {},
   "outputs": [],
   "source": [
    "bottom_5 = vizz_data[5]\n",
    "bottom_4 = [vizz_data[4][j]+bottom_5[j] for j in range(len(vizz_data[0]))]\n",
    "bottom_3 = [vizz_data[3][j]+bottom_4[j] for j in range(len(vizz_data[0]))]\n",
    "bottom_2 = [vizz_data[2][j]+bottom_3[j] for j in range(len(vizz_data[0]))]\n",
    "bottom_1 = [vizz_data[1][j]+bottom_2[j] for j in range(len(vizz_data[0]))]"
   ]
  },
  {
   "cell_type": "code",
   "execution_count": 202,
   "metadata": {},
   "outputs": [
    {
     "data": {
      "image/png": "[encoded data removed]",
      "text/plain": [
       "<matplotlib.figure.Figure at 0x1091359b0>"
      ]
     },
     "metadata": {},
     "output_type": "display_data"
    }
   ],
   "source": [
    "years = returned_data[0].keys()\n",
    "width = 0.6\n",
    "\n",
    "fig, ax = plt.subplots(figsize=(20,10))\n",
    "\n",
    "rects1 = ax.bar(years, vizz_data[5], width, color='#FFD4E9')\n",
    "rects2 = ax.bar(years, vizz_data[4], width, bottom=bottom_5, color='#FFBAD4')\n",
    "rects3 = ax.bar(years, vizz_data[3], width, bottom=bottom_4, color='#FFA0C0')\n",
    "rects4 = ax.bar(years, vizz_data[2], width, bottom=bottom_3, color='#FF84AC')\n",
    "rects5 = ax.bar(years, vizz_data[1], width, bottom=bottom_2, color='#FE6598')\n",
    "rects6 = ax.bar(years, vizz_data[0], width, bottom=bottom_1, color='#D04D7A')\n",
    "\n",
    "# add some text for labels, title and axes ticks\n",
    "ax.set_ylabel('Loss extent (Mha)')\n",
    "plt.show()"
   ]
  },
  {
   "cell_type": "code",
   "execution_count": null,
   "metadata": {},
   "outputs": [],
   "source": [
    "#Note, display country, area and % on hover."
   ]
  },
  {
   "cell_type": "markdown",
   "metadata": {},
   "source": [
    "# Dynamic Sentence\n",
    "\n",
    "- Global total is X\n",
    "- equal to % of total extent"
   ]
  },
  {
   "cell_type": "code",
   "execution_count": 190,
   "metadata": {},
   "outputs": [
    {
     "name": "stdout",
     "output_type": "stream",
     "text": [
      "Between 2002 and 2012 there was a total of 200235350Ha of tree cover loss globally, equivalent to around 5.0% of the global tree cover in 2000."
     ]
    }
   ],
   "source": [
    "print(f\"Between {start} and {end} there was a total of {int(total_loss)}Ha of tree cover loss globally, \", end=\"\")\n",
    "print(f\"equivalent to around {round(100 * total_loss / y2000extent, 1)}% of the global tree cover in 2000.\", end=\"\")"
   ]
  },
  {
   "cell_type": "code",
   "execution_count": null,
   "metadata": {},
   "outputs": [],
   "source": []
  },
  {
   "cell_type": "code",
   "execution_count": null,
   "metadata": {},
   "outputs": [],
   "source": []
  },
  {
   "cell_type": "code",
   "execution_count": null,
   "metadata": {},
   "outputs": [],
   "source": []
  },
  {
   "cell_type": "code",
   "execution_count": null,
   "metadata": {},
   "outputs": [],
   "source": []
  },
  {
   "cell_type": "code",
   "execution_count": null,
   "metadata": {},
   "outputs": [],
   "source": []
  },
  {
   "cell_type": "code",
   "execution_count": null,
   "metadata": {},
   "outputs": [],
   "source": []
  },
  {
   "cell_type": "code",
   "execution_count": null,
   "metadata": {},
   "outputs": [],
   "source": []
  },
  {
   "cell_type": "code",
   "execution_count": null,
   "metadata": {},
   "outputs": [],
   "source": []
  }
 ],
 "metadata": {
  "anaconda-cloud": {},
  "kernelspec": {
   "display_name": "Python 3",
   "language": "python",
   "name": "python3"
  },
  "language_info": {
   "codemirror_mode": {
    "name": "ipython",
    "version": 3
   },
   "file_extension": ".py",
   "mimetype": "text/x-python",
   "name": "python",
   "nbconvert_exporter": "python",
   "pygments_lexer": "ipython3",
   "version": "3.6.2"
  },
  "toc": {
   "nav_menu": {},
   "number_sections": true,
   "sideBar": true,
   "skip_h1_title": false,
   "toc_cell": false,
   "toc_position": {},
   "toc_section_display": "block",
   "toc_window_display": false
  }
 },
 "nbformat": 4,
 "nbformat_minor": 2
}
