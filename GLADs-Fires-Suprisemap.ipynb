{
 "cells": [
  {
   "cell_type": "markdown",
   "metadata": {},
   "source": [
    "# 'Surprise!' Map\n",
    "\n",
    "- get window of data (1m, 3m, 6m) from each year of data\n",
    "- calc mean and std of that window\n",
    "- calculate distance of current years window from mean ad multiple of std\n",
    "\n",
    "### Overview\n",
    "\n",
    "Works the same way for both fires and GLADS (note, for fires you can also select dataset) - and calculates how unusual (i.e. how many multiples of sigma from the mean) each location is.\n",
    "\n",
    "We can then rank regions based on this (best = below average fires/glads, and worst = above average fires/glads).\n",
    "\n",
    "At global level the widget will break down countries glad or fire data (if they have it). At country level it will break down admin-1's, and ad admin-1 is will break down the contained admin-2's. (Maybe at admin-2 we show the position of _that_ admin 2 in the ranking?)\n",
    "\n",
    "Clicking on a location in the ranked list should take you to it's dashboard.\n",
    "\n",
    "### User settings\n",
    "\n",
    "Users can select:\n",
    "\n",
    "- forestType / landUse combination\n",
    "- a time range over which we consider the deviation from the mean (tbd)\n",
    "- Ascending or descending order (vis-a-vis the 'best' or 'worst' locations relative the to expected number of alerts)"
   ]
  },
  {
   "cell_type": "code",
   "execution_count": 9,
   "metadata": {},
   "outputs": [],
   "source": [
    "# Tables\n",
    "\n",
    "fire_iso = 'ff289906-aa83-4a89-bba0-562edd8c16c6'\n",
    "fire_adm1 = '9b9e56fc-270e-486d-8db5-e0a839c9a1a9'\n",
    "fire_adm2 = '0f24299d-2aaa-4afc-945c-b614028c12d1'\n",
    "\n",
    "glad_iso = '391ca96d-303f-4aef-be4b-9cdb4856832c'\n",
    "glad_adm1 = 'c7a1d922-e320-4e92-8e4c-11ea33dd6e35'\n",
    "glad_adm2 = '428db321-5ebb-4e86-a3df-32c63b6d3c83'"
   ]
  },
  {
   "cell_type": "code",
   "execution_count": 1,
   "metadata": {},
   "outputs": [],
   "source": [
    "#Import Global Metadata, functions etc\n",
    "\n",
    "%run '0.Importable_Globals.ipynb'"
   ]
  },
  {
   "cell_type": "code",
   "execution_count": 111,
   "metadata": {},
   "outputs": [],
   "source": [
    "from datetime import date\n",
    "from datetime import timedelta\n",
    "\n",
    "import datetime"
   ]
  },
  {
   "cell_type": "code",
   "execution_count": 90,
   "metadata": {},
   "outputs": [],
   "source": [
    "def alerts_summary(iso=None, adm1=None, polyname='admin', type='glad'):\n",
    "    \"\"\"\n",
    "        Fetches the raw data (we may be able to reuse old sql queries from the ranked glad widget here)\n",
    "    \"\"\"\n",
    "        \n",
    "    if iso and adm1:\n",
    "        if type == 'glad':\n",
    "            table = glad_adm2\n",
    "        elif type == 'fire':\n",
    "            table = fire_adm2\n",
    "            \n",
    "        location = f\"iso = '{iso}' AND adm1 = {adm1}\"\n",
    "        sql = f\"\"\"  SELECT iso, adm1, adm2, week, year, alerts as count, area_ha, polyname \n",
    "                FROM data\n",
    "                WHERE {location}\n",
    "                AND polyname = '{polyname}'\n",
    "                \"\"\"\n",
    "        \n",
    "    elif iso and not adm1:\n",
    "        if type == 'glad':\n",
    "            table =  glad_adm1\n",
    "        elif type == 'fire':\n",
    "            table = fire_adm1\n",
    "            \n",
    "        location = f\"iso = '{iso}'\"\n",
    "        sql = f\"\"\"  SELECT iso, adm1, week, year, alerts as count, area_ha, polyname \n",
    "                FROM data\n",
    "                WHERE {location}\n",
    "                AND polyname = '{polyname}'\n",
    "                \"\"\"\n",
    "        \n",
    "    elif not iso and not adm1:\n",
    "        if type == 'glad':\n",
    "            table = glad_iso\n",
    "        elif type == 'fire':\n",
    "            table = fire_iso\n",
    "            \n",
    "        location = 'Global'\n",
    "        sql = f\"\"\"  SELECT iso, week, year, alerts as count, area_ha, polyname \n",
    "                FROM data\n",
    "                WHERE polyname = '{polyname}'\n",
    "                \"\"\"\n",
    "\n",
    "    url = f'https://production-api.globalforestwatch.org/query/{table}?sql='\n",
    "\n",
    "    r = requests.get(url+sql)\n",
    "    print(r.url)\n",
    "\n",
    "    return r.json().get('data', None)"
   ]
  },
  {
   "cell_type": "code",
   "execution_count": 163,
   "metadata": {},
   "outputs": [],
   "source": [
    "# Example user settings\n",
    "\n",
    "adm0 = 'BRA'\n",
    "adm1 = None\n",
    "\n",
    "polyname = 'admin' # this would be some forestType + landUse combo\n",
    "\n",
    "period = 4         # in weeks \n",
    "type = 'fire'"
   ]
  },
  {
   "cell_type": "code",
   "execution_count": 165,
   "metadata": {},
   "outputs": [
    {
     "name": "stdout",
     "output_type": "stream",
     "text": [
      "https://production-api.globalforestwatch.org/query/9b9e56fc-270e-486d-8db5-e0a839c9a1a9?sql=%20%20SELECT%20iso,%20adm1,%20week,%20year,%20alerts%20as%20count,%20area_ha,%20polyname%20%0A%20%20%20%20%20%20%20%20%20%20%20%20%20%20%20%20FROM%20data%0A%20%20%20%20%20%20%20%20%20%20%20%20%20%20%20%20WHERE%20iso%20=%20'BRA'%0A%20%20%20%20%20%20%20%20%20%20%20%20%20%20%20%20AND%20polyname%20=%20'admin'%0A%20%20%20%20%20%20%20%20%20%20%20%20%20%20%20%20\n"
     ]
    },
    {
     "data": {
      "text/plain": [
       "[{'_id': 'AWd3QCkYAfC9sjteCgj4',\n",
       "  'adm1': 1,\n",
       "  'alerts': 7,\n",
       "  'count': 7,\n",
       "  'iso': 'BRA',\n",
       "  'polyname': 'admin',\n",
       "  'week': 1,\n",
       "  'year': 2003},\n",
       " {'_id': 'AWd3QCkYAfC9sjteCgkV',\n",
       "  'adm1': 1,\n",
       "  'alerts': 1,\n",
       "  'count': 1,\n",
       "  'iso': 'BRA',\n",
       "  'polyname': 'admin',\n",
       "  'week': 8,\n",
       "  'year': 2009},\n",
       " {'_id': 'AWd3QCkYAfC9sjteCgkb',\n",
       "  'adm1': 1,\n",
       "  'alerts': 1,\n",
       "  'count': 1,\n",
       "  'iso': 'BRA',\n",
       "  'polyname': 'admin',\n",
       "  'week': 9,\n",
       "  'year': 2014}]"
      ]
     },
     "execution_count": 165,
     "metadata": {},
     "output_type": "execute_result"
    }
   ],
   "source": [
    "# Fetch data, print first 3 entries\n",
    "\n",
    "data = alerts_summary(adm0, adm1, polyname, type)\n",
    "\n",
    "data[0:3]"
   ]
  },
  {
   "cell_type": "code",
   "execution_count": 166,
   "metadata": {},
   "outputs": [
    {
     "name": "stdout",
     "output_type": "stream",
     "text": [
      "getting adm1\n"
     ]
    },
    {
     "data": {
      "text/plain": [
       "[1, 2, 3]"
      ]
     },
     "execution_count": 166,
     "metadata": {},
     "output_type": "execute_result"
    }
   ],
   "source": [
    "# Create list of locations\n",
    "if adm1:\n",
    "    print('getting adm2')\n",
    "    admin = 'adm2' \n",
    "elif adm0:\n",
    "    print('getting adm1')\n",
    "    admin = 'adm1'\n",
    "else:\n",
    "    print('getting iso')\n",
    "    admin = 'iso'\n",
    "\n",
    "locations = []\n",
    "for d in data:\n",
    "    if d.get(admin) not in locations:\n",
    "        locations.append(d.get(admin))\n",
    "        \n",
    "locations[0:3]"
   ]
  },
  {
   "cell_type": "code",
   "execution_count": 167,
   "metadata": {
    "scrolled": false
   },
   "outputs": [],
   "source": [
    "# create stats and assign to admin\n",
    "\n",
    "adm_list = []\n",
    "\n",
    "today = date.today().isocalendar() # an array of today's date in [year, isoweek, day] format\n",
    "\n",
    "for adm in locations:\n",
    "    \n",
    "    # grab all data entries that match (essentially: groupBy(data, 'iso'))\n",
    "    adm_filter = list(filter(lambda x: x.get(admin) == adm, data))\n",
    "    \n",
    "    # Temporary array to store count stats\n",
    "    tmp_c = []\n",
    "    \n",
    "    # iterate through years (we now have a case where all iso data doesnt start at the same point, though!)\n",
    "    for year in range(2015, today[0] + 1):\n",
    "        \n",
    "        # temp count counter\n",
    "        tc = 0\n",
    "        \n",
    "        # get the start and end date of the window in 'YYYY-MM-DD' format\n",
    "        start = datetime.datetime.strptime(f'{year}-{today[1]}-{today[2]}', '%Y-%W-%w')\n",
    "        end = start - timedelta(weeks=period)\n",
    "        \n",
    "        # convert into single numbers (year, isoweek, isoday)\n",
    "        startDate = start.isocalendar()\n",
    "        endDate = end.isocalendar()\n",
    "        \n",
    "        # then filter data within that window\n",
    "        if startDate[0] == endDate[0]:\n",
    "            window_filter = list(filter(lambda x: x.get('year') == startDate[0]\n",
    "                                        and x.get('week') <= startDate[1]\n",
    "                                        and x.get('week') >= endDate[1],\n",
    "                                        adm_filter))\n",
    "            \n",
    "        else:\n",
    "            start_filter = list(filter(lambda x: x.get('year') == startDate[0]\n",
    "                                        and x.get('week') <= startDate[1],\n",
    "                                        adm_filter))\n",
    "            \n",
    "            end_filter = list(filter(lambda x: x.get('year') == endDate[0]\n",
    "                                        and x.get('week') >= endDate[1],\n",
    "                                        adm_filter))\n",
    "            \n",
    "            window_filter = end_filter + start_filter\n",
    "        \n",
    "        \n",
    "        # sum all counts in that window\n",
    "        for week in window_filter:\n",
    "            tc += week.get('count')\n",
    "        \n",
    "        tmp_c.append(tc)\n",
    "        \n",
    "        # calculate the stats for the window across all years\n",
    "        if year == today[0]:\n",
    "            count_mean = np.mean(tmp_c)\n",
    "            count_std = np.std(tmp_c)\n",
    "            \n",
    "            # essentially the distance from the mean as a ratio of standard deviation\n",
    "            count_surprise = (tc - count_mean) / count_std\n",
    "            \n",
    "            \n",
    "    # append stats object\n",
    "    if count_mean > 0:\n",
    "        adm_list.append({'adm': adm, \n",
    "                         'count_surprise': count_surprise,\n",
    "                         'count_mean': count_mean,\n",
    "                         'count_std': count_std,\n",
    "                         'count_total': tc,\n",
    "                        })"
   ]
  },
  {
   "cell_type": "code",
   "execution_count": 168,
   "metadata": {},
   "outputs": [
    {
     "data": {
      "text/plain": [
       "[{'adm': 12,\n",
       "  'count_mean': 4567.0,\n",
       "  'count_std': 1555.9911632139817,\n",
       "  'count_surprise': -1.710163953954317,\n",
       "  'count_total': 1906},\n",
       " {'adm': 5,\n",
       "  'count_mean': 2760.25,\n",
       "  'count_std': 539.46194258724131,\n",
       "  'count_surprise': -1.5316187014737923,\n",
       "  'count_total': 1934},\n",
       " {'adm': 22,\n",
       "  'count_mean': 1620.25,\n",
       "  'count_std': 726.30757086787969,\n",
       "  'count_surprise': -1.5217382336787626,\n",
       "  'count_total': 515},\n",
       " {'adm': 1,\n",
       "  'count_mean': 155.0,\n",
       "  'count_std': 93.944132334063312,\n",
       "  'count_surprise': -1.4263796649214757,\n",
       "  'count_total': 21},\n",
       " {'adm': 9,\n",
       "  'count_mean': 889.25,\n",
       "  'count_std': 437.62048340999763,\n",
       "  'count_surprise': -1.3464863331087356,\n",
       "  'count_total': 300}]"
      ]
     },
     "execution_count": 168,
     "metadata": {},
     "output_type": "execute_result"
    }
   ],
   "source": [
    "# Example of sorting by ascending order\n",
    "\n",
    "best = sorted(adm_list, key=lambda k: k['count_surprise'], reverse=False)[0:5]\n",
    "best"
   ]
  },
  {
   "cell_type": "code",
   "execution_count": 169,
   "metadata": {},
   "outputs": [
    {
     "data": {
      "text/plain": [
       "[{'adm': 15,\n",
       "  'count_mean': 1391.75,\n",
       "  'count_std': 654.84401768665487,\n",
       "  'count_surprise': 0.74101616093894562,\n",
       "  'count_total': 1877},\n",
       " {'adm': 20,\n",
       "  'count_mean': 876.25,\n",
       "  'count_std': 395.05466393905539,\n",
       "  'count_surprise': 0.38918664689836147,\n",
       "  'count_total': 1030},\n",
       " {'adm': 4,\n",
       "  'count_mean': 2462.25,\n",
       "  'count_std': 659.32972593384568,\n",
       "  'count_surprise': 0.16494023509401351,\n",
       "  'count_total': 2571},\n",
       " {'adm': 18,\n",
       "  'count_mean': 5077.25,\n",
       "  'count_std': 1908.4608163386536,\n",
       "  'count_surprise': 0.11147726910534998,\n",
       "  'count_total': 5290},\n",
       " {'adm': 8,\n",
       "  'count_mean': 276.25,\n",
       "  'count_std': 78.001201913816686,\n",
       "  'count_surprise': 0.048076182263747227,\n",
       "  'count_total': 280}]"
      ]
     },
     "execution_count": 169,
     "metadata": {},
     "output_type": "execute_result"
    }
   ],
   "source": [
    "# Example of sorting by descending order\n",
    "\n",
    "worst = sorted(adm_list, key=lambda k: k['count_surprise'], reverse=True)[0:5]\n",
    "worst"
   ]
  },
  {
   "cell_type": "code",
   "execution_count": 173,
   "metadata": {},
   "outputs": [],
   "source": [
    "# Get admin 2 and 1 name dictionaries\n",
    "\n",
    "areaId_to_name = None\n",
    "if adm1:\n",
    "    tmp = get_admin2_json(iso=adm0, adm1=adm1)\n",
    "    areaId_to_name ={}\n",
    "    for row in tmp:\n",
    "        areaId_to_name[row.get('adm2')] = row.get('name')\n",
    "elif adm0 and not adm1:\n",
    "    tmp = get_admin1_json(iso=adm0)\n",
    "    areaId_to_name={}\n",
    "    for row in tmp:\n",
    "        areaId_to_name[row.get('adm1')] = row.get('name') "
   ]
  },
  {
   "cell_type": "code",
   "execution_count": 174,
   "metadata": {},
   "outputs": [
    {
     "name": "stdout",
     "output_type": "stream",
     "text": [
      "In the last month the most unusual number of fire events occurred in Mato Grosso where 1906 were detected, around 2661 less than normal for the same time period in previous years.\n"
     ]
    }
   ],
   "source": [
    "# dynamic sentence(s)!\n",
    "\n",
    "phrase_dict = {\n",
    "    'admin': 'in',\n",
    "    'wdpa': 'in protected areas within',\n",
    "    'aze': 'in Alliance for Zero Extinction sites within',\n",
    "    'ifl': 'in intact forests within',\n",
    "    'tcl': 'in tiger conservation landscapes within',\n",
    "    'kba': 'in key biodiversity areas within'\n",
    "}\n",
    "    \n",
    "if period == 4:\n",
    "    timeframe = 'month'\n",
    "elif period == 12:\n",
    "    timeframe = '3 months'\n",
    "elif period == 26:\n",
    "    timeframe = '6 months'\n",
    "\n",
    "print(f\"In the last {timeframe} \",end=\"\")\n",
    "print(f\"the most unusual number of {type} events occurred {phrase_dict[polyname]} \", end=\"\")\n",
    "\n",
    "if adm0 or adm1:\n",
    "    print(f\"{areaId_to_name[best[0].get('adm')]} \", end=\"\")\n",
    "else:\n",
    "    print(f\"{best[0].get('adm')} \", end=\"\")\n",
    "    \n",
    "print(f\"where {best[0].get('count_total')} were detected, around \", end=\"\")\n",
    "print(f\"{abs(int(best[0].get('count_total') - int(best[0].get('count_mean'))))} \",end=\"\")\n",
    "print(f\"less than normal for the same time period in previous years.\")\n"
   ]
  },
  {
   "cell_type": "code",
   "execution_count": null,
   "metadata": {},
   "outputs": [],
   "source": []
  },
  {
   "cell_type": "code",
   "execution_count": null,
   "metadata": {},
   "outputs": [],
   "source": []
  }
 ],
 "metadata": {
  "kernelspec": {
   "display_name": "Python 3",
   "language": "python",
   "name": "python3"
  },
  "language_info": {
   "codemirror_mode": {
    "name": "ipython",
    "version": 3
   },
   "file_extension": ".py",
   "mimetype": "text/x-python",
   "name": "python",
   "nbconvert_exporter": "python",
   "pygments_lexer": "ipython3",
   "version": "3.6.2"
  }
 },
 "nbformat": 4,
 "nbformat_minor": 2
}
