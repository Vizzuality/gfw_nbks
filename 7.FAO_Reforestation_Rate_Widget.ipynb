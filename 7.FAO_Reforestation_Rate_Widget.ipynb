{
 "cells": [
  {
   "cell_type": "markdown",
   "metadata": {},
   "source": [
    "<a id='s8'></a>\n",
    "# Rate of Reforestation widget\n",
    "\n",
    "Dynamic Sentence based on FAO data in a Carto table. Only works for admin-0 (countries). Also ranks countries by rate of regrowth (ha/year) or relative rate (% of extent / year) and displays the country in a list similarly ranked countries. (e.g. if the selected country is ranked 5th, the list should show 3rd, 4th, 5th, 6th, 7th)\n",
    "\n",
    "\n",
    "e.g. dynamic sentences:\n",
    "\n",
    "\"Between `X` and `Y` years, the rate of reforestation in `country name` was `X` ha/year.\"\n",
    "\n",
    "\n",
    "** Options**\n",
    "\n",
    "Users should be able to select period from a dropdown menu in the settings:\n",
    "* Period: ['1990–2000', '2000–2005', '2005–2010', '2010–2015']\n",
    "\n",
    "** Notes**\n",
    "\n",
    "- Default should be the most recent period (`2010–2015`).\n",
    "- The value that comes back from the query is kha not ha : i.e. it is in ha/1000 by default."
   ]
  },
  {
   "cell_type": "code",
   "execution_count": 1,
   "metadata": {
    "ExecuteTime": {
     "end_time": "2017-12-18T15:11:17.673011Z",
     "start_time": "2017-12-18T15:11:16.497985Z"
    },
    "collapsed": true
   },
   "outputs": [],
   "source": [
    "#Import Global Metadata etc\n",
    "\n",
    "%run '0.Importable_Globals.ipynb'"
   ]
  },
  {
   "cell_type": "code",
   "execution_count": 2,
   "metadata": {
    "ExecuteTime": {
     "end_time": "2017-12-18T17:04:23.103522Z",
     "start_time": "2017-12-18T17:04:23.092154Z"
    },
    "collapsed": true
   },
   "outputs": [],
   "source": [
    "# Human readable option for the Period selector, and a key that it should relate to for its query.\n",
    "fao_periods = {'1990–2000': 1990, '2000–2005':2000, '2005–2010':2005, '2010–2015':2010}\n",
    "\n",
    "\n",
    "# Variables\n",
    "adm0 = 'BRA'\n",
    "period = '2010–2015'\n",
    "\n",
    "\n",
    "tags = [\"forest_change\"]\n",
    "selectable_polynames = []"
   ]
  },
  {
   "cell_type": "code",
   "execution_count": 3,
   "metadata": {
    "ExecuteTime": {
     "end_time": "2017-12-18T17:04:24.055989Z",
     "start_time": "2017-12-18T17:04:23.982548Z"
    }
   },
   "outputs": [
    {
     "name": "stdout",
     "output_type": "stream",
     "text": [
      "https://wri-01.carto.com/api/v2/sql?q=SELECT+country+AS+iso%2C+name%2C+year%2C+reforest+AS+rate%2C+forest%2A1000+AS+extent+FROM+table_1_forest_area_and_characteristics+as+fao+WHERE+fao.year+%3D+2010+AND+fao.country+%3D+%27BRA%27 \n",
      "\n",
      "{'fields': {'extent': {'type': 'number'},\n",
      "            'iso': {'type': 'string'},\n",
      "            'name': {'type': 'string'},\n",
      "            'rate': {'type': 'number'},\n",
      "            'year': {'type': 'number'}},\n",
      " 'rows': [{'extent': 498458000,\n",
      "           'iso': 'BRA',\n",
      "           'name': 'Brazil',\n",
      "           'rate': 519,\n",
      "           'year': 2010}],\n",
      " 'time': 0.557,\n",
      " 'total_rows': 1}\n"
     ]
    }
   ],
   "source": [
    "# First, get the FAO data from a carto table. Note that extent is multiplied by 1000.\n",
    "\n",
    "sql = (\"SELECT country AS iso, name, year, reforest AS rate, forest*1000 AS extent \"\n",
    "         \"FROM table_1_forest_area_and_characteristics as fao \"\n",
    "         f\"WHERE fao.year = {fao_periods[period]} \"\n",
    "         f\"AND fao.country = '{adm0}'\"\n",
    "        )\n",
    "\n",
    "account = 'wri-01'\n",
    "urlCarto = \"https://{0}.carto.com/api/v2/sql\".format(account)\n",
    "\n",
    "sql = {\"q\": sql}\n",
    "r = requests.get(urlCarto, params=sql)\n",
    "print(r.url,'\\n')\n",
    "pprint(r.json())\n",
    "\n",
    "data = r.json().get('rows')[0]"
   ]
  },
  {
   "cell_type": "code",
   "execution_count": 4,
   "metadata": {
    "ExecuteTime": {
     "end_time": "2017-12-18T17:04:24.895580Z",
     "start_time": "2017-12-18T17:04:24.888681Z"
    }
   },
   "outputs": [
    {
     "name": "stdout",
     "output_type": "stream",
     "text": [
      "From 2010–2015, the rate of reforestation in Brazil was 519,000 ha/year. "
     ]
    }
   ],
   "source": [
    "#Dynamic sentence\n",
    "\n",
    "print(f\"From {period}, the rate of reforestation in {data['name']} was {data['rate']*1000:,.0f} ha/year. \", end=\"\")"
   ]
  },
  {
   "cell_type": "markdown",
   "metadata": {},
   "source": [
    "### Rank countries by rate of reforestation (ha/year)"
   ]
  },
  {
   "cell_type": "code",
   "execution_count": 5,
   "metadata": {},
   "outputs": [
    {
     "name": "stdout",
     "output_type": "stream",
     "text": [
      "https://wri-01.carto.com/api/v2/sql?q=WITH+mytable+AS+%28SELECT+country+AS+iso%2C+name%2C+year%2C+reforest+AS+rate%2C+forest%2A1000+AS+extent+FROM+table_1_forest_area_and_characteristics+as+fao+WHERE+fao.year+%3D+2010%29%2Crank+AS+%28+SELECT+rate+%2Ciso+from+mytable+ORDER+BY+rate+DESC%29%2C+item+as+%28select+rate+from+rank+where+iso+%3D+%27BRA%27%29+select+count%28%2A%29+as+rank+from+rank+WHERE+rate+%3E+%28select+rate+from+item%29+ \n",
      "\n",
      "{'fields': {'rank': {'type': 'number'}},\n",
      " 'rows': [{'rank': 6}],\n",
      " 'time': 0.002,\n",
      " 'total_rows': 1}\n",
      "7\n"
     ]
    }
   ],
   "source": [
    "## RANK BY RATE\n",
    "\n",
    "sql = (\"WITH mytable AS (SELECT country AS iso, name, year, reforest AS rate, forest*1000 AS extent \"\n",
    "        \"FROM table_1_forest_area_and_characteristics as fao \"\n",
    "        f\"WHERE fao.year = {fao_periods[period]}),\"\n",
    "        \"rank AS ( \"\n",
    "        \"SELECT rate ,iso \"\n",
    "        \"from mytable \"\n",
    "        \"ORDER BY rate DESC), \"\n",
    "        f\"item as (select rate from rank where iso = '{adm0}') \"\n",
    "        \"select count(*) as rank \"\n",
    "        \"from rank \"\n",
    "        \"WHERE rate > (select rate from item) \")\n",
    "\n",
    "account = 'wri-01'\n",
    "urlCarto = \"https://{0}.carto.com/api/v2/sql\".format(account)\n",
    "\n",
    "sql = {\"q\": sql}\n",
    "r = requests.get(urlCarto, params=sql)\n",
    "print(r.url,'\\n')\n",
    "pprint(r.json())\n",
    "\n",
    "rank = r.json().get('rows')[0].get('rank') + 1\n",
    "print(rank)"
   ]
  },
  {
   "cell_type": "code",
   "execution_count": 12,
   "metadata": {
    "scrolled": true
   },
   "outputs": [
    {
     "name": "stdout",
     "output_type": "stream",
     "text": [
      "https://wri-01.carto.com/api/v2/sql?q=SELECT+country+AS+iso%2C+name%2C+year%2C+reforest+AS+rate%2C+forest%2A1000+AS+extent+FROM+table_1_forest_area_and_characteristics+as+fao+WHERE+fao.year+%3D+2010+AND+reforest+%3E+0+ORDER+BY+rate+DESC \n",
      "\n"
     ]
    },
    {
     "data": {
      "text/plain": [
       "[{'extent': 13039200,\n",
       "  'iso': 'MNG',\n",
       "  'name': 'Mongolia',\n",
       "  'rate': 9167,\n",
       "  'year': 2010},\n",
       " {'extent': 20082012,\n",
       "  'iso': 'SDN',\n",
       "  'name': 'Sudan',\n",
       "  'rate': 5940,\n",
       "  'year': 2010},\n",
       " {'extent': 2605000,\n",
       "  'iso': 'CRI',\n",
       "  'name': 'Costa Rica',\n",
       "  'rate': 4130.96,\n",
       "  'year': 2010}]"
      ]
     },
     "execution_count": 12,
     "metadata": {},
     "output_type": "execute_result"
    }
   ],
   "source": [
    "## RANK BY RATE\n",
    "\n",
    "sql = (\"SELECT country AS iso, name, year, reforest AS rate, forest*1000 AS extent \"\n",
    "       \"FROM table_1_forest_area_and_characteristics as fao \"\n",
    "       f\"WHERE fao.year = {fao_periods[period]} \"\n",
    "       f\"AND reforest > 0 \"\n",
    "       \"ORDER BY rate DESC\")\n",
    "\n",
    "account = 'wri-01'\n",
    "urlCarto = \"https://{0}.carto.com/api/v2/sql\".format(account)\n",
    "\n",
    "sql = {\"q\": sql}\n",
    "r = requests.get(urlCarto, params=sql)\n",
    "print(r.url,'\\n')\n",
    "\n",
    "rank_list = r.json().get('rows')\n",
    "\n",
    "rank_list[0:3]"
   ]
  },
  {
   "cell_type": "code",
   "execution_count": 7,
   "metadata": {},
   "outputs": [
    {
     "data": {
      "text/plain": [
       "[{'extent': 815135600,\n",
       "  'iso': 'RUS',\n",
       "  'name': 'Russian Federation',\n",
       "  'rate': 1018.7,\n",
       "  'year': 2010},\n",
       " {'extent': 94432000,\n",
       "  'iso': 'IDN',\n",
       "  'name': 'Indonesia',\n",
       "  'rate': 866.74,\n",
       "  'year': 2010},\n",
       " {'extent': 498458000,\n",
       "  'iso': 'BRA',\n",
       "  'name': 'Brazil',\n",
       "  'rate': 519,\n",
       "  'year': 2010},\n",
       " {'extent': 347302000,\n",
       "  'iso': 'CAN',\n",
       "  'name': 'Canada',\n",
       "  'rate': 401,\n",
       "  'year': 2010},\n",
       " {'extent': 200610300,\n",
       "  'iso': 'CHN',\n",
       "  'name': 'China',\n",
       "  'rate': 290.1,\n",
       "  'year': 2010}]"
      ]
     },
     "execution_count": 7,
     "metadata": {},
     "output_type": "execute_result"
    }
   ],
   "source": [
    "if rank == 1:\n",
    "    bottom_bound = 1\n",
    "    upper_bound = 4\n",
    "elif rank == 2:\n",
    "    bottom_bound = 2\n",
    "    upper_bound = 3    \n",
    "elif rank == len(rank_list):\n",
    "    bottom_bound = 5\n",
    "    upper_bound = -1   \n",
    "elif rank == len(rank_list)-1:\n",
    "    bottom_bound = 4\n",
    "    upper_bound = 0 \n",
    "else:\n",
    "    bottom_bound = 3\n",
    "    upper_bound = 2 \n",
    "    \n",
    "rank_list[rank-bottom_bound:rank+upper_bound]"
   ]
  },
  {
   "cell_type": "code",
   "execution_count": 8,
   "metadata": {
    "collapsed": true
   },
   "outputs": [],
   "source": [
    "### Rank countries by relative rate of reforestation (%/year)"
   ]
  },
  {
   "cell_type": "code",
   "execution_count": 9,
   "metadata": {},
   "outputs": [
    {
     "name": "stdout",
     "output_type": "stream",
     "text": [
      "https://wri-01.carto.com/api/v2/sql?q=WITH+mytable+AS+%28SELECT+country+AS+iso%2C+name%2C+year%2C+reforest+AS+rate%2C+forest%2A1000+AS+extent+FROM+table_1_forest_area_and_characteristics+as+fao+WHERE+fao.year+%3D+2010+AND+forest+%3E+0%29%2Crank+AS+%28+SELECT+rate%2C+extent+%2Ciso+from+mytable+ORDER+BY+%28rate%2Fextent%29+DESC%29%2C+item+as+%28select+rate%2C+extent+from+rank+where+iso+%3D+%27BRA%27%29+select+count%28%2A%29+as+rank+from+rank+WHERE+%28rate%2Fextent%29+%3E+%28select+%28rate%2Fextent%29+from+item%29+ \n",
      "\n",
      "{'fields': {'rank': {'type': 'number'}},\n",
      " 'rows': [{'rank': 68}],\n",
      " 'time': 0.002,\n",
      " 'total_rows': 1}\n",
      "69\n"
     ]
    }
   ],
   "source": [
    "## RANK BY RATE RELATIVE TO EXTENT\n",
    "\n",
    "sql = (\"WITH mytable AS (SELECT country AS iso, name, year, reforest AS rate, forest*1000 AS extent \"\n",
    "        \"FROM table_1_forest_area_and_characteristics as fao \"\n",
    "        f\"WHERE fao.year = {fao_periods[period]} \"\n",
    "        \"AND forest > 0),\"\n",
    "        \"rank AS ( \"\n",
    "        \"SELECT rate, extent ,iso \"\n",
    "        \"from mytable \"\n",
    "        \"ORDER BY (rate/extent) DESC), \"\n",
    "        f\"item as (select rate, extent from rank where iso = '{adm0}') \"\n",
    "        \"select count(*) as rank \"\n",
    "        \"from rank \"\n",
    "        \"WHERE (rate/extent) > (select (rate/extent) from item) \")\n",
    "\n",
    "account = 'wri-01'\n",
    "urlCarto = \"https://{0}.carto.com/api/v2/sql\".format(account)\n",
    "\n",
    "sql = {\"q\": sql}\n",
    "r = requests.get(urlCarto, params=sql)\n",
    "print(r.url,'\\n')\n",
    "pprint(r.json())\n",
    "\n",
    "rank = r.json().get('rows')[0].get('rank') + 1\n",
    "print(rank)"
   ]
  },
  {
   "cell_type": "code",
   "execution_count": 13,
   "metadata": {},
   "outputs": [
    {
     "name": "stdout",
     "output_type": "stream",
     "text": [
      "https://wri-01.carto.com/api/v2/sql?q=SELECT+country+AS+iso%2C+name%2C+year%2C+reforest+AS+rate%2C+forest%2A1000+AS+extent+FROM+table_1_forest_area_and_characteristics+as+fao+WHERE+fao.year+%3D+2010+AND+reforest+%3E+0+ORDER+BY+%28reforest%2Fforest%29+DESC \n",
      "\n"
     ]
    },
    {
     "data": {
      "text/plain": [
       "[{'extent': 2605000,\n",
       "  'iso': 'CRI',\n",
       "  'name': 'Costa Rica',\n",
       "  'rate': 4130.96,\n",
       "  'year': 2010},\n",
       " {'extent': 13039200,\n",
       "  'iso': 'MNG',\n",
       "  'name': 'Mongolia',\n",
       "  'rate': 9167,\n",
       "  'year': 2010},\n",
       " {'extent': 20082012,\n",
       "  'iso': 'SDN',\n",
       "  'name': 'Sudan',\n",
       "  'rate': 5940,\n",
       "  'year': 2010}]"
      ]
     },
     "execution_count": 13,
     "metadata": {},
     "output_type": "execute_result"
    }
   ],
   "source": [
    "## RANK BY RATE RELATIVE TO EXTENT\n",
    "\n",
    "sql = (\"SELECT country AS iso, name, year, reforest AS rate, forest*1000 AS extent \"\n",
    "       \"FROM table_1_forest_area_and_characteristics as fao \"\n",
    "       f\"WHERE fao.year = {fao_periods[period]} \"\n",
    "       f\"AND reforest > 0 \"\n",
    "       \"ORDER BY (reforest/forest) DESC\")\n",
    "\n",
    "account = 'wri-01'\n",
    "urlCarto = \"https://{0}.carto.com/api/v2/sql\".format(account)\n",
    "\n",
    "sql = {\"q\": sql}\n",
    "r = requests.get(urlCarto, params=sql)\n",
    "print(r.url,'\\n')\n",
    "\n",
    "rank_list = r.json().get('rows')\n",
    "rank_list[0:3]"
   ]
  },
  {
   "cell_type": "code",
   "execution_count": 11,
   "metadata": {},
   "outputs": [
    {
     "data": {
      "text/plain": [
       "[{'extent': 12102000,\n",
       "  'iso': 'NOR',\n",
       "  'name': 'Norway',\n",
       "  'rate': 13.234,\n",
       "  'year': 2010},\n",
       " {'extent': 380000,\n",
       "  'iso': 'BRN',\n",
       "  'name': 'Brunei Darussalam',\n",
       "  'rate': 0.4,\n",
       "  'year': 2010},\n",
       " {'extent': 498458000,\n",
       "  'iso': 'BRA',\n",
       "  'name': 'Brazil',\n",
       "  'rate': 519,\n",
       "  'year': 2010},\n",
       " {'extent': 242000,\n",
       "  'iso': 'MRT',\n",
       "  'name': 'Mauritania',\n",
       "  'rate': 0.25,\n",
       "  'year': 2010},\n",
       " {'extent': 5820,\n",
       "  'iso': 'WLF',\n",
       "  'name': 'Wallis and Futuna',\n",
       "  'rate': 0.006,\n",
       "  'year': 2010}]"
      ]
     },
     "execution_count": 11,
     "metadata": {},
     "output_type": "execute_result"
    }
   ],
   "source": [
    "if rank == 1:\n",
    "    bottom_bound = -1\n",
    "    upper_bound = 4\n",
    "elif rank == 2:\n",
    "    bottom_bound = 2\n",
    "    upper_bound = 3    \n",
    "elif rank == len(rank_list):\n",
    "    bottom_bound = 5\n",
    "    upper_bound = -1   \n",
    "elif rank == len(rank_list)-1:\n",
    "    bottom_bound = 4\n",
    "    upper_bound = 0 \n",
    "else:\n",
    "    bottom_bound = 3\n",
    "    upper_bound = 2 \n",
    "    \n",
    "rank_list[rank-bottom_bound:rank+upper_bound]"
   ]
  },
  {
   "cell_type": "markdown",
   "metadata": {},
   "source": [
    "### Note\n",
    "\n",
    "Here relative rate (%/year) is calculated by:\n",
    "\n",
    "    100* (rate / extent)"
   ]
  }
 ],
 "metadata": {
  "anaconda-cloud": {},
  "kernelspec": {
   "display_name": "Python 3",
   "language": "python",
   "name": "python3"
  },
  "language_info": {
   "codemirror_mode": {
    "name": "ipython",
    "version": 3
   },
   "file_extension": ".py",
   "mimetype": "text/x-python",
   "name": "python",
   "nbconvert_exporter": "python",
   "pygments_lexer": "ipython3",
   "version": "3.6.2"
  },
  "toc": {
   "nav_menu": {},
   "number_sections": true,
   "sideBar": true,
   "skip_h1_title": false,
   "toc_cell": false,
   "toc_position": {},
   "toc_section_display": "block",
   "toc_window_display": false
  }
 },
 "nbformat": 4,
 "nbformat_minor": 2
}
