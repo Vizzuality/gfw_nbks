{
 "cells": [
  {
   "cell_type": "markdown",
   "metadata": {},
   "source": [
    "# Fires widgets\n",
    "\n",
    "This widget takes an Area of Interest (adm0, adm1, adm2) and requests the number of fires recorded in the last X number of days. The service is only able to look back as far as the last 7 days, however.\n",
    "\n",
    "The widget should simply display a dynamic sentence showing the number of detected fires in the AOI over the last X number of days.\n",
    "\n",
    "**NOTE**: The service is a little spotty and sometimes needs a few attempts to return a value"
   ]
  },
  {
   "cell_type": "code",
   "execution_count": 1,
   "metadata": {
    "collapsed": true
   },
   "outputs": [],
   "source": [
    "#Import Global Metadata etc\n",
    "\n",
    "%run '0.Importable_Globals.ipynb'"
   ]
  },
  {
   "cell_type": "code",
   "execution_count": 2,
   "metadata": {
    "collapsed": true
   },
   "outputs": [],
   "source": [
    "from datetime import date\n",
    "from datetime import timedelta\n",
    "import datetime\n",
    "import math\n"
   ]
  },
  {
   "cell_type": "code",
   "execution_count": 3,
   "metadata": {
    "collapsed": true
   },
   "outputs": [],
   "source": [
    "adm0 = 'CMR'\n",
    "adm1 = 1\n",
    "adm2 = None\n",
    "threshold = 0\n",
    "time_frame = 7  ##No of days up to a max of 7 (default)\n",
    "\n",
    "i = '2018-01-16' ## Unused in widget, only here to show example\n",
    "f = '2018-01-18'"
   ]
  },
  {
   "cell_type": "code",
   "execution_count": 4,
   "metadata": {},
   "outputs": [
    {
     "name": "stdout",
     "output_type": "stream",
     "text": [
      "https://production-api.globalforestwatch.org/v1/viirs-active-fires/admin/CMR/1?period=2018-01-16%2C2018-01-18&thresh=0\n",
      "Status: 200\n",
      "1812\n"
     ]
    }
   ],
   "source": [
    "# Example of adm1 request\n",
    "url = f'https://production-api.globalforestwatch.org/v1/viirs-active-fires/admin/{adm0}/{adm1}'\n",
    "properties = {\n",
    "              \"period\" : i + ',' + f,\n",
    "              \"thresh\" : threshold}\n",
    "r = requests.get(url=url, params=properties)\n",
    "\n",
    "print(r.url)\n",
    "print(f'Status: {r.status_code}')\n",
    "\n",
    "data = r.json().get('data').get('attributes').get('value')\n",
    "\n",
    "pprint(data)"
   ]
  },
  {
   "cell_type": "code",
   "execution_count": 5,
   "metadata": {},
   "outputs": [
    {
     "name": "stdout",
     "output_type": "stream",
     "text": [
      "https://production-api.globalforestwatch.org/v1/viirs-active-fires/admin/CMR?period=2018-01-16%2C2018-01-18&thresh=0\n",
      "Status: 200\n",
      "6175\n"
     ]
    }
   ],
   "source": [
    "# Example of adm0 request\n",
    "url = f'https://production-api.globalforestwatch.org/v1/viirs-active-fires/admin/{adm0}'\n",
    "properties = {\n",
    "              \"period\" : i + ',' + f,\n",
    "              \"thresh\" : threshold}\n",
    "r = requests.get(url=url, params=properties)\n",
    "\n",
    "print(r.url)\n",
    "print(f'Status: {r.status_code}')\n",
    "\n",
    "data = r.json().get('data').get('attributes').get('value')\n",
    "\n",
    "pprint(data)"
   ]
  },
  {
   "cell_type": "markdown",
   "metadata": {},
   "source": [
    "# Functions"
   ]
  },
  {
   "cell_type": "code",
   "execution_count": 6,
   "metadata": {
    "collapsed": true
   },
   "outputs": [],
   "source": [
    "def get_geostore(iso, adm1=None, adm2=None):\n",
    "    \"\"\"Returns geostore of adm region. Here, it is only required for adm2 since\n",
    "    the VIIRS service only has endpoints for adm0 and adm1 regions\"\"\"\n",
    "   \n",
    "    if adm2:\n",
    "        print('Request for adm2 area')\n",
    "        url =f'https://api.resourcewatch.org/v1/geostore/admin/{iso}/{adm1}/{adm2}' \n",
    "    elif adm1:\n",
    "        print('Request for adm1 area')\n",
    "        url =f'https://api.resourcewatch.org/v1/geostore/admin/{iso}/{adm1}' \n",
    "    elif iso:\n",
    "        print('Request for adm0 area')\n",
    "        url =f'https://api.resourcewatch.org/v1/geostore/admin/{iso}'\n",
    "        \n",
    "    r = requests.get(url)\n",
    "    data = r.json().get('data').get('id')\n",
    "    \n",
    "    return data"
   ]
  },
  {
   "cell_type": "code",
   "execution_count": 7,
   "metadata": {
    "collapsed": true
   },
   "outputs": [],
   "source": [
    "def fires_queries(start_date, end_date, iso, adm1=None, adm2=None):\n",
    "    \"\"\"Returns the ncorrect url and params for the VIIRS query. Adm2 requires a geostore\n",
    "    as the VIIRS service only has endpoints for adm0 and adm1 regions\"\"\"\n",
    "    \n",
    "    if adm2:\n",
    "        url = f'https://production-api.globalforestwatch.org/v1/viirs-active-fires'\n",
    "        properties = {\n",
    "              \"geostore\" : get_geostore(iso, adm1, adm2),\n",
    "              \"period\" : start_date + ',' + end_date,\n",
    "              \"thresh\" : threshold}\n",
    "    elif adm1:\n",
    "        url = f'https://production-api.globalforestwatch.org/v1/viirs-active-fires/admin/{iso}/{adm1}'   \n",
    "        properties = {\n",
    "              \"period\" : start_date + ',' + end_date,\n",
    "              \"thresh\" : threshold}\n",
    "    elif iso:\n",
    "        url = f'https://production-api.globalforestwatch.org/v1/viirs-active-fires/admin/{iso}'\n",
    "        properties = {\n",
    "              \"period\" : start_date + ',' + end_date,\n",
    "              \"thresh\" : threshold}\n",
    "    \n",
    "    return (url, properties)"
   ]
  },
  {
   "cell_type": "code",
   "execution_count": 8,
   "metadata": {
    "collapsed": true
   },
   "outputs": [],
   "source": [
    "def time_period(time_frame=7):\n",
    "    \"\"\"Returns a start- and end-date to be passed to query in 'yyyy-mm-dd' format\n",
    "    where the start date is the current date (today). Defaults to the last week (days=7)\"\"\"\n",
    "    \n",
    "    today = date.today()\n",
    "    \n",
    "    start = today.strftime('%Y-%m-%d')\n",
    "    end = (today - timedelta(days=time_frame)).strftime('%Y-%m-%d') \n",
    "    \n",
    "    return (start, end)"
   ]
  },
  {
   "cell_type": "code",
   "execution_count": 9,
   "metadata": {},
   "outputs": [
    {
     "name": "stdout",
     "output_type": "stream",
     "text": [
      "https://production-api.globalforestwatch.org/v1/viirs-active-fires/admin/CMR/1?period=2018-01-12%2C2018-01-19&thresh=0\n",
      "Status: 200\n",
      "[3883]\n"
     ]
    }
   ],
   "source": [
    "counts = []\n",
    "\n",
    "#Get start and end dates\n",
    "start_date = time_period(time_frame)[1]\n",
    "end_date = time_period(time_frame)[0]\n",
    "\n",
    "#Get url and params for requests\n",
    "url = fires_queries(start_date, end_date, adm0, adm1, adm2)[0]\n",
    "params = fires_queries(start_date, end_date, adm0, adm1, adm2)[1]\n",
    "\n",
    "r = requests.get(url, params)\n",
    "\n",
    "print(r.url)\n",
    "print(f'Status: {r.status_code}')\n",
    "\n",
    "#Return no of fires detected (counts)\n",
    "counts.append(r.json().get('data').get('attributes').get('value'))\n",
    "\n",
    "print(counts)"
   ]
  },
  {
   "cell_type": "code",
   "execution_count": 29,
   "metadata": {},
   "outputs": [
    {
     "name": "stdout",
     "output_type": "stream",
     "text": [
      "https://production-api.globalforestwatch.org/v1/viirs-active-fires/admin/CMR/1?period=2018-01-12%2C2018-01-19&thresh=0\n",
      "Status: 200\n",
      "https://production-api.globalforestwatch.org/v1/viirs-active-fires/admin/CMR/1?period=2018-01-14%2C2018-01-19&thresh=0\n",
      "Status: 200\n",
      "https://production-api.globalforestwatch.org/v1/viirs-active-fires/admin/CMR/1?period=2018-01-16%2C2018-01-19&thresh=0\n",
      "Status: 200\n",
      "https://production-api.globalforestwatch.org/v1/viirs-active-fires/admin/CMR/1?period=2018-01-18%2C2018-01-19&thresh=0\n",
      "Status: 200\n",
      "[3883, 3748, 2479, 678]\n"
     ]
    }
   ],
   "source": [
    "counts = []\n",
    "\n",
    "for i in [7,5,3,1]:\n",
    "    \n",
    "    #Get start and end dates\n",
    "    start_date = time_period(i)[1]\n",
    "    end_date = time_period(i)[0]\n",
    "\n",
    "    #Get url and params for requests\n",
    "    url = fires_queries(start_date, end_date, adm0, adm1, adm2)[0]\n",
    "    params = fires_queries(start_date, end_date, adm0, adm1, adm2)[1]\n",
    "\n",
    "    r = requests.get(url, params)\n",
    "\n",
    "    print(r.url)\n",
    "    print(f'Status: {r.status_code}')\n",
    "\n",
    "    #Return no of fires detected (counts)\n",
    "    counts.append(r.json().get('data').get('attributes').get('value'))\n",
    "\n",
    "print(counts)"
   ]
  },
  {
   "cell_type": "markdown",
   "metadata": {},
   "source": [
    "# Graph\n",
    "\n",
    "Shows 'today' and countes/per using 2 day ave over the last week."
   ]
  },
  {
   "cell_type": "code",
   "execution_count": 30,
   "metadata": {},
   "outputs": [
    {
     "data": {
      "text/plain": [
       "[67.5, 634.5, 900.5, 678]"
      ]
     },
     "execution_count": 30,
     "metadata": {},
     "output_type": "execute_result"
    }
   ],
   "source": [
    "# Calculate counts per day in each 2-day period over last week\n",
    "\n",
    "counts[0] = (counts[0] - counts[1])/2\n",
    "counts[1] = (counts[1] - counts[2])/2\n",
    "counts[2] = (counts[2] - counts[3])/2\n",
    "\n",
    "# ['day 1', 'day 2-3 ave', 'day 4-5 ave', 'day5-7']\n",
    "counts"
   ]
  },
  {
   "cell_type": "code",
   "execution_count": 31,
   "metadata": {},
   "outputs": [
    {
     "data": {
      "image/png": "[encoded data removed]",
      "text/plain": [
       "<matplotlib.figure.Figure at 0x10ce1f5c0>"
      ]
     },
     "metadata": {},
     "output_type": "display_data"
    }
   ],
   "source": [
    "# Reverse the order using 'counts[::-1]'\n",
    "\n",
    "plt.plot(counts[::-1], 'r--')\n",
    "\n",
    "plt.show()"
   ]
  },
  {
   "cell_type": "markdown",
   "metadata": {},
   "source": [
    "# Dynamic Sentence"
   ]
  },
  {
   "cell_type": "code",
   "execution_count": 11,
   "metadata": {
    "collapsed": true
   },
   "outputs": [],
   "source": [
    "# get a human readable {id: name} json for either admin 1 or 2 level as needed:\n",
    "\n",
    "areaId_to_name = None\n",
    "if adm2:\n",
    "    tmp = get_admin2_json(iso=adm0, adm1=adm1)\n",
    "    areaId_to_name ={}\n",
    "    for row in tmp:\n",
    "        areaId_to_name[row.get('adm2')] = row.get('name')\n",
    "if adm1 and not adm2:\n",
    "    tmp = get_admin1_json(iso=adm0)\n",
    "    areaId_to_name={}\n",
    "    for row in tmp:\n",
    "        areaId_to_name[row.get('adm1')] = row.get('name') "
   ]
  },
  {
   "cell_type": "code",
   "execution_count": 12,
   "metadata": {},
   "outputs": [
    {
     "name": "stdout",
     "output_type": "stream",
     "text": [
      "In Adamaoua, Cameroon there were [678, 2479, 3748, 3883] active fires detected in the last 7 days."
     ]
    }
   ],
   "source": [
    "if adm2:\n",
    "    print(f\"In {areaId_to_name[adm2]}, {iso_to_countries[adm0]} \", end=\"\")\n",
    "elif adm1: \n",
    "    print(f\"In {areaId_to_name[adm1]}, {iso_to_countries[adm0]} \", end=\"\")\n",
    "elif adm0:\n",
    "    print(f\"In {iso_to_countries[adm0]} \", end=\"\")\n",
    "\n",
    "# Handle 'day' vs. 'days'\n",
    "if time_frame > 1:\n",
    "    plural = 's'\n",
    "else:\n",
    "    plural = ''\n",
    "\n",
    "# Say 'no fires' instead of '0 fires'\n",
    "if counts == 0:\n",
    "    counts = 'no'\n",
    "    \n",
    "print(f\"there were {counts} active fires detected in the last {time_frame} day{plural}.\", end=\"\")"
   ]
  },
  {
   "cell_type": "code",
   "execution_count": null,
   "metadata": {
    "collapsed": true
   },
   "outputs": [],
   "source": []
  },
  {
   "cell_type": "code",
   "execution_count": null,
   "metadata": {
    "collapsed": true
   },
   "outputs": [],
   "source": []
  },
  {
   "cell_type": "code",
   "execution_count": null,
   "metadata": {
    "collapsed": true
   },
   "outputs": [],
   "source": []
  },
  {
   "cell_type": "code",
   "execution_count": null,
   "metadata": {
    "collapsed": true
   },
   "outputs": [],
   "source": []
  },
  {
   "cell_type": "code",
   "execution_count": null,
   "metadata": {
    "collapsed": true
   },
   "outputs": [],
   "source": []
  }
 ],
 "metadata": {
  "kernelspec": {
   "display_name": "Python 3",
   "language": "python",
   "name": "python3"
  },
  "language_info": {
   "codemirror_mode": {
    "name": "ipython",
    "version": 3
   },
   "file_extension": ".py",
   "mimetype": "text/x-python",
   "name": "python",
   "nbconvert_exporter": "python",
   "pygments_lexer": "ipython3",
   "version": "3.6.2"
  }
 },
 "nbformat": 4,
 "nbformat_minor": 2
}
