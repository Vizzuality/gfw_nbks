{
 "cells": [
  {
   "cell_type": "markdown",
   "metadata": {},
   "source": [
    "# Fires widgets\n",
    "\n",
    "This widget takes an Area of Interest (adm0, adm1, adm2) and requests the number of fires recorded in the last X number of days. The service is only able to look back as far as the last 7 days, however.\n",
    "\n",
    "The widget should simply display a dynamic sentence showing the number of detected fires in the AOI over the last X number of days.\n",
    "\n",
    "**NOTE**: The service is a little spotty and sometimes needs a few attempts to return a value"
   ]
  },
  {
   "cell_type": "code",
   "execution_count": 1,
   "metadata": {
    "collapsed": true
   },
   "outputs": [],
   "source": [
    "#Import Global Metadata etc\n",
    "\n",
    "%run '0.Importable_Globals.ipynb'"
   ]
  },
  {
   "cell_type": "code",
   "execution_count": 2,
   "metadata": {
    "collapsed": true
   },
   "outputs": [],
   "source": [
    "from datetime import date\n",
    "from datetime import timedelta\n",
    "import datetime\n",
    "import math\n"
   ]
  },
  {
   "cell_type": "code",
   "execution_count": 11,
   "metadata": {
    "collapsed": true
   },
   "outputs": [],
   "source": [
    "adm0 = 'BRA'\n",
    "adm1 = None\n",
    "adm2 = None\n",
    "\n",
    "\n",
    "time_frame = 7 #interested in the last 7 days\n",
    "threshold = 0  #hardcode this\n",
    "\n",
    "tags = [\"forest_change\"]\n",
    "selectable_polynames = [None]\n",
    "\n",
    "#metadata slug: widget_fire_alert_location"
   ]
  },
  {
   "cell_type": "markdown",
   "metadata": {},
   "source": [
    "# Functions"
   ]
  },
  {
   "cell_type": "code",
   "execution_count": 4,
   "metadata": {
    "collapsed": true
   },
   "outputs": [],
   "source": [
    "def get_geostore(iso, adm1=None, adm2=None):\n",
    "    \"\"\"Returns geostore of adm region. Here, it is only required for adm2 since\n",
    "    the VIIRS service only has endpoints for adm0 and adm1 regions\"\"\"\n",
    "   \n",
    "    if adm2:\n",
    "        print('Request for adm2 area')\n",
    "        url =f'https://api.resourcewatch.org/v1/geostore/admin/{iso}/{adm1}/{adm2}' \n",
    "    elif adm1:\n",
    "        print('Request for adm1 area')\n",
    "        url =f'https://api.resourcewatch.org/v1/geostore/admin/{iso}/{adm1}' \n",
    "    elif iso:\n",
    "        print('Request for adm0 area')\n",
    "        url =f'https://api.resourcewatch.org/v1/geostore/admin/{iso}'\n",
    "    \n",
    "    r = requests.get(url)\n",
    "    data = r.json().get('data').get('id')\n",
    "    \n",
    "    return data"
   ]
  },
  {
   "cell_type": "code",
   "execution_count": 5,
   "metadata": {
    "collapsed": true
   },
   "outputs": [],
   "source": [
    "def fires_queries(start_date, end_date, iso, adm1=None, adm2=None):\n",
    "    \"\"\"Returns the ncorrect url and params for the VIIRS query. Adm2 requires a geostore\n",
    "    as the VIIRS service only has endpoints for adm0 and adm1 regions\"\"\"\n",
    "    \n",
    "    if adm2:\n",
    "        url = f'https://production-api.globalforestwatch.org/v1/viirs-active-fires'\n",
    "        properties = {\n",
    "              \"geostore\" : get_geostore(iso, adm1, adm2),\n",
    "              \"period\" : start_date + ',' + end_date,\n",
    "              \"thresh\" : threshold,\n",
    "              \"group\" : 'true'}\n",
    "    elif adm1:\n",
    "        url = f'https://production-api.globalforestwatch.org/v1/viirs-active-fires/admin/{iso}/{adm1}'   \n",
    "        properties = {\n",
    "              \"period\" : start_date + ',' + end_date,\n",
    "              \"thresh\" : threshold,\n",
    "              \"group\" : 'true'}\n",
    "    elif iso:\n",
    "        url = f'https://production-api.globalforestwatch.org/v1/viirs-active-fires/admin/{iso}'\n",
    "        properties = {\n",
    "              \"period\" : start_date + ',' + end_date,\n",
    "              \"thresh\" : threshold,\n",
    "              \"group\" : 'true'}\n",
    "    \n",
    "    return (url, properties)"
   ]
  },
  {
   "cell_type": "code",
   "execution_count": 12,
   "metadata": {
    "collapsed": true
   },
   "outputs": [],
   "source": [
    "def time_period(time_frame=7):\n",
    "    \"\"\"Returns a start- and end-date to be passed to query in 'yyyy-mm-dd' format\n",
    "    where the start date is the current date (today). Defaults to the last week (days=7)\"\"\"\n",
    "    \n",
    "    today = date.today()\n",
    "    \n",
    "    start = today.strftime('%Y-%m-%d')\n",
    "    end = (today - timedelta(days=time_frame-1)).strftime('%Y-%m-%d') \n",
    "    \n",
    "    return (start, end)"
   ]
  },
  {
   "cell_type": "code",
   "execution_count": 13,
   "metadata": {},
   "outputs": [
    {
     "name": "stdout",
     "output_type": "stream",
     "text": [
      "https://production-api.globalforestwatch.org/v1/viirs-active-fires/admin/BRA?group=true&period=2018-01-20%2C2018-01-26&thresh=0\n",
      "Status: 200\n",
      "[{'attributes': {'day': '2018-01-25T00:00:00Z', 'value': 279},\n",
      "  'id': 'undefined',\n",
      "  'type': 'viirs-fires'},\n",
      " {'attributes': {'day': '2018-01-24T00:00:00Z', 'value': 502},\n",
      "  'id': 'undefined',\n",
      "  'type': 'viirs-fires'},\n",
      " {'attributes': {'day': '2018-01-20T00:00:00Z', 'value': 690},\n",
      "  'id': 'undefined',\n",
      "  'type': 'viirs-fires'},\n",
      " {'attributes': {'day': '2018-01-21T00:00:00Z', 'value': 498},\n",
      "  'id': 'undefined',\n",
      "  'type': 'viirs-fires'},\n",
      " {'attributes': {'day': '2018-01-22T00:00:00Z', 'value': 536},\n",
      "  'id': 'undefined',\n",
      "  'type': 'viirs-fires'},\n",
      " {'attributes': {'day': '2018-01-23T00:00:00Z', 'value': 563},\n",
      "  'id': 'undefined',\n",
      "  'type': 'viirs-fires'},\n",
      " {'attributes': {'day': '2018-01-26T00:00:00Z', 'value': 67},\n",
      "  'id': 'undefined',\n",
      "  'type': 'viirs-fires'}]\n",
      "CPU times: user 7.84 ms, sys: 4.21 ms, total: 12.1 ms\n",
      "Wall time: 9.47 ms\n"
     ]
    }
   ],
   "source": [
    "%%time\n",
    "\n",
    "#Get start and end dates\n",
    "start_date = time_period(time_frame)[1]\n",
    "end_date = time_period(time_frame)[0]\n",
    "\n",
    "#Get url and params for requests\n",
    "url = fires_queries(start_date, end_date, adm0, adm1, adm2)[0]\n",
    "params = fires_queries(start_date, end_date, adm0, adm1, adm2)[1]\n",
    "\n",
    "r = requests.get(url, params)\n",
    "\n",
    "print(r.url)\n",
    "print(f'Status: {r.status_code}')\n",
    "\n",
    "data = r.json().get('data')\n",
    "\n",
    "pprint(data)"
   ]
  },
  {
   "cell_type": "code",
   "execution_count": 8,
   "metadata": {},
   "outputs": [
    {
     "data": {
      "text/plain": [
       "[{'count': 67, 'date': '2018-01-26'},\n",
       " {'count': 279, 'date': '2018-01-25'},\n",
       " {'count': 502, 'date': '2018-01-24'},\n",
       " {'count': 563, 'date': '2018-01-23'},\n",
       " {'count': 536, 'date': '2018-01-22'},\n",
       " {'count': 498, 'date': '2018-01-21'},\n",
       " {'count': 690, 'date': '2018-01-20'},\n",
       " {'count': 633, 'date': '2018-01-19'}]"
      ]
     },
     "execution_count": 8,
     "metadata": {},
     "output_type": "execute_result"
    }
   ],
   "source": [
    "#Extract data and ensure it is in correct order\n",
    "#Also calculate the total number of fires.\n",
    "\n",
    "counts = []\n",
    "total_fires = 0\n",
    "\n",
    "for d in data:\n",
    "        counts.append({'count': d.get('attributes').get('value'), 'date': d.get('attributes').get('day')[:10]})\n",
    "        total_fires += d.get('attributes').get('value')\n",
    "        \n",
    "        \n",
    "#Order list by 'date'\n",
    "counts = sorted(counts, key=lambda k: k['date'], reverse=True)\n",
    "\n",
    "counts"
   ]
  },
  {
   "cell_type": "markdown",
   "metadata": {},
   "source": [
    "# Graph\n",
    "\n",
    "Shows a sparkline representing the number of fires detected in each day over the previous 7 day period"
   ]
  },
  {
   "cell_type": "code",
   "execution_count": 14,
   "metadata": {},
   "outputs": [
    {
     "data": {
      "image/png": "[encoded data removed]",
      "text/plain": [
       "<matplotlib.figure.Figure at 0x112e23c18>"
      ]
     },
     "metadata": {},
     "output_type": "display_data"
    }
   ],
   "source": [
    "x_data = []\n",
    "y_data = []\n",
    "\n",
    "for c in counts:\n",
    "    y_data.append(c.get('count'))\n",
    "    x_data.append(c.get('date')[5:10])\n",
    "    \n",
    "plt.plot(x_data, y_data, 'r--')\n",
    "\n",
    "ax = plt.gca()\n",
    "\n",
    "ax.set_xlabel('date in past 7 days')\n",
    "ax.set_ylabel('fire count')\n",
    "\n",
    "plt.show()"
   ]
  },
  {
   "cell_type": "code",
   "execution_count": 10,
   "metadata": {},
   "outputs": [
    {
     "name": "stdout",
     "output_type": "stream",
     "text": [
      "In Brazil there were 3768 active fires detected in the last 7 days."
     ]
    }
   ],
   "source": [
    "if adm2:\n",
    "    print(f\"In {areaId_to_name[adm2]} \", end=\"\")\n",
    "elif adm1: \n",
    "    print(f\"In {areaId_to_name[adm1]} \", end=\"\")\n",
    "elif adm0:\n",
    "    print(f\"In {iso_to_countries[adm0]} \", end=\"\")\n",
    "\n",
    "# Say 'no fires' instead of '0 fires'\n",
    "if counts == 0:\n",
    "    counts = 'no'\n",
    "    \n",
    "print(f\"there were {total_fires} active fires detected in the last 7 days.\", end=\"\")"
   ]
  },
  {
   "cell_type": "code",
   "execution_count": null,
   "metadata": {
    "collapsed": true
   },
   "outputs": [],
   "source": []
  }
 ],
 "metadata": {
  "kernelspec": {
   "display_name": "Python 3",
   "language": "python",
   "name": "python3"
  },
  "language_info": {
   "codemirror_mode": {
    "name": "ipython",
    "version": 3
   },
   "file_extension": ".py",
   "mimetype": "text/x-python",
   "name": "python",
   "nbconvert_exporter": "python",
   "pygments_lexer": "ipython3",
   "version": "3.6.2"
  }
 },
 "nbformat": 4,
 "nbformat_minor": 2
}
