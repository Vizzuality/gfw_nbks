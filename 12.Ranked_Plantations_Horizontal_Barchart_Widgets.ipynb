{
 "cells": [
  {
   "cell_type": "markdown",
   "metadata": {},
   "source": [
    "# Ranked Plantations Stacked Barchart\n",
    "\n",
    "Displays the Top 5 sub-regions ranked by the % of plantation cover relative to total area, containing tree plantations in a horizontal bar chart. Each bar is broken into the sub-categories (type or species).\n",
    "\n",
    "Each bar is made up of 4 subcategories that should add to 100%."
   ]
  },
  {
   "cell_type": "code",
   "execution_count": 1,
   "metadata": {
    "ExecuteTime": {
     "end_time": "2017-12-18T15:11:17.673011Z",
     "start_time": "2017-12-18T15:11:16.497985Z"
    },
    "collapsed": true
   },
   "outputs": [],
   "source": [
    "#Import Global Metadata etc\n",
    "\n",
    "%run '0.Importable_Globals.ipynb'"
   ]
  },
  {
   "cell_type": "code",
   "execution_count": 2,
   "metadata": {
    "collapsed": true
   },
   "outputs": [],
   "source": [
    "# Returns json object containing admin-codes, total area and extent (both in ha)\n",
    "# If adm1 is not specified, it returns the total values for each adm1 region\n",
    "# Else, returns the adm2 values within that adm1 region\n",
    "# You may also specify a polyname (intersecting area) e.g. 'extent and % of plantations only'\n",
    "# By default polyname is 'gadm28' (all forest extent)\n",
    "\n",
    "def multiregion_extent_queries(adm0, adm1=None, year='area_extent_2000', p_name='gadm28', threshold=30):\n",
    "    if adm0 and not adm1:\n",
    "        print('Request for adm1 areas')\n",
    "        sql = (f\"SELECT adm1 as region, sum({year}) as extent, sum(area_gadm28) as total \"\n",
    "               f\"FROM {ds} \"\n",
    "               f\"WHERE iso = '{adm0}' \"\n",
    "               f\"AND thresh = {threshold} \"\n",
    "               f\"AND polyname = '{p_name}' \"\n",
    "               f\"GROUP BY adm1 \"\n",
    "               f\"ORDER BY adm1\")\n",
    "    elif adm0 and adm1:\n",
    "        print('Request for adm2 areas')\n",
    "        sql = (f\"SELECT adm2 as region, {year} as extent, area_gadm28 as total \"\n",
    "                f\"FROM {ds} \"\n",
    "                f\"WHERE iso = '{adm0}' \"\n",
    "                f\"AND thresh = {threshold} \"\n",
    "                f\"AND polyname = '{p_name}' \"\n",
    "                f\"AND adm1 = '{adm1}' \")\n",
    "    return sql"
   ]
  },
  {
   "cell_type": "markdown",
   "metadata": {},
   "source": [
    "## Ranked Plantations Stacked Barchart (by type)\n",
    "\n",
    "Displays the Top 5 sub-regions ranked by the % of plantation cover relative to total area, containing tree plantations in a horizontal bar chart. Each bar is broken into the sub-categories (type or species).\n",
    "\n",
    "Each bar is made up of 4 subcategories that should add to 100%.\n",
    "\n",
    "Subcategory % calculated by dividing the extent by the total extent of plantations in the region"
   ]
  },
  {
   "cell_type": "code",
   "execution_count": 3,
   "metadata": {
    "collapsed": true
   },
   "outputs": [],
   "source": [
    "# VARIABLES\n",
    "\n",
    "thresh = 0               # 0,10,15,20,25,30,50,75,100 \n",
    "adm0 = 'BRA'\n",
    "adm1 = None          \n",
    "adm2 = None  \n",
    "\n",
    "extent_year = 2000       #2000, 2010\n",
    "\n",
    "tags = [\"land_cover\", \"land_use\"]\n",
    "selectable_polynames = ['gadm28', 'plantations']"
   ]
  },
  {
   "cell_type": "code",
   "execution_count": 4,
   "metadata": {},
   "outputs": [
    {
     "name": "stdout",
     "output_type": "stream",
     "text": [
      "Request for adm1 areas\n",
      "https://production-api.globalforestwatch.org/v1/query/499682b1-3174-493f-ba1a-368b4636708e?sql=SELECT+adm1+as+region%2C+sum%28area_extent_2000%29+as+extent%2C+sum%28area_gadm28%29+as+total+FROM+499682b1-3174-493f-ba1a-368b4636708e+WHERE+iso+%3D+%27BRA%27+AND+thresh+%3D+0+AND+polyname+%3D+%27gadm28%27+GROUP+BY+adm1+ORDER+BY+adm1\n",
      "Status: 200\n"
     ]
    },
    {
     "data": {
      "text/plain": [
       "[{'extent': 14502759.1015625, 'region': 1, 'total': 15273286.984375},\n",
       " {'extent': 800115.4713287354, 'region': 2, 'total': 2775822.3068847656},\n",
       " {'extent': 12382432.1640625, 'region': 3, 'total': 14221825.859375}]"
      ]
     },
     "execution_count": 4,
     "metadata": {},
     "output_type": "execute_result"
    }
   ],
   "source": [
    "# Get the total extent of each region\n",
    "url = f\"https://production-api.globalforestwatch.org/v1/query/{ds}\"\n",
    "\n",
    "sql = multiregion_extent_queries(adm0=adm0, adm1=adm1, year=extent_year_dict[extent_year],\n",
    "                                 p_name='gadm28', threshold=thresh)\n",
    "\n",
    "properties = {\"sql\": sql}\n",
    "r = requests.get(url, params = properties)\n",
    "print(r.url)\n",
    "print(f'Status: {r.status_code}')\n",
    "extent_total = r.json().get('data')\n",
    "extent_total[0:3]"
   ]
  },
  {
   "cell_type": "code",
   "execution_count": 5,
   "metadata": {
    "scrolled": false
   },
   "outputs": [
    {
     "name": "stdout",
     "output_type": "stream",
     "text": [
      "https://production-api.globalforestwatch.org/v1/query/499682b1-3174-493f-ba1a-368b4636708e?sql=SELECT+SUM%28area_extent_2000%29+AS+plantation_extent+FROM+499682b1-3174-493f-ba1a-368b4636708e+WHERE+iso+%3D+%27BRA%27+AND+thresh+%3D+0+AND+polyname+%3D+%27plantations%27+GROUP+BY+adm1%2C+bound1+ORDER+BY+plantation_extent+DESC\n",
      "Status: 200\n"
     ]
    },
    {
     "data": {
      "text/plain": [
       "[{'adm1': 13,\n",
       "  'bound1': 'Large industrial plantation',\n",
       "  'plantation_extent': 884758.8332473561},\n",
       " {'adm1': 13,\n",
       "  'bound1': 'Clearing/ very young plantation',\n",
       "  'plantation_extent': 134288.48072965443},\n",
       " {'adm1': 13,\n",
       "  'bound1': 'Mosaic of small-sized plantations',\n",
       "  'plantation_extent': 1033.8712158203125}]"
      ]
     },
     "execution_count": 5,
     "metadata": {},
     "output_type": "execute_result"
    }
   ],
   "source": [
    "# Gets plantation areas by type, for each subregion\n",
    "url = f\"https://production-api.globalforestwatch.org/v1/query/{ds}\"\n",
    "\n",
    "sql = (f\"SELECT SUM({extent_year_dict[extent_year]}) AS plantation_extent FROM {ds} WHERE iso = 'BRA' \"\n",
    "       f\"AND thresh = 0 AND polyname = 'plantations' \"\n",
    "       f\"GROUP BY adm1, bound1 ORDER BY plantation_extent DESC\")\n",
    "\n",
    "properties = {\"sql\": sql}\n",
    "r = requests.get(url, params = properties)\n",
    "print(r.url)\n",
    "print(f'Status: {r.status_code}')\n",
    "plantations_areas = r.json().get('data')\n",
    "plantations_areas[0:3]"
   ]
  },
  {
   "cell_type": "code",
   "execution_count": 6,
   "metadata": {
    "collapsed": true
   },
   "outputs": [],
   "source": [
    "#Formats data into a usable json object\n",
    "def format_plantations_data(plantations_areas, extent_total, adm0, adm1=None, p_type='species'):\n",
    "    if adm1:\n",
    "        # Find out the unique list of regions in the returned array\n",
    "        unique_regions = []\n",
    "        for row in plantations_areas:\n",
    "            #print(row)\n",
    "            tmp_region = row.get('adm2', None)\n",
    "            if tmp_region not in unique_regions:\n",
    "                unique_regions.append(tmp_region)\n",
    "\n",
    "        # Loop over that list of regions\n",
    "        plantations_json = []\n",
    "        for region in unique_regions:\n",
    "            tmp_p = 0\n",
    "            # gather all yearly data from the loss json object\n",
    "            for row in plantations_areas:\n",
    "                tmp_region = row.get('adm2', None)\n",
    "                if tmp_region == region:\n",
    "                    tmp_p += row.get('plantation_extent', 0)\n",
    "            #get extent\n",
    "            tmp_t=0\n",
    "            for row in extent_total:\n",
    "                if row.get('region') == region:\n",
    "                    tmp_t = row.get('extent')\n",
    "                    break\n",
    "            # gather extent data from the extent json object\n",
    "            tmp_data = []\n",
    "            for row in plantations_areas:\n",
    "                if row.get('adm2') == region: \n",
    "                    if p_type == 'type':\n",
    "                        tmp_data.append([row.get('bound1'), row.get('plantation_extent')])\n",
    "                    else:\n",
    "                        tmp_data.append([row.get('bound2'), row.get('plantation_extent')])\n",
    "\n",
    "            plantations_json.append({'region':region,\n",
    "                                     'data': tmp_data,\n",
    "                                     'plantations_total': tmp_p,\n",
    "                                     'perc': 100*tmp_p/tmp_t,\n",
    "                                     'region_total': tmp_t\n",
    "                                    })\n",
    "\n",
    "    elif adm0:\n",
    "\n",
    "        # Find out the unique list of regions in the returned array\n",
    "        unique_regions = []\n",
    "        for row in plantations_areas:\n",
    "            #print(row)\n",
    "            tmp_region = row.get('adm1', None)\n",
    "            if tmp_region not in unique_regions:\n",
    "                unique_regions.append(tmp_region)\n",
    "\n",
    "        # Loop over that list of regions\n",
    "        plantations_json = []\n",
    "        for region in unique_regions:\n",
    "            tmp_p = 0\n",
    "            # gather all yearly data from the loss json object\n",
    "            for row in plantations_areas:\n",
    "                tmp_region = row.get('adm1', None)\n",
    "                if tmp_region == region:\n",
    "                    tmp_p += row.get('plantation_extent', 0)\n",
    "            #get extent\n",
    "            tmp_t=0\n",
    "            for row in extent_total:\n",
    "                if row.get('region') == region:\n",
    "                    tmp_t = row.get('extent')\n",
    "                    break\n",
    "            # gather extent data from the extent json object\n",
    "            tmp_data = []\n",
    "            for row in plantations_areas:\n",
    "                if row.get('adm1') == region: \n",
    "                    if p_type == 'type':\n",
    "                        tmp_data.append([row.get('bound1'), row.get('plantation_extent')])\n",
    "                    else:\n",
    "                        tmp_data.append([row.get('bound2'), row.get('plantation_extent')])\n",
    "\n",
    "            plantations_json.append({'region':region,\n",
    "                                     'data': tmp_data,\n",
    "                                     'plantations_total': tmp_p,\n",
    "                                     'perc': 100*tmp_p/tmp_t,\n",
    "                                     'region_total': tmp_t\n",
    "                                    })\n",
    "\n",
    "    return plantations_json\n"
   ]
  },
  {
   "cell_type": "code",
   "execution_count": 7,
   "metadata": {
    "collapsed": true
   },
   "outputs": [],
   "source": [
    "plantations_json = format_plantations_data(plantations_areas, extent_total, adm0, adm1, 'type')"
   ]
  },
  {
   "cell_type": "code",
   "execution_count": 8,
   "metadata": {},
   "outputs": [
    {
     "data": {
      "text/plain": [
       "{'data': [['Large industrial plantation', 895171.1094231904],\n",
       "  ['Clearing/ very young plantation', 22645.54149529338]],\n",
       " 'perc': 13.018225543693056,\n",
       " 'plantations_total': 917816.6509184837,\n",
       " 'region': 25,\n",
       " 'region_total': 7050243.8895225525}"
      ]
     },
     "execution_count": 8,
     "metadata": {},
     "output_type": "execute_result"
    }
   ],
   "source": [
    "#Sort regions by % area of plantations (DESC)\n",
    "\n",
    "sorted_list1 = sorted(plantations_json, key=lambda k: k['perc'], reverse=True) \n",
    "sorted_list1[0]"
   ]
  },
  {
   "cell_type": "code",
   "execution_count": 9,
   "metadata": {
    "collapsed": true
   },
   "outputs": [],
   "source": [
    "#Collects data in a presentable way.\n",
    "#The following code collects data into the correct groups so that a stacked bar can be implemented\n",
    "# For each adm region this collects the extents by type and calaculates its percentage relative to \n",
    "# total plantation extent\n",
    "lip = []\n",
    "vyp = []\n",
    "ssp = []\n",
    "msp = []\n",
    "region = []\n",
    "\n",
    "#We want the top 5 regions by plantation cover relative to total extent\n",
    "max_num = 5\n",
    "\n",
    "\n",
    "for i in range(0,max_num):\n",
    "    \n",
    "    length = len(sorted_list1[i].get('data'))\n",
    "    region.append(str(sorted_list1[i].get('region')))\n",
    "    flag = 0\n",
    "    \n",
    "    for j in range(0,length):\n",
    "        \n",
    "        if sorted_list1[i].get('data')[j][0] =='Large industrial plantation':\n",
    "            lip.append(100 * sorted_list1[i].get('data')[j][1] / sorted_list1[i].get('plantations_total'))\n",
    "            break\n",
    "        elif flag == length-1:\n",
    "            lip.append(0)\n",
    "        else:\n",
    "            flag += 1\n",
    "    flag = 0\n",
    "    for j in range(0,length):\n",
    "        \n",
    "        if sorted_list1[i].get('data')[j][0] =='Clearing/ very young plantation':\n",
    "            vyp.append(100 * sorted_list1[i].get('data')[j][1] / sorted_list1[i].get('plantations_total'))\n",
    "            break\n",
    "        elif flag == length-1:\n",
    "            vyp.append(0)\n",
    "        else:\n",
    "            flag += 1\n",
    "    flag = 0        \n",
    "    for j in range(0,length):\n",
    "        \n",
    "        if sorted_list1[i].get('data')[j][0] =='Mosaic of small-sized plantations':\n",
    "            ssp.append(100 * sorted_list1[i].get('data')[j][1] / sorted_list1[i].get('plantations_total'))\n",
    "            break\n",
    "        elif flag == length-1:\n",
    "            ssp.append(0)\n",
    "        else:\n",
    "            flag += 1\n",
    "    flag = 0\n",
    "    for j in range(0,length):\n",
    "        \n",
    "        if sorted_list1[i].get('data')[j][0] =='Mosaic of medium-sized plantations':\n",
    "            msp.append(100 * sorted_list1[i].get('data')[j][1] / sorted_list1[i].get('plantations_total'))\n",
    "            break\n",
    "        elif flag == length-1:\n",
    "            msp.append(0)\n",
    "        else:\n",
    "            flag += 1\n",
    "            "
   ]
  },
  {
   "cell_type": "code",
   "execution_count": 10,
   "metadata": {
    "collapsed": true
   },
   "outputs": [],
   "source": [
    "#create a json of data\n",
    "d1 = {\n",
    "    'Large industrial plantation': lip,\n",
    "    'Clearing/ very young plantation': vyp,\n",
    "    'Mosaic of small-sized plantations': ssp,\n",
    "    'Mosaic of medium-sized plantations': msp\n",
    "    \n",
    "}"
   ]
  },
  {
   "cell_type": "markdown",
   "metadata": {},
   "source": [
    "### Horz. Stacked Bars Details\n",
    "\n",
    "The chart below shows the top 5 subregions ranked by extent found in plantation relative to the subregion's total area (extent of plantations / total area). We may also want to give users the ability to rank by gross extent instead (i.e. ha)\n",
    "\n",
    "Each bar is broken down into what percentage of plantation extent is found in each of the 4 types. Since this is a percentage, all bars are the same length. "
   ]
  },
  {
   "cell_type": "code",
   "execution_count": 11,
   "metadata": {},
   "outputs": [
    {
     "data": {
      "text/html": [
       "<div>\n",
       "<style>\n",
       "    .dataframe thead tr:only-child th {\n",
       "        text-align: right;\n",
       "    }\n",
       "\n",
       "    .dataframe thead th {\n",
       "        text-align: left;\n",
       "    }\n",
       "\n",
       "    .dataframe tbody tr th {\n",
       "        vertical-align: top;\n",
       "    }\n",
       "</style>\n",
       "<table border=\"1\" class=\"dataframe\">\n",
       "  <thead>\n",
       "    <tr style=\"text-align: right;\">\n",
       "      <th></th>\n",
       "      <th>Clearing/ very young plantation</th>\n",
       "      <th>Large industrial plantation</th>\n",
       "      <th>Mosaic of medium-sized plantations</th>\n",
       "      <th>Mosaic of small-sized plantations</th>\n",
       "    </tr>\n",
       "  </thead>\n",
       "  <tbody>\n",
       "    <tr>\n",
       "      <th>0</th>\n",
       "      <td>2.467327</td>\n",
       "      <td>97.532673</td>\n",
       "      <td>0</td>\n",
       "      <td>0</td>\n",
       "    </tr>\n",
       "    <tr>\n",
       "      <th>1</th>\n",
       "      <td>7.332298</td>\n",
       "      <td>92.667702</td>\n",
       "      <td>0</td>\n",
       "      <td>0</td>\n",
       "    </tr>\n",
       "    <tr>\n",
       "      <th>2</th>\n",
       "      <td>6.973439</td>\n",
       "      <td>93.026561</td>\n",
       "      <td>0</td>\n",
       "      <td>0</td>\n",
       "    </tr>\n",
       "    <tr>\n",
       "      <th>3</th>\n",
       "      <td>13.693243</td>\n",
       "      <td>86.306757</td>\n",
       "      <td>0</td>\n",
       "      <td>0</td>\n",
       "    </tr>\n",
       "    <tr>\n",
       "      <th>4</th>\n",
       "      <td>3.530766</td>\n",
       "      <td>96.469234</td>\n",
       "      <td>0</td>\n",
       "      <td>0</td>\n",
       "    </tr>\n",
       "  </tbody>\n",
       "</table>\n",
       "</div>"
      ],
      "text/plain": [
       "   Clearing/ very young plantation  Large industrial plantation  \\\n",
       "0                         2.467327                    97.532673   \n",
       "1                         7.332298                    92.667702   \n",
       "2                         6.973439                    93.026561   \n",
       "3                        13.693243                    86.306757   \n",
       "4                         3.530766                    96.469234   \n",
       "\n",
       "   Mosaic of medium-sized plantations  Mosaic of small-sized plantations  \n",
       "0                                   0                                  0  \n",
       "1                                   0                                  0  \n",
       "2                                   0                                  0  \n",
       "3                                   0                                  0  \n",
       "4                                   0                                  0  "
      ]
     },
     "execution_count": 11,
     "metadata": {},
     "output_type": "execute_result"
    }
   ],
   "source": [
    "#create dataframe to visualise using pandas\n",
    "df1 = pd.DataFrame(data=d1)\n",
    "df1"
   ]
  },
  {
   "cell_type": "code",
   "execution_count": 12,
   "metadata": {},
   "outputs": [
    {
     "data": {
      "text/plain": [
       "<matplotlib.axes._subplots.AxesSubplot at 0x107eb7278>"
      ]
     },
     "execution_count": 12,
     "metadata": {},
     "output_type": "execute_result"
    },
    {
     "data": {
      "image/png": "[encoded data removed]",
      "text/plain": [
       "<matplotlib.figure.Figure at 0x10875b160>"
      ]
     },
     "metadata": {},
     "output_type": "display_data"
    }
   ],
   "source": [
    "df1.plot.barh(stacked=True,figsize=(10,10),legend=True)"
   ]
  },
  {
   "cell_type": "code",
   "execution_count": 13,
   "metadata": {
    "collapsed": true
   },
   "outputs": [],
   "source": [
    "# get admin 1 or 2 level human-readable name info as needed:\n",
    "adm1_to_name = None\n",
    "adm2_to_name = None\n",
    "\n",
    "if adm1:\n",
    "    \n",
    "    tmp = get_admin2_json(iso=adm0, adm1=adm1)\n",
    "    adm2_to_name ={}\n",
    "    for row in tmp:\n",
    "        adm2_to_name[row.get('adm2')] = row.get('name')\n",
    "\n",
    "tmp = get_admin1_json(iso=adm0)\n",
    "adm1_to_name={}\n",
    "for row in tmp:\n",
    "    adm1_to_name[row.get('adm1')] = row.get('name') "
   ]
  },
  {
   "cell_type": "code",
   "execution_count": 14,
   "metadata": {},
   "outputs": [
    {
     "name": "stdout",
     "output_type": "stream",
     "text": [
      "Santa Catarina (2000) has the largest relative tree cover due to plantations (13.0%) in Brazil, most of which is large industrial plantations where tree canopy is greater than 0%."
     ]
    }
   ],
   "source": [
    "#Dynamic sentence (easier to use sorted_list1)\n",
    "\n",
    "if adm1:\n",
    "    print(f\"{adm2_to_name[sorted_list1[0].get('region')]} ({extent_year}) has the largest \", end=\"\")\n",
    "    print(f\"relative tree cover due to plantations ({sorted_list1[0].get('perc'):.1f}%) \", end=\"\")\n",
    "    print(f\"in {adm1_to_name[adm1]} ({extent_year}), \", end=\"\")\n",
    "elif adm0: \n",
    "    print(f\"{adm1_to_name[sorted_list1[0].get('region')]} ({extent_year}) has the largest \", end=\"\")\n",
    "    print(f\"relative tree cover due to plantations ({sorted_list1[0].get('perc'):.1f}%) \", end=\"\")\n",
    "    print(f\"in {iso_to_countries[adm0]}, \", end=\"\")\n",
    "\n",
    "\n",
    "print(f\"most of which is {plantation_type_dict[sorted_list1[0].get('data')[0][0]]} plantations \", end=\"\")\n",
    "print(f\"where tree canopy is greater than {thresh}%.\", end=\"\")"
   ]
  },
  {
   "cell_type": "markdown",
   "metadata": {},
   "source": [
    "## Ranked Plantations Stacked Barchart (by species)\n",
    "\n",
    "Displays the Top 5 sub-regions ranked by the % of plantation cover relative to total area, containing tree plantations in a horizontal bar chart. Each bar is broken into the sub-categories (type or species).\n",
    "\n",
    "Each bar is made up of 4 subcategories that should add to 100%.\n",
    "\n",
    "Subcategory % calculated by dividing the extent by the total extent of plantations in the region"
   ]
  },
  {
   "cell_type": "code",
   "execution_count": 15,
   "metadata": {
    "collapsed": true
   },
   "outputs": [],
   "source": [
    "# VARIABLES\n",
    "\n",
    "thresh = 0               # 0,10,15,20,25,30,50,75,100 \n",
    "adm0 = 'BRA'\n",
    "adm1 = None          \n",
    "adm2 = None            \n",
    "\n",
    "extent_year = 2000        #2000 or 2010\n",
    "\n",
    "tags = [\"land_cover\", \"land_use\"]\n",
    "selectable_polynames = ['gadm28', 'plantations']"
   ]
  },
  {
   "cell_type": "code",
   "execution_count": 16,
   "metadata": {},
   "outputs": [
    {
     "name": "stdout",
     "output_type": "stream",
     "text": [
      "Request for adm1 areas\n",
      "https://production-api.globalforestwatch.org/v1/query/499682b1-3174-493f-ba1a-368b4636708e?sql=SELECT+adm1+as+region%2C+sum%28area_extent_2000%29+as+extent%2C+sum%28area_gadm28%29+as+total+FROM+499682b1-3174-493f-ba1a-368b4636708e+WHERE+iso+%3D+%27BRA%27+AND+thresh+%3D+0+AND+polyname+%3D+%27gadm28%27+GROUP+BY+adm1+ORDER+BY+adm1\n",
      "Status: 200\n"
     ]
    },
    {
     "data": {
      "text/plain": [
       "[{'extent': 14502759.1015625, 'region': 1, 'total': 15273286.984375},\n",
       " {'extent': 800115.4713287354, 'region': 2, 'total': 2775822.3068847656},\n",
       " {'extent': 12382432.1640625, 'region': 3, 'total': 14221825.859375}]"
      ]
     },
     "execution_count": 16,
     "metadata": {},
     "output_type": "execute_result"
    }
   ],
   "source": [
    "# Get the total extent of each region\n",
    "url = f\"https://production-api.globalforestwatch.org/v1/query/{ds}\"\n",
    "\n",
    "sql = multiregion_extent_queries(adm0=adm0, adm1=adm1, p_name='gadm28',\n",
    "                                 year=extent_year_dict[extent_year], threshold=thresh)\n",
    "\n",
    "properties = {\"sql\": sql}\n",
    "r = requests.get(url, params = properties)\n",
    "print(r.url)\n",
    "print(f'Status: {r.status_code}')\n",
    "extent_total = r.json().get('data')\n",
    "extent_total[0:3]"
   ]
  },
  {
   "cell_type": "code",
   "execution_count": 17,
   "metadata": {},
   "outputs": [
    {
     "name": "stdout",
     "output_type": "stream",
     "text": [
      "https://production-api.globalforestwatch.org/v1/query/499682b1-3174-493f-ba1a-368b4636708e?sql=SELECT+SUM%28area_extent_2000%29+AS+plantation_extent+FROM+499682b1-3174-493f-ba1a-368b4636708e+WHERE+iso+%3D+%27BRA%27+AND+thresh+%3D+0+AND+polyname+%3D+%27plantations%27+GROUP+BY+adm1%2C+bound2+ORDER+BY+plantation_extent+DESC\n",
      "Status: 200\n"
     ]
    },
    {
     "data": {
      "text/plain": [
       "[{'adm1': 13,\n",
       "  'bound2': 'Wood fiber / timber',\n",
       "  'plantation_extent': 866630.5609202683},\n",
       " {'adm1': 13,\n",
       "  'bound2': 'Recently cleared',\n",
       "  'plantation_extent': 134288.48072965443},\n",
       " {'adm1': 13, 'bound2': 'Fruit', 'plantation_extent': 12757.236675739288}]"
      ]
     },
     "execution_count": 17,
     "metadata": {},
     "output_type": "execute_result"
    }
   ],
   "source": [
    "# Gets plantation areas by species, for each subregion\n",
    "url = f\"https://production-api.globalforestwatch.org/v1/query/{ds}\"\n",
    "\n",
    "sql = (f\"SELECT SUM({extent_year_dict[extent_year]}) AS plantation_extent FROM {ds} WHERE iso = 'BRA' \"\n",
    "       f\"AND thresh = 0 AND polyname = 'plantations' \"\n",
    "       f\"GROUP BY adm1, bound2 ORDER BY plantation_extent DESC\")\n",
    "\n",
    "properties = {\"sql\": sql}\n",
    "r = requests.get(url, params = properties)\n",
    "print(r.url)\n",
    "print(f'Status: {r.status_code}')\n",
    "plantations_areas = r.json().get('data')\n",
    "plantations_areas[0:3]"
   ]
  },
  {
   "cell_type": "code",
   "execution_count": 18,
   "metadata": {
    "collapsed": true
   },
   "outputs": [],
   "source": [
    "#apply function to create json\n",
    "plantations_json = format_plantations_data(plantations_areas, extent_total, adm0, adm1, 'species')"
   ]
  },
  {
   "cell_type": "code",
   "execution_count": 19,
   "metadata": {},
   "outputs": [
    {
     "data": {
      "text/plain": [
       "{'data': [['Wood fiber / timber', 895171.1094231904],\n",
       "  ['Recently cleared', 22645.54149529338]],\n",
       " 'perc': 13.018225543693056,\n",
       " 'plantations_total': 917816.6509184837,\n",
       " 'region': 25,\n",
       " 'region_total': 7050243.8895225525}"
      ]
     },
     "execution_count": 19,
     "metadata": {},
     "output_type": "execute_result"
    }
   ],
   "source": [
    "#Sort regions by % area of plantations (DESC)\n",
    "\n",
    "sorted_list = sorted(plantations_json, key=lambda k: k['perc'], reverse=True) \n",
    "sorted_list[0]"
   ]
  },
  {
   "cell_type": "code",
   "execution_count": 20,
   "metadata": {
    "collapsed": true
   },
   "outputs": [],
   "source": [
    "#The following code collects data into the correct groups so that a stacked bar can be implemented\n",
    "# For each adm region this collects the extents by type and calaculates its percentage relative to \n",
    "# total plantation extent\n",
    "\n",
    "wft = []\n",
    "wfm = []\n",
    "rc = []\n",
    "unk = []\n",
    "frt = []\n",
    "frm = []\n",
    "opt = []\n",
    "oth = []\n",
    "otm = []\n",
    "rub = []\n",
    "\n",
    "region = []\n",
    "#we only want the top X to be displayed\n",
    "max_num = 5\n",
    "\n",
    "\n",
    "for i in range(0,max_num):\n",
    "    \n",
    "    length = len(sorted_list[i].get('data'))\n",
    "    region.append(str(sorted_list[i].get('region')))\n",
    "    flag = 0\n",
    "    \n",
    "    for j in range(0,length):\n",
    "        \n",
    "        if sorted_list[i].get('data')[j][0] =='Wood fiber / timber':\n",
    "            wft.append(100 * sorted_list[i].get('data')[j][1] / sorted_list[i].get('plantations_total'))\n",
    "            break\n",
    "        elif flag == length-1:\n",
    "            wft.append(0)\n",
    "        else:\n",
    "            flag += 1\n",
    "    flag = 0\n",
    "    for j in range(0,length):\n",
    "        \n",
    "        if sorted_list[i].get('data')[j][0] =='Wood fiber / timber mix':\n",
    "            wfm.append(100 * sorted_list[i].get('data')[j][1] / sorted_list[i].get('plantations_total'))\n",
    "            break\n",
    "        elif flag == length-1:\n",
    "            wfm.append(0)\n",
    "        else:\n",
    "            flag += 1\n",
    "    flag = 0        \n",
    "    for j in range(0,length):\n",
    "        \n",
    "        if sorted_list[i].get('data')[j][0] =='Recently cleared':\n",
    "            rc.append(100 * sorted_list[i].get('data')[j][1] / sorted_list[i].get('plantations_total'))\n",
    "            break\n",
    "        elif flag == length-1:\n",
    "            rc.append(0)\n",
    "        else:\n",
    "            flag += 1\n",
    "    flag = 0\n",
    "    for j in range(0,length):\n",
    "        \n",
    "        if sorted_list[i].get('data')[j][0] =='Unknown':\n",
    "            unk.append(100 * sorted_list[i].get('data')[j][1] / sorted_list[i].get('plantations_total'))\n",
    "            break\n",
    "        elif flag == length-1:\n",
    "            unk.append(0)\n",
    "        else:\n",
    "            flag += 1\n",
    "    flag = 0        \n",
    "    for j in range(0,length):\n",
    "        \n",
    "        if sorted_list[i].get('data')[j][0] =='Fruit':\n",
    "            frt.append(100 * sorted_list[i].get('data')[j][1] / sorted_list[i].get('plantations_total'))\n",
    "            break\n",
    "        elif flag == length-1:\n",
    "            frt.append(0)\n",
    "        else:\n",
    "            flag += 1\n",
    "    flag = 0\n",
    "    for j in range(0,length):\n",
    "        \n",
    "        if sorted_list[i].get('data')[j][0] =='Fruit mix':\n",
    "            frm.append(100 * sorted_list[i].get('data')[j][1] / sorted_list[i].get('plantations_total'))\n",
    "            break\n",
    "        elif flag == length-1:\n",
    "            frm.append(0)\n",
    "        else:\n",
    "            flag += 1\n",
    "    flag = 0        \n",
    "    for j in range(0,length):\n",
    "        \n",
    "        if sorted_list[i].get('data')[j][0] =='Oil palm':\n",
    "            opt.append(100 * sorted_list[i].get('data')[j][1] / sorted_list[i].get('plantations_total'))\n",
    "            break\n",
    "        elif flag == length-1:\n",
    "            opt.append(0)\n",
    "        else:\n",
    "            flag += 1\n",
    "    flag = 0\n",
    "    for j in range(0,length):\n",
    "        \n",
    "        if sorted_list[i].get('data')[j][0] =='Other mix':\n",
    "            otm.append(100 * sorted_list[i].get('data')[j][1] / sorted_list[i].get('plantations_total'))\n",
    "            break\n",
    "        elif flag == length-1:\n",
    "            otm.append(0)\n",
    "        else:\n",
    "            flag += 1\n",
    "    flag = 0\n",
    "    for j in range(0,length):\n",
    "        \n",
    "        if sorted_list[i].get('data')[j][0] =='Other':\n",
    "            oth.append(100 * sorted_list[i].get('data')[j][1] / sorted_list[i].get('plantations_total'))\n",
    "            break\n",
    "        elif flag == length-1:\n",
    "            oth.append(0)\n",
    "        else:\n",
    "            flag += 1\n",
    "    flag = 0\n",
    "    for j in range(0,length):\n",
    "        \n",
    "        if sorted_list[i].get('data')[j][0] =='Rubber':\n",
    "            rub.append(100 * sorted_list[i].get('data')[j][1] / sorted_list[i].get('plantations_total'))\n",
    "            break\n",
    "        elif flag == length-1:\n",
    "            rub.append(0)\n",
    "        else:\n",
    "            flag += 1\n",
    "            "
   ]
  },
  {
   "cell_type": "code",
   "execution_count": 21,
   "metadata": {
    "collapsed": true
   },
   "outputs": [],
   "source": [
    "#Prepare data to be visualised with pandas\n",
    "d = {\n",
    "    'Wood Fiber and Timber': wft,\n",
    "    'Wood Fibre and Timber mix': wfm,\n",
    "    'Recently Cleared': rc,\n",
    "    'Unknown': unk,\n",
    "    'Fruit Trees': frt,\n",
    "    'Fruit Tree mix': frm,\n",
    "    'Oil Palm': opt,\n",
    "    'Other mix': otm,\n",
    "    'Other': oth,\n",
    "    'Rubber Trees': rub\n",
    "    \n",
    "}"
   ]
  },
  {
   "cell_type": "code",
   "execution_count": 22,
   "metadata": {},
   "outputs": [
    {
     "data": {
      "text/html": [
       "<div>\n",
       "<style>\n",
       "    .dataframe thead tr:only-child th {\n",
       "        text-align: right;\n",
       "    }\n",
       "\n",
       "    .dataframe thead th {\n",
       "        text-align: left;\n",
       "    }\n",
       "\n",
       "    .dataframe tbody tr th {\n",
       "        vertical-align: top;\n",
       "    }\n",
       "</style>\n",
       "<table border=\"1\" class=\"dataframe\">\n",
       "  <thead>\n",
       "    <tr style=\"text-align: right;\">\n",
       "      <th></th>\n",
       "      <th>Fruit Tree mix</th>\n",
       "      <th>Fruit Trees</th>\n",
       "      <th>Oil Palm</th>\n",
       "      <th>Other</th>\n",
       "      <th>Other mix</th>\n",
       "      <th>Recently Cleared</th>\n",
       "      <th>Rubber Trees</th>\n",
       "      <th>Unknown</th>\n",
       "      <th>Wood Fiber and Timber</th>\n",
       "      <th>Wood Fibre and Timber mix</th>\n",
       "    </tr>\n",
       "  </thead>\n",
       "  <tbody>\n",
       "    <tr>\n",
       "      <th>0</th>\n",
       "      <td>0</td>\n",
       "      <td>0.000000</td>\n",
       "      <td>0</td>\n",
       "      <td>0</td>\n",
       "      <td>0.000000</td>\n",
       "      <td>2.467327</td>\n",
       "      <td>0.000000</td>\n",
       "      <td>0.000000</td>\n",
       "      <td>97.532673</td>\n",
       "      <td>0</td>\n",
       "    </tr>\n",
       "    <tr>\n",
       "      <th>1</th>\n",
       "      <td>0</td>\n",
       "      <td>0.068368</td>\n",
       "      <td>0</td>\n",
       "      <td>0</td>\n",
       "      <td>0.000000</td>\n",
       "      <td>7.332298</td>\n",
       "      <td>0.000000</td>\n",
       "      <td>0.146110</td>\n",
       "      <td>92.453224</td>\n",
       "      <td>0</td>\n",
       "    </tr>\n",
       "    <tr>\n",
       "      <th>2</th>\n",
       "      <td>0</td>\n",
       "      <td>0.579796</td>\n",
       "      <td>0</td>\n",
       "      <td>0</td>\n",
       "      <td>6.746915</td>\n",
       "      <td>6.973439</td>\n",
       "      <td>1.498479</td>\n",
       "      <td>0.041432</td>\n",
       "      <td>84.159938</td>\n",
       "      <td>0</td>\n",
       "    </tr>\n",
       "    <tr>\n",
       "      <th>3</th>\n",
       "      <td>0</td>\n",
       "      <td>0.000000</td>\n",
       "      <td>0</td>\n",
       "      <td>0</td>\n",
       "      <td>0.000000</td>\n",
       "      <td>13.693243</td>\n",
       "      <td>0.000000</td>\n",
       "      <td>0.000000</td>\n",
       "      <td>86.306757</td>\n",
       "      <td>0</td>\n",
       "    </tr>\n",
       "    <tr>\n",
       "      <th>4</th>\n",
       "      <td>0</td>\n",
       "      <td>0.000000</td>\n",
       "      <td>0</td>\n",
       "      <td>0</td>\n",
       "      <td>0.000000</td>\n",
       "      <td>3.530766</td>\n",
       "      <td>0.000000</td>\n",
       "      <td>0.184963</td>\n",
       "      <td>96.284270</td>\n",
       "      <td>0</td>\n",
       "    </tr>\n",
       "  </tbody>\n",
       "</table>\n",
       "</div>"
      ],
      "text/plain": [
       "   Fruit Tree mix  Fruit Trees  Oil Palm  Other  Other mix  Recently Cleared  \\\n",
       "0               0     0.000000         0      0   0.000000          2.467327   \n",
       "1               0     0.068368         0      0   0.000000          7.332298   \n",
       "2               0     0.579796         0      0   6.746915          6.973439   \n",
       "3               0     0.000000         0      0   0.000000         13.693243   \n",
       "4               0     0.000000         0      0   0.000000          3.530766   \n",
       "\n",
       "   Rubber Trees   Unknown  Wood Fiber and Timber  Wood Fibre and Timber mix  \n",
       "0      0.000000  0.000000              97.532673                          0  \n",
       "1      0.000000  0.146110              92.453224                          0  \n",
       "2      1.498479  0.041432              84.159938                          0  \n",
       "3      0.000000  0.000000              86.306757                          0  \n",
       "4      0.000000  0.184963              96.284270                          0  "
      ]
     },
     "execution_count": 22,
     "metadata": {},
     "output_type": "execute_result"
    }
   ],
   "source": [
    "#Creates dataframe to visualise data\n",
    "df = pd.DataFrame(data=d)\n",
    "df"
   ]
  },
  {
   "cell_type": "markdown",
   "metadata": {},
   "source": [
    "### Horz. Stacked Bars Details\n",
    "\n",
    "The chart below shows the top 5 subregions ranked by extent found in plantation relative to the subregion's total area (extent of plantations / total area). We may also want to give users the ability to rank by gross extent instead (i.e. ha)\n",
    "\n",
    "Each bar is broken down into what percentage of plantation extent is found in each of the species. Since this is a percentage, all bars are the same length. "
   ]
  },
  {
   "cell_type": "code",
   "execution_count": 23,
   "metadata": {},
   "outputs": [
    {
     "data": {
      "text/plain": [
       "<matplotlib.axes._subplots.AxesSubplot at 0x1072b41d0>"
      ]
     },
     "execution_count": 23,
     "metadata": {},
     "output_type": "execute_result"
    },
    {
     "data": {
      "image/png": "[encoded data removed]",
      "text/plain": [
       "<matplotlib.figure.Figure at 0x1088b1d68>"
      ]
     },
     "metadata": {},
     "output_type": "display_data"
    }
   ],
   "source": [
    "df.plot.barh(stacked=True,figsize=(10,10),legend=True)"
   ]
  },
  {
   "cell_type": "code",
   "execution_count": 24,
   "metadata": {
    "collapsed": true
   },
   "outputs": [],
   "source": [
    "# get admin 1 or 2 level human-readable name info as needed:\n",
    "adm1_to_name = None\n",
    "adm2_to_name = None\n",
    "\n",
    "if adm1:\n",
    "    \n",
    "    tmp = get_admin2_json(iso=adm0, adm1=adm1)\n",
    "    adm2_to_name ={}\n",
    "    for row in tmp:\n",
    "        adm2_to_name[row.get('adm2')] = row.get('name')\n",
    "\n",
    "tmp = get_admin1_json(iso=adm0)\n",
    "adm1_to_name={}\n",
    "for row in tmp:\n",
    "    adm1_to_name[row.get('adm1')] = row.get('name') "
   ]
  },
  {
   "cell_type": "code",
   "execution_count": 33,
   "metadata": {},
   "outputs": [
    {
     "name": "stdout",
     "output_type": "stream",
     "text": [
      "Within Brazil, Santa Catarina has the largest relative area of plantation tree cover in 2000 at 13.0%, where tree canopy is greater than 0%. The majority of this area is used for wood fiber and timber "
     ]
    }
   ],
   "source": [
    "#Dynamic sentence (easier to use sorted list)\n",
    "\n",
    "if adm1:\n",
    "    print(f\"Within {adm1_to_name[adm1]}, {adm2_to_name[sorted_list[0].get('region')]} has the largest \", end=\"\")\n",
    "    print(f\"relative area of plantation tree cover extent in {extent_year} \", end=\"\")\n",
    "    print(f\"at {sorted_list[0].get('perc'):.1f}%, \", end=\"\")\n",
    "elif adm0: \n",
    "    print(f\"Within {iso_to_countries[adm0]}, {adm1_to_name[sorted_list[0].get('region')]} has the largest \", end=\"\")\n",
    "    print(f\"relative area of plantation tree cover in {extent_year} \", end=\"\")\n",
    "    print(f\"at {sorted_list[0].get('perc'):.1f}%, \", end=\"\")\n",
    "\n",
    "print(f\"where tree canopy is greater than {thresh}%. \", end=\"\")\n",
    "print(f\"The majority of this area is used for {plantation_species_dict[sorted_list[0].get('data')[0][0]]} \", end=\"\")\n"
   ]
  },
  {
   "cell_type": "code",
   "execution_count": null,
   "metadata": {
    "collapsed": true
   },
   "outputs": [],
   "source": []
  }
 ],
 "metadata": {
  "anaconda-cloud": {},
  "kernelspec": {
   "display_name": "Python 3",
   "language": "python",
   "name": "python3"
  },
  "language_info": {
   "codemirror_mode": {
    "name": "ipython",
    "version": 3
   },
   "file_extension": ".py",
   "mimetype": "text/x-python",
   "name": "python",
   "nbconvert_exporter": "python",
   "pygments_lexer": "ipython3",
   "version": "3.6.2"
  },
  "toc": {
   "nav_menu": {},
   "number_sections": true,
   "sideBar": true,
   "skip_h1_title": false,
   "toc_cell": false,
   "toc_position": {},
   "toc_section_display": "block",
   "toc_window_display": false
  }
 },
 "nbformat": 4,
 "nbformat_minor": 2
}
