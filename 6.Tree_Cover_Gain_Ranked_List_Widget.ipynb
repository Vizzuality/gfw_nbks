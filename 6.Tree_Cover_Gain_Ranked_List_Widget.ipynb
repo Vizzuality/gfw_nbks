{
 "cells": [
  {
   "cell_type": "markdown",
   "metadata": {
    "ExecuteTime": {
     "end_time": "2017-11-28T09:26:01.827563Z",
     "start_time": "2017-11-28T09:26:01.820034Z"
    }
   },
   "source": [
    "<a id='s7'></a>\n",
    "# Tree Cover gain widget and Ranked List\n",
    "\n",
    "1. Widgets made from a dynamic sentence\n",
    "2. User Variables (admin0 to admin1 and location)\n",
    "\n",
    "** LOCATION Area Selectors **\n",
    "\n",
    "    - All region\n",
    "    - Biodiversity Hotspots\n",
    "    - Protected Areas\n",
    "    - Plantations\n",
    "    - Managed Forests\n",
    "    - Primary Forests\n",
    "    - Intact Forests (2000/2013)\n",
    "\n",
    "** Notes **\n",
    "\n",
    "- AOI (area of interest) is the gadm region (admin0-2)\n",
    "- location is the subset of that (i.e protected areas)\n",
    "- Threshold is not a variable in this widget (it should be hardcoded in the queries and must be set to `thresh = 0`)"
   ]
  },
  {
   "cell_type": "code",
   "execution_count": 1,
   "metadata": {
    "ExecuteTime": {
     "end_time": "2017-12-18T15:11:17.673011Z",
     "start_time": "2017-12-18T15:11:16.497985Z"
    }
   },
   "outputs": [],
   "source": [
    "#Import Global Metadata etc\n",
    "\n",
    "%run '0.Importable_Globals.ipynb'"
   ]
  },
  {
   "cell_type": "code",
   "execution_count": 15,
   "metadata": {
    "ExecuteTime": {
     "end_time": "2017-12-18T17:04:08.912959Z",
     "start_time": "2017-12-18T17:04:08.905433Z"
    }
   },
   "outputs": [],
   "source": [
    "# Variables\n",
    "adm0 = 'BRA'\n",
    "adm1 = 1\n",
    "adm2 = None\n",
    "extent_year = 2000     # extent data 2000 or 2010\n",
    "location = \"All Region\"\n",
    "thresh=75\n",
    "\n",
    "url = f\"https://production-api.globalforestwatch.org/v1/query/{ds}\"\n",
    "\n",
    "\n",
    "tags = [\"forest_change\", \"land_cover\"]\n",
    "selectable_polynames = ['gadm28', 'wdpa', 'primary_forest', 'ifl_2013', 'plantations']"
   ]
  },
  {
   "cell_type": "code",
   "execution_count": 16,
   "metadata": {
    "ExecuteTime": {
     "end_time": "2017-12-18T17:04:09.832161Z",
     "start_time": "2017-12-18T17:04:09.819241Z"
    }
   },
   "outputs": [],
   "source": [
    "# get admin 1 or 2 level human-readable name info as needed:\n",
    "areaId_to_name = None\n",
    "if adm2:\n",
    "    tmp = get_admin2_json(iso=adm0, adm1=adm1)\n",
    "    areaId_to_name ={}\n",
    "    for row in tmp:\n",
    "        areaId_to_name[row.get('adm2')] = row.get('name')\n",
    "if adm1 and not adm2:\n",
    "    tmp = get_admin1_json(iso=adm0)\n",
    "    areaId_to_name={}\n",
    "    for row in tmp:\n",
    "        areaId_to_name[row.get('adm1')] = row.get('name') "
   ]
  },
  {
   "cell_type": "code",
   "execution_count": 17,
   "metadata": {
    "ExecuteTime": {
     "end_time": "2017-12-18T17:04:10.577904Z",
     "start_time": "2017-12-18T17:04:10.562074Z"
    }
   },
   "outputs": [],
   "source": [
    "#GAIN QUERY\n",
    "\n",
    "def gain_query(p_name, adm0, adm1=None, adm2 = None):\n",
    "    \"\"\"Queries for the gain tables. Note, threshold must be hardcoded to 0\n",
    "        and that will not change.\n",
    "    \"\"\"\n",
    "    if adm2:\n",
    "        print('Request for  adm2 area')\n",
    "        sql = (f\"SELECT area_gain as value FROM data WHERE iso = '{adm0}' \"\n",
    "               f\"AND polyname = '{p_name}' \"\n",
    "               f\"AND adm1 = {adm1} AND adm2 = {adm2} AND thresh = 0\") \n",
    "\n",
    "    elif adm1:\n",
    "        print('Request for  adm1 area')\n",
    "        sql = (f\"SELECT SUM(area_gain) as value FROM data WHERE iso = '{adm0}' \"\n",
    "               f\"AND polyname = '{p_name}' \"\n",
    "               f\"AND adm1 = {adm1} AND thresh = 0\")\n",
    "    elif adm0:\n",
    "        print('Request for adm0 area')\n",
    "        sql = (f\"SELECT SUM(area_gain) as value FROM data WHERE iso = '{adm0}' \"\n",
    "               f\"AND polyname = '{p_name}' \"\n",
    "               f\"AND thresh = 0\")\n",
    "    return sql\n"
   ]
  },
  {
   "cell_type": "code",
   "execution_count": 18,
   "metadata": {},
   "outputs": [],
   "source": [
    "def extent_queries(p_name, year, adm0, adm1=None, adm2 = None, threshold=30):\n",
    "    if adm2:\n",
    "        print('Request for adm2 area')\n",
    "        sql = (f\"SELECT SUM({year}) as value, \"\n",
    "               f\"SUM(area_gadm28) as total_area \"\n",
    "               f\"FROM data \"\n",
    "               f\"WHERE iso = '{adm0}' \"\n",
    "               f\"AND adm1 = {adm1} \"\n",
    "               f\"AND adm2 = {adm2} \"\n",
    "               \"AND thresh = {threshold} \"\n",
    "               f\"AND polyname = '{p_name}'\")\n",
    "        return sql\n",
    "    elif adm1:\n",
    "        print('Request for  adm1 area')\n",
    "        sql = (f\"SELECT SUM({year}) as value, \"\n",
    "               f\"SUM(area_gadm28) as total_area \"\n",
    "               f\"FROM data \"\n",
    "               f\"WHERE iso = '{adm0}' \"\n",
    "               f\"AND adm1 = {adm1} \"\n",
    "               f\"AND thresh = {threshold} \"\n",
    "               f\"AND polyname = '{p_name}'\")\n",
    "        return sql\n",
    "    elif adm0:\n",
    "        print('Request for  adm0 area')\n",
    "        sql = (f\"SELECT SUM({year}) as value, \"\n",
    "               f\"SUM(area_gadm28) as total_area \"\n",
    "               f\"FROM data \"\n",
    "               f\"WHERE iso = '{adm0}' \"\n",
    "               f\"AND thresh = {threshold} \"\n",
    "               f\"AND polyname = '{p_name}'\")\n",
    "        return sql"
   ]
  },
  {
   "cell_type": "code",
   "execution_count": 21,
   "metadata": {
    "ExecuteTime": {
     "end_time": "2017-12-18T17:04:11.364718Z",
     "start_time": "2017-12-18T17:04:11.302738Z"
    },
    "scrolled": true
   },
   "outputs": [
    {
     "name": "stdout",
     "output_type": "stream",
     "text": [
      "Request for  adm1 area\n",
      "https://production-api.globalforestwatch.org/v1/query/499682b1-3174-493f-ba1a-368b4636708e?sql=SELECT+SUM%28area_gain%29+as+value+FROM+data+WHERE+iso+%3D+%27BRA%27+AND+polyname+%3D+%27gadm28%27+AND+adm1+%3D+1+AND+thresh+%3D+0\n",
      "{'data': [{'value': 38508.07257080078}],\n",
      " 'meta': {'cloneUrl': {'body': {'dataset': {'application': ['your', 'apps'],\n",
      "                                            'datasetUrl': '/v1/query/499682b1-3174-493f-ba1a-368b4636708e?sql=SELECT%20SUM%28area_gain%29%20as%20value%20FROM%20data%20WHERE%20iso%20%3D%20%27BRA%27%20AND%20polyname%20%3D%20%27gadm28%27%20AND%20adm1%20%3D%201%20AND%20thresh%20%3D%200'}},\n",
      "                       'http_method': 'POST',\n",
      "                       'url': '/v1/dataset/499682b1-3174-493f-ba1a-368b4636708e/clone'}}}\n"
     ]
    }
   ],
   "source": [
    "# gain query\n",
    "sql = gain_query(p_name=polynames[location], adm0=adm0, adm1=adm1, adm2=adm2)\n",
    "r1 = requests.get(url, params = {\"sql\": sql})\n",
    "\n",
    "try:\n",
    "    tree_cover_gain_2010 = r1.json().get('data')[0].get('value')\n",
    "except:\n",
    "    tree_cover_gain_2010 = 0.0\n",
    "    \n",
    "print(r1.url)    \n",
    "pprint(r1.json())\n"
   ]
  },
  {
   "cell_type": "code",
   "execution_count": 22,
   "metadata": {},
   "outputs": [
    {
     "name": "stdout",
     "output_type": "stream",
     "text": [
      "Request for  adm1 area\n",
      "https://production-api.globalforestwatch.org/v1/query/499682b1-3174-493f-ba1a-368b4636708e?sql=SELECT+SUM%28area_extent_2000%29+as+value%2C+SUM%28area_gadm28%29+as+total_area+FROM+data+WHERE+iso+%3D+%27BRA%27+AND+adm1+%3D+1+AND+thresh+%3D+75+AND+polyname+%3D+%27gadm28%27\n",
      "{'data': [{'total_area': 15273286.984375, 'value': 14165459.6640625}],\n",
      " 'meta': {'cloneUrl': {'body': {'dataset': {'application': ['your', 'apps'],\n",
      "                                            'datasetUrl': '/v1/query/499682b1-3174-493f-ba1a-368b4636708e?sql=SELECT%20SUM%28area_extent_2000%29%20as%20value%2C%20SUM%28area_gadm28%29%20as%20total_area%20FROM%20data%20WHERE%20iso%20%3D%20%27BRA%27%20AND%20adm1%20%3D%201%20AND%20thresh%20%3D%2075%20AND%20polyname%20%3D%20%27gadm28%27'}},\n",
      "                       'http_method': 'POST',\n",
      "                       'url': '/v1/dataset/499682b1-3174-493f-ba1a-368b4636708e/clone'}}}\n"
     ]
    }
   ],
   "source": [
    "# Total Extent query\n",
    "sql = extent_queries(p_name=polynames[location], year=extent_year_dict[extent_year],\n",
    "                     adm0=adm0, adm1=adm1, adm2=adm2, threshold=thresh)\n",
    "r2 = requests.get(url, params = {\"sql\": sql})\n",
    "\n",
    "try:\n",
    "    extent_area = r2.json().get('data')[0].get('value')\n",
    "except:\n",
    "    extent_area = 0.0\n",
    "\n",
    "print(r2.url)\n",
    "pprint(r2.json())"
   ]
  },
  {
   "cell_type": "code",
   "execution_count": 23,
   "metadata": {},
   "outputs": [
    {
     "name": "stdout",
     "output_type": "stream",
     "text": [
      "0.27184484996625297\n"
     ]
    }
   ],
   "source": [
    "area_percent = (100 * tree_cover_gain_2010 / extent_area)\n",
    "\n",
    "print(area_percent)"
   ]
  },
  {
   "cell_type": "code",
   "execution_count": 20,
   "metadata": {
    "ExecuteTime": {
     "end_time": "2017-12-18T17:04:14.199024Z",
     "start_time": "2017-12-18T17:04:14.168831Z"
    }
   },
   "outputs": [
    {
     "name": "stdout",
     "output_type": "stream",
     "text": [
      "From 2001 to 2012, Acre gained 14,165,460 ha of tree cover region-wide, equivalent to a 0.27184484996625297% increase relative to 2000 tree cover extent."
     ]
    }
   ],
   "source": [
    "#Dynamic sentence\n",
    "\n",
    "# we may need to modify the way we describe the location to fit gramatically\n",
    "if location == 'All Region':\n",
    "    region_phrase = 'region-wide'\n",
    "else:\n",
    "    region_phrase = 'in ' + location.lower()\n",
    "\n",
    "\n",
    "print(f\"From 2001 to 2012, \", end=\"\")\n",
    "\n",
    "if(not adm1 and not adm2):\n",
    "    print(f\"{iso_to_countries[adm0]} gained {extent_area:,.0f} ha of tree cover \", end=\"\")\n",
    "    print(f\"{region_phrase}, equivalent to a {area_percent}% \",end=\"\")\n",
    "    print(f\"increase relative to {extent_year} tree cover extent.\", end=\"\")\n",
    "elif(not adm2):\n",
    "    print(f\"{areaId_to_name[adm1]} gained {extent_area:,.0f} ha of tree cover \", end=\"\")\n",
    "    print(f\"{region_phrase}, equivalent to a {area_percent}% \",end=\"\")\n",
    "    print(f\"increase relative to {extent_year} tree cover extent.\", end=\"\")\n",
    "else:\n",
    "    print(f\"{areaId_to_name[adm2]} gained {extent_area:,.0f} ha of tree cover \", end=\"\")\n",
    "    print(f\"{region_phrase}, equivalent to a {area_percent}% \", end=\"\")\n",
    "    print(f\"increase relative to {extent_year} tree cover extent.\", end=\"\")\n"
   ]
  },
  {
   "cell_type": "markdown",
   "metadata": {},
   "source": [
    "### Ranked List\n",
    "\n",
    "Shows a ranked list of regions ranked by either:\n",
    "\n",
    "- Gain (ha)\n",
    "- Gain relative to extent (%)\n",
    "\n",
    "The list will show the selected region and regions with similar ranks"
   ]
  },
  {
   "cell_type": "code",
   "execution_count": 8,
   "metadata": {
    "collapsed": true
   },
   "outputs": [],
   "source": [
    "#Gathers all data required to rank regions. NOTE: adm0 querys are slow.\n",
    "\n",
    "def ranking_gain_query(p_name, year, adm0, adm1=None, adm2 = None):\n",
    "    \"\"\"Queries for the gain tables. Note, threshold must be hardcoded to 0\n",
    "        and that will not change.\n",
    "    \"\"\"\n",
    "    if adm2:\n",
    "        print('Request for  adm2 area')\n",
    "        sql = (f\"SELECT adm2 as region, area_gain AS value, {year} AS extent FROM data \"\n",
    "               f\"WHERE iso = '{adm0}' \"\n",
    "               f\"AND adm1 = {adm1} \"\n",
    "               f\"AND polyname = '{p_name}' \"\n",
    "               f\"AND thresh = 0\") \n",
    "\n",
    "    elif adm1:\n",
    "        print('Request for  adm1 area')\n",
    "        sql = (f\"SELECT adm1 as region, area_gain AS value, {year} AS extent FROM data \"\n",
    "               f\"WHERE iso = '{adm0}' \"\n",
    "               f\"AND polyname = '{p_name}' \"\n",
    "               f\"AND thresh = 0\")\n",
    "    elif adm0:\n",
    "        print('Request for adm0 area')\n",
    "        sql = (f\"SELECT iso as region, area_gain AS value, {year} AS extent FROM data \"\n",
    "               f\"WHERE polyname = '{p_name}' \"\n",
    "               f\"AND thresh = 0\")\n",
    "    return sql\n"
   ]
  },
  {
   "cell_type": "code",
   "execution_count": 14,
   "metadata": {
    "scrolled": true
   },
   "outputs": [
    {
     "name": "stdout",
     "output_type": "stream",
     "text": [
      "Request for  adm1 area\n",
      "https://production-api.globalforestwatch.org/v1/query/499682b1-3174-493f-ba1a-368b4636708e?sql=SELECT+adm1+as+region%2C+area_gain+AS+value%2C+area_extent_2000+AS+extent+FROM+data+WHERE+iso+%3D+%27BRA%27+AND+polyname+%3D+%27gadm28%27+AND+thresh+%3D+0\n"
     ]
    },
    {
     "data": {
      "text/plain": [
       "[{'_id': 'AWB6geoRhRfkUZCTh-ul',\n",
       "  'extent': 16212.9844124,\n",
       "  'region': 8,\n",
       "  'value': 1092.45395312},\n",
       " {'_id': 'AWB6geoRhRfkUZCTh-uo',\n",
       "  'extent': 24828.917745,\n",
       "  'region': 8,\n",
       "  'value': 1047.54077483},\n",
       " {'_id': 'AWB6geoRhRfkUZCTh-uv',\n",
       "  'extent': 26763.346828499998,\n",
       "  'region': 8,\n",
       "  'value': 2398.19586334}]"
      ]
     },
     "execution_count": 14,
     "metadata": {},
     "output_type": "execute_result"
    }
   ],
   "source": [
    "#Sql query\n",
    "\n",
    "sql = ranking_gain_query(polynames[location], extent_year_dict[extent_year], adm0, adm1, adm2)\n",
    "    \n",
    "r = requests.get(url, params = {\"sql\": sql})\n",
    "\n",
    "print(r.url)\n",
    "\n",
    "try:\n",
    "    data = r.json().get('data')\n",
    "    \n",
    "except:\n",
    "    print('No data')\n",
    "    \n",
    "data[0:3]\n"
   ]
  },
  {
   "cell_type": "code",
   "execution_count": 10,
   "metadata": {},
   "outputs": [
    {
     "data": {
      "text/plain": [
       "[8, 6, 7, 9, 5]"
      ]
     },
     "execution_count": 10,
     "metadata": {},
     "output_type": "execute_result"
    }
   ],
   "source": [
    "unique_regions = []\n",
    "for d in data:\n",
    "    if d.get('region') not in unique_regions:\n",
    "        unique_regions.append(d.get('region'))\n",
    "\n",
    "unique_regions[0:5]"
   ]
  },
  {
   "cell_type": "code",
   "execution_count": 11,
   "metadata": {},
   "outputs": [
    {
     "data": {
      "text/plain": [
       "[{'gain': 214351.5398714905,\n",
       "  'region': 'Espírito Santo',\n",
       "  'relative': 9.71427399910375},\n",
       " {'gain': 40006.765076539086,\n",
       "  'region': 'Ceará',\n",
       "  'relative': 0.8366734933929185},\n",
       " {'gain': 1810.81241895,\n",
       "  'region': 'Distrito Federal',\n",
       "  'relative': 1.3083005962565537},\n",
       " {'gain': 122692.03157379599,\n",
       "  'region': 'Goiás',\n",
       "  'relative': 1.0548395054644655},\n",
       " {'gain': 450082.7880964048,\n",
       "  'region': 'Bahia',\n",
       "  'relative': 1.8066284874859857}]"
      ]
     },
     "execution_count": 11,
     "metadata": {},
     "output_type": "execute_result"
    }
   ],
   "source": [
    "gain_list = []\n",
    "for u in unique_regions:\n",
    "    tmp_gain = 0\n",
    "    tmp_extent = 0\n",
    "    for d in data:\n",
    "        if d.get('region') == u and d.get('extent') != -9999:\n",
    "            tmp_gain += d.get('value')\n",
    "            tmp_extent += d.get('extent')\n",
    "    if adm1 or adm2:\n",
    "        u = areaId_to_name[u]\n",
    "    try:\n",
    "        gain_list.append({'region': u, 'gain': tmp_gain, 'relative': 100*tmp_gain/tmp_extent})\n",
    "    except:\n",
    "        gain_list.append({'region': u, 'gain': tmp_gain, 'relative': 0.0})\n",
    "    \n",
    "        \n",
    "gain_list[0:5]    "
   ]
  },
  {
   "cell_type": "code",
   "execution_count": 12,
   "metadata": {},
   "outputs": [
    {
     "data": {
      "text/plain": [
       "(26,\n",
       " [{'gain': 55393.72579396401,\n",
       "   'region': 'Amapá',\n",
       "   'relative': 0.44735738758530763},\n",
       "  {'gain': 58602.96722607883,\n",
       "   'region': 'Piauí',\n",
       "   'relative': 0.3872306404162091},\n",
       "  {'gain': 50338.613219899,\n",
       "   'region': 'Roraima',\n",
       "   'relative': 0.2761163154574337},\n",
       "  {'gain': 38508.07244910899,\n",
       "   'region': 'Acre',\n",
       "   'relative': 0.26552238762403985},\n",
       "  {'gain': 176664.82799579806,\n",
       "   'region': 'Amazonas',\n",
       "   'relative': 0.11689619537290755}])"
      ]
     },
     "execution_count": 12,
     "metadata": {},
     "output_type": "execute_result"
    }
   ],
   "source": [
    "sorted_rel = sorted(gain_list, key=lambda k: k['relative'], reverse=True)\n",
    "sorted_rel[0:5]\n",
    "\n",
    "if adm2:\n",
    "    region = areaId_to_name[adm2]\n",
    "elif adm1:\n",
    "    region = areaId_to_name[adm1]\n",
    "elif adm0:\n",
    "    region = adm0\n",
    "\n",
    "rank_rel = 1\n",
    "for s in sorted_rel:\n",
    "    if s.get('region') == region:\n",
    "        break\n",
    "    else:\n",
    "        rank_rel += 1      \n",
    "\n",
    "if rank_rel == 1:\n",
    "    bottom_bound = -1\n",
    "    upper_bound = 4\n",
    "elif rank_rel == 2:\n",
    "    bottom_bound = -2\n",
    "    upper_bound = 3    \n",
    "elif rank_rel == len(sorted_rel):\n",
    "    bottom_bound = -5\n",
    "    upper_bound = 0   \n",
    "elif rank_rel == len(sorted_rel)-1:\n",
    "    bottom_bound = -4\n",
    "    upper_bound = 1 \n",
    "else:\n",
    "    bottom_bound = -3\n",
    "    upper_bound = 2 \n",
    "    \n",
    "rank_rel, sorted_rel[rank_rel+bottom_bound:rank_rel+upper_bound]        \n"
   ]
  },
  {
   "cell_type": "code",
   "execution_count": 13,
   "metadata": {},
   "outputs": [
    {
     "data": {
      "text/plain": [
       "(20,\n",
       " [{'gain': 50338.613219899,\n",
       "   'region': 'Roraima',\n",
       "   'relative': 0.2761163154574337},\n",
       "  {'gain': 40006.765076539086,\n",
       "   'region': 'Ceará',\n",
       "   'relative': 0.8366734933929185},\n",
       "  {'gain': 38508.07244910899,\n",
       "   'region': 'Acre',\n",
       "   'relative': 0.26552238762403985},\n",
       "  {'gain': 18906.55323916999,\n",
       "   'region': 'Sergipe',\n",
       "   'relative': 2.6788630765524477},\n",
       "  {'gain': 18290.27636394394,\n",
       "   'region': 'Pernambuco',\n",
       "   'relative': 0.7314321709382418}])"
      ]
     },
     "execution_count": 13,
     "metadata": {},
     "output_type": "execute_result"
    }
   ],
   "source": [
    "sorted_gain = sorted(gain_list, key=lambda k: k['gain'], reverse=True)\n",
    "sorted_gain[0:5]\n",
    "\n",
    "if adm2:\n",
    "    region = areaId_to_name[adm2]\n",
    "elif adm1:\n",
    "    region = areaId_to_name[adm1]\n",
    "elif adm0:\n",
    "    region = adm0\n",
    "\n",
    "rank_gain = 1\n",
    "for s in sorted_gain:\n",
    "    if s.get('region') == region:\n",
    "        break\n",
    "    else:\n",
    "        rank_gain += 1\n",
    "        \n",
    "if rank_gain == 1:\n",
    "    bottom_bound = -1\n",
    "    upper_bound = 4\n",
    "elif rank_gain == 2:\n",
    "    bottom_bound = -2\n",
    "    upper_bound = 3    \n",
    "elif rank_gain == len(sorted_gain):\n",
    "    bottom_bound = -5\n",
    "    upper_bound = 0   \n",
    "elif rank_gain == len(sorted_gain)-1:\n",
    "    bottom_bound = -4\n",
    "    upper_bound = 1 \n",
    "else:\n",
    "    bottom_bound = -3\n",
    "    upper_bound = 2 \n",
    "    \n",
    "rank_gain, sorted_gain[rank_gain+bottom_bound:rank_gain+upper_bound]      "
   ]
  }
 ],
 "metadata": {
  "anaconda-cloud": {},
  "kernelspec": {
   "display_name": "Python 3",
   "language": "python",
   "name": "python3"
  },
  "language_info": {
   "codemirror_mode": {
    "name": "ipython",
    "version": 3
   },
   "file_extension": ".py",
   "mimetype": "text/x-python",
   "name": "python",
   "nbconvert_exporter": "python",
   "pygments_lexer": "ipython3",
   "version": "3.6.4"
  },
  "toc": {
   "nav_menu": {},
   "number_sections": true,
   "sideBar": true,
   "skip_h1_title": false,
   "toc_cell": false,
   "toc_position": {},
   "toc_section_display": "block",
   "toc_window_display": false
  }
 },
 "nbformat": 4,
 "nbformat_minor": 2
}
