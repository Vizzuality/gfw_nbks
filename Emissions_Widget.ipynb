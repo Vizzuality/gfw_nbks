{
 "cells": [
  {
   "cell_type": "markdown",
   "metadata": {},
   "source": [
    "# Emissions Widget\n",
    "\n",
    "The emissions widget should be a line chart, with time in years as the x-axis, and emsissions (in tons of carbon, or tones of CO2) as the y-axis, on hover it should show the year and emissions value.\n",
    "\n",
    "There should be a dynamic sentence which comments on the yearly average emissions over the selected year range.\n",
    "\n",
    "** Notes ** \n",
    "\n",
    "* Use the loss query to get emissions data\n",
    "\n",
    "* Convert the emission data into C02 emissions (*see th eabg_to_o2 function, below*)\n",
    "\n",
    "* Users can select date range, as well as Area of Interest (AOI)\n",
    "    \n",
    "*more info - not needed for front-end devs*\n",
    "- for refrence in testing adm0 = BRA, adm1 = 12, adm2 = 1434 is Mato Grosso, Cáceres\n"
   ]
  },
  {
   "cell_type": "markdown",
   "metadata": {},
   "source": [
    "# Emissions Calculation\n",
    "\n",
    "We need to convert the values returned from Charlie's table, which are called `emissions`. In the table these data are actually above ground biomass (units tons). For the country page site we want to display them in most instances as co2 emissions (tons). To do that we need to apply the conversion below.\n",
    "\n",
    "\n",
    "[BC Discussion](https://basecamp.com/3063126/projects/10727890/todos/338189111#comment_591986621)"
   ]
  },
  {
   "cell_type": "code",
   "execution_count": 6,
   "metadata": {
    "collapsed": true
   },
   "outputs": [],
   "source": [
    "#Import Global Metadata etc\n",
    "\n",
    "%run '0.Importable_Globals.ipynb'"
   ]
  },
  {
   "cell_type": "code",
   "execution_count": 2,
   "metadata": {
    "collapsed": true
   },
   "outputs": [],
   "source": [
    "emissions = 7355734.60097"
   ]
  },
  {
   "cell_type": "code",
   "execution_count": 10,
   "metadata": {
    "collapsed": true
   },
   "outputs": [],
   "source": [
    "def abg_to_co2(abg):\n",
    "    \"\"\"Convert above ground biomass in tons into carbon emissions in tons\n",
    "        n.b. above ground biomass is the value labeled 'emissions' in Charlie's table\n",
    "    \"\"\"\n",
    "    return (abg + (0.489 * (abg ** 0.89))) *0.47\n"
   ]
  },
  {
   "cell_type": "code",
   "execution_count": 9,
   "metadata": {},
   "outputs": [
    {
     "data": {
      "text/plain": [
       "3754159.3296786468"
      ]
     },
     "execution_count": 9,
     "metadata": {},
     "output_type": "execute_result"
    }
   ],
   "source": [
    "abg_to_co2(emissions)"
   ]
  },
  {
   "cell_type": "markdown",
   "metadata": {},
   "source": [
    "### Note\n",
    "\n",
    "This widget uses teh same requests as the 'Loss Stacked Bars' Widget"
   ]
  },
  {
   "cell_type": "code",
   "execution_count": 25,
   "metadata": {
    "collapsed": true
   },
   "outputs": [],
   "source": [
    "# Variables\n",
    "\n",
    "threshold=30\n",
    "adm0 = 'BRA'\n",
    "adm1 = None\n",
    "adm2 = None\n",
    "extent_year = 2000     #extent data (2000 or 2010)\n",
    "\n",
    "start=2000\n",
    "end=2016\n",
    "location = \"All Region\"\n",
    "metric = 'above_ground_carbon_tons' # or 'carbon_emissions_tons'\n",
    "\n",
    "tags = [\"climate\"]\n",
    "selectable_polynames = ['gadm28',\n",
    "                        'bra_biomes',\n",
    "                        'mining',\n",
    "                        'wdpa',\n",
    "                        'primary_forest',\n",
    "                        'ifl_2013']"
   ]
  },
  {
   "cell_type": "code",
   "execution_count": 2,
   "metadata": {
    "collapsed": true
   },
   "outputs": [],
   "source": [
    "# get a human readable {id: name} json for either admin 1 or 2 level as needed:\n",
    "\n",
    "areaId_to_name = None\n",
    "if adm2:\n",
    "    tmp = get_admin2_json(iso=adm0, adm1=adm1)\n",
    "    areaId_to_name ={}\n",
    "    for row in tmp:\n",
    "        areaId_to_name[row.get('adm2')] = row.get('name')\n",
    "if adm1 and not adm2:\n",
    "    tmp = get_admin1_json(iso=adm0)\n",
    "    areaId_to_name={}\n",
    "    for row in tmp:\n",
    "        areaId_to_name[row.get('adm1')] = row.get('name')"
   ]
  },
  {
   "cell_type": "code",
   "execution_count": 3,
   "metadata": {
    "collapsed": true
   },
   "outputs": [],
   "source": [
    "def loss_queries(p_name, adm0, adm1=None, adm2=None, threshold=30):\n",
    "    if adm2:\n",
    "        print(f'Request for adm2 area')\n",
    "        sql = (f\"SELECT polyname, year_data.year as year, \"\n",
    "               f\"SUM(year_data.area_loss) as area, \"\n",
    "               f\"SUM(year_data.emissions) as emissions \"\n",
    "               f\"FROM data \"\n",
    "               f\"WHERE polyname = '{p_name}' \"\n",
    "               f\"AND iso = '{adm0}' \"\n",
    "               f\"AND adm1 = {adm1} \"\n",
    "               f\"AND adm2 = {adm2} \"\n",
    "               f\"AND thresh= {threshold} \"\n",
    "               f\"GROUP BY polyname, iso, nested(year_data.year)\")\n",
    "        return sql\n",
    "    elif adm1:\n",
    "        print('Request for  adm1 area')\n",
    "        sql = (f\"SELECT polyname, year_data.year as year, \"\n",
    "               f\"SUM(year_data.area_loss) as area, \"\n",
    "               f\"SUM(year_data.emissions) as emissions \"\n",
    "               f\"FROM data \"\n",
    "               f\"WHERE polyname = '{p_name}' \"\n",
    "               f\"AND iso = '{adm0}' \"\n",
    "               f\"AND adm1 = {adm1} \"\n",
    "               f\"AND thresh= {threshold} \"\n",
    "               f\"GROUP BY polyname, iso, nested(year_data.year)\")\n",
    "        return sql\n",
    "    elif adm0:\n",
    "        print('Request for  adm0 area')\n",
    "        sql = (f\"SELECT polyname, year_data.year as year, \"\n",
    "               f\"SUM(year_data.area_loss) as area, \"\n",
    "               f\"SUM(year_data.emissions) as emissions \"\n",
    "               f\"FROM data \"\n",
    "               f\"WHERE polyname = '{p_name}' \" \n",
    "               f\"AND iso = '{adm0}' \"\n",
    "               f\"AND thresh= {threshold} \"\n",
    "               f\"GROUP BY polyname, iso, nested(year_data.year)\")\n",
    "        return sql\n",
    "\n"
   ]
  },
  {
   "cell_type": "code",
   "execution_count": 12,
   "metadata": {},
   "outputs": [
    {
     "name": "stdout",
     "output_type": "stream",
     "text": [
      "BRA\n",
      "Request for  adm1 area\n",
      "SELECT polyname, year_data.year as year, SUM(year_data.area_loss) as area, SUM(year_data.emissions) as emissions FROM data WHERE polyname = 'gadm28' AND iso = 'BRA' AND adm1 = 4 AND thresh= 30 GROUP BY polyname, iso, nested(year_data.year)\n",
      "https://production-api.globalforestwatch.org/v1/query/499682b1-3174-493f-ba1a-368b4636708e?sql=SELECT+polyname%2C+year_data.year+as+year%2C+SUM%28year_data.area_loss%29+as+area%2C+SUM%28year_data.emissions%29+as+emissions+FROM+data+WHERE+polyname+%3D+%27gadm28%27+AND+iso+%3D+%27BRA%27+AND+adm1+%3D+4+AND+thresh%3D+30+GROUP+BY+polyname%2C+iso%2C+nested%28year_data.year%29\n",
      "Status: 200\n",
      "{'data': [{'area': 81439.17350769043,\n",
      "           'emissions': 19639666.1796875,\n",
      "           'iso': 'BRA',\n",
      "           'polyname': 'gadm28',\n",
      "           'year': 2001},\n",
      "          {'area': 99140.4574508667,\n",
      "           'emissions': 24604206.8046875,\n",
      "           'iso': 'BRA',\n",
      "           'polyname': 'gadm28',\n",
      "           'year': 2002},\n",
      "          {'area': 102013.15633392334,\n",
      "           'emissions': 26243546.509765625,\n",
      "           'iso': 'BRA',\n",
      "           'polyname': 'gadm28',\n",
      "           'year': 2003},\n",
      "          {'area': 94389.41762161255,\n",
      "           'emissions': 24314334.469726562,\n",
      "           'iso': 'BRA',\n",
      "           'polyname': 'gadm28',\n",
      "           'year': 2004},\n",
      "          {'area': 174667.06030273438,\n",
      "           'emissions': 43996338.28515625,\n",
      "           'iso': 'BRA',\n",
      "           'polyname': 'gadm28',\n",
      "           'year': 2005},\n",
      "          {'area': 154847.82752990723,\n",
      "           'emissions': 40189704.36328125,\n",
      "           'iso': 'BRA',\n",
      "           'polyname': 'gadm28',\n",
      "           'year': 2006},\n",
      "          {'area': 89356.34457397461,\n",
      "           'emissions': 22899763.3203125,\n",
      "           'iso': 'BRA',\n",
      "           'polyname': 'gadm28',\n",
      "           'year': 2007},\n",
      "          {'area': 94494.94059753418,\n",
      "           'emissions': 24289333.46484375,\n",
      "           'iso': 'BRA',\n",
      "           'polyname': 'gadm28',\n",
      "           'year': 2008},\n",
      "          {'area': 128265.9621887207,\n",
      "           'emissions': 31140686.140625,\n",
      "           'iso': 'BRA',\n",
      "           'polyname': 'gadm28',\n",
      "           'year': 2009},\n",
      "          {'area': 150467.60977172852,\n",
      "           'emissions': 37037739,\n",
      "           'iso': 'BRA',\n",
      "           'polyname': 'gadm28',\n",
      "           'year': 2010},\n",
      "          {'area': 85825.92147827148,\n",
      "           'emissions': 21567990.5390625,\n",
      "           'iso': 'BRA',\n",
      "           'polyname': 'gadm28',\n",
      "           'year': 2011},\n",
      "          {'area': 163604.2685546875,\n",
      "           'emissions': 41665747.140625,\n",
      "           'iso': 'BRA',\n",
      "           'polyname': 'gadm28',\n",
      "           'year': 2012},\n",
      "          {'area': 126022.04278564453,\n",
      "           'emissions': 31380706.390625,\n",
      "           'iso': 'BRA',\n",
      "           'polyname': 'gadm28',\n",
      "           'year': 2013},\n",
      "          {'area': 146342.98602294922,\n",
      "           'emissions': 36306742.25,\n",
      "           'iso': 'BRA',\n",
      "           'polyname': 'gadm28',\n",
      "           'year': 2014},\n",
      "          {'area': 156875.78881835938,\n",
      "           'emissions': 39417845.89453125,\n",
      "           'iso': 'BRA',\n",
      "           'polyname': 'gadm28',\n",
      "           'year': 2015},\n",
      "          {'area': 547520.3268432617,\n",
      "           'emissions': 127764289.8203125,\n",
      "           'iso': 'BRA',\n",
      "           'polyname': 'gadm28',\n",
      "           'year': 2016}],\n",
      " 'meta': {'cloneUrl': {'body': {'dataset': {'application': ['your', 'apps'],\n",
      "                                            'datasetUrl': '/v1/query/499682b1-3174-493f-ba1a-368b4636708e?sql=SELECT%20polyname%2C%20year_data.year%20as%20year%2C%20SUM%28year_data.area_loss%29%20as%20area%2C%20SUM%28year_data.emissions%29%20as%20emissions%20FROM%20data%20WHERE%20polyname%20%3D%20%27gadm28%27%20AND%20iso%20%3D%20%27BRA%27%20AND%20adm1%20%3D%204%20AND%20thresh%3D%2030%20GROUP%20BY%20polyname%2C%20iso%2C%20nested%28year_data.year%29'}},\n",
      "                       'http_method': 'POST',\n",
      "                       'url': '/v1/dataset/499682b1-3174-493f-ba1a-368b4636708e/clone'}}}\n",
      "{2001: {'above_ground_carbon_tons': 19639666.1796875,\n",
      "        'carbon_emissions_tons': 9942341.632442823},\n",
      " 2002: {'above_ground_carbon_tons': 24604206.8046875,\n",
      "        'carbon_emissions_tons': 12433748.462456485},\n",
      " 2003: {'above_ground_carbon_tons': 26243546.509765625,\n",
      "        'carbon_emissions_tons': 13255630.450033491},\n",
      " 2004: {'above_ground_carbon_tons': 24314334.469726562,\n",
      "        'carbon_emissions_tons': 12288382.579480784},\n",
      " 2005: {'above_ground_carbon_tons': 43996338.28515625,\n",
      "        'carbon_emissions_tons': 22137252.5862141},\n",
      " 2006: {'above_ground_carbon_tons': 40189704.36328125,\n",
      "        'carbon_emissions_tons': 20235234.937809657},\n",
      " 2007: {'above_ground_carbon_tons': 22899763.3203125,\n",
      "        'carbon_emissions_tons': 11578825.148269918},\n",
      " 2008: {'above_ground_carbon_tons': 24289333.46484375,\n",
      "        'carbon_emissions_tons': 12275844.456064694},\n",
      " 2009: {'above_ground_carbon_tons': 31140686.140625,\n",
      "        'carbon_emissions_tons': 15708799.056882301},\n",
      " 2010: {'above_ground_carbon_tons': 37037739.0,\n",
      "        'carbon_emissions_tons': 18659437.446467172},\n",
      " 2011: {'above_ground_carbon_tons': 21567990.5390625,\n",
      "        'carbon_emissions_tons': 10910521.487231052},\n",
      " 2012: {'above_ground_carbon_tons': 41665747.140625,\n",
      "        'carbon_emissions_tons': 20972886.37447795},\n",
      " 2013: {'above_ground_carbon_tons': 31380706.390625,\n",
      "        'carbon_emissions_tons': 15828963.78115955},\n",
      " 2014: {'above_ground_carbon_tons': 36306742.25,\n",
      "        'carbon_emissions_tons': 18293858.16884351},\n",
      " 2015: {'above_ground_carbon_tons': 39417845.89453125,\n",
      "        'carbon_emissions_tons': 19849428.826012},\n",
      " 2016: {'above_ground_carbon_tons': 127764289.8203125,\n",
      "        'carbon_emissions_tons': 63817218.51323107}}\n"
     ]
    }
   ],
   "source": [
    "#ds = '499682b1-3174-493f-ba1a-368b4636708e'\n",
    "url = f\"https://production-api.globalforestwatch.org/v1/query/{ds}\"\n",
    "\n",
    "print(adm0)\n",
    "\n",
    "# Next, get the loss data grouped by year\n",
    "sql = loss_queries(p_name=polynames[location], adm0=adm0, \n",
    "                   adm1=adm1, adm2=adm2, threshold=threshold)    \n",
    "print(sql) # loss query\n",
    "properties = {\"sql\": sql}\n",
    "r = requests.get(url, params = properties)\n",
    "print(r.url)\n",
    "print(f'Status: {r.status_code}')\n",
    "pprint(r.json())\n",
    "\n",
    "\n",
    "# # Extract the year, and loss in hectares, and emissions units, and calculate the relative loss in %\n",
    "d = {}\n",
    "for row in r.json().get('data'):\n",
    "    tmp_yr = float(row.get('year'))\n",
    "    if tmp_yr > 2000:\n",
    "        try:\n",
    "            tmp_area = float(row.get('area'))\n",
    "        except:\n",
    "            tmp_area = None\n",
    "            \n",
    "        try:\n",
    "            tmp_area_pcnt = (tmp_area / y2010_relative_extent) * 100\n",
    "        except:\n",
    "            tmp_area_pcnt = None\n",
    "            \n",
    "        try:\n",
    "            tmp_emiss = float(row.get('emissions'))\n",
    "        except:\n",
    "            tmp_emiss = None\n",
    "            \n",
    "        d[int(tmp_yr)] = {\n",
    "                            'above_ground_carbon_tons': tmp_emiss,\n",
    "                            'carbon_emissions_tons': abg_to_co2(tmp_emiss)\n",
    "        }\n",
    "pprint(d)"
   ]
  },
  {
   "cell_type": "code",
   "execution_count": 56,
   "metadata": {},
   "outputs": [
    {
     "data": {
      "image/png": "[encoded data removed]",
      "text/plain": [
       "<matplotlib.figure.Figure at 0x115ae9978>"
      ]
     },
     "metadata": {},
     "output_type": "display_data"
    }
   ],
   "source": [
    "if adm0 and not adm1 and not adm2:\n",
    "    dynamic_title = (f\"{iso_to_countries[adm0]} '{metric}' for {location.lower()}\")\n",
    "elif adm0 and adm1 and not adm2: \n",
    "    dynamic_title = (f\"{areaId_to_name[adm1]} '{metric}' for {location.lower()}\")\n",
    "elif adm0 and adm1 and adm2:\n",
    "    dynamic_title = (f\"{areaId_to_name[adm2]} '{metric}' for {location.lower()}\")\n",
    "\n",
    "\n",
    "emissions = []\n",
    "total_emisions = 0\n",
    "for val in d.values():\n",
    "    if val.get(metric):\n",
    "        emissions.append(val.get(metric)/1e6)\n",
    "        total_emisions += val.get(metric)/1e6\n",
    "    else:\n",
    "        emissions.append(0)\n",
    "\n",
    "years = d.keys()\n",
    "width = 0.35\n",
    "fig, ax = plt.subplots()\n",
    "rects1 = ax.plot(years, emissions, width, color='darkblue', marker='s')\n",
    "ax.set_xlim([start,end])\n",
    "\n",
    "ax.fill_between(years, 0, emissions, color='darkblue', alpha=0.5)\n",
    "\n",
    "# add some text for labels, title and axes ticks\n",
    "ax.set_ylabel(f'{metric} (Mt)')\n",
    "ax.set_title(dynamic_title)\n",
    "plt.show()"
   ]
  },
  {
   "cell_type": "code",
   "execution_count": 51,
   "metadata": {},
   "outputs": [
    {
     "name": "stdout",
     "output_type": "stream",
     "text": [
      "In Brazil between 2000 and 2016 there was, on average, 37.028665035827636 Million metric tons of carbon emissions per year across the entire region where tree canopy is greater than 30%."
     ]
    }
   ],
   "source": [
    "# Dynamic Sentence\n",
    "if metric == 'above_ground_carbon_tons' :\n",
    "    emission_type = 'carbon'\n",
    "elif metric == 'carbon_emissions_tons':\n",
    "        emission_type = 'CO2'\n",
    "\n",
    "if adm0 and not adm1 and not adm2:\n",
    "    print(f\"In {iso_to_countries[adm0]} \", end=\"\")\n",
    "elif adm0 and adm1 and not adm2: \n",
    "    print(f\"In {areaId_to_name[adm1]} \", end=\"\")\n",
    "elif adm0 and adm1 and adm2:\n",
    "    print(f\"In {areaId_to_name[adm2]} \", end=\"\")        \n",
    "\n",
    "print(f\"between {start} and {end} there was, on average, {total_emisions/(end-start)} Million metric \", end=\"\")\n",
    "print(f\"tons of {emission_type} emissions per year \", end=\"\")\n",
    "      \n",
    "if location == 'All Region':\n",
    "      print(f\"across the entire region where tree canopy is greater than {threshold}%.\", end=\"\")\n",
    "elif locations == 'Mining':\n",
    "      print(f\"from {location.lower()} regions where tree canopy is greater than {threshold}%.\", end=\"\")\n",
    "else:\n",
    "      print(f\"from {location.lower()} where tree canopy is greater than {threshold}%.\", end=\"\")"
   ]
  },
  {
   "cell_type": "code",
   "execution_count": null,
   "metadata": {
    "collapsed": true
   },
   "outputs": [],
   "source": []
  }
 ],
 "metadata": {
  "kernelspec": {
   "display_name": "Python 3",
   "language": "python",
   "name": "python3"
  },
  "language_info": {
   "codemirror_mode": {
    "name": "ipython",
    "version": 3
   },
   "file_extension": ".py",
   "mimetype": "text/x-python",
   "name": "python",
   "nbconvert_exporter": "python",
   "pygments_lexer": "ipython3",
   "version": "3.6.2"
  }
 },
 "nbformat": 4,
 "nbformat_minor": 2
}
