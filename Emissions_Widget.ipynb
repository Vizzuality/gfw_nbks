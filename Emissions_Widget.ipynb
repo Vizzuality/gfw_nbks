{
 "cells": [
  {
   "cell_type": "markdown",
   "metadata": {},
   "source": [
    "# Emissions Widget\n",
    "\n",
    "The emissions widget should be a line chart, with time in years as the x-axis, and emsissions (in tons of carbon, or tones of CO2) as the y-axis, on hover it should show the year and emissions value.\n",
    "\n",
    "There should be a dynamic sentence which comments on the yearly average emissions over the selected year range.\n",
    "\n",
    "** Notes ** \n",
    "\n",
    "* Use the loss query to get emissions data\n",
    "\n",
    "* Convert the emission data into C02 emissions (*see th eabg_to_o2 function, below*)\n",
    "\n",
    "* Users can select date range, as well as Area of Interest (AOI)\n",
    "    \n",
    "*more info - not needed for front-end devs*\n",
    "- for refrence in testing adm0 = BRA, adm1 = 12, adm2 = 1434 is Mato Grosso, Cáceres\n"
   ]
  },
  {
   "cell_type": "markdown",
   "metadata": {},
   "source": [
    "# Emissions Calculation\n",
    "\n",
    "We need to convert the values returned from Charlie's table, which are called `emissions`. In the table these data are actually above ground biomass (units tons). For the country page site we want to display them in most instances as co2 emissions (tons). To do that we need to apply the conversion below.\n",
    "\n",
    "\n",
    "[BC Discussion](https://basecamp.com/3063126/projects/10727890/todos/338189111#comment_591986621)"
   ]
  },
  {
   "cell_type": "code",
   "execution_count": 1,
   "metadata": {
    "collapsed": true
   },
   "outputs": [],
   "source": [
    "#Import Global Metadata etc\n",
    "\n",
    "%run '0.Importable_Globals.ipynb'"
   ]
  },
  {
   "cell_type": "code",
   "execution_count": 2,
   "metadata": {
    "collapsed": true
   },
   "outputs": [],
   "source": [
    "emissions = 7355734.60097"
   ]
  },
  {
   "cell_type": "code",
   "execution_count": 3,
   "metadata": {
    "collapsed": true
   },
   "outputs": [],
   "source": [
    "def abg_to_co2(abg):\n",
    "    \"\"\"Convert above ground biomass in tons into carbon emissions in tons\n",
    "        n.b. above ground biomass is the value labeled 'emissions' in Charlie's table\n",
    "    \"\"\"\n",
    "    return (abg + (0.489 * (abg ** 0.89))) *0.47\n"
   ]
  },
  {
   "cell_type": "code",
   "execution_count": 4,
   "metadata": {},
   "outputs": [
    {
     "data": {
      "text/plain": [
       "3754159.3296786468"
      ]
     },
     "execution_count": 4,
     "metadata": {},
     "output_type": "execute_result"
    }
   ],
   "source": [
    "abg_to_co2(emissions)"
   ]
  },
  {
   "cell_type": "markdown",
   "metadata": {},
   "source": [
    "### Note\n",
    "\n",
    "This widget uses teh same requests as the 'Loss Stacked Bars' Widget"
   ]
  },
  {
   "cell_type": "code",
   "execution_count": 5,
   "metadata": {
    "collapsed": true
   },
   "outputs": [],
   "source": [
    "# Variables\n",
    "\n",
    "threshold=30\n",
    "adm0 = 'BRA'\n",
    "adm1 = None\n",
    "adm2 = None\n",
    "\n",
    "start=2001\n",
    "end=2016\n",
    "\n",
    "location = \"All Region\"\n",
    "emissions_metric = 'above_ground_carbon_tons' # or 'carbon_emissions_tons'\n",
    "\n",
    "tags = [\"climate\"]\n",
    "selectable_polynames = ['gadm28',\n",
    "                        'bra_biomes',\n",
    "                        'mining',\n",
    "                        'wdpa',\n",
    "                        'primary_forest',\n",
    "                        'ifl_2013']"
   ]
  },
  {
   "cell_type": "code",
   "execution_count": 6,
   "metadata": {
    "collapsed": true
   },
   "outputs": [],
   "source": [
    "# get a human readable {id: name} json for either admin 1 or 2 level as needed:\n",
    "\n",
    "areaId_to_name = None\n",
    "if adm2:\n",
    "    tmp = get_admin2_json(iso=adm0, adm1=adm1)\n",
    "    areaId_to_name ={}\n",
    "    for row in tmp:\n",
    "        areaId_to_name[row.get('adm2')] = row.get('name')\n",
    "if adm1 and not adm2:\n",
    "    tmp = get_admin1_json(iso=adm0)\n",
    "    areaId_to_name={}\n",
    "    for row in tmp:\n",
    "        areaId_to_name[row.get('adm1')] = row.get('name')"
   ]
  },
  {
   "cell_type": "code",
   "execution_count": 7,
   "metadata": {
    "collapsed": true
   },
   "outputs": [],
   "source": [
    "def loss_queries(p_name, adm0, adm1=None, adm2=None, threshold=30):\n",
    "    if adm2:\n",
    "        print(f'Request for adm2 area')\n",
    "        sql = (f\"SELECT polyname, year_data.year as year, \"\n",
    "               f\"SUM(year_data.area_loss) as area, \"\n",
    "               f\"SUM(year_data.emissions) as emissions \"\n",
    "               f\"FROM data \"\n",
    "               f\"WHERE polyname = '{p_name}' \"\n",
    "               f\"AND iso = '{adm0}' \"\n",
    "               f\"AND adm1 = {adm1} \"\n",
    "               f\"AND adm2 = {adm2} \"\n",
    "               f\"AND thresh= {threshold} \"\n",
    "               f\"GROUP BY polyname, iso, nested(year_data.year)\")\n",
    "        return sql\n",
    "    elif adm1:\n",
    "        print('Request for  adm1 area')\n",
    "        sql = (f\"SELECT polyname, year_data.year as year, \"\n",
    "               f\"SUM(year_data.area_loss) as area, \"\n",
    "               f\"SUM(year_data.emissions) as emissions \"\n",
    "               f\"FROM data \"\n",
    "               f\"WHERE polyname = '{p_name}' \"\n",
    "               f\"AND iso = '{adm0}' \"\n",
    "               f\"AND adm1 = {adm1} \"\n",
    "               f\"AND thresh= {threshold} \"\n",
    "               f\"GROUP BY polyname, iso, nested(year_data.year)\")\n",
    "        return sql\n",
    "    elif adm0:\n",
    "        print('Request for  adm0 area')\n",
    "        sql = (f\"SELECT polyname, year_data.year as year, \"\n",
    "               f\"SUM(year_data.area_loss) as area, \"\n",
    "               f\"SUM(year_data.emissions) as emissions \"\n",
    "               f\"FROM data \"\n",
    "               f\"WHERE polyname = '{p_name}' \" \n",
    "               f\"AND iso = '{adm0}' \"\n",
    "               f\"AND thresh= {threshold} \"\n",
    "               f\"GROUP BY polyname, iso, nested(year_data.year)\")\n",
    "        return sql\n",
    "\n"
   ]
  },
  {
   "cell_type": "code",
   "execution_count": 8,
   "metadata": {},
   "outputs": [
    {
     "name": "stdout",
     "output_type": "stream",
     "text": [
      "BRA\n",
      "Request for  adm0 area\n",
      "SELECT polyname, year_data.year as year, SUM(year_data.area_loss) as area, SUM(year_data.emissions) as emissions FROM data WHERE polyname = 'gadm28' AND iso = 'BRA' AND thresh= 30 GROUP BY polyname, iso, nested(year_data.year)\n",
      "https://production-api.globalforestwatch.org/v1/query/499682b1-3174-493f-ba1a-368b4636708e?sql=SELECT+polyname%2C+year_data.year+as+year%2C+SUM%28year_data.area_loss%29+as+area%2C+SUM%28year_data.emissions%29+as+emissions+FROM+data+WHERE+polyname+%3D+%27gadm28%27+AND+iso+%3D+%27BRA%27+AND+thresh%3D+30+GROUP+BY+polyname%2C+iso%2C+nested%28year_data.year%29\n",
      "Status: 200\n",
      "{'data': [{'area': 2743646,\n",
      "           'emissions': 451662674,\n",
      "           'iso': 'BRA',\n",
      "           'polyname': 'gadm28',\n",
      "           'year': 2001},\n",
      "          {'area': 3504343,\n",
      "           'emissions': 599104504,\n",
      "           'iso': 'BRA',\n",
      "           'polyname': 'gadm28',\n",
      "           'year': 2002},\n",
      "          {'area': 3245861,\n",
      "           'emissions': 540572102,\n",
      "           'iso': 'BRA',\n",
      "           'polyname': 'gadm28',\n",
      "           'year': 2003},\n",
      "          {'area': 3846083,\n",
      "           'emissions': 676406325,\n",
      "           'iso': 'BRA',\n",
      "           'polyname': 'gadm28',\n",
      "           'year': 2004},\n",
      "          {'area': 3483878,\n",
      "           'emissions': 644550740,\n",
      "           'iso': 'BRA',\n",
      "           'polyname': 'gadm28',\n",
      "           'year': 2005},\n",
      "          {'area': 2874114,\n",
      "           'emissions': 513805002,\n",
      "           'iso': 'BRA',\n",
      "           'polyname': 'gadm28',\n",
      "           'year': 2006},\n",
      "          {'area': 2619106,\n",
      "           'emissions': 437501960,\n",
      "           'iso': 'BRA',\n",
      "           'polyname': 'gadm28',\n",
      "           'year': 2007},\n",
      "          {'area': 2441599,\n",
      "           'emissions': 421134110,\n",
      "           'iso': 'BRA',\n",
      "           'polyname': 'gadm28',\n",
      "           'year': 2008},\n",
      "          {'area': 1815228,\n",
      "           'emissions': 309399263,\n",
      "           'iso': 'BRA',\n",
      "           'polyname': 'gadm28',\n",
      "           'year': 2009},\n",
      "          {'area': 2686190,\n",
      "           'emissions': 455310957,\n",
      "           'iso': 'BRA',\n",
      "           'polyname': 'gadm28',\n",
      "           'year': 2010},\n",
      "          {'area': 1920608,\n",
      "           'emissions': 323012336,\n",
      "           'iso': 'BRA',\n",
      "           'polyname': 'gadm28',\n",
      "           'year': 2011},\n",
      "          {'area': 2915884,\n",
      "           'emissions': 464004986,\n",
      "           'iso': 'BRA',\n",
      "           'polyname': 'gadm28',\n",
      "           'year': 2012},\n",
      "          {'area': 1942832,\n",
      "           'emissions': 299304381,\n",
      "           'iso': 'BRA',\n",
      "           'polyname': 'gadm28',\n",
      "           'year': 2013},\n",
      "          {'area': 2690455,\n",
      "           'emissions': 414297899,\n",
      "           'iso': 'BRA',\n",
      "           'polyname': 'gadm28',\n",
      "           'year': 2014},\n",
      "          {'area': 2220186,\n",
      "           'emissions': 347406840,\n",
      "           'iso': 'BRA',\n",
      "           'polyname': 'gadm28',\n",
      "           'year': 2015},\n",
      "          {'area': 5376186,\n",
      "           'emissions': 961582786,\n",
      "           'iso': 'BRA',\n",
      "           'polyname': 'gadm28',\n",
      "           'year': 2016}],\n",
      " 'meta': {'cloneUrl': {'body': {'dataset': {'application': ['your', 'apps'],\n",
      "                                            'datasetUrl': '/v1/query/499682b1-3174-493f-ba1a-368b4636708e?sql=SELECT%20polyname%2C%20year_data.year%20as%20year%2C%20SUM%28year_data.area_loss%29%20as%20area%2C%20SUM%28year_data.emissions%29%20as%20emissions%20FROM%20data%20WHERE%20polyname%20%3D%20%27gadm28%27%20AND%20iso%20%3D%20%27BRA%27%20AND%20thresh%3D%2030%20GROUP%20BY%20polyname%2C%20iso%2C%20nested%28year_data.year%29'}},\n",
      "                       'http_method': 'POST',\n",
      "                       'url': '/v1/dataset/499682b1-3174-493f-ba1a-368b4636708e/clone'}}}\n",
      "{2001: {'above_ground_carbon_tons': 451662674.0,\n",
      "        'carbon_emissions_tons': 223874337.20324585},\n",
      " 2002: {'above_ground_carbon_tons': 599104504.0,\n",
      "        'carbon_emissions_tons': 296485902.8972896},\n",
      " 2003: {'above_ground_carbon_tons': 540572102.0,\n",
      "        'carbon_emissions_tons': 267672255.93492615},\n",
      " 2004: {'above_ground_carbon_tons': 676406325.0,\n",
      "        'carbon_emissions_tons': 334517986.0870084},\n",
      " 2005: {'above_ground_carbon_tons': 644550740.0,\n",
      "        'carbon_emissions_tons': 318847945.3992209},\n",
      " 2006: {'above_ground_carbon_tons': 513805002.0,\n",
      "        'carbon_emissions_tons': 254490562.52063563},\n",
      " 2007: {'above_ground_carbon_tons': 437501960.0,\n",
      "        'carbon_emissions_tons': 216894753.5998819},\n",
      " 2008: {'above_ground_carbon_tons': 421134110.0,\n",
      "        'carbon_emissions_tons': 208825865.81198683},\n",
      " 2009: {'above_ground_carbon_tons': 309399263.0,\n",
      "        'carbon_emissions_tons': 153696481.8359163},\n",
      " 2010: {'above_ground_carbon_tons': 455310957.0,\n",
      "        'carbon_emissions_tons': 225672333.71791896},\n",
      " 2011: {'above_ground_carbon_tons': 323012336.0,\n",
      "        'carbon_emissions_tons': 160418041.25967446},\n",
      " 2012: {'above_ground_carbon_tons': 464004986.0,\n",
      "        'carbon_emissions_tons': 229956748.85377407},\n",
      " 2013: {'above_ground_carbon_tons': 299304381.0,\n",
      "        'carbon_emissions_tons': 148711047.05564517},\n",
      " 2014: {'above_ground_carbon_tons': 414297899.0,\n",
      "        'carbon_emissions_tons': 205455333.8420397},\n",
      " 2015: {'above_ground_carbon_tons': 347406840.0,\n",
      "        'carbon_emissions_tons': 172459316.41844037},\n",
      " 2016: {'above_ground_carbon_tons': 961582786.0,\n",
      "        'carbon_emissions_tons': 474656405.3426532}}\n"
     ]
    }
   ],
   "source": [
    "#ds = '499682b1-3174-493f-ba1a-368b4636708e'\n",
    "url = f\"https://production-api.globalforestwatch.org/v1/query/{ds}\"\n",
    "\n",
    "print(adm0)\n",
    "\n",
    "# Next, get the loss data grouped by year\n",
    "sql = loss_queries(p_name=polynames[location], adm0=adm0, \n",
    "                   adm1=adm1, adm2=adm2, threshold=threshold)    \n",
    "print(sql) # loss query\n",
    "properties = {\"sql\": sql}\n",
    "r = requests.get(url, params = properties)\n",
    "print(r.url)\n",
    "print(f'Status: {r.status_code}')\n",
    "pprint(r.json())\n",
    "\n",
    "\n",
    "# # Extract the year, and loss in hectares, and emissions units, and calculate the relative loss in %\n",
    "d = {}\n",
    "for row in r.json().get('data'):\n",
    "    tmp_yr = float(row.get('year'))\n",
    "    if tmp_yr > 2000:\n",
    "        try:\n",
    "            tmp_area = float(row.get('area'))\n",
    "        except:\n",
    "            tmp_area = None\n",
    "            \n",
    "        try:\n",
    "            tmp_area_pcnt = (tmp_area / y2010_relative_extent) * 100\n",
    "        except:\n",
    "            tmp_area_pcnt = None\n",
    "            \n",
    "        try:\n",
    "            tmp_emiss = float(row.get('emissions'))\n",
    "        except:\n",
    "            tmp_emiss = None\n",
    "            \n",
    "        d[int(tmp_yr)] = {\n",
    "                            'above_ground_carbon_tons': tmp_emiss,\n",
    "                            'carbon_emissions_tons': abg_to_co2(tmp_emiss)\n",
    "        }\n",
    "pprint(d)"
   ]
  },
  {
   "cell_type": "code",
   "execution_count": 10,
   "metadata": {},
   "outputs": [
    {
     "data": {
      "image/png": "[encoded data removed]",
      "text/plain": [
       "<matplotlib.figure.Figure at 0x10d00c2e8>"
      ]
     },
     "metadata": {},
     "output_type": "display_data"
    }
   ],
   "source": [
    "if adm0 and not adm1 and not adm2:\n",
    "    dynamic_title = (f\"{iso_to_countries[adm0]} '{emissions_metric}' for {location.lower()}\")\n",
    "elif adm0 and adm1 and not adm2: \n",
    "    dynamic_title = (f\"{areaId_to_name[adm1]} '{emissions_metric}' for {location.lower()}\")\n",
    "elif adm0 and adm1 and adm2:\n",
    "    dynamic_title = (f\"{areaId_to_name[adm2]} '{emissions_metric}' for {location.lower()}\")\n",
    "\n",
    "\n",
    "emissions = []\n",
    "total_emisions = 0\n",
    "for val in d.values():\n",
    "    if val.get(emissions_metric):\n",
    "        emissions.append(val.get(emissions_metric)/1e6)\n",
    "        total_emisions += val.get(emissions_metric)/1e6\n",
    "    else:\n",
    "        emissions.append(0)\n",
    "\n",
    "years = d.keys()\n",
    "width = 0.35\n",
    "fig, ax = plt.subplots()\n",
    "rects1 = ax.plot(years, emissions, width, color='darkblue', marker='s')\n",
    "ax.set_xlim([start,end])\n",
    "\n",
    "ax.fill_between(years, 0, emissions, color='darkblue', alpha=0.5)\n",
    "\n",
    "# add some text for labels, title and axes ticks\n",
    "ax.set_ylabel(f'{emissions_metric} (Mt)')\n",
    "ax.set_title(dynamic_title)\n",
    "plt.show()"
   ]
  },
  {
   "cell_type": "code",
   "execution_count": 12,
   "metadata": {},
   "outputs": [
    {
     "name": "stdout",
     "output_type": "stream",
     "text": [
      "In Brazil between 2000 and 2016 there was, on average, 491.1910540625 Million metric tons of carbon emissions per year across the entire region where tree canopy is greater than 30%."
     ]
    }
   ],
   "source": [
    "# Dynamic Sentence\n",
    "if emissions_metric == 'above_ground_carbon_tons' :\n",
    "    emission_type = 'carbon'\n",
    "elif emissions_metric == 'carbon_emissions_tons':\n",
    "        emission_type = 'CO2'\n",
    "\n",
    "if adm0 and not adm1 and not adm2:\n",
    "    print(f\"In {iso_to_countries[adm0]} \", end=\"\")\n",
    "elif adm0 and adm1 and not adm2: \n",
    "    print(f\"In {areaId_to_name[adm1]} \", end=\"\")\n",
    "elif adm0 and adm1 and adm2:\n",
    "    print(f\"In {areaId_to_name[adm2]} \", end=\"\")        \n",
    "\n",
    "print(f\"between {start} and {end} there was, on average, {total_emisions/(end-start)} Million metric \", end=\"\")\n",
    "print(f\"tons of {emission_type} emissions per year \", end=\"\")\n",
    "      \n",
    "if location == 'All Region':\n",
    "      print(f\"across the entire region where tree canopy is greater than {threshold}%.\", end=\"\")\n",
    "elif locations == 'Mining':\n",
    "      print(f\"from {location.lower()} regions where tree canopy is greater than {threshold}%.\", end=\"\")\n",
    "else:\n",
    "      print(f\"from {location.lower()} where tree canopy is greater than {threshold}%.\", end=\"\")"
   ]
  },
  {
   "cell_type": "code",
   "execution_count": null,
   "metadata": {
    "collapsed": true
   },
   "outputs": [],
   "source": []
  },
  {
   "cell_type": "code",
   "execution_count": null,
   "metadata": {
    "collapsed": true
   },
   "outputs": [],
   "source": []
  }
 ],
 "metadata": {
  "kernelspec": {
   "display_name": "Python 3",
   "language": "python",
   "name": "python3"
  },
  "language_info": {
   "codemirror_mode": {
    "name": "ipython",
    "version": 3
   },
   "file_extension": ".py",
   "mimetype": "text/x-python",
   "name": "python",
   "nbconvert_exporter": "python",
   "pygments_lexer": "ipython3",
   "version": "3.6.2"
  }
 },
 "nbformat": 4,
 "nbformat_minor": 2
}
