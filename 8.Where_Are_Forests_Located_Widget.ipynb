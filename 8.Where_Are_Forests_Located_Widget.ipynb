{
 "cells": [
  {
   "cell_type": "markdown",
   "metadata": {},
   "source": [
    "<a id='s9'></a>\n",
    "# \"Where are Forests Located?\" Widget\n",
    "\n",
    "This widget is a mix of a donut chart and a ranked list. It shows tree cover extent by admin region. On hover the pie chart segments display the extent, in ha and %, for that region.\n",
    "\n",
    "The donut chart should display data for the top few admin regions, and group the rest together as 'Other Districts'\n",
    "\n",
    "Displayed data, ordered by DESC area(ha). \n",
    "\n",
    "1. Admin-2 or -1 name\n",
    "2. % of total extent\n",
    "3. Area of extent (ha)\n",
    "\n",
    "User Variables:\n",
    "\n",
    "1. Hanson extent ('Gadm28'), IFL2013, Plantations or Intact forest\n",
    "2. Admin-0 and -1 region\n",
    "\n"
   ]
  },
  {
   "cell_type": "code",
   "execution_count": 1,
   "metadata": {
    "ExecuteTime": {
     "end_time": "2017-12-18T15:11:17.673011Z",
     "start_time": "2017-12-18T15:11:16.497985Z"
    },
    "collapsed": true
   },
   "outputs": [],
   "source": [
    "#Import Global Metadata etc\n",
    "\n",
    "%run '0.Importable_Globals.ipynb'"
   ]
  },
  {
   "cell_type": "code",
   "execution_count": 2,
   "metadata": {
    "ExecuteTime": {
     "end_time": "2017-12-18T17:05:23.837860Z",
     "start_time": "2017-12-18T17:05:23.829228Z"
    },
    "collapsed": true
   },
   "outputs": [],
   "source": [
    "# VARIABLES\n",
    "\n",
    "location = 'All Region'   # 'plantations', 'ifl_2013', or 'primary_forests'... here 'gadm28'=default\n",
    "threshold = 0             # 0,10,15,20,25,30,50,75,100 \n",
    "adm0 = 'GBR'\n",
    "adm1 = 1            # To rank admin 1 areas, set to None\n",
    "                      # To rank admin 2 areas, specify an admin 1 level\n",
    "\n",
    "extent_year = 2000    #extent data, 2000 or 2010\n",
    "    \n",
    "\n",
    "tags = [\"forest_change\", \"land_cover\"]\n",
    "selectable_polynames = ['gadm28',\n",
    "            'wdpa',\n",
    "            'primary_forest',\n",
    "            'ifl_2013']"
   ]
  },
  {
   "cell_type": "code",
   "execution_count": 3,
   "metadata": {
    "ExecuteTime": {
     "end_time": "2017-12-18T17:05:24.569226Z",
     "start_time": "2017-12-18T17:05:24.533969Z"
    },
    "collapsed": true
   },
   "outputs": [],
   "source": [
    "# get admin 1 or 2 level human-readable name info as needed:\n",
    "adm1_to_name = None\n",
    "adm2_to_name = None\n",
    "\n",
    "if adm1:\n",
    "    \n",
    "    tmp = get_admin2_json(iso=adm0, adm1=adm1)\n",
    "    adm2_to_name ={}\n",
    "    for row in tmp:\n",
    "        adm2_to_name[row.get('adm2')] = row.get('name')\n",
    "\n",
    "tmp = get_admin1_json(iso=adm0)\n",
    "adm1_to_name={}\n",
    "for row in tmp:\n",
    "    adm1_to_name[row.get('adm1')] = row.get('name') "
   ]
  },
  {
   "cell_type": "code",
   "execution_count": 4,
   "metadata": {
    "ExecuteTime": {
     "end_time": "2017-12-18T17:05:25.343898Z",
     "start_time": "2017-12-18T17:05:25.329957Z"
    },
    "collapsed": true
   },
   "outputs": [],
   "source": [
    "# Returns json object containing admin-codes, total area and extent (both in ha)\n",
    "# If adm1 is not specified, it returns the total values for each adm1 region\n",
    "# Else, returns the adm2 values within that adm1 region\n",
    "# You may also specify a polyname (intersecting area) e.g. 'extent and % of plantations only'\n",
    "# By default polyname is 'gadm28' (all forest extent)\n",
    "\n",
    "def multiregion_extent_queries(adm0, adm1=None, year='area_extent_2000', p_name='gadm28', threshold=30):\n",
    "    if adm0 and not adm1:\n",
    "        print('Request for adm1 areas')\n",
    "        sql = (f\"SELECT adm1 as region, sum({year}) as extent, sum(area_gadm28) as total \"\n",
    "               f\"FROM {ds} \"\n",
    "               f\"WHERE iso = '{adm0}' \"\n",
    "               f\"AND thresh = {threshold} \"\n",
    "               f\"AND polyname = '{p_name}' \"\n",
    "               f\"GROUP BY adm1 \"\n",
    "               f\"ORDER BY adm1\")\n",
    "    elif adm0 and adm1:\n",
    "        print('Request for adm2 areas')\n",
    "        sql = (f\"SELECT adm2 as region, {year} as extent, area_gadm28 as total \"\n",
    "                f\"FROM {ds} \"\n",
    "                f\"WHERE iso = '{adm0}' \"\n",
    "                f\"AND thresh = {threshold} \"\n",
    "                f\"AND polyname = '{p_name}' \"\n",
    "                f\"AND adm1 = '{adm1}' \")\n",
    "    return sql"
   ]
  },
  {
   "cell_type": "code",
   "execution_count": 5,
   "metadata": {
    "ExecuteTime": {
     "end_time": "2017-12-18T17:05:26.366359Z",
     "start_time": "2017-12-18T17:05:26.351112Z"
    },
    "collapsed": true
   },
   "outputs": [],
   "source": [
    "# Takes the data from the above api call and generates a list containing the relevant data: \n",
    "# Admin-Code, Forest Extent Area, Percentage of Admin region\n",
    "# NOTE that 'area_percent' is the forest extent area relative to teh area of its admin-region.\n",
    "\n",
    "def data_output(data, adm1=None):\n",
    "    \n",
    "    output = []\n",
    "    for d in range(0, len(data)):\n",
    "        tmp_ = {\n",
    "\n",
    "            'region': data[d]['region'],\n",
    "            'area_percent': (100*data[d]['extent']/data[d]['total']),\n",
    "            'area_ha': data[d]['extent']\n",
    "\n",
    "        }\n",
    "        output.append(tmp_)\n",
    "\n",
    "    return output"
   ]
  },
  {
   "cell_type": "code",
   "execution_count": 6,
   "metadata": {
    "ExecuteTime": {
     "end_time": "2017-12-18T17:05:27.089631Z",
     "start_time": "2017-12-18T17:05:27.060939Z"
    }
   },
   "outputs": [
    {
     "name": "stdout",
     "output_type": "stream",
     "text": [
      "Request for adm2 areas\n",
      "https://production-api.globalforestwatch.org/v1/query/499682b1-3174-493f-ba1a-368b4636708e?sql=SELECT+adm2+as+region%2C+area_extent_2000+as+extent%2C+area_gadm28+as+total+FROM+499682b1-3174-493f-ba1a-368b4636708e+WHERE+iso+%3D+%27GBR%27+AND+thresh+%3D+0+AND+polyname+%3D+%27gadm28%27+AND+adm1+%3D+%271%27+\n",
      "Status: 200\n"
     ]
    },
    {
     "data": {
      "text/plain": [
       "[{'_id': 'AWB6gnoshRfkUZCTinkq',\n",
       "  'extent': 49073.7886068,\n",
       "  'region': 83,\n",
       "  'total': 319038.138828},\n",
       " {'_id': 'AWB6gnoshRfkUZCTinkt',\n",
       "  'extent': 32394.196472900003,\n",
       "  'region': 86,\n",
       "  'total': 164255.162317},\n",
       " {'_id': 'AWB6gnoshRfkUZCTinkv',\n",
       "  'extent': 364.751712129,\n",
       "  'region': 88,\n",
       "  'total': 6566.15341402}]"
      ]
     },
     "execution_count": 6,
     "metadata": {},
     "output_type": "execute_result"
    }
   ],
   "source": [
    "# Example sql and returned data\n",
    "\n",
    "\n",
    "url = f\"https://production-api.globalforestwatch.org/v1/query/{ds}\"\n",
    "sql = multiregion_extent_queries(adm0, adm1, extent_year_dict[extent_year], polynames[location], threshold)\n",
    "\n",
    "\n",
    "properties = {\"sql\": sql}\n",
    "r = requests.get(url, params = properties)\n",
    "print(r.url)\n",
    "print(f'Status: {r.status_code}')\n",
    "\n",
    "data = r.json()['data']\n",
    "\n",
    "data[0:3]"
   ]
  },
  {
   "cell_type": "code",
   "execution_count": 7,
   "metadata": {
    "ExecuteTime": {
     "end_time": "2017-12-18T17:05:28.251519Z",
     "start_time": "2017-12-18T17:05:28.242824Z"
    }
   },
   "outputs": [
    {
     "data": {
      "text/plain": [
       "[{'area_ha': 49073.7886068, 'area_percent': 15.381793783989156, 'region': 83},\n",
       " {'area_ha': 32394.196472900003,\n",
       "  'area_percent': 19.72187419618609,\n",
       "  'region': 86},\n",
       " {'area_ha': 364.751712129, 'area_percent': 5.555028783673938, 'region': 88}]"
      ]
     },
     "execution_count": 7,
     "metadata": {},
     "output_type": "execute_result"
    }
   ],
   "source": [
    "# After generating list return wanted metrics\n",
    "# (NOTE! This is not sorted.)\n",
    "\n",
    "extent_json = data_output(data, adm1)\n",
    "extent_json[0:3]\n"
   ]
  },
  {
   "cell_type": "code",
   "execution_count": 8,
   "metadata": {
    "ExecuteTime": {
     "end_time": "2017-12-18T17:05:29.213024Z",
     "start_time": "2017-12-18T17:05:29.203819Z"
    }
   },
   "outputs": [
    {
     "data": {
      "text/plain": [
       "[{'area_ha': 156889.08125999998,\n",
       "  'area_percent': 19.683208734271197,\n",
       "  'region': 69},\n",
       " {'area_ha': 125626.054, 'area_percent': 19.009059899765408, 'region': 22},\n",
       " {'area_ha': 110681.998869, 'area_percent': 16.1445199625583, 'region': 18}]"
      ]
     },
     "execution_count": 8,
     "metadata": {},
     "output_type": "execute_result"
    }
   ],
   "source": [
    "#Sort regions by area of loss (DESC)\n",
    "\n",
    "newlist = sorted(extent_json, key=lambda k: k['area_ha'], reverse=True) \n",
    "newlist[0:3]\n"
   ]
  },
  {
   "cell_type": "code",
   "execution_count": 9,
   "metadata": {
    "ExecuteTime": {
     "end_time": "2017-12-18T17:05:30.407987Z",
     "start_time": "2017-12-18T17:05:30.099359Z"
    }
   },
   "outputs": [
    {
     "data": {
      "image/png": "[encoded data removed]",
      "text/plain": [
       "<matplotlib.figure.Figure at 0x111aab2e8>"
      ]
     },
     "metadata": {},
     "output_type": "display_data"
    }
   ],
   "source": [
    "# Example donut chart \n",
    "# NOTE - THE COLOURS ARE NOT NECESSARILY THOSE NEEDED FOR PRODUCTION\n",
    "  \n",
    "limit = 0\n",
    "sizes = []\n",
    "labels = [] \n",
    "\n",
    "for r in range(0,10):\n",
    "    \n",
    "    try:\n",
    "        if adm1:\n",
    "            labels.append(adm2_to_name[newlist[r].get('region')])\n",
    "        elif adm0:\n",
    "            labels.append(adm1_to_name[newlist[r].get('region')])\n",
    "        sizes.append(newlist[r].get('area_ha'))\n",
    "        \n",
    "    except:\n",
    "        break\n",
    "    limit += 1\n",
    "      \n",
    "other_regions=0\n",
    "\n",
    "for rows in range(limit+1,len(newlist)):\n",
    "    other_regions += newlist[rows].get('area_ha')\n",
    "\n",
    "if other_regions != 0:\n",
    "    labels.append('Other regions')\n",
    "    sizes.append(other_regions)\n",
    "            \n",
    "if adm1:\n",
    "    title = adm1_to_name[adm1]\n",
    "elif adm0:\n",
    "    title = iso_to_countries[adm0]\n",
    "\n",
    "fig1, ax1 = plt.subplots()\n",
    "ax1.pie(sizes, labels=labels, autopct='%1.1f%%',\n",
    "        shadow=False, startangle=90, colors=['#0da330', '#69ef88','green','grey'])\n",
    "ax1.axis('equal')\n",
    "centre_circle = plt.Circle((0,0),0.75,color='black', fc='white',linewidth=0.5)\n",
    "fig1 = plt.gcf()\n",
    "fig1.gca().add_artist(centre_circle)\n",
    "plt.title(f'Forest cover in {title}')\n",
    "plt.show()"
   ]
  },
  {
   "cell_type": "markdown",
   "metadata": {},
   "source": [
    "<a id='s10'></a>\n",
    "### Dynamic Sentence for \"Where are Forests Located?\" Widget\n",
    "\n",
    "1. Returns the no of regions responsible for >50% of the regions tree cover extent (adm1)\n",
    "     - or, the extent (%) that the top 10% of regions are responsible for (adm2)\n",
    "2. Max and Min extent (%) in that region\n",
    "3. Average extent (%) that each region contributes to the total"
   ]
  },
  {
   "cell_type": "code",
   "execution_count": 10,
   "metadata": {
    "ExecuteTime": {
     "end_time": "2017-12-18T17:05:35.514606Z",
     "start_time": "2017-12-18T17:05:35.510033Z"
    },
    "collapsed": true
   },
   "outputs": [],
   "source": [
    "#Calculate total three cover loss at this threshold\n",
    "total = 0\n",
    "\n",
    "for i in range(0,len(extent_json)):\n",
    "    total += newlist[i]['area_ha']"
   ]
  },
  {
   "cell_type": "code",
   "execution_count": 11,
   "metadata": {
    "ExecuteTime": {
     "end_time": "2017-12-18T17:05:36.327715Z",
     "start_time": "2017-12-18T17:05:36.314951Z"
    }
   },
   "outputs": [
    {
     "data": {
      "text/plain": [
       "[7.622505706683136, 6.1035816248815475, 5.377519972902983]"
      ]
     },
     "execution_count": 11,
     "metadata": {},
     "output_type": "execute_result"
    }
   ],
   "source": [
    "# Calculate % extent for the sub-region (relative to total extent) Also filters out incorrect/duplicated data\n",
    "\n",
    "correct_list = []\n",
    "for i in range(0,len(extent_json)):\n",
    "    if(i != 0 and newlist[i]['region'] != newlist[i-1]['region']):\n",
    "        correct_list.append(100*newlist[i]['area_ha']/total)\n",
    "    elif i == 0:\n",
    "        correct_list.append(100*newlist[i]['area_ha']/total)\n",
    "correct_list[0:3]"
   ]
  },
  {
   "cell_type": "code",
   "execution_count": 12,
   "metadata": {
    "ExecuteTime": {
     "end_time": "2017-12-18T17:05:37.051445Z",
     "start_time": "2017-12-18T17:05:37.045294Z"
    },
    "collapsed": true
   },
   "outputs": [],
   "source": [
    "#Calculate the mean extent\n",
    "\n",
    "mean=0\n",
    "for i in range(0, len(correct_list)):\n",
    "    \n",
    "    mean += correct_list[i]\n",
    "    \n",
    "mean = mean/len(correct_list)"
   ]
  },
  {
   "cell_type": "code",
   "execution_count": 13,
   "metadata": {
    "ExecuteTime": {
     "end_time": "2017-12-18T17:05:39.182116Z",
     "start_time": "2017-12-18T17:05:39.169695Z"
    },
    "collapsed": true
   },
   "outputs": [],
   "source": [
    "# Percentile calcs: work out how many regions are responsible for >50% loss\n",
    "# x is no. of adm regions.\n",
    "tenth_percentile = int(len(correct_list)/10)\n",
    "if adm1:\n",
    "    top_ten_index = tenth_percentile\n",
    "    total = np.sum(correct_list[0: top_ten_index+1])\n",
    "     \n",
    "accumulated_percent = 0\n",
    "for n, item in enumerate(correct_list):\n",
    "    accumulated_percent += item\n",
    "    if accumulated_percent >= 50:\n",
    "        lower_fity_percentile_regions = n +1\n",
    "        break"
   ]
  },
  {
   "cell_type": "code",
   "execution_count": 14,
   "metadata": {
    "ExecuteTime": {
     "end_time": "2017-12-18T17:05:39.927436Z",
     "start_time": "2017-12-18T17:05:39.918426Z"
    }
   },
   "outputs": [
    {
     "data": {
      "text/plain": [
       "{'avg': 0.8928571428571431,\n",
       " 'max': 7.622505706683136,\n",
       " 'min': 0.00012430832888495695}"
      ]
     },
     "execution_count": 14,
     "metadata": {},
     "output_type": "execute_result"
    }
   ],
   "source": [
    "#Extent Stats\n",
    "extent_stats = { 'max': correct_list[0], 'min': correct_list[len(correct_list)-1], 'avg': mean}\n",
    "extent_stats"
   ]
  },
  {
   "cell_type": "code",
   "execution_count": 15,
   "metadata": {
    "ExecuteTime": {
     "end_time": "2017-12-18T17:05:41.200080Z",
     "start_time": "2017-12-18T17:05:41.124086Z"
    }
   },
   "outputs": [
    {
     "name": "stdout",
     "output_type": "stream",
     "text": [
      "The top 11 sub-regions are responsible for 49% of England's regional tree cover in 2000 where tree canopy is greater than 0%. North Yorkshire has the largest relative tree cover in England, at 8% compared to an average of 0.9%. "
     ]
    }
   ],
   "source": [
    "#Dynamic sentence. For adm2.\n",
    "\n",
    "if adm1:\n",
    "    if len(correct_list) > 10:\n",
    "        print(f\"The top {tenth_percentile} sub-regions are responsible for \", end=\"\")\n",
    "        print(f\"{total:,.0f}% of {adm1_to_name[adm1]}'s \", end=\"\")\n",
    "\n",
    "        if location == 'All Region':\n",
    "            print(f\"regional tree cover in {extent_year} \", end=\"\")\n",
    "            print(f\"where tree canopy is greater than {threshold}%. \", end=\"\")\n",
    "        elif (location == 'Mining' or 'Mining in Intact Forest Landscapes' or 'Mining in Plantation Areas'):\n",
    "            print(f\"tree cover in areas with {location.lower()} in {extent_year} \", end=\"\")\n",
    "            print(f\"where tree canopy is greater than {threshold}%. \", end=\"\")\n",
    "        else:\n",
    "            print(f\"tree cover found in {location.lower()} in {extent_year} \", end=\"\")\n",
    "            print(f\"where tree canopy is greater than {threshold}%. \", end=\"\")\n",
    "   \n",
    "    print(f\"{adm2_to_name[newlist[0].get('region')]} has the largest relative tree cover \", end=\"\")\n",
    "    print(f\"in {adm1_to_name[adm1]}, at {extent_stats['max']:,.0f}% compared to an average \", end=\"\")\n",
    "    print(f\"of {extent_stats['avg']:,.1f}%. \", end=\"\")\n",
    "    \n",
    "    \n",
    "else:\n",
    "    \n",
    "#Dynamic sentence. For adm1.\n",
    "    if len(correct_list) > 10:\n",
    "        print(f\"In {iso_to_countries[adm0]} {lower_fity_percentile_regions} \", end=\"\")\n",
    "        print(f\"regions represent more than half ({accumulated_percent:,.0f}%) \",end=\"\")\n",
    "\n",
    "        print(f\"of all tree cover extent \", end=\"\")\n",
    "        if location == 'All Region':\n",
    "            print(f\"country-wide. \", end=\"\")\n",
    "        elif (location == 'Mining' or 'Mining in Intact Forest Landscapes' or 'Mining in Plantation Areas'):\n",
    "            print(f\"in areas with {location.lower()}. \", end=\"\")\n",
    "        else:\n",
    "            print(f\"found in {location.lower()}. \", end=\"\")\n",
    "            \n",
    "    else:\n",
    "        print(f\"Within {iso_to_countries[adm0]}, \", end=\"\")        \n",
    "            \n",
    "    print(f\"{adm1_to_name[newlist[0].get('region')]} \", end=\"\")\n",
    "    print(f\"has the largest relative tree cover in {extent_year} \", end=\"\")\n",
    "    print(f\"at {extent_stats['max']:,.0f}%, \", end=\"\")\n",
    "    print(f\"where tree canopy is greater than {threshold}%. \", end=\"\")\n",
    "    print(f\"This is compared to an average of {extent_stats['avg']:,.1f}%. \", end=\"\")"
   ]
  },
  {
   "cell_type": "code",
   "execution_count": null,
   "metadata": {
    "collapsed": true
   },
   "outputs": [],
   "source": []
  }
 ],
 "metadata": {
  "anaconda-cloud": {},
  "kernelspec": {
   "display_name": "Python 3",
   "language": "python",
   "name": "python3"
  },
  "language_info": {
   "codemirror_mode": {
    "name": "ipython",
    "version": 3
   },
   "file_extension": ".py",
   "mimetype": "text/x-python",
   "name": "python",
   "nbconvert_exporter": "python",
   "pygments_lexer": "ipython3",
   "version": "3.6.2"
  },
  "toc": {
   "nav_menu": {},
   "number_sections": true,
   "sideBar": true,
   "skip_h1_title": false,
   "toc_cell": false,
   "toc_position": {},
   "toc_section_display": "block",
   "toc_window_display": false
  }
 },
 "nbformat": 4,
 "nbformat_minor": 2
}
