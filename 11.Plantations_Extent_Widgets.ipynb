{
 "cells": [
  {
   "cell_type": "markdown",
   "metadata": {
    "collapsed": true
   },
   "source": [
    "# Plantations Extent widget\n",
    "\n",
    "Shows the area of plantation in a country (adm0 level) visualised as a pie chart, where each type of plantation is represented as a different colour vs. non-plantation area. This widget only applies to a small number of countries. Plantations by SPECIES should be defauly\n",
    "\n",
    "Data:\n",
    "\n",
    "1. admn-0, -1, -2\n",
    "2. polyname = 'plantations'\n",
    "3. plantation type ('bound1') or species ('bound2')\n",
    "4. plantation area (area_poly_aoi)\n",
    "5. other areas (area_gadm28 - sum of others)\n",
    "\n",
    "User Variables:\n",
    "\n",
    "1. unit (ha/% of regions extent)\n",
    "2. Adm0, 1, 2\n",
    "3. Threshold\n",
    "\n",
    "How to:\n",
    "\n",
    "- collect gadm28 extent for region\n",
    "- collect extent area for plantation subclasses\n",
    "- Outside Plantations in ha = gadm28 - sum(plantation subclasses)\n",
    "- Outside Plantations in % = 100 * { gadm28 - sum(plantation subclasses) / gadm28 }"
   ]
  },
  {
   "cell_type": "code",
   "execution_count": 1,
   "metadata": {
    "ExecuteTime": {
     "end_time": "2017-12-18T15:11:17.673011Z",
     "start_time": "2017-12-18T15:11:16.497985Z"
    }
   },
   "outputs": [],
   "source": [
    "#Import Global Metadata etc\n",
    "\n",
    "%run '0.Importable_Globals.ipynb'"
   ]
  },
  {
   "cell_type": "code",
   "execution_count": 2,
   "metadata": {},
   "outputs": [],
   "source": [
    "def extent_queries(p_name, year, adm0, adm1=None, adm2 = None, threshold=30):\n",
    "    if adm2:\n",
    "        print('Request for adm2 area')\n",
    "        sql = (f\"SELECT SUM({year}) as value, \"\n",
    "               f\"SUM(area_gadm28) as total_area \"\n",
    "               f\"FROM data \"\n",
    "               f\"WHERE iso = '{adm0}' \"\n",
    "               f\"AND adm1 = {adm1} \"\n",
    "               f\"AND adm2 = {adm2} \"\n",
    "               \"AND thresh = {threshold} \"\n",
    "               f\"AND polyname = '{p_name}'\")\n",
    "        return sql\n",
    "    elif adm1:\n",
    "        print('Request for  adm1 area')\n",
    "        sql = (f\"SELECT SUM({year}) as value, \"\n",
    "               f\"SUM(area_gadm28) as total_area \"\n",
    "               f\"FROM data \"\n",
    "               f\"WHERE iso = '{adm0}' \"\n",
    "               f\"AND adm1 = {adm1} \"\n",
    "               f\"AND thresh = {threshold} \"\n",
    "               f\"AND polyname = '{p_name}'\")\n",
    "        return sql\n",
    "    elif adm0:\n",
    "        print('Request for  adm0 area')\n",
    "        sql = (f\"SELECT SUM({year}) as value, \"\n",
    "               f\"SUM(area_gadm28) as total_area \"\n",
    "               f\"FROM data \"\n",
    "               f\"WHERE iso = '{adm0}' \"\n",
    "               f\"AND thresh = {threshold} \"\n",
    "               f\"AND polyname = '{p_name}'\")\n",
    "        return sql"
   ]
  },
  {
   "cell_type": "markdown",
   "metadata": {},
   "source": [
    "# By Plantation *Type*"
   ]
  },
  {
   "cell_type": "code",
   "execution_count": 10,
   "metadata": {
    "ExecuteTime": {
     "end_time": "2017-12-18T17:06:51.263716Z",
     "start_time": "2017-12-18T17:06:51.255140Z"
    }
   },
   "outputs": [],
   "source": [
    "# VARIABLES\n",
    "\n",
    "thresh = 0            # 0,10,15,20,25,30,50,75,100 \n",
    "\n",
    "adm0 = 'BRA'          # 'BRA', 'IDN', 'MYS', 'COL', 'KHM', 'LBR', 'PER'\n",
    "adm1 = 8             # To rank admin 1 areas, set to None\n",
    "adm2 = 808                     # To rant admin 2 areas, specify an admin 1 level\n",
    "\n",
    "extent_year = 2000     #extent data (2000 or 2010)\n",
    "\n",
    "tags = [\"land_cover\", \"land_use\"]\n",
    "selectable_polynames = ['gadm28', 'plantations']"
   ]
  },
  {
   "cell_type": "code",
   "execution_count": 11,
   "metadata": {
    "ExecuteTime": {
     "end_time": "2017-12-18T17:06:52.917238Z",
     "start_time": "2017-12-18T17:06:52.898047Z"
    }
   },
   "outputs": [],
   "source": [
    "def plantations_type_queries(adm0, adm1=None, adm2=None, year='area_extent_2000', threshold=30):\n",
    "    if adm2:\n",
    "        print('Request for adm2 area')\n",
    "        sql = (f\"SELECT SUM({year}) AS plantation_extent \"\n",
    "               f\"FROM data \"\n",
    "               f\"WHERE iso = '{adm0}' \"\n",
    "               f\"AND adm1 = {adm1} \"\n",
    "               f\"AND adm2 = {adm2}\"\n",
    "               f\"AND thresh = {threshold} \"\n",
    "               f\"AND polyname = 'plantations' \"\n",
    "               f\"GROUP BY bound1 \"\n",
    "               f\"ORDER BY plantation_extent DESC\")\n",
    "        return sql\n",
    "    elif adm1:\n",
    "        print('Request for  adm1 area')\n",
    "        sql = (f\"SELECT SUM({year}) AS plantation_extent \"\n",
    "               f\"FROM data \"\n",
    "               f\"WHERE iso = '{adm0}' \"\n",
    "               f\"AND adm1 = {adm1} \"\n",
    "               f\"AND thresh = {threshold} \"\n",
    "               f\"AND polyname = 'plantations' \"\n",
    "               f\"GROUP BY bound1 \"\n",
    "               f\"ORDER BY plantation_extent DESC\")\n",
    "        return sql\n",
    "    elif adm0:\n",
    "        print('Request for  adm0 area')\n",
    "        sql = (f\"SELECT SUM({year}) AS plantation_extent \"\n",
    "               f\"FROM data \"\n",
    "               f\"WHERE iso = '{adm0}' \"\n",
    "               f\"AND thresh = {threshold} \"\n",
    "               f\"AND polyname = 'plantations' \"\n",
    "               f\"GROUP BY bound1 \"\n",
    "               f\"ORDER BY plantation_extent DESC\")\n",
    "        return sql"
   ]
  },
  {
   "cell_type": "code",
   "execution_count": 12,
   "metadata": {
    "ExecuteTime": {
     "end_time": "2017-12-18T17:06:54.306851Z",
     "start_time": "2017-12-18T17:06:53.508709Z"
    }
   },
   "outputs": [
    {
     "name": "stdout",
     "output_type": "stream",
     "text": [
      "Request for adm2 area\n",
      "https://production-api.globalforestwatch.org/v1/query/499682b1-3174-493f-ba1a-368b4636708e?sql=SELECT+SUM%28area_extent_2000%29+AS+plantation_extent+FROM+data+WHERE+iso+%3D+%27BRA%27+AND+adm1+%3D+8+AND+adm2+%3D+808AND+thresh+%3D+0+AND+polyname+%3D+%27plantations%27+GROUP+BY+bound1+ORDER+BY+plantation_extent+DESC\n",
      "Status: 200\n"
     ]
    },
    {
     "data": {
      "text/plain": [
       "[{'bound1': 'Large industrial plantation',\n",
       "  'plantation_extent': 21290.966796875},\n",
       " {'bound1': 'Clearing/ very young plantation',\n",
       "  'plantation_extent': 5859.81884765625}]"
      ]
     },
     "execution_count": 12,
     "metadata": {},
     "output_type": "execute_result"
    }
   ],
   "source": [
    "# Get the sum of extent in region, grouped by TYPE\n",
    "url = f\"https://production-api.globalforestwatch.org/v1/query/{ds}\"\n",
    "\n",
    "sql = plantations_type_queries(adm0=adm0, adm1=adm1, adm2=adm2,\n",
    "                               year=extent_year_dict[extent_year], threshold=thresh)\n",
    "\n",
    "properties = {\"sql\": sql}\n",
    "r = requests.get(url, params = properties)\n",
    "print(r.url)\n",
    "print(f'Status: {r.status_code}')\n",
    "\n",
    "plantations_ha = r.json().get('data')\n",
    "plantations_ha\n"
   ]
  },
  {
   "cell_type": "code",
   "execution_count": 13,
   "metadata": {
    "ExecuteTime": {
     "end_time": "2017-12-18T17:06:55.264325Z",
     "start_time": "2017-12-18T17:06:54.310254Z"
    }
   },
   "outputs": [
    {
     "name": "stdout",
     "output_type": "stream",
     "text": [
      "Request for  adm0 area\n",
      "https://production-api.globalforestwatch.org/v1/query/499682b1-3174-493f-ba1a-368b4636708e?sql=SELECT+SUM%28area_extent_2000%29+as+value%2C+SUM%28area_gadm28%29+as+total_area+FROM+data+WHERE+iso+%3D+%27BRA%27+AND+thresh+%3D+0+AND+polyname+%3D+%27gadm28%27\n",
      "Status: 200\n"
     ]
    },
    {
     "data": {
      "text/plain": [
       "[{'total_area': 850033236.0091553, 'value': 566751560.1416798}]"
      ]
     },
     "execution_count": 13,
     "metadata": {},
     "output_type": "execute_result"
    }
   ],
   "source": [
    "# Get total extent (using gadm28 p_name)\n",
    "url = f\"https://production-api.globalforestwatch.org/v1/query/{ds}\"\n",
    "sql = extent_queries('gadm28', extent_year_dict[extent_year], adm0, adm1=None, adm2 = None, threshold=thresh)\n",
    "\n",
    "properties = {\"sql\": sql}\n",
    "r = requests.get(url, params = properties)\n",
    "print(r.url)\n",
    "print(f'Status: {r.status_code}')\n",
    "extent = r.json().get('data')\n",
    "extent"
   ]
  },
  {
   "cell_type": "code",
   "execution_count": 14,
   "metadata": {
    "ExecuteTime": {
     "end_time": "2017-12-18T17:06:55.281815Z",
     "start_time": "2017-12-18T17:06:55.267725Z"
    }
   },
   "outputs": [
    {
     "data": {
      "text/plain": [
       "27150.78564453125"
      ]
     },
     "execution_count": 14,
     "metadata": {},
     "output_type": "execute_result"
    }
   ],
   "source": [
    "#Calculate the cpombined plantation area, and populate size(ha) and label arrays\n",
    "\n",
    "total_plantation_area = 0\n",
    "sizes = []\n",
    "labels = []\n",
    "\n",
    "for p in plantations_ha:\n",
    "    if p.get('plantation_extent') != 0:\n",
    "        total_plantation_area += p.get('plantation_extent')\n",
    "        sizes.append(p.get('plantation_extent'))\n",
    "        labels.append(p.get('bound1'))\n",
    "total_plantation_area\n"
   ]
  },
  {
   "cell_type": "code",
   "execution_count": 15,
   "metadata": {
    "ExecuteTime": {
     "end_time": "2017-12-18T17:06:55.902275Z",
     "start_time": "2017-12-18T17:06:55.894850Z"
    }
   },
   "outputs": [
    {
     "data": {
      "text/plain": [
       "[78.41749802611497, 21.58250197388503]"
      ]
     },
     "execution_count": 15,
     "metadata": {},
     "output_type": "execute_result"
    }
   ],
   "source": [
    "# calculate percentages relative to total plantation extent\n",
    "plantation_percent = []\n",
    "\n",
    "for s in sizes:\n",
    "    if s != 0:\n",
    "        plantation_percent.append(100*s/total_plantation_area)\n",
    "plantation_percent"
   ]
  },
  {
   "cell_type": "code",
   "execution_count": 16,
   "metadata": {
    "ExecuteTime": {
     "end_time": "2017-12-18T17:06:56.847527Z",
     "start_time": "2017-12-18T17:06:56.838959Z"
    }
   },
   "outputs": [
    {
     "data": {
      "text/plain": [
       "566724409.3560352"
      ]
     },
     "execution_count": 16,
     "metadata": {},
     "output_type": "execute_result"
    }
   ],
   "source": [
    "#Calculate extent outside of plantations\n",
    "\n",
    "other_areas = extent[0].get('value') - total_plantation_area\n",
    "other_areas"
   ]
  },
  {
   "cell_type": "code",
   "execution_count": 17,
   "metadata": {
    "ExecuteTime": {
     "end_time": "2017-12-18T17:06:57.755500Z",
     "start_time": "2017-12-18T17:06:57.538253Z"
    }
   },
   "outputs": [
    {
     "data": {
      "image/png": "[encoded data removed]",
      "text/plain": [
       "<matplotlib.figure.Figure at 0x11a518898>"
      ]
     },
     "metadata": {},
     "output_type": "display_data"
    }
   ],
   "source": [
    "# Example donut chart \n",
    "# NOTE - THE COLOURS ARE NOT NECESSARILY THOSE NEEDED FOR PRODUCTION\n",
    "            \n",
    "# Use the below if you wish to include 'Other areas' data (doesn't look great in most cases!)\n",
    "\n",
    "\"\"\"\n",
    "labels.append('Other areas')\n",
    "sizes.append(other_areas)\n",
    "\"\"\"\n",
    "\n",
    "fig1, ax1 = plt.subplots()\n",
    "ax1.pie(sizes, labels=labels, autopct='%1.1f%%',\n",
    "        shadow=False, startangle=90, colors=['#0da330', '#69ef88','green','grey'])\n",
    "ax1.axis('equal')\n",
    "centre_circle = plt.Circle((0,0),0.75,color='black', fc='white',linewidth=0.5)\n",
    "fig1 = plt.gcf()\n",
    "fig1.gca().add_artist(centre_circle)\n",
    "plt.title('Plantations Extent')\n",
    "plt.show()"
   ]
  },
  {
   "cell_type": "markdown",
   "metadata": {},
   "source": [
    "<a id='s16'></a>\n",
    "### Dynamic Sentence for TYPE"
   ]
  },
  {
   "cell_type": "code",
   "execution_count": 18,
   "metadata": {
    "ExecuteTime": {
     "end_time": "2017-12-18T17:07:00.412227Z",
     "start_time": "2017-12-18T17:07:00.396119Z"
    }
   },
   "outputs": [],
   "source": [
    "# get admin 1 or 2 level human-readable name info as needed:\n",
    "adm1_to_name = None\n",
    "adm2_to_name = None\n",
    "\n",
    "if adm2:\n",
    "    \n",
    "    tmp = get_admin2_json(iso=adm0, adm1=adm1)\n",
    "    adm2_to_name ={}\n",
    "    for row in tmp:\n",
    "        adm2_to_name[row.get('adm2')] = row.get('name')\n",
    "elif adm1:\n",
    "\n",
    "    tmp = get_admin1_json(iso=adm0)\n",
    "    adm1_to_name={}\n",
    "    for row in tmp:\n",
    "        adm1_to_name[row.get('adm1')] = row.get('name') "
   ]
  },
  {
   "cell_type": "code",
   "execution_count": 19,
   "metadata": {
    "ExecuteTime": {
     "end_time": "2017-12-18T17:07:01.044789Z",
     "start_time": "2017-12-18T17:07:01.026184Z"
    }
   },
   "outputs": [
    {
     "name": "stdout",
     "output_type": "stream",
     "text": [
      "The largest plantation type in Aracruz by area are large industrial plantations, containing 21,291ha of tree cover in. This represents 0.00% of Aracruz's total tree cover extent in 2000 where the canopy cover is greater than 0%. "
     ]
    }
   ],
   "source": [
    "#Dynamic sentence. For type.\n",
    "if adm2:\n",
    "    region_name = adm2_to_name[adm2]\n",
    "elif adm1:\n",
    "    region_name = adm1_to_name[adm1]\n",
    "elif adm0:\n",
    "    region_name = iso_to_countries[adm0]\n",
    "\n",
    "print(f\"The largest plantation type in {region_name} by area are \", end=\"\")\n",
    "print(f\"{plantation_type_dict[plantations_ha[0].get('bound1')]} plantations, \", end=\"\")\n",
    "print(f\"containing {plantations_ha[0].get('plantation_extent'):,.0f}ha of tree cover in. \", end=\"\")\n",
    "\n",
    "print(f\"This represents {100*plantations_ha[0].get('plantation_extent')/ extent[0].get('value'):.2f}% \", end=\"\")\n",
    "print(f\"of {region_name}'s total tree cover extent in {extent_year} \", end=\"\")\n",
    "print(f\"where the canopy cover is greater than {thresh}%. \", end=\"\")\n"
   ]
  },
  {
   "cell_type": "markdown",
   "metadata": {},
   "source": [
    "<a id='s17'></a>\n",
    "# By Plantation *Species* (default)"
   ]
  },
  {
   "cell_type": "code",
   "execution_count": 20,
   "metadata": {},
   "outputs": [],
   "source": [
    "# VARIABLES\n",
    "\n",
    "thresh = 0            # 0,10,15,20,25,30,50,75,100 \n",
    "\n",
    "adm0 = 'BRA'          # 'BRA', 'IDN', 'MYS', 'COL', 'KHM', 'LBR', 'PER'\n",
    "adm1 = None             # To rank admin 1 areas, set to None\n",
    "adm2 = None                     # To rant admin 2 areas, specify an admin 1 level\n",
    "\n",
    "extent_year = 2000     #extent data (2000 or 2010)\n",
    "\n",
    "tags = [\"land_cover\", \"land_use\"]\n",
    "selectable_polynames = ['gadm28', 'plantations']"
   ]
  },
  {
   "cell_type": "code",
   "execution_count": 21,
   "metadata": {
    "ExecuteTime": {
     "end_time": "2017-12-18T17:07:03.562419Z",
     "start_time": "2017-12-18T17:07:03.543269Z"
    }
   },
   "outputs": [],
   "source": [
    "def plantations_species_queries(adm0, adm1=None, adm2=None, year='area_extent_2000', threshold=30):\n",
    "    if adm2:\n",
    "        print('Request for adm2 area')\n",
    "        sql = (f\"SELECT SUM({year}) AS plantation_extent \"\n",
    "               f\"FROM data \"\n",
    "               f\"WHERE iso = '{adm0}' \"\n",
    "               f\"AND adm1 = {adm1} \"\n",
    "               f\"AND adm2 = {adm2}\"\n",
    "               f\"AND thresh = {threshold} \"\n",
    "               f\"AND polyname = 'plantations' \"\n",
    "               f\"GROUP BY bound2 \"\n",
    "               f\"ORDER BY plantation_extent DESC\")\n",
    "        return sql\n",
    "    elif adm1:\n",
    "        print('Request for  adm1 area')\n",
    "        sql = (f\"SELECT SUM({year}) AS plantation_extent \"\n",
    "               f\"FROM data \"\n",
    "               f\"WHERE iso = '{adm0}' \"\n",
    "               f\"AND adm1 = {adm1} \"\n",
    "               f\"AND thresh = {threshold} \"\n",
    "               f\"AND polyname = 'plantations' \"\n",
    "               f\"GROUP BY bound2 \"\n",
    "               f\"ORDER BY plantation_extent DESC\")\n",
    "        return sql\n",
    "    elif adm0:\n",
    "        print('Request for  adm0 area')\n",
    "        sql = (f\"SELECT SUM({year}) AS plantation_extent \"\n",
    "               f\"FROM data \"\n",
    "               f\"WHERE iso = '{adm0}' \"\n",
    "               f\"AND thresh = {threshold} \"\n",
    "               f\"AND polyname = 'plantations' \"\n",
    "               f\"GROUP BY bound2 \"\n",
    "               f\"ORDER BY plantation_extent DESC\")\n",
    "        return sql"
   ]
  },
  {
   "cell_type": "code",
   "execution_count": 22,
   "metadata": {
    "ExecuteTime": {
     "end_time": "2017-12-18T17:07:05.256468Z",
     "start_time": "2017-12-18T17:07:04.456102Z"
    }
   },
   "outputs": [
    {
     "name": "stdout",
     "output_type": "stream",
     "text": [
      "Request for  adm0 area\n",
      "https://production-api.globalforestwatch.org/v1/query/499682b1-3174-493f-ba1a-368b4636708e?sql=SELECT+SUM%28area_extent_2000%29+AS+plantation_extent+FROM+data+WHERE+iso+%3D+%27BRA%27+AND+thresh+%3D+0+AND+polyname+%3D+%27plantations%27+GROUP+BY+bound2+ORDER+BY+plantation_extent+DESC\n",
      "Status: 200\n"
     ]
    },
    {
     "data": {
      "text/plain": [
       "[{'bound2': 'Wood fiber / timber', 'plantation_extent': 4251017.472964287},\n",
       " {'bound2': 'Recently cleared', 'plantation_extent': 415829.0335399434},\n",
       " {'bound2': 'Unknown', 'plantation_extent': 244621.9651652798},\n",
       " {'bound2': 'Fruit', 'plantation_extent': 151119.37168298662},\n",
       " {'bound2': 'Oil palm', 'plantation_extent': 88222.76972579956},\n",
       " {'bound2': 'Other mix', 'plantation_extent': 58905.92364119738},\n",
       " {'bound2': 'Rubber', 'plantation_extent': 35447.52286718041}]"
      ]
     },
     "execution_count": 22,
     "metadata": {},
     "output_type": "execute_result"
    }
   ],
   "source": [
    "# Get the sum of extent in region, grouped by TYPE\n",
    "url = f\"https://production-api.globalforestwatch.org/v1/query/{ds}\"\n",
    "\n",
    "sql = plantations_species_queries(adm0=adm0, adm1=adm1, adm2=adm2,\n",
    "                                  year=extent_year_dict[extent_year], threshold=thresh)\n",
    "\n",
    "properties = {\"sql\": sql}\n",
    "r = requests.get(url, params = properties)\n",
    "print(r.url)\n",
    "print(f'Status: {r.status_code}')\n",
    "\n",
    "plantations_ha = r.json().get('data')\n",
    "plantations_ha\n"
   ]
  },
  {
   "cell_type": "code",
   "execution_count": 23,
   "metadata": {
    "ExecuteTime": {
     "end_time": "2017-12-18T17:07:09.965194Z",
     "start_time": "2017-12-18T17:07:09.937859Z"
    }
   },
   "outputs": [
    {
     "name": "stdout",
     "output_type": "stream",
     "text": [
      "Request for  adm0 area\n",
      "https://production-api.globalforestwatch.org/v1/query/499682b1-3174-493f-ba1a-368b4636708e?sql=SELECT+SUM%28area_extent_2000%29+as+value%2C+SUM%28area_gadm28%29+as+total_area+FROM+data+WHERE+iso+%3D+%27BRA%27+AND+thresh+%3D+0+AND+polyname+%3D+%27gadm28%27\n",
      "Status: 200\n"
     ]
    },
    {
     "data": {
      "text/plain": [
       "[{'total_area': 850033236.0091553, 'value': 566751560.1416798}]"
      ]
     },
     "execution_count": 23,
     "metadata": {},
     "output_type": "execute_result"
    }
   ],
   "source": [
    "# Get total extent (using gadm28 p_name)\n",
    "url = f\"https://production-api.globalforestwatch.org/v1/query/{ds}\"\n",
    "sql = extent_queries('gadm28', extent_year_dict[extent_year], adm0, adm1=None, adm2 = None, threshold=thresh)\n",
    "\n",
    "properties = {\"sql\": sql}\n",
    "r = requests.get(url, params = properties)\n",
    "print(r.url)\n",
    "print(f'Status: {r.status_code}')\n",
    "extent = r.json().get('data')\n",
    "extent"
   ]
  },
  {
   "cell_type": "code",
   "execution_count": 24,
   "metadata": {
    "ExecuteTime": {
     "end_time": "2017-12-18T17:07:10.764289Z",
     "start_time": "2017-12-18T17:07:10.752924Z"
    }
   },
   "outputs": [
    {
     "data": {
      "text/plain": [
       "5245164.059586674"
      ]
     },
     "execution_count": 24,
     "metadata": {},
     "output_type": "execute_result"
    }
   ],
   "source": [
    "#Calculate the cpombined plantation area, and populate size(ha) and label arrays\n",
    "\n",
    "total_plantation_area = 0\n",
    "sizes = []\n",
    "labels = []\n",
    "\n",
    "for p in plantations_ha:\n",
    "    if p.get('plantation_extent') != 0:\n",
    "        total_plantation_area += p.get('plantation_extent')\n",
    "        sizes.append(p.get('plantation_extent'))\n",
    "        labels.append(p.get('bound2'))\n",
    "total_plantation_area\n"
   ]
  },
  {
   "cell_type": "code",
   "execution_count": 25,
   "metadata": {
    "ExecuteTime": {
     "end_time": "2017-12-18T17:07:11.786433Z",
     "start_time": "2017-12-18T17:07:11.776957Z"
    }
   },
   "outputs": [
    {
     "data": {
      "text/plain": [
       "[81.04641579694025,\n",
       " 7.927855617402963,\n",
       " 4.663761941214787,\n",
       " 2.8811181112015594,\n",
       " 1.6819830366326356,\n",
       " 1.1230520718133505,\n",
       " 0.675813424794452]"
      ]
     },
     "execution_count": 25,
     "metadata": {},
     "output_type": "execute_result"
    }
   ],
   "source": [
    "# calculate percentages relative to total plantation extent\n",
    "plantation_percent = []\n",
    "\n",
    "for s in sizes:\n",
    "    if s != 0:\n",
    "        plantation_percent.append(100*s/total_plantation_area)\n",
    "plantation_percent"
   ]
  },
  {
   "cell_type": "code",
   "execution_count": 26,
   "metadata": {
    "ExecuteTime": {
     "end_time": "2017-12-18T17:07:12.742207Z",
     "start_time": "2017-12-18T17:07:12.736058Z"
    }
   },
   "outputs": [
    {
     "data": {
      "text/plain": [
       "561506396.0820931"
      ]
     },
     "execution_count": 26,
     "metadata": {},
     "output_type": "execute_result"
    }
   ],
   "source": [
    "#Calculate extent outside of plantations\n",
    "\n",
    "other_areas = extent[0].get('value') - total_plantation_area\n",
    "other_areas"
   ]
  },
  {
   "cell_type": "code",
   "execution_count": 27,
   "metadata": {
    "ExecuteTime": {
     "end_time": "2017-12-18T17:07:13.523236Z",
     "start_time": "2017-12-18T17:07:13.316448Z"
    }
   },
   "outputs": [
    {
     "data": {
      "image/png": "[encoded data removed]",
      "text/plain": [
       "<matplotlib.figure.Figure at 0x11bb2fba8>"
      ]
     },
     "metadata": {},
     "output_type": "display_data"
    }
   ],
   "source": [
    "# Example donut chart \n",
    "# NOTE - THE COLOURS ARE NOT NECESSARILY THOSE NEEDED FOR PRODUCTION\n",
    "            \n",
    "# Use the below if you wish to include 'Other areas' data (doesn't look great in most cases!)\n",
    "\n",
    "\"\"\"\n",
    "labels.append('Other areas')\n",
    "sizes.append(other_areas)\n",
    "\"\"\"\n",
    "\n",
    "fig1, ax1 = plt.subplots()\n",
    "ax1.pie(sizes, labels=labels, autopct='%1.1f%%',\n",
    "        shadow=False, startangle=90, colors=['#0da330', '#69ef88','green','grey'])\n",
    "ax1.axis('equal')\n",
    "centre_circle = plt.Circle((0,0),0.75,color='black', fc='white',linewidth=0.5)\n",
    "fig1 = plt.gcf()\n",
    "fig1.gca().add_artist(centre_circle)\n",
    "plt.title('Plantations Extent')\n",
    "plt.show()"
   ]
  },
  {
   "cell_type": "code",
   "execution_count": 28,
   "metadata": {},
   "outputs": [
    {
     "data": {
      "text/plain": [
       "['Wood fiber / timber',\n",
       " 'Recently cleared',\n",
       " 'Unknown',\n",
       " 'Fruit',\n",
       " 'Oil palm',\n",
       " 'Other mix',\n",
       " 'Rubber']"
      ]
     },
     "execution_count": 28,
     "metadata": {},
     "output_type": "execute_result"
    }
   ],
   "source": [
    "labels"
   ]
  },
  {
   "cell_type": "markdown",
   "metadata": {},
   "source": [
    "<a id='s18'></a>\n",
    "### Dynamic Sentence for SPECIES"
   ]
  },
  {
   "cell_type": "code",
   "execution_count": 29,
   "metadata": {
    "ExecuteTime": {
     "end_time": "2017-12-18T17:07:15.536270Z",
     "start_time": "2017-12-18T17:07:15.525517Z"
    }
   },
   "outputs": [],
   "source": [
    "# get admin 1 or 2 level human-readable name info as needed:\n",
    "adm1_to_name = None\n",
    "adm2_to_name = None\n",
    "\n",
    "if adm2:\n",
    "    \n",
    "    tmp = get_admin2_json(iso=adm0, adm1=adm1)\n",
    "    adm2_to_name ={}\n",
    "    for row in tmp:\n",
    "        adm2_to_name[row.get('adm2')] = row.get('name')\n",
    "elif adm1:\n",
    "\n",
    "    tmp = get_admin1_json(iso=adm0)\n",
    "    adm1_to_name={}\n",
    "    for row in tmp:\n",
    "        adm1_to_name[row.get('adm1')] = row.get('name') "
   ]
  },
  {
   "cell_type": "code",
   "execution_count": 30,
   "metadata": {
    "ExecuteTime": {
     "end_time": "2017-12-18T17:07:16.459871Z",
     "start_time": "2017-12-18T17:07:16.436964Z"
    }
   },
   "outputs": [
    {
     "name": "stdout",
     "output_type": "stream",
     "text": [
      "In Aracruz wood fiber and timber plantations represent the largest plantation type by species in 2000, spanning 4,251,017ha where the canopy cover is greater than 0%. The remaining 994,147ha of tree cover is distributed between 6 other plantation types. "
     ]
    }
   ],
   "source": [
    "#Dynamic sentence. For species.\n",
    "if adm2:\n",
    "    region_name = adm2_to_name[adm2]\n",
    "elif adm1:\n",
    "    region_name = adm1_to_name[adm1]\n",
    "elif adm2:\n",
    "    region_name = iso_to_countries[iso]\n",
    "\n",
    "print(f\"In {region_name} {plantation_species_dict[plantations_ha[0].get('bound2')]} \", end=\"\")\n",
    "print(f\"plantations represent the largest plantation type by species in {extent_year}, \", end=\"\")\n",
    "print(f\"spanning {plantations_ha[0].get('plantation_extent'):,.0f}ha \", end=\"\")\n",
    "print(f\"where the canopy cover is greater than {thresh}%. \", end=\"\")\n",
    "\n",
    "if len(plantations_ha)-1 > 1:\n",
    "    print(f\"The remaining {(total_plantation_area - plantations_ha[0].get('plantation_extent')):,.0f}ha \", end=\"\")\n",
    "    print(f\"of tree cover is distributed between {len(plantations_ha)-1} other plantation types. \", end=\"\")\n",
    "elif len(plantations_ha)-1 == 1:\n",
    "    print(f\"The remaining {(total_plantation_area - plantations_ha[0].get('plantation_extent')):,.0f}ha \", end=\"\")\n",
    "    print(f\"of tree cover is found in {plantations_ha[1].get('bound2')} plantations. \", end=\"\")\n",
    "elif len(plantations_ha)-1 == 0:\n",
    "    print(f\"All tree cover in {region_name} is found in this plantatio type. \", end=\"\")"
   ]
  },
  {
   "cell_type": "code",
   "execution_count": null,
   "metadata": {},
   "outputs": [],
   "source": []
  },
  {
   "cell_type": "code",
   "execution_count": null,
   "metadata": {},
   "outputs": [],
   "source": []
  }
 ],
 "metadata": {
  "anaconda-cloud": {},
  "kernelspec": {
   "display_name": "Python 3",
   "language": "python",
   "name": "python3"
  },
  "language_info": {
   "codemirror_mode": {
    "name": "ipython",
    "version": 3
   },
   "file_extension": ".py",
   "mimetype": "text/x-python",
   "name": "python",
   "nbconvert_exporter": "python",
   "pygments_lexer": "ipython3",
   "version": "3.6.4"
  },
  "toc": {
   "nav_menu": {},
   "number_sections": true,
   "sideBar": true,
   "skip_h1_title": false,
   "toc_cell": false,
   "toc_position": {},
   "toc_section_display": "block",
   "toc_window_display": false
  }
 },
 "nbformat": 4,
 "nbformat_minor": 2
}
