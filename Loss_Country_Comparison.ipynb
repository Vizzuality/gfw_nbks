{
 "cells": [
  {
   "cell_type": "markdown",
   "metadata": {},
   "source": [
    "# \"Tree Cover Loss in X?\" Widget\n",
    "\n",
    "This widget shows the tree cover loss for the selected country and compares to other, similar countries in a ranked list similiar to the '[*Tree Cover Gain in X*](https://goo.gl/D3iFEf)' widget.\n",
    "\n",
    "Data:\n",
    "\n",
    "1. adm-0 (adm1 and 2 = None are hardcoded)\n",
    "2. forest loss\n",
    "3. extent\n",
    "\n",
    "User Variables:\n",
    "\n",
    "1. extent year\n",
    "2. unit (ha/relative %)\n",
    "3. locations (all)\n",
    "4. canopy threshold\n",
    "\n",
    "## Note for the Front-End\n",
    "\n",
    "Here I have used a new query `all_loss` to retrieve the total loss and extent of each country as a list...\n",
    "however, I suspect the same data can be scraped from existing queries (`getLoss` and `extent`, respectively) in the front end by selecting adm0 as `None`."
   ]
  },
  {
   "cell_type": "code",
   "execution_count": 1,
   "metadata": {
    "collapsed": true
   },
   "outputs": [],
   "source": [
    "#Import Global Metadata etc\n",
    "\n",
    "%run '0.Importable_Globals.ipynb'"
   ]
  },
  {
   "cell_type": "code",
   "execution_count": 10,
   "metadata": {
    "collapsed": true
   },
   "outputs": [],
   "source": [
    "# Variables\n",
    "adm0 = 'BRA'\n",
    "adm1 = None #Hardcoded\n",
    "adm2 = None #Hardcoded\n",
    "\n",
    "extent_year = 2000     # extent data 2000 or 2010\n",
    "location = \"All Region\"\n",
    "thresh = 30\n",
    "\n",
    "url = f\"https://production-api.globalforestwatch.org/v1/query/{ds}\"\n",
    "\n",
    "\n",
    "tags = [\"summary\", \"forest_change\"] #replaces current tree cover loss widget in summary\n",
    "\n",
    "selectable_polynames = ['gadm28', 'primary_forest', 'ifl_2013', 'wdpa', 'primary_forest__wdpa',\n",
    "                        'mining', 'ifl_2013__wdpa', 'primary_forest__mining', 'ifl_2013__mining',\n",
    "                        'plantations', 'plantations__mining']"
   ]
  },
  {
   "cell_type": "code",
   "execution_count": 114,
   "metadata": {
    "collapsed": true
   },
   "outputs": [],
   "source": [
    "def all_loss(p_name, adm0, extent_year=2000, threshold=30):\n",
    "    print(f'Request for loss')\n",
    "    sql = (f\"SELECT polyname, year_data.year as year, \"\n",
    "           f\"SUM(year_data.area_loss) as loss, \"\n",
    "           f\"SUM({extent_year}) as extent, \"\n",
    "           f\"FROM data \"\n",
    "           f\"WHERE polyname = '{p_name}' \"\n",
    "           f\"AND thresh= {threshold} \"\n",
    "           f\"GROUP BY polyname, iso\")\n",
    "    return sql\n"
   ]
  },
  {
   "cell_type": "code",
   "execution_count": 115,
   "metadata": {},
   "outputs": [
    {
     "name": "stdout",
     "output_type": "stream",
     "text": [
      "Request for loss\n",
      "https://production-api.globalforestwatch.org/v1/query/499682b1-3174-493f-ba1a-368b4636708e?sql=SELECT+polyname%2C+year_data.year+as+year%2C+SUM%28year_data.area_loss%29+as+loss%2C+SUM%28area_extent_2000%29+as+extent%2C+FROM+data+WHERE+polyname+%3D+%27gadm28%27+AND+thresh%3D+30+GROUP+BY+polyname%2C+iso\n",
      "Status: 200\n"
     ]
    },
    {
     "data": {
      "text/plain": [
       "[{'extent': 519187505.155631,\n",
       "  'iso': 'BRA',\n",
       "  'loss': 46369255.51258146,\n",
       "  'polyname': 'gadm28'},\n",
       " {'extent': 279340822.8477372,\n",
       "  'iso': 'USA',\n",
       "  'loss': 33754469.852130815,\n",
       "  'polyname': 'gadm28'},\n",
       " {'extent': 7915160.704204235,\n",
       "  'iso': 'ROU',\n",
       "  'loss': 298195.74271113425,\n",
       "  'polyname': 'gadm28'},\n",
       " {'extent': 760475347.7894046,\n",
       "  'iso': 'RUS',\n",
       "  'loss': 49484662.72782358,\n",
       "  'polyname': 'gadm28'},\n",
       " {'extent': 53185271.23384352,\n",
       "  'iso': 'MEX',\n",
       "  'loss': 3099532.0310167223,\n",
       "  'polyname': 'gadm28'}]"
      ]
     },
     "execution_count": 115,
     "metadata": {},
     "output_type": "execute_result"
    }
   ],
   "source": [
    "# Query for loss\n",
    "\n",
    "url = f\"https://production-api.globalforestwatch.org/v1/query/{ds}\"\n",
    "loss_sql = all_loss(p_name=polynames[location], adm0=adm0, extent_year=extent_year_dict[extent_year], threshold=thresh)\n",
    "\n",
    "properties = {\"sql\": loss_sql}\n",
    "rl = requests.get(url, params = properties)\n",
    "print(rl.url)\n",
    "print(f'Status: {rl.status_code}')\n",
    "\n",
    "loss_data = rl.json()['data']\n",
    "\n",
    "#Example data structure\n",
    "loss_data[0:5]"
   ]
  },
  {
   "cell_type": "markdown",
   "metadata": {},
   "source": [
    "# Ranking\n",
    "\n",
    "Rank the countries according to loss (ha) or loss relative to extent (%)\n",
    "\n",
    "i.e. ```relative loss = 100 x (loss / extent)```"
   ]
  },
  {
   "cell_type": "code",
   "execution_count": 116,
   "metadata": {},
   "outputs": [
    {
     "data": {
      "text/plain": [
       "[{'iso': 'BRA', 'loss': 46369255.51258146, 'rel_loss': 8.931119307018353},\n",
       " {'iso': 'USA', 'loss': 33754469.852130815, 'rel_loss': 12.083615100729357},\n",
       " {'iso': 'ROU', 'loss': 298195.74271113425, 'rel_loss': 3.7673997263598693},\n",
       " {'iso': 'RUS', 'loss': 49484662.72782358, 'rel_loss': 6.507069936148301},\n",
       " {'iso': 'MEX', 'loss': 3099532.0310167223, 'rel_loss': 5.827801492990016}]"
      ]
     },
     "execution_count": 116,
     "metadata": {},
     "output_type": "execute_result"
    }
   ],
   "source": [
    "\"\"\"First clean the data and calculate the loss relative the extent in the user selected year.\n",
    "Note: if no loss data, set to zero.\"\"\"\n",
    "\n",
    "cleaned_data = list(map(lambda x: {\n",
    "    \n",
    "    'iso': x.get('iso'),\n",
    "    'loss': x.get('loss',0),\n",
    "    'rel_loss': 100*x.get('loss',0)/x.get('extent',1)\n",
    "    }, loss_data))\n",
    "\n",
    "cleaned_data[0:5]"
   ]
  },
  {
   "cell_type": "code",
   "execution_count": 117,
   "metadata": {},
   "outputs": [
    {
     "data": {
      "text/plain": [
       "{'iso': 'BRA', 'loss': 46369255.51258146, 'rel_loss': 8.931119307018353}"
      ]
     },
     "execution_count": 117,
     "metadata": {},
     "output_type": "execute_result"
    }
   ],
   "source": [
    "#Retrieve the country we're interested in\n",
    "country_data = list(filter(lambda x: x.get('iso') == adm0, cleaned_data))[0]\n",
    "country_data"
   ]
  },
  {
   "cell_type": "markdown",
   "metadata": {},
   "source": [
    "### Sort by loss (ha)"
   ]
  },
  {
   "cell_type": "code",
   "execution_count": 88,
   "metadata": {},
   "outputs": [
    {
     "data": {
      "text/plain": [
       "[{'iso': 'RUS', 'loss': 49484662.72782358, 'rel_loss': 6.507069936148301},\n",
       " {'iso': 'BRA', 'loss': 46369255.51258146, 'rel_loss': 8.931119307018353},\n",
       " {'iso': 'CAN', 'loss': 36012126.813233174, 'rel_loss': 8.61576093257477}]"
      ]
     },
     "execution_count": 88,
     "metadata": {},
     "output_type": "execute_result"
    }
   ],
   "source": [
    "loss_rank_list = sorted(cleaned_data, key=lambda k: k.get('loss'), reverse=True) \n",
    "loss_rank_list[0:3]"
   ]
  },
  {
   "cell_type": "code",
   "execution_count": 92,
   "metadata": {},
   "outputs": [
    {
     "name": "stdout",
     "output_type": "stream",
     "text": [
      "RANK = 2\n"
     ]
    },
    {
     "data": {
      "text/plain": [
       "[{'iso': 'RUS', 'loss': 49484662.72782358, 'rel_loss': 6.507069936148301},\n",
       " {'iso': 'BRA', 'loss': 46369255.51258146, 'rel_loss': 8.931119307018353},\n",
       " {'iso': 'CAN', 'loss': 36012126.813233174, 'rel_loss': 8.61576093257477},\n",
       " {'iso': 'USA', 'loss': 33754469.852130815, 'rel_loss': 12.083615100729357},\n",
       " {'iso': 'IDN', 'loss': 23086617.660850815, 'rel_loss': 14.342196752019118}]"
      ]
     },
     "execution_count": 92,
     "metadata": {},
     "output_type": "execute_result"
    }
   ],
   "source": [
    "# Get country's rank and print adjacent values ('net_usd' and 'iso' in this case)\n",
    "\n",
    "rank = 1\n",
    "for i in loss_rank_list:\n",
    "    if i.get('iso') == adm0:\n",
    "        print('RANK =', rank)\n",
    "        break\n",
    "    else:\n",
    "        rank += 1\n",
    "\n",
    "if rank == 1:\n",
    "    bottom_bound = -1\n",
    "    upper_bound = 4\n",
    "elif rank == 2:\n",
    "    bottom_bound = 2\n",
    "    upper_bound = 3    \n",
    "elif rank == len(loss_rank_list):\n",
    "    bottom_bound = 5\n",
    "    upper_bound = -1   \n",
    "elif rank == len(loss_rank_list)-1:\n",
    "    bottom_bound = 4\n",
    "    upper_bound = 0 \n",
    "else:\n",
    "    bottom_bound = 3\n",
    "    upper_bound = 2 \n",
    "    \n",
    "loss_rank_list[rank-bottom_bound:rank+upper_bound]"
   ]
  },
  {
   "cell_type": "markdown",
   "metadata": {},
   "source": [
    "### Sort by Relative loss (%)"
   ]
  },
  {
   "cell_type": "code",
   "execution_count": 89,
   "metadata": {},
   "outputs": [
    {
     "data": {
      "text/plain": [
       "[{'iso': 'MRT', 'loss': 33.2423107996583, 'rel_loss': 99.77814699057237},\n",
       " {'iso': 'BFA', 'loss': 131.12572610378265, 'rel_loss': 99.25612079050147},\n",
       " {'iso': 'UMI', 'loss': 103.86826594173908, 'rel_loss': 71.19232792782252}]"
      ]
     },
     "execution_count": 89,
     "metadata": {},
     "output_type": "execute_result"
    }
   ],
   "source": [
    "rel_rank_list = sorted(cleaned_data, key=lambda k: k.get('rel_loss'), reverse=True) \n",
    "rel_rank_list[0:3]"
   ]
  },
  {
   "cell_type": "code",
   "execution_count": 91,
   "metadata": {},
   "outputs": [
    {
     "name": "stdout",
     "output_type": "stream",
     "text": [
      "RANK = 49\n"
     ]
    },
    {
     "data": {
      "text/plain": [
       "[{'iso': 'AUS', 'loss': 3961396.713502459, 'rel_loss': 9.36280216154266},\n",
       " {'iso': 'ABW', 'loss': 2.254775032401085, 'rel_loss': 9.036301035276807},\n",
       " {'iso': 'BRA', 'loss': 46369255.51258146, 'rel_loss': 8.931119307018353},\n",
       " {'iso': 'NZL', 'loss': 1004101.5595766604, 'rel_loss': 8.899452185499824},\n",
       " {'iso': 'ATF', 'loss': 6.33406925201416, 'rel_loss': 8.842007289642128}]"
      ]
     },
     "execution_count": 91,
     "metadata": {},
     "output_type": "execute_result"
    }
   ],
   "source": [
    "# Get country's rank and print adjacent values ('net_usd' and 'iso' in this case)\n",
    "\n",
    "rank = 1\n",
    "for i in rel_rank_list:\n",
    "    if i.get('iso') == adm0:\n",
    "        print('RANK =', rank)\n",
    "        break\n",
    "    else:\n",
    "        rank += 1\n",
    "\n",
    "if rank == 1:\n",
    "    bottom_bound = -1\n",
    "    upper_bound = 4\n",
    "elif rank == 2:\n",
    "    bottom_bound = 2\n",
    "    upper_bound = 3    \n",
    "elif rank == len(rel_rank_list):\n",
    "    bottom_bound = 5\n",
    "    upper_bound = -1   \n",
    "elif rank == len(rel_rank_list)-1:\n",
    "    bottom_bound = 4\n",
    "    upper_bound = 0 \n",
    "else:\n",
    "    bottom_bound = 3\n",
    "    upper_bound = 2 \n",
    "    \n",
    "rel_rank_list[rank-bottom_bound:rank+upper_bound]"
   ]
  },
  {
   "cell_type": "markdown",
   "metadata": {},
   "source": [
    "# Dynamic Sentence"
   ]
  },
  {
   "cell_type": "code",
   "execution_count": 109,
   "metadata": {},
   "outputs": [
    {
     "name": "stdout",
     "output_type": "stream",
     "text": [
      "Between 2001 and 2016, Brazil lost 46369255.51258146ha of tree cover region-wide, equivalent to a 8.931119307018353% loss relative to 2000 tree cover extent."
     ]
    }
   ],
   "source": [
    "if location == 'All Region':\n",
    "    location_phrase = 'region-wide'\n",
    "else:\n",
    "    location_phrase = 'in ' + location.lower()\n",
    "\n",
    "print(f\"Between 2001 and 2016, {iso_to_countries[adm0]} lost \",end=\"\")\n",
    "print(f\"{country_data.get('loss')}ha of tree cover {location_phrase}, \",end=\"\")\n",
    "print(f\"equivalent to a {country_data.get('rel_loss')}% loss \",end=\"\")\n",
    "print(f\"relative to {extent_year} tree cover extent.\",end=\"\")"
   ]
  },
  {
   "cell_type": "code",
   "execution_count": null,
   "metadata": {
    "collapsed": true
   },
   "outputs": [],
   "source": []
  }
 ],
 "metadata": {
  "kernelspec": {
   "display_name": "Python 3",
   "language": "python",
   "name": "python3"
  },
  "language_info": {
   "codemirror_mode": {
    "name": "ipython",
    "version": 3
   },
   "file_extension": ".py",
   "mimetype": "text/x-python",
   "name": "python",
   "nbconvert_exporter": "python",
   "pygments_lexer": "ipython3",
   "version": "3.6.2"
  }
 },
 "nbformat": 4,
 "nbformat_minor": 2
}
