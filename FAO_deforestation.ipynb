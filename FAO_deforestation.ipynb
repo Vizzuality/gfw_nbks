{
 "cells": [
  {
   "attachments": {},
   "cell_type": "markdown",
   "metadata": {},
   "source": [
    "## FAO deforestation widget:\n",
    "\n",
    "* Dynamic sentence and ranked list\n",
    "* Data from Carto table\n",
    "\n",
    "Original data source from [FAO FLUDE](http://www.fao.org/forest-resources-assessment/explore-data/flude/en/),\n",
    "`FOREST AREA AND CHARACTERISTICS` table,\t`Deforest` and `HumDef`\t(Deforestation of which human induced), units in `ha/yr`."
   ]
  },
  {
   "cell_type": "code",
   "execution_count": 1,
   "metadata": {},
   "outputs": [],
   "source": [
    "#Import Global Metadata etc\n",
    "\n",
    "%run '0.Importable_Globals.ipynb'"
   ]
  },
  {
   "cell_type": "code",
   "execution_count": 2,
   "metadata": {},
   "outputs": [],
   "source": [
    "# For FAO data, only country (admin0) level data are avaiable\n",
    "\n",
    "adm0 = 'ARG'  "
   ]
  },
  {
   "cell_type": "code",
   "execution_count": 3,
   "metadata": {},
   "outputs": [
    {
     "name": "stdout",
     "output_type": "stream",
     "text": [
      "https://wri-01.carto.com/api/v2/sql?q=SELECT+fao.country%2C+fao.name%2C+fao.deforest%2C+fao.humdef%2C+fao.year+FROM+table_1_forest_area_and_characteristics+as+fao+WHERE+fao.country+%3D+%27ARG%27 \n",
      "\n",
      "{'fields': {'country': {'type': 'string'},\n",
      "            'deforest': {'type': 'number'},\n",
      "            'humdef': {'type': 'number'},\n",
      "            'name': {'type': 'string'},\n",
      "            'year': {'type': 'number'}},\n",
      " 'rows': [{'country': 'ARG',\n",
      "           'deforest': None,\n",
      "           'humdef': None,\n",
      "           'name': 'Argentina',\n",
      "           'year': 1990},\n",
      "          {'country': 'ARG',\n",
      "           'deforest': 235,\n",
      "           'humdef': 235,\n",
      "           'name': 'Argentina',\n",
      "           'year': 2000},\n",
      "          {'country': 'ARG',\n",
      "           'deforest': 336,\n",
      "           'humdef': 336,\n",
      "           'name': 'Argentina',\n",
      "           'year': 2005},\n",
      "          {'country': 'ARG',\n",
      "           'deforest': 301,\n",
      "           'humdef': 301,\n",
      "           'name': 'Argentina',\n",
      "           'year': 2010},\n",
      "          {'country': 'ARG',\n",
      "           'deforest': None,\n",
      "           'humdef': None,\n",
      "           'name': 'Argentina',\n",
      "           'year': 2015},\n",
      "          {'country': 'ARG',\n",
      "           'deforest': None,\n",
      "           'humdef': None,\n",
      "           'name': 'Argentina',\n",
      "           'year': 9999}],\n",
      " 'time': 0.003,\n",
      " 'total_rows': 6}\n"
     ]
    }
   ],
   "source": [
    "# First, get the FAO data from a carto table\n",
    "\n",
    "sql = (\"SELECT fao.country, fao.name, \"\n",
    "        \"fao.deforest, fao.humdef, fao.year \"\n",
    "        \"FROM table_1_forest_area_and_characteristics as fao \"\n",
    "        f\"WHERE fao.country = '{adm0}'\"\n",
    "        )\n",
    "\n",
    "account = 'wri-01'\n",
    "urlCarto = \"https://{0}.carto.com/api/v2/sql\".format(account)\n",
    "\n",
    "sql = {\"q\": sql}\n",
    "r = requests.get(urlCarto, params=sql)\n",
    "print(r.url,'\\n')\n",
    "pprint(r.json())\n",
    "\n",
    "try:\n",
    "    fao_deforest = r.json().get('rows')\n",
    "except:\n",
    "    fao_deforest = None"
   ]
  },
  {
   "cell_type": "code",
   "execution_count": 4,
   "metadata": {},
   "outputs": [
    {
     "name": "stdout",
     "output_type": "stream",
     "text": [
      "{'country': 'ARG', 'name': 'Argentina', 'deforest': None, 'humdef': None, 'year': 1990}\n",
      "{'country': 'ARG', 'name': 'Argentina', 'deforest': 235, 'humdef': 235, 'year': 2000}\n",
      "{'country': 'ARG', 'name': 'Argentina', 'deforest': 336, 'humdef': 336, 'year': 2005}\n",
      "{'country': 'ARG', 'name': 'Argentina', 'deforest': 301, 'humdef': 301, 'year': 2010}\n",
      "{'country': 'ARG', 'name': 'Argentina', 'deforest': None, 'humdef': None, 'year': 2015}\n",
      "{'country': 'ARG', 'name': 'Argentina', 'deforest': None, 'humdef': None, 'year': 9999}\n"
     ]
    }
   ],
   "source": [
    "for row in fao_deforest:\n",
    "    print(row)"
   ]
  },
  {
   "cell_type": "markdown",
   "metadata": {},
   "source": [
    "## Build a dynamic sentence\n",
    "\n",
    "1. Identify years with valid data returned from the table (expose that to the user in the selector)\n",
    "1. Create a dynamic sentence with `deforest ` data.\n",
    "1. Extend the sentence if `humdef` exists (e.g. Argentina).\n"
   ]
  },
  {
   "cell_type": "code",
   "execution_count": 5,
   "metadata": {},
   "outputs": [
    {
     "name": "stdout",
     "output_type": "stream",
     "text": [
      "[2000, 2005, 2010]\n"
     ]
    }
   ],
   "source": [
    "valid_years = []\n",
    "for row in fao_deforest:\n",
    "    if row.get('deforest') is not None:\n",
    "        valid_years.append(row.get('year'))\n",
    "\n",
    "# Here is a list of valid years that should go into the selector:\n",
    "print(valid_years)"
   ]
  },
  {
   "cell_type": "code",
   "execution_count": 6,
   "metadata": {},
   "outputs": [],
   "source": [
    "def get_deforest(response, year):\n",
    "    \"\"\"Returns deforestation rate present in response\"\"\"\n",
    "    for row in response:\n",
    "        if row.get('year') == year:\n",
    "            return row.get('deforest')\n",
    "\n",
    "def get_humanDeforest(response,year):\n",
    "    \"\"\"Returns the human-induced deforestation rate present in the response\"\"\"\n",
    "    for row in response:\n",
    "        if row.get('year') == year:\n",
    "            return row.get('humdef')"
   ]
  },
  {
   "cell_type": "code",
   "execution_count": 7,
   "metadata": {},
   "outputs": [
    {
     "data": {
      "text/plain": [
       "235"
      ]
     },
     "execution_count": 7,
     "metadata": {},
     "output_type": "execute_result"
    }
   ],
   "source": [
    "get_deforest(fao_deforest, 2000)"
   ]
  },
  {
   "cell_type": "code",
   "execution_count": 8,
   "metadata": {},
   "outputs": [
    {
     "data": {
      "text/plain": [
       "235"
      ]
     },
     "execution_count": 8,
     "metadata": {},
     "output_type": "execute_result"
    }
   ],
   "source": [
    "get_humanDeforest(fao_deforest, 2000)"
   ]
  },
  {
   "cell_type": "code",
   "execution_count": 9,
   "metadata": {},
   "outputs": [
    {
     "name": "stdout",
     "output_type": "stream",
     "text": [
      "From 2000–2005, the rate of deforestation in Argentina was 235 ha/yr, of which 235 ha/yr was due to human activity.\n"
     ]
    }
   ],
   "source": [
    "selected_year =  valid_years[0]  #  e.g. of a selected year from the list\n",
    "deforest = get_deforest(fao_deforest, selected_year)\n",
    "human_deforest = get_humanDeforest(fao_deforest, selected_year)\n",
    "\n",
    "ds = (f\"From {selected_year}–{selected_year + 5}, the rate of deforestation in \"\n",
    "      f\"{iso_to_countries[adm0]} was {deforest:,g} ha/yr\")\n",
    "\n",
    "if human_deforest:\n",
    "    ds += f\", of which {human_deforest:,g} ha/yr was due to human activity.\"\n",
    "else:\n",
    "    ds +=\".\"\n",
    "\n",
    "print(ds)"
   ]
  },
  {
   "cell_type": "markdown",
   "metadata": {},
   "source": [
    "## Ranked list\n",
    "\n",
    "Retrieve an ordered list of countries by deforestation rate for a specified year. Show the ranked list ±2 elements as with other ranked lists."
   ]
  },
  {
   "cell_type": "code",
   "execution_count": 10,
   "metadata": {},
   "outputs": [
    {
     "name": "stdout",
     "output_type": "stream",
     "text": [
      "https://wri-01.carto.com/api/v2/sql?q=WITH+mytable+AS+%28SELECT+fao.country+as+iso%2C+fao.name%2Cfao.deforest%2C+fao.humdef+FROM+table_1_forest_area_and_characteristics+as+fao+WHERE+fao.year+%3D+2000+AND+deforest+is+not+null%29%2C+rank+AS+%28+SELECT+deforest%2C+iso+from+mytable+ORDER+BY+mytable.deforest+DESC%29+SELECT+row_number%28%29+over+%28%29+as+rank%2C+iso%2C+deforest+from+rank+ \n",
      "\n"
     ]
    }
   ],
   "source": [
    "selected_year =  valid_years[0]  #  e.g. of a selected year from the list\n",
    "\n",
    "sql = (\n",
    "        \"WITH mytable AS (SELECT fao.country as iso, \"\n",
    "        \"fao.name,fao.deforest, fao.humdef \"\n",
    "        \"FROM table_1_forest_area_and_characteristics as fao \"\n",
    "        f\"WHERE fao.year = {selected_year} \"\n",
    "        \"AND deforest is not null), \"\n",
    "        \"rank AS ( \"\n",
    "        \"SELECT deforest, iso \"\n",
    "        \"from mytable \"\n",
    "        \"ORDER BY mytable.deforest DESC) \"\n",
    "        \"SELECT row_number() over () as rank, iso, deforest from rank \"\n",
    ")\n",
    "\n",
    "account = 'wri-01'\n",
    "urlCarto = \"https://{0}.carto.com/api/v2/sql\".format(account)\n",
    "\n",
    "sql = {\"q\": sql}\n",
    "r = requests.get(urlCarto, params=sql)\n",
    "print(r.url,'\\n')\n",
    "\n",
    "rank = r.json().get('rows')"
   ]
  },
  {
   "cell_type": "code",
   "execution_count": 11,
   "metadata": {},
   "outputs": [
    {
     "name": "stdout",
     "output_type": "stream",
     "text": [
      "{'rank': 1, 'iso': 'BRA', 'deforest': 3277}\n",
      "{'rank': 2, 'iso': 'TZA', 'deforest': 400}\n",
      "{'rank': 3, 'iso': 'AUS', 'deforest': 326}\n",
      "{'rank': 4, 'iso': 'COL', 'deforest': 314.99}\n",
      "{'rank': 5, 'iso': 'VEN', 'deforest': 288}\n",
      "{'rank': 6, 'iso': 'BOL', 'deforest': 270}\n",
      "{'rank': 7, 'iso': 'ARG', 'deforest': 235}\n",
      "{'rank': 8, 'iso': 'SDN', 'deforest': 174.415}\n",
      "{'rank': 9, 'iso': 'PER', 'deforest': 143}\n",
      "{'rank': 10, 'iso': 'KEN', 'deforest': 112.4}\n",
      "{'rank': 11, 'iso': 'MLI', 'deforest': 109}\n",
      "{'rank': 12, 'iso': 'ECU', 'deforest': 92.787}\n",
      "{'rank': 13, 'iso': 'GTM', 'deforest': 73}\n",
      "{'rank': 14, 'iso': 'CAN', 'deforest': 48}\n",
      "{'rank': 15, 'iso': 'PHL', 'deforest': 47.19}\n",
      "{'rank': 16, 'iso': 'LAO', 'deforest': 35.3}\n",
      "{'rank': 17, 'iso': 'SPM', 'deforest': 20}\n",
      "{'rank': 18, 'iso': 'DZA', 'deforest': 18}\n",
      "{'rank': 19, 'iso': 'BRN', 'deforest': 16}\n",
      "{'rank': 20, 'iso': 'MRT', 'deforest': 9.8}\n",
      "{'rank': 21, 'iso': 'FIN', 'deforest': 8}\n",
      "{'rank': 22, 'iso': 'KOR', 'deforest': 6}\n",
      "{'rank': 23, 'iso': 'NOR', 'deforest': 6}\n",
      "{'rank': 24, 'iso': 'AUT', 'deforest': 4.6}\n",
      "{'rank': 25, 'iso': 'DEU', 'deforest': 4}\n",
      "{'rank': 26, 'iso': 'GLP', 'deforest': 3.906}\n",
      "{'rank': 27, 'iso': 'SUR', 'deforest': 3.9}\n",
      "{'rank': 28, 'iso': 'IDN', 'deforest': 3.51}\n",
      "{'rank': 29, 'iso': 'BGD', 'deforest': 2.6}\n",
      "{'rank': 30, 'iso': 'CHE', 'deforest': 2.29}\n",
      "{'rank': 31, 'iso': 'GUF', 'deforest': 1.5}\n",
      "{'rank': 32, 'iso': 'HUN', 'deforest': 0.53}\n",
      "{'rank': 33, 'iso': 'POL', 'deforest': 0.509}\n",
      "{'rank': 34, 'iso': 'JAM', 'deforest': 0.437}\n",
      "{'rank': 35, 'iso': 'EST', 'deforest': 0.43}\n",
      "{'rank': 36, 'iso': 'VIR', 'deforest': 0.41}\n",
      "{'rank': 37, 'iso': 'SVN', 'deforest': 0.19}\n",
      "{'rank': 38, 'iso': 'LBR', 'deforest': 0.166}\n",
      "{'rank': 39, 'iso': 'MUS', 'deforest': 0.086}\n",
      "{'rank': 40, 'iso': 'LTU', 'deforest': 0.048}\n",
      "{'rank': 41, 'iso': 'PYF', 'deforest': 0}\n",
      "{'rank': 42, 'iso': 'QAT', 'deforest': 0}\n",
      "{'rank': 43, 'iso': 'RUS', 'deforest': 0}\n",
      "{'rank': 44, 'iso': 'SJM', 'deforest': 0}\n",
      "{'rank': 45, 'iso': 'SMR', 'deforest': 0}\n",
      "{'rank': 46, 'iso': 'BHR', 'deforest': 0}\n",
      "{'rank': 47, 'iso': 'SRB', 'deforest': 0}\n",
      "{'rank': 48, 'iso': 'STP', 'deforest': 0}\n",
      "{'rank': 49, 'iso': 'TKL', 'deforest': 0}\n",
      "{'rank': 50, 'iso': 'TUV', 'deforest': 0}\n",
      "{'rank': 51, 'iso': 'URY', 'deforest': 0}\n",
      "{'rank': 52, 'iso': 'VAT', 'deforest': 0}\n",
      "{'rank': 53, 'iso': 'GIB', 'deforest': 0}\n",
      "{'rank': 54, 'iso': 'GGY', 'deforest': 0}\n",
      "{'rank': 55, 'iso': 'GNQ', 'deforest': 0}\n",
      "{'rank': 56, 'iso': 'GRL', 'deforest': 0}\n",
      "{'rank': 57, 'iso': 'GEO', 'deforest': 0}\n",
      "{'rank': 58, 'iso': 'IMN', 'deforest': 0}\n",
      "{'rank': 59, 'iso': 'JEY', 'deforest': 0}\n",
      "{'rank': 60, 'iso': 'GBR', 'deforest': 0}\n",
      "{'rank': 61, 'iso': 'FRO', 'deforest': 0}\n",
      "{'rank': 62, 'iso': 'FLK', 'deforest': 0}\n",
      "{'rank': 63, 'iso': 'LIE', 'deforest': 0}\n",
      "{'rank': 64, 'iso': 'MCO', 'deforest': 0}\n",
      "{'rank': 65, 'iso': 'MDV', 'deforest': 0}\n",
      "{'rank': 66, 'iso': 'MLT', 'deforest': 0}\n",
      "{'rank': 67, 'iso': 'DNK', 'deforest': 0}\n",
      "{'rank': 68, 'iso': 'NCL', 'deforest': 0}\n",
      "{'rank': 69, 'iso': 'NRU', 'deforest': 0}\n",
      "{'rank': 70, 'iso': 'COK', 'deforest': 0}\n"
     ]
    }
   ],
   "source": [
    "for row in rank:\n",
    "    print(row)"
   ]
  },
  {
   "cell_type": "markdown",
   "metadata": {},
   "source": [
    "### extend dynamic sentence\n",
    "\n",
    "The dynamic sentence should also end with the following statement about country rank:"
   ]
  },
  {
   "cell_type": "code",
   "execution_count": 12,
   "metadata": {},
   "outputs": [],
   "source": [
    "def get_countryRank(response, iso):\n",
    "    for row in response:\n",
    "        if row.get('iso') == iso:\n",
    "            return row.get('rank')"
   ]
  },
  {
   "cell_type": "code",
   "execution_count": 13,
   "metadata": {},
   "outputs": [],
   "source": [
    "iso_rank = get_countryRank(rank, adm0)"
   ]
  },
  {
   "cell_type": "code",
   "execution_count": 14,
   "metadata": {},
   "outputs": [
    {
     "data": {
      "text/plain": [
       "'From 2000–2005, the rate of deforestation in Argentina was 235 ha/yr, of which 235 ha/yr was due to human activity. In relation to other countries this was the 7th largest change.'"
      ]
     },
     "execution_count": 14,
     "metadata": {},
     "output_type": "execute_result"
    }
   ],
   "source": [
    "ds += (f\" In relation to other countries this was the {iso_rank}th largest change.\")\n",
    "ds"
   ]
  },
  {
   "cell_type": "code",
   "execution_count": null,
   "metadata": {},
   "outputs": [],
   "source": []
  }
 ],
 "metadata": {
  "kernelspec": {
   "display_name": "Python 3",
   "language": "python",
   "name": "python3"
  },
  "language_info": {
   "codemirror_mode": {
    "name": "ipython",
    "version": 3
   },
   "file_extension": ".py",
   "mimetype": "text/x-python",
   "name": "python",
   "nbconvert_exporter": "python",
   "pygments_lexer": "ipython3",
   "version": "3.6.4"
  }
 },
 "nbformat": 4,
 "nbformat_minor": 2
}
