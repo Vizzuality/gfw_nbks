{
 "cells": [
  {
   "cell_type": "markdown",
   "metadata": {},
   "source": [
    "# 1. Country Pages Globals and Metadata\n",
    "\n",
    "Global data and helper functions"
   ]
  },
  {
   "cell_type": "markdown",
   "metadata": {},
   "source": [
    "\n",
    "https://production-api.globalforestwatch.org/v1/query/?sql=SELECT polyname, year_data.year, sum(year_data.area_loss) as sum FROM data WHERE polyname = 'wdpa'  and iso = 'BRA' GROUP BY polyname, iso, nested(year_data.year)\n"
   ]
  },
  {
   "cell_type": "code",
   "execution_count": 1,
   "metadata": {
    "ExecuteTime": {
     "end_time": "2017-12-18T15:11:17.673011Z",
     "start_time": "2017-12-18T15:11:16.497985Z"
    },
    "collapsed": true
   },
   "outputs": [],
   "source": [
    "import requests\n",
    "import requests_cache\n",
    "from pprint import pprint\n",
    "import numpy as np\n",
    "import pandas as pd\n",
    "import matplotlib.pyplot as plt\n",
    "%matplotlib inline\n",
    "requests_cache.install_cache('demo_cache')"
   ]
  },
  {
   "cell_type": "markdown",
   "metadata": {},
   "source": [
    "Testing basic queries\n",
    "\n",
    "**notes**\n",
    "\n",
    "* New table structure includes `bound1-4` which provide an additional attribute to group by\n",
    "\n",
    "```\n",
    "https://production-api.globalforestwatch.org/v1/query/499682b1-3174-493f-ba1a-368b4636708e?sql=SELECT polyname, count(*) FROM data WHERE iso = 'BRA' and thresh = 30 GROUP BY polyname\n",
    "```\n",
    "\n",
    "This one table should be enough to generate data for areas of interest from admin0 to admin 2 level on its own."
   ]
  },
  {
   "cell_type": "code",
   "execution_count": 2,
   "metadata": {
    "ExecuteTime": {
     "end_time": "2017-12-18T15:11:17.681268Z",
     "start_time": "2017-12-18T15:11:17.677095Z"
    },
    "collapsed": true
   },
   "outputs": [],
   "source": [
    "ds = '499682b1-3174-493f-ba1a-368b4636708e'  # ADMIN 2 level data"
   ]
  },
  {
   "cell_type": "code",
   "execution_count": 3,
   "metadata": {
    "ExecuteTime": {
     "end_time": "2017-12-18T15:11:17.735224Z",
     "start_time": "2017-12-18T15:11:17.685364Z"
    },
    "scrolled": false
   },
   "outputs": [
    {
     "name": "stdout",
     "output_type": "stream",
     "text": [
      "https://production-api.globalforestwatch.org/v1/query/499682b1-3174-493f-ba1a-368b4636708e?sql=SELECT+%2A+FROM+499682b1-3174-493f-ba1a-368b4636708e+WHERE+iso+%3D+%27BRA%27+AND+thresh+%3D+30+AND+polyname+%3D+%27plantations%27+LIMIT+2+ORDER+BY+area_extent+DESC\n",
      "Status: 200\n"
     ]
    },
    {
     "data": {
      "text/plain": [
       "{'data': [{'_id': 'AWB6e_iNhRfkUZCTbvqD',\n",
       "   'adm1': 11,\n",
       "   'adm2': 1414,\n",
       "   'area_extent': 57927.437055999995,\n",
       "   'area_extent_2000': 39884.3891173,\n",
       "   'area_gadm28': 1020790.7786600001,\n",
       "   'area_gain': 67564.6094921,\n",
       "   'area_poly_aoi': 151635.985063,\n",
       "   'bound1': 'Large industrial plantation',\n",
       "   'bound2': 'Wood fiber / timber',\n",
       "   'bound3': -9999,\n",
       "   'bound4': -9999,\n",
       "   'iso': 'BRA',\n",
       "   'polyname': 'plantations',\n",
       "   'thresh': 30,\n",
       "   'year_data': [{'area_loss': 450.900853092,\n",
       "     'emissions': 36351.7897877,\n",
       "     'year': 2001},\n",
       "    {'area_loss': 1663.91938089, 'emissions': 196926.392146, 'year': 2002},\n",
       "    {'area_loss': 1468.41710327, 'emissions': 211903.138267, 'year': 2003},\n",
       "    {'area_loss': 4053.23034629, 'emissions': 539949.43733, 'year': 2004},\n",
       "    {'area_loss': 2197.33341629,\n",
       "     'emissions': 295112.97395300004,\n",
       "     'year': 2005},\n",
       "    {'area_loss': 1270.43151388, 'emissions': 204183.514617, 'year': 2006},\n",
       "    {'area_loss': 718.068602042, 'emissions': 84105.1447234, 'year': 2007},\n",
       "    {'area_loss': 701.372097118, 'emissions': 100824.85161, 'year': 2008},\n",
       "    {'area_loss': 6724.80854826, 'emissions': 1108499.71468, 'year': 2009},\n",
       "    {'area_loss': 3445.44636478, 'emissions': 531749.194058, 'year': 2010},\n",
       "    {'area_loss': 7231.12985877, 'emissions': 1155191.99884, 'year': 2011},\n",
       "    {'area_loss': 1106.40002854, 'emissions': 92431.3192125, 'year': 2012},\n",
       "    {'area_loss': 369.455843679, 'emissions': 26450.9380594, 'year': 2013},\n",
       "    {'area_loss': 471.979576939, 'emissions': 35286.900121, 'year': 2014},\n",
       "    {'area_loss': 487.318824258, 'emissions': 59990.0526258, 'year': 2015},\n",
       "    {'area_loss': 711.769997734, 'emissions': 55620.1777359, 'year': 2016}]},\n",
       "  {'_id': 'AWB6e_iMhRfkUZCTbviS',\n",
       "   'adm1': 5,\n",
       "   'adm2': 287,\n",
       "   'area_extent': 45683.484610800006,\n",
       "   'area_extent_2000': 39264.480626599994,\n",
       "   'area_gadm28': 233150.27233200002,\n",
       "   'area_gain': 33565.9479282,\n",
       "   'area_poly_aoi': 64920.4124671,\n",
       "   'bound1': 'Large industrial plantation',\n",
       "   'bound2': 'Wood fiber / timber',\n",
       "   'bound3': -9999,\n",
       "   'bound4': -9999,\n",
       "   'iso': 'BRA',\n",
       "   'polyname': 'plantations',\n",
       "   'thresh': 30,\n",
       "   'year_data': [{'area_loss': 629.778840315,\n",
       "     'emissions': 114034.063146,\n",
       "     'year': 2001},\n",
       "    {'area_loss': 1277.13363962, 'emissions': 242553.559986, 'year': 2002},\n",
       "    {'area_loss': 1552.50015065, 'emissions': 310761.370662, 'year': 2003},\n",
       "    {'area_loss': 4250.11342968, 'emissions': 855043.490554, 'year': 2004},\n",
       "    {'area_loss': 2488.02722668, 'emissions': 462694.029475, 'year': 2005},\n",
       "    {'area_loss': 1642.82429622, 'emissions': 284374.362935, 'year': 2006},\n",
       "    {'area_loss': 859.207577245,\n",
       "     'emissions': 158068.43483399999,\n",
       "     'year': 2007},\n",
       "    {'area_loss': 552.521646685, 'emissions': 89360.7484616, 'year': 2008},\n",
       "    {'area_loss': 726.861368793, 'emissions': 133804.854843, 'year': 2009},\n",
       "    {'area_loss': 1628.04947873, 'emissions': 304137.405242, 'year': 2010},\n",
       "    {'area_loss': 2821.85313119, 'emissions': 371345.54545, 'year': 2011},\n",
       "    {'area_loss': 5318.93193062, 'emissions': 695456.219341, 'year': 2012},\n",
       "    {'area_loss': 1425.78681357, 'emissions': 154395.322225, 'year': 2013},\n",
       "    {'area_loss': 1550.68869686, 'emissions': 155010.663222, 'year': 2014},\n",
       "    {'area_loss': 1741.35388745, 'emissions': 180066.685675, 'year': 2015},\n",
       "    {'area_loss': 2064.76718814,\n",
       "     'emissions': 201707.81017799999,\n",
       "     'year': 2016}]}],\n",
       " 'meta': {'cloneUrl': {'body': {'dataset': {'application': ['your', 'apps'],\n",
       "     'datasetUrl': '/v1/query/499682b1-3174-493f-ba1a-368b4636708e?sql=SELECT%20%2A%20FROM%20499682b1-3174-493f-ba1a-368b4636708e%20WHERE%20iso%20%3D%20%27BRA%27%20AND%20thresh%20%3D%2030%20AND%20polyname%20%3D%20%27plantations%27%20LIMIT%202%20ORDER%20BY%20area_extent%20DESC'}},\n",
       "   'http_method': 'POST',\n",
       "   'url': '/v1/dataset/499682b1-3174-493f-ba1a-368b4636708e/clone'}}}"
      ]
     },
     "execution_count": 3,
     "metadata": {},
     "output_type": "execute_result"
    }
   ],
   "source": [
    "# Example of what is in the data tables and how to simply read them:\n",
    "url = f\"https://production-api.globalforestwatch.org/v1/query/{ds}\"\n",
    "#sql = (f\"SELECT sum(area_gain) FROM {ds} WHERE iso = 'BRA' and adm1 = 7 AND thresh = 0 AND polyname = 'gadm28'\")\n",
    "#sql = (f\"SELECT polyname, count(*) FROM {ds} WHERE iso = 'BRA' and thresh = 30 GROUP BY polyname\")\n",
    "sql = (f\"SELECT * FROM {ds} WHERE iso = 'BRA' AND thresh = 30 AND polyname = 'plantations' LIMIT 2 ORDER BY area_extent DESC\")\n",
    "properties = {\"sql\": sql}\n",
    "r = requests.get(url, params = properties)\n",
    "print(r.url)\n",
    "print(f'Status: {r.status_code}')\n",
    "r.json()"
   ]
  },
  {
   "cell_type": "markdown",
   "metadata": {},
   "source": [
    "The `polyname` attribute in the data indicates the geometry used in the intersection. E.g. `polyname`:`gadm28` means that the GADM28 polygons alone were used, therefore `area_extent` would be the value of the Hansen 2010 tree cover extent within a particular gadm28 geometry.\n",
    "\n",
    "Charlie has used a convention of mutliple underscores to indicate when data has multiple intersects. The rule is as follows:\n",
    "* All data are intersected with the gadm28\n",
    "* Some data are intersected with gadam + something else, in that case it takes the name of the something else, e.g. plantations\n",
    "* some data are intersected with multiple gadam + multiple other data sources, in that case, the data sources are seperated by a dunder (double underscore) in the `polyname`. E.g. `primary_forest__landmark` are the gadam28 + primary forest data + landmark "
   ]
  },
  {
   "cell_type": "code",
   "execution_count": 4,
   "metadata": {
    "ExecuteTime": {
     "end_time": "2017-12-18T15:11:17.760500Z",
     "start_time": "2017-12-18T15:11:17.738673Z"
    }
   },
   "outputs": [
    {
     "name": "stdout",
     "output_type": "stream",
     "text": [
      "https://production-api.globalforestwatch.org/v1/query/499682b1-3174-493f-ba1a-368b4636708e?sql=SELECT+polyname+FROM+499682b1-3174-493f-ba1a-368b4636708e+WHERE+iso+%3D+%27BRA%27+and+thresh+%3D+0+GROUP+BY+polyname\n",
      "Status: 200\n",
      "bra_biomes\n",
      "gadm28\n",
      "mining\n",
      "plantations\n",
      "plantations__mining\n",
      "wdpa\n",
      "primary_forest\n",
      "primary_forest__mining\n",
      "primary_forest__wdpa\n",
      "plantations__wdpa\n",
      "ifl_2013\n",
      "ifl_2013__wdpa\n",
      "ifl_2013__mining\n",
      "landmark\n",
      "primary_forest__landmark\n",
      "plantations__landmark\n"
     ]
    }
   ],
   "source": [
    "url = f\"https://production-api.globalforestwatch.org/v1/query/{ds}\"\n",
    "sql = (f\"SELECT polyname FROM {ds} WHERE iso = 'BRA' and thresh = 0 GROUP BY polyname\")\n",
    "properties = {\"sql\": sql}\n",
    "r = requests.get(url, params = properties)\n",
    "print(r.url)\n",
    "print(f'Status: {r.status_code}')\n",
    "for row in r.json().get('data'):\n",
    "    print(row.get('polyname'))"
   ]
  },
  {
   "cell_type": "markdown",
   "metadata": {},
   "source": [
    "Also of note, is the `bound1-4` attributes, which are \n",
    "\n",
    "```\n",
    "   'bound1': 'Large industrial plantation',\n",
    "   'bound2': 'Wood fiber / timber',\n",
    "   'bound3': -9999,\n",
    "   'bound4': -9999,\n",
    "   \n",
    "```\n",
    "\n",
    "These hold extra properties of a dataset which can be used in group-by statements, e.g. plantation data has been split into species type. \n",
    "\n",
    "Finally, another key property is the `area_poly_aoi`, which should hold the total area (ha) of the shape used to make the intersection. E.g., the sum of the `polyname` = gadm28 `area_poly_aoi` values should equal the total land area of a selected ROI. \n"
   ]
  },
  {
   "cell_type": "markdown",
   "metadata": {},
   "source": [
    "<a id='s0'></a>\n",
    "# Obtain metadata for admin-0 to admin-2 level\n",
    "\n",
    "Retrieve json mappings of id values (e.g. iso codes or integers) for admin0 to admin2 level, and map them to english names for selectors and resources to build dynamic sentences."
   ]
  },
  {
   "cell_type": "code",
   "execution_count": 5,
   "metadata": {
    "ExecuteTime": {
     "end_time": "2017-12-18T15:11:17.802395Z",
     "start_time": "2017-12-18T15:11:17.764016Z"
    },
    "collapsed": true
   },
   "outputs": [],
   "source": [
    "def get_admin0_json(urlCarto=\"https://wri-01.carto.com/api/v2/sql\"):\n",
    "    \"\"\"return an alphabetical json of mappings of iso and country names\n",
    "    e.g.\n",
    "    [{'iso': 'AFG', 'name': 'Afghanistan'},\n",
    "     {'iso': 'XAD', 'name': 'Akrotiri and Dhekelia'},\n",
    "     {'iso': 'ALA', 'name': 'Åland'},\n",
    "     ...\n",
    "    ]\n",
    "    \n",
    "    \"\"\"\n",
    "    sql = (\"SELECT iso, country as name FROM umd_nat_staging \"\n",
    "            \"GROUP BY iso, name \"\n",
    "            \"ORDER BY name \"\n",
    "          )\n",
    "    r = requests.get(urlCarto, params={\"q\": sql})\n",
    "    return r.json().get('rows', None)\n",
    " \n",
    "\n",
    "def get_admin1_json(iso, urlCarto=\"https://wri-01.carto.com/api/v2/sql\"):\n",
    "    \"\"\"return an alphabetical json of mappings of admin1 for a country\n",
    "    e.g. for iso='GBR'\n",
    "        [{'adm1': 1, 'name': 'England'},\n",
    "         {'adm1': 2, 'name': 'Northern Ireland'},\n",
    "         {'adm1': 3, 'name': 'Scotland'},\n",
    "         {'adm1': 4, 'name': 'Wales'}]\n",
    "    \"\"\"\n",
    "    sql = (\"SELECT id1 as adm1, region as name \"\n",
    "            \"FROM umd_subnat_staging \"\n",
    "            f\"WHERE iso = '{iso}' \"\n",
    "            \"and year = 2001 \"\n",
    "            \"and thresh = 30 \"\n",
    "            \"ORDER BY name \"\n",
    "          )\n",
    "    r = requests.get(urlCarto, params={\"q\": sql})\n",
    "    return r.json().get('rows', None)\n",
    "   \n",
    "\n",
    "def get_admin2_json(iso, adm1, urlCarto=\"https://wri-01.carto.com/api/v2/sql\"):\n",
    "    \"\"\" \n",
    "    e.g. response for iso='GBR' adm1=1\n",
    "    [{'adm2': 1, 'name': 'Barking and Dagenham'},\n",
    "     {'adm2': 2, 'name': 'Bath and North East Somerset'},\n",
    "     ...\n",
    "     ]\n",
    "\n",
    "    \"\"\"\n",
    "    sql = (\"SELECT id_2 as adm2, name_2 as name \"\n",
    "            \"FROM gadm28_adm2 \"\n",
    "            f\"WHERE iso = '{iso}' \"\n",
    "            f\"AND id_1 = {adm1} \"\n",
    "            \"ORDER BY name \"\n",
    "          )\n",
    "    r = requests.get(urlCarto, params={\"q\": sql})    \n",
    "    return r.json().get('rows', None)"
   ]
  },
  {
   "cell_type": "code",
   "execution_count": 6,
   "metadata": {
    "ExecuteTime": {
     "end_time": "2017-12-18T15:11:17.827573Z",
     "start_time": "2017-12-18T15:11:17.805779Z"
    },
    "collapsed": true
   },
   "outputs": [],
   "source": [
    "tmp = get_admin0_json()\n",
    "iso_to_countries = {}\n",
    "for row in tmp:\n",
    "    iso_to_countries[row.get('iso')] = row.get('name')"
   ]
  },
  {
   "cell_type": "markdown",
   "metadata": {},
   "source": [
    "# Get info on an areas shape\n",
    "\n",
    "Use the Geostore service to find the geometry, bounding box or additional info on a given `iso` or `iso/admin1` area if required (e.g. for centering the map).\n",
    "\n",
    "Note - if similar info is needed for admin2 areas I will have to go back and create a query based on a Carto table, as admin-2 level data does not exist in the geostore service yet."
   ]
  },
  {
   "cell_type": "code",
   "execution_count": 7,
   "metadata": {
    "ExecuteTime": {
     "end_time": "2017-12-18T15:11:17.885517Z",
     "start_time": "2017-12-18T15:11:17.831435Z"
    },
    "scrolled": true
   },
   "outputs": [
    {
     "name": "stdout",
     "output_type": "stream",
     "text": [
      "returning admin-0 level geostore\n",
      "https://api.resourcewatch.org/v1/geostore/admin/GBR\n",
      "dict_keys(['geojson', 'hash', 'provider', 'areaHa', 'bbox', 'lock', 'info'])\n"
     ]
    },
    {
     "data": {
      "text/plain": [
       "[-13.6913900375365, 49.8654174804688, 1.76416802406322, 60.8458213806153]"
      ]
     },
     "execution_count": 7,
     "metadata": {},
     "output_type": "execute_result"
    }
   ],
   "source": [
    "iso = \"GBR\"\n",
    "adm1 = None \n",
    "\n",
    "if not adm1:\n",
    "    print(\"returning admin-0 level geostore\")\n",
    "    url = f\"https://api.resourcewatch.org/v1/geostore/admin/{iso}\"\n",
    "else:\n",
    "    print(\"returning admin-1 level geostore\")\n",
    "    url = f\"https://api.resourcewatch.org/v1/geostore/admin/{iso}/{adm1}\"\n",
    "    \n",
    "r = requests.get(url)\n",
    "print(r.url)\n",
    "roi = r.json()\n",
    "\n",
    "print(roi.get('data', None).get('attributes', None).keys())\n",
    "roi.get('data').get('attributes').get('bbox')  #e.g. of getting the bounding box of a ROI"
   ]
  },
  {
   "cell_type": "code",
   "execution_count": 8,
   "metadata": {
    "ExecuteTime": {
     "end_time": "2017-12-18T15:11:17.895130Z",
     "start_time": "2017-12-18T15:11:17.889581Z"
    },
    "collapsed": true
   },
   "outputs": [],
   "source": [
    "def create_bounding_poly(bbox):\n",
    "    \"\"\"Create a bounding polygon from a returned bbox of the geostore service\n",
    "        (- the old api produced shapes in this format).\n",
    "    \"\"\"\n",
    "    lat1, lon1, lat2, lon2  = bbox\n",
    "    return [[lat1,lon1], [lat1,lon2],[lat2,lon2],[lat2,lon1] ,[lat1,lon1]]"
   ]
  },
  {
   "cell_type": "code",
   "execution_count": 9,
   "metadata": {
    "ExecuteTime": {
     "end_time": "2017-12-18T15:11:17.905356Z",
     "start_time": "2017-12-18T15:11:17.898334Z"
    }
   },
   "outputs": [
    {
     "data": {
      "text/plain": [
       "[[-13.6913900375365, 49.8654174804688],\n",
       " [-13.6913900375365, 60.8458213806153],\n",
       " [1.76416802406322, 60.8458213806153],\n",
       " [1.76416802406322, 49.8654174804688],\n",
       " [-13.6913900375365, 49.8654174804688]]"
      ]
     },
     "execution_count": 9,
     "metadata": {},
     "output_type": "execute_result"
    }
   ],
   "source": [
    "create_bounding_poly(roi.get('data').get('attributes').get('bbox'))"
   ]
  },
  {
   "cell_type": "markdown",
   "metadata": {},
   "source": [
    "# Set up global (scope) data sources for the Country Widgets \n",
    "\n",
    "There is some work that needs to be done in populating the Location menu, not all options should be always available: some of them will need to be iso dependent. E.g. `Biomes` should only appear in the menu if the ISO is set to `BRA`\n"
   ]
  },
  {
   "cell_type": "code",
   "execution_count": 10,
   "metadata": {
    "ExecuteTime": {
     "end_time": "2017-12-18T17:05:09.096857Z",
     "start_time": "2017-12-18T17:05:09.072707Z"
    },
    "collapsed": true
   },
   "outputs": [],
   "source": [
    "polynames = {\n",
    "                'All Region':'gadm28',\n",
    "                'Biomes':'bra_biomes',\n",
    "                'Mining':'mining',\n",
    "                'Protected Areas':'wdpa',\n",
    "                'Primary Forests':'primary_forest',\n",
    "                'Mining in Primary Forests':'primary_forest__mining',\n",
    "                'Protected Areas in Primary Forests':'primary_forest__wdpa',\n",
    "                'Intact Forest Landscapes':'ifl_2013',\n",
    "                'Protected Areas in Intact Forest Landscapes':'ifl_2013__wdpa',\n",
    "                'Mining in Intact Forest Landscapes':'ifl_2013__mining',\n",
    "                'Indigenous Lands':'landmark',\n",
    "                'Indigenous Lands in Primary Forests':'primary_forest__landmark',\n",
    "                'Plantations':'plantations',\n",
    "                'Mining in Plantation Areas':'plantations__mining',\n",
    "                'Protected areas in Plantations':'plantations__wdpa',\n",
    "                'Indigenous Lands in Plantations':'plantations__landmark',\n",
    "            }\n",
    "\n",
    "plantation_type_dict = {\n",
    "    \n",
    "                         'Large industrial plantation': 'large industrial',\n",
    "                         'Clearing/ very young plantation': 'clearing or very young',\n",
    "                         'Mosaic of medium-sized plantations': 'medium-sized',\n",
    "                         'Mosaic of small-sized plantations': 'small sized'\n",
    "\n",
    "                        }\n",
    "\n",
    "plantation_species_dict = {\n",
    "                            'Wood fiber / timber': 'wood fiber and timber',\n",
    "                            'Wood fiber / timber mix': 'mixed wood fiber and timber',\n",
    "                            'Recently cleared': 'recently cleared',\n",
    "                            'Unknown': 'unknown',\n",
    "                            'Fruit': 'fruit tree',\n",
    "                            'Fruit mix': 'mixed fruit tree',\n",
    "                            'Oil palm': 'palm tree',\n",
    "                            'Other mix': 'mixed',\n",
    "                            'Other': 'other',\n",
    "                            'Rubber': 'rubber tree'\n",
    "                            }\n",
    "\n",
    "extent_year_dict = {\n",
    "    \n",
    "         2000:'area_extent_2000',\n",
    "         2010:'area_extent'\n",
    "\n",
    "        }\n",
    "\n",
    "tabs = {\n",
    "         \"summary\":\"Summary\",\n",
    "         \"land_cover\":\"Land Cover\",\n",
    "         \"land_use\": \"Land Use\",\n",
    "         \"forest_change\": \"Forest Change\",\n",
    "         \"conservation\":'Conservation',\n",
    "         \"people\":\"People\",\n",
    "         \"climate\":\"Climate\"\n",
    "        }"
   ]
  },
  {
   "cell_type": "markdown",
   "metadata": {},
   "source": [
    "# Dynamic Whitelists Tests"
   ]
  },
  {
   "cell_type": "code",
   "execution_count": 174,
   "metadata": {
    "collapsed": true
   },
   "outputs": [],
   "source": [
    "iso = \"SAU\"\n",
    "adm1 = None\n",
    "adm2 = None"
   ]
  },
  {
   "cell_type": "code",
   "execution_count": 175,
   "metadata": {
    "collapsed": true
   },
   "outputs": [],
   "source": [
    "def get_whitelist(iso, adm1=None, adm2=None):\n",
    "    if adm2:\n",
    "        print('Request for adm2 area')\n",
    "        sql = (f\"SELECT polyname FROM {ds} \"\n",
    "               \"WHERE thresh = 0 AND polyname is not 'gadm28' \"\n",
    "               f\"AND iso = '{iso}' AND adm1={adm1} AND adm2={adm2} \"\n",
    "               \"GROUP BY polyname\")\n",
    "    elif adm1:\n",
    "        print('Request for adm1 area')\n",
    "        sql = (f\"SELECT polyname FROM {ds} \"\n",
    "               \"WHERE thresh = 0 AND polyname is not 'gadm28' \"\n",
    "               f\"AND iso = '{iso}' AND adm1={adm1} \"\n",
    "               \"GROUP BY polyname\")\n",
    "    else:\n",
    "        print('Request for adm0 area')\n",
    "        sql = (f\"SELECT polyname FROM {ds} \"\n",
    "               \"WHERE thresh = 0 AND polyname is not 'gadm28' \"\n",
    "               f\"AND iso = '{iso}' \"\n",
    "               \"GROUP BY polyname\")\n",
    "    return sql\n",
    "    "
   ]
  },
  {
   "cell_type": "code",
   "execution_count": 176,
   "metadata": {},
   "outputs": [
    {
     "name": "stdout",
     "output_type": "stream",
     "text": [
      "Request for adm0 area\n",
      "https://production-api.globalforestwatch.org/v1/query/499682b1-3174-493f-ba1a-368b4636708e?sql=SELECT+polyname+FROM+499682b1-3174-493f-ba1a-368b4636708e+WHERE+thresh+%3D+0+AND+polyname+is+not+%27gadm28%27+AND+iso+%3D+%27SAU%27+GROUP+BY+polyname\n",
      "Status: 200\n",
      "[{'polyname': 'wdpa'}]\n",
      "CPU times: user 3.62 ms, sys: 2.48 ms, total: 6.1 ms\n",
      "Wall time: 13.8 ms\n"
     ]
    }
   ],
   "source": [
    "%%time\n",
    "\n",
    "# Create whitelist for each polyname\n",
    "\n",
    "url = f\"https://production-api.globalforestwatch.org/v1/query/{ds}\"\n",
    "sql = get_whitelist(iso=iso, adm1=adm1, adm2=adm2)\n",
    "\n",
    "properties = {\"sql\": sql}\n",
    "r = requests.get(url, params = properties)\n",
    "print(r.url)\n",
    "print(f'Status: {r.status_code}')\n",
    "data = r.json().get('data')\n",
    "pprint(data)"
   ]
  },
  {
   "cell_type": "code",
   "execution_count": 177,
   "metadata": {},
   "outputs": [
    {
     "data": {
      "text/plain": [
       "['wdpa']"
      ]
     },
     "execution_count": 177,
     "metadata": {},
     "output_type": "execute_result"
    }
   ],
   "source": [
    "unique_polys = []\n",
    "\n",
    "for d in data:\n",
    "    if d.get('polyname') not in unique_polys:\n",
    "        unique_polys.append(d.get('polyname'))\n",
    "\n",
    "        \n",
    "unique_polys"
   ]
  },
  {
   "cell_type": "code",
   "execution_count": 178,
   "metadata": {},
   "outputs": [
    {
     "data": {
      "text/plain": [
       "1"
      ]
     },
     "execution_count": 178,
     "metadata": {},
     "output_type": "execute_result"
    }
   ],
   "source": [
    "len(unique_polys)"
   ]
  },
  {
   "cell_type": "markdown",
   "metadata": {},
   "source": [
    "###  Alternate Whitelist\n",
    "\n",
    "This query can be used to assess whether polynames contain non-zero data.\n",
    "\n",
    "There are cases where widgets do not need to be shown in cases where the data is zero (e.g. Saudi Arabia has Protected Areas, but there is no loss or gain for those areas - hence it is redundant to show any change)\n",
    "\n",
    "This query returns the polynames that are found in the AOI ('gadm28, 'wdpa', 'ifl2013'...) as well as sum total of thier extent, loss and gain data. If a polyname is not present in teh AOI it will not be returned.\n",
    "\n",
    "The returned object will have elements in following format:\n",
    "\n",
    "```JSON\n",
    "\n",
    "[{'polyname': value,\n",
    "  'total_extent_2000': value,\n",
    "  'total_extent_2010': value,\n",
    "  'total_gain': value,\n",
    "  'total_loss': value,\n",
    "  },\n",
    "  {...}]\n",
    "\n",
    "```\n",
    "In cases where there is zero total extent for the AOI, that key:value pair WILL NOT BE PRESENT:\n",
    "\n",
    "e.g.\n",
    "\n",
    "```JSON\n",
    "\n",
    "[{'polyname': 'wdpa',\n",
    "  'total_extent_2000': value,\n",
    "  'total_extent_2010': value,\n",
    "  'total_loss': value,\n",
    "  },\n",
    "  {...}]\n",
    "\n",
    "```\n",
    "\n",
    "e.g. in the above example, the protected areas in the AOI have had no gain."
   ]
  },
  {
   "cell_type": "code",
   "execution_count": 184,
   "metadata": {
    "collapsed": true
   },
   "outputs": [],
   "source": [
    "iso = \"SAU\"\n",
    "adm1 = None\n",
    "adm2 = None"
   ]
  },
  {
   "cell_type": "code",
   "execution_count": 189,
   "metadata": {
    "collapsed": true
   },
   "outputs": [],
   "source": [
    "def get_alt_whitelist(iso, adm1=None, adm2=None):\n",
    "    if adm2:\n",
    "        print('Request for adm2 area')\n",
    "        sql = (\"SELECT polyname, SUM(area_extent_2000) as total_extent_2000, \"\n",
    "               \"SUM(area_extent) as total_extent_2010, \"\n",
    "               \"SUM(area_gain) as total_gain, \"\n",
    "               f\"SUM(year_data.area_loss) as total_loss FROM {ds} \"\n",
    "               \"WHERE thresh = 0 \"\n",
    "               f\"AND iso = '{iso}' AND adm1={adm1} AND adm2={adm2} \"\n",
    "               \"GROUP BY polyname\")\n",
    "    elif adm1:\n",
    "        print('Request for adm1 area')\n",
    "        sql = (\"SELECT polyname, SUM(area_extent_2000) as total_extent_2000, \"\n",
    "               \"SUM(area_extent) as total_extent_2010, \"\n",
    "               \"SUM(area_gain) as total_gain, \"\n",
    "               f\"SUM(year_data.area_loss) as total_loss FROM {ds} \"\n",
    "               \"WHERE thresh = 0 \"\n",
    "               f\"AND iso = '{iso}' AND adm1={adm1} \"\n",
    "               \"GROUP BY polyname\")\n",
    "    else:\n",
    "        print('Request for adm0 area')\n",
    "        sql = (\"SELECT polyname, SUM(area_extent_2000) as total_extent_2000, \"\n",
    "               \"SUM(area_extent) as total_extent_2010, \"\n",
    "               \"SUM(area_gain) as total_gain, \"\n",
    "               f\"SUM(year_data.area_loss) as total_loss FROM {ds} \"\n",
    "               \"WHERE thresh = 0 \"\n",
    "               f\"AND iso = '{iso}' \"\n",
    "               \"GROUP BY polyname\")\n",
    "    return sql\n",
    "    "
   ]
  },
  {
   "cell_type": "code",
   "execution_count": 190,
   "metadata": {
    "scrolled": true
   },
   "outputs": [
    {
     "name": "stdout",
     "output_type": "stream",
     "text": [
      "Request for adm0 area\n",
      "https://production-api.globalforestwatch.org/v1/query/499682b1-3174-493f-ba1a-368b4636708e?sql=SELECT+polyname%2C+SUM%28area_extent_2000%29+as+total_extent_2000%2C+SUM%28area_extent%29+as+total_extent_2010%2C+SUM%28area_gain%29+as+total_gain%2C+SUM%28year_data.area_loss%29+as+total_loss+FROM+499682b1-3174-493f-ba1a-368b4636708e+WHERE+thresh+%3D+0+AND+iso+%3D+%27SAU%27+GROUP+BY+polyname\n",
      "Status: 200\n",
      "[{'polyname': 'gadm28',\n",
      "  'total_extent_2000': 21931.320770263672,\n",
      "  'total_extent_2010': 26178.755500793457,\n",
      "  'total_loss': 47},\n",
      " {'polyname': 'wdpa',\n",
      "  'total_extent_2000': 328.40140199661255,\n",
      "  'total_extent_2010': 448.2100884318352}]\n"
     ]
    }
   ],
   "source": [
    "# Create whitelist for each polyname\n",
    "\n",
    "url = f\"https://production-api.globalforestwatch.org/v1/query/{ds}\"\n",
    "sql = get_alt_whitelist(iso=iso, adm1=adm1, adm2=adm2)\n",
    "\n",
    "properties = {\"sql\": sql}\n",
    "r = requests.get(url, params = properties)\n",
    "print(r.url)\n",
    "print(f'Status: {r.status_code}')\n",
    "data = r.json().get('data')\n",
    "pprint(data)"
   ]
  },
  {
   "cell_type": "code",
   "execution_count": 191,
   "metadata": {},
   "outputs": [
    {
     "data": {
      "text/plain": [
       "['gadm28', 'wdpa']"
      ]
     },
     "execution_count": 191,
     "metadata": {},
     "output_type": "execute_result"
    }
   ],
   "source": [
    "unique_polys_alt = []\n",
    "\n",
    "for d in data:\n",
    "    if d.get('polyname') not in unique_polys_alt:\n",
    "        unique_polys_alt.append(d.get('polyname'))\n",
    "\n",
    "        \n",
    "unique_polys_alt"
   ]
  },
  {
   "cell_type": "code",
   "execution_count": null,
   "metadata": {
    "collapsed": true
   },
   "outputs": [],
   "source": []
  }
 ],
 "metadata": {
  "anaconda-cloud": {},
  "kernelspec": {
   "display_name": "Python 3",
   "language": "python",
   "name": "python3"
  },
  "language_info": {
   "codemirror_mode": {
    "name": "ipython",
    "version": 3
   },
   "file_extension": ".py",
   "mimetype": "text/x-python",
   "name": "python",
   "nbconvert_exporter": "python",
   "pygments_lexer": "ipython3",
   "version": "3.6.2"
  },
  "toc": {
   "nav_menu": {},
   "number_sections": true,
   "sideBar": true,
   "skip_h1_title": false,
   "toc_cell": false,
   "toc_position": {},
   "toc_section_display": "block",
   "toc_window_display": false
  }
 },
 "nbformat": 4,
 "nbformat_minor": 2
}
