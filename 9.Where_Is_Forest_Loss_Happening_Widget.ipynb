{
 "cells": [
  {
   "cell_type": "markdown",
   "metadata": {},
   "source": [
    "# \"Where Is Forest Loss Happening?\" Widget\n",
    "\n",
    "This widget is a mix of a donut chart and a ranked list. It shows tree cover loss by admin region. On hover the pie chart segments display the loss, in ha, for that region.\n",
    "\n",
    "The time period over which the loss is shown is controlled by the user in the settings. By default it will be set to cover the whole data period (e.g. 2001 - 2016).\n",
    "\n",
    "The donut chart should display data for the top few admin regions, and group the rest together as 'Other Districts'.\n",
    "\n",
    "Data:\n",
    "\n",
    "1. admn-1 and -2 codes\n",
    "2. forest loss\n",
    "3. extent\n",
    "\n",
    "User Variables:\n",
    "\n",
    "1. year range\n",
    "2. unit (ha/% of regions extent)\n",
    "3. locations (all)\n",
    "4. canopy threshold\n"
   ]
  },
  {
   "cell_type": "code",
   "execution_count": 1,
   "metadata": {
    "ExecuteTime": {
     "end_time": "2017-12-18T15:11:17.673011Z",
     "start_time": "2017-12-18T15:11:16.497985Z"
    },
    "collapsed": true
   },
   "outputs": [],
   "source": [
    "#Import Global Metadata etc\n",
    "\n",
    "%run '0.Importable_Globals.ipynb'"
   ]
  },
  {
   "cell_type": "code",
   "execution_count": 2,
   "metadata": {
    "ExecuteTime": {
     "end_time": "2017-12-18T17:05:53.620335Z",
     "start_time": "2017-12-18T17:05:53.611156Z"
    },
    "collapsed": true
   },
   "outputs": [],
   "source": [
    "# VARIABLES\n",
    "location = 'All Region'\n",
    "thresh = 30\n",
    "adm0 = 'BRA'\n",
    "adm1 = None\n",
    "extent_year = 2000     #extent data (2000 or 2010)\n",
    "start = 2001     \n",
    "end = 2016\n",
    "\n",
    "\n",
    "tags = [\"forest_change\"]\n",
    "selectable_polynames = ['gadm28',\n",
    "                        'mining',\n",
    "                        'plantations']"
   ]
  },
  {
   "cell_type": "code",
   "execution_count": 3,
   "metadata": {
    "ExecuteTime": {
     "end_time": "2017-12-18T17:05:54.355118Z",
     "start_time": "2017-12-18T17:05:54.332987Z"
    },
    "collapsed": true
   },
   "outputs": [],
   "source": [
    "# get admin 1 or 2 level human-readable name info as needed:\n",
    "adm1_to_name = None\n",
    "adm2_to_name = None\n",
    "\n",
    "if adm1:\n",
    "    \n",
    "    tmp = get_admin2_json(iso=adm0, adm1=adm1)\n",
    "    adm2_to_name ={}\n",
    "    for row in tmp:\n",
    "        adm2_to_name[row.get('adm2')] = row.get('name')\n",
    "\n",
    "tmp = get_admin1_json(iso=adm0)\n",
    "adm1_to_name={}\n",
    "for row in tmp:\n",
    "    adm1_to_name[row.get('adm1')] = row.get('name') "
   ]
  },
  {
   "cell_type": "code",
   "execution_count": 4,
   "metadata": {
    "ExecuteTime": {
     "end_time": "2017-12-18T17:05:54.964666Z",
     "start_time": "2017-12-18T17:05:54.950993Z"
    },
    "collapsed": true
   },
   "outputs": [],
   "source": [
    "def loss_by_multiregion(p_name, adm0, adm1=None, threshold=30):\n",
    "    if adm1:\n",
    "        print('Request for  admin-1 areas')\n",
    "        sql = (f\"SELECT adm2, year_data.year as year, \"\n",
    "               f\"SUM(year_data.area_loss) as area_loss, \"\n",
    "               f\"FROM data \"\n",
    "               f\"WHERE polyname = '{p_name}' \"\n",
    "               f\"AND iso = '{adm0}' \"\n",
    "               f\"AND adm1 = {adm1} AS region\"\n",
    "               f\"AND thresh= {threshold} \"\n",
    "               f\"GROUP BY adm2, nested(year_data.year)\"\n",
    "               f\"ORDER BY adm2\")\n",
    "        return sql\n",
    "    elif adm0:\n",
    "        print('Request for  national area')\n",
    "        sql = (f\"SELECT adm1 AS region, year_data.year as year, \"\n",
    "               f\"SUM(year_data.area_loss) as area_loss, \"\n",
    "               f\"FROM data \"\n",
    "               f\"WHERE polyname = '{p_name}' \" \n",
    "               f\"AND iso = '{adm0}' \"\n",
    "               f\"AND thresh= {threshold} \"\n",
    "               f\"GROUP BY adm1 nested(year_data.year)\"\n",
    "               f\"ORDER BY adm1\")\n",
    "        return sql\n"
   ]
  },
  {
   "cell_type": "code",
   "execution_count": 5,
   "metadata": {
    "collapsed": true
   },
   "outputs": [],
   "source": [
    "# Returns json object containing admin-codes, total area and extent (both in ha)\n",
    "# If adm1 is not specified, it returns the total values for each adm1 region\n",
    "# Else, returns the adm2 values within that adm1 region\n",
    "# You may also specify a polyname (intersecting area) e.g. 'extent and % of plantations only'\n",
    "# By default polyname is 'gadm28' (all forest extent)\n",
    "\n",
    "def multiregion_extent_queries(adm0, adm1=None, year='area_extent_2000', p_name='gadm28', threshold=30):\n",
    "    if adm0 and not adm1:\n",
    "        print('Request for adm1 areas')\n",
    "        sql = (f\"SELECT adm1 as region, sum({year}) as extent, sum(area_gadm28) as total \"\n",
    "               f\"FROM {ds} \"\n",
    "               f\"WHERE iso = '{adm0}' \"\n",
    "               f\"AND thresh = {threshold} \"\n",
    "               f\"AND polyname = '{p_name}' \"\n",
    "               f\"GROUP BY adm1 \"\n",
    "               f\"ORDER BY adm1\")\n",
    "    elif adm0 and adm1:\n",
    "        print('Request for adm2 areas')\n",
    "        sql = (f\"SELECT adm2 as region, {year} as extent, area_gadm28 as total \"\n",
    "                f\"FROM {ds} \"\n",
    "                f\"WHERE iso = '{adm0}' \"\n",
    "                f\"AND thresh = {threshold} \"\n",
    "                f\"AND polyname = '{p_name}' \"\n",
    "                f\"AND adm1 = '{adm1}' \")\n",
    "    return sql"
   ]
  },
  {
   "cell_type": "code",
   "execution_count": 6,
   "metadata": {
    "ExecuteTime": {
     "end_time": "2017-12-18T17:05:55.541375Z",
     "start_time": "2017-12-18T17:05:55.513688Z"
    }
   },
   "outputs": [
    {
     "name": "stdout",
     "output_type": "stream",
     "text": [
      "Request for  national area\n",
      "https://production-api.globalforestwatch.org/v1/query/499682b1-3174-493f-ba1a-368b4636708e?sql=SELECT+adm1+AS+region%2C+year_data.year+as+year%2C+SUM%28year_data.area_loss%29+as+area_loss%2C+FROM+data+WHERE+polyname+%3D+%27gadm28%27+AND+iso+%3D+%27BRA%27+AND+thresh%3D+30+GROUP+BY+adm1+nested%28year_data.year%29ORDER+BY+adm1\n",
      "Status: 200\n"
     ]
    },
    {
     "data": {
      "text/plain": [
       "[{'area_loss': 67298, 'region': 1, 'year': 2001},\n",
       " {'area_loss': 68427, 'region': 1, 'year': 2002},\n",
       " {'area_loss': 37653, 'region': 1, 'year': 2003}]"
      ]
     },
     "execution_count": 6,
     "metadata": {},
     "output_type": "execute_result"
    }
   ],
   "source": [
    "# Query for loss\n",
    "\n",
    "url = f\"https://production-api.globalforestwatch.org/v1/query/{ds}\"\n",
    "loss_sql = loss_by_multiregion(p_name=polynames[location], adm0=adm0, adm1=adm1, threshold=thresh)\n",
    "\n",
    "properties = {\"sql\": loss_sql}\n",
    "rl = requests.get(url, params = properties)\n",
    "print(rl.url)\n",
    "print(f'Status: {rl.status_code}')\n",
    "\n",
    "loss_data = rl.json()['data']\n",
    "\n",
    "#Example data structure\n",
    "loss_data[0:3]"
   ]
  },
  {
   "cell_type": "code",
   "execution_count": 7,
   "metadata": {
    "ExecuteTime": {
     "end_time": "2017-12-18T17:05:56.134129Z",
     "start_time": "2017-12-18T17:05:56.106020Z"
    }
   },
   "outputs": [
    {
     "name": "stdout",
     "output_type": "stream",
     "text": [
      "Request for adm1 areas\n",
      "https://production-api.globalforestwatch.org/v1/query/499682b1-3174-493f-ba1a-368b4636708e?sql=SELECT+adm1+as+region%2C+sum%28area_extent_2000%29+as+extent%2C+sum%28area_gadm28%29+as+total+FROM+499682b1-3174-493f-ba1a-368b4636708e+WHERE+iso+%3D+%27BRA%27+AND+thresh+%3D+30+AND+polyname+%3D+%27gadm28%27+GROUP+BY+adm1+ORDER+BY+adm1\n",
      "Status: 200\n"
     ]
    },
    {
     "data": {
      "text/plain": [
       "[{'extent': 14379381.2578125, 'region': 1, 'total': 15273286.984375},\n",
       " {'extent': 582992.8784446716, 'region': 2, 'total': 2775822.3068847656},\n",
       " {'extent': 12186407.07421875, 'region': 3, 'total': 14221825.859375}]"
      ]
     },
     "execution_count": 7,
     "metadata": {},
     "output_type": "execute_result"
    }
   ],
   "source": [
    "#Query for extent (to calculate percentages)\n",
    "\n",
    "url = f\"https://production-api.globalforestwatch.org/v1/query/{ds}\"\n",
    "extent_sql = multiregion_extent_queries(adm0=adm0, adm1=adm1, year=extent_year_dict[extent_year],\n",
    "                                        p_name=polynames[location], threshold=thresh)\n",
    "\n",
    "properties = {\"sql\": extent_sql}\n",
    "re = requests.get(url, params = properties)\n",
    "print(re.url)\n",
    "print(f'Status: {re.status_code}')\n",
    "\n",
    "extent_data = re.json()['data']\n",
    "\n",
    "#Example data structure\n",
    "extent_data[0:3]"
   ]
  },
  {
   "cell_type": "code",
   "execution_count": 8,
   "metadata": {
    "ExecuteTime": {
     "end_time": "2017-12-18T17:05:57.190196Z",
     "start_time": "2017-12-18T17:05:57.133576Z"
    }
   },
   "outputs": [
    {
     "data": {
      "text/plain": [
       "[{'area_loss_%': 6.7476130064556346, 'area_loss_ha': 970265, 'region': 1},\n",
       " {'area_loss_%': 11.533760100018348, 'area_loss_ha': 67241, 'region': 2},\n",
       " {'area_loss_%': 2.1031711679993346, 'area_loss_ha': 256301, 'region': 3}]"
      ]
     },
     "execution_count": 8,
     "metadata": {},
     "output_type": "execute_result"
    }
   ],
   "source": [
    "# for a specified start and an end year, end up with a json of admin_ID, and loss\n",
    "\n",
    "# Find out the unique list of regions in the returned array\n",
    "unique_regions = []\n",
    "for row in loss_data:\n",
    "    #print(row)\n",
    "    tmp_region = row.get('region', None)\n",
    "    if tmp_region not in unique_regions:\n",
    "        unique_regions.append(tmp_region)\n",
    "        \n",
    "# Loop over that list of regions\n",
    "loss_json = []\n",
    "for region in unique_regions:\n",
    "    tmp_loss = 0\n",
    "    # gather all yearly data from the loss json object\n",
    "    for row in loss_data:\n",
    "        tmp_region = row.get('region', None)\n",
    "        if tmp_region == region:\n",
    "            if row.get('year', None) >= start and row.get('year', None) <= end:\n",
    "                tmp_loss += row.get('area_loss', 0)\n",
    "    # gather extent data from the extent json object\n",
    "    tmp_extent = 0\n",
    "    for row in extent_data:\n",
    "        if row.get('region') == region:          \n",
    "            tmp_extent = row.get('extent', None)\n",
    "            break\n",
    "    loss_in_percent = tmp_loss/tmp_extent * 100\n",
    "    loss_json.append({'region':region,'area_loss_ha': tmp_loss, 'area_loss_%':loss_in_percent})\n",
    "    #print(f\"{areaId_to_name[region]} loss between {start} and {end} is {tmp_loss:,.0f}ha or {loss_in_percent:3.2f}%\")\n",
    "\n",
    "loss_json[0:3]"
   ]
  },
  {
   "cell_type": "code",
   "execution_count": 9,
   "metadata": {
    "ExecuteTime": {
     "end_time": "2017-12-18T17:05:58.217650Z",
     "start_time": "2017-12-18T17:05:58.211382Z"
    }
   },
   "outputs": [
    {
     "data": {
      "text/plain": [
       "{'area_loss_%': 10.30120581962279, 'area_loss_ha': 11189694, 'region': 14}"
      ]
     },
     "execution_count": 9,
     "metadata": {},
     "output_type": "execute_result"
    }
   ],
   "source": [
    "#Sort regions by area of loss (DESC)\n",
    "\n",
    "newlist = sorted(loss_json, key=lambda k: k['area_loss_ha'], reverse=True) \n",
    "newlist[0]"
   ]
  },
  {
   "cell_type": "code",
   "execution_count": 10,
   "metadata": {
    "ExecuteTime": {
     "end_time": "2017-12-18T17:05:59.234571Z",
     "start_time": "2017-12-18T17:05:58.933708Z"
    }
   },
   "outputs": [
    {
     "data": {
      "image/png": "[encoded data removed]",
      "text/plain": [
       "<matplotlib.figure.Figure at 0x10a56aba8>"
      ]
     },
     "metadata": {},
     "output_type": "display_data"
    }
   ],
   "source": [
    "# Example donut chart \n",
    "# NOTE - THE COLOURS ARE NOT NECESSARILY THOSE NEEDED FOR PRODUCTION\n",
    "  \n",
    "limit = 0\n",
    "sizes = []\n",
    "labels = [] \n",
    "\n",
    "for r in range(0,10):\n",
    "    \n",
    "    try:\n",
    "        if adm1:\n",
    "            labels.append(adm2_to_name[newlist[r].get('region')])\n",
    "        elif adm0:\n",
    "            labels.append(adm1_to_name[newlist[r].get('region')])\n",
    "        sizes.append(newlist[r].get('area_loss_ha'))\n",
    "        \n",
    "    except:\n",
    "        break\n",
    "    limit += 1\n",
    "      \n",
    "other_regions=0\n",
    "\n",
    "for rows in range(limit+1,len(newlist)):\n",
    "    other_regions += newlist[rows].get('area_loss_ha')\n",
    "\n",
    "if other_regions != 0:\n",
    "    labels.append('Other regions')\n",
    "    sizes.append(other_regions)\n",
    "            \n",
    "if adm1:\n",
    "    title = adm1_to_name[adm1]\n",
    "elif adm0:\n",
    "    title = iso_to_countries[adm0]\n",
    "\n",
    "fig1, ax1 = plt.subplots()\n",
    "ax1.pie(sizes, labels=labels, autopct='%1.1f%%',\n",
    "        shadow=False, startangle=90, colors=['#0da330', '#69ef88','green','grey'])\n",
    "ax1.axis('equal')\n",
    "centre_circle = plt.Circle((0,0),0.75,color='black', fc='white',linewidth=0.5)\n",
    "fig1 = plt.gcf()\n",
    "fig1.gca().add_artist(centre_circle)\n",
    "plt.title(f'Forest cover in {title}')\n",
    "plt.show()"
   ]
  },
  {
   "cell_type": "markdown",
   "metadata": {
    "collapsed": true
   },
   "source": [
    "<a id='s12'></a>\n",
    "### Dynamic Sentence for Loss widget\n",
    "\n",
    "1. Returns the no of regions responsible for >50% of the regions tree cover loss (adm1)\n",
    "     - or, the loss (%) that the top 10% of regions are responsible for (adm2)\n",
    "2. Max and Min loss (%) in that region\n",
    "3. Average loss (%) that each region contributes to the total"
   ]
  },
  {
   "cell_type": "code",
   "execution_count": 11,
   "metadata": {
    "ExecuteTime": {
     "end_time": "2017-12-18T17:06:03.930290Z",
     "start_time": "2017-12-18T17:06:03.925502Z"
    },
    "collapsed": true
   },
   "outputs": [],
   "source": [
    "#Calculate total three cover loss at this threshold\n",
    "total = 0\n",
    "\n",
    "for i in range(0,len(loss_json)):\n",
    "    total += newlist[i]['area_loss_ha']"
   ]
  },
  {
   "cell_type": "code",
   "execution_count": 12,
   "metadata": {
    "ExecuteTime": {
     "end_time": "2017-12-18T17:06:07.408112Z",
     "start_time": "2017-12-18T17:06:07.393304Z"
    }
   },
   "outputs": [
    {
     "data": {
      "text/plain": [
       "[24.15413792096347, 20.473648183396183, 8.20261554374448]"
      ]
     },
     "execution_count": 12,
     "metadata": {},
     "output_type": "execute_result"
    }
   ],
   "source": [
    "# Calculate % loss for the region (relative to total loss). Also filters out incorrect/duplicated data\n",
    "\n",
    "correct_list = []\n",
    "for i in range(0,len(loss_json)):\n",
    "    if(i != 0 and newlist[i]['region'] != newlist[i-1]['region']):\n",
    "        correct_list.append(100*newlist[i]['area_loss_ha']/total)\n",
    "    elif i == 0:\n",
    "        correct_list.append(100*newlist[i]['area_loss_ha']/total)\n",
    "correct_list[0:3]"
   ]
  },
  {
   "cell_type": "code",
   "execution_count": 13,
   "metadata": {
    "ExecuteTime": {
     "end_time": "2017-12-18T17:06:08.042979Z",
     "start_time": "2017-12-18T17:06:08.036853Z"
    },
    "collapsed": true
   },
   "outputs": [],
   "source": [
    "#Calculate the mean loss\n",
    "\n",
    "mean=0\n",
    "for i in range(0, len(correct_list)):\n",
    "    \n",
    "    mean += correct_list[i]\n",
    "    \n",
    "mean = mean/len(correct_list)"
   ]
  },
  {
   "cell_type": "code",
   "execution_count": 14,
   "metadata": {
    "ExecuteTime": {
     "end_time": "2017-12-18T17:06:10.912403Z",
     "start_time": "2017-12-18T17:06:10.906641Z"
    }
   },
   "outputs": [
    {
     "data": {
      "text/plain": [
       "[24.15413792096347,\n",
       " 20.473648183396183,\n",
       " 8.20261554374448,\n",
       " 7.817604461786299,\n",
       " 6.1367845007098465]"
      ]
     },
     "execution_count": 14,
     "metadata": {},
     "output_type": "execute_result"
    }
   ],
   "source": [
    "correct_list[0:5]"
   ]
  },
  {
   "cell_type": "code",
   "execution_count": 15,
   "metadata": {
    "ExecuteTime": {
     "end_time": "2017-12-18T17:06:11.992052Z",
     "start_time": "2017-12-18T17:06:11.979873Z"
    },
    "collapsed": true
   },
   "outputs": [],
   "source": [
    "# Percentile calcs: work out how many regions are responsible for >50% loss\n",
    "# x is no. of adm regions.\n",
    "\n",
    "if adm1:\n",
    "    top_ten_index = int(len(correct_list)/10)\n",
    "    total = np.sum(correct_list[0: top_ten_index+1])\n",
    "     \n",
    "accumulated_percent = 0\n",
    "for n, item in enumerate(correct_list):\n",
    "    accumulated_percent += item\n",
    "    if accumulated_percent >= 50:\n",
    "        lower_fity_percentile_regions = n +1\n",
    "        break"
   ]
  },
  {
   "cell_type": "code",
   "execution_count": 16,
   "metadata": {
    "ExecuteTime": {
     "end_time": "2017-12-18T17:06:14.331089Z",
     "start_time": "2017-12-18T17:06:14.321923Z"
    }
   },
   "outputs": [
    {
     "data": {
      "text/plain": [
       "{'avg': 3.7037037037037037,\n",
       " 'max': 24.15413792096347,\n",
       " 'min': 0.0049626346422248025}"
      ]
     },
     "execution_count": 16,
     "metadata": {},
     "output_type": "execute_result"
    }
   ],
   "source": [
    "#Loss Stats\n",
    "loss_stats = { 'max': correct_list[0], 'min': correct_list[len(correct_list)-1], 'avg': mean}\n",
    "loss_stats"
   ]
  },
  {
   "cell_type": "code",
   "execution_count": 23,
   "metadata": {
    "ExecuteTime": {
     "end_time": "2017-12-18T17:06:15.089606Z",
     "start_time": "2017-12-18T17:06:15.024959Z"
    }
   },
   "outputs": [
    {
     "name": "stdout",
     "output_type": "stream",
     "text": [
      "In Brazil 3 regions were responsible for more than half (53%) of all tree cover loss country-wide where canopy is greater than 30%. Pará has the largest relative tree cover loss in Brazil relative to extent in 2000, at 24% compared to an average of 3.7%. "
     ]
    }
   ],
   "source": [
    "#Dynamic sentence. For adm2.\n",
    "\n",
    "if adm1:\n",
    "    if len(correct_list) > 10:\n",
    "        print(f\"The top ten percent of sub-regions were responsible for \", end=\"\")\n",
    "        print(f\"{total:,.0f}% of {areaId_to_name[adm1]}'s total tree cover loss \", end=\"\")\n",
    "\n",
    "        if location == 'All Region':\n",
    "            print(f\"across the region \", end=\"\")\n",
    "        elif (location == 'Mining' or 'Mining in Intact Forest Landscapes' or 'Mining in Plantation Areas'):\n",
    "             print(f\"in areas with {location.lower()} \", end=\"\")\n",
    "        else:\n",
    "            print(f\"found in {location.lower()} \", end=\"\")\n",
    "\n",
    "    print(f\"where canopy is greater than {thresh}%. \", end=\"\")\n",
    "    print(f\"{adm2_to_name[newlist[0].get('region')]} experienced the largest relative tree cover loss \", end=\"\")\n",
    "    print(f\"in {adm1_to_name[adm1]} relative to extent in {extent_year}, at {loss_stats['max']:,.0f}% compared to an average \", end=\"\")\n",
    "    print(f\"of {loss_stats['avg']:,.1f}%. \", end=\"\")\n",
    "    \n",
    "else:\n",
    "    \n",
    "#Dynamic sentence. For adm1.\n",
    "    if len(correct_list) > 10:\n",
    "        print(f\"In {iso_to_countries[adm0]} {lower_fity_percentile_regions} \", end=\"\")\n",
    "        print(f\"regions were responsible for more than half ({accumulated_percent:,.0f}%) \",end=\"\")\n",
    "\n",
    "        print(f\"of all tree cover loss \", end=\"\")\n",
    "        if location == 'All Region':\n",
    "            print(f\"country-wide \", end=\"\")\n",
    "        elif (location == 'Mining' or 'Mining in Intact Forest Landscapes' or 'Mining in Plantation Areas'):\n",
    "            print(f\"in areas with {location.lower()} \", end=\"\")\n",
    "        else:\n",
    "            print(f\"found in {location.lower()} \", end=\"\")\n",
    "            \n",
    "    print(f\"where canopy is greater than {thresh}%. \", end=\"\")\n",
    "    print(f\"{adm1_to_name[newlist[0].get('region')]} has the largest relative tree cover loss \", end=\"\")\n",
    "    print(f\"in {iso_to_countries[adm0]} relative to extent in {extent_year}, at {loss_stats['max']:,.0f}% compared to an average \", end=\"\")\n",
    "    print(f\"of {loss_stats['avg']:,.1f}%. \", end=\"\")"
   ]
  },
  {
   "cell_type": "code",
   "execution_count": null,
   "metadata": {
    "collapsed": true
   },
   "outputs": [],
   "source": []
  }
 ],
 "metadata": {
  "anaconda-cloud": {},
  "kernelspec": {
   "display_name": "Python 3",
   "language": "python",
   "name": "python3"
  },
  "language_info": {
   "codemirror_mode": {
    "name": "ipython",
    "version": 3
   },
   "file_extension": ".py",
   "mimetype": "text/x-python",
   "name": "python",
   "nbconvert_exporter": "python",
   "pygments_lexer": "ipython3",
   "version": "3.6.2"
  },
  "toc": {
   "nav_menu": {},
   "number_sections": true,
   "sideBar": true,
   "skip_h1_title": false,
   "toc_cell": false,
   "toc_position": {},
   "toc_section_display": "block",
   "toc_window_display": false
  }
 },
 "nbformat": 4,
 "nbformat_minor": 2
}
