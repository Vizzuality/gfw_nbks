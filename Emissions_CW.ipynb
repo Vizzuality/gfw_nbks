{
 "cells": [
  {
   "cell_type": "markdown",
   "metadata": {},
   "source": [
    "## Emissions widget:\n",
    "\n",
    "* dyanamic sentence\n",
    "\n",
    "* stacked chart of historical LULC and agriculture emissions\n",
    "\n",
    "We will need to use the Climate Watch API and grab data:\n",
    "\n",
    "- Total including LUCF (for DS)\n",
    "- Agriculture\n",
    "- Land-use change and Forestry\n",
    "\n",
    "https://www.climatewatchdata.org/countries/BRA?calculation=ABSOLUTE_VALUE&filter=312%2C314&source=25"
   ]
  },
  {
   "cell_type": "code",
   "execution_count": 1,
   "metadata": {},
   "outputs": [],
   "source": [
    "#Import Global Metadata etc\n",
    "\n",
    "%run '0.Importable_Globals.ipynb'"
   ]
  },
  {
   "cell_type": "code",
   "execution_count": 146,
   "metadata": {},
   "outputs": [],
   "source": [
    "# For FAO data, only country (admin0) level data are avaiable\n",
    "\n",
    "adm0 = 'BRA'  "
   ]
  },
  {
   "cell_type": "code",
   "execution_count": 147,
   "metadata": {},
   "outputs": [
    {
     "data": {
      "text/plain": [
       "'https://www.climatewatchdata.org/api/v1/emissions?gas=107&location=BRA&source=25'"
      ]
     },
     "execution_count": 147,
     "metadata": {},
     "output_type": "execute_result"
    }
   ],
   "source": [
    "url = f\"https://www.climatewatchdata.org/api/v1/emissions?gas=107&location={adm0}&source=25\"\n",
    "\n",
    "r = requests.get(url)\n",
    "r.url"
   ]
  },
  {
   "cell_type": "code",
   "execution_count": 148,
   "metadata": {},
   "outputs": [],
   "source": [
    "# keys = ['Total including LUCF','Land-Use Change and Forestry','Agriculture']"
   ]
  },
  {
   "cell_type": "code",
   "execution_count": 149,
   "metadata": {},
   "outputs": [],
   "source": [
    "def extract_emissions(response, key):\n",
    "    \"\"\"After a response from the Climate Watch API extract two lists of\n",
    "        years and values for a specified emission type.\n",
    "        e.g. ['Total including LUCF','Land-Use Change and Forestry','Agriculture']:\n",
    "        Returns year, values in absolute emissions, and values relative to total annual emissions\n",
    "    \"\"\"\n",
    "    years = []\n",
    "    values = []\n",
    "    total_emissions = []\n",
    "    for item in r.json():\n",
    "        if item.get('sector') == 'Total including LUCF':\n",
    "            for row in (item.get('emissions')):\n",
    "                total_emissions.append(row.get('value'))\n",
    "    np.array(total_emissions)\n",
    "    for k in [key]:\n",
    "        for item in response.json():\n",
    "            if item.get('sector') == k:\n",
    "                for row in (item.get('emissions')):\n",
    "                    years.append(row.get('year'))\n",
    "                    values.append(row.get('value'))\n",
    "                return np.array(years), np.array(values), np.array(total_emissions)"
   ]
  },
  {
   "cell_type": "code",
   "execution_count": 150,
   "metadata": {},
   "outputs": [
    {
     "data": {
      "text/plain": [
       "(array([1990, 1991, 1992, 1993, 1994, 1995, 1996, 1997, 1998, 1999, 2000,\n",
       "        2001, 2002, 2003, 2004, 2005, 2006, 2007, 2008, 2009, 2010, 2011,\n",
       "        2012, 2013, 2014]),\n",
       " array([ 302.5423328,  312.4326635,  317.8870536,  319.6683297,\n",
       "         327.0293062,  332.3812289,  318.2947615,  325.6861644,\n",
       "         335.6865696,  337.4773276,  341.1072286,  353.818294 ,\n",
       "         374.7432019,  393.2494078,  410.7856584,  416.3333871,\n",
       "         409.1959109,  417.5313732,  408.9029981,  415.5229984,\n",
       "         441.2131202,  441.8203379,  444.7040896,  436.7751343,  441.905044 ]),\n",
       " array([ 1447.653543,  1465.844663,  1476.230291,  1485.825681,\n",
       "         1502.235855,  1527.666602,  1534.877666,  1564.6065  ,\n",
       "         1595.554226,  1601.854106,  1603.082776,  1837.953031,\n",
       "         1862.769119,  1876.704097,  1915.827171,  1939.65705 ,\n",
       "         1352.80411 ,  1404.577951,  1394.024448,  1377.597315,\n",
       "         1483.812483,  1252.95472 ,  1306.773256,  1317.218618,  1357.1811  ]))"
      ]
     },
     "execution_count": 150,
     "metadata": {},
     "output_type": "execute_result"
    }
   ],
   "source": [
    "extract_emissions(r, 'Agriculture')"
   ]
  },
  {
   "cell_type": "code",
   "execution_count": 151,
   "metadata": {},
   "outputs": [
    {
     "data": {
      "image/png": "[encoded data removed]",
      "text/plain": [
       "<matplotlib.figure.Figure at 0x116265978>"
      ]
     },
     "metadata": {},
     "output_type": "display_data"
    }
   ],
   "source": [
    "years, agriculture_values, total_emissions = extract_emissions(r, 'Agriculture')\n",
    "_, lucf_values, _ = extract_emissions(r, 'Land-Use Change and Forestry')\n",
    "\n",
    "width = 0.35\n",
    "fig, ax = plt.subplots()\n",
    "ax.fill_between(years, 0, agriculture_values, color='darkblue', alpha=0.5)\n",
    "ax.fill_between(years, agriculture_values, agriculture_values + lucf_values, color='lightblue', alpha=0.5)\n",
    "\n",
    "# add some text for labels, title and axes ticks\n",
    "ax.set_ylabel(f'Emissions (tCO2e)')\n",
    "ax.set_xlabel('Year')\n",
    "ax.set_title(f\"Historical emissions for {iso_to_countries[adm0]}\")\n",
    "plt.show()"
   ]
  },
  {
   "cell_type": "markdown",
   "metadata": {},
   "source": [
    "On hover you can show the absolute and relative emissions. Relative emissions are calculated as a % of the total emissions, e.g:"
   ]
  },
  {
   "cell_type": "code",
   "execution_count": 152,
   "metadata": {},
   "outputs": [
    {
     "name": "stdout",
     "output_type": "stream",
     "text": [
      "[ 20.89880789  21.31417274  21.53370348  21.51452447  21.76950478\n",
      "  21.75744554  20.73746778  20.81585142  21.03886939  21.06791913\n",
      "  21.27820433  19.25067116  20.11753352  20.95425744  21.44168663\n",
      "  21.46427829  30.24797958  29.72646501  29.33255573  30.16287807\n",
      "  29.73509963  35.26227491  34.03070024  33.15889468  32.56050677]\n"
     ]
    }
   ],
   "source": [
    "relative_agriculture_emissions = (agriculture_values / total_emissions) * 100\n",
    "print(relative_agriculture_emissions)"
   ]
  },
  {
   "cell_type": "code",
   "execution_count": 182,
   "metadata": {},
   "outputs": [
    {
     "data": {
      "text/plain": [
       "\"In Brazil, land-use change and forestry combined with agriculture contributed 28,580 tCO₂e of emissions emissions from 1990–2014, 74% of Brazil's total over this period.\""
      ]
     },
     "execution_count": 182,
     "metadata": {},
     "output_type": "execute_result"
    }
   ],
   "source": [
    "emission_fraction = ((sum(agriculture_values) + sum(lucf_values))/sum(total_emissions)) * 100\n",
    "\n",
    "(\n",
    "    f\"In {iso_to_countries[adm0]}, \"\n",
    "    f\"land-use change and forestry combined with agriculture \"\n",
    "    f\"contributed {lucf_values.sum() + agriculture_values.sum():3,.0f} tCO₂e of emissions \"\n",
    "    f\"emissions from {years.min()}–{years.max()}, \"\n",
    "    f\"{emission_fraction:2.0f}% of {iso_to_countries[adm0]}'s \"\n",
    "    f\"total over this period.\"\n",
    ")\n"
   ]
  },
  {
   "cell_type": "code",
   "execution_count": null,
   "metadata": {},
   "outputs": [],
   "source": []
  }
 ],
 "metadata": {
  "kernelspec": {
   "display_name": "Python 3",
   "language": "python",
   "name": "python3"
  },
  "language_info": {
   "codemirror_mode": {
    "name": "ipython",
    "version": 3
   },
   "file_extension": ".py",
   "mimetype": "text/x-python",
   "name": "python",
   "nbconvert_exporter": "python",
   "pygments_lexer": "ipython3",
   "version": "3.6.4"
  }
 },
 "nbformat": 4,
 "nbformat_minor": 2
}
