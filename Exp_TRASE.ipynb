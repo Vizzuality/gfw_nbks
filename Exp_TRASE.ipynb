{
 "cells": [
  {
   "cell_type": "markdown",
   "metadata": {},
   "source": [
    "# Experimental: TRASE municipalities and GFW country pages\n",
    "\n",
    "\n",
    "[TRASE](https://staging.trase.earth) shows supply chain information at the municipality (admin-2) level for a range of key countries (Bra, Idn, Par, etc), and has a version of country pages with emedbable widgets already made.\n",
    "\n",
    "There is much opporuntity to extract these data and create several widgets on the GFW country pages. (The inverse is also true.)\n",
    "\n",
    "An example of an admin-2 for admin-2 area on both sites:\n",
    "\n",
    "[TRASE: Brazil > Bahia > SÃO DESIDÉRIO](https://staging.trase.earth/profile-place?nodeId=2550&year=2014&showMiniSankey=true#profile-content-anchor)\n",
    "\n",
    "[GFW: Brazil > Bahia > SÃO DESIDÉRIO](http://staging.globalforestwatch.org/country/BRA/5/535?category=summary)\n",
    "\n",
    "In particularly we can grab extract the dynamic sentence, the deforestation related to soy production, and the mini-sankey. Combined with info which we already have, such as the extent of forest, we can add extra interactions/info on hover to the widgets also.\n",
    "\n",
    "For now, it may be easiset to only make those widgets avaiable at amin-2 level. We may need to do more work/specific back-end queries to TRASE to aggregate.\n",
    "\n",
    "One missing puzzle piece is to map the node-id's used in TRASE to the GADAM28 admin0-2 ID codes used in GFW."
   ]
  },
  {
   "cell_type": "code",
   "execution_count": null,
   "metadata": {},
   "outputs": [],
   "source": []
  }
 ],
 "metadata": {
  "kernelspec": {
   "display_name": "Python 3",
   "language": "python",
   "name": "python3"
  },
  "language_info": {
   "codemirror_mode": {
    "name": "ipython",
    "version": 3
   },
   "file_extension": ".py",
   "mimetype": "text/x-python",
   "name": "python",
   "nbconvert_exporter": "python",
   "pygments_lexer": "ipython3",
   "version": "3.6.4"
  }
 },
 "nbformat": 4,
 "nbformat_minor": 2
}
