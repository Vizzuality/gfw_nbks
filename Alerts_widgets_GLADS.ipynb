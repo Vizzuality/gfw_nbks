{
 "cells": [
  {
   "cell_type": "markdown",
   "metadata": {},
   "source": [
    "# GLAD Alert widgets"
   ]
  },
  {
   "cell_type": "code",
   "execution_count": 1,
   "metadata": {
    "collapsed": true
   },
   "outputs": [],
   "source": [
    "#Import Global Metadata etc\n",
    "\n",
    "%run '0.Importable_Globals.ipynb'"
   ]
  },
  {
   "cell_type": "code",
   "execution_count": 2,
   "metadata": {
    "collapsed": true
   },
   "outputs": [],
   "source": [
    "from datetime import date\n",
    "from datetime import timedelta\n",
    "import datetime\n",
    "import math\n"
   ]
  },
  {
   "cell_type": "markdown",
   "metadata": {},
   "source": [
    "# Test\n",
    "\n",
    "We need to precalc weekly stats over the entirety of the temporal data."
   ]
  },
  {
   "cell_type": "code",
   "execution_count": null,
   "metadata": {
    "collapsed": true
   },
   "outputs": [],
   "source": [
    "test_i = '2015-01-01'"
   ]
  },
  {
   "cell_type": "code",
   "execution_count": null,
   "metadata": {},
   "outputs": [],
   "source": [
    "date_1 = datetime.strptime(test_i, \"%Y-%m-%d\")\n",
    "date_1"
   ]
  },
  {
   "cell_type": "code",
   "execution_count": null,
   "metadata": {},
   "outputs": [],
   "source": [
    "date_2 = date_1 + timedelta(days=7) \n",
    "date_2"
   ]
  },
  {
   "cell_type": "code",
   "execution_count": null,
   "metadata": {},
   "outputs": [],
   "source": [
    "test_f = datetime.isoformat(date_2)[:10]\n",
    "test_f"
   ]
  },
  {
   "cell_type": "code",
   "execution_count": null,
   "metadata": {
    "collapsed": true
   },
   "outputs": [],
   "source": [
    "test_data = get_glads(start_date=test_i, end_date=test_f, iso=iso, adm1=adm1, threshold=threshold)"
   ]
  },
  {
   "cell_type": "code",
   "execution_count": null,
   "metadata": {},
   "outputs": [],
   "source": [
    "test_data"
   ]
  },
  {
   "cell_type": "markdown",
   "metadata": {},
   "source": [
    "# Dynamic Sentences\n"
   ]
  },
  {
   "cell_type": "code",
   "execution_count": null,
   "metadata": {
    "collapsed": true
   },
   "outputs": [],
   "source": [
    "print(f\"There were {historic_data[w].get('count')} GLADS alerts reported \", end=\"\")\n",
    "print(f\"in the week starting {historic_data[week].get('start_date')}, \", end=\"\")\n",
    "print(f\"compared to \", end=\"\")\n",
    "n = 1\n",
    "\n",
    "while week-(52*n) > 0:\n",
    "    if n > 1:\n",
    "        print(f\", \", end=\"\")\n",
    "    if historic_data[week-(52*n)].get('start_date')[0:4] == '2015':\n",
    "        print(f\"and \", end=\"\")\n",
    "        \n",
    "    if historic_data[week-(52*n)].get('count') > historic_data[week-(52*(n-1))].get('count'):\n",
    "        arrow = '↑'\n",
    "    elif historic_data[week-(52*n)].get('count') < historic_data[week-(52*(n-1))].get('count'):\n",
    "        arrow = '↓'\n",
    "    else:\n",
    "        arrow = '-'\n",
    "        \n",
    "    print(f\"{historic_data[week-(52*n)].get('count')}({arrow}) \", end=\"\")\n",
    "    print(f\"in {historic_data[week-(52*n)].get('start_date')[0:4]}\", end=\"\")\n",
    "    n += 1\n",
    "    \n",
    "print(f\".\", end=\"\")\n",
    "    \n",
    "### Note: (↑) indicates that current year is an increse over that year, (↓) means a decrease "
   ]
  },
  {
   "cell_type": "code",
   "execution_count": null,
   "metadata": {
    "collapsed": true
   },
   "outputs": [],
   "source": [
    "print(f\"There were {historic_data[w].get('count')} GLADS alerts reported \", end=\"\")\n",
    "print(f\"in the week starting {historic_data[week].get('start_date')}, \", end=\"\")\n",
    "\n",
    "if historic_data[week].get('count') > historic_data[week-52].get('count') and historic_data[week-52].get('count'):\n",
    "    print(f\"an increase of {historic_data[week].get('count') - historic_data[week-52].get('count')} \", end=\"\")\n",
    "else:\n",
    "    print(f\"an decrease of {historic_data[week].get('count') - historic_data[week-52].get('count')} \", end=\"\")\n",
    "    \n",
    "print(f\"over the corresponding week in {historic_data[week-52].get('start_date')[0:4]}. \", end=\"\")\n",
    "    \n",
    "    "
   ]
  },
  {
   "cell_type": "markdown",
   "metadata": {},
   "source": [
    "### Daily/Weekly/Monthly Alerts \n",
    "\n",
    "We should get Alerts over several time periods are a range of different temporal resolutions.\n",
    "We need to calculate:\n",
    "\n",
    "1. Last date in the returned data (and convert it to a real date)\n",
    "1. depending on a variable time selection (e.g. past week, past 3 weeks, past 3 months, past 6 months) select back in time (including a leading period to use as a smooth)\n",
    "1. select the same time window for all previous years, and composite/stack the time together\n",
    "1. create a boxcar smooth mean to use as the center of the certainty range\n",
    "1. calculate a single standard deviation for the whole period (which should be the average standard deviation of all the individual time-point standard deviations)\n",
    "1. test plot, floor the sigma range at 0"
   ]
  },
  {
   "cell_type": "code",
   "execution_count": 3,
   "metadata": {
    "collapsed": true
   },
   "outputs": [],
   "source": [
    "iso = 'PER'\n",
    "adm1 = None\n",
    "adm2 = None"
   ]
  },
  {
   "cell_type": "code",
   "execution_count": 4,
   "metadata": {},
   "outputs": [
    {
     "name": "stdout",
     "output_type": "stream",
     "text": [
      "CPU times: user 3.78 ms, sys: 1.73 ms, total: 5.51 ms\n",
      "Wall time: 6.5 ms\n"
     ]
    }
   ],
   "source": [
    "%%time\n",
    "#Just return all data for period aggregated by keyword (day/week/year)\n",
    "url = f'https://production-api.globalforestwatch.org/glad-alerts/admin/{iso}?aggregate_values=true&aggregate_by=day'\n",
    "\n",
    "r = requests.get(url)\n",
    "r.url"
   ]
  },
  {
   "cell_type": "code",
   "execution_count": 5,
   "metadata": {},
   "outputs": [
    {
     "data": {
      "text/html": [
       "<div>\n",
       "<style>\n",
       "    .dataframe thead tr:only-child th {\n",
       "        text-align: right;\n",
       "    }\n",
       "\n",
       "    .dataframe thead th {\n",
       "        text-align: left;\n",
       "    }\n",
       "\n",
       "    .dataframe tbody tr th {\n",
       "        vertical-align: top;\n",
       "    }\n",
       "</style>\n",
       "<table border=\"1\" class=\"dataframe\">\n",
       "  <thead>\n",
       "    <tr style=\"text-align: right;\">\n",
       "      <th></th>\n",
       "      <th>year</th>\n",
       "      <th>month</th>\n",
       "      <th>week</th>\n",
       "      <th>count</th>\n",
       "      <th>julian_day</th>\n",
       "    </tr>\n",
       "  </thead>\n",
       "  <tbody>\n",
       "    <tr>\n",
       "      <th>0</th>\n",
       "      <td>2015</td>\n",
       "      <td>None</td>\n",
       "      <td>None</td>\n",
       "      <td>8</td>\n",
       "      <td>1</td>\n",
       "    </tr>\n",
       "    <tr>\n",
       "      <th>1</th>\n",
       "      <td>2015</td>\n",
       "      <td>None</td>\n",
       "      <td>None</td>\n",
       "      <td>43</td>\n",
       "      <td>2</td>\n",
       "    </tr>\n",
       "    <tr>\n",
       "      <th>2</th>\n",
       "      <td>2015</td>\n",
       "      <td>None</td>\n",
       "      <td>None</td>\n",
       "      <td>2</td>\n",
       "      <td>8</td>\n",
       "    </tr>\n",
       "    <tr>\n",
       "      <th>3</th>\n",
       "      <td>2015</td>\n",
       "      <td>None</td>\n",
       "      <td>None</td>\n",
       "      <td>29</td>\n",
       "      <td>9</td>\n",
       "    </tr>\n",
       "    <tr>\n",
       "      <th>4</th>\n",
       "      <td>2015</td>\n",
       "      <td>None</td>\n",
       "      <td>None</td>\n",
       "      <td>105</td>\n",
       "      <td>10</td>\n",
       "    </tr>\n",
       "  </tbody>\n",
       "</table>\n",
       "</div>"
      ],
      "text/plain": [
       "   year month  week  count  julian_day\n",
       "0  2015  None  None      8           1\n",
       "1  2015  None  None     43           2\n",
       "2  2015  None  None      2           8\n",
       "3  2015  None  None     29           9\n",
       "4  2015  None  None    105          10"
      ]
     },
     "execution_count": 5,
     "metadata": {},
     "output_type": "execute_result"
    }
   ],
   "source": [
    "\n",
    "retuned_values = r.json().get('data',None).get('attributes', None).get('value', None)\n",
    "\n",
    "tmp_list = []\n",
    "for row in retuned_values:\n",
    "    tmp_list.append([row.get('year', None),\n",
    "                     row.get('month', None),\n",
    "                     row.get('week', None),\n",
    "                     row.get('count', None),\n",
    "                     row.get('julian_day', None)])\n",
    "df = pd.DataFrame(tmp_list, columns=['year','month','week','count','julian_day'])\n",
    "df.head()"
   ]
  },
  {
   "cell_type": "code",
   "execution_count": 6,
   "metadata": {},
   "outputs": [
    {
     "data": {
      "text/plain": [
       "<matplotlib.axes._subplots.AxesSubplot at 0x112ab44a8>"
      ]
     },
     "execution_count": 6,
     "metadata": {},
     "output_type": "execute_result"
    },
    {
     "data": {
      "image/png": "[encoded data removed]",
      "text/plain": [
       "<matplotlib.figure.Figure at 0x116230978>"
      ]
     },
     "metadata": {},
     "output_type": "display_data"
    }
   ],
   "source": [
    "### Sorts by year, then month etc etc\n",
    "df.sort_values(['year','month', 'week','julian_day'])['count'].plot()"
   ]
  },
  {
   "cell_type": "code",
   "execution_count": 7,
   "metadata": {},
   "outputs": [
    {
     "data": {
      "text/plain": [
       "956"
      ]
     },
     "execution_count": 7,
     "metadata": {},
     "output_type": "execute_result"
    }
   ],
   "source": [
    "len(df)"
   ]
  },
  {
   "cell_type": "code",
   "execution_count": 8,
   "metadata": {},
   "outputs": [
    {
     "data": {
      "text/plain": [
       "{'alert_date': '2015-01-01', 'count': 8, 'julian_day': 1, 'year': 2015}"
      ]
     },
     "execution_count": 8,
     "metadata": {},
     "output_type": "execute_result"
    }
   ],
   "source": [
    "retuned_values[0]"
   ]
  },
  {
   "cell_type": "markdown",
   "metadata": {},
   "source": [
    "# Functions"
   ]
  },
  {
   "cell_type": "code",
   "execution_count": 9,
   "metadata": {},
   "outputs": [],
   "source": [
    "def glads_queries(iso, adm1=None, adm2=None, period='day'):\n",
    "\n",
    "    if period in ['day','week','month']:\n",
    "        \n",
    "        if adm2:\n",
    "            print(f'Requesting adm2 alerts aggregated by {period}')\n",
    "            url = f'https://production-api.globalforestwatch.org/glad-alerts/admin/{iso}/{adm1}/{adm2}?aggregate_values=true&aggregate_by={period}'\n",
    "        elif adm1:\n",
    "            print(f'Requesting adm1 alerts aggregated by {period}')\n",
    "            url = f'https://production-api.globalforestwatch.org/glad-alerts/admin/{iso}/{adm1}?aggregate_values=true&aggregate_by={period}'\n",
    "        elif iso:\n",
    "            print(f'Requesting adm0 alerts aggregated by {period}')\n",
    "            url = f'https://production-api.globalforestwatch.org/glad-alerts/admin/{iso}?aggregate_values=true&aggregate_by={period}'\n",
    "    \n",
    "        r = requests.get(url)\n",
    "        print(r.url)\n",
    "\n",
    "        return r.json().get('data',None).get('attributes', None).get('value', None)\n",
    "    \n",
    "    else:\n",
    "        print(\"Unable to handle request\")"
   ]
  },
  {
   "cell_type": "code",
   "execution_count": 135,
   "metadata": {
    "collapsed": true
   },
   "outputs": [],
   "source": [
    "def create_df(alert_data):\n",
    "    \n",
    "    tmp_list = []\n",
    "    for row in retuned_values:\n",
    "        tmp_list.append([row.get('year', None),\n",
    "                         row.get('month', None),\n",
    "                         row.get('week', None),\n",
    "                         row.get('count', None),\n",
    "                         row.get('julian_day', None)])\n",
    "    df = pd.DataFrame(tmp_list, columns=['year','month','week','count','julian_day'])\n",
    "    \n",
    "    return df"
   ]
  },
  {
   "cell_type": "code",
   "execution_count": 136,
   "metadata": {
    "collapsed": true
   },
   "outputs": [],
   "source": [
    "def plot_df(df):\n",
    "    \n",
    "     return df.sort_values(['year','month', 'week','julian_day'])['count'].plot()"
   ]
  },
  {
   "cell_type": "code",
   "execution_count": 137,
   "metadata": {
    "collapsed": true
   },
   "outputs": [],
   "source": [
    "def get_start_date(df):\n",
    "    \n",
    "    last_index = len(df) - 1\n",
    "    julian_day = str(df.at[last_index,'julian_day'])\n",
    "    current_year = str(df.at[last_index,'year'])\n",
    "    \n",
    "\n",
    "    date = datetime.datetime.strptime(current_year + julian_day, '%Y%j').date()\n",
    "    return date.strftime('%Y-%m-%d')"
   ]
  },
  {
   "cell_type": "code",
   "execution_count": 138,
   "metadata": {},
   "outputs": [
    {
     "name": "stdout",
     "output_type": "stream",
     "text": [
      "Requesting adm0 alerts aggregated by day\n",
      "https://production-api.globalforestwatch.org/glad-alerts/admin/PER?aggregate_values=true&aggregate_by=day\n"
     ]
    }
   ],
   "source": [
    "data = glads_queries(iso=iso, adm1=adm1, adm2=adm2, period='day')"
   ]
  },
  {
   "cell_type": "code",
   "execution_count": 141,
   "metadata": {
    "collapsed": true
   },
   "outputs": [],
   "source": [
    "df = create_df(data)"
   ]
  },
  {
   "cell_type": "code",
   "execution_count": 142,
   "metadata": {},
   "outputs": [
    {
     "data": {
      "text/html": [
       "<div>\n",
       "<style>\n",
       "    .dataframe thead tr:only-child th {\n",
       "        text-align: right;\n",
       "    }\n",
       "\n",
       "    .dataframe thead th {\n",
       "        text-align: left;\n",
       "    }\n",
       "\n",
       "    .dataframe tbody tr th {\n",
       "        vertical-align: top;\n",
       "    }\n",
       "</style>\n",
       "<table border=\"1\" class=\"dataframe\">\n",
       "  <thead>\n",
       "    <tr style=\"text-align: right;\">\n",
       "      <th></th>\n",
       "      <th>year</th>\n",
       "      <th>month</th>\n",
       "      <th>week</th>\n",
       "      <th>count</th>\n",
       "      <th>julian_day</th>\n",
       "    </tr>\n",
       "  </thead>\n",
       "  <tbody>\n",
       "    <tr>\n",
       "      <th>0</th>\n",
       "      <td>2015</td>\n",
       "      <td>None</td>\n",
       "      <td>None</td>\n",
       "      <td>8</td>\n",
       "      <td>1</td>\n",
       "    </tr>\n",
       "    <tr>\n",
       "      <th>1</th>\n",
       "      <td>2015</td>\n",
       "      <td>None</td>\n",
       "      <td>None</td>\n",
       "      <td>43</td>\n",
       "      <td>2</td>\n",
       "    </tr>\n",
       "    <tr>\n",
       "      <th>2</th>\n",
       "      <td>2015</td>\n",
       "      <td>None</td>\n",
       "      <td>None</td>\n",
       "      <td>2</td>\n",
       "      <td>8</td>\n",
       "    </tr>\n",
       "    <tr>\n",
       "      <th>3</th>\n",
       "      <td>2015</td>\n",
       "      <td>None</td>\n",
       "      <td>None</td>\n",
       "      <td>29</td>\n",
       "      <td>9</td>\n",
       "    </tr>\n",
       "    <tr>\n",
       "      <th>4</th>\n",
       "      <td>2015</td>\n",
       "      <td>None</td>\n",
       "      <td>None</td>\n",
       "      <td>105</td>\n",
       "      <td>10</td>\n",
       "    </tr>\n",
       "  </tbody>\n",
       "</table>\n",
       "</div>"
      ],
      "text/plain": [
       "   year month  week  count  julian_day\n",
       "0  2015  None  None      8           1\n",
       "1  2015  None  None     43           2\n",
       "2  2015  None  None      2           8\n",
       "3  2015  None  None     29           9\n",
       "4  2015  None  None    105          10"
      ]
     },
     "execution_count": 142,
     "metadata": {},
     "output_type": "execute_result"
    }
   ],
   "source": [
    "df.head()"
   ]
  },
  {
   "cell_type": "code",
   "execution_count": 143,
   "metadata": {},
   "outputs": [
    {
     "data": {
      "text/plain": [
       "<matplotlib.axes._subplots.AxesSubplot at 0x117c5d630>"
      ]
     },
     "execution_count": 143,
     "metadata": {},
     "output_type": "execute_result"
    },
    {
     "data": {
      "image/png": "[encoded data removed]",
      "text/plain": [
       "<matplotlib.figure.Figure at 0x117fe1e80>"
      ]
     },
     "metadata": {},
     "output_type": "display_data"
    }
   ],
   "source": [
    "plot_df(df)"
   ]
  },
  {
   "cell_type": "code",
   "execution_count": 50,
   "metadata": {},
   "outputs": [
    {
     "data": {
      "text/plain": [
       "'2017-12-25'"
      ]
     },
     "execution_count": 50,
     "metadata": {},
     "output_type": "execute_result"
    }
   ],
   "source": [
    "get_start_date(df)"
   ]
  },
  {
   "cell_type": "code",
   "execution_count": null,
   "metadata": {
    "collapsed": true
   },
   "outputs": [],
   "source": [
    "def get_glads_stats(df, time_frame='1w', window=7):\n",
    "    \n",
    "    if time_frame == '1w':\n",
    "        dt = timedelta(days=7)\n",
    "        period = 'day'\n",
    "    elif time_frame == '3w':\n",
    "        dt == timedelta(days=21)\n",
    "        period = 'day'\n",
    "    \n",
    "    last_index = len(df) - 1\n",
    "    \n",
    "    "
   ]
  },
  {
   "cell_type": "code",
   "execution_count": 53,
   "metadata": {},
   "outputs": [
    {
     "data": {
      "text/plain": [
       "955"
      ]
     },
     "execution_count": 53,
     "metadata": {},
     "output_type": "execute_result"
    }
   ],
   "source": [
    "last_index = len(df) - 1\n",
    "last_index"
   ]
  },
  {
   "cell_type": "code",
   "execution_count": 58,
   "metadata": {},
   "outputs": [],
   "source": [
    "start_day = df.at[last_index,'julian_day']"
   ]
  },
  {
   "cell_type": "code",
   "execution_count": 159,
   "metadata": {},
   "outputs": [
    {
     "data": {
      "text/plain": [
       "359"
      ]
     },
     "execution_count": 159,
     "metadata": {},
     "output_type": "execute_result"
    }
   ],
   "source": [
    "start_day"
   ]
  },
  {
   "cell_type": "code",
   "execution_count": 161,
   "metadata": {},
   "outputs": [
    {
     "data": {
      "text/html": [
       "<div>\n",
       "<style>\n",
       "    .dataframe thead tr:only-child th {\n",
       "        text-align: right;\n",
       "    }\n",
       "\n",
       "    .dataframe thead th {\n",
       "        text-align: left;\n",
       "    }\n",
       "\n",
       "    .dataframe tbody tr th {\n",
       "        vertical-align: top;\n",
       "    }\n",
       "</style>\n",
       "<table border=\"1\" class=\"dataframe\">\n",
       "  <thead>\n",
       "    <tr style=\"text-align: right;\">\n",
       "      <th></th>\n",
       "      <th>year</th>\n",
       "      <th>month</th>\n",
       "      <th>week</th>\n",
       "      <th>count</th>\n",
       "      <th>julian_day</th>\n",
       "    </tr>\n",
       "  </thead>\n",
       "  <tbody>\n",
       "    <tr>\n",
       "      <th>289</th>\n",
       "      <td>2015</td>\n",
       "      <td>None</td>\n",
       "      <td>None</td>\n",
       "      <td>20</td>\n",
       "      <td>354</td>\n",
       "    </tr>\n",
       "    <tr>\n",
       "      <th>290</th>\n",
       "      <td>2015</td>\n",
       "      <td>None</td>\n",
       "      <td>None</td>\n",
       "      <td>197</td>\n",
       "      <td>356</td>\n",
       "    </tr>\n",
       "    <tr>\n",
       "      <th>291</th>\n",
       "      <td>2015</td>\n",
       "      <td>None</td>\n",
       "      <td>None</td>\n",
       "      <td>4</td>\n",
       "      <td>360</td>\n",
       "    </tr>\n",
       "    <tr>\n",
       "      <th>292</th>\n",
       "      <td>2015</td>\n",
       "      <td>None</td>\n",
       "      <td>None</td>\n",
       "      <td>187</td>\n",
       "      <td>362</td>\n",
       "    </tr>\n",
       "    <tr>\n",
       "      <th>293</th>\n",
       "      <td>2015</td>\n",
       "      <td>None</td>\n",
       "      <td>None</td>\n",
       "      <td>64</td>\n",
       "      <td>363</td>\n",
       "    </tr>\n",
       "    <tr>\n",
       "      <th>294</th>\n",
       "      <td>2015</td>\n",
       "      <td>None</td>\n",
       "      <td>None</td>\n",
       "      <td>375</td>\n",
       "      <td>364</td>\n",
       "    </tr>\n",
       "    <tr>\n",
       "      <th>608</th>\n",
       "      <td>2016</td>\n",
       "      <td>None</td>\n",
       "      <td>None</td>\n",
       "      <td>17</td>\n",
       "      <td>352</td>\n",
       "    </tr>\n",
       "    <tr>\n",
       "      <th>609</th>\n",
       "      <td>2016</td>\n",
       "      <td>None</td>\n",
       "      <td>None</td>\n",
       "      <td>510</td>\n",
       "      <td>353</td>\n",
       "    </tr>\n",
       "    <tr>\n",
       "      <th>610</th>\n",
       "      <td>2016</td>\n",
       "      <td>None</td>\n",
       "      <td>None</td>\n",
       "      <td>23</td>\n",
       "      <td>354</td>\n",
       "    </tr>\n",
       "    <tr>\n",
       "      <th>611</th>\n",
       "      <td>2016</td>\n",
       "      <td>None</td>\n",
       "      <td>None</td>\n",
       "      <td>5</td>\n",
       "      <td>355</td>\n",
       "    </tr>\n",
       "    <tr>\n",
       "      <th>612</th>\n",
       "      <td>2016</td>\n",
       "      <td>None</td>\n",
       "      <td>None</td>\n",
       "      <td>2</td>\n",
       "      <td>356</td>\n",
       "    </tr>\n",
       "    <tr>\n",
       "      <th>613</th>\n",
       "      <td>2016</td>\n",
       "      <td>None</td>\n",
       "      <td>None</td>\n",
       "      <td>251</td>\n",
       "      <td>357</td>\n",
       "    </tr>\n",
       "    <tr>\n",
       "      <th>614</th>\n",
       "      <td>2016</td>\n",
       "      <td>None</td>\n",
       "      <td>None</td>\n",
       "      <td>119</td>\n",
       "      <td>358</td>\n",
       "    </tr>\n",
       "    <tr>\n",
       "      <th>615</th>\n",
       "      <td>2016</td>\n",
       "      <td>None</td>\n",
       "      <td>None</td>\n",
       "      <td>1070</td>\n",
       "      <td>359</td>\n",
       "    </tr>\n",
       "    <tr>\n",
       "      <th>616</th>\n",
       "      <td>2016</td>\n",
       "      <td>None</td>\n",
       "      <td>None</td>\n",
       "      <td>3272</td>\n",
       "      <td>360</td>\n",
       "    </tr>\n",
       "    <tr>\n",
       "      <th>617</th>\n",
       "      <td>2016</td>\n",
       "      <td>None</td>\n",
       "      <td>None</td>\n",
       "      <td>446</td>\n",
       "      <td>361</td>\n",
       "    </tr>\n",
       "    <tr>\n",
       "      <th>618</th>\n",
       "      <td>2016</td>\n",
       "      <td>None</td>\n",
       "      <td>None</td>\n",
       "      <td>151</td>\n",
       "      <td>362</td>\n",
       "    </tr>\n",
       "    <tr>\n",
       "      <th>619</th>\n",
       "      <td>2016</td>\n",
       "      <td>None</td>\n",
       "      <td>None</td>\n",
       "      <td>2</td>\n",
       "      <td>364</td>\n",
       "    </tr>\n",
       "    <tr>\n",
       "      <th>948</th>\n",
       "      <td>2017</td>\n",
       "      <td>None</td>\n",
       "      <td>None</td>\n",
       "      <td>1703</td>\n",
       "      <td>352</td>\n",
       "    </tr>\n",
       "    <tr>\n",
       "      <th>949</th>\n",
       "      <td>2017</td>\n",
       "      <td>None</td>\n",
       "      <td>None</td>\n",
       "      <td>3</td>\n",
       "      <td>353</td>\n",
       "    </tr>\n",
       "    <tr>\n",
       "      <th>950</th>\n",
       "      <td>2017</td>\n",
       "      <td>None</td>\n",
       "      <td>None</td>\n",
       "      <td>407</td>\n",
       "      <td>354</td>\n",
       "    </tr>\n",
       "    <tr>\n",
       "      <th>951</th>\n",
       "      <td>2017</td>\n",
       "      <td>None</td>\n",
       "      <td>None</td>\n",
       "      <td>1495</td>\n",
       "      <td>355</td>\n",
       "    </tr>\n",
       "    <tr>\n",
       "      <th>952</th>\n",
       "      <td>2017</td>\n",
       "      <td>None</td>\n",
       "      <td>None</td>\n",
       "      <td>138</td>\n",
       "      <td>356</td>\n",
       "    </tr>\n",
       "    <tr>\n",
       "      <th>953</th>\n",
       "      <td>2017</td>\n",
       "      <td>None</td>\n",
       "      <td>None</td>\n",
       "      <td>36</td>\n",
       "      <td>357</td>\n",
       "    </tr>\n",
       "    <tr>\n",
       "      <th>954</th>\n",
       "      <td>2017</td>\n",
       "      <td>None</td>\n",
       "      <td>None</td>\n",
       "      <td>40</td>\n",
       "      <td>358</td>\n",
       "    </tr>\n",
       "    <tr>\n",
       "      <th>955</th>\n",
       "      <td>2017</td>\n",
       "      <td>None</td>\n",
       "      <td>None</td>\n",
       "      <td>1245</td>\n",
       "      <td>359</td>\n",
       "    </tr>\n",
       "  </tbody>\n",
       "</table>\n",
       "</div>"
      ],
      "text/plain": [
       "     year month  week  count  julian_day\n",
       "289  2015  None  None     20         354\n",
       "290  2015  None  None    197         356\n",
       "291  2015  None  None      4         360\n",
       "292  2015  None  None    187         362\n",
       "293  2015  None  None     64         363\n",
       "294  2015  None  None    375         364\n",
       "608  2016  None  None     17         352\n",
       "609  2016  None  None    510         353\n",
       "610  2016  None  None     23         354\n",
       "611  2016  None  None      5         355\n",
       "612  2016  None  None      2         356\n",
       "613  2016  None  None    251         357\n",
       "614  2016  None  None    119         358\n",
       "615  2016  None  None   1070         359\n",
       "616  2016  None  None   3272         360\n",
       "617  2016  None  None    446         361\n",
       "618  2016  None  None    151         362\n",
       "619  2016  None  None      2         364\n",
       "948  2017  None  None   1703         352\n",
       "949  2017  None  None      3         353\n",
       "950  2017  None  None    407         354\n",
       "951  2017  None  None   1495         355\n",
       "952  2017  None  None    138         356\n",
       "953  2017  None  None     36         357\n",
       "954  2017  None  None     40         358\n",
       "955  2017  None  None   1245         359"
      ]
     },
     "execution_count": 161,
     "metadata": {},
     "output_type": "execute_result"
    }
   ],
   "source": [
    "# Get same day from previous years +/- 'window'\n",
    "\n",
    "window = 7\n",
    "\n",
    "tmp = df[df['julian_day'].between(start_day-window, start_day+window, inclusive=True)]\n",
    "tmp\n",
    "\n",
    "### NOTE: does not yet handle wrapping across year dates (ie. jd: 364, 365, 1, 2 etc)"
   ]
  },
  {
   "cell_type": "code",
   "execution_count": 178,
   "metadata": {},
   "outputs": [],
   "source": [
    "mean = np.mean(tmp['count'])"
   ]
  },
  {
   "cell_type": "code",
   "execution_count": 174,
   "metadata": {},
   "outputs": [
    {
     "data": {
      "text/plain": [
       "453.15384615384613"
      ]
     },
     "execution_count": 174,
     "metadata": {},
     "output_type": "execute_result"
    }
   ],
   "source": [
    "mean"
   ]
  },
  {
   "cell_type": "code",
   "execution_count": 170,
   "metadata": {},
   "outputs": [
    {
     "data": {
      "text/plain": [
       "9"
      ]
     },
     "execution_count": 170,
     "metadata": {},
     "output_type": "execute_result"
    }
   ],
   "source": [
    "5*window - len(tmp)"
   ]
  },
  {
   "cell_type": "code",
   "execution_count": 169,
   "metadata": {},
   "outputs": [
    {
     "data": {
      "text/plain": [
       "26"
      ]
     },
     "execution_count": 169,
     "metadata": {},
     "output_type": "execute_result"
    }
   ],
   "source": []
  },
  {
   "cell_type": "markdown",
   "metadata": {},
   "source": [
    "### Daily/Weekly/Monthly Alerts \n",
    "\n",
    "We should get Alerts over several time periods are a range of different temporal resolutions.\n",
    "We need to calculate:\n",
    "\n",
    "1. Last date in the returned data (and convert it to a real date)\n",
    "1. depending on a variable time selection (e.g. past week, past 3 weeks, past 3 months, past 6 months) select back in time (including a leading period to use as a smooth)\n",
    "1. select the same time window for all previous years, and composite/stack the time together\n",
    "1. create a boxcar smooth mean to use as the center of the certainty range\n",
    "1. calculate a single standard deviation for the whole period (which should be the average standard deviation of all the individual time-point standard deviations)\n",
    "1. test plot, floor the sigma range at 0"
   ]
  },
  {
   "cell_type": "code",
   "execution_count": null,
   "metadata": {},
   "outputs": [],
   "source": []
  },
  {
   "cell_type": "code",
   "execution_count": null,
   "metadata": {
    "collapsed": true
   },
   "outputs": [],
   "source": []
  }
 ],
 "metadata": {
  "kernelspec": {
   "display_name": "Python 3",
   "language": "python",
   "name": "python3"
  },
  "language_info": {
   "codemirror_mode": {
    "name": "ipython",
    "version": 3
   },
   "file_extension": ".py",
   "mimetype": "text/x-python",
   "name": "python",
   "nbconvert_exporter": "python",
   "pygments_lexer": "ipython3",
   "version": "3.6.2"
  }
 },
 "nbformat": 4,
 "nbformat_minor": 2
}
