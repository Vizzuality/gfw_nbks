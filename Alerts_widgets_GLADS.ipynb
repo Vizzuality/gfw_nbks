{
 "cells": [
  {
   "cell_type": "markdown",
   "metadata": {},
   "source": [
    "# GLAD Alert widgets"
   ]
  },
  {
   "cell_type": "code",
   "execution_count": 7,
   "metadata": {
    "collapsed": true
   },
   "outputs": [],
   "source": [
    "#Import Global Metadata etc\n",
    "\n",
    "%run '0.Importable_Globals.ipynb'"
   ]
  },
  {
   "cell_type": "code",
   "execution_count": null,
   "metadata": {
    "collapsed": true
   },
   "outputs": [],
   "source": [
    "from datetime import date"
   ]
  },
  {
   "cell_type": "code",
   "execution_count": 176,
   "metadata": {
    "collapsed": true
   },
   "outputs": [],
   "source": [
    "from datetime import timedelta"
   ]
  },
  {
   "cell_type": "code",
   "execution_count": null,
   "metadata": {
    "collapsed": true
   },
   "outputs": [],
   "source": [
    "import math"
   ]
  },
  {
   "cell_type": "markdown",
   "metadata": {},
   "source": [
    "ADM0 REQUEST:\n",
    "\n",
    "https://production-api.globalforestwatch.org/v1/glad-alerts/admin/COD?period=2017-01-20%2C2017-12-26&thresh=30&_=1516027383380\n",
    "    \n",
    "ADM1 REQUEST:\n",
    "\n",
    "https://production-api.globalforestwatch.org/v1/glad-alerts/admin/COD/4?period=2017-01-20%2C2017-12-26&thresh=30&_=1516027383381\n",
    "    \n",
    "CUSTOM SHAPE REQUEST:  \n",
    "https://production-api.globalforestwatch.org/v1/glad-alerts?geostore=40c6e39d84c6fb3c5e3781cc69fe7444&period=2017-10-01%2C2017-12-26&thresh=30&_=1516027383379\n"
   ]
  },
  {
   "cell_type": "markdown",
   "metadata": {},
   "source": [
    "### REQUEST\n",
    "\n",
    "base url: ```https://production-api.globalforestwatch.org/v1/glad-alerts/admin```\n",
    "\n",
    "iso: ```/{ISO}``` (iso3)\n",
    "\n",
    "adm1: ```/{adm1}``` (numerical)\n",
    "\n",
    "query: ```?```\n",
    "\n",
    "dates: ```period={start},{end}``` (YYYY-MM-DD)\n",
    "\n",
    "thresh: ```thresh={threshold}```\n"
   ]
  },
  {
   "cell_type": "markdown",
   "metadata": {},
   "source": [
    "### RESPONSE\n",
    "\n",
    "```JSON\n",
    "{\n",
    "    \"data\": {\n",
    "        \"attributes\": {\n",
    "        \"areaHa\": 234363285.93553916,\n",
    "        \"downloadUrls\": {\n",
    "            \"csv\": \"...\",\n",
    "            \"json\": \"...\"\n",
    "            },\n",
    "        \"value\": 2126428\n",
    "        },\n",
    "\n",
    "    \"id\": \"db34c2d9-77b8-43ee-b101-f499e39d1597\",\n",
    "    \"period\": \"2017-01-20,2017-12-26\",\n",
    "    \"type\": \"glad-alerts\"\n",
    "        }\n",
    "}\n",
    "```\n",
    "\n",
    "So we have the following variables:\n",
    "\n",
    "- data.areaHa (area in ha)\n",
    "- data.value (no of alerts in the period)\n",
    "- period (start- and end- dates)"
   ]
  },
  {
   "cell_type": "code",
   "execution_count": null,
   "metadata": {
    "collapsed": true
   },
   "outputs": [],
   "source": [
    "ds = 'db34c2d9-77b8-43ee-b101-f499e39d1597'"
   ]
  },
  {
   "cell_type": "code",
   "execution_count": 20,
   "metadata": {},
   "outputs": [],
   "source": [
    "iso = 'BRA'\n",
    "adm1 = None\n",
    "adm2 = None\n",
    "start_date = '2017-01-20'\n",
    "end_date = '2017-12-26'\n",
    "threshold = 30"
   ]
  },
  {
   "cell_type": "code",
   "execution_count": 23,
   "metadata": {},
   "outputs": [
    {
     "name": "stdout",
     "output_type": "stream",
     "text": [
      "https://production-api.globalforestwatch.org/v1/glad-alerts/admin/COD?period=2017-01-20%2C2017-12-26&thresh=30\n",
      "Status: 200\n",
      "{'data': {'attributes': {'areaHa': 234363285.93553916,\n",
      "                         'downloadUrls': {'csv': '/download/db34c2d9-77b8-43ee-b101-f499e39d1597?sql=SELECT '\n",
      "                                                 'lat, long, confidence_text, '\n",
      "                                                 'country_iso, state_id, '\n",
      "                                                 'dist_id, year, julian_day '\n",
      "                                                 'FROM '\n",
      "                                                 'index_db34c2d977b843eeb101f499e39d1597 '\n",
      "                                                 'WHERE ((year = 2017 and '\n",
      "                                                 'julian_day >= 20 and '\n",
      "                                                 'julian_day <= 360)) AND '\n",
      "                                                 \"(country_iso = 'COD')ORDER \"\n",
      "                                                 'BY year, '\n",
      "                                                 'julian_day&format=csv',\n",
      "                                          'json': '/download/db34c2d9-77b8-43ee-b101-f499e39d1597?sql=SELECT '\n",
      "                                                  'lat, long, confidence_text, '\n",
      "                                                  'country_iso, state_id, '\n",
      "                                                  'dist_id, year, julian_day '\n",
      "                                                  'FROM '\n",
      "                                                  'index_db34c2d977b843eeb101f499e39d1597 '\n",
      "                                                  'WHERE ((year = 2017 and '\n",
      "                                                  'julian_day >= 20 and '\n",
      "                                                  'julian_day <= 360)) AND '\n",
      "                                                  \"(country_iso = 'COD')ORDER \"\n",
      "                                                  'BY year, '\n",
      "                                                  'julian_day&format=json'},\n",
      "                         'value': 2126428},\n",
      "          'id': 'db34c2d9-77b8-43ee-b101-f499e39d1597',\n",
      "          'period': '2017-01-20,2017-12-26',\n",
      "          'type': 'glad-alerts'}}\n"
     ]
    }
   ],
   "source": [
    "# Example of adm0 request\n",
    "url = f\"https://production-api.globalforestwatch.org/v1/glad-alerts/admin/{iso}\"\n",
    "properties = {\"period\" : start_date + ',' + end_date,\n",
    "              \"thresh\" : threshold}\n",
    "r = requests.get(url, params = properties)\n",
    "\n",
    "print(r.url)\n",
    "print(f'Status: {r.status_code}')\n",
    "\n",
    "data = r.json()\n",
    "\n",
    "pprint(data)"
   ]
  },
  {
   "cell_type": "code",
   "execution_count": 24,
   "metadata": {},
   "outputs": [
    {
     "name": "stdout",
     "output_type": "stream",
     "text": [
      "https://production-api.globalforestwatch.org/v1/glad-alerts/admin/COD/4?period=2017-01-20%2C2017-12-26&thresh=30\n",
      "Status: 200\n",
      "{'data': {'attributes': {'areaHa': 15404641.517521454,\n",
      "                         'downloadUrls': {'csv': '/download/db34c2d9-77b8-43ee-b101-f499e39d1597?sql=SELECT '\n",
      "                                                 'lat, long, confidence_text, '\n",
      "                                                 'country_iso, state_id, '\n",
      "                                                 'dist_id, year, julian_day '\n",
      "                                                 'FROM '\n",
      "                                                 'index_db34c2d977b843eeb101f499e39d1597 '\n",
      "                                                 'WHERE ((year = 2017 and '\n",
      "                                                 'julian_day >= 20 and '\n",
      "                                                 'julian_day <= 360)) AND '\n",
      "                                                 \"(country_iso = 'COD') AND \"\n",
      "                                                 '(state_id = 4)ORDER BY year, '\n",
      "                                                 'julian_day&format=csv',\n",
      "                                          'json': '/download/db34c2d9-77b8-43ee-b101-f499e39d1597?sql=SELECT '\n",
      "                                                  'lat, long, confidence_text, '\n",
      "                                                  'country_iso, state_id, '\n",
      "                                                  'dist_id, year, julian_day '\n",
      "                                                  'FROM '\n",
      "                                                  'index_db34c2d977b843eeb101f499e39d1597 '\n",
      "                                                  'WHERE ((year = 2017 and '\n",
      "                                                  'julian_day >= 20 and '\n",
      "                                                  'julian_day <= 360)) AND '\n",
      "                                                  \"(country_iso = 'COD') AND \"\n",
      "                                                  '(state_id = 4)ORDER BY '\n",
      "                                                  'year, '\n",
      "                                                  'julian_day&format=json'},\n",
      "                         'value': 237354},\n",
      "          'id': 'db34c2d9-77b8-43ee-b101-f499e39d1597',\n",
      "          'period': '2017-01-20,2017-12-26',\n",
      "          'type': 'glad-alerts'}}\n"
     ]
    }
   ],
   "source": [
    "# Example of adm1 request\n",
    "url = f\"https://production-api.globalforestwatch.org/v1/glad-alerts/admin/{iso}/{adm1}\"\n",
    "properties = {\"period\" : start_date + ',' + end_date,\n",
    "              \"thresh\" : threshold}\n",
    "r = requests.get(url, params = properties)\n",
    "\n",
    "print(r.url)\n",
    "print(f'Status: {r.status_code}')\n",
    "\n",
    "data = r.json()\n",
    "\n",
    "pprint(data)"
   ]
  },
  {
   "cell_type": "code",
   "execution_count": 657,
   "metadata": {},
   "outputs": [],
   "source": [
    "def get_glads(start_date, end_date, iso, adm1=None, threshold=30):\n",
    "   \n",
    "    if adm1:\n",
    "#         print('Request for adm1 area')\n",
    "        url = f\"https://production-api.globalforestwatch.org/v1/glad-alerts/admin/{iso}/{adm1}\" \n",
    "    else:\n",
    "#         print('Request for adm0 area')\n",
    "        url = f\"https://production-api.globalforestwatch.org/v1/glad-alerts/admin/{iso}\" \n",
    "        \n",
    "    properties = {\"period\" : start_date + ',' + end_date, \"thresh\" : threshold}\n",
    "    r = requests.get(url, params = properties)\n",
    "    \n",
    "    data = r.json().get('data')\n",
    "#     pprint(data)\n",
    "    \n",
    "    return {\n",
    "            'areaHa': data.get('attributes').get('areaHa'),\n",
    "            'count': data.get('attributes').get('value')\n",
    "    }"
   ]
  },
  {
   "cell_type": "code",
   "execution_count": 658,
   "metadata": {
    "collapsed": true
   },
   "outputs": [],
   "source": [
    "iso = 'BRA'\n",
    "adm1 = None\n",
    "start_date = '2017-01-20'\n",
    "end_date = '2017-12-26'\n",
    "threshold = 30"
   ]
  },
  {
   "cell_type": "code",
   "execution_count": 659,
   "metadata": {},
   "outputs": [],
   "source": [
    "data = get_glads(start_date=start_date, end_date=end_date, iso=iso, adm1=adm1, threshold=threshold)"
   ]
  },
  {
   "cell_type": "code",
   "execution_count": 660,
   "metadata": {},
   "outputs": [
    {
     "data": {
      "text/plain": [
       "{'areaHa': 855189203.6641197, 'count': 16903694}"
      ]
     },
     "execution_count": 660,
     "metadata": {},
     "output_type": "execute_result"
    }
   ],
   "source": [
    "data"
   ]
  },
  {
   "cell_type": "code",
   "execution_count": 661,
   "metadata": {},
   "outputs": [
    {
     "name": "stdout",
     "output_type": "stream",
     "text": [
      "340\n"
     ]
    }
   ],
   "source": [
    "# No of days elapsed using the 'datetime' library\n",
    "\n",
    "f_date = date(int(start_date[:4]),int(start_date[5:7]), int(start_date[8:10]))\n",
    "l_date = date(int(end_date[:4]),int(end_date[5:7]), int(end_date[8:10]))\n",
    "delta = l_date - f_date\n",
    "\n",
    "days = delta.days\n",
    "print(days)"
   ]
  },
  {
   "cell_type": "markdown",
   "metadata": {},
   "source": [
    "### Dynamic Sentence"
   ]
  },
  {
   "cell_type": "code",
   "execution_count": 662,
   "metadata": {
    "collapsed": true
   },
   "outputs": [],
   "source": [
    "### Between X and Y there have been Z GLADS alerts in ISO/adm1, around (Y-X)/Z per day."
   ]
  },
  {
   "cell_type": "markdown",
   "metadata": {},
   "source": [
    "# Variation Statistics\n",
    "\n",
    "- Number/Area compared to previous year(s)\n",
    "- In the last week/month/year from today\n",
    "    \n",
    "  "
   ]
  },
  {
   "cell_type": "code",
   "execution_count": 663,
   "metadata": {},
   "outputs": [
    {
     "name": "stdout",
     "output_type": "stream",
     "text": [
      "49716.74705882353\n"
     ]
    }
   ],
   "source": [
    "# What is the temporal density of alerts in this period?\n",
    "\n",
    "alerts_per_day = data.get('count')/days\n",
    "print(alerts_per_day)"
   ]
  },
  {
   "cell_type": "code",
   "execution_count": 664,
   "metadata": {},
   "outputs": [
    {
     "data": {
      "text/plain": [
       "'2016-01-20'"
      ]
     },
     "execution_count": 664,
     "metadata": {},
     "output_type": "execute_result"
    }
   ],
   "source": [
    "new_start_date = str(int(start_date[0:4])-1) + '-' + start_date[5:]\n",
    "new_start_date"
   ]
  },
  {
   "cell_type": "code",
   "execution_count": 665,
   "metadata": {},
   "outputs": [
    {
     "data": {
      "text/plain": [
       "'2016-12-26'"
      ]
     },
     "execution_count": 665,
     "metadata": {},
     "output_type": "execute_result"
    }
   ],
   "source": [
    "new_end_date = str(int(end_date[0:4])-1) + '-' + end_date[5:]\n",
    "new_end_date"
   ]
  },
  {
   "cell_type": "code",
   "execution_count": 666,
   "metadata": {},
   "outputs": [],
   "source": [
    "prev_year = get_glads(start_date=new_start_date, end_date=new_end_date, iso=iso, adm1=adm1, threshold=threshold)"
   ]
  },
  {
   "cell_type": "code",
   "execution_count": 667,
   "metadata": {},
   "outputs": [
    {
     "data": {
      "text/plain": [
       "{'areaHa': 855189203.6641197, 'count': 15324384}"
      ]
     },
     "execution_count": 667,
     "metadata": {},
     "output_type": "execute_result"
    }
   ],
   "source": [
    "prev_year"
   ]
  },
  {
   "cell_type": "code",
   "execution_count": 668,
   "metadata": {},
   "outputs": [
    {
     "data": {
      "text/plain": [
       "-4645.029411764706"
      ]
     },
     "execution_count": 668,
     "metadata": {},
     "output_type": "execute_result"
    }
   ],
   "source": [
    "# What is the temporal density of alerts in this period?\n",
    "\n",
    "prev_year.get('count')/days - alerts_per_day"
   ]
  },
  {
   "cell_type": "markdown",
   "metadata": {},
   "source": [
    "# Test\n",
    "\n",
    "We need to precalc weekly stats over the entirety of the temporal data."
   ]
  },
  {
   "cell_type": "code",
   "execution_count": 669,
   "metadata": {
    "collapsed": true
   },
   "outputs": [],
   "source": [
    "test_i = '2015-01-01'"
   ]
  },
  {
   "cell_type": "code",
   "execution_count": 670,
   "metadata": {},
   "outputs": [
    {
     "data": {
      "text/plain": [
       "datetime.datetime(2015, 1, 1, 0, 0)"
      ]
     },
     "execution_count": 670,
     "metadata": {},
     "output_type": "execute_result"
    }
   ],
   "source": [
    "date_1 = datetime.strptime(test_i, \"%Y-%m-%d\")\n",
    "date_1"
   ]
  },
  {
   "cell_type": "code",
   "execution_count": 671,
   "metadata": {},
   "outputs": [
    {
     "data": {
      "text/plain": [
       "datetime.datetime(2015, 1, 8, 0, 0)"
      ]
     },
     "execution_count": 671,
     "metadata": {},
     "output_type": "execute_result"
    }
   ],
   "source": [
    "date_2 = date_1 + timedelta(days=7) \n",
    "date_2"
   ]
  },
  {
   "cell_type": "code",
   "execution_count": 672,
   "metadata": {},
   "outputs": [
    {
     "data": {
      "text/plain": [
       "'2015-01-08'"
      ]
     },
     "execution_count": 672,
     "metadata": {},
     "output_type": "execute_result"
    }
   ],
   "source": [
    "test_f = datetime.isoformat(date_2)[:10]\n",
    "test_f"
   ]
  },
  {
   "cell_type": "code",
   "execution_count": 673,
   "metadata": {},
   "outputs": [],
   "source": [
    "test_data = get_glads(start_date=test_i, end_date=test_f, iso=iso, adm1=adm1, threshold=threshold)"
   ]
  },
  {
   "cell_type": "code",
   "execution_count": 674,
   "metadata": {},
   "outputs": [
    {
     "data": {
      "text/plain": [
       "{'areaHa': 855189203.6641197, 'count': 111839}"
      ]
     },
     "execution_count": 674,
     "metadata": {},
     "output_type": "execute_result"
    }
   ],
   "source": [
    "test_data"
   ]
  },
  {
   "cell_type": "markdown",
   "metadata": {},
   "source": [
    "# Weekly Stats Script\n",
    "\n",
    "We need to precalc weekly stats over the entirety of the temporal data."
   ]
  },
  {
   "cell_type": "code",
   "execution_count": 821,
   "metadata": {
    "collapsed": true
   },
   "outputs": [],
   "source": [
    "iso = 'BRA'\n",
    "adm1 = None\n",
    "week = 145\n",
    "threshold = 0"
   ]
  },
  {
   "cell_type": "code",
   "execution_count": 822,
   "metadata": {},
   "outputs": [],
   "source": [
    "def historic_glads_weekly(iso, adm1=None, threshold=30, start='2015-01-01', end=str(date.today())):\n",
    "    if adm1:\n",
    "        print(f\"Collecting historical GLADS data for {adm1}, {iso} at {threshold}% tree canopy.\")\n",
    "    else:\n",
    "        print(f\"Collecting historical GLADS data for all of {iso} at {threshold}% tree canopy.\")\n",
    "    weekly = []\n",
    "    test_i = start\n",
    "    test_f = start\n",
    "    week = 0\n",
    "    \n",
    "    while test_f < str(date.today()):\n",
    "        \n",
    "        print(f\"{week}) starting {test_i}\")\n",
    "        _tmp_date = datetime.strptime(test_i, \"%Y-%m-%d\") + timedelta(days=7)\n",
    "        test_f = datetime.isoformat(_tmp_date)[:10]\n",
    "        \n",
    "        data = get_glads(start_date=test_i, end_date=test_f, iso=iso, adm1=adm1, threshold=threshold)\n",
    "        \n",
    "        weekly.append(\n",
    "            \n",
    "            {\n",
    "                'week': week,\n",
    "                'start_date': test_i,\n",
    "                'end_date': test_f,\n",
    "                'count': data.get('count')\n",
    "            }\n",
    "        )\n",
    "        \n",
    "        week += 1\n",
    "        test_i = test_f\n",
    "        \n",
    "    return weekly\n",
    "        "
   ]
  },
  {
   "cell_type": "code",
   "execution_count": 860,
   "metadata": {},
   "outputs": [
    {
     "name": "stdout",
     "output_type": "stream",
     "text": [
      "Collecting historical GLADS data for all of BRA at 0% tree canopy.\n",
      "0) starting 2015-01-01\n",
      "1) starting 2015-01-08\n",
      "2) starting 2015-01-15\n",
      "3) starting 2015-01-22\n",
      "4) starting 2015-01-29\n",
      "5) starting 2015-02-05\n",
      "6) starting 2015-02-12\n",
      "7) starting 2015-02-19\n",
      "8) starting 2015-02-26\n",
      "9) starting 2015-03-05\n",
      "10) starting 2015-03-12\n",
      "11) starting 2015-03-19\n",
      "12) starting 2015-03-26\n",
      "13) starting 2015-04-02\n",
      "14) starting 2015-04-09\n",
      "15) starting 2015-04-16\n",
      "16) starting 2015-04-23\n",
      "17) starting 2015-04-30\n",
      "18) starting 2015-05-07\n",
      "19) starting 2015-05-14\n",
      "20) starting 2015-05-21\n",
      "21) starting 2015-05-28\n",
      "22) starting 2015-06-04\n",
      "23) starting 2015-06-11\n",
      "24) starting 2015-06-18\n",
      "25) starting 2015-06-25\n",
      "26) starting 2015-07-02\n",
      "27) starting 2015-07-09\n",
      "28) starting 2015-07-16\n",
      "29) starting 2015-07-23\n",
      "30) starting 2015-07-30\n",
      "31) starting 2015-08-06\n",
      "32) starting 2015-08-13\n",
      "33) starting 2015-08-20\n",
      "34) starting 2015-08-27\n",
      "35) starting 2015-09-03\n",
      "36) starting 2015-09-10\n",
      "37) starting 2015-09-17\n",
      "38) starting 2015-09-24\n",
      "39) starting 2015-10-01\n",
      "40) starting 2015-10-08\n",
      "41) starting 2015-10-15\n",
      "42) starting 2015-10-22\n",
      "43) starting 2015-10-29\n",
      "44) starting 2015-11-05\n",
      "45) starting 2015-11-12\n",
      "46) starting 2015-11-19\n",
      "47) starting 2015-11-26\n",
      "48) starting 2015-12-03\n",
      "49) starting 2015-12-10\n",
      "50) starting 2015-12-17\n",
      "51) starting 2015-12-24\n",
      "52) starting 2015-12-31\n",
      "53) starting 2016-01-07\n",
      "54) starting 2016-01-14\n",
      "55) starting 2016-01-21\n",
      "56) starting 2016-01-28\n",
      "57) starting 2016-02-04\n",
      "58) starting 2016-02-11\n",
      "59) starting 2016-02-18\n",
      "60) starting 2016-02-25\n",
      "61) starting 2016-03-03\n",
      "62) starting 2016-03-10\n",
      "63) starting 2016-03-17\n",
      "64) starting 2016-03-24\n",
      "65) starting 2016-03-31\n",
      "66) starting 2016-04-07\n",
      "67) starting 2016-04-14\n",
      "68) starting 2016-04-21\n",
      "69) starting 2016-04-28\n",
      "70) starting 2016-05-05\n",
      "71) starting 2016-05-12\n",
      "72) starting 2016-05-19\n",
      "73) starting 2016-05-26\n",
      "74) starting 2016-06-02\n",
      "75) starting 2016-06-09\n",
      "76) starting 2016-06-16\n",
      "77) starting 2016-06-23\n",
      "78) starting 2016-06-30\n",
      "79) starting 2016-07-07\n",
      "80) starting 2016-07-14\n",
      "81) starting 2016-07-21\n",
      "82) starting 2016-07-28\n",
      "83) starting 2016-08-04\n",
      "84) starting 2016-08-11\n",
      "85) starting 2016-08-18\n",
      "86) starting 2016-08-25\n",
      "87) starting 2016-09-01\n",
      "88) starting 2016-09-08\n",
      "89) starting 2016-09-15\n",
      "90) starting 2016-09-22\n",
      "91) starting 2016-09-29\n",
      "92) starting 2016-10-06\n",
      "93) starting 2016-10-13\n",
      "94) starting 2016-10-20\n",
      "95) starting 2016-10-27\n",
      "96) starting 2016-11-03\n",
      "97) starting 2016-11-10\n",
      "98) starting 2016-11-17\n",
      "99) starting 2016-11-24\n",
      "100) starting 2016-12-01\n",
      "101) starting 2016-12-08\n",
      "102) starting 2016-12-15\n",
      "103) starting 2016-12-22\n",
      "104) starting 2016-12-29\n",
      "105) starting 2017-01-05\n",
      "106) starting 2017-01-12\n",
      "107) starting 2017-01-19\n",
      "108) starting 2017-01-26\n",
      "109) starting 2017-02-02\n",
      "110) starting 2017-02-09\n",
      "111) starting 2017-02-16\n",
      "112) starting 2017-02-23\n",
      "113) starting 2017-03-02\n",
      "114) starting 2017-03-09\n",
      "115) starting 2017-03-16\n",
      "116) starting 2017-03-23\n",
      "117) starting 2017-03-30\n",
      "118) starting 2017-04-06\n",
      "119) starting 2017-04-13\n",
      "120) starting 2017-04-20\n",
      "121) starting 2017-04-27\n",
      "122) starting 2017-05-04\n",
      "123) starting 2017-05-11\n",
      "124) starting 2017-05-18\n",
      "125) starting 2017-05-25\n",
      "126) starting 2017-06-01\n",
      "127) starting 2017-06-08\n",
      "128) starting 2017-06-15\n",
      "129) starting 2017-06-22\n",
      "130) starting 2017-06-29\n",
      "131) starting 2017-07-06\n",
      "132) starting 2017-07-13\n",
      "133) starting 2017-07-20\n",
      "134) starting 2017-07-27\n",
      "135) starting 2017-08-03\n",
      "136) starting 2017-08-10\n",
      "137) starting 2017-08-17\n",
      "138) starting 2017-08-24\n",
      "139) starting 2017-08-31\n",
      "140) starting 2017-09-07\n",
      "141) starting 2017-09-14\n",
      "142) starting 2017-09-21\n",
      "143) starting 2017-09-28\n",
      "144) starting 2017-10-05\n",
      "145) starting 2017-10-12\n",
      "146) starting 2017-10-19\n",
      "147) starting 2017-10-26\n",
      "148) starting 2017-11-02\n",
      "149) starting 2017-11-09\n",
      "150) starting 2017-11-16\n",
      "151) starting 2017-11-23\n",
      "152) starting 2017-11-30\n",
      "153) starting 2017-12-07\n",
      "154) starting 2017-12-14\n",
      "155) starting 2017-12-21\n",
      "156) starting 2017-12-28\n",
      "157) starting 2018-01-04\n",
      "158) starting 2018-01-11\n",
      "CPU times: user 558 ms, sys: 172 ms, total: 729 ms\n",
      "Wall time: 785 ms\n"
     ]
    }
   ],
   "source": [
    "%%time\n",
    "historic_data = historic_glads_weekly(iso, adm1, threshold)"
   ]
  },
  {
   "cell_type": "code",
   "execution_count": 824,
   "metadata": {},
   "outputs": [
    {
     "name": "stdout",
     "output_type": "stream",
     "text": [
      "[{'count': 264393,\n",
      "  'end_date': '2017-12-14',\n",
      "  'start_date': '2017-12-07',\n",
      "  'week': 153},\n",
      " {'count': 595082,\n",
      "  'end_date': '2017-12-21',\n",
      "  'start_date': '2017-12-14',\n",
      "  'week': 154},\n",
      " {'count': 279771,\n",
      "  'end_date': '2017-12-28',\n",
      "  'start_date': '2017-12-21',\n",
      "  'week': 155}]\n"
     ]
    }
   ],
   "source": [
    "pprint(historic_data[-6:-3])"
   ]
  },
  {
   "cell_type": "code",
   "execution_count": 825,
   "metadata": {},
   "outputs": [
    {
     "data": {
      "text/plain": [
       "158"
      ]
     },
     "execution_count": 825,
     "metadata": {},
     "output_type": "execute_result"
    }
   ],
   "source": [
    "max_week = len(historic_data)-1\n",
    "max_week"
   ]
  },
  {
   "cell_type": "markdown",
   "metadata": {},
   "source": [
    "### Dynamic Sentences"
   ]
  },
  {
   "cell_type": "code",
   "execution_count": 826,
   "metadata": {},
   "outputs": [
    {
     "name": "stdout",
     "output_type": "stream",
     "text": [
      "There were 797252 GLADS alerts reported in the week starting 2017-10-12, an increase of 77266 over the corresponding week in 2016. "
     ]
    }
   ],
   "source": [
    "print(f\"There were {historic_data[w].get('count')} GLADS alerts reported \", end=\"\")\n",
    "print(f\"in the week starting {historic_data[week].get('start_date')}, \", end=\"\")\n",
    "\n",
    "if historic_data[week].get('count') > historic_data[week-52].get('count') and historic_data[week-52].get('count'):\n",
    "    print(f\"an increase of {historic_data[week].get('count') - historic_data[week-52].get('count')} \", end=\"\")\n",
    "else:\n",
    "    print(f\"an decrease of {historic_data[week].get('count') - historic_data[week-52].get('count')} \", end=\"\")\n",
    "    \n",
    "print(f\"over the corresponding week in {historic_data[week-52].get('start_date')[0:4]}. \", end=\"\")\n",
    "    \n",
    "    "
   ]
  },
  {
   "cell_type": "code",
   "execution_count": 827,
   "metadata": {},
   "outputs": [
    {
     "name": "stdout",
     "output_type": "stream",
     "text": [
      "There were 797252 GLADS alerts reported in the week starting 2017-10-12, compared to 783717(↓) in 2016, and 764701(↓) in 2015."
     ]
    }
   ],
   "source": [
    "print(f\"There were {historic_data[w].get('count')} GLADS alerts reported \", end=\"\")\n",
    "print(f\"in the week starting {historic_data[week].get('start_date')}, \", end=\"\")\n",
    "print(f\"compared to \", end=\"\")\n",
    "n = 1\n",
    "\n",
    "while week-(52*n) > 0:\n",
    "    if n > 1:\n",
    "        print(f\", \", end=\"\")\n",
    "    if historic_data[week-(52*n)].get('start_date')[0:4] == '2015':\n",
    "        print(f\"and \", end=\"\")\n",
    "        \n",
    "    if historic_data[week-(52*n)].get('count') > historic_data[week-(52*(n-1))].get('count'):\n",
    "        arrow = '↑'\n",
    "    elif historic_data[week-(52*n)].get('count') < historic_data[week-(52*(n-1))].get('count'):\n",
    "        arrow = '↓'\n",
    "    else:\n",
    "        arrow = '-'\n",
    "        \n",
    "    print(f\"{historic_data[week-(52*n)].get('count')}({arrow}) \", end=\"\")\n",
    "    print(f\"in {historic_data[week-(52*n)].get('start_date')[0:4]}\", end=\"\")\n",
    "    n += 1\n",
    "    \n",
    "print(f\".\", end=\"\")\n",
    "    \n",
    "### Note: (↑) indicates that current year is an increse over that year, (↓) means a decrease "
   ]
  },
  {
   "cell_type": "markdown",
   "metadata": {},
   "source": [
    "# Sigma Stats\n",
    "Need to calculate means and sigmas for target week (and +/- 2 weeks either side) in order to talk about whether a situation is statistically unusual/outlying."
   ]
  },
  {
   "cell_type": "code",
   "execution_count": 828,
   "metadata": {},
   "outputs": [
    {
     "data": {
      "text/plain": [
       "158"
      ]
     },
     "execution_count": 828,
     "metadata": {},
     "output_type": "execute_result"
    }
   ],
   "source": [
    "max_week = len(historic_data)-1\n",
    "max_week"
   ]
  },
  {
   "cell_type": "code",
   "execution_count": 829,
   "metadata": {},
   "outputs": [],
   "source": [
    "historic_stats = []"
   ]
  },
  {
   "cell_type": "code",
   "execution_count": 830,
   "metadata": {},
   "outputs": [
    {
     "name": "stdout",
     "output_type": "stream",
     "text": [
      "803133.6666666666\n"
     ]
    }
   ],
   "source": [
    "n = 0\n",
    "alert_sum = 0\n",
    "\n",
    "while week-(52*n) > 0:\n",
    "    alert_sum += historic_data[week-(52*n)].get('count')\n",
    "    n +=1\n",
    "    \n",
    "alert_mean = alert_sum/n\n",
    "print(alert_mean)"
   ]
  },
  {
   "cell_type": "code",
   "execution_count": 831,
   "metadata": {},
   "outputs": [
    {
     "name": "stdout",
     "output_type": "stream",
     "text": [
      "41635.81062285472\n"
     ]
    }
   ],
   "source": [
    "n = 0\n",
    "alert_sqsum = 0\n",
    "\n",
    "while week-(52*n) > 0:\n",
    "    alert_sqsum += math.pow((historic_data[week-(52*n)].get('count') - alert_mean),2)\n",
    "    n +=1\n",
    "    \n",
    "alert_sigma = math.sqrt(alert_sqsum/n)\n",
    "print(alert_sigma)"
   ]
  },
  {
   "cell_type": "code",
   "execution_count": 832,
   "metadata": {
    "collapsed": true
   },
   "outputs": [],
   "source": [
    "def historical_stats(week, historic_data):\n",
    "    \n",
    "    value = historic_data[week].get('count')\n",
    "    ### Calc mean\n",
    "    n = 0\n",
    "    alert_sum = 0\n",
    "        \n",
    "    while week-(52*n) > 0:\n",
    "        alert_sum += historic_data[week-(52*n)].get('count')\n",
    "        n +=1\n",
    "    alert_mean = alert_sum/(n+1)\n",
    "    \n",
    "    ###Now calc sigma\n",
    "    n = 0\n",
    "    alert_sqsum = 0\n",
    "\n",
    "    while week-(52*n) > 0:\n",
    "        alert_sqsum += math.pow((historic_data[week-(52*n)].get('count') - alert_mean),2)\n",
    "        n +=1\n",
    "    alert_sigma = math.sqrt(alert_sqsum/(n+1))\n",
    "\n",
    "    return {'week': week, 'mean': alert_mean, 'sigma': alert_sigma, 'counts': value}\n"
   ]
  },
  {
   "cell_type": "code",
   "execution_count": 833,
   "metadata": {},
   "outputs": [
    {
     "data": {
      "text/plain": [
       "[{'counts': 857266,\n",
       "  'mean': 443994.75,\n",
       "  'sigma': 215818.89787689326,\n",
       "  'week': 143},\n",
       " {'counts': 925458, 'mean': 488181.0, 'sigma': 219636.7307595658, 'week': 144},\n",
       " {'counts': 860983,\n",
       "  'mean': 602350.25,\n",
       "  'sigma': 177582.7718302704,\n",
       "  'week': 145},\n",
       " {'counts': 690835,\n",
       "  'mean': 356564.0,\n",
       "  'sigma': 170763.47232795425,\n",
       "  'week': 146},\n",
       " {'counts': 797252,\n",
       "  'mean': 342440.75,\n",
       "  'sigma': 230881.76522096083,\n",
       "  'week': 147}]"
      ]
     },
     "execution_count": 833,
     "metadata": {},
     "output_type": "execute_result"
    }
   ],
   "source": [
    "historic_stats_array = []\n",
    "week = 145\n",
    "\n",
    "for w in range(week-2, week+3):\n",
    "    _tmp_obj = historical_stats(w, historic_data)\n",
    "    historic_stats_array.append(_tmp_obj)\n",
    "    \n",
    "historic_stats_array"
   ]
  },
  {
   "cell_type": "code",
   "execution_count": 834,
   "metadata": {},
   "outputs": [],
   "source": [
    "dataset = []\n",
    "derr = []\n",
    "upper = []\n",
    "lower = []\n",
    "upper2sig = []\n",
    "lower2sig = []\n",
    "\n",
    "for i in historic_stats_array:\n",
    "    dataset.append(i.get('mean'))\n",
    "    derr.append(i.get('sigma'))\n",
    "    upper.append(i.get('mean')+i.get('sigma'))\n",
    "    lower.append(i.get('mean')-i.get('sigma'))\n",
    "    upper2sig.append(i.get('mean')+ 2*(i.get('sigma')))\n",
    "    lower2sig.append(i.get('mean')- 2*(i.get('sigma')))"
   ]
  },
  {
   "cell_type": "code",
   "execution_count": 835,
   "metadata": {},
   "outputs": [
    {
     "data": {
      "image/png": "[encoded data removed]",
      "text/plain": [
       "<matplotlib.figure.Figure at 0x114348860>"
      ]
     },
     "metadata": {},
     "output_type": "display_data"
    }
   ],
   "source": [
    "def glads_plot(ax, dataset, derr, col_key):\n",
    "    \"\"\"\n",
    "    Set the plot and properties of the figure sub-pannels.\n",
    "    \"\"\"\n",
    "    lthick=1.0\n",
    "    ax.plot(mrange, dataset, 'k--',lw=lthick)  # prev\n",
    "\n",
    "    ax.fill_between(mrange, lower, upper,\n",
    "                    color=col_key, linewidth=0.1,alpha=0.15)\n",
    "    ax.fill_between(mrange, lower2sig, upper2sig,\n",
    "                    color=col_key, linewidth=0.1,alpha=0.05)\n",
    "\n",
    "    ax.set_xticklabels(xlabs)\n",
    "    ax.set_xlim(0,5)\n",
    "    return\n",
    "\n",
    "mrange = range(0,5)\n",
    "xlabs =['w-2','w-1','w0','w+1','w+2']\n",
    "\n",
    "figBA15 = plt.figure()\n",
    "figBA15.set_size_inches(20,6)\n",
    "ax1 = figBA15.add_subplot(121)          \n",
    "\n",
    "glads_plot(ax=ax1, dataset=dataset, derr=derr, col_key='r')\n",
    "\n",
    "ax1.set_ylabel(r\"Alerts\", fontsize=11)\n",
    "ax1.set_title('GLADS Alerts')\n",
    "\n",
    "plt.show(figBA15)\n"
   ]
  },
  {
   "cell_type": "code",
   "execution_count": 836,
   "metadata": {},
   "outputs": [
    {
     "data": {
      "text/plain": [
       "'2017-09-28'"
      ]
     },
     "execution_count": 836,
     "metadata": {},
     "output_type": "execute_result"
    }
   ],
   "source": [
    "i = historic_data[week-2].get('start_date')\n",
    "i"
   ]
  },
  {
   "cell_type": "code",
   "execution_count": 837,
   "metadata": {},
   "outputs": [
    {
     "data": {
      "text/plain": [
       "'2017-11-02'"
      ]
     },
     "execution_count": 837,
     "metadata": {},
     "output_type": "execute_result"
    }
   ],
   "source": [
    "f = historic_data[week+3].get('start_date')\n",
    "f"
   ]
  },
  {
   "cell_type": "code",
   "execution_count": 838,
   "metadata": {
    "collapsed": true
   },
   "outputs": [],
   "source": [
    "def historic_glads_daily(start, end, iso, adm1=None, threshold=30):\n",
    "    if adm1:\n",
    "        print(f\"Collecting daily GLADS data for {adm1}, {iso} at {threshold}% tree canopy.\")\n",
    "    else:\n",
    "        print(f\"Collecting daily GLADS data for all of {iso} at {threshold}% tree canopy.\")\n",
    "    daily = []\n",
    "    test_i = start\n",
    "    test_f = start\n",
    "    day = 0\n",
    "    \n",
    "    while test_f < end:\n",
    "        \n",
    "        print(f\"{day}) starting {test_i}\")\n",
    "        _tmp_date = datetime.strptime(test_i, \"%Y-%m-%d\") + timedelta(days=1)\n",
    "        test_f = datetime.isoformat(_tmp_date)[:10]\n",
    "        \n",
    "        data = get_glads(start_date=test_i, end_date=test_f, iso=iso, adm1=adm1, threshold=threshold)\n",
    "        \n",
    "        daily.append(\n",
    "            \n",
    "            {\n",
    "                'day': day,\n",
    "                'start_date': test_i,\n",
    "                'end_date': test_f,\n",
    "                'count': data.get('count')\n",
    "            }\n",
    "        )\n",
    "        \n",
    "        day += 1\n",
    "        test_i = test_f\n",
    "        \n",
    "    return daily\n",
    "        "
   ]
  },
  {
   "cell_type": "code",
   "execution_count": 839,
   "metadata": {},
   "outputs": [
    {
     "name": "stdout",
     "output_type": "stream",
     "text": [
      "Collecting daily GLADS data for all of BRA at 0% tree canopy.\n",
      "0) starting 2017-09-28\n",
      "1) starting 2017-09-29\n",
      "2) starting 2017-09-30\n",
      "3) starting 2017-10-01\n",
      "4) starting 2017-10-02\n",
      "5) starting 2017-10-03\n",
      "6) starting 2017-10-04\n",
      "7) starting 2017-10-05\n",
      "8) starting 2017-10-06\n",
      "9) starting 2017-10-07\n",
      "10) starting 2017-10-08\n",
      "11) starting 2017-10-09\n",
      "12) starting 2017-10-10\n",
      "13) starting 2017-10-11\n",
      "14) starting 2017-10-12\n",
      "15) starting 2017-10-13\n",
      "16) starting 2017-10-14\n",
      "17) starting 2017-10-15\n",
      "18) starting 2017-10-16\n",
      "19) starting 2017-10-17\n",
      "20) starting 2017-10-18\n",
      "21) starting 2017-10-19\n",
      "22) starting 2017-10-20\n",
      "23) starting 2017-10-21\n",
      "24) starting 2017-10-22\n",
      "25) starting 2017-10-23\n",
      "26) starting 2017-10-24\n",
      "27) starting 2017-10-25\n",
      "28) starting 2017-10-26\n",
      "29) starting 2017-10-27\n",
      "30) starting 2017-10-28\n",
      "31) starting 2017-10-29\n",
      "32) starting 2017-10-30\n",
      "33) starting 2017-10-31\n",
      "34) starting 2017-11-01\n"
     ]
    }
   ],
   "source": [
    "daily_glads = historic_glads_daily(start=i, end=f, iso=iso, adm1=adm1, threshold=threshold)"
   ]
  },
  {
   "cell_type": "code",
   "execution_count": 840,
   "metadata": {},
   "outputs": [
    {
     "name": "stdout",
     "output_type": "stream",
     "text": [
      "[{'count': 299427,\n",
      "  'day': 0,\n",
      "  'end_date': '2017-09-29',\n",
      "  'start_date': '2017-09-28'},\n",
      " {'count': 278197,\n",
      "  'day': 1,\n",
      "  'end_date': '2017-09-30',\n",
      "  'start_date': '2017-09-29'},\n",
      " {'count': 118955,\n",
      "  'day': 2,\n",
      "  'end_date': '2017-10-01',\n",
      "  'start_date': '2017-09-30'}]\n"
     ]
    }
   ],
   "source": [
    "pprint(daily_glads[0:3])"
   ]
  },
  {
   "cell_type": "code",
   "execution_count": 970,
   "metadata": {},
   "outputs": [],
   "source": [
    "dataset2 = []\n",
    "derr2 = []\n",
    "upper2 = []\n",
    "lower2 = []\n",
    "upper2_2sig = []\n",
    "lower2_2sig = []\n",
    "daily = []\n",
    "\n",
    "\n",
    "for i in range(0,len(daily_glads)-1):\n",
    "    daily.append(daily_glads[i].get('count'))    \n",
    "    if i%7 == 0:\n",
    "        n = int(i/7)\n",
    "    dataset2.append(dataset[n])\n",
    "    derr2.append(derr[n])\n",
    "    upper2.append(upper[n])\n",
    "    lower2.append(lower[n])\n",
    "    upper2_2sig.append(upper2sig[n])\n",
    "    lower2_2sig.append(lower2sig[n])\n"
   ]
  },
  {
   "cell_type": "code",
   "execution_count": 971,
   "metadata": {},
   "outputs": [
    {
     "data": {
      "image/png": "[encoded data removed]",
      "text/plain": [
       "<matplotlib.figure.Figure at 0x114e2c9e8>"
      ]
     },
     "metadata": {},
     "output_type": "display_data"
    }
   ],
   "source": [
    "def glads_plot2(ax, dataset, derr, col_key):\n",
    "    \"\"\"\n",
    "    Set the plot and properties of the figure sub-pannels.\n",
    "    \"\"\"\n",
    "    lthick=1.0\n",
    "    ax.plot(mrange, dataset2, 'k--',lw=lthick)  # mean\n",
    "    ax.plot(mrange, daily, 'k-',lw=lthick)  # mean\n",
    "\n",
    "    ax.fill_between(mrange, lower2, upper2,\n",
    "                    color=col_key, linewidth=0.1,alpha=0.15)\n",
    "    ax.fill_between(mrange, lower2_2sig, upper2_2sig,\n",
    "                    color=col_key, linewidth=0.1,alpha=0.05)\n",
    "\n",
    "\n",
    "    ax.set_xlim(0,34)\n",
    "    return\n",
    "\n",
    "mrange = range(0,34)\n",
    "\n",
    "figBA15 = plt.figure()\n",
    "figBA15.set_size_inches(20,6)\n",
    "ax1 = figBA15.add_subplot(121)          \n",
    "\n",
    "glads_plot2(ax=ax1, dataset=dataset2, derr=derr2, col_key='r')\n",
    "\n",
    "ax1.set_ylabel(r\"Alerts\", fontsize=11)\n",
    "ax1.set_title('GLADS Alerts')\n",
    "\n",
    "plt.show(figBA15)\n"
   ]
  },
  {
   "cell_type": "markdown",
   "metadata": {},
   "source": [
    "### TESTING\n",
    "\n",
    "Take a single week of data and compare that week for each year (2015-2017)"
   ]
  },
  {
   "cell_type": "code",
   "execution_count": 814,
   "metadata": {
    "collapsed": true
   },
   "outputs": [],
   "source": [
    "iso = 'BRA'\n",
    "adm1 = None\n",
    "week = 145\n",
    "threshold = 0"
   ]
  },
  {
   "cell_type": "code",
   "execution_count": 815,
   "metadata": {},
   "outputs": [
    {
     "name": "stdout",
     "output_type": "stream",
     "text": [
      "Collecting daily GLADS data for all of BRA at 0% tree canopy.\n",
      "0) starting 2017-10-05\n",
      "1) starting 2017-10-06\n",
      "2) starting 2017-10-07\n",
      "3) starting 2017-10-08\n",
      "4) starting 2017-10-09\n",
      "5) starting 2017-10-10\n",
      "6) starting 2017-10-11\n"
     ]
    }
   ],
   "source": [
    "i = historic_data[week-1].get('start_date')\n",
    "f = historic_data[week+0].get('start_date')\n",
    "daily_glads2017 = historic_glads_daily(start=i, end=f, iso=iso, adm1=adm1, threshold=threshold)"
   ]
  },
  {
   "cell_type": "code",
   "execution_count": 817,
   "metadata": {},
   "outputs": [
    {
     "name": "stdout",
     "output_type": "stream",
     "text": [
      "Collecting daily GLADS data for all of BRA at 0% tree canopy.\n",
      "0) starting 2016-10-05\n",
      "1) starting 2016-10-06\n",
      "2) starting 2016-10-07\n",
      "3) starting 2016-10-08\n",
      "4) starting 2016-10-09\n",
      "5) starting 2016-10-10\n",
      "6) starting 2016-10-11\n"
     ]
    }
   ],
   "source": [
    "i = '2016-10-05'\n",
    "f = '2016-10-12'\n",
    "daily_glads2016 = historic_glads_daily(start=i, end=f, iso=iso, adm1=adm1, threshold=threshold)"
   ]
  },
  {
   "cell_type": "code",
   "execution_count": 818,
   "metadata": {},
   "outputs": [
    {
     "name": "stdout",
     "output_type": "stream",
     "text": [
      "Collecting daily GLADS data for all of BRA at 0% tree canopy.\n",
      "0) starting 2015-10-05\n",
      "1) starting 2015-10-06\n",
      "2) starting 2015-10-07\n",
      "3) starting 2015-10-08\n",
      "4) starting 2015-10-09\n",
      "5) starting 2015-10-10\n",
      "6) starting 2015-10-11\n"
     ]
    }
   ],
   "source": [
    "i = '2015-10-05'\n",
    "f = '2015-10-12'\n",
    "daily_glads2015 = historic_glads_daily(start=i, end=f, iso=iso, adm1=adm1, threshold=threshold)"
   ]
  },
  {
   "cell_type": "code",
   "execution_count": 847,
   "metadata": {},
   "outputs": [],
   "source": [
    "glads2015 = []\n",
    "glads2016 = []\n",
    "glads2017 = []\n",
    "glads_mean = []\n",
    "\n",
    "for i in range(0, len(daily_glads2015)):\n",
    "    glads2015.append(daily_glads2015[i].get('count'))\n",
    "    glads2016.append(daily_glads2016[i].get('count'))\n",
    "    glads2017.append(daily_glads2017[i].get('count'))\n",
    "    glads_mean.append((glads2015[i]+glads2016[i]+glads2017[i])/3)\n",
    "\n",
    "\n",
    "glads2015 = np.array(glads2015)\n",
    "glads2016 = np.array(glads2016)\n",
    "glads2015 = np.array(glads2015)\n",
    "glads2017 = np.array(glads2017)"
   ]
  },
  {
   "cell_type": "code",
   "execution_count": 863,
   "metadata": {},
   "outputs": [
    {
     "data": {
      "image/png": "[encoded data removed]",
      "text/plain": [
       "<matplotlib.figure.Figure at 0x11328dd30>"
      ]
     },
     "metadata": {},
     "output_type": "display_data"
    }
   ],
   "source": [
    "lthick=1.0\n",
    "\n",
    "plt.plot(glads2015, 'r--',lw=lthick)  # 2015=RED\n",
    "plt.plot(glads2016, 'b--',lw=lthick)  # 2016=BLUE\n",
    "plt.plot(glads2017, 'g--',lw=lthick)  # 2017=GREEN\n",
    "plt.plot(glads_mean, 'k-',lw=lthick)  # mean=BLACK\n",
    "plt.plot(glads_mean + std, 'k--')\n",
    "plt.plot(glads_mean - std, 'k--')\n",
    "plt.plot(glads_mean + std*2, 'k--')\n",
    "plt.plot(glads_mean - std*2, 'k--')\n",
    "\n",
    "plt.show()\n"
   ]
  },
  {
   "cell_type": "code",
   "execution_count": 862,
   "metadata": {
    "collapsed": true
   },
   "outputs": [],
   "source": [
    "std = np.std([glads2015, glads2016, glads2017])"
   ]
  },
  {
   "cell_type": "code",
   "execution_count": 864,
   "metadata": {},
   "outputs": [],
   "source": [
    "mean = np.mean([glads2015, glads2016, glads2017])"
   ]
  },
  {
   "cell_type": "markdown",
   "metadata": {},
   "source": [
    "# Testing Better Functions\n",
    "\n",
    "```historic_data``` for 'BRA'\n",
    "\n",
    "Use np!"
   ]
  },
  {
   "cell_type": "code",
   "execution_count": 865,
   "metadata": {},
   "outputs": [
    {
     "data": {
      "text/plain": [
       "[{'count': 111839,\n",
       "  'end_date': '2015-01-08',\n",
       "  'start_date': '2015-01-01',\n",
       "  'week': 0},\n",
       " {'count': 79050,\n",
       "  'end_date': '2015-01-15',\n",
       "  'start_date': '2015-01-08',\n",
       "  'week': 1},\n",
       " {'count': 94663,\n",
       "  'end_date': '2015-01-22',\n",
       "  'start_date': '2015-01-15',\n",
       "  'week': 2}]"
      ]
     },
     "execution_count": 865,
     "metadata": {},
     "output_type": "execute_result"
    }
   ],
   "source": [
    "historic_data[0:3]"
   ]
  },
  {
   "cell_type": "code",
   "execution_count": null,
   "metadata": {
    "collapsed": true
   },
   "outputs": [],
   "source": [
    "def get_glads(start_date, end_date, iso, adm1=None, threshold=30):\n",
    "   \n",
    "    if adm1:\n",
    "#         print('Request for adm1 area')\n",
    "        url = f\"https://production-api.globalforestwatch.org/v1/glad-alerts/admin/{iso}/{adm1}\" \n",
    "    else:\n",
    "#         print('Request for adm0 area')\n",
    "        url = f\"https://production-api.globalforestwatch.org/v1/glad-alerts/admin/{iso}\" \n",
    "        \n",
    "    properties = {\"period\" : start_date + ',' + end_date, \"thresh\" : threshold}\n",
    "    r = requests.get(url, params = properties)\n",
    "    \n",
    "    data = r.json().get('data')\n",
    "#     pprint(data)\n",
    "    \n",
    "    return {\n",
    "            'areaHa': data.get('attributes').get('areaHa'),\n",
    "            'count': data.get('attributes').get('value')\n",
    "           }"
   ]
  },
  {
   "cell_type": "code",
   "execution_count": 1050,
   "metadata": {},
   "outputs": [],
   "source": [
    "def historic_glads(start, end, iso, adm1=None, threshold=30, t_res='d'):\n",
    "    \"\"\"Takes a start-date and end-date iso-format string, returning a the GLADS reports \n",
    "    with a defined time resolution in a Area of Interest (country, adm1)\"\"\"\n",
    "    \n",
    "    if t_res == '6m':\n",
    "        res = '6-monthly'\n",
    "        dt = timedelta(weeks=26)\n",
    "    elif t_res == '3m':\n",
    "        res = '3-monthly'\n",
    "        dt = timedelta(weeks=13)\n",
    "    elif t_res == 'w':\n",
    "        res = 'weekly'\n",
    "        dt = timedelta(days=7)\n",
    "    elif t_res == 'd':\n",
    "        res = 'daily'\n",
    "        dt = timedelta(days=1)\n",
    "    \n",
    "    if adm1:\n",
    "        print(f\"Collecting {res} GLADS data for {adm1}, {iso} at {threshold}% tree canopy.\")\n",
    "    else:\n",
    "        print(f\"Collecting {res} GLADS data for all of {iso} at {threshold}% tree canopy.\")\n",
    "        \n",
    "    \n",
    "    alerts_data = []\n",
    "    t = 0\n",
    "    \n",
    "    while start > '2015-01-01':\n",
    "               \n",
    "        i = start\n",
    "        f = start\n",
    "        tmp = []\n",
    "    \n",
    "        while f <= end:\n",
    "\n",
    "            _tmp_date = datetime.strptime(i, \"%Y-%m-%d\") + dt\n",
    "            f = datetime.isoformat(_tmp_date)[:10]\n",
    "\n",
    "            data = get_glads(start_date=i, end_date=f, iso=iso, adm1=adm1, threshold=threshold)\n",
    "            \n",
    "            tmp.append(\n",
    "\n",
    "                {\n",
    "                    'start_date': i,\n",
    "                    'count': data.get('count')\n",
    "                }\n",
    "            )\n",
    "\n",
    "            t += 1\n",
    "            i = f\n",
    "          \n",
    "        alerts_data.append(tmp)\n",
    "        _tmp_end = datetime.strptime(end, \"%Y-%m-%d\") - timedelta(days=365)\n",
    "        end = datetime.isoformat(_tmp_end)[:10]\n",
    "        _tmp_start = datetime.strptime(start, \"%Y-%m-%d\") - timedelta(days=365)\n",
    "        start = datetime.isoformat(_tmp_start)[:10]\n",
    "        \n",
    "        \n",
    "    return alerts_data\n",
    "        "
   ]
  },
  {
   "cell_type": "code",
   "execution_count": 1037,
   "metadata": {},
   "outputs": [
    {
     "name": "stdout",
     "output_type": "stream",
     "text": [
      "Collecting daily GLADS data for all of BRA at 0% tree canopy.\n"
     ]
    }
   ],
   "source": [
    "glads_data = historic_glads(start='2017-12-01', end='2017-12-08', iso='BRA', adm1=None, threshold=0, t_res='d')"
   ]
  },
  {
   "cell_type": "code",
   "execution_count": 1038,
   "metadata": {},
   "outputs": [
    {
     "data": {
      "text/plain": [
       "[{'count': 104206, 'start_date': '2015-12-02'},\n",
       " {'count': 125617, 'start_date': '2015-12-03'},\n",
       " {'count': 48501, 'start_date': '2015-12-04'},\n",
       " {'count': 41661, 'start_date': '2015-12-05'},\n",
       " {'count': 81111, 'start_date': '2015-12-06'},\n",
       " {'count': 133938, 'start_date': '2015-12-07'},\n",
       " {'count': 100605, 'start_date': '2015-12-08'},\n",
       " {'count': 49668, 'start_date': '2015-12-09'}]"
      ]
     },
     "execution_count": 1038,
     "metadata": {},
     "output_type": "execute_result"
    }
   ],
   "source": [
    "glads_data[2]"
   ]
  },
  {
   "cell_type": "code",
   "execution_count": 1039,
   "metadata": {
    "collapsed": true
   },
   "outputs": [],
   "source": [
    "def glads_stats(data):\n",
    "    \n",
    "    mean = []\n",
    "    std_plus1 = []\n",
    "    std_minus1 = []\n",
    "    std_plus2 = []\n",
    "    std_minus2 = []\n",
    "    count = []\n",
    "    \n",
    "    for j in range(0,len(data[0])):\n",
    "        tmp_c = []\n",
    "        for i in range(0,len(data)):\n",
    "            \n",
    "            if i==0:\n",
    "                count.append(data[i][j].get('count'))\n",
    "#             print(data[i][j].get('start_date'))\n",
    "            tmp_c.append(data[i][j].get('count'))\n",
    "\n",
    "        tmp_m = np.mean(tmp_c)\n",
    "        tmp_s = np.std(tmp_c)\n",
    "        \n",
    "        mean.append(tmp_m)\n",
    "        std_plus1.append(tmp_m+tmp_s)\n",
    "        std_plus2.append(tmp_m+2*tmp_s)\n",
    "        std_minus1.append(tmp_m-tmp_s)\n",
    "        std_minus2.append(tmp_m-2*tmp_s)\n",
    "\n",
    "    return {'mean': mean,\n",
    "            '+1sigma': std_plus1,\n",
    "            '+2sigma': std_plus2,\n",
    "            '-1sigma': std_minus1,\n",
    "            '-2sigma': std_minus2,\n",
    "            'count': count}\n"
   ]
  },
  {
   "cell_type": "code",
   "execution_count": 1040,
   "metadata": {},
   "outputs": [],
   "source": [
    "stats = glads_stats(glads_data)"
   ]
  },
  {
   "cell_type": "code",
   "execution_count": 1041,
   "metadata": {},
   "outputs": [],
   "source": [
    "def glads_plot(stats):\n",
    "    \n",
    "    lthick=1.0\n",
    "\n",
    "    plt.plot(stats.get('count'), 'r-')  # 2015=RED\n",
    "    plt.plot(stats.get('mean'), 'k-',lw=lthick)  # mean=BLACK\n",
    "    plt.plot(stats.get('-1sigma'), 'k--',lw=lthick)  # mean=BLACK\n",
    "    plt.plot(stats.get('+1sigma'), 'k--',lw=lthick)  # mean=BLACK\n",
    "    plt.plot(stats.get('-2sigma'), 'k--',lw=lthick)  # mean=BLACK\n",
    "    plt.plot(stats.get('+2sigma'), 'k--',lw=lthick)  # mean=BLACK\n",
    "\n",
    "    return plt.show()\n",
    "\n"
   ]
  },
  {
   "cell_type": "code",
   "execution_count": 1042,
   "metadata": {},
   "outputs": [
    {
     "data": {
      "image/png": "[encoded data removed]",
      "text/plain": [
       "<matplotlib.figure.Figure at 0x113863860>"
      ]
     },
     "metadata": {},
     "output_type": "display_data"
    }
   ],
   "source": [
    "glads_plot(stats)"
   ]
  },
  {
   "cell_type": "code",
   "execution_count": 1043,
   "metadata": {
    "scrolled": true
   },
   "outputs": [
    {
     "name": "stdout",
     "output_type": "stream",
     "text": [
      "Collecting daily GLADS data for all of BRA at 0% tree canopy.\n"
     ]
    }
   ],
   "source": [
    "glads_data = historic_glads(start='2017-07-01', end='2017-07-08', iso='BRA', adm1=None, threshold=0, t_res='d')"
   ]
  },
  {
   "cell_type": "code",
   "execution_count": 1044,
   "metadata": {
    "collapsed": true
   },
   "outputs": [],
   "source": [
    "stats = glads_stats(glads_data)"
   ]
  },
  {
   "cell_type": "code",
   "execution_count": 1045,
   "metadata": {},
   "outputs": [
    {
     "data": {
      "image/png": "[encoded data removed]",
      "text/plain": [
       "<matplotlib.figure.Figure at 0x1139339e8>"
      ]
     },
     "metadata": {},
     "output_type": "display_data"
    }
   ],
   "source": [
    "glads_plot(stats)"
   ]
  },
  {
   "cell_type": "code",
   "execution_count": 1046,
   "metadata": {
    "scrolled": true
   },
   "outputs": [
    {
     "name": "stdout",
     "output_type": "stream",
     "text": [
      "Collecting daily GLADS data for all of BRA at 0% tree canopy.\n"
     ]
    }
   ],
   "source": [
    "glads_data = historic_glads(start='2017-02-01', end='2017-02-08', iso='BRA', adm1=None, threshold=0, t_res='d')"
   ]
  },
  {
   "cell_type": "code",
   "execution_count": 1047,
   "metadata": {
    "collapsed": true
   },
   "outputs": [],
   "source": [
    "stats = glads_stats(glads_data)"
   ]
  },
  {
   "cell_type": "code",
   "execution_count": 1048,
   "metadata": {},
   "outputs": [
    {
     "data": {
      "image/png": "[encoded data removed]",
      "text/plain": [
       "<matplotlib.figure.Figure at 0x113a0d4e0>"
      ]
     },
     "metadata": {},
     "output_type": "display_data"
    }
   ],
   "source": [
    "glads_plot(stats)"
   ]
  },
  {
   "cell_type": "code",
   "execution_count": null,
   "metadata": {
    "collapsed": true
   },
   "outputs": [],
   "source": []
  },
  {
   "cell_type": "code",
   "execution_count": null,
   "metadata": {
    "collapsed": true
   },
   "outputs": [],
   "source": []
  },
  {
   "cell_type": "code",
   "execution_count": 1060,
   "metadata": {
    "scrolled": false
   },
   "outputs": [
    {
     "name": "stdout",
     "output_type": "stream",
     "text": [
      "Collecting weekly GLADS data for all of BRA at 0% tree canopy.\n"
     ]
    }
   ],
   "source": [
    "glads_data = historic_glads(start='2017-07-04', end='2017-12-04', iso='BRA', adm1=None, threshold=0, t_res='w')"
   ]
  },
  {
   "cell_type": "code",
   "execution_count": 1061,
   "metadata": {
    "collapsed": true
   },
   "outputs": [],
   "source": [
    "stats = glads_stats(glads_data)"
   ]
  },
  {
   "cell_type": "code",
   "execution_count": 1062,
   "metadata": {},
   "outputs": [
    {
     "data": {
      "image/png": "[encoded data removed]",
      "text/plain": [
       "<matplotlib.figure.Figure at 0x114422f98>"
      ]
     },
     "metadata": {},
     "output_type": "display_data"
    }
   ],
   "source": [
    "glads_plot(stats)"
   ]
  },
  {
   "cell_type": "code",
   "execution_count": null,
   "metadata": {
    "collapsed": true
   },
   "outputs": [],
   "source": []
  },
  {
   "cell_type": "code",
   "execution_count": 1078,
   "metadata": {
    "scrolled": false
   },
   "outputs": [
    {
     "name": "stdout",
     "output_type": "stream",
     "text": [
      "Collecting weekly GLADS data for all of BRA at 0% tree canopy.\n"
     ]
    }
   ],
   "source": [
    "glads_data = historic_glads(start='2017-01-04', end='2017-12-04', iso='BRA', adm1=None, threshold=0, t_res='w')"
   ]
  },
  {
   "cell_type": "code",
   "execution_count": 1079,
   "metadata": {
    "collapsed": true
   },
   "outputs": [],
   "source": [
    "stats = glads_stats(glads_data)"
   ]
  },
  {
   "cell_type": "code",
   "execution_count": 1080,
   "metadata": {},
   "outputs": [
    {
     "data": {
      "image/png": "[encoded data removed]",
      "text/plain": [
       "<matplotlib.figure.Figure at 0x1145559e8>"
      ]
     },
     "metadata": {},
     "output_type": "display_data"
    }
   ],
   "source": [
    "glads_plot(stats)"
   ]
  },
  {
   "cell_type": "code",
   "execution_count": 1081,
   "metadata": {
    "collapsed": true
   },
   "outputs": [],
   "source": [
    "iso = 'BRA'\n",
    "admin1 = 1\n",
    "admin2 = 1\n",
    "geo_url =f'https://api.resourcewatch.org/v1/geostore/admin/{iso}/{admin1}/{admin2}'\n",
    "\n",
    "r = requests.get(geo_url)"
   ]
  },
  {
   "cell_type": "code",
   "execution_count": 1083,
   "metadata": {},
   "outputs": [
    {
     "data": {
      "text/plain": [
       "200"
      ]
     },
     "execution_count": 1083,
     "metadata": {},
     "output_type": "execute_result"
    }
   ],
   "source": [
    "r.status_code"
   ]
  },
  {
   "cell_type": "code",
   "execution_count": 1087,
   "metadata": {},
   "outputs": [
    {
     "data": {
      "text/plain": [
       "'1366d1ad66b19720b161c7b6410a9075'"
      ]
     },
     "execution_count": 1087,
     "metadata": {},
     "output_type": "execute_result"
    }
   ],
   "source": [
    "r.json().get('data',None).get('id', None)"
   ]
  },
  {
   "cell_type": "code",
   "execution_count": null,
   "metadata": {
    "collapsed": true
   },
   "outputs": [],
   "source": []
  }
 ],
 "metadata": {
  "kernelspec": {
   "display_name": "Python 3",
   "language": "python",
   "name": "python3"
  },
  "language_info": {
   "codemirror_mode": {
    "name": "ipython",
    "version": 3
   },
   "file_extension": ".py",
   "mimetype": "text/x-python",
   "name": "python",
   "nbconvert_exporter": "python",
   "pygments_lexer": "ipython3",
   "version": "3.6.2"
  }
 },
 "nbformat": 4,
 "nbformat_minor": 2
}
