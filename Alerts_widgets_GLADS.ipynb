{
 "cells": [
  {
   "cell_type": "markdown",
   "metadata": {},
   "source": [
    "# GLAD Alert widgets"
   ]
  },
  {
   "cell_type": "code",
   "execution_count": 1,
   "metadata": {
    "collapsed": true
   },
   "outputs": [],
   "source": [
    "#Import Global Metadata etc\n",
    "\n",
    "%run '0.Importable_Globals.ipynb'"
   ]
  },
  {
   "cell_type": "code",
   "execution_count": 2,
   "metadata": {
    "collapsed": true
   },
   "outputs": [],
   "source": [
    "from datetime import date\n",
    "from datetime import timedelta\n",
    "import datetime\n",
    "import math\n",
    "\n",
    "valid_countries = ['Brazil', 'Colombia', 'Ecuador', 'French Guiana', 'Guyana', 'Peru', 'Suriname', 'Venezuela',\n",
    "             'Burundi', 'Cameroon', 'Central African Republic', 'Democratic Republic of the Congo',\n",
    "              'Equatorial Guinea', 'Gabon', 'Republic of the Congo', 'Rwanda', 'Uganda',\n",
    "             'Brunei', 'Indonesia', 'Malaysia', 'Papua New Guinea', 'Timor Leste']\n"
   ]
  },
  {
   "cell_type": "markdown",
   "metadata": {},
   "source": [
    "### Daily/Weekly/Monthly Alerts \n",
    "\n",
    "We should get Alerts over several time periods are a range of different temporal resolutions.\n",
    "We need to calculate:\n",
    "\n",
    "1. Last date in the returned data (and convert it to a real date)\n",
    "1. depending on a variable time selection (e.g. past week, past 3 weeks, past 3 months, past 6 months) select back in time (including a leading period to use as a smooth)\n",
    "1. select the same time window for all previous years, and composite/stack the time together\n",
    "1. create a boxcar smooth mean to use as the center of the certainty range\n",
    "1. calculate a single standard deviation for the whole period (which should be the average standard deviation of all the individual time-point standard deviations)\n",
    "1. test plot, floor the sigma range at 0"
   ]
  },
  {
   "cell_type": "markdown",
   "metadata": {},
   "source": [
    "# Functions"
   ]
  },
  {
   "cell_type": "code",
   "execution_count": 10,
   "metadata": {
    "collapsed": true
   },
   "outputs": [],
   "source": [
    "def create_df(alert_data):\n",
    "    \n",
    "    tmp_list = []\n",
    "    for row in alert_data:\n",
    "        tmp_list.append([row.get('year', None),\n",
    "                         row.get('month', None),\n",
    "                         row.get('week', None),\n",
    "                         row.get('count', None),\n",
    "                         row.get('julian_day', None)])\n",
    "    df = pd.DataFrame(tmp_list, columns=['year','month','week','count','julian_day'])\n",
    "    \n",
    "    return df"
   ]
  },
  {
   "cell_type": "code",
   "execution_count": 11,
   "metadata": {
    "collapsed": true
   },
   "outputs": [],
   "source": [
    "def plot_df(df):\n",
    "    \n",
    "     return df.sort_values(['year','month', 'week','julian_day'])['count'].plot()"
   ]
  },
  {
   "cell_type": "code",
   "execution_count": 12,
   "metadata": {
    "collapsed": true
   },
   "outputs": [],
   "source": [
    "def get_start_date(data):\n",
    "        \n",
    "    last_index = len(data)-1\n",
    "\n",
    "    julian_day = data[last_index].get('julian_day', None)\n",
    "    current_week = data[last_index].get('week', None)\n",
    "    current_year = data[last_index].get('year', None)\n",
    "\n",
    "#     if julian_day:\n",
    "#         date = datetime.datetime.strptime(current_year + julian_day, '%Y%j').date()\n",
    "#         return date.strftime('%Y-%m-%d')\n",
    "    \n",
    "\n",
    "        \n",
    "    return {'year': current_year, 'week': current_week, 'julian_day': julian_day}"
   ]
  },
  {
   "cell_type": "code",
   "execution_count": 47,
   "metadata": {},
   "outputs": [],
   "source": [
    "def search_returned(year, week, day, response):\n",
    "    for row in response:\n",
    "        tmp_week = row.get('week', None)\n",
    "        tmp_day = row.get('julian_day', None)\n",
    "        tmp_year = row.get('year', None)\n",
    "        tmp_count = row.get('count', None)\n",
    "        if (tmp_week == week) and (tmp_year == year) and (tmp_day == day):\n",
    "            return tmp_count\n",
    "    return 0\n",
    "\n"
   ]
  },
  {
   "cell_type": "code",
   "execution_count": 57,
   "metadata": {
    "collapsed": true
   },
   "outputs": [],
   "source": [
    "def fill_zeroes(response, aggregate='week'):\n",
    "\n",
    "    data = []\n",
    "    end_y = get_start_date(response).get('year')\n",
    "\n",
    "    for year in range(2015, end_y+1):\n",
    "        if year == 2015:\n",
    "            end_w = 53\n",
    "            end_d = 365\n",
    "        elif year == 2016:\n",
    "            end_w = 53\n",
    "            end_d = 366\n",
    "        elif year == 2017:\n",
    "            end_w = 52\n",
    "            end_d = 365\n",
    "            \n",
    "        if aggregate == 'week':\n",
    "            \n",
    "            for week in range(1, end_w+1):\n",
    "                tmp = search_returned(year=year, week=week, day=None, response=response)\n",
    "                data.append({'count': tmp, 'week': week, 'year': year})\n",
    "        \n",
    "        elif aggregate == 'day':\n",
    "            \n",
    "            for day in range(1, end_d+1):\n",
    "                tmp = search_returned(year=year, week=None, day=day, response=response)\n",
    "                data.append({'count': tmp, 'day': day, 'year': year})\n",
    "\n",
    "\n",
    "    return data"
   ]
  },
  {
   "cell_type": "code",
   "execution_count": 72,
   "metadata": {},
   "outputs": [],
   "source": [
    "def glads_queries(iso, adm1=None, adm2=None, period='week'):\n",
    "\n",
    "    if period in ['day','week','month']:\n",
    "        \n",
    "        if adm2:\n",
    "            print(f'Requesting adm2 alerts aggregated by {period}')\n",
    "            url = f'https://production-api.globalforestwatch.org/glad-alerts/admin/{iso}/{adm1}/{adm2}?aggregate_values=true&aggregate_by={period}'\n",
    "        elif adm1:\n",
    "            print(f'Requesting adm1 alerts aggregated by {period}')\n",
    "            url = f'https://production-api.globalforestwatch.org/glad-alerts/admin/{iso}/{adm1}?aggregate_values=true&aggregate_by={period}'\n",
    "        elif iso:\n",
    "            print(f'Requesting adm0 alerts aggregated by {period}')\n",
    "            url = f'https://production-api.globalforestwatch.org/glad-alerts/admin/{iso}?aggregate_values=true&aggregate_by={period}'\n",
    "    \n",
    "        r = requests.get(url)\n",
    "        print(r.url)\n",
    "\n",
    "        return r.json().get('data',None).get('attributes', None).get('value', None)\n",
    "    \n",
    "    else:\n",
    "        print(\"Unable to handle request\")"
   ]
  },
  {
   "cell_type": "code",
   "execution_count": 44,
   "metadata": {},
   "outputs": [],
   "source": [
    "def get_glads_data(iso=iso, adm1=adm1, adm2=adm2, aggregate='week'):\n",
    "    \"\"\"Aggregate determines the binning of data. Can be either 'day',\n",
    "    'week', or 'month'...\"\"\"\n",
    "    \n",
    "    if iso_to_countries[iso] in valid_countries:\n",
    "        data = glads_queries(iso=iso, adm1=adm1, adm2=adm2, period=aggregate)\n",
    "        data = fill_zeroes(data, aggregate)\n",
    "\n",
    "        return data\n",
    "    \n",
    "    else:\n",
    "        print('Error: no glads data in this region')\n",
    "        return None\n"
   ]
  },
  {
   "cell_type": "code",
   "execution_count": 80,
   "metadata": {
    "collapsed": true
   },
   "outputs": [],
   "source": [
    "def get_glads_stats(data):\n",
    "    \n",
    "    window = 12\n",
    "    counts = []\n",
    "\n",
    "    for t in range(0, len(data)):\n",
    "        counts.append(data[t].get('count'))\n",
    "\n",
    "    means = []\n",
    "    sigmas = []\n",
    "\n",
    "    for i in range(0, 6):\n",
    "            means.append(np.mean([counts[53-5+i],counts[106-5+i]]))\n",
    "\n",
    "    for i in range(0, 52):\n",
    "            means.append(np.mean([counts[i],counts[i+53],counts[i+106]]))\n",
    "            sigmas.append(np.std([counts[i],counts[i+53],counts[i+106]]))\n",
    "\n",
    "    for i in range(0, 6):\n",
    "            means.append(np.mean([counts[i+53],counts[i+106]]))\n",
    "        \n",
    "    ave_std = np.mean(sigmas)\n",
    "    \n",
    "    d = {'mean': means}\n",
    "    df = pd.DataFrame(data=d)\n",
    "    \n",
    "    N = window\n",
    "    x = df['mean']\n",
    "    means = np.convolve(x, np.ones((N,))/N, mode='valid').tolist()\n",
    "    \n",
    "    return {'mean_data': means, 'sigma': ave_std}\n",
    "\n"
   ]
  },
  {
   "cell_type": "code",
   "execution_count": 16,
   "metadata": {
    "collapsed": true
   },
   "outputs": [],
   "source": [
    "def get_glads_plot(means, std, data):\n",
    "    \n",
    "    x_val = []\n",
    "    plt_data = []\n",
    "    for i in range(0, len(means)):\n",
    "        x_val.append(i)\n",
    "        \n",
    "        #data is the dataset we want to use to\n",
    "        plt_data.append(data[len(data)-len(means)+i].get('count'))   \n",
    "\n",
    "    lthick=1.0\n",
    "\n",
    "    plt.plot(plt_data, 'r-', color='magenta')  # week in question=RED\n",
    "    plt.plot(means, 'k-',lw=lthick)  # mean=BLACK\n",
    "    plt.plot(means+std, 'k--',lw=lthick)  # mean=BLACK\n",
    "    plt.plot(means-std, 'k--',lw=lthick)  # mean=BLACK\n",
    "    plt.plot(means+2*std, 'k--',lw=lthick)  # mean=BLACK\n",
    "    plt.plot(means-2*std, 'k--',lw=lthick)  # mean=BLACK\n",
    "\n",
    "    plt.fill_between(x_val, means-2*std, means-std, color='grey', alpha=0.05)\n",
    "    plt.fill_between(x_val, means+std, means+2*std, color='grey', alpha=0.05)\n",
    "    plt.fill_between(x_val, means-std, means+std, color='grey', alpha=0.25)\n",
    "\n",
    "    ax = plt.gca()\n",
    "\n",
    "    ax.set_ylim([0,1.05*max(max(plt_data), max(means)+2*std)])\n",
    "    ax.set_xlabel('weeks')\n",
    "    ax.set_ylabel('alert count')\n",
    "\n",
    "    plt.show()    "
   ]
  },
  {
   "cell_type": "markdown",
   "metadata": {},
   "source": [
    "# Window vs Data\n",
    "\n",
    "The above mean +/- standard deviation lines will be requestd and calculated as standard by the front end i.e using data from all previous years, binned by week, and smoothed with a 3 month convolution-window to give year-long statistical bounds.\n",
    "\n",
    "In the above: \n",
    "\n",
    "- black = mean,\n",
    "- dark grey = 1 sigma band,\n",
    "- light grey = 2 sigma band\n",
    "\n",
    "The current years data will then be overplotted (magenta in the above graph) on a 'window' of the above statistical bands.\n",
    "\n",
    "The user can then view a 'window' of size (with data overlayed):\n",
    "\n",
    "- the last week (daily data)\n",
    "- last month (daily data)\n",
    "- last 3 months (weekly data)\n",
    "- last 6 months (weekly data)\n",
    "- last year (weekly)\n",
    "\n",
    "### Process\n",
    "\n",
    "1. Get stats for whole year, calculate mean & std values\n",
    "2. Get data for window\n"
   ]
  },
  {
   "cell_type": "code",
   "execution_count": 66,
   "metadata": {
    "collapsed": true
   },
   "outputs": [],
   "source": [
    "iso = 'BRA'\n",
    "adm1 = None\n",
    "adm2 = None"
   ]
  },
  {
   "cell_type": "code",
   "execution_count": 81,
   "metadata": {},
   "outputs": [
    {
     "name": "stdout",
     "output_type": "stream",
     "text": [
      "Requesting adm0 alerts aggregated by week\n",
      "https://production-api.globalforestwatch.org/glad-alerts/admin/BRA?aggregate_values=true&aggregate_by=week\n",
      "CPU times: user 14.3 ms, sys: 12.7 ms, total: 27 ms\n",
      "Wall time: 463 ms\n"
     ]
    }
   ],
   "source": [
    "%%time\n",
    "\n",
    "data = get_glads_data(iso=iso, adm1=adm1, adm2=adm2, aggregate='week')"
   ]
  },
  {
   "cell_type": "code",
   "execution_count": 82,
   "metadata": {},
   "outputs": [
    {
     "data": {
      "text/plain": [
       "[{'count': 188135, 'week': 1, 'year': 2015},\n",
       " {'count': 223100, 'week': 2, 'year': 2015},\n",
       " {'count': 130833, 'week': 3, 'year': 2015},\n",
       " {'count': 160172, 'week': 4, 'year': 2015},\n",
       " {'count': 483794, 'week': 5, 'year': 2015}]"
      ]
     },
     "execution_count": 82,
     "metadata": {},
     "output_type": "execute_result"
    }
   ],
   "source": [
    "data[0:5]"
   ]
  },
  {
   "cell_type": "code",
   "execution_count": 83,
   "metadata": {},
   "outputs": [],
   "source": [
    "stats = get_glads_stats(data)\n",
    "means = stats.get('mean_data')\n",
    "std = stats.get('sigma')"
   ]
  },
  {
   "cell_type": "code",
   "execution_count": 84,
   "metadata": {},
   "outputs": [
    {
     "data": {
      "image/png": "[encoded data removed]",
      "text/plain": [
       "<matplotlib.figure.Figure at 0x111e21f98>"
      ]
     },
     "metadata": {},
     "output_type": "display_data"
    }
   ],
   "source": [
    "get_glads_plot(means, std, data)"
   ]
  },
  {
   "cell_type": "code",
   "execution_count": null,
   "metadata": {
    "collapsed": true
   },
   "outputs": [],
   "source": []
  },
  {
   "cell_type": "markdown",
   "metadata": {},
   "source": [
    "# Dynamic Sentences\n"
   ]
  },
  {
   "cell_type": "code",
   "execution_count": null,
   "metadata": {
    "collapsed": true
   },
   "outputs": [],
   "source": [
    "print(f\"There were {historic_data[w].get('count')} GLADS alerts reported \", end=\"\")\n",
    "print(f\"in the week starting {historic_data[week].get('start_date')}, \", end=\"\")\n",
    "print(f\"compared to \", end=\"\")\n",
    "n = 1\n",
    "\n",
    "while week-(52*n) > 0:\n",
    "    if n > 1:\n",
    "        print(f\", \", end=\"\")\n",
    "    if historic_data[week-(52*n)].get('start_date')[0:4] == '2015':\n",
    "        print(f\"and \", end=\"\")\n",
    "        \n",
    "    if historic_data[week-(52*n)].get('count') > historic_data[week-(52*(n-1))].get('count'):\n",
    "        arrow = '↑'\n",
    "    elif historic_data[week-(52*n)].get('count') < historic_data[week-(52*(n-1))].get('count'):\n",
    "        arrow = '↓'\n",
    "    else:\n",
    "        arrow = '-'\n",
    "        \n",
    "    print(f\"{historic_data[week-(52*n)].get('count')}({arrow}) \", end=\"\")\n",
    "    print(f\"in {historic_data[week-(52*n)].get('start_date')[0:4]}\", end=\"\")\n",
    "    n += 1\n",
    "    \n",
    "print(f\".\", end=\"\")\n",
    "    \n",
    "### Note: (↑) indicates that current year is an increse over that year, (↓) means a decrease "
   ]
  },
  {
   "cell_type": "code",
   "execution_count": null,
   "metadata": {
    "collapsed": true
   },
   "outputs": [],
   "source": [
    "print(f\"There were {historic_data[w].get('count')} GLADS alerts reported \", end=\"\")\n",
    "print(f\"in the week starting {historic_data[week].get('start_date')}, \", end=\"\")\n",
    "\n",
    "if historic_data[week].get('count') > historic_data[week-52].get('count') and historic_data[week-52].get('count'):\n",
    "    print(f\"an increase of {historic_data[week].get('count') - historic_data[week-52].get('count')} \", end=\"\")\n",
    "else:\n",
    "    print(f\"an decrease of {historic_data[week].get('count') - historic_data[week-52].get('count')} \", end=\"\")\n",
    "    \n",
    "print(f\"over the corresponding week in {historic_data[week-52].get('start_date')[0:4]}. \", end=\"\")\n",
    "    \n",
    "    "
   ]
  },
  {
   "cell_type": "markdown",
   "metadata": {},
   "source": [
    "# Test\n",
    "\n",
    "We need to precalc weekly stats over the entirety of the temporal data."
   ]
  },
  {
   "cell_type": "code",
   "execution_count": 3,
   "metadata": {
    "collapsed": true
   },
   "outputs": [],
   "source": [
    "test_i = '2015-01-01'"
   ]
  },
  {
   "cell_type": "code",
   "execution_count": 4,
   "metadata": {},
   "outputs": [
    {
     "data": {
      "text/plain": [
       "datetime.datetime(2015, 1, 1, 0, 0)"
      ]
     },
     "execution_count": 4,
     "metadata": {},
     "output_type": "execute_result"
    }
   ],
   "source": [
    "date_1 = datetime.datetime.strptime(test_i, \"%Y-%m-%d\")\n",
    "date_1"
   ]
  },
  {
   "cell_type": "code",
   "execution_count": 5,
   "metadata": {},
   "outputs": [
    {
     "data": {
      "text/plain": [
       "datetime.datetime(2015, 1, 8, 0, 0)"
      ]
     },
     "execution_count": 5,
     "metadata": {},
     "output_type": "execute_result"
    }
   ],
   "source": [
    "date_2 = date_1 + timedelta(days=7) \n",
    "date_2"
   ]
  },
  {
   "cell_type": "code",
   "execution_count": 6,
   "metadata": {},
   "outputs": [
    {
     "data": {
      "text/plain": [
       "'2015-01-08'"
      ]
     },
     "execution_count": 6,
     "metadata": {},
     "output_type": "execute_result"
    }
   ],
   "source": [
    "test_f = datetime.datetime.isoformat(date_2)[:10]\n",
    "test_f"
   ]
  },
  {
   "cell_type": "code",
   "execution_count": 7,
   "metadata": {},
   "outputs": [
    {
     "ename": "NameError",
     "evalue": "name 'get_glads' is not defined",
     "output_type": "error",
     "traceback": [
      "\u001b[0;31m---------------------------------------------------------------------\u001b[0m",
      "\u001b[0;31mNameError\u001b[0m                           Traceback (most recent call last)",
      "\u001b[0;32m<ipython-input-7-739ef81bd9bf>\u001b[0m in \u001b[0;36m<module>\u001b[0;34m()\u001b[0m\n\u001b[0;32m----> 1\u001b[0;31m \u001b[0mtest_data\u001b[0m \u001b[0;34m=\u001b[0m \u001b[0mget_glads\u001b[0m\u001b[0;34m(\u001b[0m\u001b[0mstart_date\u001b[0m\u001b[0;34m=\u001b[0m\u001b[0mtest_i\u001b[0m\u001b[0;34m,\u001b[0m \u001b[0mend_date\u001b[0m\u001b[0;34m=\u001b[0m\u001b[0mtest_f\u001b[0m\u001b[0;34m,\u001b[0m \u001b[0miso\u001b[0m\u001b[0;34m=\u001b[0m\u001b[0miso\u001b[0m\u001b[0;34m,\u001b[0m \u001b[0madm1\u001b[0m\u001b[0;34m=\u001b[0m\u001b[0madm1\u001b[0m\u001b[0;34m,\u001b[0m \u001b[0mthreshold\u001b[0m\u001b[0;34m=\u001b[0m\u001b[0mthreshold\u001b[0m\u001b[0;34m)\u001b[0m\u001b[0;34m\u001b[0m\u001b[0m\n\u001b[0m",
      "\u001b[0;31mNameError\u001b[0m: name 'get_glads' is not defined"
     ]
    }
   ],
   "source": [
    "test_data = get_glads(start_date=test_i, end_date=test_f, iso=iso, adm1=adm1, threshold=threshold)"
   ]
  },
  {
   "cell_type": "code",
   "execution_count": null,
   "metadata": {},
   "outputs": [],
   "source": [
    "test_data"
   ]
  }
 ],
 "metadata": {
  "kernelspec": {
   "display_name": "Python 3",
   "language": "python",
   "name": "python3"
  },
  "language_info": {
   "codemirror_mode": {
    "name": "ipython",
    "version": 3
   },
   "file_extension": ".py",
   "mimetype": "text/x-python",
   "name": "python",
   "nbconvert_exporter": "python",
   "pygments_lexer": "ipython3",
   "version": "3.6.2"
  }
 },
 "nbformat": 4,
 "nbformat_minor": 2
}
