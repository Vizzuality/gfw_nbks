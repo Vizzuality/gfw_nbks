{
 "cells": [
  {
   "cell_type": "markdown",
   "metadata": {},
   "source": [
    "# GLAD Alert widgets"
   ]
  },
  {
   "cell_type": "code",
   "execution_count": 9,
   "metadata": {},
   "outputs": [],
   "source": [
    "#Import Global Metadata etc\n",
    "\n",
    "%run '0.Importable_Globals.ipynb'"
   ]
  },
  {
   "cell_type": "code",
   "execution_count": 10,
   "metadata": {},
   "outputs": [],
   "source": [
    "from datetime import date"
   ]
  },
  {
   "cell_type": "code",
   "execution_count": 11,
   "metadata": {},
   "outputs": [],
   "source": [
    "from datetime import timedelta"
   ]
  },
  {
   "cell_type": "code",
   "execution_count": 12,
   "metadata": {},
   "outputs": [],
   "source": [
    "import math"
   ]
  },
  {
   "cell_type": "markdown",
   "metadata": {},
   "source": [
    "ADM0 REQUEST:\n",
    "\n",
    "https://production-api.globalforestwatch.org/v1/glad-alerts/admin/COD?period=2017-01-20%2C2017-12-26&thresh=30&_=1516027383380\n",
    "    \n",
    "ADM1 REQUEST:\n",
    "\n",
    "https://production-api.globalforestwatch.org/v1/glad-alerts/admin/COD/4?period=2017-01-20%2C2017-12-26&thresh=30&_=1516027383381\n",
    "    \n",
    "CUSTOM SHAPE REQUEST:  \n",
    "https://production-api.globalforestwatch.org/v1/glad-alerts?geostore=40c6e39d84c6fb3c5e3781cc69fe7444&period=2017-10-01%2C2017-12-26&thresh=30&_=1516027383379\n"
   ]
  },
  {
   "cell_type": "markdown",
   "metadata": {},
   "source": [
    "### REQUEST\n",
    "\n",
    "base url: ```https://production-api.globalforestwatch.org/v1/glad-alerts/admin```\n",
    "\n",
    "iso: ```/{ISO}``` (iso3)\n",
    "\n",
    "adm1: ```/{adm1}``` (numerical)\n",
    "\n",
    "query: ```?```\n",
    "\n",
    "dates: ```period={start},{end}``` (YYYY-MM-DD)\n",
    "\n",
    "thresh: ```thresh={threshold}```\n"
   ]
  },
  {
   "cell_type": "markdown",
   "metadata": {},
   "source": [
    "### RESPONSE\n",
    "\n",
    "```JSON\n",
    "{\n",
    "    \"data\": {\n",
    "        \"attributes\": {\n",
    "        \"areaHa\": 234363285.93553916,\n",
    "        \"downloadUrls\": {\n",
    "            \"csv\": \"...\",\n",
    "            \"json\": \"...\"\n",
    "            },\n",
    "        \"value\": 2126428\n",
    "        },\n",
    "\n",
    "    \"id\": \"db34c2d9-77b8-43ee-b101-f499e39d1597\",\n",
    "    \"period\": \"2017-01-20,2017-12-26\",\n",
    "    \"type\": \"glad-alerts\"\n",
    "        }\n",
    "}\n",
    "```\n",
    "\n",
    "So we have the following variables:\n",
    "\n",
    "- data.areaHa (area in ha)\n",
    "- data.value (no of alerts in the period)\n",
    "- period (start- and end- dates)"
   ]
  },
  {
   "cell_type": "code",
   "execution_count": 13,
   "metadata": {},
   "outputs": [],
   "source": [
    "ds = 'db34c2d9-77b8-43ee-b101-f499e39d1597'"
   ]
  },
  {
   "cell_type": "code",
   "execution_count": 14,
   "metadata": {},
   "outputs": [],
   "source": [
    "iso = 'BRA'\n",
    "adm1 = None\n",
    "adm2 = None\n",
    "start_date = '2017-01-20'\n",
    "end_date = '2017-12-26'\n",
    "threshold = 30"
   ]
  },
  {
   "cell_type": "code",
   "execution_count": 15,
   "metadata": {},
   "outputs": [
    {
     "name": "stdout",
     "output_type": "stream",
     "text": [
      "https://production-api.globalforestwatch.org/v1/glad-alerts/admin/BRA?period=2017-01-20%2C2017-12-26&thresh=30\n",
      "Status: 200\n",
      "{'data': {'attributes': {'areaHa': 855189203.6641197,\n",
      "                         'downloadUrls': {'csv': '/download/db34c2d9-77b8-43ee-b101-f499e39d1597?sql=SELECT '\n",
      "                                                 'lat, long, confidence_text, '\n",
      "                                                 'country_iso, state_id, '\n",
      "                                                 'dist_id, year, julian_day '\n",
      "                                                 'FROM '\n",
      "                                                 'index_db34c2d977b843eeb101f499e39d1597 '\n",
      "                                                 'WHERE ((year = 2017 and '\n",
      "                                                 'julian_day >= 20 and '\n",
      "                                                 'julian_day <= 360)) AND '\n",
      "                                                 \"(country_iso = 'BRA')ORDER \"\n",
      "                                                 'BY year, '\n",
      "                                                 'julian_day&format=csv',\n",
      "                                          'json': '/download/db34c2d9-77b8-43ee-b101-f499e39d1597?sql=SELECT '\n",
      "                                                  'lat, long, confidence_text, '\n",
      "                                                  'country_iso, state_id, '\n",
      "                                                  'dist_id, year, julian_day '\n",
      "                                                  'FROM '\n",
      "                                                  'index_db34c2d977b843eeb101f499e39d1597 '\n",
      "                                                  'WHERE ((year = 2017 and '\n",
      "                                                  'julian_day >= 20 and '\n",
      "                                                  'julian_day <= 360)) AND '\n",
      "                                                  \"(country_iso = 'BRA')ORDER \"\n",
      "                                                  'BY year, '\n",
      "                                                  'julian_day&format=json'},\n",
      "                         'value': 16903694},\n",
      "          'id': 'db34c2d9-77b8-43ee-b101-f499e39d1597',\n",
      "          'period': '2017-01-20,2017-12-26',\n",
      "          'type': 'glad-alerts'}}\n"
     ]
    }
   ],
   "source": [
    "# Example of adm0 request\n",
    "url = f\"https://production-api.globalforestwatch.org/v1/glad-alerts/admin/{iso}\"\n",
    "properties = {\"period\" : start_date + ',' + end_date,\n",
    "              \"thresh\" : threshold}\n",
    "r = requests.get(url, params = properties)\n",
    "\n",
    "print(r.url)\n",
    "print(f'Status: {r.status_code}')\n",
    "\n",
    "data = r.json()\n",
    "\n",
    "pprint(data)"
   ]
  },
  {
   "cell_type": "code",
   "execution_count": 16,
   "metadata": {},
   "outputs": [
    {
     "name": "stdout",
     "output_type": "stream",
     "text": [
      "https://production-api.globalforestwatch.org/v1/glad-alerts/admin/BRA/None?period=2017-01-20%2C2017-12-26&thresh=30\n",
      "Status: 400\n",
      "{'errors': [{'detail': 'For state and district queries please use numbers',\n",
      "             'status': 400}]}\n"
     ]
    }
   ],
   "source": [
    "# Example of adm1 request\n",
    "url = f\"https://production-api.globalforestwatch.org/v1/glad-alerts/admin/{iso}/{adm1}\"\n",
    "properties = {\"period\" : start_date + ',' + end_date,\n",
    "              \"thresh\" : threshold}\n",
    "r = requests.get(url, params = properties)\n",
    "\n",
    "print(r.url)\n",
    "print(f'Status: {r.status_code}')\n",
    "\n",
    "data = r.json()\n",
    "\n",
    "pprint(data)"
   ]
  },
  {
   "cell_type": "code",
   "execution_count": 17,
   "metadata": {},
   "outputs": [],
   "source": [
    "def get_glads(start_date, end_date, iso, adm1=None, threshold=30):\n",
    "   \n",
    "    if adm1:\n",
    "#         print('Request for adm1 area')\n",
    "        url = f\"https://production-api.globalforestwatch.org/v1/glad-alerts/admin/{iso}/{adm1}\" \n",
    "    else:\n",
    "#         print('Request for adm0 area')\n",
    "        url = f\"https://production-api.globalforestwatch.org/v1/glad-alerts/admin/{iso}\" \n",
    "        \n",
    "    properties = {\"period\" : start_date + ',' + end_date, \"thresh\" : threshold}\n",
    "    r = requests.get(url, params = properties)\n",
    "    \n",
    "    data = r.json().get('data')\n",
    "#     pprint(data)\n",
    "    \n",
    "    return {\n",
    "            'areaHa': data.get('attributes').get('areaHa'),\n",
    "            'count': data.get('attributes').get('value')\n",
    "    }"
   ]
  },
  {
   "cell_type": "code",
   "execution_count": 18,
   "metadata": {},
   "outputs": [],
   "source": [
    "iso = 'BRA'\n",
    "adm1 = None\n",
    "start_date = '2017-01-20'\n",
    "end_date = '2017-12-26'\n",
    "threshold = 30"
   ]
  },
  {
   "cell_type": "code",
   "execution_count": 19,
   "metadata": {},
   "outputs": [],
   "source": [
    "data = get_glads(start_date=start_date, end_date=end_date, iso=iso, adm1=adm1, threshold=threshold)"
   ]
  },
  {
   "cell_type": "code",
   "execution_count": 20,
   "metadata": {},
   "outputs": [
    {
     "data": {
      "text/plain": [
       "{'areaHa': 855189203.6641197, 'count': 16903694}"
      ]
     },
     "execution_count": 20,
     "metadata": {},
     "output_type": "execute_result"
    }
   ],
   "source": [
    "data"
   ]
  },
  {
   "cell_type": "code",
   "execution_count": 21,
   "metadata": {},
   "outputs": [
    {
     "name": "stdout",
     "output_type": "stream",
     "text": [
      "340\n"
     ]
    }
   ],
   "source": [
    "# No of days elapsed using the 'datetime' library\n",
    "\n",
    "f_date = date(int(start_date[:4]),int(start_date[5:7]), int(start_date[8:10]))\n",
    "l_date = date(int(end_date[:4]),int(end_date[5:7]), int(end_date[8:10]))\n",
    "delta = l_date - f_date\n",
    "\n",
    "days = delta.days\n",
    "print(days)"
   ]
  },
  {
   "cell_type": "markdown",
   "metadata": {},
   "source": [
    "### Dynamic Sentence"
   ]
  },
  {
   "cell_type": "code",
   "execution_count": 22,
   "metadata": {},
   "outputs": [],
   "source": [
    "### Between X and Y there have been Z GLADS alerts in ISO/adm1, around (Y-X)/Z per day."
   ]
  },
  {
   "cell_type": "markdown",
   "metadata": {},
   "source": [
    "# Variation Statistics\n",
    "\n",
    "- Number/Area compared to previous year(s)\n",
    "- In the last week/month/year from today\n",
    "    \n",
    "  "
   ]
  },
  {
   "cell_type": "code",
   "execution_count": 23,
   "metadata": {},
   "outputs": [
    {
     "name": "stdout",
     "output_type": "stream",
     "text": [
      "49716.74705882353\n"
     ]
    }
   ],
   "source": [
    "# What is the temporal density of alerts in this period?\n",
    "\n",
    "alerts_per_day = data.get('count')/days\n",
    "print(alerts_per_day)"
   ]
  },
  {
   "cell_type": "code",
   "execution_count": 24,
   "metadata": {},
   "outputs": [
    {
     "data": {
      "text/plain": [
       "'2016-01-20'"
      ]
     },
     "execution_count": 24,
     "metadata": {},
     "output_type": "execute_result"
    }
   ],
   "source": [
    "new_start_date = str(int(start_date[0:4])-1) + '-' + start_date[5:]\n",
    "new_start_date"
   ]
  },
  {
   "cell_type": "code",
   "execution_count": 25,
   "metadata": {},
   "outputs": [
    {
     "data": {
      "text/plain": [
       "'2016-12-26'"
      ]
     },
     "execution_count": 25,
     "metadata": {},
     "output_type": "execute_result"
    }
   ],
   "source": [
    "new_end_date = str(int(end_date[0:4])-1) + '-' + end_date[5:]\n",
    "new_end_date"
   ]
  },
  {
   "cell_type": "code",
   "execution_count": 26,
   "metadata": {},
   "outputs": [],
   "source": [
    "prev_year = get_glads(start_date=new_start_date, end_date=new_end_date, iso=iso, adm1=adm1, threshold=threshold)"
   ]
  },
  {
   "cell_type": "code",
   "execution_count": 27,
   "metadata": {},
   "outputs": [
    {
     "data": {
      "text/plain": [
       "{'areaHa': 855189203.6641197, 'count': 15324384}"
      ]
     },
     "execution_count": 27,
     "metadata": {},
     "output_type": "execute_result"
    }
   ],
   "source": [
    "prev_year"
   ]
  },
  {
   "cell_type": "code",
   "execution_count": 28,
   "metadata": {},
   "outputs": [
    {
     "data": {
      "text/plain": [
       "-4645.029411764706"
      ]
     },
     "execution_count": 28,
     "metadata": {},
     "output_type": "execute_result"
    }
   ],
   "source": [
    "# What is the temporal density of alerts in this period?\n",
    "\n",
    "prev_year.get('count')/days - alerts_per_day"
   ]
  },
  {
   "cell_type": "code",
   "execution_count": 33,
   "metadata": {},
   "outputs": [],
   "source": [
    "from datetime import datetime"
   ]
  },
  {
   "cell_type": "markdown",
   "metadata": {},
   "source": [
    "# Test\n",
    "\n",
    "We need to precalc weekly stats over the entirety of the temporal data."
   ]
  },
  {
   "cell_type": "code",
   "execution_count": 29,
   "metadata": {},
   "outputs": [],
   "source": [
    "test_i = '2015-01-01'"
   ]
  },
  {
   "cell_type": "code",
   "execution_count": 35,
   "metadata": {},
   "outputs": [
    {
     "data": {
      "text/plain": [
       "datetime.datetime(2015, 1, 1, 0, 0)"
      ]
     },
     "execution_count": 35,
     "metadata": {},
     "output_type": "execute_result"
    }
   ],
   "source": [
    "date_1 = datetime.strptime(test_i, \"%Y-%m-%d\")\n",
    "date_1"
   ]
  },
  {
   "cell_type": "code",
   "execution_count": 36,
   "metadata": {},
   "outputs": [
    {
     "data": {
      "text/plain": [
       "datetime.datetime(2015, 1, 8, 0, 0)"
      ]
     },
     "execution_count": 36,
     "metadata": {},
     "output_type": "execute_result"
    }
   ],
   "source": [
    "date_2 = date_1 + timedelta(days=7) \n",
    "date_2"
   ]
  },
  {
   "cell_type": "code",
   "execution_count": 37,
   "metadata": {},
   "outputs": [
    {
     "data": {
      "text/plain": [
       "'2015-01-08'"
      ]
     },
     "execution_count": 37,
     "metadata": {},
     "output_type": "execute_result"
    }
   ],
   "source": [
    "test_f = datetime.isoformat(date_2)[:10]\n",
    "test_f"
   ]
  },
  {
   "cell_type": "code",
   "execution_count": 38,
   "metadata": {},
   "outputs": [],
   "source": [
    "test_data = get_glads(start_date=test_i, end_date=test_f, iso=iso, adm1=adm1, threshold=threshold)"
   ]
  },
  {
   "cell_type": "code",
   "execution_count": 39,
   "metadata": {},
   "outputs": [
    {
     "data": {
      "text/plain": [
       "{'areaHa': 855189203.6641197, 'count': 111839}"
      ]
     },
     "execution_count": 39,
     "metadata": {},
     "output_type": "execute_result"
    }
   ],
   "source": [
    "test_data"
   ]
  },
  {
   "cell_type": "markdown",
   "metadata": {},
   "source": [
    "# Weekly Stats Script\n",
    "\n",
    "We need to precalc weekly stats over the entirety of the temporal data."
   ]
  },
  {
   "cell_type": "code",
   "execution_count": 40,
   "metadata": {},
   "outputs": [],
   "source": [
    "iso = 'BRA'\n",
    "adm1 = None\n",
    "week = 145\n",
    "threshold = 0"
   ]
  },
  {
   "cell_type": "code",
   "execution_count": 41,
   "metadata": {},
   "outputs": [],
   "source": [
    "def historic_glads_weekly(iso, adm1=None, threshold=30, start='2015-01-01', end=str(date.today())):\n",
    "    if adm1:\n",
    "        print(f\"Collecting historical GLADS data for {adm1}, {iso} at {threshold}% tree canopy.\")\n",
    "    else:\n",
    "        print(f\"Collecting historical GLADS data for all of {iso} at {threshold}% tree canopy.\")\n",
    "    weekly = []\n",
    "    test_i = start\n",
    "    test_f = start\n",
    "    week = 0\n",
    "    \n",
    "    while test_f < str(date.today()):\n",
    "        \n",
    "        print(f\"{week}) starting {test_i}\")\n",
    "        _tmp_date = datetime.strptime(test_i, \"%Y-%m-%d\") + timedelta(days=7)\n",
    "        test_f = datetime.isoformat(_tmp_date)[:10]\n",
    "        \n",
    "        data = get_glads(start_date=test_i, end_date=test_f, iso=iso, adm1=adm1, threshold=threshold)\n",
    "        \n",
    "        weekly.append(\n",
    "            \n",
    "            {\n",
    "                'week': week,\n",
    "                'start_date': test_i,\n",
    "                'end_date': test_f,\n",
    "                'count': data.get('count')\n",
    "            }\n",
    "        )\n",
    "        \n",
    "        week += 1\n",
    "        test_i = test_f\n",
    "        \n",
    "    return weekly\n",
    "        "
   ]
  },
  {
   "cell_type": "code",
   "execution_count": 42,
   "metadata": {},
   "outputs": [
    {
     "name": "stdout",
     "output_type": "stream",
     "text": [
      "Collecting historical GLADS data for all of BRA at 0% tree canopy.\n",
      "0) starting 2015-01-01\n",
      "1) starting 2015-01-08\n",
      "2) starting 2015-01-15\n",
      "3) starting 2015-01-22\n",
      "4) starting 2015-01-29\n",
      "5) starting 2015-02-05\n",
      "6) starting 2015-02-12\n",
      "7) starting 2015-02-19\n",
      "8) starting 2015-02-26\n",
      "9) starting 2015-03-05\n",
      "10) starting 2015-03-12\n",
      "11) starting 2015-03-19\n",
      "12) starting 2015-03-26\n",
      "13) starting 2015-04-02\n",
      "14) starting 2015-04-09\n",
      "15) starting 2015-04-16\n",
      "16) starting 2015-04-23\n",
      "17) starting 2015-04-30\n",
      "18) starting 2015-05-07\n",
      "19) starting 2015-05-14\n",
      "20) starting 2015-05-21\n",
      "21) starting 2015-05-28\n",
      "22) starting 2015-06-04\n",
      "23) starting 2015-06-11\n",
      "24) starting 2015-06-18\n",
      "25) starting 2015-06-25\n",
      "26) starting 2015-07-02\n",
      "27) starting 2015-07-09\n",
      "28) starting 2015-07-16\n",
      "29) starting 2015-07-23\n",
      "30) starting 2015-07-30\n",
      "31) starting 2015-08-06\n",
      "32) starting 2015-08-13\n",
      "33) starting 2015-08-20\n",
      "34) starting 2015-08-27\n",
      "35) starting 2015-09-03\n",
      "36) starting 2015-09-10\n",
      "37) starting 2015-09-17\n",
      "38) starting 2015-09-24\n",
      "39) starting 2015-10-01\n",
      "40) starting 2015-10-08\n",
      "41) starting 2015-10-15\n",
      "42) starting 2015-10-22\n",
      "43) starting 2015-10-29\n",
      "44) starting 2015-11-05\n",
      "45) starting 2015-11-12\n",
      "46) starting 2015-11-19\n",
      "47) starting 2015-11-26\n",
      "48) starting 2015-12-03\n",
      "49) starting 2015-12-10\n",
      "50) starting 2015-12-17\n",
      "51) starting 2015-12-24\n",
      "52) starting 2015-12-31\n",
      "53) starting 2016-01-07\n",
      "54) starting 2016-01-14\n",
      "55) starting 2016-01-21\n",
      "56) starting 2016-01-28\n",
      "57) starting 2016-02-04\n",
      "58) starting 2016-02-11\n",
      "59) starting 2016-02-18\n",
      "60) starting 2016-02-25\n",
      "61) starting 2016-03-03\n",
      "62) starting 2016-03-10\n",
      "63) starting 2016-03-17\n",
      "64) starting 2016-03-24\n",
      "65) starting 2016-03-31\n",
      "66) starting 2016-04-07\n",
      "67) starting 2016-04-14\n",
      "68) starting 2016-04-21\n",
      "69) starting 2016-04-28\n",
      "70) starting 2016-05-05\n",
      "71) starting 2016-05-12\n",
      "72) starting 2016-05-19\n",
      "73) starting 2016-05-26\n",
      "74) starting 2016-06-02\n",
      "75) starting 2016-06-09\n",
      "76) starting 2016-06-16\n",
      "77) starting 2016-06-23\n",
      "78) starting 2016-06-30\n",
      "79) starting 2016-07-07\n",
      "80) starting 2016-07-14\n",
      "81) starting 2016-07-21\n",
      "82) starting 2016-07-28\n",
      "83) starting 2016-08-04\n"
     ]
    },
    {
     "ename": "KeyboardInterrupt",
     "evalue": "",
     "output_type": "error",
     "traceback": [
      "\u001b[0;31m---------------------------------------------------------------------------\u001b[0m",
      "\u001b[0;31mTypeError\u001b[0m                                 Traceback (most recent call last)",
      "\u001b[0;32m~/anaconda3/lib/python3.6/site-packages/urllib3/connectionpool.py\u001b[0m in \u001b[0;36m_make_request\u001b[0;34m(self, conn, method, url, timeout, chunked, **httplib_request_kw)\u001b[0m\n\u001b[1;32m    379\u001b[0m             \u001b[0;32mtry\u001b[0m\u001b[0;34m:\u001b[0m  \u001b[0;31m# Python 2.7, use buffering of HTTP responses\u001b[0m\u001b[0;34m\u001b[0m\u001b[0m\n\u001b[0;32m--> 380\u001b[0;31m                 \u001b[0mhttplib_response\u001b[0m \u001b[0;34m=\u001b[0m \u001b[0mconn\u001b[0m\u001b[0;34m.\u001b[0m\u001b[0mgetresponse\u001b[0m\u001b[0;34m(\u001b[0m\u001b[0mbuffering\u001b[0m\u001b[0;34m=\u001b[0m\u001b[0;32mTrue\u001b[0m\u001b[0;34m)\u001b[0m\u001b[0;34m\u001b[0m\u001b[0m\n\u001b[0m\u001b[1;32m    381\u001b[0m             \u001b[0;32mexcept\u001b[0m \u001b[0mTypeError\u001b[0m\u001b[0;34m:\u001b[0m  \u001b[0;31m# Python 2.6 and older, Python 3\u001b[0m\u001b[0;34m\u001b[0m\u001b[0m\n",
      "\u001b[0;31mTypeError\u001b[0m: getresponse() got an unexpected keyword argument 'buffering'",
      "\nDuring handling of the above exception, another exception occurred:\n",
      "\u001b[0;31mKeyboardInterrupt\u001b[0m                         Traceback (most recent call last)",
      "\u001b[0;32m<timed exec>\u001b[0m in \u001b[0;36m<module>\u001b[0;34m()\u001b[0m\n",
      "\u001b[0;32m<ipython-input-41-6d623befc527>\u001b[0m in \u001b[0;36mhistoric_glads_weekly\u001b[0;34m(iso, adm1, threshold, start, end)\u001b[0m\n\u001b[1;32m     15\u001b[0m         \u001b[0mtest_f\u001b[0m \u001b[0;34m=\u001b[0m \u001b[0mdatetime\u001b[0m\u001b[0;34m.\u001b[0m\u001b[0misoformat\u001b[0m\u001b[0;34m(\u001b[0m\u001b[0m_tmp_date\u001b[0m\u001b[0;34m)\u001b[0m\u001b[0;34m[\u001b[0m\u001b[0;34m:\u001b[0m\u001b[0;36m10\u001b[0m\u001b[0;34m]\u001b[0m\u001b[0;34m\u001b[0m\u001b[0m\n\u001b[1;32m     16\u001b[0m \u001b[0;34m\u001b[0m\u001b[0m\n\u001b[0;32m---> 17\u001b[0;31m         \u001b[0mdata\u001b[0m \u001b[0;34m=\u001b[0m \u001b[0mget_glads\u001b[0m\u001b[0;34m(\u001b[0m\u001b[0mstart_date\u001b[0m\u001b[0;34m=\u001b[0m\u001b[0mtest_i\u001b[0m\u001b[0;34m,\u001b[0m \u001b[0mend_date\u001b[0m\u001b[0;34m=\u001b[0m\u001b[0mtest_f\u001b[0m\u001b[0;34m,\u001b[0m \u001b[0miso\u001b[0m\u001b[0;34m=\u001b[0m\u001b[0miso\u001b[0m\u001b[0;34m,\u001b[0m \u001b[0madm1\u001b[0m\u001b[0;34m=\u001b[0m\u001b[0madm1\u001b[0m\u001b[0;34m,\u001b[0m \u001b[0mthreshold\u001b[0m\u001b[0;34m=\u001b[0m\u001b[0mthreshold\u001b[0m\u001b[0;34m)\u001b[0m\u001b[0;34m\u001b[0m\u001b[0m\n\u001b[0m\u001b[1;32m     18\u001b[0m \u001b[0;34m\u001b[0m\u001b[0m\n\u001b[1;32m     19\u001b[0m         weekly.append(\n",
      "\u001b[0;32m<ipython-input-17-896c553dcc3a>\u001b[0m in \u001b[0;36mget_glads\u001b[0;34m(start_date, end_date, iso, adm1, threshold)\u001b[0m\n\u001b[1;32m      9\u001b[0m \u001b[0;34m\u001b[0m\u001b[0m\n\u001b[1;32m     10\u001b[0m     \u001b[0mproperties\u001b[0m \u001b[0;34m=\u001b[0m \u001b[0;34m{\u001b[0m\u001b[0;34m\"period\"\u001b[0m \u001b[0;34m:\u001b[0m \u001b[0mstart_date\u001b[0m \u001b[0;34m+\u001b[0m \u001b[0;34m','\u001b[0m \u001b[0;34m+\u001b[0m \u001b[0mend_date\u001b[0m\u001b[0;34m,\u001b[0m \u001b[0;34m\"thresh\"\u001b[0m \u001b[0;34m:\u001b[0m \u001b[0mthreshold\u001b[0m\u001b[0;34m}\u001b[0m\u001b[0;34m\u001b[0m\u001b[0m\n\u001b[0;32m---> 11\u001b[0;31m     \u001b[0mr\u001b[0m \u001b[0;34m=\u001b[0m \u001b[0mrequests\u001b[0m\u001b[0;34m.\u001b[0m\u001b[0mget\u001b[0m\u001b[0;34m(\u001b[0m\u001b[0murl\u001b[0m\u001b[0;34m,\u001b[0m \u001b[0mparams\u001b[0m \u001b[0;34m=\u001b[0m \u001b[0mproperties\u001b[0m\u001b[0;34m)\u001b[0m\u001b[0;34m\u001b[0m\u001b[0m\n\u001b[0m\u001b[1;32m     12\u001b[0m \u001b[0;34m\u001b[0m\u001b[0m\n\u001b[1;32m     13\u001b[0m     \u001b[0mdata\u001b[0m \u001b[0;34m=\u001b[0m \u001b[0mr\u001b[0m\u001b[0;34m.\u001b[0m\u001b[0mjson\u001b[0m\u001b[0;34m(\u001b[0m\u001b[0;34m)\u001b[0m\u001b[0;34m.\u001b[0m\u001b[0mget\u001b[0m\u001b[0;34m(\u001b[0m\u001b[0;34m'data'\u001b[0m\u001b[0;34m)\u001b[0m\u001b[0;34m\u001b[0m\u001b[0m\n",
      "\u001b[0;32m~/anaconda3/lib/python3.6/site-packages/requests/api.py\u001b[0m in \u001b[0;36mget\u001b[0;34m(url, params, **kwargs)\u001b[0m\n\u001b[1;32m     70\u001b[0m \u001b[0;34m\u001b[0m\u001b[0m\n\u001b[1;32m     71\u001b[0m     \u001b[0mkwargs\u001b[0m\u001b[0;34m.\u001b[0m\u001b[0msetdefault\u001b[0m\u001b[0;34m(\u001b[0m\u001b[0;34m'allow_redirects'\u001b[0m\u001b[0;34m,\u001b[0m \u001b[0;32mTrue\u001b[0m\u001b[0;34m)\u001b[0m\u001b[0;34m\u001b[0m\u001b[0m\n\u001b[0;32m---> 72\u001b[0;31m     \u001b[0;32mreturn\u001b[0m \u001b[0mrequest\u001b[0m\u001b[0;34m(\u001b[0m\u001b[0;34m'get'\u001b[0m\u001b[0;34m,\u001b[0m \u001b[0murl\u001b[0m\u001b[0;34m,\u001b[0m \u001b[0mparams\u001b[0m\u001b[0;34m=\u001b[0m\u001b[0mparams\u001b[0m\u001b[0;34m,\u001b[0m \u001b[0;34m**\u001b[0m\u001b[0mkwargs\u001b[0m\u001b[0;34m)\u001b[0m\u001b[0;34m\u001b[0m\u001b[0m\n\u001b[0m\u001b[1;32m     73\u001b[0m \u001b[0;34m\u001b[0m\u001b[0m\n\u001b[1;32m     74\u001b[0m \u001b[0;34m\u001b[0m\u001b[0m\n",
      "\u001b[0;32m~/anaconda3/lib/python3.6/site-packages/requests/api.py\u001b[0m in \u001b[0;36mrequest\u001b[0;34m(method, url, **kwargs)\u001b[0m\n\u001b[1;32m     56\u001b[0m     \u001b[0;31m# cases, and look like a memory leak in others.\u001b[0m\u001b[0;34m\u001b[0m\u001b[0;34m\u001b[0m\u001b[0m\n\u001b[1;32m     57\u001b[0m     \u001b[0;32mwith\u001b[0m \u001b[0msessions\u001b[0m\u001b[0;34m.\u001b[0m\u001b[0mSession\u001b[0m\u001b[0;34m(\u001b[0m\u001b[0;34m)\u001b[0m \u001b[0;32mas\u001b[0m \u001b[0msession\u001b[0m\u001b[0;34m:\u001b[0m\u001b[0;34m\u001b[0m\u001b[0m\n\u001b[0;32m---> 58\u001b[0;31m         \u001b[0;32mreturn\u001b[0m \u001b[0msession\u001b[0m\u001b[0;34m.\u001b[0m\u001b[0mrequest\u001b[0m\u001b[0;34m(\u001b[0m\u001b[0mmethod\u001b[0m\u001b[0;34m=\u001b[0m\u001b[0mmethod\u001b[0m\u001b[0;34m,\u001b[0m \u001b[0murl\u001b[0m\u001b[0;34m=\u001b[0m\u001b[0murl\u001b[0m\u001b[0;34m,\u001b[0m \u001b[0;34m**\u001b[0m\u001b[0mkwargs\u001b[0m\u001b[0;34m)\u001b[0m\u001b[0;34m\u001b[0m\u001b[0m\n\u001b[0m\u001b[1;32m     59\u001b[0m \u001b[0;34m\u001b[0m\u001b[0m\n\u001b[1;32m     60\u001b[0m \u001b[0;34m\u001b[0m\u001b[0m\n",
      "\u001b[0;32m~/anaconda3/lib/python3.6/site-packages/requests_cache/core.py\u001b[0m in \u001b[0;36mrequest\u001b[0;34m(self, method, url, params, data, **kwargs)\u001b[0m\n\u001b[1;32m    124\u001b[0m             \u001b[0m_normalize_parameters\u001b[0m\u001b[0;34m(\u001b[0m\u001b[0mparams\u001b[0m\u001b[0;34m)\u001b[0m\u001b[0;34m,\u001b[0m\u001b[0;34m\u001b[0m\u001b[0m\n\u001b[1;32m    125\u001b[0m             \u001b[0m_normalize_parameters\u001b[0m\u001b[0;34m(\u001b[0m\u001b[0mdata\u001b[0m\u001b[0;34m)\u001b[0m\u001b[0;34m,\u001b[0m\u001b[0;34m\u001b[0m\u001b[0m\n\u001b[0;32m--> 126\u001b[0;31m             \u001b[0;34m**\u001b[0m\u001b[0mkwargs\u001b[0m\u001b[0;34m\u001b[0m\u001b[0m\n\u001b[0m\u001b[1;32m    127\u001b[0m         )\n\u001b[1;32m    128\u001b[0m         \u001b[0;32mif\u001b[0m \u001b[0mself\u001b[0m\u001b[0;34m.\u001b[0m\u001b[0m_is_cache_disabled\u001b[0m\u001b[0;34m:\u001b[0m\u001b[0;34m\u001b[0m\u001b[0m\n",
      "\u001b[0;32m~/anaconda3/lib/python3.6/site-packages/requests/sessions.py\u001b[0m in \u001b[0;36mrequest\u001b[0;34m(self, method, url, params, data, headers, cookies, files, auth, timeout, allow_redirects, proxies, hooks, stream, verify, cert, json)\u001b[0m\n\u001b[1;32m    506\u001b[0m         }\n\u001b[1;32m    507\u001b[0m         \u001b[0msend_kwargs\u001b[0m\u001b[0;34m.\u001b[0m\u001b[0mupdate\u001b[0m\u001b[0;34m(\u001b[0m\u001b[0msettings\u001b[0m\u001b[0;34m)\u001b[0m\u001b[0;34m\u001b[0m\u001b[0m\n\u001b[0;32m--> 508\u001b[0;31m         \u001b[0mresp\u001b[0m \u001b[0;34m=\u001b[0m \u001b[0mself\u001b[0m\u001b[0;34m.\u001b[0m\u001b[0msend\u001b[0m\u001b[0;34m(\u001b[0m\u001b[0mprep\u001b[0m\u001b[0;34m,\u001b[0m \u001b[0;34m**\u001b[0m\u001b[0msend_kwargs\u001b[0m\u001b[0;34m)\u001b[0m\u001b[0;34m\u001b[0m\u001b[0m\n\u001b[0m\u001b[1;32m    509\u001b[0m \u001b[0;34m\u001b[0m\u001b[0m\n\u001b[1;32m    510\u001b[0m         \u001b[0;32mreturn\u001b[0m \u001b[0mresp\u001b[0m\u001b[0;34m\u001b[0m\u001b[0m\n",
      "\u001b[0;32m~/anaconda3/lib/python3.6/site-packages/requests_cache/core.py\u001b[0m in \u001b[0;36msend\u001b[0;34m(self, request, **kwargs)\u001b[0m\n\u001b[1;32m     97\u001b[0m         \u001b[0mresponse\u001b[0m\u001b[0;34m,\u001b[0m \u001b[0mtimestamp\u001b[0m \u001b[0;34m=\u001b[0m \u001b[0mself\u001b[0m\u001b[0;34m.\u001b[0m\u001b[0mcache\u001b[0m\u001b[0;34m.\u001b[0m\u001b[0mget_response_and_time\u001b[0m\u001b[0;34m(\u001b[0m\u001b[0mcache_key\u001b[0m\u001b[0;34m)\u001b[0m\u001b[0;34m\u001b[0m\u001b[0m\n\u001b[1;32m     98\u001b[0m         \u001b[0;32mif\u001b[0m \u001b[0mresponse\u001b[0m \u001b[0;32mis\u001b[0m \u001b[0;32mNone\u001b[0m\u001b[0;34m:\u001b[0m\u001b[0;34m\u001b[0m\u001b[0m\n\u001b[0;32m---> 99\u001b[0;31m             \u001b[0;32mreturn\u001b[0m \u001b[0msend_request_and_cache_response\u001b[0m\u001b[0;34m(\u001b[0m\u001b[0;34m)\u001b[0m\u001b[0;34m\u001b[0m\u001b[0m\n\u001b[0m\u001b[1;32m    100\u001b[0m \u001b[0;34m\u001b[0m\u001b[0m\n\u001b[1;32m    101\u001b[0m         \u001b[0;32mif\u001b[0m \u001b[0mself\u001b[0m\u001b[0;34m.\u001b[0m\u001b[0m_cache_expire_after\u001b[0m \u001b[0;32mis\u001b[0m \u001b[0;32mnot\u001b[0m \u001b[0;32mNone\u001b[0m\u001b[0;34m:\u001b[0m\u001b[0;34m\u001b[0m\u001b[0m\n",
      "\u001b[0;32m~/anaconda3/lib/python3.6/site-packages/requests_cache/core.py\u001b[0m in \u001b[0;36msend_request_and_cache_response\u001b[0;34m()\u001b[0m\n\u001b[1;32m     89\u001b[0m \u001b[0;34m\u001b[0m\u001b[0m\n\u001b[1;32m     90\u001b[0m         \u001b[0;32mdef\u001b[0m \u001b[0msend_request_and_cache_response\u001b[0m\u001b[0;34m(\u001b[0m\u001b[0;34m)\u001b[0m\u001b[0;34m:\u001b[0m\u001b[0;34m\u001b[0m\u001b[0m\n\u001b[0;32m---> 91\u001b[0;31m             \u001b[0mresponse\u001b[0m \u001b[0;34m=\u001b[0m \u001b[0msuper\u001b[0m\u001b[0;34m(\u001b[0m\u001b[0mCachedSession\u001b[0m\u001b[0;34m,\u001b[0m \u001b[0mself\u001b[0m\u001b[0;34m)\u001b[0m\u001b[0;34m.\u001b[0m\u001b[0msend\u001b[0m\u001b[0;34m(\u001b[0m\u001b[0mrequest\u001b[0m\u001b[0;34m,\u001b[0m \u001b[0;34m**\u001b[0m\u001b[0mkwargs\u001b[0m\u001b[0;34m)\u001b[0m\u001b[0;34m\u001b[0m\u001b[0m\n\u001b[0m\u001b[1;32m     92\u001b[0m             \u001b[0;32mif\u001b[0m \u001b[0mresponse\u001b[0m\u001b[0;34m.\u001b[0m\u001b[0mstatus_code\u001b[0m \u001b[0;32min\u001b[0m \u001b[0mself\u001b[0m\u001b[0;34m.\u001b[0m\u001b[0m_cache_allowable_codes\u001b[0m\u001b[0;34m:\u001b[0m\u001b[0;34m\u001b[0m\u001b[0m\n\u001b[1;32m     93\u001b[0m                 \u001b[0mself\u001b[0m\u001b[0;34m.\u001b[0m\u001b[0mcache\u001b[0m\u001b[0;34m.\u001b[0m\u001b[0msave_response\u001b[0m\u001b[0;34m(\u001b[0m\u001b[0mcache_key\u001b[0m\u001b[0;34m,\u001b[0m \u001b[0mresponse\u001b[0m\u001b[0;34m)\u001b[0m\u001b[0;34m\u001b[0m\u001b[0m\n",
      "\u001b[0;32m~/anaconda3/lib/python3.6/site-packages/requests/sessions.py\u001b[0m in \u001b[0;36msend\u001b[0;34m(self, request, **kwargs)\u001b[0m\n\u001b[1;32m    616\u001b[0m \u001b[0;34m\u001b[0m\u001b[0m\n\u001b[1;32m    617\u001b[0m         \u001b[0;31m# Send the request\u001b[0m\u001b[0;34m\u001b[0m\u001b[0;34m\u001b[0m\u001b[0m\n\u001b[0;32m--> 618\u001b[0;31m         \u001b[0mr\u001b[0m \u001b[0;34m=\u001b[0m \u001b[0madapter\u001b[0m\u001b[0;34m.\u001b[0m\u001b[0msend\u001b[0m\u001b[0;34m(\u001b[0m\u001b[0mrequest\u001b[0m\u001b[0;34m,\u001b[0m \u001b[0;34m**\u001b[0m\u001b[0mkwargs\u001b[0m\u001b[0;34m)\u001b[0m\u001b[0;34m\u001b[0m\u001b[0m\n\u001b[0m\u001b[1;32m    619\u001b[0m \u001b[0;34m\u001b[0m\u001b[0m\n\u001b[1;32m    620\u001b[0m         \u001b[0;31m# Total elapsed time of the request (approximately)\u001b[0m\u001b[0;34m\u001b[0m\u001b[0;34m\u001b[0m\u001b[0m\n",
      "\u001b[0;32m~/anaconda3/lib/python3.6/site-packages/requests/adapters.py\u001b[0m in \u001b[0;36msend\u001b[0;34m(self, request, stream, timeout, verify, cert, proxies)\u001b[0m\n\u001b[1;32m    438\u001b[0m                     \u001b[0mdecode_content\u001b[0m\u001b[0;34m=\u001b[0m\u001b[0;32mFalse\u001b[0m\u001b[0;34m,\u001b[0m\u001b[0;34m\u001b[0m\u001b[0m\n\u001b[1;32m    439\u001b[0m                     \u001b[0mretries\u001b[0m\u001b[0;34m=\u001b[0m\u001b[0mself\u001b[0m\u001b[0;34m.\u001b[0m\u001b[0mmax_retries\u001b[0m\u001b[0;34m,\u001b[0m\u001b[0;34m\u001b[0m\u001b[0m\n\u001b[0;32m--> 440\u001b[0;31m                     \u001b[0mtimeout\u001b[0m\u001b[0;34m=\u001b[0m\u001b[0mtimeout\u001b[0m\u001b[0;34m\u001b[0m\u001b[0m\n\u001b[0m\u001b[1;32m    441\u001b[0m                 )\n\u001b[1;32m    442\u001b[0m \u001b[0;34m\u001b[0m\u001b[0m\n",
      "\u001b[0;32m~/anaconda3/lib/python3.6/site-packages/urllib3/connectionpool.py\u001b[0m in \u001b[0;36murlopen\u001b[0;34m(self, method, url, body, headers, retries, redirect, assert_same_host, timeout, pool_timeout, release_conn, chunked, body_pos, **response_kw)\u001b[0m\n\u001b[1;32m    599\u001b[0m                                                   \u001b[0mtimeout\u001b[0m\u001b[0;34m=\u001b[0m\u001b[0mtimeout_obj\u001b[0m\u001b[0;34m,\u001b[0m\u001b[0;34m\u001b[0m\u001b[0m\n\u001b[1;32m    600\u001b[0m                                                   \u001b[0mbody\u001b[0m\u001b[0;34m=\u001b[0m\u001b[0mbody\u001b[0m\u001b[0;34m,\u001b[0m \u001b[0mheaders\u001b[0m\u001b[0;34m=\u001b[0m\u001b[0mheaders\u001b[0m\u001b[0;34m,\u001b[0m\u001b[0;34m\u001b[0m\u001b[0m\n\u001b[0;32m--> 601\u001b[0;31m                                                   chunked=chunked)\n\u001b[0m\u001b[1;32m    602\u001b[0m \u001b[0;34m\u001b[0m\u001b[0m\n\u001b[1;32m    603\u001b[0m             \u001b[0;31m# If we're going to release the connection in ``finally:``, then\u001b[0m\u001b[0;34m\u001b[0m\u001b[0;34m\u001b[0m\u001b[0m\n",
      "\u001b[0;32m~/anaconda3/lib/python3.6/site-packages/urllib3/connectionpool.py\u001b[0m in \u001b[0;36m_make_request\u001b[0;34m(self, conn, method, url, timeout, chunked, **httplib_request_kw)\u001b[0m\n\u001b[1;32m    381\u001b[0m             \u001b[0;32mexcept\u001b[0m \u001b[0mTypeError\u001b[0m\u001b[0;34m:\u001b[0m  \u001b[0;31m# Python 2.6 and older, Python 3\u001b[0m\u001b[0;34m\u001b[0m\u001b[0m\n\u001b[1;32m    382\u001b[0m                 \u001b[0;32mtry\u001b[0m\u001b[0;34m:\u001b[0m\u001b[0;34m\u001b[0m\u001b[0m\n\u001b[0;32m--> 383\u001b[0;31m                     \u001b[0mhttplib_response\u001b[0m \u001b[0;34m=\u001b[0m \u001b[0mconn\u001b[0m\u001b[0;34m.\u001b[0m\u001b[0mgetresponse\u001b[0m\u001b[0;34m(\u001b[0m\u001b[0;34m)\u001b[0m\u001b[0;34m\u001b[0m\u001b[0m\n\u001b[0m\u001b[1;32m    384\u001b[0m                 \u001b[0;32mexcept\u001b[0m \u001b[0mException\u001b[0m \u001b[0;32mas\u001b[0m \u001b[0me\u001b[0m\u001b[0;34m:\u001b[0m\u001b[0;34m\u001b[0m\u001b[0m\n\u001b[1;32m    385\u001b[0m                     \u001b[0;31m# Remove the TypeError from the exception chain in Python 3;\u001b[0m\u001b[0;34m\u001b[0m\u001b[0;34m\u001b[0m\u001b[0m\n",
      "\u001b[0;32m~/anaconda3/lib/python3.6/http/client.py\u001b[0m in \u001b[0;36mgetresponse\u001b[0;34m(self)\u001b[0m\n\u001b[1;32m   1329\u001b[0m         \u001b[0;32mtry\u001b[0m\u001b[0;34m:\u001b[0m\u001b[0;34m\u001b[0m\u001b[0m\n\u001b[1;32m   1330\u001b[0m             \u001b[0;32mtry\u001b[0m\u001b[0;34m:\u001b[0m\u001b[0;34m\u001b[0m\u001b[0m\n\u001b[0;32m-> 1331\u001b[0;31m                 \u001b[0mresponse\u001b[0m\u001b[0;34m.\u001b[0m\u001b[0mbegin\u001b[0m\u001b[0;34m(\u001b[0m\u001b[0;34m)\u001b[0m\u001b[0;34m\u001b[0m\u001b[0m\n\u001b[0m\u001b[1;32m   1332\u001b[0m             \u001b[0;32mexcept\u001b[0m \u001b[0mConnectionError\u001b[0m\u001b[0;34m:\u001b[0m\u001b[0;34m\u001b[0m\u001b[0m\n\u001b[1;32m   1333\u001b[0m                 \u001b[0mself\u001b[0m\u001b[0;34m.\u001b[0m\u001b[0mclose\u001b[0m\u001b[0;34m(\u001b[0m\u001b[0;34m)\u001b[0m\u001b[0;34m\u001b[0m\u001b[0m\n",
      "\u001b[0;32m~/anaconda3/lib/python3.6/http/client.py\u001b[0m in \u001b[0;36mbegin\u001b[0;34m(self)\u001b[0m\n\u001b[1;32m    295\u001b[0m         \u001b[0;31m# read until we get a non-100 response\u001b[0m\u001b[0;34m\u001b[0m\u001b[0;34m\u001b[0m\u001b[0m\n\u001b[1;32m    296\u001b[0m         \u001b[0;32mwhile\u001b[0m \u001b[0;32mTrue\u001b[0m\u001b[0;34m:\u001b[0m\u001b[0;34m\u001b[0m\u001b[0m\n\u001b[0;32m--> 297\u001b[0;31m             \u001b[0mversion\u001b[0m\u001b[0;34m,\u001b[0m \u001b[0mstatus\u001b[0m\u001b[0;34m,\u001b[0m \u001b[0mreason\u001b[0m \u001b[0;34m=\u001b[0m \u001b[0mself\u001b[0m\u001b[0;34m.\u001b[0m\u001b[0m_read_status\u001b[0m\u001b[0;34m(\u001b[0m\u001b[0;34m)\u001b[0m\u001b[0;34m\u001b[0m\u001b[0m\n\u001b[0m\u001b[1;32m    298\u001b[0m             \u001b[0;32mif\u001b[0m \u001b[0mstatus\u001b[0m \u001b[0;34m!=\u001b[0m \u001b[0mCONTINUE\u001b[0m\u001b[0;34m:\u001b[0m\u001b[0;34m\u001b[0m\u001b[0m\n\u001b[1;32m    299\u001b[0m                 \u001b[0;32mbreak\u001b[0m\u001b[0;34m\u001b[0m\u001b[0m\n",
      "\u001b[0;32m~/anaconda3/lib/python3.6/http/client.py\u001b[0m in \u001b[0;36m_read_status\u001b[0;34m(self)\u001b[0m\n\u001b[1;32m    256\u001b[0m \u001b[0;34m\u001b[0m\u001b[0m\n\u001b[1;32m    257\u001b[0m     \u001b[0;32mdef\u001b[0m \u001b[0m_read_status\u001b[0m\u001b[0;34m(\u001b[0m\u001b[0mself\u001b[0m\u001b[0;34m)\u001b[0m\u001b[0;34m:\u001b[0m\u001b[0;34m\u001b[0m\u001b[0m\n\u001b[0;32m--> 258\u001b[0;31m         \u001b[0mline\u001b[0m \u001b[0;34m=\u001b[0m \u001b[0mstr\u001b[0m\u001b[0;34m(\u001b[0m\u001b[0mself\u001b[0m\u001b[0;34m.\u001b[0m\u001b[0mfp\u001b[0m\u001b[0;34m.\u001b[0m\u001b[0mreadline\u001b[0m\u001b[0;34m(\u001b[0m\u001b[0m_MAXLINE\u001b[0m \u001b[0;34m+\u001b[0m \u001b[0;36m1\u001b[0m\u001b[0;34m)\u001b[0m\u001b[0;34m,\u001b[0m \u001b[0;34m\"iso-8859-1\"\u001b[0m\u001b[0;34m)\u001b[0m\u001b[0;34m\u001b[0m\u001b[0m\n\u001b[0m\u001b[1;32m    259\u001b[0m         \u001b[0;32mif\u001b[0m \u001b[0mlen\u001b[0m\u001b[0;34m(\u001b[0m\u001b[0mline\u001b[0m\u001b[0;34m)\u001b[0m \u001b[0;34m>\u001b[0m \u001b[0m_MAXLINE\u001b[0m\u001b[0;34m:\u001b[0m\u001b[0;34m\u001b[0m\u001b[0m\n\u001b[1;32m    260\u001b[0m             \u001b[0;32mraise\u001b[0m \u001b[0mLineTooLong\u001b[0m\u001b[0;34m(\u001b[0m\u001b[0;34m\"status line\"\u001b[0m\u001b[0;34m)\u001b[0m\u001b[0;34m\u001b[0m\u001b[0m\n",
      "\u001b[0;32m~/anaconda3/lib/python3.6/socket.py\u001b[0m in \u001b[0;36mreadinto\u001b[0;34m(self, b)\u001b[0m\n\u001b[1;32m    584\u001b[0m         \u001b[0;32mwhile\u001b[0m \u001b[0;32mTrue\u001b[0m\u001b[0;34m:\u001b[0m\u001b[0;34m\u001b[0m\u001b[0m\n\u001b[1;32m    585\u001b[0m             \u001b[0;32mtry\u001b[0m\u001b[0;34m:\u001b[0m\u001b[0;34m\u001b[0m\u001b[0m\n\u001b[0;32m--> 586\u001b[0;31m                 \u001b[0;32mreturn\u001b[0m \u001b[0mself\u001b[0m\u001b[0;34m.\u001b[0m\u001b[0m_sock\u001b[0m\u001b[0;34m.\u001b[0m\u001b[0mrecv_into\u001b[0m\u001b[0;34m(\u001b[0m\u001b[0mb\u001b[0m\u001b[0;34m)\u001b[0m\u001b[0;34m\u001b[0m\u001b[0m\n\u001b[0m\u001b[1;32m    587\u001b[0m             \u001b[0;32mexcept\u001b[0m \u001b[0mtimeout\u001b[0m\u001b[0;34m:\u001b[0m\u001b[0;34m\u001b[0m\u001b[0m\n\u001b[1;32m    588\u001b[0m                 \u001b[0mself\u001b[0m\u001b[0;34m.\u001b[0m\u001b[0m_timeout_occurred\u001b[0m \u001b[0;34m=\u001b[0m \u001b[0;32mTrue\u001b[0m\u001b[0;34m\u001b[0m\u001b[0m\n",
      "\u001b[0;32m~/anaconda3/lib/python3.6/site-packages/urllib3/contrib/pyopenssl.py\u001b[0m in \u001b[0;36mrecv_into\u001b[0;34m(self, *args, **kwargs)\u001b[0m\n\u001b[1;32m    278\u001b[0m     \u001b[0;32mdef\u001b[0m \u001b[0mrecv_into\u001b[0m\u001b[0;34m(\u001b[0m\u001b[0mself\u001b[0m\u001b[0;34m,\u001b[0m \u001b[0;34m*\u001b[0m\u001b[0margs\u001b[0m\u001b[0;34m,\u001b[0m \u001b[0;34m**\u001b[0m\u001b[0mkwargs\u001b[0m\u001b[0;34m)\u001b[0m\u001b[0;34m:\u001b[0m\u001b[0;34m\u001b[0m\u001b[0m\n\u001b[1;32m    279\u001b[0m         \u001b[0;32mtry\u001b[0m\u001b[0;34m:\u001b[0m\u001b[0;34m\u001b[0m\u001b[0m\n\u001b[0;32m--> 280\u001b[0;31m             \u001b[0;32mreturn\u001b[0m \u001b[0mself\u001b[0m\u001b[0;34m.\u001b[0m\u001b[0mconnection\u001b[0m\u001b[0;34m.\u001b[0m\u001b[0mrecv_into\u001b[0m\u001b[0;34m(\u001b[0m\u001b[0;34m*\u001b[0m\u001b[0margs\u001b[0m\u001b[0;34m,\u001b[0m \u001b[0;34m**\u001b[0m\u001b[0mkwargs\u001b[0m\u001b[0;34m)\u001b[0m\u001b[0;34m\u001b[0m\u001b[0m\n\u001b[0m\u001b[1;32m    281\u001b[0m         \u001b[0;32mexcept\u001b[0m \u001b[0mOpenSSL\u001b[0m\u001b[0;34m.\u001b[0m\u001b[0mSSL\u001b[0m\u001b[0;34m.\u001b[0m\u001b[0mSysCallError\u001b[0m \u001b[0;32mas\u001b[0m \u001b[0me\u001b[0m\u001b[0;34m:\u001b[0m\u001b[0;34m\u001b[0m\u001b[0m\n\u001b[1;32m    282\u001b[0m             \u001b[0;32mif\u001b[0m \u001b[0mself\u001b[0m\u001b[0;34m.\u001b[0m\u001b[0msuppress_ragged_eofs\u001b[0m \u001b[0;32mand\u001b[0m \u001b[0me\u001b[0m\u001b[0;34m.\u001b[0m\u001b[0margs\u001b[0m \u001b[0;34m==\u001b[0m \u001b[0;34m(\u001b[0m\u001b[0;34m-\u001b[0m\u001b[0;36m1\u001b[0m\u001b[0;34m,\u001b[0m \u001b[0;34m'Unexpected EOF'\u001b[0m\u001b[0;34m)\u001b[0m\u001b[0;34m:\u001b[0m\u001b[0;34m\u001b[0m\u001b[0m\n",
      "\u001b[0;32m~/anaconda3/lib/python3.6/site-packages/OpenSSL/SSL.py\u001b[0m in \u001b[0;36mrecv_into\u001b[0;34m(self, buffer, nbytes, flags)\u001b[0m\n\u001b[1;32m   1622\u001b[0m             \u001b[0mresult\u001b[0m \u001b[0;34m=\u001b[0m \u001b[0m_lib\u001b[0m\u001b[0;34m.\u001b[0m\u001b[0mSSL_peek\u001b[0m\u001b[0;34m(\u001b[0m\u001b[0mself\u001b[0m\u001b[0;34m.\u001b[0m\u001b[0m_ssl\u001b[0m\u001b[0;34m,\u001b[0m \u001b[0mbuf\u001b[0m\u001b[0;34m,\u001b[0m \u001b[0mnbytes\u001b[0m\u001b[0;34m)\u001b[0m\u001b[0;34m\u001b[0m\u001b[0m\n\u001b[1;32m   1623\u001b[0m         \u001b[0;32melse\u001b[0m\u001b[0;34m:\u001b[0m\u001b[0;34m\u001b[0m\u001b[0m\n\u001b[0;32m-> 1624\u001b[0;31m             \u001b[0mresult\u001b[0m \u001b[0;34m=\u001b[0m \u001b[0m_lib\u001b[0m\u001b[0;34m.\u001b[0m\u001b[0mSSL_read\u001b[0m\u001b[0;34m(\u001b[0m\u001b[0mself\u001b[0m\u001b[0;34m.\u001b[0m\u001b[0m_ssl\u001b[0m\u001b[0;34m,\u001b[0m \u001b[0mbuf\u001b[0m\u001b[0;34m,\u001b[0m \u001b[0mnbytes\u001b[0m\u001b[0;34m)\u001b[0m\u001b[0;34m\u001b[0m\u001b[0m\n\u001b[0m\u001b[1;32m   1625\u001b[0m         \u001b[0mself\u001b[0m\u001b[0;34m.\u001b[0m\u001b[0m_raise_ssl_error\u001b[0m\u001b[0;34m(\u001b[0m\u001b[0mself\u001b[0m\u001b[0;34m.\u001b[0m\u001b[0m_ssl\u001b[0m\u001b[0;34m,\u001b[0m \u001b[0mresult\u001b[0m\u001b[0;34m)\u001b[0m\u001b[0;34m\u001b[0m\u001b[0m\n\u001b[1;32m   1626\u001b[0m \u001b[0;34m\u001b[0m\u001b[0m\n",
      "\u001b[0;31mKeyboardInterrupt\u001b[0m: "
     ]
    }
   ],
   "source": [
    "%%time\n",
    "historic_data = historic_glads_weekly(iso, adm1, threshold)"
   ]
  },
  {
   "cell_type": "code",
   "execution_count": 43,
   "metadata": {},
   "outputs": [
    {
     "ename": "NameError",
     "evalue": "name 'historic_data' is not defined",
     "output_type": "error",
     "traceback": [
      "\u001b[0;31m---------------------------------------------------------------------------\u001b[0m",
      "\u001b[0;31mNameError\u001b[0m                                 Traceback (most recent call last)",
      "\u001b[0;32m<ipython-input-43-374e852bdcb9>\u001b[0m in \u001b[0;36m<module>\u001b[0;34m()\u001b[0m\n\u001b[0;32m----> 1\u001b[0;31m \u001b[0mpprint\u001b[0m\u001b[0;34m(\u001b[0m\u001b[0mhistoric_data\u001b[0m\u001b[0;34m[\u001b[0m\u001b[0;34m-\u001b[0m\u001b[0;36m6\u001b[0m\u001b[0;34m:\u001b[0m\u001b[0;34m-\u001b[0m\u001b[0;36m3\u001b[0m\u001b[0;34m]\u001b[0m\u001b[0;34m)\u001b[0m\u001b[0;34m\u001b[0m\u001b[0m\n\u001b[0m",
      "\u001b[0;31mNameError\u001b[0m: name 'historic_data' is not defined"
     ]
    }
   ],
   "source": [
    "pprint(historic_data[-6:-3])"
   ]
  },
  {
   "cell_type": "code",
   "execution_count": null,
   "metadata": {},
   "outputs": [],
   "source": [
    "max_week = len(historic_data)-1\n",
    "max_week"
   ]
  },
  {
   "cell_type": "markdown",
   "metadata": {},
   "source": [
    "### Dynamic Sentences"
   ]
  },
  {
   "cell_type": "code",
   "execution_count": null,
   "metadata": {},
   "outputs": [],
   "source": [
    "print(f\"There were {historic_data[w].get('count')} GLADS alerts reported \", end=\"\")\n",
    "print(f\"in the week starting {historic_data[week].get('start_date')}, \", end=\"\")\n",
    "\n",
    "if historic_data[week].get('count') > historic_data[week-52].get('count') and historic_data[week-52].get('count'):\n",
    "    print(f\"an increase of {historic_data[week].get('count') - historic_data[week-52].get('count')} \", end=\"\")\n",
    "else:\n",
    "    print(f\"an decrease of {historic_data[week].get('count') - historic_data[week-52].get('count')} \", end=\"\")\n",
    "    \n",
    "print(f\"over the corresponding week in {historic_data[week-52].get('start_date')[0:4]}. \", end=\"\")\n",
    "    \n",
    "    "
   ]
  },
  {
   "cell_type": "code",
   "execution_count": null,
   "metadata": {},
   "outputs": [],
   "source": [
    "print(f\"There were {historic_data[w].get('count')} GLADS alerts reported \", end=\"\")\n",
    "print(f\"in the week starting {historic_data[week].get('start_date')}, \", end=\"\")\n",
    "print(f\"compared to \", end=\"\")\n",
    "n = 1\n",
    "\n",
    "while week-(52*n) > 0:\n",
    "    if n > 1:\n",
    "        print(f\", \", end=\"\")\n",
    "    if historic_data[week-(52*n)].get('start_date')[0:4] == '2015':\n",
    "        print(f\"and \", end=\"\")\n",
    "        \n",
    "    if historic_data[week-(52*n)].get('count') > historic_data[week-(52*(n-1))].get('count'):\n",
    "        arrow = '↑'\n",
    "    elif historic_data[week-(52*n)].get('count') < historic_data[week-(52*(n-1))].get('count'):\n",
    "        arrow = '↓'\n",
    "    else:\n",
    "        arrow = '-'\n",
    "        \n",
    "    print(f\"{historic_data[week-(52*n)].get('count')}({arrow}) \", end=\"\")\n",
    "    print(f\"in {historic_data[week-(52*n)].get('start_date')[0:4]}\", end=\"\")\n",
    "    n += 1\n",
    "    \n",
    "print(f\".\", end=\"\")\n",
    "    \n",
    "### Note: (↑) indicates that current year is an increse over that year, (↓) means a decrease "
   ]
  },
  {
   "cell_type": "markdown",
   "metadata": {},
   "source": [
    "# Sigma Stats\n",
    "Need to calculate means and sigmas for target week (and +/- 2 weeks either side) in order to talk about whether a situation is statistically unusual/outlying."
   ]
  },
  {
   "cell_type": "code",
   "execution_count": null,
   "metadata": {},
   "outputs": [],
   "source": [
    "max_week = len(historic_data)-1\n",
    "max_week"
   ]
  },
  {
   "cell_type": "code",
   "execution_count": null,
   "metadata": {},
   "outputs": [],
   "source": [
    "historic_stats = []"
   ]
  },
  {
   "cell_type": "code",
   "execution_count": null,
   "metadata": {},
   "outputs": [],
   "source": [
    "n = 0\n",
    "alert_sum = 0\n",
    "\n",
    "while week-(52*n) > 0:\n",
    "    alert_sum += historic_data[week-(52*n)].get('count')\n",
    "    n +=1\n",
    "    \n",
    "alert_mean = alert_sum/n\n",
    "print(alert_mean)"
   ]
  },
  {
   "cell_type": "code",
   "execution_count": null,
   "metadata": {},
   "outputs": [],
   "source": [
    "n = 0\n",
    "alert_sqsum = 0\n",
    "\n",
    "while week-(52*n) > 0:\n",
    "    alert_sqsum += math.pow((historic_data[week-(52*n)].get('count') - alert_mean),2)\n",
    "    n +=1\n",
    "    \n",
    "alert_sigma = math.sqrt(alert_sqsum/n)\n",
    "print(alert_sigma)"
   ]
  },
  {
   "cell_type": "code",
   "execution_count": null,
   "metadata": {},
   "outputs": [],
   "source": [
    "def historical_stats(week, historic_data):\n",
    "    \n",
    "    value = historic_data[week].get('count')\n",
    "    ### Calc mean\n",
    "    n = 0\n",
    "    alert_sum = 0\n",
    "        \n",
    "    while week-(52*n) > 0:\n",
    "        alert_sum += historic_data[week-(52*n)].get('count')\n",
    "        n +=1\n",
    "    alert_mean = alert_sum/(n+1)\n",
    "    \n",
    "    ###Now calc sigma\n",
    "    n = 0\n",
    "    alert_sqsum = 0\n",
    "\n",
    "    while week-(52*n) > 0:\n",
    "        alert_sqsum += math.pow((historic_data[week-(52*n)].get('count') - alert_mean),2)\n",
    "        n +=1\n",
    "    alert_sigma = math.sqrt(alert_sqsum/(n+1))\n",
    "\n",
    "    return {'week': week, 'mean': alert_mean, 'sigma': alert_sigma, 'counts': value}\n"
   ]
  },
  {
   "cell_type": "code",
   "execution_count": null,
   "metadata": {},
   "outputs": [],
   "source": [
    "historic_stats_array = []\n",
    "week = 145\n",
    "\n",
    "for w in range(week-2, week+3):\n",
    "    _tmp_obj = historical_stats(w, historic_data)\n",
    "    historic_stats_array.append(_tmp_obj)\n",
    "    \n",
    "historic_stats_array"
   ]
  },
  {
   "cell_type": "code",
   "execution_count": null,
   "metadata": {},
   "outputs": [],
   "source": [
    "dataset = []\n",
    "derr = []\n",
    "upper = []\n",
    "lower = []\n",
    "upper2sig = []\n",
    "lower2sig = []\n",
    "\n",
    "for i in historic_stats_array:\n",
    "    dataset.append(i.get('mean'))\n",
    "    derr.append(i.get('sigma'))\n",
    "    upper.append(i.get('mean')+i.get('sigma'))\n",
    "    lower.append(i.get('mean')-i.get('sigma'))\n",
    "    upper2sig.append(i.get('mean')+ 2*(i.get('sigma')))\n",
    "    lower2sig.append(i.get('mean')- 2*(i.get('sigma')))"
   ]
  },
  {
   "cell_type": "code",
   "execution_count": null,
   "metadata": {},
   "outputs": [],
   "source": [
    "def glads_plot(ax, dataset, derr, col_key):\n",
    "    \"\"\"\n",
    "    Set the plot and properties of the figure sub-pannels.\n",
    "    \"\"\"\n",
    "    lthick=1.0\n",
    "    ax.plot(mrange, dataset, 'k--',lw=lthick)  # prev\n",
    "\n",
    "    ax.fill_between(mrange, lower, upper,\n",
    "                    color=col_key, linewidth=0.1,alpha=0.15)\n",
    "    ax.fill_between(mrange, lower2sig, upper2sig,\n",
    "                    color=col_key, linewidth=0.1,alpha=0.05)\n",
    "\n",
    "    ax.set_xticklabels(xlabs)\n",
    "    ax.set_xlim(0,5)\n",
    "    return\n",
    "\n",
    "mrange = range(0,5)\n",
    "xlabs =['w-2','w-1','w0','w+1','w+2']\n",
    "\n",
    "figBA15 = plt.figure()\n",
    "figBA15.set_size_inches(20,6)\n",
    "ax1 = figBA15.add_subplot(121)          \n",
    "\n",
    "glads_plot(ax=ax1, dataset=dataset, derr=derr, col_key='r')\n",
    "\n",
    "ax1.set_ylabel(r\"Alerts\", fontsize=11)\n",
    "ax1.set_title('GLADS Alerts')\n",
    "\n",
    "plt.show(figBA15)\n"
   ]
  },
  {
   "cell_type": "code",
   "execution_count": null,
   "metadata": {},
   "outputs": [],
   "source": [
    "i = historic_data[week-2].get('start_date')\n",
    "i"
   ]
  },
  {
   "cell_type": "code",
   "execution_count": null,
   "metadata": {},
   "outputs": [],
   "source": [
    "f = historic_data[week+3].get('start_date')\n",
    "f"
   ]
  },
  {
   "cell_type": "code",
   "execution_count": null,
   "metadata": {},
   "outputs": [],
   "source": [
    "def historic_glads_daily(start, end, iso, adm1=None, threshold=30):\n",
    "    if adm1:\n",
    "        print(f\"Collecting daily GLADS data for {adm1}, {iso} at {threshold}% tree canopy.\")\n",
    "    else:\n",
    "        print(f\"Collecting daily GLADS data for all of {iso} at {threshold}% tree canopy.\")\n",
    "    daily = []\n",
    "    test_i = start\n",
    "    test_f = start\n",
    "    day = 0\n",
    "    \n",
    "    while test_f < end:\n",
    "        \n",
    "        print(f\"{day}) starting {test_i}\")\n",
    "        _tmp_date = datetime.strptime(test_i, \"%Y-%m-%d\") + timedelta(days=1)\n",
    "        test_f = datetime.isoformat(_tmp_date)[:10]\n",
    "        \n",
    "        data = get_glads(start_date=test_i, end_date=test_f, iso=iso, adm1=adm1, threshold=threshold)\n",
    "        \n",
    "        daily.append(\n",
    "            \n",
    "            {\n",
    "                'day': day,\n",
    "                'start_date': test_i,\n",
    "                'end_date': test_f,\n",
    "                'count': data.get('count')\n",
    "            }\n",
    "        )\n",
    "        \n",
    "        day += 1\n",
    "        test_i = test_f\n",
    "        \n",
    "    return daily\n",
    "        "
   ]
  },
  {
   "cell_type": "code",
   "execution_count": null,
   "metadata": {},
   "outputs": [],
   "source": [
    "daily_glads = historic_glads_daily(start=i, end=f, iso=iso, adm1=adm1, threshold=threshold)"
   ]
  },
  {
   "cell_type": "code",
   "execution_count": null,
   "metadata": {},
   "outputs": [],
   "source": [
    "pprint(daily_glads[0:3])"
   ]
  },
  {
   "cell_type": "code",
   "execution_count": null,
   "metadata": {},
   "outputs": [],
   "source": [
    "dataset2 = []\n",
    "derr2 = []\n",
    "upper2 = []\n",
    "lower2 = []\n",
    "upper2_2sig = []\n",
    "lower2_2sig = []\n",
    "daily = []\n",
    "\n",
    "\n",
    "for i in range(0,len(daily_glads)-1):\n",
    "    daily.append(daily_glads[i].get('count'))    \n",
    "    if i%7 == 0:\n",
    "        n = int(i/7)\n",
    "    dataset2.append(dataset[n])\n",
    "    derr2.append(derr[n])\n",
    "    upper2.append(upper[n])\n",
    "    lower2.append(lower[n])\n",
    "    upper2_2sig.append(upper2sig[n])\n",
    "    lower2_2sig.append(lower2sig[n])\n"
   ]
  },
  {
   "cell_type": "code",
   "execution_count": null,
   "metadata": {},
   "outputs": [],
   "source": [
    "def glads_plot2(ax, dataset, derr, col_key):\n",
    "    \"\"\"\n",
    "    Set the plot and properties of the figure sub-pannels.\n",
    "    \"\"\"\n",
    "    lthick=1.0\n",
    "    ax.plot(mrange, dataset2, 'k--',lw=lthick)  # mean\n",
    "    ax.plot(mrange, daily, 'k-',lw=lthick)  # mean\n",
    "\n",
    "    ax.fill_between(mrange, lower2, upper2,\n",
    "                    color=col_key, linewidth=0.1,alpha=0.15)\n",
    "    ax.fill_between(mrange, lower2_2sig, upper2_2sig,\n",
    "                    color=col_key, linewidth=0.1,alpha=0.05)\n",
    "\n",
    "\n",
    "    ax.set_xlim(0,34)\n",
    "    return\n",
    "\n",
    "mrange = range(0,34)\n",
    "\n",
    "figBA15 = plt.figure()\n",
    "figBA15.set_size_inches(20,6)\n",
    "ax1 = figBA15.add_subplot(121)          \n",
    "\n",
    "glads_plot2(ax=ax1, dataset=dataset2, derr=derr2, col_key='r')\n",
    "\n",
    "ax1.set_ylabel(r\"Alerts\", fontsize=11)\n",
    "ax1.set_title('GLADS Alerts')\n",
    "\n",
    "plt.show(figBA15)\n"
   ]
  },
  {
   "cell_type": "markdown",
   "metadata": {},
   "source": [
    "### TESTING\n",
    "\n",
    "Take a single week of data and compare that week for each year (2015-2017)"
   ]
  },
  {
   "cell_type": "code",
   "execution_count": null,
   "metadata": {},
   "outputs": [],
   "source": [
    "iso = 'BRA'\n",
    "adm1 = None\n",
    "week = 145\n",
    "threshold = 0"
   ]
  },
  {
   "cell_type": "code",
   "execution_count": null,
   "metadata": {},
   "outputs": [],
   "source": [
    "i = historic_data[week-1].get('start_date')\n",
    "f = historic_data[week+0].get('start_date')\n",
    "daily_glads2017 = historic_glads_daily(start=i, end=f, iso=iso, adm1=adm1, threshold=threshold)"
   ]
  },
  {
   "cell_type": "code",
   "execution_count": null,
   "metadata": {},
   "outputs": [],
   "source": [
    "i = '2016-10-05'\n",
    "f = '2016-10-12'\n",
    "daily_glads2016 = historic_glads_daily(start=i, end=f, iso=iso, adm1=adm1, threshold=threshold)"
   ]
  },
  {
   "cell_type": "code",
   "execution_count": null,
   "metadata": {},
   "outputs": [],
   "source": [
    "i = '2015-10-05'\n",
    "f = '2015-10-12'\n",
    "daily_glads2015 = historic_glads_daily(start=i, end=f, iso=iso, adm1=adm1, threshold=threshold)"
   ]
  },
  {
   "cell_type": "code",
   "execution_count": null,
   "metadata": {},
   "outputs": [],
   "source": [
    "glads2015 = []\n",
    "glads2016 = []\n",
    "glads2017 = []\n",
    "glads_mean = []\n",
    "\n",
    "for i in range(0, len(daily_glads2015)):\n",
    "    glads2015.append(daily_glads2015[i].get('count'))\n",
    "    glads2016.append(daily_glads2016[i].get('count'))\n",
    "    glads2017.append(daily_glads2017[i].get('count'))\n",
    "    glads_mean.append((glads2015[i]+glads2016[i]+glads2017[i])/3)\n",
    "\n",
    "\n",
    "glads2015 = np.array(glads2015)\n",
    "glads2016 = np.array(glads2016)\n",
    "glads2015 = np.array(glads2015)\n",
    "glads2017 = np.array(glads2017)"
   ]
  },
  {
   "cell_type": "code",
   "execution_count": null,
   "metadata": {},
   "outputs": [],
   "source": [
    "lthick=1.0\n",
    "\n",
    "plt.plot(glads2015, 'r--',lw=lthick)  # 2015=RED\n",
    "plt.plot(glads2016, 'b--',lw=lthick)  # 2016=BLUE\n",
    "plt.plot(glads2017, 'g--',lw=lthick)  # 2017=GREEN\n",
    "plt.plot(glads_mean, 'k-',lw=lthick)  # mean=BLACK\n",
    "plt.plot(glads_mean + std, 'k--')\n",
    "plt.plot(glads_mean - std, 'k--')\n",
    "plt.plot(glads_mean + std*2, 'k--')\n",
    "plt.plot(glads_mean - std*2, 'k--')\n",
    "\n",
    "plt.show()\n"
   ]
  },
  {
   "cell_type": "code",
   "execution_count": null,
   "metadata": {},
   "outputs": [],
   "source": [
    "std = np.std([glads2015, glads2016, glads2017])"
   ]
  },
  {
   "cell_type": "code",
   "execution_count": null,
   "metadata": {},
   "outputs": [],
   "source": [
    "mean = np.mean([glads2015, glads2016, glads2017])"
   ]
  },
  {
   "cell_type": "markdown",
   "metadata": {},
   "source": [
    "# Testing Better Functions\n",
    "\n",
    "```historic_data``` for 'BRA'\n",
    "\n",
    "Use np!"
   ]
  },
  {
   "cell_type": "code",
   "execution_count": null,
   "metadata": {},
   "outputs": [],
   "source": [
    "historic_data[0:3]"
   ]
  },
  {
   "cell_type": "code",
   "execution_count": null,
   "metadata": {},
   "outputs": [],
   "source": [
    "def get_glads(start_date, end_date, iso, adm1=None, threshold=30):\n",
    "   \n",
    "    if adm1:\n",
    "#         print('Request for adm1 area')\n",
    "        url = f\"https://production-api.globalforestwatch.org/v1/glad-alerts/admin/{iso}/{adm1}\" \n",
    "    else:\n",
    "#         print('Request for adm0 area')\n",
    "        url = f\"https://production-api.globalforestwatch.org/v1/glad-alerts/admin/{iso}\" \n",
    "        \n",
    "    properties = {\"period\" : start_date + ',' + end_date, \"thresh\" : threshold}\n",
    "    r = requests.get(url, params = properties)\n",
    "    \n",
    "    data = r.json().get('data')\n",
    "#     pprint(data)\n",
    "    \n",
    "    return {\n",
    "            'areaHa': data.get('attributes').get('areaHa'),\n",
    "            'count': data.get('attributes').get('value')\n",
    "           }"
   ]
  },
  {
   "cell_type": "code",
   "execution_count": null,
   "metadata": {},
   "outputs": [],
   "source": [
    "def historic_glads(start, end, iso, adm1=None, threshold=30, t_res='d'):\n",
    "    \"\"\"Takes a start-date and end-date iso-format string, returning a the GLADS reports \n",
    "    with a defined time resolution in a Area of Interest (country, adm1)\"\"\"\n",
    "    \n",
    "    if t_res == '6m':\n",
    "        res = '6-monthly'\n",
    "        dt = timedelta(weeks=26)\n",
    "    elif t_res == '3m':\n",
    "        res = '3-monthly'\n",
    "        dt = timedelta(weeks=13)\n",
    "    elif t_res == 'w':\n",
    "        res = 'weekly'\n",
    "        dt = timedelta(days=7)\n",
    "    elif t_res == 'd':\n",
    "        res = 'daily'\n",
    "        dt = timedelta(days=1)\n",
    "    \n",
    "    if adm1:\n",
    "        print(f\"Collecting {res} GLADS data for {adm1}, {iso} at {threshold}% tree canopy.\")\n",
    "    else:\n",
    "        print(f\"Collecting {res} GLADS data for all of {iso} at {threshold}% tree canopy.\")\n",
    "        \n",
    "    \n",
    "    alerts_data = []\n",
    "    t = 0\n",
    "    \n",
    "    while start > '2015-01-01':\n",
    "               \n",
    "        i = start\n",
    "        f = start\n",
    "        tmp = []\n",
    "    \n",
    "        while f <= end:\n",
    "\n",
    "            _tmp_date = datetime.strptime(i, \"%Y-%m-%d\") + dt\n",
    "            f = datetime.isoformat(_tmp_date)[:10]\n",
    "\n",
    "            data = get_glads(start_date=i, end_date=f, iso=iso, adm1=adm1, threshold=threshold)\n",
    "            \n",
    "            tmp.append(\n",
    "\n",
    "                {\n",
    "                    'start_date': i,\n",
    "                    'count': data.get('count')\n",
    "                }\n",
    "            )\n",
    "\n",
    "            t += 1\n",
    "            i = f\n",
    "          \n",
    "        alerts_data.append(tmp)\n",
    "        _tmp_end = datetime.strptime(end, \"%Y-%m-%d\") - timedelta(days=365)\n",
    "        end = datetime.isoformat(_tmp_end)[:10]\n",
    "        _tmp_start = datetime.strptime(start, \"%Y-%m-%d\") - timedelta(days=365)\n",
    "        start = datetime.isoformat(_tmp_start)[:10]\n",
    "        \n",
    "        \n",
    "    return alerts_data\n",
    "        "
   ]
  },
  {
   "cell_type": "code",
   "execution_count": null,
   "metadata": {},
   "outputs": [],
   "source": [
    "glads_data = historic_glads(start='2017-12-01', end='2017-12-08', iso='BRA', adm1=None, threshold=0, t_res='d')"
   ]
  },
  {
   "cell_type": "code",
   "execution_count": null,
   "metadata": {},
   "outputs": [],
   "source": [
    "glads_data[2]"
   ]
  },
  {
   "cell_type": "code",
   "execution_count": null,
   "metadata": {},
   "outputs": [],
   "source": [
    "def glads_stats(data):\n",
    "    \n",
    "    mean = []\n",
    "    std_plus1 = []\n",
    "    std_minus1 = []\n",
    "    std_plus2 = []\n",
    "    std_minus2 = []\n",
    "    count = []\n",
    "    \n",
    "    for j in range(0,len(data[0])):\n",
    "        tmp_c = []\n",
    "        for i in range(0,len(data)):\n",
    "            \n",
    "            if i==0:\n",
    "                count.append(data[i][j].get('count'))\n",
    "#             print(data[i][j].get('start_date'))\n",
    "            tmp_c.append(data[i][j].get('count'))\n",
    "\n",
    "        tmp_m = np.mean(tmp_c)\n",
    "        tmp_s = np.std(tmp_c)\n",
    "        \n",
    "        mean.append(tmp_m)\n",
    "        std_plus1.append(tmp_m+tmp_s)\n",
    "        std_plus2.append(tmp_m+2*tmp_s)\n",
    "        std_minus1.append(tmp_m-tmp_s)\n",
    "        std_minus2.append(tmp_m-2*tmp_s)\n",
    "\n",
    "    return {'mean': mean,\n",
    "            '+1sigma': std_plus1,\n",
    "            '+2sigma': std_plus2,\n",
    "            '-1sigma': std_minus1,\n",
    "            '-2sigma': std_minus2,\n",
    "            'count': count}\n"
   ]
  },
  {
   "cell_type": "code",
   "execution_count": null,
   "metadata": {},
   "outputs": [],
   "source": [
    "stats = glads_stats(glads_data)"
   ]
  },
  {
   "cell_type": "code",
   "execution_count": null,
   "metadata": {},
   "outputs": [],
   "source": [
    "def glads_plot(stats):\n",
    "    \n",
    "    lthick=1.0\n",
    "\n",
    "    plt.plot(stats.get('count'), 'r-')  # 2015=RED\n",
    "    plt.plot(stats.get('mean'), 'k-',lw=lthick)  # mean=BLACK\n",
    "    plt.plot(stats.get('-1sigma'), 'k--',lw=lthick)  # mean=BLACK\n",
    "    plt.plot(stats.get('+1sigma'), 'k--',lw=lthick)  # mean=BLACK\n",
    "    plt.plot(stats.get('-2sigma'), 'k--',lw=lthick)  # mean=BLACK\n",
    "    plt.plot(stats.get('+2sigma'), 'k--',lw=lthick)  # mean=BLACK\n",
    "\n",
    "    return plt.show()\n",
    "\n"
   ]
  },
  {
   "cell_type": "code",
   "execution_count": null,
   "metadata": {},
   "outputs": [],
   "source": [
    "glads_plot(stats)"
   ]
  },
  {
   "cell_type": "code",
   "execution_count": null,
   "metadata": {
    "scrolled": true
   },
   "outputs": [],
   "source": [
    "glads_data = historic_glads(start='2017-07-01', end='2017-07-08', iso='BRA', adm1=None, threshold=0, t_res='d')"
   ]
  },
  {
   "cell_type": "code",
   "execution_count": null,
   "metadata": {},
   "outputs": [],
   "source": [
    "stats = glads_stats(glads_data)"
   ]
  },
  {
   "cell_type": "code",
   "execution_count": null,
   "metadata": {},
   "outputs": [],
   "source": [
    "glads_plot(stats)"
   ]
  },
  {
   "cell_type": "code",
   "execution_count": null,
   "metadata": {
    "scrolled": true
   },
   "outputs": [],
   "source": [
    "glads_data = historic_glads(start='2017-02-01', end='2017-02-08', iso='BRA', adm1=None, threshold=0, t_res='d')"
   ]
  },
  {
   "cell_type": "code",
   "execution_count": null,
   "metadata": {},
   "outputs": [],
   "source": [
    "stats = glads_stats(glads_data)"
   ]
  },
  {
   "cell_type": "code",
   "execution_count": null,
   "metadata": {},
   "outputs": [],
   "source": [
    "glads_plot(stats)"
   ]
  },
  {
   "cell_type": "code",
   "execution_count": null,
   "metadata": {},
   "outputs": [],
   "source": []
  },
  {
   "cell_type": "code",
   "execution_count": null,
   "metadata": {},
   "outputs": [],
   "source": []
  },
  {
   "cell_type": "code",
   "execution_count": null,
   "metadata": {
    "scrolled": false
   },
   "outputs": [],
   "source": [
    "glads_data = historic_glads(start='2017-07-04', end='2017-12-04', iso='BRA', adm1=None, threshold=0, t_res='w')"
   ]
  },
  {
   "cell_type": "code",
   "execution_count": null,
   "metadata": {},
   "outputs": [],
   "source": [
    "stats = glads_stats(glads_data)"
   ]
  },
  {
   "cell_type": "code",
   "execution_count": null,
   "metadata": {},
   "outputs": [],
   "source": [
    "glads_plot(stats)"
   ]
  },
  {
   "cell_type": "code",
   "execution_count": null,
   "metadata": {},
   "outputs": [],
   "source": []
  },
  {
   "cell_type": "code",
   "execution_count": null,
   "metadata": {
    "scrolled": false
   },
   "outputs": [],
   "source": [
    "glads_data = historic_glads(start='2017-01-04', end='2017-12-04', iso='BRA', adm1=None, threshold=0, t_res='w')"
   ]
  },
  {
   "cell_type": "code",
   "execution_count": null,
   "metadata": {},
   "outputs": [],
   "source": [
    "stats = glads_stats(glads_data)"
   ]
  },
  {
   "cell_type": "code",
   "execution_count": null,
   "metadata": {},
   "outputs": [],
   "source": [
    "glads_plot(stats)"
   ]
  },
  {
   "cell_type": "code",
   "execution_count": null,
   "metadata": {},
   "outputs": [],
   "source": [
    "iso = 'BRA'\n",
    "admin1 = 1\n",
    "admin2 = 1\n",
    "geo_url =f'https://api.resourcewatch.org/v1/geostore/admin/{iso}/{admin1}/{admin2}'\n",
    "\n",
    "r = requests.get(geo_url)"
   ]
  },
  {
   "cell_type": "code",
   "execution_count": null,
   "metadata": {},
   "outputs": [],
   "source": [
    "r.status_code"
   ]
  },
  {
   "cell_type": "code",
   "execution_count": null,
   "metadata": {},
   "outputs": [],
   "source": [
    "r.json().get('data',None).get('id', None)"
   ]
  },
  {
   "cell_type": "code",
   "execution_count": null,
   "metadata": {},
   "outputs": [],
   "source": []
  },
  {
   "cell_type": "markdown",
   "metadata": {},
   "source": [
    "### Weekly Alerts \n",
    "\n",
    "We should get Alerts over several time periods are a range of different temporal resolutions.\n",
    "We need to calculate:\n",
    "\n",
    "1. Last date in the returned data (and convert it to a real date)\n",
    "1. depending on a variable time selection (e.g. past week, past 3 weeks, past 3 months, past 6 months) select back in time (including a leading period to use as a smooth)\n",
    "1. select the same time window for all previous years, and composite/stack the time together\n",
    "1. create a boxcar smooth mean to use as the center of the certainty range\n",
    "1. calculate a single standard deviation for the whole period (which should be the average standard deviation of all the individual time-point standard deviations)\n",
    "1. test plot, floor the sigma range at 0"
   ]
  },
  {
   "cell_type": "code",
   "execution_count": 120,
   "metadata": {},
   "outputs": [
    {
     "name": "stdout",
     "output_type": "stream",
     "text": [
      "CPU times: user 5.15 ms, sys: 2.8 ms, total: 7.95 ms\n",
      "Wall time: 9.02 ms\n"
     ]
    }
   ],
   "source": [
    "%%time\n",
    "iso = 'PER'\n",
    "adm1 = 1\n",
    "adm2 = 1\n",
    "url = f'https://production-api.globalforestwatch.org/glad-alerts/admin/{iso}?aggregate_values=true&aggregate_by=day'\n",
    "\n",
    "r = requests.get(url)\n",
    "r.url"
   ]
  },
  {
   "cell_type": "code",
   "execution_count": 121,
   "metadata": {},
   "outputs": [
    {
     "data": {
      "text/html": [
       "<div>\n",
       "<style scoped>\n",
       "    .dataframe tbody tr th:only-of-type {\n",
       "        vertical-align: middle;\n",
       "    }\n",
       "\n",
       "    .dataframe tbody tr th {\n",
       "        vertical-align: top;\n",
       "    }\n",
       "\n",
       "    .dataframe thead th {\n",
       "        text-align: right;\n",
       "    }\n",
       "</style>\n",
       "<table border=\"1\" class=\"dataframe\">\n",
       "  <thead>\n",
       "    <tr style=\"text-align: right;\">\n",
       "      <th></th>\n",
       "      <th>year</th>\n",
       "      <th>month</th>\n",
       "      <th>week</th>\n",
       "      <th>count</th>\n",
       "      <th>julian_day</th>\n",
       "    </tr>\n",
       "  </thead>\n",
       "  <tbody>\n",
       "    <tr>\n",
       "      <th>0</th>\n",
       "      <td>2015</td>\n",
       "      <td>None</td>\n",
       "      <td>None</td>\n",
       "      <td>8</td>\n",
       "      <td>1</td>\n",
       "    </tr>\n",
       "    <tr>\n",
       "      <th>1</th>\n",
       "      <td>2015</td>\n",
       "      <td>None</td>\n",
       "      <td>None</td>\n",
       "      <td>43</td>\n",
       "      <td>2</td>\n",
       "    </tr>\n",
       "    <tr>\n",
       "      <th>2</th>\n",
       "      <td>2015</td>\n",
       "      <td>None</td>\n",
       "      <td>None</td>\n",
       "      <td>2</td>\n",
       "      <td>8</td>\n",
       "    </tr>\n",
       "    <tr>\n",
       "      <th>3</th>\n",
       "      <td>2015</td>\n",
       "      <td>None</td>\n",
       "      <td>None</td>\n",
       "      <td>29</td>\n",
       "      <td>9</td>\n",
       "    </tr>\n",
       "    <tr>\n",
       "      <th>4</th>\n",
       "      <td>2015</td>\n",
       "      <td>None</td>\n",
       "      <td>None</td>\n",
       "      <td>105</td>\n",
       "      <td>10</td>\n",
       "    </tr>\n",
       "  </tbody>\n",
       "</table>\n",
       "</div>"
      ],
      "text/plain": [
       "   year month  week  count  julian_day\n",
       "0  2015  None  None      8           1\n",
       "1  2015  None  None     43           2\n",
       "2  2015  None  None      2           8\n",
       "3  2015  None  None     29           9\n",
       "4  2015  None  None    105          10"
      ]
     },
     "execution_count": 121,
     "metadata": {},
     "output_type": "execute_result"
    }
   ],
   "source": [
    "\n",
    "retuned_values = r.json().get('data',None).get('attributes', None).get('value', None)\n",
    "\n",
    "tmp_list = []\n",
    "for row in retuned_values:\n",
    "    tmp_list.append([row.get('year', None),\n",
    "                     row.get('month', None),\n",
    "                     row.get('week', None),\n",
    "                     row.get('count', None),\n",
    "                     row.get('julian_day', None)])\n",
    "df = pd.DataFrame(tmp_list, columns=['year','month','week','count','julian_day'])\n",
    "df.head()"
   ]
  },
  {
   "cell_type": "code",
   "execution_count": 122,
   "metadata": {},
   "outputs": [
    {
     "data": {
      "text/plain": [
       "<matplotlib.axes._subplots.AxesSubplot at 0x118a20668>"
      ]
     },
     "execution_count": 122,
     "metadata": {},
     "output_type": "execute_result"
    },
    {
     "data": {
      "image/png": "[encoded data removed]",
      "text/plain": [
       "<matplotlib.figure.Figure at 0x117f2f400>"
      ]
     },
     "metadata": {},
     "output_type": "display_data"
    }
   ],
   "source": [
    "df.sort_values(['year','month', 'week','julian_day'])['count'].plot()"
   ]
  },
  {
   "cell_type": "code",
   "execution_count": 123,
   "metadata": {},
   "outputs": [
    {
     "data": {
      "text/plain": [
       "956"
      ]
     },
     "execution_count": 123,
     "metadata": {},
     "output_type": "execute_result"
    }
   ],
   "source": [
    "len(df)"
   ]
  },
  {
   "cell_type": "code",
   "execution_count": 124,
   "metadata": {},
   "outputs": [
    {
     "data": {
      "text/plain": [
       "{'alert_date': '2015-01-01', 'count': 8, 'julian_day': 1, 'year': 2015}"
      ]
     },
     "execution_count": 124,
     "metadata": {},
     "output_type": "execute_result"
    }
   ],
   "source": [
    "retuned_values[0]"
   ]
  },
  {
   "cell_type": "code",
   "execution_count": null,
   "metadata": {},
   "outputs": [],
   "source": []
  }
 ],
 "metadata": {
  "kernelspec": {
   "display_name": "Python 3",
   "language": "python",
   "name": "python3"
  },
  "language_info": {
   "codemirror_mode": {
    "name": "ipython",
    "version": 3
   },
   "file_extension": ".py",
   "mimetype": "text/x-python",
   "name": "python",
   "nbconvert_exporter": "python",
   "pygments_lexer": "ipython3",
   "version": "3.6.4"
  }
 },
 "nbformat": 4,
 "nbformat_minor": 2
}
