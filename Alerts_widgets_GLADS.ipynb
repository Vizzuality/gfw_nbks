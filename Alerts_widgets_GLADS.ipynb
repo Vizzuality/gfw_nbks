{
 "cells": [
  {
   "cell_type": "markdown",
   "metadata": {},
   "source": [
    "# GLAD Alert widgets"
   ]
  },
  {
   "cell_type": "code",
   "execution_count": 1,
   "metadata": {
    "collapsed": true
   },
   "outputs": [],
   "source": [
    "#Import Global Metadata etc\n",
    "\n",
    "%run '0.Importable_Globals.ipynb'"
   ]
  },
  {
   "cell_type": "code",
   "execution_count": 188,
   "metadata": {
    "collapsed": true
   },
   "outputs": [],
   "source": [
    "from datetime import date\n",
    "from datetime import timedelta\n",
    "import datetime\n",
    "import math\n"
   ]
  },
  {
   "cell_type": "markdown",
   "metadata": {},
   "source": [
    "### Daily/Weekly/Monthly Alerts \n",
    "\n",
    "We should get Alerts over several time periods are a range of different temporal resolutions.\n",
    "We need to calculate:\n",
    "\n",
    "1. Last date in the returned data (and convert it to a real date)\n",
    "1. depending on a variable time selection (e.g. past week, past 3 weeks, past 3 months, past 6 months) select back in time (including a leading period to use as a smooth)\n",
    "1. select the same time window for all previous years, and composite/stack the time together\n",
    "1. create a boxcar smooth mean to use as the center of the certainty range\n",
    "1. calculate a single standard deviation for the whole period (which should be the average standard deviation of all the individual time-point standard deviations)\n",
    "1. test plot, floor the sigma range at 0"
   ]
  },
  {
   "cell_type": "markdown",
   "metadata": {},
   "source": [
    "# Functions\n",
    "\n",
    "Below is a list of functions that sanitise the data for statistical analysis. See next section for implementation."
   ]
  },
  {
   "cell_type": "code",
   "execution_count": 151,
   "metadata": {
    "collapsed": true
   },
   "outputs": [],
   "source": [
    "def get_start_date(data):\n",
    "    \"\"\"Input the response data and return the most recent point in time as an object.\n",
    "    This is so we know when to start the 'window' of data\"\"\"\n",
    "    \n",
    "    last_index = len(data)-1\n",
    "\n",
    "    julian_day = data[last_index].get('julian_day', None)\n",
    "    current_week = data[last_index].get('week', None)\n",
    "    current_year = data[last_index].get('year', None)\n",
    "        \n",
    "    return {'year': current_year, 'week': current_week, 'julian_day': julian_day}"
   ]
  },
  {
   "cell_type": "code",
   "execution_count": 152,
   "metadata": {},
   "outputs": [],
   "source": [
    "def search_returned(year, week, day, response):\n",
    "    \"\"\"Compares the data in the response to expected values.\n",
    "    If data is present, it returns it. Else, it returns a count of zero.\"\"\"\n",
    "    \n",
    "    for row in response:\n",
    "        tmp_week = row.get('week', None)\n",
    "        tmp_day = row.get('julian_day', None)\n",
    "        tmp_year = row.get('year', None)\n",
    "        tmp_count = row.get('count', None)\n",
    "        if (tmp_week == week) and (tmp_year == year) and (tmp_day == day):\n",
    "            return tmp_count\n",
    "    return 0\n",
    "\n"
   ]
  },
  {
   "cell_type": "code",
   "execution_count": 153,
   "metadata": {
    "collapsed": true
   },
   "outputs": [],
   "source": [
    "def fill_zeroes(response, aggregate='week'):\n",
    "    \"\"\"The response data has gaps if there were no alerts in that week. These gaps must be\n",
    "    filled with zeroes so that the data can be smoothed correctly.\n",
    "    Data is binned (aggregated) by days or week. For now week is default.\"\"\"\n",
    "\n",
    "    data = []\n",
    "    #End year of data... it stops at the correct point\n",
    "    end_y = get_start_date(response).get('year')\n",
    "\n",
    "    #Each year has a different number of days (leap-years)\n",
    "    #and weeks in this format (no idea why!).\n",
    "    #This handle those situations...\n",
    "    for year in range(2015, end_y+1):\n",
    "        if year == 2015:\n",
    "            end_w = 53\n",
    "            end_d = 365\n",
    "        elif year == 2016:\n",
    "            end_w = 53\n",
    "            end_d = 366\n",
    "        elif year == 2017:\n",
    "            end_w = 52\n",
    "            end_d = 365\n",
    "            \n",
    "        if aggregate == 'week':\n",
    "            \n",
    "            for week in range(1, end_w+1):\n",
    "                tmp = search_returned(year=year, week=week, day=None, response=response)\n",
    "                data.append({'count': tmp, 'week': week, 'year': year})\n",
    "        \n",
    "        elif aggregate == 'day':\n",
    "            \n",
    "            for day in range(1, end_d+1):\n",
    "                tmp = search_returned(year=year, week=None, day=day, response=response)\n",
    "                data.append({'count': tmp, 'day': day, 'year': year})\n",
    "\n",
    "\n",
    "    return data"
   ]
  },
  {
   "cell_type": "code",
   "execution_count": 154,
   "metadata": {},
   "outputs": [],
   "source": [
    "def glads_queries(iso, adm1=None, adm2=None, period='week'):\n",
    "    #Period is 'week' in all applications of the widget.\n",
    "    if period in ['day','week','month']:\n",
    "        \n",
    "        if adm2:\n",
    "            print(f'Requesting adm2 alerts aggregated by {period}')\n",
    "            url = f'https://production-api.globalforestwatch.org/glad-alerts/admin/{iso}/{adm1}/{adm2}?aggregate_values=true&aggregate_by={period}'\n",
    "        elif adm1:\n",
    "            print(f'Requesting adm1 alerts aggregated by {period}')\n",
    "            url = f'https://production-api.globalforestwatch.org/glad-alerts/admin/{iso}/{adm1}?aggregate_values=true&aggregate_by={period}'\n",
    "        elif iso:\n",
    "            print(f'Requesting adm0 alerts aggregated by {period}')\n",
    "            url = f'https://production-api.globalforestwatch.org/glad-alerts/admin/{iso}?aggregate_values=true&aggregate_by={period}'\n",
    "    \n",
    "        r = requests.get(url)\n",
    "        print(r.url)\n",
    "\n",
    "        return r.json().get('data',None).get('attributes', None).get('value', None)\n",
    "    \n",
    "    else:\n",
    "        print(\"Unable to handle request\")"
   ]
  },
  {
   "cell_type": "code",
   "execution_count": 201,
   "metadata": {},
   "outputs": [],
   "source": [
    "def get_glads_data(iso=iso, adm1=adm1, adm2=adm2, aggregate='week'):\n",
    "    \"\"\"Aggregate determines the binning of data. Can be either 'day',\n",
    "    'week', or 'month'... Month is the only used setting currently.\n",
    "    Gets Data from response and then formats data.\"\"\"\n",
    "    \n",
    "    if iso_to_countries[iso] in valid_countries:\n",
    "        data = glads_queries(iso=iso, adm1=adm1, adm2=adm2, period=aggregate)\n",
    "        data = fill_zeroes(data, aggregate)\n",
    "\n",
    "        return data\n",
    "    \n",
    "    else:\n",
    "        print('Error: no glads data in this region')\n",
    "        return None\n"
   ]
  },
  {
   "cell_type": "code",
   "execution_count": 208,
   "metadata": {
    "collapsed": true
   },
   "outputs": [],
   "source": [
    "def get_glads_stats(data):\n",
    "    \"\"\"Calculates the mean number alerts and sigma on a specific week over all years.\n",
    "    Note that there is some 'wrap around' at teh start and end of the means. This is\n",
    "    to account for the edge effects of the convolution windowing.\"\"\"\n",
    "\n",
    "    counts = []\n",
    "\n",
    "    for t in range(0, len(data)):\n",
    "        counts.append(data[t].get('count'))\n",
    "\n",
    "    means = []\n",
    "    sigmas = []\n",
    "\n",
    "    #account for wrap around at begging\n",
    "    for i in range(0, 6):\n",
    "            means.append(np.mean([counts[53-5+i],counts[106-5+i]]))\n",
    "\n",
    "    for i in range(0, 52):\n",
    "            means.append(np.mean([counts[i],counts[i+53],counts[i+106]]))\n",
    "            sigmas.append(np.std([counts[i],counts[i+53],counts[i+106]]))\n",
    "            \n",
    "    #accound for wrap around at end\n",
    "    for i in range(0, 6):\n",
    "            means.append(np.mean([counts[i+53],counts[i+106]]))\n",
    "        \n",
    "    ave_std = np.mean(sigmas)\n",
    "    \n",
    "    means = convolution(means)\n",
    "    \n",
    "    return {'mean_data': means, 'sigma': ave_std}\n",
    "\n"
   ]
  },
  {
   "cell_type": "code",
   "execution_count": 203,
   "metadata": {},
   "outputs": [],
   "source": [
    "def convolution(data):\n",
    "    \"\"\"Takes a list of means data and applies a runnung-mean over it with a window of 12 weeks\n",
    "    to return a smoothed set of values. Incrementally run through the list of means and\n",
    "    calculates the mean of 12 values at a time.\"\"\"\n",
    "    \n",
    "    window = 12\n",
    "    N = len(data)\n",
    "    \n",
    "    smoothed = []\n",
    "    \n",
    "    for i in range(0, int(N-window)):\n",
    "        tmp = np.mean(data[i:i+window])\n",
    "        smoothed.append(tmp)\n",
    "        \n",
    "    return smoothed"
   ]
  },
  {
   "cell_type": "code",
   "execution_count": 157,
   "metadata": {
    "collapsed": true
   },
   "outputs": [],
   "source": [
    "def get_glads_plot(means, std, data):\n",
    "    \"\"\"This takes teh treated data and takes the previous 52 (or 53!) weeks\n",
    "    worth of counts to overplot against the statstical bounds.\"\"\"\n",
    "    \n",
    "    x_val = []\n",
    "    plt_data = []\n",
    "    for i in range(0, len(means)):\n",
    "        x_val.append(i)\n",
    "        \n",
    "        #data is the dataset we want to use (last 53 or 52 weeks)\n",
    "        plt_data.append(data[len(data)-len(means)+i].get('count'))   \n",
    "\n",
    "    lthick=1.0\n",
    "\n",
    "    plt.plot(plt_data, 'r-', color='magenta')  # week in question=RED\n",
    "    plt.plot(means, 'k-',lw=lthick)  # mean=BLACK\n",
    "    plt.plot(means+std, 'k--',lw=lthick)  # mean=BLACK\n",
    "    plt.plot(means-std, 'k--',lw=lthick)  # mean=BLACK\n",
    "    plt.plot(means+2*std, 'k--',lw=lthick)  # mean=BLACK\n",
    "    plt.plot(means-2*std, 'k--',lw=lthick)  # mean=BLACK\n",
    "\n",
    "    plt.fill_between(x_val, means-2*std, means-std, color='grey', alpha=0.05)\n",
    "    plt.fill_between(x_val, means+std, means+2*std, color='grey', alpha=0.05)\n",
    "    plt.fill_between(x_val, means-std, means+std, color='grey', alpha=0.25)\n",
    "\n",
    "    ax = plt.gca()\n",
    "\n",
    "    ax.set_ylim([0,1.05*max(max(plt_data), max(means)+2*std)])\n",
    "    ax.set_xlabel('weeks')\n",
    "    ax.set_ylabel('alert count')\n",
    "\n",
    "    plt.show()    \n",
    "    \n",
    "    \n",
    "    ### MONTH NAME (JAN, FEB etc)"
   ]
  },
  {
   "cell_type": "markdown",
   "metadata": {},
   "source": [
    "# Window vs Data\n",
    "\n",
    "The above mean +/- standard deviation lines will be requestd and calculated as standard by the front end i.e using data from all previous years, binned by week, and smoothed with a 3 month convolution-window to give year-long statistical bounds.\n",
    "\n",
    "In the above: \n",
    "\n",
    "- black = mean,\n",
    "- dark grey = 1 sigma band,\n",
    "- light grey = 2 sigma band\n",
    "\n",
    "The current years data will then be overplotted (magenta in the above graph) on a 'window' of the above statistical bands.\n",
    "\n",
    "The user can then view a 'window' of size (with data overlayed):\n",
    "\n",
    "- last 3 months (weekly data)\n",
    "- last 6 months (weekly data)\n",
    "- last year (weekly)\n",
    "\n",
    "### Process\n",
    "\n",
    "1. Get stats for whole year, calculate mean & std values\n",
    "2. Get data for window\n"
   ]
  },
  {
   "cell_type": "code",
   "execution_count": 295,
   "metadata": {
    "collapsed": true
   },
   "outputs": [],
   "source": [
    "iso = 'GAB'\n",
    "adm1 = None\n",
    "adm2 = None\n",
    "\n",
    "valid_countries = ['Brazil', 'Colombia', 'Ecuador', 'French Guiana', 'Guyana', 'Peru', 'Suriname',\n",
    "                   'Burundi', 'Cameroon', 'Central African Republic', 'Equatorial Guinea', 'Gabon',\n",
    "                   'Rwanda', 'Uganda', 'Indonesia', 'Malaysia', 'Papua New Guinea']\n",
    "\n",
    "valid_isos = ['BRA', 'COL', 'ECU', 'GUF', 'GUY', 'PER', 'SUR', 'BDI',\n",
    "             'CMR', 'CAF', 'GNQ', 'GAB', 'RWA', 'UGA', 'IDN', 'MYS',\n",
    "             'PNG', 'VEN', 'DOC', 'DOG', 'TLS']\n",
    "\n",
    "tags = ['forest_change']\n",
    "selectable_polynames = [None]\n",
    "\n",
    "#meta data slug: widget_deforestation_alert_location"
   ]
  },
  {
   "cell_type": "code",
   "execution_count": 296,
   "metadata": {},
   "outputs": [
    {
     "name": "stdout",
     "output_type": "stream",
     "text": [
      "Requesting adm0 alerts aggregated by week\n",
      "https://production-api.globalforestwatch.org/glad-alerts/admin/GAB?aggregate_values=true&aggregate_by=week\n",
      "CPU times: user 34.5 ms, sys: 15.9 ms, total: 50.4 ms\n",
      "Wall time: 3.8 s\n"
     ]
    }
   ],
   "source": [
    "%%time\n",
    "\n",
    "data = get_glads_data(iso=iso, adm1=adm1, adm2=adm2, aggregate='week')"
   ]
  },
  {
   "cell_type": "code",
   "execution_count": 297,
   "metadata": {},
   "outputs": [
    {
     "data": {
      "text/plain": [
       "[{'count': 3817, 'week': 1, 'year': 2015},\n",
       " {'count': 526, 'week': 2, 'year': 2015},\n",
       " {'count': 1651, 'week': 3, 'year': 2015},\n",
       " {'count': 1650, 'week': 4, 'year': 2015},\n",
       " {'count': 320, 'week': 5, 'year': 2015}]"
      ]
     },
     "execution_count": 297,
     "metadata": {},
     "output_type": "execute_result"
    }
   ],
   "source": [
    "data[0:5]"
   ]
  },
  {
   "cell_type": "code",
   "execution_count": 298,
   "metadata": {},
   "outputs": [],
   "source": [
    "stats = get_glads_stats(data)\n",
    "means = stats.get('mean_data')\n",
    "std = stats.get('sigma')"
   ]
  },
  {
   "cell_type": "code",
   "execution_count": 299,
   "metadata": {},
   "outputs": [
    {
     "data": {
      "image/png": "[encoded data removed]",
      "text/plain": [
       "<matplotlib.figure.Figure at 0x112594240>"
      ]
     },
     "metadata": {},
     "output_type": "display_data"
    }
   ],
   "source": [
    "get_glads_plot(means, std, data)"
   ]
  },
  {
   "cell_type": "markdown",
   "metadata": {},
   "source": [
    "# Dynamic Sentences\n"
   ]
  },
  {
   "cell_type": "code",
   "execution_count": 300,
   "metadata": {},
   "outputs": [
    {
     "name": "stdout",
     "output_type": "stream",
     "text": [
      "28045 2697 2763\n"
     ]
    }
   ],
   "source": [
    "#Get most recent data and compare against statistical likelyhood.\n",
    "\n",
    "recent_counts = data[-1].get('count')\n",
    "mean = means[-1]\n",
    "\n",
    "print(recent_counts, int(mean), int(std))"
   ]
  },
  {
   "cell_type": "code",
   "execution_count": 301,
   "metadata": {},
   "outputs": [],
   "source": [
    "yyyy = data[-1].get('year')\n",
    "w = data[-1].get('week')"
   ]
  },
  {
   "cell_type": "code",
   "execution_count": 302,
   "metadata": {},
   "outputs": [
    {
     "name": "stdout",
     "output_type": "stream",
     "text": [
      "2017-12-25\n"
     ]
    }
   ],
   "source": [
    "d = str(yyyy) + '-' + 'W' + str(w)\n",
    "date = str(datetime.datetime.strptime(d + '-1', \"%Y-W%W-%w\"))[:10]\n",
    "print(date)"
   ]
  },
  {
   "cell_type": "code",
   "execution_count": 303,
   "metadata": {
    "collapsed": true
   },
   "outputs": [],
   "source": [
    "import colorama\n",
    "from colorama import Fore\n"
   ]
  },
  {
   "cell_type": "code",
   "execution_count": 305,
   "metadata": {},
   "outputs": [
    {
     "name": "stdout",
     "output_type": "stream",
     "text": [
      "There were 28045 GLADS alerts reported in the week of the '2017-12-25', \u001b[35munusually high \u001b[39mcompared to the same week in previous years."
     ]
    }
   ],
   "source": [
    "print(f\"There were {recent_counts} GLADS alerts reported \", end=\"\")\n",
    "print(f\"in the week of the '{date}', \", end=\"\")\n",
    "\n",
    "if (recent_counts > mean-std) and (recent_counts <= mean+std):\n",
    "    print(f\"which is \", end=\"\")\n",
    "    print(Fore.MAGENTA + f\"similar \", end=\"\")\n",
    "    print(Fore.RESET + f\"to the same week in previous years.\", end=\"\")\n",
    "elif (recent_counts > mean+std) and (recent_counts <= mean+2*std):\n",
    "    print(Fore.MAGENTA + f\"higher \", end=\"\")\n",
    "    print(Fore.RESET + f\"than the same week in previous years.\", end=\"\")    \n",
    "elif (recent_counts > mean+2*std):\n",
    "    print(Fore.MAGENTA + f\"unusually high \", end=\"\")\n",
    "    print(Fore.RESET + f\"compared to the same week in previous years.\", end=\"\")\n",
    "elif (recent_counts < mean-std) and (recent_counts >= mean-2*std):\n",
    "    print(Fore.MAGENTA + f\"lower \", end=\"\")\n",
    "    print(Fore.RESET + f\"than the same week in previous years.\", end=\"\")    \n",
    "elif (recent_counts < mean-2*std):\n",
    "    print(f\"which is \", end=\"\")\n",
    "    print(Fore.MAGENTA + f\"unusually low \", end=\"\")\n",
    "    print(Fore.RESET + f\"compared to the same week in previous years.\", end=\"\")"
   ]
  },
  {
   "cell_type": "markdown",
   "metadata": {},
   "source": [
    "### NOTE: the date in the above should be in the format \"the 25th of December 2017\"\n",
    "\n",
    "### AND replace 'normal', 'higher/lower', and 'unusual' colour with GLADS colour palette (#D75B8E)"
   ]
  },
  {
   "cell_type": "code",
   "execution_count": null,
   "metadata": {
    "collapsed": true
   },
   "outputs": [],
   "source": []
  }
 ],
 "metadata": {
  "kernelspec": {
   "display_name": "Python 3",
   "language": "python",
   "name": "python3"
  },
  "language_info": {
   "codemirror_mode": {
    "name": "ipython",
    "version": 3
   },
   "file_extension": ".py",
   "mimetype": "text/x-python",
   "name": "python",
   "nbconvert_exporter": "python",
   "pygments_lexer": "ipython3",
   "version": "3.6.2"
  }
 },
 "nbformat": 4,
 "nbformat_minor": 2
}
